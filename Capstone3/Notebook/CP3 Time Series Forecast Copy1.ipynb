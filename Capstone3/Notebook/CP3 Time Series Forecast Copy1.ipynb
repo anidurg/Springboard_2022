{
 "cells": [
  {
   "cell_type": "code",
   "execution_count": 1,
   "id": "0f38081b",
   "metadata": {},
   "outputs": [],
   "source": [
    "import pandas as pd\n",
    "import numpy as np\n",
    "import seaborn as sns\n",
    "import matplotlib.pyplot as plt\n",
    "%matplotlib inline\n",
    "import pyarrow as pa\n",
    "import pyarrow.parquet as pq\n",
    "from pylab import rcParams\n",
    "import plotly.express as px\n",
    "import plotly.graph_objects as go\n",
    "from plotly.subplots import make_subplots\n",
    "import time\n",
    "from sklearn.metrics import mean_squared_error\n",
    "from math import sqrt\n",
    "\n",
    "# Import mean_squared_error and ARIMA\n",
    "from sklearn.metrics import mean_squared_error\n",
    "from statsmodels.tsa.arima.model import ARIMA\n",
    "from statsmodels.tsa.statespace.sarimax import SARIMAX\n",
    "from pmdarima import auto_arima # for determining ARIMA orders\n",
    "\n",
    "import warnings\n",
    "warnings.filterwarnings('ignore')"
   ]
  },
  {
   "cell_type": "code",
   "execution_count": 2,
   "id": "348161aa",
   "metadata": {},
   "outputs": [],
   "source": [
    "#load dataset\n",
    "df_crimes_summary = pd.read_csv('crimes_summary.csv', parse_dates=['occurred_date_time'])"
   ]
  },
  {
   "cell_type": "code",
   "execution_count": null,
   "id": "57880ccd",
   "metadata": {},
   "outputs": [],
   "source": [
    "#this dataframe list top ten crimes which occur in the zip code 78701 under census_tract 11 which falls under council_district 9.\n",
    "#Top ten crimes are : ASSAULT BY CONTACT,ASSAULT WITH INJURY,BURGLARY OF VEHICLE,CRIMINAL MISCHIEF,DISTURBANCE - OTHER,DWI,POSS OF DRUG PARAPHERNALIA,THEFT,VIOL CITY ORDINANCE - OTHER,WARRANT ARREST NON TRAFFIC"
   ]
  },
  {
   "cell_type": "code",
   "execution_count": 3,
   "id": "88f89346",
   "metadata": {},
   "outputs": [
    {
     "data": {
      "text/html": [
       "<div>\n",
       "<style scoped>\n",
       "    .dataframe tbody tr th:only-of-type {\n",
       "        vertical-align: middle;\n",
       "    }\n",
       "\n",
       "    .dataframe tbody tr th {\n",
       "        vertical-align: top;\n",
       "    }\n",
       "\n",
       "    .dataframe thead th {\n",
       "        text-align: right;\n",
       "    }\n",
       "</style>\n",
       "<table border=\"1\" class=\"dataframe\">\n",
       "  <thead>\n",
       "    <tr style=\"text-align: right;\">\n",
       "      <th></th>\n",
       "      <th>incident_report_number</th>\n",
       "      <th>crime_type</th>\n",
       "      <th>ucr_code</th>\n",
       "      <th>family_violence</th>\n",
       "      <th>location_type</th>\n",
       "      <th>address</th>\n",
       "      <th>zip_code</th>\n",
       "      <th>council_district</th>\n",
       "      <th>sector</th>\n",
       "      <th>district</th>\n",
       "      <th>...</th>\n",
       "      <th>clearance_status</th>\n",
       "      <th>clearance_date</th>\n",
       "      <th>occurred_date_time</th>\n",
       "      <th>reported_date_time</th>\n",
       "      <th>month</th>\n",
       "      <th>year</th>\n",
       "      <th>hour</th>\n",
       "      <th>year_month</th>\n",
       "      <th>occurred_day</th>\n",
       "      <th>cal_month</th>\n",
       "    </tr>\n",
       "  </thead>\n",
       "  <tbody>\n",
       "    <tr>\n",
       "      <th>0</th>\n",
       "      <td>20223650465</td>\n",
       "      <td>ASSAULT WITH INJURY</td>\n",
       "      <td>900</td>\n",
       "      <td>N</td>\n",
       "      <td>HWY / ROAD / ALLEY/ STREET/ SIDEWALK</td>\n",
       "      <td>700 BLOCK E 7TH ST</td>\n",
       "      <td>78701</td>\n",
       "      <td>9</td>\n",
       "      <td>GE</td>\n",
       "      <td>2</td>\n",
       "      <td>...</td>\n",
       "      <td>N</td>\n",
       "      <td>2023-01-03T00:00:00.000</td>\n",
       "      <td>2022-12-31 09:24:00</td>\n",
       "      <td>2022-12-31 09:24:00</td>\n",
       "      <td>December</td>\n",
       "      <td>2022</td>\n",
       "      <td>9</td>\n",
       "      <td>2022-12</td>\n",
       "      <td>31</td>\n",
       "      <td>12</td>\n",
       "    </tr>\n",
       "    <tr>\n",
       "      <th>1</th>\n",
       "      <td>20223650192</td>\n",
       "      <td>DWI</td>\n",
       "      <td>2100</td>\n",
       "      <td>N</td>\n",
       "      <td>HWY / ROAD / ALLEY/ STREET/ SIDEWALK</td>\n",
       "      <td>E 9TH ST / N IH 35 SVRD SB</td>\n",
       "      <td>78701</td>\n",
       "      <td>9</td>\n",
       "      <td>CH</td>\n",
       "      <td>2</td>\n",
       "      <td>...</td>\n",
       "      <td>C</td>\n",
       "      <td>2022-12-31T00:00:00.000</td>\n",
       "      <td>2022-12-31 02:39:00</td>\n",
       "      <td>2022-12-31 02:39:00</td>\n",
       "      <td>December</td>\n",
       "      <td>2022</td>\n",
       "      <td>2</td>\n",
       "      <td>2022-12</td>\n",
       "      <td>31</td>\n",
       "      <td>12</td>\n",
       "    </tr>\n",
       "    <tr>\n",
       "      <th>2</th>\n",
       "      <td>20223641477</td>\n",
       "      <td>ASSAULT BY CONTACT</td>\n",
       "      <td>902</td>\n",
       "      <td>N</td>\n",
       "      <td>HWY / ROAD / ALLEY/ STREET/ SIDEWALK</td>\n",
       "      <td>708 E 6TH ST</td>\n",
       "      <td>78701</td>\n",
       "      <td>9</td>\n",
       "      <td>GE</td>\n",
       "      <td>2</td>\n",
       "      <td>...</td>\n",
       "      <td>N</td>\n",
       "      <td>2023-01-03T00:00:00.000</td>\n",
       "      <td>2022-12-30 23:40:00</td>\n",
       "      <td>2022-12-30 23:40:00</td>\n",
       "      <td>December</td>\n",
       "      <td>2022</td>\n",
       "      <td>23</td>\n",
       "      <td>2022-12</td>\n",
       "      <td>30</td>\n",
       "      <td>12</td>\n",
       "    </tr>\n",
       "    <tr>\n",
       "      <th>3</th>\n",
       "      <td>20223641378</td>\n",
       "      <td>DISTURBANCE - OTHER</td>\n",
       "      <td>3401</td>\n",
       "      <td>N</td>\n",
       "      <td>RESTAURANT</td>\n",
       "      <td>414 E 6TH ST</td>\n",
       "      <td>78701</td>\n",
       "      <td>9</td>\n",
       "      <td>GE</td>\n",
       "      <td>2</td>\n",
       "      <td>...</td>\n",
       "      <td>NaN</td>\n",
       "      <td>NaN</td>\n",
       "      <td>2022-12-30 22:28:00</td>\n",
       "      <td>2022-12-30 23:01:00</td>\n",
       "      <td>December</td>\n",
       "      <td>2022</td>\n",
       "      <td>22</td>\n",
       "      <td>2022-12</td>\n",
       "      <td>30</td>\n",
       "      <td>12</td>\n",
       "    </tr>\n",
       "    <tr>\n",
       "      <th>4</th>\n",
       "      <td>20223640858</td>\n",
       "      <td>ASSAULT WITH INJURY</td>\n",
       "      <td>900</td>\n",
       "      <td>N</td>\n",
       "      <td>HWY / ROAD / ALLEY/ STREET/ SIDEWALK</td>\n",
       "      <td>400 E 8TH ST</td>\n",
       "      <td>78701</td>\n",
       "      <td>9</td>\n",
       "      <td>GE</td>\n",
       "      <td>1</td>\n",
       "      <td>...</td>\n",
       "      <td>N</td>\n",
       "      <td>2023-01-04T00:00:00.000</td>\n",
       "      <td>2022-12-30 15:55:00</td>\n",
       "      <td>2022-12-30 15:55:00</td>\n",
       "      <td>December</td>\n",
       "      <td>2022</td>\n",
       "      <td>15</td>\n",
       "      <td>2022-12</td>\n",
       "      <td>30</td>\n",
       "      <td>12</td>\n",
       "    </tr>\n",
       "  </tbody>\n",
       "</table>\n",
       "<p>5 rows × 27 columns</p>\n",
       "</div>"
      ],
      "text/plain": [
       "   incident_report_number           crime_type  ucr_code family_violence  \\\n",
       "0             20223650465  ASSAULT WITH INJURY       900               N   \n",
       "1             20223650192                  DWI      2100               N   \n",
       "2             20223641477   ASSAULT BY CONTACT       902               N   \n",
       "3             20223641378  DISTURBANCE - OTHER      3401               N   \n",
       "4             20223640858  ASSAULT WITH INJURY       900               N   \n",
       "\n",
       "                          location_type                     address  zip_code  \\\n",
       "0  HWY / ROAD / ALLEY/ STREET/ SIDEWALK          700 BLOCK E 7TH ST     78701   \n",
       "1  HWY / ROAD / ALLEY/ STREET/ SIDEWALK  E 9TH ST / N IH 35 SVRD SB     78701   \n",
       "2  HWY / ROAD / ALLEY/ STREET/ SIDEWALK                708 E 6TH ST     78701   \n",
       "3                            RESTAURANT                414 E 6TH ST     78701   \n",
       "4  HWY / ROAD / ALLEY/ STREET/ SIDEWALK                400 E 8TH ST     78701   \n",
       "\n",
       "   council_district sector  district  ...  clearance_status  \\\n",
       "0                 9     GE         2  ...                 N   \n",
       "1                 9     CH         2  ...                 C   \n",
       "2                 9     GE         2  ...                 N   \n",
       "3                 9     GE         2  ...               NaN   \n",
       "4                 9     GE         1  ...                 N   \n",
       "\n",
       "            clearance_date  occurred_date_time   reported_date_time     month  \\\n",
       "0  2023-01-03T00:00:00.000 2022-12-31 09:24:00  2022-12-31 09:24:00  December   \n",
       "1  2022-12-31T00:00:00.000 2022-12-31 02:39:00  2022-12-31 02:39:00  December   \n",
       "2  2023-01-03T00:00:00.000 2022-12-30 23:40:00  2022-12-30 23:40:00  December   \n",
       "3                      NaN 2022-12-30 22:28:00  2022-12-30 23:01:00  December   \n",
       "4  2023-01-04T00:00:00.000 2022-12-30 15:55:00  2022-12-30 15:55:00  December   \n",
       "\n",
       "   year hour year_month occurred_day cal_month  \n",
       "0  2022    9    2022-12           31        12  \n",
       "1  2022    2    2022-12           31        12  \n",
       "2  2022   23    2022-12           30        12  \n",
       "3  2022   22    2022-12           30        12  \n",
       "4  2022   15    2022-12           30        12  \n",
       "\n",
       "[5 rows x 27 columns]"
      ]
     },
     "execution_count": 3,
     "metadata": {},
     "output_type": "execute_result"
    }
   ],
   "source": [
    "df_crimes_summary.head()"
   ]
  },
  {
   "cell_type": "code",
   "execution_count": 5,
   "id": "6fdd1679",
   "metadata": {},
   "outputs": [],
   "source": [
    "df_crimes_types=df_crimes_summary[['occurred_date_time','crime_type','family_violence','hour','occurred_day','cal_month','year_month','year']]"
   ]
  },
  {
   "cell_type": "code",
   "execution_count": 6,
   "id": "d5ec0dd4",
   "metadata": {},
   "outputs": [
    {
     "name": "stdout",
     "output_type": "stream",
     "text": [
      "<class 'pandas.core.frame.DataFrame'>\n",
      "RangeIndex: 30680 entries, 0 to 30679\n",
      "Data columns (total 8 columns):\n",
      " #   Column              Non-Null Count  Dtype         \n",
      "---  ------              --------------  -----         \n",
      " 0   occurred_date_time  30680 non-null  datetime64[ns]\n",
      " 1   crime_type          30680 non-null  object        \n",
      " 2   family_violence     30680 non-null  object        \n",
      " 3   hour                30680 non-null  int64         \n",
      " 4   occurred_day        30680 non-null  int64         \n",
      " 5   cal_month           30680 non-null  int64         \n",
      " 6   year_month          30680 non-null  object        \n",
      " 7   year                30680 non-null  int64         \n",
      "dtypes: datetime64[ns](1), int64(4), object(3)\n",
      "memory usage: 1.9+ MB\n"
     ]
    }
   ],
   "source": [
    "df_crimes_types.info()"
   ]
  },
  {
   "cell_type": "code",
   "execution_count": 7,
   "id": "32da34bd",
   "metadata": {},
   "outputs": [],
   "source": [
    "\n",
    "df_assault = df_crimes_types.loc[(df_crimes_types['crime_type'] == 'ASSAULT WITH INJURY')]"
   ]
  },
  {
   "cell_type": "code",
   "execution_count": 8,
   "id": "0bd3fce3",
   "metadata": {},
   "outputs": [
    {
     "data": {
      "text/plain": [
       "(4260, 8)"
      ]
     },
     "execution_count": 8,
     "metadata": {},
     "output_type": "execute_result"
    }
   ],
   "source": [
    "df_assault.shape"
   ]
  },
  {
   "cell_type": "code",
   "execution_count": 9,
   "id": "40792c7f",
   "metadata": {},
   "outputs": [
    {
     "data": {
      "text/html": [
       "<div>\n",
       "<style scoped>\n",
       "    .dataframe tbody tr th:only-of-type {\n",
       "        vertical-align: middle;\n",
       "    }\n",
       "\n",
       "    .dataframe tbody tr th {\n",
       "        vertical-align: top;\n",
       "    }\n",
       "\n",
       "    .dataframe thead th {\n",
       "        text-align: right;\n",
       "    }\n",
       "</style>\n",
       "<table border=\"1\" class=\"dataframe\">\n",
       "  <thead>\n",
       "    <tr style=\"text-align: right;\">\n",
       "      <th></th>\n",
       "      <th>occurred_date_time</th>\n",
       "      <th>crime_type</th>\n",
       "      <th>family_violence</th>\n",
       "      <th>hour</th>\n",
       "      <th>occurred_day</th>\n",
       "      <th>cal_month</th>\n",
       "      <th>year_month</th>\n",
       "      <th>year</th>\n",
       "    </tr>\n",
       "  </thead>\n",
       "  <tbody>\n",
       "    <tr>\n",
       "      <th>0</th>\n",
       "      <td>2022-12-31 09:24:00</td>\n",
       "      <td>ASSAULT WITH INJURY</td>\n",
       "      <td>N</td>\n",
       "      <td>9</td>\n",
       "      <td>31</td>\n",
       "      <td>12</td>\n",
       "      <td>2022-12</td>\n",
       "      <td>2022</td>\n",
       "    </tr>\n",
       "    <tr>\n",
       "      <th>4</th>\n",
       "      <td>2022-12-30 15:55:00</td>\n",
       "      <td>ASSAULT WITH INJURY</td>\n",
       "      <td>N</td>\n",
       "      <td>15</td>\n",
       "      <td>30</td>\n",
       "      <td>12</td>\n",
       "      <td>2022-12</td>\n",
       "      <td>2022</td>\n",
       "    </tr>\n",
       "    <tr>\n",
       "      <th>7</th>\n",
       "      <td>2022-12-28 23:35:00</td>\n",
       "      <td>ASSAULT WITH INJURY</td>\n",
       "      <td>N</td>\n",
       "      <td>23</td>\n",
       "      <td>28</td>\n",
       "      <td>12</td>\n",
       "      <td>2022-12</td>\n",
       "      <td>2022</td>\n",
       "    </tr>\n",
       "    <tr>\n",
       "      <th>11</th>\n",
       "      <td>2022-12-27 22:39:00</td>\n",
       "      <td>ASSAULT WITH INJURY</td>\n",
       "      <td>N</td>\n",
       "      <td>22</td>\n",
       "      <td>27</td>\n",
       "      <td>12</td>\n",
       "      <td>2022-12</td>\n",
       "      <td>2022</td>\n",
       "    </tr>\n",
       "    <tr>\n",
       "      <th>15</th>\n",
       "      <td>2022-12-26 12:29:00</td>\n",
       "      <td>ASSAULT WITH INJURY</td>\n",
       "      <td>N</td>\n",
       "      <td>12</td>\n",
       "      <td>26</td>\n",
       "      <td>12</td>\n",
       "      <td>2022-12</td>\n",
       "      <td>2022</td>\n",
       "    </tr>\n",
       "  </tbody>\n",
       "</table>\n",
       "</div>"
      ],
      "text/plain": [
       "    occurred_date_time           crime_type family_violence  hour  \\\n",
       "0  2022-12-31 09:24:00  ASSAULT WITH INJURY               N     9   \n",
       "4  2022-12-30 15:55:00  ASSAULT WITH INJURY               N    15   \n",
       "7  2022-12-28 23:35:00  ASSAULT WITH INJURY               N    23   \n",
       "11 2022-12-27 22:39:00  ASSAULT WITH INJURY               N    22   \n",
       "15 2022-12-26 12:29:00  ASSAULT WITH INJURY               N    12   \n",
       "\n",
       "    occurred_day  cal_month year_month  year  \n",
       "0             31         12    2022-12  2022  \n",
       "4             30         12    2022-12  2022  \n",
       "7             28         12    2022-12  2022  \n",
       "11            27         12    2022-12  2022  \n",
       "15            26         12    2022-12  2022  "
      ]
     },
     "execution_count": 9,
     "metadata": {},
     "output_type": "execute_result"
    }
   ],
   "source": [
    "df_assault.head(5)"
   ]
  },
  {
   "cell_type": "markdown",
   "id": "7761b647",
   "metadata": {},
   "source": [
    "### Hourly level dataset preparation"
   ]
  },
  {
   "cell_type": "code",
   "execution_count": 11,
   "id": "7d304e18",
   "metadata": {},
   "outputs": [],
   "source": [
    "df_assault['occurred_date'] = pd.to_datetime(df_assault['occurred_date_time'], format='%Y-%m-%d').dt.floor('H')"
   ]
  },
  {
   "cell_type": "code",
   "execution_count": 12,
   "id": "2bb7d603",
   "metadata": {},
   "outputs": [
    {
     "data": {
      "text/html": [
       "<div>\n",
       "<style scoped>\n",
       "    .dataframe tbody tr th:only-of-type {\n",
       "        vertical-align: middle;\n",
       "    }\n",
       "\n",
       "    .dataframe tbody tr th {\n",
       "        vertical-align: top;\n",
       "    }\n",
       "\n",
       "    .dataframe thead th {\n",
       "        text-align: right;\n",
       "    }\n",
       "</style>\n",
       "<table border=\"1\" class=\"dataframe\">\n",
       "  <thead>\n",
       "    <tr style=\"text-align: right;\">\n",
       "      <th></th>\n",
       "      <th>occurred_date_time</th>\n",
       "      <th>crime_type</th>\n",
       "      <th>family_violence</th>\n",
       "      <th>hour</th>\n",
       "      <th>occurred_day</th>\n",
       "      <th>cal_month</th>\n",
       "      <th>year_month</th>\n",
       "      <th>year</th>\n",
       "      <th>occurred_date</th>\n",
       "    </tr>\n",
       "  </thead>\n",
       "  <tbody>\n",
       "    <tr>\n",
       "      <th>0</th>\n",
       "      <td>2022-12-31 09:24:00</td>\n",
       "      <td>ASSAULT WITH INJURY</td>\n",
       "      <td>N</td>\n",
       "      <td>9</td>\n",
       "      <td>31</td>\n",
       "      <td>12</td>\n",
       "      <td>2022-12</td>\n",
       "      <td>2022</td>\n",
       "      <td>2022-12-31 09:00:00</td>\n",
       "    </tr>\n",
       "    <tr>\n",
       "      <th>4</th>\n",
       "      <td>2022-12-30 15:55:00</td>\n",
       "      <td>ASSAULT WITH INJURY</td>\n",
       "      <td>N</td>\n",
       "      <td>15</td>\n",
       "      <td>30</td>\n",
       "      <td>12</td>\n",
       "      <td>2022-12</td>\n",
       "      <td>2022</td>\n",
       "      <td>2022-12-30 15:00:00</td>\n",
       "    </tr>\n",
       "    <tr>\n",
       "      <th>7</th>\n",
       "      <td>2022-12-28 23:35:00</td>\n",
       "      <td>ASSAULT WITH INJURY</td>\n",
       "      <td>N</td>\n",
       "      <td>23</td>\n",
       "      <td>28</td>\n",
       "      <td>12</td>\n",
       "      <td>2022-12</td>\n",
       "      <td>2022</td>\n",
       "      <td>2022-12-28 23:00:00</td>\n",
       "    </tr>\n",
       "    <tr>\n",
       "      <th>11</th>\n",
       "      <td>2022-12-27 22:39:00</td>\n",
       "      <td>ASSAULT WITH INJURY</td>\n",
       "      <td>N</td>\n",
       "      <td>22</td>\n",
       "      <td>27</td>\n",
       "      <td>12</td>\n",
       "      <td>2022-12</td>\n",
       "      <td>2022</td>\n",
       "      <td>2022-12-27 22:00:00</td>\n",
       "    </tr>\n",
       "    <tr>\n",
       "      <th>15</th>\n",
       "      <td>2022-12-26 12:29:00</td>\n",
       "      <td>ASSAULT WITH INJURY</td>\n",
       "      <td>N</td>\n",
       "      <td>12</td>\n",
       "      <td>26</td>\n",
       "      <td>12</td>\n",
       "      <td>2022-12</td>\n",
       "      <td>2022</td>\n",
       "      <td>2022-12-26 12:00:00</td>\n",
       "    </tr>\n",
       "  </tbody>\n",
       "</table>\n",
       "</div>"
      ],
      "text/plain": [
       "    occurred_date_time           crime_type family_violence  hour  \\\n",
       "0  2022-12-31 09:24:00  ASSAULT WITH INJURY               N     9   \n",
       "4  2022-12-30 15:55:00  ASSAULT WITH INJURY               N    15   \n",
       "7  2022-12-28 23:35:00  ASSAULT WITH INJURY               N    23   \n",
       "11 2022-12-27 22:39:00  ASSAULT WITH INJURY               N    22   \n",
       "15 2022-12-26 12:29:00  ASSAULT WITH INJURY               N    12   \n",
       "\n",
       "    occurred_day  cal_month year_month  year       occurred_date  \n",
       "0             31         12    2022-12  2022 2022-12-31 09:00:00  \n",
       "4             30         12    2022-12  2022 2022-12-30 15:00:00  \n",
       "7             28         12    2022-12  2022 2022-12-28 23:00:00  \n",
       "11            27         12    2022-12  2022 2022-12-27 22:00:00  \n",
       "15            26         12    2022-12  2022 2022-12-26 12:00:00  "
      ]
     },
     "execution_count": 12,
     "metadata": {},
     "output_type": "execute_result"
    }
   ],
   "source": [
    "df_assault.head()"
   ]
  },
  {
   "cell_type": "code",
   "execution_count": 14,
   "id": "dd98033f",
   "metadata": {},
   "outputs": [
    {
     "data": {
      "text/plain": [
       "occurred_date_time    datetime64[ns]\n",
       "crime_type                    object\n",
       "family_violence               object\n",
       "hour                           int64\n",
       "occurred_day                   int64\n",
       "cal_month                      int64\n",
       "year_month                    object\n",
       "year                           int64\n",
       "occurred_date         datetime64[ns]\n",
       "dtype: object"
      ]
     },
     "execution_count": 14,
     "metadata": {},
     "output_type": "execute_result"
    }
   ],
   "source": [
    "df_assault.dtypes"
   ]
  },
  {
   "cell_type": "code",
   "execution_count": 15,
   "id": "f539190d",
   "metadata": {},
   "outputs": [
    {
     "data": {
      "text/plain": [
       "array([2022, 2021, 2020, 2019, 2018, 2017, 2016, 2015, 2014, 2013],\n",
       "      dtype=int64)"
      ]
     },
     "execution_count": 15,
     "metadata": {},
     "output_type": "execute_result"
    }
   ],
   "source": [
    "df_assault.year.unique()"
   ]
  },
  {
   "cell_type": "code",
   "execution_count": 17,
   "id": "28279eee",
   "metadata": {},
   "outputs": [],
   "source": [
    "df_assault_21_22 = df_assault[df_assault.occurred_date.between('2021-01-01 00:00:00', '2022-12-31 23:00:00')]"
   ]
  },
  {
   "cell_type": "code",
   "execution_count": 18,
   "id": "df0a6c70",
   "metadata": {},
   "outputs": [
    {
     "data": {
      "text/plain": [
       "(718, 9)"
      ]
     },
     "execution_count": 18,
     "metadata": {},
     "output_type": "execute_result"
    }
   ],
   "source": [
    "df_assault_21_22.shape"
   ]
  },
  {
   "cell_type": "code",
   "execution_count": 19,
   "id": "40c6555f",
   "metadata": {},
   "outputs": [
    {
     "data": {
      "text/html": [
       "<div>\n",
       "<style scoped>\n",
       "    .dataframe tbody tr th:only-of-type {\n",
       "        vertical-align: middle;\n",
       "    }\n",
       "\n",
       "    .dataframe tbody tr th {\n",
       "        vertical-align: top;\n",
       "    }\n",
       "\n",
       "    .dataframe thead th {\n",
       "        text-align: right;\n",
       "    }\n",
       "</style>\n",
       "<table border=\"1\" class=\"dataframe\">\n",
       "  <thead>\n",
       "    <tr style=\"text-align: right;\">\n",
       "      <th></th>\n",
       "      <th>occurred_date_time</th>\n",
       "      <th>crime_type</th>\n",
       "      <th>family_violence</th>\n",
       "      <th>hour</th>\n",
       "      <th>occurred_day</th>\n",
       "      <th>cal_month</th>\n",
       "      <th>year_month</th>\n",
       "      <th>year</th>\n",
       "      <th>occurred_date</th>\n",
       "    </tr>\n",
       "  </thead>\n",
       "  <tbody>\n",
       "    <tr>\n",
       "      <th>0</th>\n",
       "      <td>2022-12-31 09:24:00</td>\n",
       "      <td>ASSAULT WITH INJURY</td>\n",
       "      <td>N</td>\n",
       "      <td>9</td>\n",
       "      <td>31</td>\n",
       "      <td>12</td>\n",
       "      <td>2022-12</td>\n",
       "      <td>2022</td>\n",
       "      <td>2022-12-31 09:00:00</td>\n",
       "    </tr>\n",
       "    <tr>\n",
       "      <th>4</th>\n",
       "      <td>2022-12-30 15:55:00</td>\n",
       "      <td>ASSAULT WITH INJURY</td>\n",
       "      <td>N</td>\n",
       "      <td>15</td>\n",
       "      <td>30</td>\n",
       "      <td>12</td>\n",
       "      <td>2022-12</td>\n",
       "      <td>2022</td>\n",
       "      <td>2022-12-30 15:00:00</td>\n",
       "    </tr>\n",
       "    <tr>\n",
       "      <th>7</th>\n",
       "      <td>2022-12-28 23:35:00</td>\n",
       "      <td>ASSAULT WITH INJURY</td>\n",
       "      <td>N</td>\n",
       "      <td>23</td>\n",
       "      <td>28</td>\n",
       "      <td>12</td>\n",
       "      <td>2022-12</td>\n",
       "      <td>2022</td>\n",
       "      <td>2022-12-28 23:00:00</td>\n",
       "    </tr>\n",
       "    <tr>\n",
       "      <th>11</th>\n",
       "      <td>2022-12-27 22:39:00</td>\n",
       "      <td>ASSAULT WITH INJURY</td>\n",
       "      <td>N</td>\n",
       "      <td>22</td>\n",
       "      <td>27</td>\n",
       "      <td>12</td>\n",
       "      <td>2022-12</td>\n",
       "      <td>2022</td>\n",
       "      <td>2022-12-27 22:00:00</td>\n",
       "    </tr>\n",
       "    <tr>\n",
       "      <th>15</th>\n",
       "      <td>2022-12-26 12:29:00</td>\n",
       "      <td>ASSAULT WITH INJURY</td>\n",
       "      <td>N</td>\n",
       "      <td>12</td>\n",
       "      <td>26</td>\n",
       "      <td>12</td>\n",
       "      <td>2022-12</td>\n",
       "      <td>2022</td>\n",
       "      <td>2022-12-26 12:00:00</td>\n",
       "    </tr>\n",
       "  </tbody>\n",
       "</table>\n",
       "</div>"
      ],
      "text/plain": [
       "    occurred_date_time           crime_type family_violence  hour  \\\n",
       "0  2022-12-31 09:24:00  ASSAULT WITH INJURY               N     9   \n",
       "4  2022-12-30 15:55:00  ASSAULT WITH INJURY               N    15   \n",
       "7  2022-12-28 23:35:00  ASSAULT WITH INJURY               N    23   \n",
       "11 2022-12-27 22:39:00  ASSAULT WITH INJURY               N    22   \n",
       "15 2022-12-26 12:29:00  ASSAULT WITH INJURY               N    12   \n",
       "\n",
       "    occurred_day  cal_month year_month  year       occurred_date  \n",
       "0             31         12    2022-12  2022 2022-12-31 09:00:00  \n",
       "4             30         12    2022-12  2022 2022-12-30 15:00:00  \n",
       "7             28         12    2022-12  2022 2022-12-28 23:00:00  \n",
       "11            27         12    2022-12  2022 2022-12-27 22:00:00  \n",
       "15            26         12    2022-12  2022 2022-12-26 12:00:00  "
      ]
     },
     "execution_count": 19,
     "metadata": {},
     "output_type": "execute_result"
    }
   ],
   "source": [
    "df_assault_21_22.head()"
   ]
  },
  {
   "cell_type": "code",
   "execution_count": 20,
   "id": "c00574e2",
   "metadata": {},
   "outputs": [],
   "source": [
    "df_assault_21_22_gp = df_assault_21_22.groupby(['occurred_date']).agg(\n",
    "    assault_count=('crime_type', 'count'),\n",
    "    \n",
    " ).reset_index()"
   ]
  },
  {
   "cell_type": "code",
   "execution_count": 21,
   "id": "d2669df1",
   "metadata": {},
   "outputs": [
    {
     "data": {
      "text/html": [
       "<div>\n",
       "<style scoped>\n",
       "    .dataframe tbody tr th:only-of-type {\n",
       "        vertical-align: middle;\n",
       "    }\n",
       "\n",
       "    .dataframe tbody tr th {\n",
       "        vertical-align: top;\n",
       "    }\n",
       "\n",
       "    .dataframe thead th {\n",
       "        text-align: right;\n",
       "    }\n",
       "</style>\n",
       "<table border=\"1\" class=\"dataframe\">\n",
       "  <thead>\n",
       "    <tr style=\"text-align: right;\">\n",
       "      <th></th>\n",
       "      <th>occurred_date</th>\n",
       "      <th>assault_count</th>\n",
       "    </tr>\n",
       "  </thead>\n",
       "  <tbody>\n",
       "    <tr>\n",
       "      <th>0</th>\n",
       "      <td>2021-01-01 04:00:00</td>\n",
       "      <td>1</td>\n",
       "    </tr>\n",
       "    <tr>\n",
       "      <th>1</th>\n",
       "      <td>2021-01-01 23:00:00</td>\n",
       "      <td>1</td>\n",
       "    </tr>\n",
       "    <tr>\n",
       "      <th>2</th>\n",
       "      <td>2021-01-05 23:00:00</td>\n",
       "      <td>1</td>\n",
       "    </tr>\n",
       "    <tr>\n",
       "      <th>3</th>\n",
       "      <td>2021-01-06 05:00:00</td>\n",
       "      <td>1</td>\n",
       "    </tr>\n",
       "    <tr>\n",
       "      <th>4</th>\n",
       "      <td>2021-01-08 00:00:00</td>\n",
       "      <td>1</td>\n",
       "    </tr>\n",
       "    <tr>\n",
       "      <th>...</th>\n",
       "      <td>...</td>\n",
       "      <td>...</td>\n",
       "    </tr>\n",
       "    <tr>\n",
       "      <th>683</th>\n",
       "      <td>2022-12-26 12:00:00</td>\n",
       "      <td>1</td>\n",
       "    </tr>\n",
       "    <tr>\n",
       "      <th>684</th>\n",
       "      <td>2022-12-27 22:00:00</td>\n",
       "      <td>1</td>\n",
       "    </tr>\n",
       "    <tr>\n",
       "      <th>685</th>\n",
       "      <td>2022-12-28 23:00:00</td>\n",
       "      <td>1</td>\n",
       "    </tr>\n",
       "    <tr>\n",
       "      <th>686</th>\n",
       "      <td>2022-12-30 15:00:00</td>\n",
       "      <td>1</td>\n",
       "    </tr>\n",
       "    <tr>\n",
       "      <th>687</th>\n",
       "      <td>2022-12-31 09:00:00</td>\n",
       "      <td>1</td>\n",
       "    </tr>\n",
       "  </tbody>\n",
       "</table>\n",
       "<p>688 rows × 2 columns</p>\n",
       "</div>"
      ],
      "text/plain": [
       "          occurred_date  assault_count\n",
       "0   2021-01-01 04:00:00              1\n",
       "1   2021-01-01 23:00:00              1\n",
       "2   2021-01-05 23:00:00              1\n",
       "3   2021-01-06 05:00:00              1\n",
       "4   2021-01-08 00:00:00              1\n",
       "..                  ...            ...\n",
       "683 2022-12-26 12:00:00              1\n",
       "684 2022-12-27 22:00:00              1\n",
       "685 2022-12-28 23:00:00              1\n",
       "686 2022-12-30 15:00:00              1\n",
       "687 2022-12-31 09:00:00              1\n",
       "\n",
       "[688 rows x 2 columns]"
      ]
     },
     "execution_count": 21,
     "metadata": {},
     "output_type": "execute_result"
    }
   ],
   "source": [
    "df_assault_21_22_gp.sort_values(by = ['occurred_date'], ascending = [True])"
   ]
  },
  {
   "cell_type": "code",
   "execution_count": 22,
   "id": "a274bea4",
   "metadata": {},
   "outputs": [
    {
     "data": {
      "text/html": [
       "<div>\n",
       "<style scoped>\n",
       "    .dataframe tbody tr th:only-of-type {\n",
       "        vertical-align: middle;\n",
       "    }\n",
       "\n",
       "    .dataframe tbody tr th {\n",
       "        vertical-align: top;\n",
       "    }\n",
       "\n",
       "    .dataframe thead th {\n",
       "        text-align: right;\n",
       "    }\n",
       "</style>\n",
       "<table border=\"1\" class=\"dataframe\">\n",
       "  <thead>\n",
       "    <tr style=\"text-align: right;\">\n",
       "      <th></th>\n",
       "      <th>assault_count</th>\n",
       "    </tr>\n",
       "  </thead>\n",
       "  <tbody>\n",
       "    <tr>\n",
       "      <th>count</th>\n",
       "      <td>688.000000</td>\n",
       "    </tr>\n",
       "    <tr>\n",
       "      <th>mean</th>\n",
       "      <td>1.043605</td>\n",
       "    </tr>\n",
       "    <tr>\n",
       "      <th>std</th>\n",
       "      <td>0.218143</td>\n",
       "    </tr>\n",
       "    <tr>\n",
       "      <th>min</th>\n",
       "      <td>1.000000</td>\n",
       "    </tr>\n",
       "    <tr>\n",
       "      <th>25%</th>\n",
       "      <td>1.000000</td>\n",
       "    </tr>\n",
       "    <tr>\n",
       "      <th>50%</th>\n",
       "      <td>1.000000</td>\n",
       "    </tr>\n",
       "    <tr>\n",
       "      <th>75%</th>\n",
       "      <td>1.000000</td>\n",
       "    </tr>\n",
       "    <tr>\n",
       "      <th>max</th>\n",
       "      <td>3.000000</td>\n",
       "    </tr>\n",
       "  </tbody>\n",
       "</table>\n",
       "</div>"
      ],
      "text/plain": [
       "       assault_count\n",
       "count     688.000000\n",
       "mean        1.043605\n",
       "std         0.218143\n",
       "min         1.000000\n",
       "25%         1.000000\n",
       "50%         1.000000\n",
       "75%         1.000000\n",
       "max         3.000000"
      ]
     },
     "execution_count": 22,
     "metadata": {},
     "output_type": "execute_result"
    }
   ],
   "source": [
    "df_assault_21_22_gp.describe()"
   ]
  },
  {
   "cell_type": "code",
   "execution_count": 25,
   "id": "a99429c9",
   "metadata": {},
   "outputs": [
    {
     "data": {
      "application/vnd.plotly.v1+json": {
       "config": {
        "plotlyServerURL": "https://plot.ly"
       },
       "data": [
        {
         "hovertemplate": "occurred_date=%{x}<br>assault_count=%{y}<extra></extra>",
         "legendgroup": "",
         "line": {
          "color": "#636efa",
          "dash": "solid"
         },
         "marker": {
          "symbol": "circle"
         },
         "mode": "lines",
         "name": "",
         "orientation": "v",
         "showlegend": false,
         "type": "scatter",
         "x": [
          "2021-01-01T04:00:00",
          "2021-01-01T23:00:00",
          "2021-01-05T23:00:00",
          "2021-01-06T05:00:00",
          "2021-01-08T00:00:00",
          "2021-01-08T21:00:00",
          "2021-01-09T01:00:00",
          "2021-01-09T09:00:00",
          "2021-01-09T18:00:00",
          "2021-01-10T12:00:00",
          "2021-01-12T11:00:00",
          "2021-01-13T22:00:00",
          "2021-01-14T17:00:00",
          "2021-01-15T02:00:00",
          "2021-01-16T02:00:00",
          "2021-01-17T05:00:00",
          "2021-01-17T22:00:00",
          "2021-01-18T14:00:00",
          "2021-01-18T21:00:00",
          "2021-01-20T16:00:00",
          "2021-01-21T09:00:00",
          "2021-01-23T03:00:00",
          "2021-01-24T02:00:00",
          "2021-01-24T12:00:00",
          "2021-01-25T11:00:00",
          "2021-01-26T12:00:00",
          "2021-01-29T01:00:00",
          "2021-01-30T01:00:00",
          "2021-01-31T19:00:00",
          "2021-02-01T07:00:00",
          "2021-02-01T10:00:00",
          "2021-02-02T23:00:00",
          "2021-02-03T15:00:00",
          "2021-02-06T20:00:00",
          "2021-02-07T01:00:00",
          "2021-02-10T18:00:00",
          "2021-02-12T08:00:00",
          "2021-02-13T22:00:00",
          "2021-02-14T02:00:00",
          "2021-02-18T09:00:00",
          "2021-02-22T02:00:00",
          "2021-02-22T14:00:00",
          "2021-02-24T18:00:00",
          "2021-02-24T21:00:00",
          "2021-02-25T08:00:00",
          "2021-02-25T16:00:00",
          "2021-02-25T21:00:00",
          "2021-02-27T15:00:00",
          "2021-02-27T17:00:00",
          "2021-02-28T03:00:00",
          "2021-03-02T09:00:00",
          "2021-03-03T03:00:00",
          "2021-03-03T21:00:00",
          "2021-03-04T22:00:00",
          "2021-03-05T10:00:00",
          "2021-03-08T01:00:00",
          "2021-03-08T05:00:00",
          "2021-03-08T08:00:00",
          "2021-03-12T01:00:00",
          "2021-03-12T20:00:00",
          "2021-03-14T20:00:00",
          "2021-03-15T00:00:00",
          "2021-03-17T21:00:00",
          "2021-03-20T18:00:00",
          "2021-03-21T01:00:00",
          "2021-03-21T04:00:00",
          "2021-03-21T22:00:00",
          "2021-03-23T18:00:00",
          "2021-03-24T01:00:00",
          "2021-03-24T12:00:00",
          "2021-03-25T12:00:00",
          "2021-03-25T19:00:00",
          "2021-03-27T00:00:00",
          "2021-03-27T01:00:00",
          "2021-03-27T09:00:00",
          "2021-03-27T12:00:00",
          "2021-03-27T19:00:00",
          "2021-03-27T20:00:00",
          "2021-03-27T21:00:00",
          "2021-03-27T22:00:00",
          "2021-03-28T00:00:00",
          "2021-03-28T02:00:00",
          "2021-03-29T21:00:00",
          "2021-03-31T21:00:00",
          "2021-04-01T20:00:00",
          "2021-04-02T02:00:00",
          "2021-04-02T19:00:00",
          "2021-04-03T01:00:00",
          "2021-04-03T02:00:00",
          "2021-04-04T16:00:00",
          "2021-04-07T09:00:00",
          "2021-04-07T19:00:00",
          "2021-04-11T02:00:00",
          "2021-04-16T00:00:00",
          "2021-04-17T02:00:00",
          "2021-04-17T23:00:00",
          "2021-04-18T12:00:00",
          "2021-04-19T00:00:00",
          "2021-04-23T11:00:00",
          "2021-04-23T19:00:00",
          "2021-04-24T06:00:00",
          "2021-04-26T01:00:00",
          "2021-04-26T14:00:00",
          "2021-04-27T12:00:00",
          "2021-04-28T18:00:00",
          "2021-04-29T12:00:00",
          "2021-04-30T02:00:00",
          "2021-05-02T01:00:00",
          "2021-05-02T19:00:00",
          "2021-05-03T00:00:00",
          "2021-05-04T09:00:00",
          "2021-05-05T17:00:00",
          "2021-05-06T01:00:00",
          "2021-05-06T02:00:00",
          "2021-05-07T09:00:00",
          "2021-05-08T00:00:00",
          "2021-05-08T01:00:00",
          "2021-05-08T03:00:00",
          "2021-05-09T01:00:00",
          "2021-05-09T14:00:00",
          "2021-05-13T01:00:00",
          "2021-05-13T02:00:00",
          "2021-05-13T14:00:00",
          "2021-05-13T20:00:00",
          "2021-05-14T23:00:00",
          "2021-05-15T02:00:00",
          "2021-05-15T03:00:00",
          "2021-05-16T00:00:00",
          "2021-05-16T18:00:00",
          "2021-05-17T02:00:00",
          "2021-05-18T01:00:00",
          "2021-05-18T13:00:00",
          "2021-05-18T19:00:00",
          "2021-05-22T02:00:00",
          "2021-05-22T18:00:00",
          "2021-05-22T23:00:00",
          "2021-05-23T08:00:00",
          "2021-05-27T07:00:00",
          "2021-05-29T00:00:00",
          "2021-05-29T02:00:00",
          "2021-05-29T04:00:00",
          "2021-05-29T09:00:00",
          "2021-05-30T00:00:00",
          "2021-05-30T03:00:00",
          "2021-05-30T22:00:00",
          "2021-05-31T01:00:00",
          "2021-06-04T03:00:00",
          "2021-06-04T05:00:00",
          "2021-06-04T09:00:00",
          "2021-06-05T02:00:00",
          "2021-06-06T00:00:00",
          "2021-06-06T01:00:00",
          "2021-06-06T17:00:00",
          "2021-06-07T07:00:00",
          "2021-06-08T00:00:00",
          "2021-06-10T19:00:00",
          "2021-06-10T23:00:00",
          "2021-06-12T01:00:00",
          "2021-06-13T01:00:00",
          "2021-06-13T13:00:00",
          "2021-06-16T01:00:00",
          "2021-06-19T02:00:00",
          "2021-06-20T22:00:00",
          "2021-06-21T00:00:00",
          "2021-06-22T01:00:00",
          "2021-06-22T21:00:00",
          "2021-06-24T23:00:00",
          "2021-06-26T19:00:00",
          "2021-06-26T22:00:00",
          "2021-06-27T02:00:00",
          "2021-07-01T02:00:00",
          "2021-07-03T02:00:00",
          "2021-07-03T19:00:00",
          "2021-07-03T22:00:00",
          "2021-07-04T02:00:00",
          "2021-07-04T03:00:00",
          "2021-07-04T05:00:00",
          "2021-07-05T02:00:00",
          "2021-07-05T22:00:00",
          "2021-07-06T02:00:00",
          "2021-07-06T22:00:00",
          "2021-07-10T01:00:00",
          "2021-07-10T05:00:00",
          "2021-07-11T15:00:00",
          "2021-07-11T22:00:00",
          "2021-07-12T02:00:00",
          "2021-07-14T21:00:00",
          "2021-07-16T00:00:00",
          "2021-07-16T01:00:00",
          "2021-07-16T14:00:00",
          "2021-07-16T22:00:00",
          "2021-07-17T00:00:00",
          "2021-07-18T01:00:00",
          "2021-07-18T02:00:00",
          "2021-07-20T18:00:00",
          "2021-07-21T08:00:00",
          "2021-07-23T08:00:00",
          "2021-07-23T12:00:00",
          "2021-07-23T22:00:00",
          "2021-07-24T01:00:00",
          "2021-07-24T19:00:00",
          "2021-07-24T22:00:00",
          "2021-07-24T23:00:00",
          "2021-07-26T00:00:00",
          "2021-07-27T19:00:00",
          "2021-07-29T04:00:00",
          "2021-08-01T01:00:00",
          "2021-08-01T21:00:00",
          "2021-08-02T06:00:00",
          "2021-08-02T23:00:00",
          "2021-08-03T23:00:00",
          "2021-08-04T00:00:00",
          "2021-08-06T02:00:00",
          "2021-08-06T21:00:00",
          "2021-08-08T03:00:00",
          "2021-08-08T04:00:00",
          "2021-08-08T11:00:00",
          "2021-08-10T02:00:00",
          "2021-08-10T12:00:00",
          "2021-08-10T23:00:00",
          "2021-08-12T02:00:00",
          "2021-08-14T11:00:00",
          "2021-08-14T13:00:00",
          "2021-08-14T21:00:00",
          "2021-08-15T19:00:00",
          "2021-08-16T01:00:00",
          "2021-08-19T22:00:00",
          "2021-08-20T01:00:00",
          "2021-08-20T07:00:00",
          "2021-08-20T09:00:00",
          "2021-08-20T14:00:00",
          "2021-08-20T17:00:00",
          "2021-08-21T00:00:00",
          "2021-08-21T18:00:00",
          "2021-08-21T20:00:00",
          "2021-08-22T01:00:00",
          "2021-08-23T02:00:00",
          "2021-08-23T16:00:00",
          "2021-08-24T23:00:00",
          "2021-08-27T01:00:00",
          "2021-08-28T02:00:00",
          "2021-08-28T03:00:00",
          "2021-08-28T04:00:00",
          "2021-08-29T13:00:00",
          "2021-08-30T01:00:00",
          "2021-08-30T02:00:00",
          "2021-09-01T23:00:00",
          "2021-09-03T02:00:00",
          "2021-09-04T04:00:00",
          "2021-09-06T02:00:00",
          "2021-09-06T22:00:00",
          "2021-09-07T13:00:00",
          "2021-09-07T19:00:00",
          "2021-09-10T14:00:00",
          "2021-09-11T10:00:00",
          "2021-09-12T00:00:00",
          "2021-09-12T03:00:00",
          "2021-09-12T16:00:00",
          "2021-09-14T02:00:00",
          "2021-09-15T23:00:00",
          "2021-09-17T13:00:00",
          "2021-09-17T14:00:00",
          "2021-09-17T18:00:00",
          "2021-09-18T09:00:00",
          "2021-09-18T18:00:00",
          "2021-09-18T20:00:00",
          "2021-09-19T01:00:00",
          "2021-09-20T21:00:00",
          "2021-09-21T09:00:00",
          "2021-09-23T20:00:00",
          "2021-09-24T02:00:00",
          "2021-09-24T08:00:00",
          "2021-09-30T08:00:00",
          "2021-10-01T01:00:00",
          "2021-10-02T01:00:00",
          "2021-10-03T01:00:00",
          "2021-10-03T20:00:00",
          "2021-10-04T01:00:00",
          "2021-10-04T06:00:00",
          "2021-10-05T03:00:00",
          "2021-10-07T18:00:00",
          "2021-10-08T01:00:00",
          "2021-10-09T23:00:00",
          "2021-10-11T07:00:00",
          "2021-10-12T02:00:00",
          "2021-10-12T10:00:00",
          "2021-10-12T20:00:00",
          "2021-10-13T02:00:00",
          "2021-10-13T04:00:00",
          "2021-10-13T12:00:00",
          "2021-10-15T00:00:00",
          "2021-10-16T17:00:00",
          "2021-10-17T19:00:00",
          "2021-10-17T20:00:00",
          "2021-10-17T21:00:00",
          "2021-10-18T02:00:00",
          "2021-10-18T10:00:00",
          "2021-10-18T23:00:00",
          "2021-10-22T16:00:00",
          "2021-10-22T21:00:00",
          "2021-10-23T02:00:00",
          "2021-10-24T00:00:00",
          "2021-10-24T02:00:00",
          "2021-10-24T03:00:00",
          "2021-10-24T23:00:00",
          "2021-10-26T20:00:00",
          "2021-10-28T22:00:00",
          "2021-10-29T17:00:00",
          "2021-10-30T23:00:00",
          "2021-10-31T01:00:00",
          "2021-10-31T05:00:00",
          "2021-11-05T22:00:00",
          "2021-11-06T00:00:00",
          "2021-11-06T20:00:00",
          "2021-11-06T22:00:00",
          "2021-11-06T23:00:00",
          "2021-11-12T00:00:00",
          "2021-11-12T08:00:00",
          "2021-11-13T02:00:00",
          "2021-11-15T02:00:00",
          "2021-11-15T03:00:00",
          "2021-11-16T21:00:00",
          "2021-11-16T23:00:00",
          "2021-11-18T19:00:00",
          "2021-11-19T16:00:00",
          "2021-11-21T04:00:00",
          "2021-11-23T23:00:00",
          "2021-11-26T02:00:00",
          "2021-11-30T20:00:00",
          "2021-12-01T02:00:00",
          "2021-12-01T10:00:00",
          "2021-12-02T01:00:00",
          "2021-12-02T03:00:00",
          "2021-12-06T08:00:00",
          "2021-12-06T09:00:00",
          "2021-12-07T14:00:00",
          "2021-12-10T01:00:00",
          "2021-12-12T01:00:00",
          "2021-12-12T18:00:00",
          "2021-12-16T02:00:00",
          "2021-12-16T09:00:00",
          "2021-12-21T05:00:00",
          "2021-12-26T01:00:00",
          "2021-12-26T08:00:00",
          "2021-12-26T12:00:00",
          "2021-12-26T13:00:00",
          "2021-12-26T20:00:00",
          "2021-12-26T23:00:00",
          "2021-12-27T18:00:00",
          "2021-12-28T21:00:00",
          "2021-12-31T02:00:00",
          "2021-12-31T11:00:00",
          "2022-01-01T01:00:00",
          "2022-01-01T03:00:00",
          "2022-01-04T02:00:00",
          "2022-01-07T20:00:00",
          "2022-01-09T00:00:00",
          "2022-01-09T01:00:00",
          "2022-01-09T02:00:00",
          "2022-01-11T18:00:00",
          "2022-01-14T19:00:00",
          "2022-01-14T23:00:00",
          "2022-01-16T01:00:00",
          "2022-01-18T01:00:00",
          "2022-01-18T02:00:00",
          "2022-01-19T12:00:00",
          "2022-01-20T04:00:00",
          "2022-01-22T00:00:00",
          "2022-01-22T02:00:00",
          "2022-01-22T19:00:00",
          "2022-01-22T23:00:00",
          "2022-01-23T00:00:00",
          "2022-01-23T02:00:00",
          "2022-01-23T20:00:00",
          "2022-01-23T23:00:00",
          "2022-01-24T05:00:00",
          "2022-01-24T18:00:00",
          "2022-01-25T02:00:00",
          "2022-01-28T21:00:00",
          "2022-01-30T02:00:00",
          "2022-01-30T13:00:00",
          "2022-01-31T00:00:00",
          "2022-02-01T07:00:00",
          "2022-02-01T23:00:00",
          "2022-02-04T01:00:00",
          "2022-02-06T01:00:00",
          "2022-02-06T22:00:00",
          "2022-02-07T00:00:00",
          "2022-02-13T01:00:00",
          "2022-02-18T18:00:00",
          "2022-02-21T18:00:00",
          "2022-02-24T15:00:00",
          "2022-02-25T07:00:00",
          "2022-02-25T11:00:00",
          "2022-02-26T00:00:00",
          "2022-02-26T01:00:00",
          "2022-02-26T02:00:00",
          "2022-02-27T00:00:00",
          "2022-02-27T01:00:00",
          "2022-02-27T02:00:00",
          "2022-03-03T23:00:00",
          "2022-03-04T15:00:00",
          "2022-03-04T22:00:00",
          "2022-03-05T01:00:00",
          "2022-03-07T00:00:00",
          "2022-03-07T10:00:00",
          "2022-03-07T22:00:00",
          "2022-03-10T06:00:00",
          "2022-03-10T23:00:00",
          "2022-03-11T22:00:00",
          "2022-03-12T21:00:00",
          "2022-03-12T23:00:00",
          "2022-03-13T21:00:00",
          "2022-03-13T22:00:00",
          "2022-03-14T23:00:00",
          "2022-03-15T22:00:00",
          "2022-03-17T22:00:00",
          "2022-03-18T01:00:00",
          "2022-03-18T18:00:00",
          "2022-03-19T00:00:00",
          "2022-03-19T02:00:00",
          "2022-03-20T00:00:00",
          "2022-03-20T03:00:00",
          "2022-03-20T10:00:00",
          "2022-03-20T20:00:00",
          "2022-03-21T18:00:00",
          "2022-03-22T23:00:00",
          "2022-03-26T13:00:00",
          "2022-03-27T01:00:00",
          "2022-03-27T23:00:00",
          "2022-03-28T19:00:00",
          "2022-03-28T22:00:00",
          "2022-03-29T00:00:00",
          "2022-03-30T09:00:00",
          "2022-03-31T07:00:00",
          "2022-03-31T20:00:00",
          "2022-03-31T23:00:00",
          "2022-04-01T21:00:00",
          "2022-04-02T22:00:00",
          "2022-04-03T01:00:00",
          "2022-04-03T13:00:00",
          "2022-04-05T09:00:00",
          "2022-04-06T19:00:00",
          "2022-04-07T02:00:00",
          "2022-04-08T07:00:00",
          "2022-04-08T21:00:00",
          "2022-04-09T00:00:00",
          "2022-04-09T18:00:00",
          "2022-04-10T08:00:00",
          "2022-04-11T10:00:00",
          "2022-04-12T18:00:00",
          "2022-04-13T06:00:00",
          "2022-04-14T01:00:00",
          "2022-04-15T01:00:00",
          "2022-04-17T05:00:00",
          "2022-04-19T16:00:00",
          "2022-04-22T23:00:00",
          "2022-04-23T00:00:00",
          "2022-04-23T02:00:00",
          "2022-04-23T21:00:00",
          "2022-04-24T00:00:00",
          "2022-04-24T19:00:00",
          "2022-04-25T16:00:00",
          "2022-05-01T02:00:00",
          "2022-05-04T03:00:00",
          "2022-05-04T15:00:00",
          "2022-05-05T01:00:00",
          "2022-05-06T23:00:00",
          "2022-05-08T22:00:00",
          "2022-05-10T03:00:00",
          "2022-05-10T12:00:00",
          "2022-05-13T19:00:00",
          "2022-05-18T02:00:00",
          "2022-05-19T14:00:00",
          "2022-05-19T16:00:00",
          "2022-05-21T18:00:00",
          "2022-05-23T05:00:00",
          "2022-05-26T15:00:00",
          "2022-05-28T02:00:00",
          "2022-05-28T20:00:00",
          "2022-05-29T02:00:00",
          "2022-05-29T21:00:00",
          "2022-05-29T22:00:00",
          "2022-05-30T09:00:00",
          "2022-05-31T19:00:00",
          "2022-06-02T15:00:00",
          "2022-06-02T23:00:00",
          "2022-06-03T11:00:00",
          "2022-06-03T21:00:00",
          "2022-06-03T22:00:00",
          "2022-06-04T03:00:00",
          "2022-06-04T14:00:00",
          "2022-06-05T21:00:00",
          "2022-06-06T01:00:00",
          "2022-06-06T07:00:00",
          "2022-06-08T01:00:00",
          "2022-06-08T04:00:00",
          "2022-06-10T02:00:00",
          "2022-06-11T23:00:00",
          "2022-06-15T12:00:00",
          "2022-06-16T09:00:00",
          "2022-06-16T21:00:00",
          "2022-06-17T19:00:00",
          "2022-06-17T22:00:00",
          "2022-06-19T00:00:00",
          "2022-06-19T09:00:00",
          "2022-06-20T23:00:00",
          "2022-06-21T02:00:00",
          "2022-06-21T12:00:00",
          "2022-06-22T00:00:00",
          "2022-06-23T01:00:00",
          "2022-06-24T22:00:00",
          "2022-06-27T10:00:00",
          "2022-06-28T01:00:00",
          "2022-06-29T19:00:00",
          "2022-06-29T23:00:00",
          "2022-06-30T01:00:00",
          "2022-07-01T16:00:00",
          "2022-07-01T23:00:00",
          "2022-07-02T22:00:00",
          "2022-07-04T15:00:00",
          "2022-07-05T03:00:00",
          "2022-07-09T03:00:00",
          "2022-07-10T00:00:00",
          "2022-07-10T01:00:00",
          "2022-07-11T11:00:00",
          "2022-07-14T02:00:00",
          "2022-07-15T03:00:00",
          "2022-07-16T01:00:00",
          "2022-07-17T11:00:00",
          "2022-07-19T04:00:00",
          "2022-07-19T22:00:00",
          "2022-07-22T03:00:00",
          "2022-07-23T00:00:00",
          "2022-07-23T02:00:00",
          "2022-07-23T15:00:00",
          "2022-07-24T00:00:00",
          "2022-07-24T02:00:00",
          "2022-07-24T17:00:00",
          "2022-07-24T18:00:00",
          "2022-07-25T02:00:00",
          "2022-07-26T03:00:00",
          "2022-07-31T00:00:00",
          "2022-08-01T21:00:00",
          "2022-08-02T04:00:00",
          "2022-08-02T08:00:00",
          "2022-08-03T23:00:00",
          "2022-08-05T22:00:00",
          "2022-08-05T23:00:00",
          "2022-08-06T01:00:00",
          "2022-08-07T01:00:00",
          "2022-08-07T02:00:00",
          "2022-08-09T12:00:00",
          "2022-08-09T13:00:00",
          "2022-08-11T01:00:00",
          "2022-08-11T23:00:00",
          "2022-08-13T01:00:00",
          "2022-08-13T21:00:00",
          "2022-08-14T01:00:00",
          "2022-08-16T17:00:00",
          "2022-08-17T02:00:00",
          "2022-08-19T20:00:00",
          "2022-08-19T22:00:00",
          "2022-08-19T23:00:00",
          "2022-08-20T15:00:00",
          "2022-08-21T00:00:00",
          "2022-08-21T01:00:00",
          "2022-08-23T19:00:00",
          "2022-08-24T00:00:00",
          "2022-08-24T07:00:00",
          "2022-08-24T08:00:00",
          "2022-08-24T17:00:00",
          "2022-08-26T01:00:00",
          "2022-08-28T02:00:00",
          "2022-08-29T02:00:00",
          "2022-08-31T01:00:00",
          "2022-08-31T13:00:00",
          "2022-08-31T19:00:00",
          "2022-09-03T22:00:00",
          "2022-09-04T01:00:00",
          "2022-09-04T04:00:00",
          "2022-09-05T01:00:00",
          "2022-09-05T02:00:00",
          "2022-09-07T02:00:00",
          "2022-09-09T02:00:00",
          "2022-09-10T18:00:00",
          "2022-09-12T01:00:00",
          "2022-09-14T02:00:00",
          "2022-09-15T02:00:00",
          "2022-09-15T17:00:00",
          "2022-09-17T20:00:00",
          "2022-09-20T11:00:00",
          "2022-09-20T18:00:00",
          "2022-09-21T22:00:00",
          "2022-09-23T14:00:00",
          "2022-09-24T01:00:00",
          "2022-09-25T06:00:00",
          "2022-09-25T08:00:00",
          "2022-09-26T12:00:00",
          "2022-09-28T00:00:00",
          "2022-09-29T13:00:00",
          "2022-09-30T02:00:00",
          "2022-09-30T18:00:00",
          "2022-10-01T00:00:00",
          "2022-10-01T15:00:00",
          "2022-10-01T23:00:00",
          "2022-10-05T01:00:00",
          "2022-10-05T22:00:00",
          "2022-10-06T18:00:00",
          "2022-10-06T19:00:00",
          "2022-10-07T01:00:00",
          "2022-10-07T03:00:00",
          "2022-10-07T19:00:00",
          "2022-10-08T01:00:00",
          "2022-10-08T21:00:00",
          "2022-10-09T01:00:00",
          "2022-10-12T23:00:00",
          "2022-10-15T01:00:00",
          "2022-10-15T03:00:00",
          "2022-10-16T02:00:00",
          "2022-10-16T03:00:00",
          "2022-10-16T19:00:00",
          "2022-10-19T13:00:00",
          "2022-10-20T01:00:00",
          "2022-10-21T03:00:00",
          "2022-10-22T21:00:00",
          "2022-10-23T00:00:00",
          "2022-10-24T01:00:00",
          "2022-10-24T18:00:00",
          "2022-10-30T01:00:00",
          "2022-10-30T03:00:00",
          "2022-10-30T04:00:00",
          "2022-10-30T18:00:00",
          "2022-10-31T00:00:00",
          "2022-10-31T02:00:00",
          "2022-11-03T11:00:00",
          "2022-11-05T00:00:00",
          "2022-11-05T02:00:00",
          "2022-11-06T04:00:00",
          "2022-11-07T01:00:00",
          "2022-11-10T17:00:00",
          "2022-11-10T18:00:00",
          "2022-11-12T01:00:00",
          "2022-11-12T02:00:00",
          "2022-11-12T22:00:00",
          "2022-11-12T23:00:00",
          "2022-11-13T23:00:00",
          "2022-11-14T00:00:00",
          "2022-11-14T01:00:00",
          "2022-11-14T12:00:00",
          "2022-11-17T01:00:00",
          "2022-11-19T07:00:00",
          "2022-11-19T14:00:00",
          "2022-11-19T17:00:00",
          "2022-11-20T14:00:00",
          "2022-11-21T12:00:00",
          "2022-11-23T03:00:00",
          "2022-11-23T16:00:00",
          "2022-11-23T23:00:00",
          "2022-11-25T07:00:00",
          "2022-11-26T15:00:00",
          "2022-11-26T23:00:00",
          "2022-11-27T18:00:00",
          "2022-12-03T02:00:00",
          "2022-12-03T18:00:00",
          "2022-12-09T01:00:00",
          "2022-12-09T02:00:00",
          "2022-12-10T03:00:00",
          "2022-12-11T00:00:00",
          "2022-12-11T01:00:00",
          "2022-12-11T10:00:00",
          "2022-12-12T06:00:00",
          "2022-12-13T22:00:00",
          "2022-12-14T02:00:00",
          "2022-12-16T00:00:00",
          "2022-12-17T01:00:00",
          "2022-12-17T07:00:00",
          "2022-12-17T14:00:00",
          "2022-12-17T18:00:00",
          "2022-12-18T02:00:00",
          "2022-12-23T02:00:00",
          "2022-12-24T02:00:00",
          "2022-12-25T01:00:00",
          "2022-12-26T12:00:00",
          "2022-12-27T22:00:00",
          "2022-12-28T23:00:00",
          "2022-12-30T15:00:00",
          "2022-12-31T09:00:00"
         ],
         "xaxis": "x",
         "y": [
          1,
          1,
          1,
          1,
          1,
          1,
          1,
          1,
          1,
          1,
          1,
          1,
          1,
          1,
          1,
          1,
          1,
          1,
          1,
          1,
          1,
          1,
          1,
          1,
          1,
          1,
          1,
          1,
          1,
          1,
          1,
          1,
          1,
          1,
          1,
          1,
          1,
          1,
          1,
          1,
          1,
          1,
          1,
          1,
          1,
          1,
          1,
          1,
          1,
          2,
          1,
          1,
          1,
          1,
          1,
          1,
          1,
          1,
          1,
          1,
          1,
          1,
          1,
          1,
          1,
          1,
          1,
          1,
          1,
          1,
          1,
          1,
          1,
          1,
          1,
          1,
          1,
          1,
          1,
          1,
          1,
          1,
          1,
          1,
          1,
          1,
          1,
          1,
          1,
          1,
          1,
          1,
          1,
          1,
          1,
          1,
          1,
          1,
          1,
          1,
          1,
          1,
          1,
          1,
          1,
          1,
          1,
          2,
          1,
          1,
          1,
          1,
          1,
          1,
          1,
          1,
          1,
          1,
          1,
          1,
          1,
          1,
          1,
          1,
          1,
          1,
          1,
          1,
          1,
          1,
          1,
          1,
          1,
          1,
          1,
          1,
          1,
          1,
          1,
          1,
          1,
          1,
          3,
          1,
          1,
          2,
          1,
          1,
          1,
          1,
          1,
          1,
          1,
          1,
          1,
          2,
          1,
          1,
          1,
          1,
          1,
          2,
          1,
          1,
          1,
          1,
          1,
          1,
          1,
          1,
          1,
          1,
          1,
          1,
          1,
          1,
          1,
          1,
          1,
          1,
          1,
          1,
          1,
          2,
          1,
          1,
          1,
          1,
          1,
          1,
          1,
          2,
          2,
          1,
          1,
          1,
          1,
          1,
          1,
          1,
          1,
          1,
          1,
          1,
          1,
          1,
          1,
          1,
          1,
          1,
          1,
          1,
          1,
          1,
          1,
          1,
          1,
          1,
          1,
          1,
          1,
          1,
          1,
          1,
          1,
          1,
          1,
          1,
          1,
          1,
          1,
          1,
          1,
          1,
          2,
          1,
          1,
          1,
          1,
          1,
          1,
          1,
          1,
          1,
          1,
          1,
          1,
          2,
          1,
          1,
          1,
          1,
          1,
          1,
          1,
          1,
          1,
          1,
          1,
          1,
          1,
          1,
          1,
          1,
          1,
          1,
          1,
          1,
          1,
          1,
          1,
          1,
          1,
          1,
          1,
          1,
          1,
          1,
          1,
          1,
          1,
          1,
          1,
          1,
          1,
          1,
          1,
          1,
          1,
          1,
          1,
          1,
          1,
          1,
          1,
          1,
          1,
          1,
          1,
          1,
          1,
          1,
          1,
          1,
          1,
          1,
          2,
          1,
          1,
          1,
          1,
          1,
          1,
          1,
          2,
          1,
          1,
          1,
          1,
          1,
          1,
          1,
          1,
          1,
          1,
          1,
          1,
          1,
          1,
          1,
          1,
          2,
          1,
          1,
          1,
          1,
          1,
          1,
          1,
          2,
          1,
          1,
          1,
          1,
          1,
          1,
          1,
          1,
          1,
          1,
          1,
          1,
          1,
          1,
          1,
          1,
          1,
          1,
          1,
          1,
          1,
          1,
          1,
          1,
          1,
          1,
          1,
          1,
          1,
          1,
          2,
          1,
          1,
          1,
          1,
          1,
          1,
          1,
          1,
          1,
          1,
          1,
          1,
          1,
          1,
          2,
          1,
          1,
          1,
          1,
          1,
          1,
          1,
          1,
          1,
          1,
          1,
          1,
          1,
          1,
          1,
          1,
          1,
          1,
          1,
          1,
          1,
          1,
          1,
          1,
          1,
          1,
          1,
          3,
          1,
          1,
          1,
          1,
          1,
          1,
          2,
          1,
          1,
          1,
          1,
          1,
          1,
          1,
          1,
          1,
          1,
          1,
          1,
          1,
          1,
          1,
          1,
          1,
          1,
          2,
          1,
          1,
          1,
          1,
          1,
          1,
          1,
          1,
          1,
          1,
          1,
          1,
          1,
          1,
          1,
          1,
          1,
          1,
          1,
          1,
          1,
          1,
          1,
          1,
          1,
          1,
          1,
          1,
          1,
          1,
          1,
          1,
          1,
          1,
          1,
          1,
          1,
          1,
          1,
          1,
          1,
          1,
          1,
          1,
          1,
          1,
          1,
          1,
          1,
          1,
          1,
          1,
          1,
          1,
          1,
          1,
          1,
          1,
          1,
          1,
          1,
          1,
          1,
          1,
          1,
          1,
          1,
          1,
          1,
          1,
          2,
          1,
          1,
          1,
          1,
          1,
          1,
          1,
          1,
          1,
          1,
          1,
          1,
          1,
          1,
          1,
          1,
          1,
          1,
          1,
          1,
          1,
          1,
          1,
          1,
          1,
          1,
          1,
          1,
          1,
          1,
          1,
          1,
          1,
          1,
          1,
          1,
          1,
          1,
          1,
          1,
          1,
          1,
          1,
          1,
          1,
          1,
          1,
          1,
          1,
          1,
          1,
          1,
          1,
          1,
          2,
          1,
          1,
          1,
          1,
          1,
          1,
          1,
          2,
          1,
          1,
          1,
          1,
          1,
          1,
          2,
          1,
          1,
          1,
          1,
          1,
          1,
          1,
          1,
          1,
          1,
          1,
          1,
          1,
          1,
          1,
          1,
          1,
          1,
          1,
          1,
          1,
          1,
          1,
          1,
          1,
          1,
          1,
          1,
          1,
          1,
          1,
          1,
          1,
          1,
          2,
          1,
          1,
          1,
          1,
          1,
          1,
          1,
          1,
          1,
          1,
          1,
          1,
          1,
          2,
          1,
          1,
          1,
          1,
          1,
          1,
          1,
          2,
          1,
          1,
          1,
          1,
          1,
          2,
          1,
          1,
          1,
          1,
          1,
          1,
          1,
          1,
          1,
          1,
          1,
          1,
          1,
          1,
          1,
          1,
          1,
          1,
          1,
          1,
          1,
          1,
          1,
          1,
          1,
          1,
          1,
          1,
          1,
          1,
          1,
          1,
          1,
          1,
          1,
          1,
          1,
          1,
          1,
          1,
          1,
          1,
          1,
          1
         ],
         "yaxis": "y"
        }
       ],
       "layout": {
        "legend": {
         "tracegroupgap": 0
        },
        "template": {
         "data": {
          "bar": [
           {
            "error_x": {
             "color": "#f2f5fa"
            },
            "error_y": {
             "color": "#f2f5fa"
            },
            "marker": {
             "line": {
              "color": "rgb(17,17,17)",
              "width": 0.5
             },
             "pattern": {
              "fillmode": "overlay",
              "size": 10,
              "solidity": 0.2
             }
            },
            "type": "bar"
           }
          ],
          "barpolar": [
           {
            "marker": {
             "line": {
              "color": "rgb(17,17,17)",
              "width": 0.5
             },
             "pattern": {
              "fillmode": "overlay",
              "size": 10,
              "solidity": 0.2
             }
            },
            "type": "barpolar"
           }
          ],
          "carpet": [
           {
            "aaxis": {
             "endlinecolor": "#A2B1C6",
             "gridcolor": "#506784",
             "linecolor": "#506784",
             "minorgridcolor": "#506784",
             "startlinecolor": "#A2B1C6"
            },
            "baxis": {
             "endlinecolor": "#A2B1C6",
             "gridcolor": "#506784",
             "linecolor": "#506784",
             "minorgridcolor": "#506784",
             "startlinecolor": "#A2B1C6"
            },
            "type": "carpet"
           }
          ],
          "choropleth": [
           {
            "colorbar": {
             "outlinewidth": 0,
             "ticks": ""
            },
            "type": "choropleth"
           }
          ],
          "contour": [
           {
            "colorbar": {
             "outlinewidth": 0,
             "ticks": ""
            },
            "colorscale": [
             [
              0,
              "#0d0887"
             ],
             [
              0.1111111111111111,
              "#46039f"
             ],
             [
              0.2222222222222222,
              "#7201a8"
             ],
             [
              0.3333333333333333,
              "#9c179e"
             ],
             [
              0.4444444444444444,
              "#bd3786"
             ],
             [
              0.5555555555555556,
              "#d8576b"
             ],
             [
              0.6666666666666666,
              "#ed7953"
             ],
             [
              0.7777777777777778,
              "#fb9f3a"
             ],
             [
              0.8888888888888888,
              "#fdca26"
             ],
             [
              1,
              "#f0f921"
             ]
            ],
            "type": "contour"
           }
          ],
          "contourcarpet": [
           {
            "colorbar": {
             "outlinewidth": 0,
             "ticks": ""
            },
            "type": "contourcarpet"
           }
          ],
          "heatmap": [
           {
            "colorbar": {
             "outlinewidth": 0,
             "ticks": ""
            },
            "colorscale": [
             [
              0,
              "#0d0887"
             ],
             [
              0.1111111111111111,
              "#46039f"
             ],
             [
              0.2222222222222222,
              "#7201a8"
             ],
             [
              0.3333333333333333,
              "#9c179e"
             ],
             [
              0.4444444444444444,
              "#bd3786"
             ],
             [
              0.5555555555555556,
              "#d8576b"
             ],
             [
              0.6666666666666666,
              "#ed7953"
             ],
             [
              0.7777777777777778,
              "#fb9f3a"
             ],
             [
              0.8888888888888888,
              "#fdca26"
             ],
             [
              1,
              "#f0f921"
             ]
            ],
            "type": "heatmap"
           }
          ],
          "heatmapgl": [
           {
            "colorbar": {
             "outlinewidth": 0,
             "ticks": ""
            },
            "colorscale": [
             [
              0,
              "#0d0887"
             ],
             [
              0.1111111111111111,
              "#46039f"
             ],
             [
              0.2222222222222222,
              "#7201a8"
             ],
             [
              0.3333333333333333,
              "#9c179e"
             ],
             [
              0.4444444444444444,
              "#bd3786"
             ],
             [
              0.5555555555555556,
              "#d8576b"
             ],
             [
              0.6666666666666666,
              "#ed7953"
             ],
             [
              0.7777777777777778,
              "#fb9f3a"
             ],
             [
              0.8888888888888888,
              "#fdca26"
             ],
             [
              1,
              "#f0f921"
             ]
            ],
            "type": "heatmapgl"
           }
          ],
          "histogram": [
           {
            "marker": {
             "pattern": {
              "fillmode": "overlay",
              "size": 10,
              "solidity": 0.2
             }
            },
            "type": "histogram"
           }
          ],
          "histogram2d": [
           {
            "colorbar": {
             "outlinewidth": 0,
             "ticks": ""
            },
            "colorscale": [
             [
              0,
              "#0d0887"
             ],
             [
              0.1111111111111111,
              "#46039f"
             ],
             [
              0.2222222222222222,
              "#7201a8"
             ],
             [
              0.3333333333333333,
              "#9c179e"
             ],
             [
              0.4444444444444444,
              "#bd3786"
             ],
             [
              0.5555555555555556,
              "#d8576b"
             ],
             [
              0.6666666666666666,
              "#ed7953"
             ],
             [
              0.7777777777777778,
              "#fb9f3a"
             ],
             [
              0.8888888888888888,
              "#fdca26"
             ],
             [
              1,
              "#f0f921"
             ]
            ],
            "type": "histogram2d"
           }
          ],
          "histogram2dcontour": [
           {
            "colorbar": {
             "outlinewidth": 0,
             "ticks": ""
            },
            "colorscale": [
             [
              0,
              "#0d0887"
             ],
             [
              0.1111111111111111,
              "#46039f"
             ],
             [
              0.2222222222222222,
              "#7201a8"
             ],
             [
              0.3333333333333333,
              "#9c179e"
             ],
             [
              0.4444444444444444,
              "#bd3786"
             ],
             [
              0.5555555555555556,
              "#d8576b"
             ],
             [
              0.6666666666666666,
              "#ed7953"
             ],
             [
              0.7777777777777778,
              "#fb9f3a"
             ],
             [
              0.8888888888888888,
              "#fdca26"
             ],
             [
              1,
              "#f0f921"
             ]
            ],
            "type": "histogram2dcontour"
           }
          ],
          "mesh3d": [
           {
            "colorbar": {
             "outlinewidth": 0,
             "ticks": ""
            },
            "type": "mesh3d"
           }
          ],
          "parcoords": [
           {
            "line": {
             "colorbar": {
              "outlinewidth": 0,
              "ticks": ""
             }
            },
            "type": "parcoords"
           }
          ],
          "pie": [
           {
            "automargin": true,
            "type": "pie"
           }
          ],
          "scatter": [
           {
            "marker": {
             "line": {
              "color": "#283442"
             }
            },
            "type": "scatter"
           }
          ],
          "scatter3d": [
           {
            "line": {
             "colorbar": {
              "outlinewidth": 0,
              "ticks": ""
             }
            },
            "marker": {
             "colorbar": {
              "outlinewidth": 0,
              "ticks": ""
             }
            },
            "type": "scatter3d"
           }
          ],
          "scattercarpet": [
           {
            "marker": {
             "colorbar": {
              "outlinewidth": 0,
              "ticks": ""
             }
            },
            "type": "scattercarpet"
           }
          ],
          "scattergeo": [
           {
            "marker": {
             "colorbar": {
              "outlinewidth": 0,
              "ticks": ""
             }
            },
            "type": "scattergeo"
           }
          ],
          "scattergl": [
           {
            "marker": {
             "line": {
              "color": "#283442"
             }
            },
            "type": "scattergl"
           }
          ],
          "scattermapbox": [
           {
            "marker": {
             "colorbar": {
              "outlinewidth": 0,
              "ticks": ""
             }
            },
            "type": "scattermapbox"
           }
          ],
          "scatterpolar": [
           {
            "marker": {
             "colorbar": {
              "outlinewidth": 0,
              "ticks": ""
             }
            },
            "type": "scatterpolar"
           }
          ],
          "scatterpolargl": [
           {
            "marker": {
             "colorbar": {
              "outlinewidth": 0,
              "ticks": ""
             }
            },
            "type": "scatterpolargl"
           }
          ],
          "scatterternary": [
           {
            "marker": {
             "colorbar": {
              "outlinewidth": 0,
              "ticks": ""
             }
            },
            "type": "scatterternary"
           }
          ],
          "surface": [
           {
            "colorbar": {
             "outlinewidth": 0,
             "ticks": ""
            },
            "colorscale": [
             [
              0,
              "#0d0887"
             ],
             [
              0.1111111111111111,
              "#46039f"
             ],
             [
              0.2222222222222222,
              "#7201a8"
             ],
             [
              0.3333333333333333,
              "#9c179e"
             ],
             [
              0.4444444444444444,
              "#bd3786"
             ],
             [
              0.5555555555555556,
              "#d8576b"
             ],
             [
              0.6666666666666666,
              "#ed7953"
             ],
             [
              0.7777777777777778,
              "#fb9f3a"
             ],
             [
              0.8888888888888888,
              "#fdca26"
             ],
             [
              1,
              "#f0f921"
             ]
            ],
            "type": "surface"
           }
          ],
          "table": [
           {
            "cells": {
             "fill": {
              "color": "#506784"
             },
             "line": {
              "color": "rgb(17,17,17)"
             }
            },
            "header": {
             "fill": {
              "color": "#2a3f5f"
             },
             "line": {
              "color": "rgb(17,17,17)"
             }
            },
            "type": "table"
           }
          ]
         },
         "layout": {
          "annotationdefaults": {
           "arrowcolor": "#f2f5fa",
           "arrowhead": 0,
           "arrowwidth": 1
          },
          "autotypenumbers": "strict",
          "coloraxis": {
           "colorbar": {
            "outlinewidth": 0,
            "ticks": ""
           }
          },
          "colorscale": {
           "diverging": [
            [
             0,
             "#8e0152"
            ],
            [
             0.1,
             "#c51b7d"
            ],
            [
             0.2,
             "#de77ae"
            ],
            [
             0.3,
             "#f1b6da"
            ],
            [
             0.4,
             "#fde0ef"
            ],
            [
             0.5,
             "#f7f7f7"
            ],
            [
             0.6,
             "#e6f5d0"
            ],
            [
             0.7,
             "#b8e186"
            ],
            [
             0.8,
             "#7fbc41"
            ],
            [
             0.9,
             "#4d9221"
            ],
            [
             1,
             "#276419"
            ]
           ],
           "sequential": [
            [
             0,
             "#0d0887"
            ],
            [
             0.1111111111111111,
             "#46039f"
            ],
            [
             0.2222222222222222,
             "#7201a8"
            ],
            [
             0.3333333333333333,
             "#9c179e"
            ],
            [
             0.4444444444444444,
             "#bd3786"
            ],
            [
             0.5555555555555556,
             "#d8576b"
            ],
            [
             0.6666666666666666,
             "#ed7953"
            ],
            [
             0.7777777777777778,
             "#fb9f3a"
            ],
            [
             0.8888888888888888,
             "#fdca26"
            ],
            [
             1,
             "#f0f921"
            ]
           ],
           "sequentialminus": [
            [
             0,
             "#0d0887"
            ],
            [
             0.1111111111111111,
             "#46039f"
            ],
            [
             0.2222222222222222,
             "#7201a8"
            ],
            [
             0.3333333333333333,
             "#9c179e"
            ],
            [
             0.4444444444444444,
             "#bd3786"
            ],
            [
             0.5555555555555556,
             "#d8576b"
            ],
            [
             0.6666666666666666,
             "#ed7953"
            ],
            [
             0.7777777777777778,
             "#fb9f3a"
            ],
            [
             0.8888888888888888,
             "#fdca26"
            ],
            [
             1,
             "#f0f921"
            ]
           ]
          },
          "colorway": [
           "#636efa",
           "#EF553B",
           "#00cc96",
           "#ab63fa",
           "#FFA15A",
           "#19d3f3",
           "#FF6692",
           "#B6E880",
           "#FF97FF",
           "#FECB52"
          ],
          "font": {
           "color": "#f2f5fa"
          },
          "geo": {
           "bgcolor": "rgb(17,17,17)",
           "lakecolor": "rgb(17,17,17)",
           "landcolor": "rgb(17,17,17)",
           "showlakes": true,
           "showland": true,
           "subunitcolor": "#506784"
          },
          "hoverlabel": {
           "align": "left"
          },
          "hovermode": "closest",
          "mapbox": {
           "style": "dark"
          },
          "paper_bgcolor": "rgb(17,17,17)",
          "plot_bgcolor": "rgb(17,17,17)",
          "polar": {
           "angularaxis": {
            "gridcolor": "#506784",
            "linecolor": "#506784",
            "ticks": ""
           },
           "bgcolor": "rgb(17,17,17)",
           "radialaxis": {
            "gridcolor": "#506784",
            "linecolor": "#506784",
            "ticks": ""
           }
          },
          "scene": {
           "xaxis": {
            "backgroundcolor": "rgb(17,17,17)",
            "gridcolor": "#506784",
            "gridwidth": 2,
            "linecolor": "#506784",
            "showbackground": true,
            "ticks": "",
            "zerolinecolor": "#C8D4E3"
           },
           "yaxis": {
            "backgroundcolor": "rgb(17,17,17)",
            "gridcolor": "#506784",
            "gridwidth": 2,
            "linecolor": "#506784",
            "showbackground": true,
            "ticks": "",
            "zerolinecolor": "#C8D4E3"
           },
           "zaxis": {
            "backgroundcolor": "rgb(17,17,17)",
            "gridcolor": "#506784",
            "gridwidth": 2,
            "linecolor": "#506784",
            "showbackground": true,
            "ticks": "",
            "zerolinecolor": "#C8D4E3"
           }
          },
          "shapedefaults": {
           "line": {
            "color": "#f2f5fa"
           }
          },
          "sliderdefaults": {
           "bgcolor": "#C8D4E3",
           "bordercolor": "rgb(17,17,17)",
           "borderwidth": 1,
           "tickwidth": 0
          },
          "ternary": {
           "aaxis": {
            "gridcolor": "#506784",
            "linecolor": "#506784",
            "ticks": ""
           },
           "baxis": {
            "gridcolor": "#506784",
            "linecolor": "#506784",
            "ticks": ""
           },
           "bgcolor": "rgb(17,17,17)",
           "caxis": {
            "gridcolor": "#506784",
            "linecolor": "#506784",
            "ticks": ""
           }
          },
          "title": {
           "x": 0.05
          },
          "updatemenudefaults": {
           "bgcolor": "#506784",
           "borderwidth": 0
          },
          "xaxis": {
           "automargin": true,
           "gridcolor": "#283442",
           "linecolor": "#506784",
           "ticks": "",
           "title": {
            "standoff": 15
           },
           "zerolinecolor": "#283442",
           "zerolinewidth": 2
          },
          "yaxis": {
           "automargin": true,
           "gridcolor": "#283442",
           "linecolor": "#506784",
           "ticks": "",
           "title": {
            "standoff": 15
           },
           "zerolinecolor": "#283442",
           "zerolinewidth": 2
          }
         }
        },
        "title": {
         "text": "Count of Assault with crime Jan 2021 - Dec 2022 for zipcode 78701"
        },
        "xaxis": {
         "anchor": "y",
         "domain": [
          0,
          1
         ],
         "title": {
          "text": "occurred_date"
         }
        },
        "yaxis": {
         "anchor": "x",
         "domain": [
          0,
          1
         ],
         "title": {
          "text": "assault_count"
         }
        }
       }
      },
      "text/html": [
       "<div>                            <div id=\"11f2add1-bdd8-47f8-a135-68854d8f2a70\" class=\"plotly-graph-div\" style=\"height:525px; width:100%;\"></div>            <script type=\"text/javascript\">                require([\"plotly\"], function(Plotly) {                    window.PLOTLYENV=window.PLOTLYENV || {};                                    if (document.getElementById(\"11f2add1-bdd8-47f8-a135-68854d8f2a70\")) {                    Plotly.newPlot(                        \"11f2add1-bdd8-47f8-a135-68854d8f2a70\",                        [{\"hovertemplate\":\"occurred_date=%{x}<br>assault_count=%{y}<extra></extra>\",\"legendgroup\":\"\",\"line\":{\"color\":\"#636efa\",\"dash\":\"solid\"},\"marker\":{\"symbol\":\"circle\"},\"mode\":\"lines\",\"name\":\"\",\"orientation\":\"v\",\"showlegend\":false,\"x\":[\"2021-01-01T04:00:00\",\"2021-01-01T23:00:00\",\"2021-01-05T23:00:00\",\"2021-01-06T05:00:00\",\"2021-01-08T00:00:00\",\"2021-01-08T21:00:00\",\"2021-01-09T01:00:00\",\"2021-01-09T09:00:00\",\"2021-01-09T18:00:00\",\"2021-01-10T12:00:00\",\"2021-01-12T11:00:00\",\"2021-01-13T22:00:00\",\"2021-01-14T17:00:00\",\"2021-01-15T02:00:00\",\"2021-01-16T02:00:00\",\"2021-01-17T05:00:00\",\"2021-01-17T22:00:00\",\"2021-01-18T14:00:00\",\"2021-01-18T21:00:00\",\"2021-01-20T16:00:00\",\"2021-01-21T09:00:00\",\"2021-01-23T03:00:00\",\"2021-01-24T02:00:00\",\"2021-01-24T12:00:00\",\"2021-01-25T11:00:00\",\"2021-01-26T12:00:00\",\"2021-01-29T01:00:00\",\"2021-01-30T01:00:00\",\"2021-01-31T19:00:00\",\"2021-02-01T07:00:00\",\"2021-02-01T10:00:00\",\"2021-02-02T23:00:00\",\"2021-02-03T15:00:00\",\"2021-02-06T20:00:00\",\"2021-02-07T01:00:00\",\"2021-02-10T18:00:00\",\"2021-02-12T08:00:00\",\"2021-02-13T22:00:00\",\"2021-02-14T02:00:00\",\"2021-02-18T09:00:00\",\"2021-02-22T02:00:00\",\"2021-02-22T14:00:00\",\"2021-02-24T18:00:00\",\"2021-02-24T21:00:00\",\"2021-02-25T08:00:00\",\"2021-02-25T16:00:00\",\"2021-02-25T21:00:00\",\"2021-02-27T15:00:00\",\"2021-02-27T17:00:00\",\"2021-02-28T03:00:00\",\"2021-03-02T09:00:00\",\"2021-03-03T03:00:00\",\"2021-03-03T21:00:00\",\"2021-03-04T22:00:00\",\"2021-03-05T10:00:00\",\"2021-03-08T01:00:00\",\"2021-03-08T05:00:00\",\"2021-03-08T08:00:00\",\"2021-03-12T01:00:00\",\"2021-03-12T20:00:00\",\"2021-03-14T20:00:00\",\"2021-03-15T00:00:00\",\"2021-03-17T21:00:00\",\"2021-03-20T18:00:00\",\"2021-03-21T01:00:00\",\"2021-03-21T04:00:00\",\"2021-03-21T22:00:00\",\"2021-03-23T18:00:00\",\"2021-03-24T01:00:00\",\"2021-03-24T12:00:00\",\"2021-03-25T12:00:00\",\"2021-03-25T19:00:00\",\"2021-03-27T00:00:00\",\"2021-03-27T01:00:00\",\"2021-03-27T09:00:00\",\"2021-03-27T12:00:00\",\"2021-03-27T19:00:00\",\"2021-03-27T20:00:00\",\"2021-03-27T21:00:00\",\"2021-03-27T22:00:00\",\"2021-03-28T00:00:00\",\"2021-03-28T02:00:00\",\"2021-03-29T21:00:00\",\"2021-03-31T21:00:00\",\"2021-04-01T20:00:00\",\"2021-04-02T02:00:00\",\"2021-04-02T19:00:00\",\"2021-04-03T01:00:00\",\"2021-04-03T02:00:00\",\"2021-04-04T16:00:00\",\"2021-04-07T09:00:00\",\"2021-04-07T19:00:00\",\"2021-04-11T02:00:00\",\"2021-04-16T00:00:00\",\"2021-04-17T02:00:00\",\"2021-04-17T23:00:00\",\"2021-04-18T12:00:00\",\"2021-04-19T00:00:00\",\"2021-04-23T11:00:00\",\"2021-04-23T19:00:00\",\"2021-04-24T06:00:00\",\"2021-04-26T01:00:00\",\"2021-04-26T14:00:00\",\"2021-04-27T12:00:00\",\"2021-04-28T18:00:00\",\"2021-04-29T12:00:00\",\"2021-04-30T02:00:00\",\"2021-05-02T01:00:00\",\"2021-05-02T19:00:00\",\"2021-05-03T00:00:00\",\"2021-05-04T09:00:00\",\"2021-05-05T17:00:00\",\"2021-05-06T01:00:00\",\"2021-05-06T02:00:00\",\"2021-05-07T09:00:00\",\"2021-05-08T00:00:00\",\"2021-05-08T01:00:00\",\"2021-05-08T03:00:00\",\"2021-05-09T01:00:00\",\"2021-05-09T14:00:00\",\"2021-05-13T01:00:00\",\"2021-05-13T02:00:00\",\"2021-05-13T14:00:00\",\"2021-05-13T20:00:00\",\"2021-05-14T23:00:00\",\"2021-05-15T02:00:00\",\"2021-05-15T03:00:00\",\"2021-05-16T00:00:00\",\"2021-05-16T18:00:00\",\"2021-05-17T02:00:00\",\"2021-05-18T01:00:00\",\"2021-05-18T13:00:00\",\"2021-05-18T19:00:00\",\"2021-05-22T02:00:00\",\"2021-05-22T18:00:00\",\"2021-05-22T23:00:00\",\"2021-05-23T08:00:00\",\"2021-05-27T07:00:00\",\"2021-05-29T00:00:00\",\"2021-05-29T02:00:00\",\"2021-05-29T04:00:00\",\"2021-05-29T09:00:00\",\"2021-05-30T00:00:00\",\"2021-05-30T03:00:00\",\"2021-05-30T22:00:00\",\"2021-05-31T01:00:00\",\"2021-06-04T03:00:00\",\"2021-06-04T05:00:00\",\"2021-06-04T09:00:00\",\"2021-06-05T02:00:00\",\"2021-06-06T00:00:00\",\"2021-06-06T01:00:00\",\"2021-06-06T17:00:00\",\"2021-06-07T07:00:00\",\"2021-06-08T00:00:00\",\"2021-06-10T19:00:00\",\"2021-06-10T23:00:00\",\"2021-06-12T01:00:00\",\"2021-06-13T01:00:00\",\"2021-06-13T13:00:00\",\"2021-06-16T01:00:00\",\"2021-06-19T02:00:00\",\"2021-06-20T22:00:00\",\"2021-06-21T00:00:00\",\"2021-06-22T01:00:00\",\"2021-06-22T21:00:00\",\"2021-06-24T23:00:00\",\"2021-06-26T19:00:00\",\"2021-06-26T22:00:00\",\"2021-06-27T02:00:00\",\"2021-07-01T02:00:00\",\"2021-07-03T02:00:00\",\"2021-07-03T19:00:00\",\"2021-07-03T22:00:00\",\"2021-07-04T02:00:00\",\"2021-07-04T03:00:00\",\"2021-07-04T05:00:00\",\"2021-07-05T02:00:00\",\"2021-07-05T22:00:00\",\"2021-07-06T02:00:00\",\"2021-07-06T22:00:00\",\"2021-07-10T01:00:00\",\"2021-07-10T05:00:00\",\"2021-07-11T15:00:00\",\"2021-07-11T22:00:00\",\"2021-07-12T02:00:00\",\"2021-07-14T21:00:00\",\"2021-07-16T00:00:00\",\"2021-07-16T01:00:00\",\"2021-07-16T14:00:00\",\"2021-07-16T22:00:00\",\"2021-07-17T00:00:00\",\"2021-07-18T01:00:00\",\"2021-07-18T02:00:00\",\"2021-07-20T18:00:00\",\"2021-07-21T08:00:00\",\"2021-07-23T08:00:00\",\"2021-07-23T12:00:00\",\"2021-07-23T22:00:00\",\"2021-07-24T01:00:00\",\"2021-07-24T19:00:00\",\"2021-07-24T22:00:00\",\"2021-07-24T23:00:00\",\"2021-07-26T00:00:00\",\"2021-07-27T19:00:00\",\"2021-07-29T04:00:00\",\"2021-08-01T01:00:00\",\"2021-08-01T21:00:00\",\"2021-08-02T06:00:00\",\"2021-08-02T23:00:00\",\"2021-08-03T23:00:00\",\"2021-08-04T00:00:00\",\"2021-08-06T02:00:00\",\"2021-08-06T21:00:00\",\"2021-08-08T03:00:00\",\"2021-08-08T04:00:00\",\"2021-08-08T11:00:00\",\"2021-08-10T02:00:00\",\"2021-08-10T12:00:00\",\"2021-08-10T23:00:00\",\"2021-08-12T02:00:00\",\"2021-08-14T11:00:00\",\"2021-08-14T13:00:00\",\"2021-08-14T21:00:00\",\"2021-08-15T19:00:00\",\"2021-08-16T01:00:00\",\"2021-08-19T22:00:00\",\"2021-08-20T01:00:00\",\"2021-08-20T07:00:00\",\"2021-08-20T09:00:00\",\"2021-08-20T14:00:00\",\"2021-08-20T17:00:00\",\"2021-08-21T00:00:00\",\"2021-08-21T18:00:00\",\"2021-08-21T20:00:00\",\"2021-08-22T01:00:00\",\"2021-08-23T02:00:00\",\"2021-08-23T16:00:00\",\"2021-08-24T23:00:00\",\"2021-08-27T01:00:00\",\"2021-08-28T02:00:00\",\"2021-08-28T03:00:00\",\"2021-08-28T04:00:00\",\"2021-08-29T13:00:00\",\"2021-08-30T01:00:00\",\"2021-08-30T02:00:00\",\"2021-09-01T23:00:00\",\"2021-09-03T02:00:00\",\"2021-09-04T04:00:00\",\"2021-09-06T02:00:00\",\"2021-09-06T22:00:00\",\"2021-09-07T13:00:00\",\"2021-09-07T19:00:00\",\"2021-09-10T14:00:00\",\"2021-09-11T10:00:00\",\"2021-09-12T00:00:00\",\"2021-09-12T03:00:00\",\"2021-09-12T16:00:00\",\"2021-09-14T02:00:00\",\"2021-09-15T23:00:00\",\"2021-09-17T13:00:00\",\"2021-09-17T14:00:00\",\"2021-09-17T18:00:00\",\"2021-09-18T09:00:00\",\"2021-09-18T18:00:00\",\"2021-09-18T20:00:00\",\"2021-09-19T01:00:00\",\"2021-09-20T21:00:00\",\"2021-09-21T09:00:00\",\"2021-09-23T20:00:00\",\"2021-09-24T02:00:00\",\"2021-09-24T08:00:00\",\"2021-09-30T08:00:00\",\"2021-10-01T01:00:00\",\"2021-10-02T01:00:00\",\"2021-10-03T01:00:00\",\"2021-10-03T20:00:00\",\"2021-10-04T01:00:00\",\"2021-10-04T06:00:00\",\"2021-10-05T03:00:00\",\"2021-10-07T18:00:00\",\"2021-10-08T01:00:00\",\"2021-10-09T23:00:00\",\"2021-10-11T07:00:00\",\"2021-10-12T02:00:00\",\"2021-10-12T10:00:00\",\"2021-10-12T20:00:00\",\"2021-10-13T02:00:00\",\"2021-10-13T04:00:00\",\"2021-10-13T12:00:00\",\"2021-10-15T00:00:00\",\"2021-10-16T17:00:00\",\"2021-10-17T19:00:00\",\"2021-10-17T20:00:00\",\"2021-10-17T21:00:00\",\"2021-10-18T02:00:00\",\"2021-10-18T10:00:00\",\"2021-10-18T23:00:00\",\"2021-10-22T16:00:00\",\"2021-10-22T21:00:00\",\"2021-10-23T02:00:00\",\"2021-10-24T00:00:00\",\"2021-10-24T02:00:00\",\"2021-10-24T03:00:00\",\"2021-10-24T23:00:00\",\"2021-10-26T20:00:00\",\"2021-10-28T22:00:00\",\"2021-10-29T17:00:00\",\"2021-10-30T23:00:00\",\"2021-10-31T01:00:00\",\"2021-10-31T05:00:00\",\"2021-11-05T22:00:00\",\"2021-11-06T00:00:00\",\"2021-11-06T20:00:00\",\"2021-11-06T22:00:00\",\"2021-11-06T23:00:00\",\"2021-11-12T00:00:00\",\"2021-11-12T08:00:00\",\"2021-11-13T02:00:00\",\"2021-11-15T02:00:00\",\"2021-11-15T03:00:00\",\"2021-11-16T21:00:00\",\"2021-11-16T23:00:00\",\"2021-11-18T19:00:00\",\"2021-11-19T16:00:00\",\"2021-11-21T04:00:00\",\"2021-11-23T23:00:00\",\"2021-11-26T02:00:00\",\"2021-11-30T20:00:00\",\"2021-12-01T02:00:00\",\"2021-12-01T10:00:00\",\"2021-12-02T01:00:00\",\"2021-12-02T03:00:00\",\"2021-12-06T08:00:00\",\"2021-12-06T09:00:00\",\"2021-12-07T14:00:00\",\"2021-12-10T01:00:00\",\"2021-12-12T01:00:00\",\"2021-12-12T18:00:00\",\"2021-12-16T02:00:00\",\"2021-12-16T09:00:00\",\"2021-12-21T05:00:00\",\"2021-12-26T01:00:00\",\"2021-12-26T08:00:00\",\"2021-12-26T12:00:00\",\"2021-12-26T13:00:00\",\"2021-12-26T20:00:00\",\"2021-12-26T23:00:00\",\"2021-12-27T18:00:00\",\"2021-12-28T21:00:00\",\"2021-12-31T02:00:00\",\"2021-12-31T11:00:00\",\"2022-01-01T01:00:00\",\"2022-01-01T03:00:00\",\"2022-01-04T02:00:00\",\"2022-01-07T20:00:00\",\"2022-01-09T00:00:00\",\"2022-01-09T01:00:00\",\"2022-01-09T02:00:00\",\"2022-01-11T18:00:00\",\"2022-01-14T19:00:00\",\"2022-01-14T23:00:00\",\"2022-01-16T01:00:00\",\"2022-01-18T01:00:00\",\"2022-01-18T02:00:00\",\"2022-01-19T12:00:00\",\"2022-01-20T04:00:00\",\"2022-01-22T00:00:00\",\"2022-01-22T02:00:00\",\"2022-01-22T19:00:00\",\"2022-01-22T23:00:00\",\"2022-01-23T00:00:00\",\"2022-01-23T02:00:00\",\"2022-01-23T20:00:00\",\"2022-01-23T23:00:00\",\"2022-01-24T05:00:00\",\"2022-01-24T18:00:00\",\"2022-01-25T02:00:00\",\"2022-01-28T21:00:00\",\"2022-01-30T02:00:00\",\"2022-01-30T13:00:00\",\"2022-01-31T00:00:00\",\"2022-02-01T07:00:00\",\"2022-02-01T23:00:00\",\"2022-02-04T01:00:00\",\"2022-02-06T01:00:00\",\"2022-02-06T22:00:00\",\"2022-02-07T00:00:00\",\"2022-02-13T01:00:00\",\"2022-02-18T18:00:00\",\"2022-02-21T18:00:00\",\"2022-02-24T15:00:00\",\"2022-02-25T07:00:00\",\"2022-02-25T11:00:00\",\"2022-02-26T00:00:00\",\"2022-02-26T01:00:00\",\"2022-02-26T02:00:00\",\"2022-02-27T00:00:00\",\"2022-02-27T01:00:00\",\"2022-02-27T02:00:00\",\"2022-03-03T23:00:00\",\"2022-03-04T15:00:00\",\"2022-03-04T22:00:00\",\"2022-03-05T01:00:00\",\"2022-03-07T00:00:00\",\"2022-03-07T10:00:00\",\"2022-03-07T22:00:00\",\"2022-03-10T06:00:00\",\"2022-03-10T23:00:00\",\"2022-03-11T22:00:00\",\"2022-03-12T21:00:00\",\"2022-03-12T23:00:00\",\"2022-03-13T21:00:00\",\"2022-03-13T22:00:00\",\"2022-03-14T23:00:00\",\"2022-03-15T22:00:00\",\"2022-03-17T22:00:00\",\"2022-03-18T01:00:00\",\"2022-03-18T18:00:00\",\"2022-03-19T00:00:00\",\"2022-03-19T02:00:00\",\"2022-03-20T00:00:00\",\"2022-03-20T03:00:00\",\"2022-03-20T10:00:00\",\"2022-03-20T20:00:00\",\"2022-03-21T18:00:00\",\"2022-03-22T23:00:00\",\"2022-03-26T13:00:00\",\"2022-03-27T01:00:00\",\"2022-03-27T23:00:00\",\"2022-03-28T19:00:00\",\"2022-03-28T22:00:00\",\"2022-03-29T00:00:00\",\"2022-03-30T09:00:00\",\"2022-03-31T07:00:00\",\"2022-03-31T20:00:00\",\"2022-03-31T23:00:00\",\"2022-04-01T21:00:00\",\"2022-04-02T22:00:00\",\"2022-04-03T01:00:00\",\"2022-04-03T13:00:00\",\"2022-04-05T09:00:00\",\"2022-04-06T19:00:00\",\"2022-04-07T02:00:00\",\"2022-04-08T07:00:00\",\"2022-04-08T21:00:00\",\"2022-04-09T00:00:00\",\"2022-04-09T18:00:00\",\"2022-04-10T08:00:00\",\"2022-04-11T10:00:00\",\"2022-04-12T18:00:00\",\"2022-04-13T06:00:00\",\"2022-04-14T01:00:00\",\"2022-04-15T01:00:00\",\"2022-04-17T05:00:00\",\"2022-04-19T16:00:00\",\"2022-04-22T23:00:00\",\"2022-04-23T00:00:00\",\"2022-04-23T02:00:00\",\"2022-04-23T21:00:00\",\"2022-04-24T00:00:00\",\"2022-04-24T19:00:00\",\"2022-04-25T16:00:00\",\"2022-05-01T02:00:00\",\"2022-05-04T03:00:00\",\"2022-05-04T15:00:00\",\"2022-05-05T01:00:00\",\"2022-05-06T23:00:00\",\"2022-05-08T22:00:00\",\"2022-05-10T03:00:00\",\"2022-05-10T12:00:00\",\"2022-05-13T19:00:00\",\"2022-05-18T02:00:00\",\"2022-05-19T14:00:00\",\"2022-05-19T16:00:00\",\"2022-05-21T18:00:00\",\"2022-05-23T05:00:00\",\"2022-05-26T15:00:00\",\"2022-05-28T02:00:00\",\"2022-05-28T20:00:00\",\"2022-05-29T02:00:00\",\"2022-05-29T21:00:00\",\"2022-05-29T22:00:00\",\"2022-05-30T09:00:00\",\"2022-05-31T19:00:00\",\"2022-06-02T15:00:00\",\"2022-06-02T23:00:00\",\"2022-06-03T11:00:00\",\"2022-06-03T21:00:00\",\"2022-06-03T22:00:00\",\"2022-06-04T03:00:00\",\"2022-06-04T14:00:00\",\"2022-06-05T21:00:00\",\"2022-06-06T01:00:00\",\"2022-06-06T07:00:00\",\"2022-06-08T01:00:00\",\"2022-06-08T04:00:00\",\"2022-06-10T02:00:00\",\"2022-06-11T23:00:00\",\"2022-06-15T12:00:00\",\"2022-06-16T09:00:00\",\"2022-06-16T21:00:00\",\"2022-06-17T19:00:00\",\"2022-06-17T22:00:00\",\"2022-06-19T00:00:00\",\"2022-06-19T09:00:00\",\"2022-06-20T23:00:00\",\"2022-06-21T02:00:00\",\"2022-06-21T12:00:00\",\"2022-06-22T00:00:00\",\"2022-06-23T01:00:00\",\"2022-06-24T22:00:00\",\"2022-06-27T10:00:00\",\"2022-06-28T01:00:00\",\"2022-06-29T19:00:00\",\"2022-06-29T23:00:00\",\"2022-06-30T01:00:00\",\"2022-07-01T16:00:00\",\"2022-07-01T23:00:00\",\"2022-07-02T22:00:00\",\"2022-07-04T15:00:00\",\"2022-07-05T03:00:00\",\"2022-07-09T03:00:00\",\"2022-07-10T00:00:00\",\"2022-07-10T01:00:00\",\"2022-07-11T11:00:00\",\"2022-07-14T02:00:00\",\"2022-07-15T03:00:00\",\"2022-07-16T01:00:00\",\"2022-07-17T11:00:00\",\"2022-07-19T04:00:00\",\"2022-07-19T22:00:00\",\"2022-07-22T03:00:00\",\"2022-07-23T00:00:00\",\"2022-07-23T02:00:00\",\"2022-07-23T15:00:00\",\"2022-07-24T00:00:00\",\"2022-07-24T02:00:00\",\"2022-07-24T17:00:00\",\"2022-07-24T18:00:00\",\"2022-07-25T02:00:00\",\"2022-07-26T03:00:00\",\"2022-07-31T00:00:00\",\"2022-08-01T21:00:00\",\"2022-08-02T04:00:00\",\"2022-08-02T08:00:00\",\"2022-08-03T23:00:00\",\"2022-08-05T22:00:00\",\"2022-08-05T23:00:00\",\"2022-08-06T01:00:00\",\"2022-08-07T01:00:00\",\"2022-08-07T02:00:00\",\"2022-08-09T12:00:00\",\"2022-08-09T13:00:00\",\"2022-08-11T01:00:00\",\"2022-08-11T23:00:00\",\"2022-08-13T01:00:00\",\"2022-08-13T21:00:00\",\"2022-08-14T01:00:00\",\"2022-08-16T17:00:00\",\"2022-08-17T02:00:00\",\"2022-08-19T20:00:00\",\"2022-08-19T22:00:00\",\"2022-08-19T23:00:00\",\"2022-08-20T15:00:00\",\"2022-08-21T00:00:00\",\"2022-08-21T01:00:00\",\"2022-08-23T19:00:00\",\"2022-08-24T00:00:00\",\"2022-08-24T07:00:00\",\"2022-08-24T08:00:00\",\"2022-08-24T17:00:00\",\"2022-08-26T01:00:00\",\"2022-08-28T02:00:00\",\"2022-08-29T02:00:00\",\"2022-08-31T01:00:00\",\"2022-08-31T13:00:00\",\"2022-08-31T19:00:00\",\"2022-09-03T22:00:00\",\"2022-09-04T01:00:00\",\"2022-09-04T04:00:00\",\"2022-09-05T01:00:00\",\"2022-09-05T02:00:00\",\"2022-09-07T02:00:00\",\"2022-09-09T02:00:00\",\"2022-09-10T18:00:00\",\"2022-09-12T01:00:00\",\"2022-09-14T02:00:00\",\"2022-09-15T02:00:00\",\"2022-09-15T17:00:00\",\"2022-09-17T20:00:00\",\"2022-09-20T11:00:00\",\"2022-09-20T18:00:00\",\"2022-09-21T22:00:00\",\"2022-09-23T14:00:00\",\"2022-09-24T01:00:00\",\"2022-09-25T06:00:00\",\"2022-09-25T08:00:00\",\"2022-09-26T12:00:00\",\"2022-09-28T00:00:00\",\"2022-09-29T13:00:00\",\"2022-09-30T02:00:00\",\"2022-09-30T18:00:00\",\"2022-10-01T00:00:00\",\"2022-10-01T15:00:00\",\"2022-10-01T23:00:00\",\"2022-10-05T01:00:00\",\"2022-10-05T22:00:00\",\"2022-10-06T18:00:00\",\"2022-10-06T19:00:00\",\"2022-10-07T01:00:00\",\"2022-10-07T03:00:00\",\"2022-10-07T19:00:00\",\"2022-10-08T01:00:00\",\"2022-10-08T21:00:00\",\"2022-10-09T01:00:00\",\"2022-10-12T23:00:00\",\"2022-10-15T01:00:00\",\"2022-10-15T03:00:00\",\"2022-10-16T02:00:00\",\"2022-10-16T03:00:00\",\"2022-10-16T19:00:00\",\"2022-10-19T13:00:00\",\"2022-10-20T01:00:00\",\"2022-10-21T03:00:00\",\"2022-10-22T21:00:00\",\"2022-10-23T00:00:00\",\"2022-10-24T01:00:00\",\"2022-10-24T18:00:00\",\"2022-10-30T01:00:00\",\"2022-10-30T03:00:00\",\"2022-10-30T04:00:00\",\"2022-10-30T18:00:00\",\"2022-10-31T00:00:00\",\"2022-10-31T02:00:00\",\"2022-11-03T11:00:00\",\"2022-11-05T00:00:00\",\"2022-11-05T02:00:00\",\"2022-11-06T04:00:00\",\"2022-11-07T01:00:00\",\"2022-11-10T17:00:00\",\"2022-11-10T18:00:00\",\"2022-11-12T01:00:00\",\"2022-11-12T02:00:00\",\"2022-11-12T22:00:00\",\"2022-11-12T23:00:00\",\"2022-11-13T23:00:00\",\"2022-11-14T00:00:00\",\"2022-11-14T01:00:00\",\"2022-11-14T12:00:00\",\"2022-11-17T01:00:00\",\"2022-11-19T07:00:00\",\"2022-11-19T14:00:00\",\"2022-11-19T17:00:00\",\"2022-11-20T14:00:00\",\"2022-11-21T12:00:00\",\"2022-11-23T03:00:00\",\"2022-11-23T16:00:00\",\"2022-11-23T23:00:00\",\"2022-11-25T07:00:00\",\"2022-11-26T15:00:00\",\"2022-11-26T23:00:00\",\"2022-11-27T18:00:00\",\"2022-12-03T02:00:00\",\"2022-12-03T18:00:00\",\"2022-12-09T01:00:00\",\"2022-12-09T02:00:00\",\"2022-12-10T03:00:00\",\"2022-12-11T00:00:00\",\"2022-12-11T01:00:00\",\"2022-12-11T10:00:00\",\"2022-12-12T06:00:00\",\"2022-12-13T22:00:00\",\"2022-12-14T02:00:00\",\"2022-12-16T00:00:00\",\"2022-12-17T01:00:00\",\"2022-12-17T07:00:00\",\"2022-12-17T14:00:00\",\"2022-12-17T18:00:00\",\"2022-12-18T02:00:00\",\"2022-12-23T02:00:00\",\"2022-12-24T02:00:00\",\"2022-12-25T01:00:00\",\"2022-12-26T12:00:00\",\"2022-12-27T22:00:00\",\"2022-12-28T23:00:00\",\"2022-12-30T15:00:00\",\"2022-12-31T09:00:00\"],\"xaxis\":\"x\",\"y\":[1,1,1,1,1,1,1,1,1,1,1,1,1,1,1,1,1,1,1,1,1,1,1,1,1,1,1,1,1,1,1,1,1,1,1,1,1,1,1,1,1,1,1,1,1,1,1,1,1,2,1,1,1,1,1,1,1,1,1,1,1,1,1,1,1,1,1,1,1,1,1,1,1,1,1,1,1,1,1,1,1,1,1,1,1,1,1,1,1,1,1,1,1,1,1,1,1,1,1,1,1,1,1,1,1,1,1,2,1,1,1,1,1,1,1,1,1,1,1,1,1,1,1,1,1,1,1,1,1,1,1,1,1,1,1,1,1,1,1,1,1,1,3,1,1,2,1,1,1,1,1,1,1,1,1,2,1,1,1,1,1,2,1,1,1,1,1,1,1,1,1,1,1,1,1,1,1,1,1,1,1,1,1,2,1,1,1,1,1,1,1,2,2,1,1,1,1,1,1,1,1,1,1,1,1,1,1,1,1,1,1,1,1,1,1,1,1,1,1,1,1,1,1,1,1,1,1,1,1,1,1,1,1,1,2,1,1,1,1,1,1,1,1,1,1,1,1,2,1,1,1,1,1,1,1,1,1,1,1,1,1,1,1,1,1,1,1,1,1,1,1,1,1,1,1,1,1,1,1,1,1,1,1,1,1,1,1,1,1,1,1,1,1,1,1,1,1,1,1,1,1,1,1,1,1,1,2,1,1,1,1,1,1,1,2,1,1,1,1,1,1,1,1,1,1,1,1,1,1,1,1,2,1,1,1,1,1,1,1,2,1,1,1,1,1,1,1,1,1,1,1,1,1,1,1,1,1,1,1,1,1,1,1,1,1,1,1,1,1,1,2,1,1,1,1,1,1,1,1,1,1,1,1,1,1,2,1,1,1,1,1,1,1,1,1,1,1,1,1,1,1,1,1,1,1,1,1,1,1,1,1,1,1,3,1,1,1,1,1,1,2,1,1,1,1,1,1,1,1,1,1,1,1,1,1,1,1,1,1,2,1,1,1,1,1,1,1,1,1,1,1,1,1,1,1,1,1,1,1,1,1,1,1,1,1,1,1,1,1,1,1,1,1,1,1,1,1,1,1,1,1,1,1,1,1,1,1,1,1,1,1,1,1,1,1,1,1,1,1,1,1,1,1,1,1,1,1,1,1,1,2,1,1,1,1,1,1,1,1,1,1,1,1,1,1,1,1,1,1,1,1,1,1,1,1,1,1,1,1,1,1,1,1,1,1,1,1,1,1,1,1,1,1,1,1,1,1,1,1,1,1,1,1,1,1,2,1,1,1,1,1,1,1,2,1,1,1,1,1,1,2,1,1,1,1,1,1,1,1,1,1,1,1,1,1,1,1,1,1,1,1,1,1,1,1,1,1,1,1,1,1,1,1,1,1,2,1,1,1,1,1,1,1,1,1,1,1,1,1,2,1,1,1,1,1,1,1,2,1,1,1,1,1,2,1,1,1,1,1,1,1,1,1,1,1,1,1,1,1,1,1,1,1,1,1,1,1,1,1,1,1,1,1,1,1,1,1,1,1,1,1,1,1,1,1,1,1,1],\"yaxis\":\"y\",\"type\":\"scatter\"}],                        {\"template\":{\"data\":{\"barpolar\":[{\"marker\":{\"line\":{\"color\":\"rgb(17,17,17)\",\"width\":0.5},\"pattern\":{\"fillmode\":\"overlay\",\"size\":10,\"solidity\":0.2}},\"type\":\"barpolar\"}],\"bar\":[{\"error_x\":{\"color\":\"#f2f5fa\"},\"error_y\":{\"color\":\"#f2f5fa\"},\"marker\":{\"line\":{\"color\":\"rgb(17,17,17)\",\"width\":0.5},\"pattern\":{\"fillmode\":\"overlay\",\"size\":10,\"solidity\":0.2}},\"type\":\"bar\"}],\"carpet\":[{\"aaxis\":{\"endlinecolor\":\"#A2B1C6\",\"gridcolor\":\"#506784\",\"linecolor\":\"#506784\",\"minorgridcolor\":\"#506784\",\"startlinecolor\":\"#A2B1C6\"},\"baxis\":{\"endlinecolor\":\"#A2B1C6\",\"gridcolor\":\"#506784\",\"linecolor\":\"#506784\",\"minorgridcolor\":\"#506784\",\"startlinecolor\":\"#A2B1C6\"},\"type\":\"carpet\"}],\"choropleth\":[{\"colorbar\":{\"outlinewidth\":0,\"ticks\":\"\"},\"type\":\"choropleth\"}],\"contourcarpet\":[{\"colorbar\":{\"outlinewidth\":0,\"ticks\":\"\"},\"type\":\"contourcarpet\"}],\"contour\":[{\"colorbar\":{\"outlinewidth\":0,\"ticks\":\"\"},\"colorscale\":[[0.0,\"#0d0887\"],[0.1111111111111111,\"#46039f\"],[0.2222222222222222,\"#7201a8\"],[0.3333333333333333,\"#9c179e\"],[0.4444444444444444,\"#bd3786\"],[0.5555555555555556,\"#d8576b\"],[0.6666666666666666,\"#ed7953\"],[0.7777777777777778,\"#fb9f3a\"],[0.8888888888888888,\"#fdca26\"],[1.0,\"#f0f921\"]],\"type\":\"contour\"}],\"heatmapgl\":[{\"colorbar\":{\"outlinewidth\":0,\"ticks\":\"\"},\"colorscale\":[[0.0,\"#0d0887\"],[0.1111111111111111,\"#46039f\"],[0.2222222222222222,\"#7201a8\"],[0.3333333333333333,\"#9c179e\"],[0.4444444444444444,\"#bd3786\"],[0.5555555555555556,\"#d8576b\"],[0.6666666666666666,\"#ed7953\"],[0.7777777777777778,\"#fb9f3a\"],[0.8888888888888888,\"#fdca26\"],[1.0,\"#f0f921\"]],\"type\":\"heatmapgl\"}],\"heatmap\":[{\"colorbar\":{\"outlinewidth\":0,\"ticks\":\"\"},\"colorscale\":[[0.0,\"#0d0887\"],[0.1111111111111111,\"#46039f\"],[0.2222222222222222,\"#7201a8\"],[0.3333333333333333,\"#9c179e\"],[0.4444444444444444,\"#bd3786\"],[0.5555555555555556,\"#d8576b\"],[0.6666666666666666,\"#ed7953\"],[0.7777777777777778,\"#fb9f3a\"],[0.8888888888888888,\"#fdca26\"],[1.0,\"#f0f921\"]],\"type\":\"heatmap\"}],\"histogram2dcontour\":[{\"colorbar\":{\"outlinewidth\":0,\"ticks\":\"\"},\"colorscale\":[[0.0,\"#0d0887\"],[0.1111111111111111,\"#46039f\"],[0.2222222222222222,\"#7201a8\"],[0.3333333333333333,\"#9c179e\"],[0.4444444444444444,\"#bd3786\"],[0.5555555555555556,\"#d8576b\"],[0.6666666666666666,\"#ed7953\"],[0.7777777777777778,\"#fb9f3a\"],[0.8888888888888888,\"#fdca26\"],[1.0,\"#f0f921\"]],\"type\":\"histogram2dcontour\"}],\"histogram2d\":[{\"colorbar\":{\"outlinewidth\":0,\"ticks\":\"\"},\"colorscale\":[[0.0,\"#0d0887\"],[0.1111111111111111,\"#46039f\"],[0.2222222222222222,\"#7201a8\"],[0.3333333333333333,\"#9c179e\"],[0.4444444444444444,\"#bd3786\"],[0.5555555555555556,\"#d8576b\"],[0.6666666666666666,\"#ed7953\"],[0.7777777777777778,\"#fb9f3a\"],[0.8888888888888888,\"#fdca26\"],[1.0,\"#f0f921\"]],\"type\":\"histogram2d\"}],\"histogram\":[{\"marker\":{\"pattern\":{\"fillmode\":\"overlay\",\"size\":10,\"solidity\":0.2}},\"type\":\"histogram\"}],\"mesh3d\":[{\"colorbar\":{\"outlinewidth\":0,\"ticks\":\"\"},\"type\":\"mesh3d\"}],\"parcoords\":[{\"line\":{\"colorbar\":{\"outlinewidth\":0,\"ticks\":\"\"}},\"type\":\"parcoords\"}],\"pie\":[{\"automargin\":true,\"type\":\"pie\"}],\"scatter3d\":[{\"line\":{\"colorbar\":{\"outlinewidth\":0,\"ticks\":\"\"}},\"marker\":{\"colorbar\":{\"outlinewidth\":0,\"ticks\":\"\"}},\"type\":\"scatter3d\"}],\"scattercarpet\":[{\"marker\":{\"colorbar\":{\"outlinewidth\":0,\"ticks\":\"\"}},\"type\":\"scattercarpet\"}],\"scattergeo\":[{\"marker\":{\"colorbar\":{\"outlinewidth\":0,\"ticks\":\"\"}},\"type\":\"scattergeo\"}],\"scattergl\":[{\"marker\":{\"line\":{\"color\":\"#283442\"}},\"type\":\"scattergl\"}],\"scattermapbox\":[{\"marker\":{\"colorbar\":{\"outlinewidth\":0,\"ticks\":\"\"}},\"type\":\"scattermapbox\"}],\"scatterpolargl\":[{\"marker\":{\"colorbar\":{\"outlinewidth\":0,\"ticks\":\"\"}},\"type\":\"scatterpolargl\"}],\"scatterpolar\":[{\"marker\":{\"colorbar\":{\"outlinewidth\":0,\"ticks\":\"\"}},\"type\":\"scatterpolar\"}],\"scatter\":[{\"marker\":{\"line\":{\"color\":\"#283442\"}},\"type\":\"scatter\"}],\"scatterternary\":[{\"marker\":{\"colorbar\":{\"outlinewidth\":0,\"ticks\":\"\"}},\"type\":\"scatterternary\"}],\"surface\":[{\"colorbar\":{\"outlinewidth\":0,\"ticks\":\"\"},\"colorscale\":[[0.0,\"#0d0887\"],[0.1111111111111111,\"#46039f\"],[0.2222222222222222,\"#7201a8\"],[0.3333333333333333,\"#9c179e\"],[0.4444444444444444,\"#bd3786\"],[0.5555555555555556,\"#d8576b\"],[0.6666666666666666,\"#ed7953\"],[0.7777777777777778,\"#fb9f3a\"],[0.8888888888888888,\"#fdca26\"],[1.0,\"#f0f921\"]],\"type\":\"surface\"}],\"table\":[{\"cells\":{\"fill\":{\"color\":\"#506784\"},\"line\":{\"color\":\"rgb(17,17,17)\"}},\"header\":{\"fill\":{\"color\":\"#2a3f5f\"},\"line\":{\"color\":\"rgb(17,17,17)\"}},\"type\":\"table\"}]},\"layout\":{\"annotationdefaults\":{\"arrowcolor\":\"#f2f5fa\",\"arrowhead\":0,\"arrowwidth\":1},\"autotypenumbers\":\"strict\",\"coloraxis\":{\"colorbar\":{\"outlinewidth\":0,\"ticks\":\"\"}},\"colorscale\":{\"diverging\":[[0,\"#8e0152\"],[0.1,\"#c51b7d\"],[0.2,\"#de77ae\"],[0.3,\"#f1b6da\"],[0.4,\"#fde0ef\"],[0.5,\"#f7f7f7\"],[0.6,\"#e6f5d0\"],[0.7,\"#b8e186\"],[0.8,\"#7fbc41\"],[0.9,\"#4d9221\"],[1,\"#276419\"]],\"sequential\":[[0.0,\"#0d0887\"],[0.1111111111111111,\"#46039f\"],[0.2222222222222222,\"#7201a8\"],[0.3333333333333333,\"#9c179e\"],[0.4444444444444444,\"#bd3786\"],[0.5555555555555556,\"#d8576b\"],[0.6666666666666666,\"#ed7953\"],[0.7777777777777778,\"#fb9f3a\"],[0.8888888888888888,\"#fdca26\"],[1.0,\"#f0f921\"]],\"sequentialminus\":[[0.0,\"#0d0887\"],[0.1111111111111111,\"#46039f\"],[0.2222222222222222,\"#7201a8\"],[0.3333333333333333,\"#9c179e\"],[0.4444444444444444,\"#bd3786\"],[0.5555555555555556,\"#d8576b\"],[0.6666666666666666,\"#ed7953\"],[0.7777777777777778,\"#fb9f3a\"],[0.8888888888888888,\"#fdca26\"],[1.0,\"#f0f921\"]]},\"colorway\":[\"#636efa\",\"#EF553B\",\"#00cc96\",\"#ab63fa\",\"#FFA15A\",\"#19d3f3\",\"#FF6692\",\"#B6E880\",\"#FF97FF\",\"#FECB52\"],\"font\":{\"color\":\"#f2f5fa\"},\"geo\":{\"bgcolor\":\"rgb(17,17,17)\",\"lakecolor\":\"rgb(17,17,17)\",\"landcolor\":\"rgb(17,17,17)\",\"showlakes\":true,\"showland\":true,\"subunitcolor\":\"#506784\"},\"hoverlabel\":{\"align\":\"left\"},\"hovermode\":\"closest\",\"mapbox\":{\"style\":\"dark\"},\"paper_bgcolor\":\"rgb(17,17,17)\",\"plot_bgcolor\":\"rgb(17,17,17)\",\"polar\":{\"angularaxis\":{\"gridcolor\":\"#506784\",\"linecolor\":\"#506784\",\"ticks\":\"\"},\"bgcolor\":\"rgb(17,17,17)\",\"radialaxis\":{\"gridcolor\":\"#506784\",\"linecolor\":\"#506784\",\"ticks\":\"\"}},\"scene\":{\"xaxis\":{\"backgroundcolor\":\"rgb(17,17,17)\",\"gridcolor\":\"#506784\",\"gridwidth\":2,\"linecolor\":\"#506784\",\"showbackground\":true,\"ticks\":\"\",\"zerolinecolor\":\"#C8D4E3\"},\"yaxis\":{\"backgroundcolor\":\"rgb(17,17,17)\",\"gridcolor\":\"#506784\",\"gridwidth\":2,\"linecolor\":\"#506784\",\"showbackground\":true,\"ticks\":\"\",\"zerolinecolor\":\"#C8D4E3\"},\"zaxis\":{\"backgroundcolor\":\"rgb(17,17,17)\",\"gridcolor\":\"#506784\",\"gridwidth\":2,\"linecolor\":\"#506784\",\"showbackground\":true,\"ticks\":\"\",\"zerolinecolor\":\"#C8D4E3\"}},\"shapedefaults\":{\"line\":{\"color\":\"#f2f5fa\"}},\"sliderdefaults\":{\"bgcolor\":\"#C8D4E3\",\"bordercolor\":\"rgb(17,17,17)\",\"borderwidth\":1,\"tickwidth\":0},\"ternary\":{\"aaxis\":{\"gridcolor\":\"#506784\",\"linecolor\":\"#506784\",\"ticks\":\"\"},\"baxis\":{\"gridcolor\":\"#506784\",\"linecolor\":\"#506784\",\"ticks\":\"\"},\"bgcolor\":\"rgb(17,17,17)\",\"caxis\":{\"gridcolor\":\"#506784\",\"linecolor\":\"#506784\",\"ticks\":\"\"}},\"title\":{\"x\":0.05},\"updatemenudefaults\":{\"bgcolor\":\"#506784\",\"borderwidth\":0},\"xaxis\":{\"automargin\":true,\"gridcolor\":\"#283442\",\"linecolor\":\"#506784\",\"ticks\":\"\",\"title\":{\"standoff\":15},\"zerolinecolor\":\"#283442\",\"zerolinewidth\":2},\"yaxis\":{\"automargin\":true,\"gridcolor\":\"#283442\",\"linecolor\":\"#506784\",\"ticks\":\"\",\"title\":{\"standoff\":15},\"zerolinecolor\":\"#283442\",\"zerolinewidth\":2}}},\"xaxis\":{\"anchor\":\"y\",\"domain\":[0.0,1.0],\"title\":{\"text\":\"occurred_date\"}},\"yaxis\":{\"anchor\":\"x\",\"domain\":[0.0,1.0],\"title\":{\"text\":\"assault_count\"}},\"legend\":{\"tracegroupgap\":0},\"title\":{\"text\":\"Count of Assault with crime Jan 2021 - Dec 2022 for zipcode 78701\"}},                        {\"responsive\": true}                    ).then(function(){\n",
       "                            \n",
       "var gd = document.getElementById('11f2add1-bdd8-47f8-a135-68854d8f2a70');\n",
       "var x = new MutationObserver(function (mutations, observer) {{\n",
       "        var display = window.getComputedStyle(gd).display;\n",
       "        if (!display || display === 'none') {{\n",
       "            console.log([gd, 'removed!']);\n",
       "            Plotly.purge(gd);\n",
       "            observer.disconnect();\n",
       "        }}\n",
       "}});\n",
       "\n",
       "// Listen for the removal of the full notebook cells\n",
       "var notebookContainer = gd.closest('#notebook-container');\n",
       "if (notebookContainer) {{\n",
       "    x.observe(notebookContainer, {childList: true});\n",
       "}}\n",
       "\n",
       "// Listen for the clearing of the current output cell\n",
       "var outputEl = gd.closest('.output');\n",
       "if (outputEl) {{\n",
       "    x.observe(outputEl, {childList: true});\n",
       "}}\n",
       "\n",
       "                        })                };                });            </script>        </div>"
      ]
     },
     "metadata": {},
     "output_type": "display_data"
    }
   ],
   "source": [
    "fig = px.line(df_assault_21_22_gp, x='occurred_date', y='assault_count', title=\"Count of Assault with crime Jan 2021 - Dec 2022 for zipcode 78701\",template='plotly_dark')\n",
    "\n",
    "fig.show()"
   ]
  },
  {
   "cell_type": "code",
   "execution_count": 26,
   "id": "b14bdb82",
   "metadata": {},
   "outputs": [],
   "source": [
    "df_assault_21_22_gp['occurred_date'] = pd.to_datetime(df_assault_21_22_gp['occurred_date'])"
   ]
  },
  {
   "cell_type": "code",
   "execution_count": 27,
   "id": "662e61cd",
   "metadata": {},
   "outputs": [],
   "source": [
    "df_assault_21_22_gp.set_index('occurred_date',inplace=True)"
   ]
  },
  {
   "cell_type": "code",
   "execution_count": 28,
   "id": "3e8d4adc",
   "metadata": {},
   "outputs": [
    {
     "data": {
      "text/html": [
       "<div>\n",
       "<style scoped>\n",
       "    .dataframe tbody tr th:only-of-type {\n",
       "        vertical-align: middle;\n",
       "    }\n",
       "\n",
       "    .dataframe tbody tr th {\n",
       "        vertical-align: top;\n",
       "    }\n",
       "\n",
       "    .dataframe thead th {\n",
       "        text-align: right;\n",
       "    }\n",
       "</style>\n",
       "<table border=\"1\" class=\"dataframe\">\n",
       "  <thead>\n",
       "    <tr style=\"text-align: right;\">\n",
       "      <th></th>\n",
       "      <th>assault_count</th>\n",
       "    </tr>\n",
       "    <tr>\n",
       "      <th>occurred_date</th>\n",
       "      <th></th>\n",
       "    </tr>\n",
       "  </thead>\n",
       "  <tbody>\n",
       "    <tr>\n",
       "      <th>2021-01-01 04:00:00</th>\n",
       "      <td>1</td>\n",
       "    </tr>\n",
       "    <tr>\n",
       "      <th>2021-01-01 23:00:00</th>\n",
       "      <td>1</td>\n",
       "    </tr>\n",
       "    <tr>\n",
       "      <th>2021-01-05 23:00:00</th>\n",
       "      <td>1</td>\n",
       "    </tr>\n",
       "    <tr>\n",
       "      <th>2021-01-06 05:00:00</th>\n",
       "      <td>1</td>\n",
       "    </tr>\n",
       "    <tr>\n",
       "      <th>2021-01-08 00:00:00</th>\n",
       "      <td>1</td>\n",
       "    </tr>\n",
       "  </tbody>\n",
       "</table>\n",
       "</div>"
      ],
      "text/plain": [
       "                     assault_count\n",
       "occurred_date                     \n",
       "2021-01-01 04:00:00              1\n",
       "2021-01-01 23:00:00              1\n",
       "2021-01-05 23:00:00              1\n",
       "2021-01-06 05:00:00              1\n",
       "2021-01-08 00:00:00              1"
      ]
     },
     "execution_count": 28,
     "metadata": {},
     "output_type": "execute_result"
    }
   ],
   "source": [
    "df_assault_21_22_gp.head()"
   ]
  },
  {
   "cell_type": "markdown",
   "id": "0c08a472",
   "metadata": {},
   "source": [
    "### TIMES SERIES for Assault with Crimes"
   ]
  },
  {
   "cell_type": "code",
   "execution_count": 29,
   "id": "9264c69c",
   "metadata": {},
   "outputs": [],
   "source": [
    "y = df_assault_21_22_gp['assault_count']"
   ]
  },
  {
   "cell_type": "code",
   "execution_count": 30,
   "id": "7536b04f",
   "metadata": {},
   "outputs": [
    {
     "data": {
      "text/plain": [
       "pandas.core.series.Series"
      ]
     },
     "metadata": {},
     "output_type": "display_data"
    },
    {
     "data": {
      "text/plain": [
       "dtype('int64')"
      ]
     },
     "metadata": {},
     "output_type": "display_data"
    }
   ],
   "source": [
    "display(type(y), y.dtype)"
   ]
  },
  {
   "cell_type": "code",
   "execution_count": 31,
   "id": "13029be1",
   "metadata": {},
   "outputs": [
    {
     "data": {
      "text/plain": [
       "<AxesSubplot:xlabel='occurred_date'>"
      ]
     },
     "execution_count": 31,
     "metadata": {},
     "output_type": "execute_result"
    },
    {
     "data": {
      "image/png": "[encoded data removed]",
      "text/plain": [
       "<Figure size 640x480 with 1 Axes>"
      ]
     },
     "metadata": {},
     "output_type": "display_data"
    }
   ],
   "source": [
    "y.plot()"
   ]
  },
  {
   "cell_type": "code",
   "execution_count": 32,
   "id": "04eb34c4",
   "metadata": {},
   "outputs": [
    {
     "data": {
      "image/png": "[encoded data removed]",
      "text/plain": [
       "<Figure size 640x480 with 4 Axes>"
      ]
     },
     "metadata": {},
     "output_type": "display_data"
    }
   ],
   "source": [
    "# Import seasonal_decompose \n",
    "from statsmodels.tsa.seasonal import seasonal_decompose\n",
    "\n",
    "# Make a variable called decomposition, and assign it y passed to seasonal_decompose() \n",
    "decomposition= seasonal_decompose(x=df_assault_21_22_gp['assault_count'], model='additive', extrapolate_trend='freq', period=1)\n",
    "#decomposition= seasonal_decompose(y)\n",
    "# Make three variables for trend, seasonal and residual components respectively. \n",
    "# Assign them the relevant features of decomposition \n",
    "trend = decomposition.trend\n",
    "seasonal = decomposition.seasonal\n",
    "residual = decomposition.resid\n",
    "\n",
    "# Plot the original data, the trend, the seasonality, and the residuals \n",
    "plt.subplot(411)\n",
    "plt.plot(y, label = 'original data')\n",
    "plt.legend(loc = 'best')\n",
    "plt.subplot(412)\n",
    "plt.plot(trend, label = 'Trend')\n",
    "plt.legend(loc = 'best')\n",
    "plt.subplot(413)\n",
    "plt.plot(seasonal, label = 'seasonality')\n",
    "plt.legend(loc = 'best')\n",
    "plt.subplot(414)\n",
    "plt.plot(residual, label = 'Residuals')\n",
    "plt.legend(loc = 'best')\n",
    "plt.tight_layout()"
   ]
  },
  {
   "cell_type": "markdown",
   "id": "b20018db",
   "metadata": {},
   "source": [
    "### Testing for Stationarity using KPSS<a id='stationarity_test'>\n",
    "    Kwiatkowski-Phillips-Schmidt-Shin Test"
   ]
  },
  {
   "cell_type": "code",
   "execution_count": 33,
   "id": "9ede5b66",
   "metadata": {},
   "outputs": [
    {
     "name": "stdout",
     "output_type": "stream",
     "text": [
      "Statistic:  0.07019219597316702\n",
      "p-value:  0.1\n",
      "Number of Lags:  5\n",
      "Critical Values:  {'10%': 0.347, '5%': 0.463, '2.5%': 0.574, '1%': 0.739}\n"
     ]
    }
   ],
   "source": [
    "from statsmodels.tsa.stattools import kpss\n",
    "\n",
    "statistic, p_value, n_lags, critical_values = kpss(df_assault_21_22_gp, nlags='auto')\n",
    "\n",
    "print('Statistic: ', statistic)\n",
    "print('p-value: ', p_value)\n",
    "print('Number of Lags: ', n_lags)\n",
    "print('Critical Values: ', critical_values)"
   ]
  },
  {
   "cell_type": "markdown",
   "id": "2da65d23",
   "metadata": {},
   "source": [
    "Since our p-value is higher than 0.05, we should  fail to reject the Null hypothesis and deduce the stationarity of our data.\n",
    "\n"
   ]
  },
  {
   "cell_type": "markdown",
   "id": "eecd7bd8",
   "metadata": {},
   "source": [
    "### ADFuller test to test for stationarity<a id='adfuller_test'>"
   ]
  },
  {
   "cell_type": "code",
   "execution_count": 35,
   "id": "d5657b18",
   "metadata": {},
   "outputs": [],
   "source": [
    "from statsmodels.tsa.stattools import adfuller"
   ]
  },
  {
   "cell_type": "code",
   "execution_count": 36,
   "id": "5a40af5d",
   "metadata": {},
   "outputs": [],
   "source": [
    "def adf_test(series,title=''):\n",
    "    \"\"\"\n",
    "    Pass in a time series and an optional title, returns an ADF report\n",
    "    \"\"\"\n",
    "    print(f'Augmented Dickey-Fuller Test: {title}\\n')\n",
    "    result = adfuller(series.dropna(),autolag='AIC') # .dropna() handles differenced data\n",
    "    \n",
    "    labels = ['ADF test statistic','p-value','# lags used','# observations']\n",
    "    out = pd.Series(result[0:4],index=labels)\n",
    "\n",
    "    for key,val in result[4].items():\n",
    "        out[f'critical value ({key})']=val\n",
    "        \n",
    "    print(out.to_string())          # .to_string() removes the line \"dtype: float64\"\n",
    "    \n",
    "    print() #empty line for formatting\n",
    "    if result[1] <= 0.05:\n",
    "        print(\"Strong evidence against the null hypothesis\")\n",
    "        print(\"Reject the null hypothesis\")\n",
    "        print(\"Data has no unit root and is STATIONARY\")\n",
    "    else:\n",
    "        print(\"Weak evidence against the null hypothesis\")\n",
    "        print(\"Fail to reject the null hypothesis\")\n",
    "        print(\"Data has a unit root and is NOT STATIONARY\")\n",
    "\n"
   ]
  },
  {
   "cell_type": "code",
   "execution_count": 37,
   "id": "e1243649",
   "metadata": {},
   "outputs": [
    {
     "name": "stdout",
     "output_type": "stream",
     "text": [
      "Augmented Dickey-Fuller Test: \n",
      "\n",
      "ADF test statistic     -8.088555e+00\n",
      "p-value                 1.398273e-12\n",
      "# lags used             7.000000e+00\n",
      "# observations          6.800000e+02\n",
      "critical value (1%)    -3.440003e+00\n",
      "critical value (5%)    -2.865800e+00\n",
      "critical value (10%)   -2.569038e+00\n",
      "\n",
      "Strong evidence against the null hypothesis\n",
      "Reject the null hypothesis\n",
      "Data has no unit root and is STATIONARY\n"
     ]
    }
   ],
   "source": [
    "adf_test(df_assault_21_22_gp)"
   ]
  },
  {
   "cell_type": "markdown",
   "id": "80e1e54e",
   "metadata": {},
   "source": [
    "### Train_test split<a id='train_test_split'>\n",
    "Creating train and test file for modeling. <br />\n"
   ]
  },
  {
   "cell_type": "code",
   "execution_count": 52,
   "id": "1c1ee7c3",
   "metadata": {},
   "outputs": [],
   "source": [
    "df_assault_21_22_gp.reset_index(inplace=True)"
   ]
  },
  {
   "cell_type": "code",
   "execution_count": 53,
   "id": "53c2ebc3",
   "metadata": {},
   "outputs": [
    {
     "data": {
      "text/plain": [
       "(688, 2)"
      ]
     },
     "execution_count": 53,
     "metadata": {},
     "output_type": "execute_result"
    }
   ],
   "source": [
    "df_assault_21_22_gp.shape"
   ]
  },
  {
   "cell_type": "code",
   "execution_count": 54,
   "id": "f6c3032f",
   "metadata": {},
   "outputs": [],
   "source": [
    "df_train=df_assault_21_22_gp[df_assault_21_22_gp.occurred_date.between('2021-01-01 00:00:00', '2022-08-31 23:00:00')]"
   ]
  },
  {
   "cell_type": "code",
   "execution_count": 55,
   "id": "6dc33e03",
   "metadata": {},
   "outputs": [],
   "source": [
    "df_test=df_assault_21_22_gp[df_assault_21_22_gp.occurred_date.between('2022-09-01 00:00:00', '2022-12-31 23:00:00')]"
   ]
  },
  {
   "cell_type": "code",
   "execution_count": 56,
   "id": "62e6f645",
   "metadata": {},
   "outputs": [
    {
     "data": {
      "text/plain": [
       "(578, 2)"
      ]
     },
     "execution_count": 56,
     "metadata": {},
     "output_type": "execute_result"
    }
   ],
   "source": [
    "df_train.shape"
   ]
  },
  {
   "cell_type": "code",
   "execution_count": 57,
   "id": "b26c6a58",
   "metadata": {},
   "outputs": [
    {
     "data": {
      "text/plain": [
       "(110, 2)"
      ]
     },
     "execution_count": 57,
     "metadata": {},
     "output_type": "execute_result"
    }
   ],
   "source": [
    "df_test.shape"
   ]
  },
  {
   "cell_type": "code",
   "execution_count": null,
   "id": "b58ff4e1",
   "metadata": {},
   "outputs": [],
   "source": [
    "df_train.set_index('occurred_date',inplace=True)"
   ]
  },
  {
   "cell_type": "code",
   "execution_count": 68,
   "id": "ef9fd400",
   "metadata": {},
   "outputs": [],
   "source": [
    "df_test.set_index('occurred_date',inplace=True)"
   ]
  },
  {
   "cell_type": "code",
   "execution_count": 66,
   "id": "663667ed",
   "metadata": {},
   "outputs": [],
   "source": [
    "X_train = df_train"
   ]
  },
  {
   "cell_type": "code",
   "execution_count": 69,
   "id": "9c870cef",
   "metadata": {},
   "outputs": [],
   "source": [
    "X_test=df_test"
   ]
  },
  {
   "cell_type": "code",
   "execution_count": 70,
   "id": "200fd7cf",
   "metadata": {},
   "outputs": [
    {
     "data": {
      "text/plain": [
       "((578, 1), (110, 1))"
      ]
     },
     "execution_count": 70,
     "metadata": {},
     "output_type": "execute_result"
    }
   ],
   "source": [
    "X_train.shape, X_test.shape"
   ]
  },
  {
   "cell_type": "code",
   "execution_count": 71,
   "id": "073335e4",
   "metadata": {},
   "outputs": [],
   "source": [
    "y_train, y_test = np.array(range(X_train.shape[0])), np.array(range(X_train.shape[0], df_assault_21_22_gp.shape[0]))"
   ]
  },
  {
   "cell_type": "code",
   "execution_count": 72,
   "id": "996c7411",
   "metadata": {},
   "outputs": [
    {
     "data": {
      "text/plain": [
       "((578,), (110,))"
      ]
     },
     "execution_count": 72,
     "metadata": {},
     "output_type": "execute_result"
    }
   ],
   "source": [
    "y_train.shape,y_test.shape"
   ]
  },
  {
   "cell_type": "code",
   "execution_count": 73,
   "id": "43d2ebfa",
   "metadata": {},
   "outputs": [
    {
     "data": {
      "text/plain": [
       "Text(0.5, 1.0, 'Assault with crime train and test sets')"
      ]
     },
     "execution_count": 73,
     "metadata": {},
     "output_type": "execute_result"
    },
    {
     "data": {
      "image/png": "[encoded data removed]",
      "text/plain": [
       "<Figure size 1500x500 with 1 Axes>"
      ]
     },
     "metadata": {},
     "output_type": "display_data"
    }
   ],
   "source": [
    "fig, ax = plt.subplots(1, 1, figsize=(15, 5))\n",
    "ax.plot(y_train, X_train, label='Training set')\n",
    "ax.plot(y_test, X_test, label='Test set')\n",
    "plt.legend()\n",
    "plt.title('Assault with crime train and test sets', size=20)"
   ]
  },
  {
   "cell_type": "markdown",
   "id": "6b668217",
   "metadata": {},
   "source": [
    "### Simple Forecast Methods<a id='simple_forecast_methods'>\n",
    "    \n",
    "Based on Rob J Hyndman and George Athanasopoulos\"<br />\n",
    "Forecasting: Principles and Practice; 3rd Edition<br />\n",
    "https://otexts.com/fpp3/"
   ]
  },
  {
   "cell_type": "code",
   "execution_count": 175,
   "id": "52155436",
   "metadata": {},
   "outputs": [
    {
     "data": {
      "image/png": "[encoded data removed]",
      "text/plain": [
       "<Figure size 1500x800 with 1 Axes>"
      ]
     },
     "metadata": {},
     "output_type": "display_data"
    }
   ],
   "source": [
    "#Plotting data\n",
    "X_train.assault_count.plot(figsize=(15,8), title='Hourly Assaults', fontsize=14)\n",
    "X_test.assault_count.plot(figsize=(15,8), title='Hourly Assaults', fontsize=14)\n",
    "plt.show()"
   ]
  },
  {
   "cell_type": "code",
   "execution_count": 279,
   "id": "469ce5be",
   "metadata": {},
   "outputs": [
    {
     "data": {
      "text/plain": [
       "DatetimeIndex(['2021-01-01 04:00:00', '2021-01-01 23:00:00',\n",
       "               '2021-01-05 23:00:00', '2021-01-06 05:00:00',\n",
       "               '2021-01-08 00:00:00', '2021-01-08 21:00:00',\n",
       "               '2021-01-09 01:00:00', '2021-01-09 09:00:00',\n",
       "               '2021-01-09 18:00:00', '2021-01-10 12:00:00',\n",
       "               ...\n",
       "               '2022-08-24 00:00:00', '2022-08-24 07:00:00',\n",
       "               '2022-08-24 08:00:00', '2022-08-24 17:00:00',\n",
       "               '2022-08-26 01:00:00', '2022-08-28 02:00:00',\n",
       "               '2022-08-29 02:00:00', '2022-08-31 01:00:00',\n",
       "               '2022-08-31 13:00:00', '2022-08-31 19:00:00'],\n",
       "              dtype='datetime64[ns]', name='occurred_date', length=578, freq=None)"
      ]
     },
     "execution_count": 279,
     "metadata": {},
     "output_type": "execute_result"
    }
   ],
   "source": [
    "X_train.index"
   ]
  },
  {
   "cell_type": "markdown",
   "id": "676dd3c3",
   "metadata": {},
   "source": [
    "### NAIVE Method<a id='naive_method'>"
   ]
  },
  {
   "cell_type": "code",
   "execution_count": 183,
   "id": "7385c64c",
   "metadata": {},
   "outputs": [
    {
     "data": {
      "image/png": "[encoded data removed]",
      "text/plain": [
       "<Figure size 1200x800 with 1 Axes>"
      ]
     },
     "metadata": {},
     "output_type": "display_data"
    }
   ],
   "source": [
    "dd= np.asarray(X_train.assault_count)\n",
    "y_hat = X_test.copy()\n",
    "y_hat['naive'] = dd[len(dd)-1]\n",
    "plt.figure(figsize=(12,8))\n",
    "plt.plot(X_train.index, X_train['assault_count'], label='Train')\n",
    "plt.plot(X_test.index,X_test['assault_count'], label='Test')\n",
    "plt.plot(y_hat.index,y_hat['naive'], label='Naive Forecast')\n",
    "plt.legend(loc='best')\n",
    "plt.title(\"Naive Forecast\")\n",
    "plt.show()"
   ]
  },
  {
   "cell_type": "code",
   "execution_count": 184,
   "id": "60326f4c",
   "metadata": {},
   "outputs": [
    {
     "name": "stdout",
     "output_type": "stream",
     "text": [
      "Root Mean Square Error based on Naive method:  0.21320071635561044\n"
     ]
    }
   ],
   "source": [
    "rmse = sqrt(mean_squared_error(X_test.assault_count, y_hat.naive))\n",
    "print(\"Root Mean Square Error based on Naive method: \",rmse)"
   ]
  },
  {
   "cell_type": "markdown",
   "id": "1e6f7b8f",
   "metadata": {},
   "source": [
    "### Simple Average Method<a id='avg_method'>"
   ]
  },
  {
   "cell_type": "code",
   "execution_count": 178,
   "id": "dc4be5db",
   "metadata": {},
   "outputs": [
    {
     "data": {
      "image/png": "[encoded data removed]",
      "text/plain": [
       "<Figure size 1200x800 with 1 Axes>"
      ]
     },
     "metadata": {},
     "output_type": "display_data"
    }
   ],
   "source": [
    "y_hat_avg = X_test.copy()\n",
    "y_hat_avg['avg_forecast'] = X_train['assault_count'].mean()\n",
    "plt.figure(figsize=(12,8))\n",
    "plt.plot(X_train['assault_count'], label='Train')\n",
    "plt.plot(X_test['assault_count'], label='Test')\n",
    "plt.plot(y_hat_avg['avg_forecast'], label='Average Forecast')\n",
    "plt.legend(loc='best')\n",
    "plt.show()"
   ]
  },
  {
   "cell_type": "code",
   "execution_count": 179,
   "id": "47c05780",
   "metadata": {},
   "outputs": [
    {
     "name": "stdout",
     "output_type": "stream",
     "text": [
      "Root Mean Square Error based on Simple Average method:  0.20831053342830427\n"
     ]
    }
   ],
   "source": [
    "rmse = sqrt(mean_squared_error(X_test.assault_count, y_hat_avg.avg_forecast))\n",
    "print(\"Root Mean Square Error based on Simple Average method: \",rmse)"
   ]
  },
  {
   "cell_type": "markdown",
   "id": "5dcf9305",
   "metadata": {},
   "source": [
    "### Moving Average Method<a id='moving_avg_method'>"
   ]
  },
  {
   "cell_type": "code",
   "execution_count": 283,
   "id": "34ad647d",
   "metadata": {},
   "outputs": [
    {
     "data": {
      "image/png": "[encoded data removed]",
      "text/plain": [
       "<Figure size 1600x800 with 1 Axes>"
      ]
     },
     "metadata": {},
     "output_type": "display_data"
    }
   ],
   "source": [
    "y_hat_avg = X_test.copy()\n",
    "y_hat_avg['moving_avg_forecast'] = X_train['assault_count'].rolling(60).mean().iloc[-1]\n",
    "plt.figure(figsize=(16,8))\n",
    "plt.plot(X_train['assault_count'], label='Train')\n",
    "plt.plot(X_test['assault_count'], label='Test')\n",
    "plt.plot(y_hat_avg['moving_avg_forecast'], label='Moving Average Forecast')\n",
    "plt.legend(loc='best')\n",
    "plt.show()"
   ]
  },
  {
   "cell_type": "code",
   "execution_count": 284,
   "id": "458cb2bb",
   "metadata": {},
   "outputs": [
    {
     "name": "stdout",
     "output_type": "stream",
     "text": [
      "Root Mean Square Error based on Moving Average method:  0.208651272546691\n"
     ]
    }
   ],
   "source": [
    "rmse = sqrt(mean_squared_error(X_test.assault_count, y_hat_avg.moving_avg_forecast))\n",
    "print(\"Root Mean Square Error based on Moving Average method: \",rmse)"
   ]
  },
  {
   "cell_type": "markdown",
   "id": "fb8b5101",
   "metadata": {},
   "source": [
    "### Simple Exponential Smoothing Method<a id='simple_exponential_method'>\n",
    "<br />Exponential smoothing is a method for forecasting univariate time series data. <br />\n",
    "It is based on the principle that a prediction is a weighted linear sum of past observations or lags.<br />\n",
    "The Exponential Smoothing time series method works by assigning exponentially decreasing weights for past observations."
   ]
  },
  {
   "cell_type": "code",
   "execution_count": 121,
   "id": "5ed79e3c",
   "metadata": {},
   "outputs": [],
   "source": [
    "from statsmodels.tsa.api import ExponentialSmoothing, SimpleExpSmoothing, Holt"
   ]
  },
  {
   "cell_type": "code",
   "execution_count": 248,
   "id": "8d1da408",
   "metadata": {},
   "outputs": [
    {
     "data": {
      "image/png": "[encoded data removed]",
      "text/plain": [
       "<Figure size 1600x800 with 1 Axes>"
      ]
     },
     "metadata": {},
     "output_type": "display_data"
    }
   ],
   "source": [
    "y_hat_avg = X_test.copy()\n",
    "fit2 = SimpleExpSmoothing(np.asarray(X_train['assault_count'])).fit(smoothing_level=0.8,optimized=False)\n",
    "y_hat_avg['SES'] = fit2.forecast(len(X_test))\n",
    "plt.figure(figsize=(16,8))\n",
    "plt.plot(X_train['assault_count'], label='Train')\n",
    "plt.plot(X_test['assault_count'], label='Test')\n",
    "plt.plot(y_hat_avg['SES'], label='SES')\n",
    "plt.legend(loc='best')\n",
    "plt.show()"
   ]
  },
  {
   "cell_type": "code",
   "execution_count": 188,
   "id": "597449f6",
   "metadata": {},
   "outputs": [
    {
     "name": "stdout",
     "output_type": "stream",
     "text": [
      "Root Mean Square Error based on Simple Exponential Smoothing method:  0.21293149116248522\n"
     ]
    }
   ],
   "source": [
    "rmse = sqrt(mean_squared_error(X_test.assault_count, y_hat_avg.SES))\n",
    "print(\"Root Mean Square Error based on Simple Exponential Smoothing method: \",rmse)"
   ]
  },
  {
   "cell_type": "markdown",
   "id": "94e81f8d",
   "metadata": {},
   "source": [
    "##### For Exponential Smoothing, I tried with 0.6 and 0.8 for smoothing_level and observed that 0.8 smoothing_level gave a lower RMSE value and hence will keep 0.8. "
   ]
  },
  {
   "cell_type": "markdown",
   "id": "e51b113c",
   "metadata": {},
   "source": [
    "### Autocorrelation and Partial Autocorrelation plots of the data."
   ]
  },
  {
   "cell_type": "markdown",
   "id": "5c29c95e",
   "metadata": {},
   "source": [
    "Draw a partial autocorrelation graph(ACF) of the data. This will help us in finding the value of p because the cut-off point to the PACF is p. \n",
    "Draw an autocorrelation graph(ACF) of the data. This will help us in finding the value of q because the cut-off point to the ACF is q.  "
   ]
  },
  {
   "cell_type": "code",
   "execution_count": 128,
   "id": "be0dff14",
   "metadata": {},
   "outputs": [
    {
     "data": {
      "image/png": "[encoded data removed]",
      "text/plain": [
       "<Figure size 640x480 with 1 Axes>"
      ]
     },
     "metadata": {},
     "output_type": "display_data"
    }
   ],
   "source": [
    "from statsmodels.graphics.tsaplots import plot_pacf\n",
    "plot_pacf(np.array(X_train.assault_count))\n",
    "plt.show()"
   ]
  },
  {
   "cell_type": "markdown",
   "id": "b1ce1a5e",
   "metadata": {},
   "source": [
    "### From the above graph, The partial autocorrelation plot (which assists us in determining the AR term) drops  after one lag (we do not count the first lag). This implies that we should use an AR(1) model."
   ]
  },
  {
   "cell_type": "code",
   "execution_count": 129,
   "id": "2d85a2ed",
   "metadata": {},
   "outputs": [
    {
     "data": {
      "image/png": "[encoded data removed]",
      "text/plain": [
       "<Figure size 640x480 with 1 Axes>"
      ]
     },
     "metadata": {},
     "output_type": "display_data"
    }
   ],
   "source": [
    "from statsmodels.graphics.tsaplots import plot_acf\n",
    "plot_acf(np.array(X_train.assault_count))\n",
    "plt.show()"
   ]
  },
  {
   "cell_type": "markdown",
   "id": "f879c416",
   "metadata": {},
   "source": [
    "### From the above plot, I will consider MA(1) model"
   ]
  },
  {
   "cell_type": "code",
   "execution_count": 132,
   "id": "e66f993b",
   "metadata": {},
   "outputs": [
    {
     "data": {
      "text/plain": [
       "0"
      ]
     },
     "execution_count": 132,
     "metadata": {},
     "output_type": "execute_result"
    }
   ],
   "source": [
    "from pmdarima.arima.utils import ndiffs\n",
    "\n",
    "ndiffs(X_train)"
   ]
  },
  {
   "cell_type": "markdown",
   "id": "3f60621c",
   "metadata": {},
   "source": [
    "#####  order of differencing as per above result. d=0"
   ]
  },
  {
   "cell_type": "code",
   "execution_count": 133,
   "id": "fab54fff",
   "metadata": {},
   "outputs": [
    {
     "data": {
      "text/plain": [
       "0"
      ]
     },
     "execution_count": 133,
     "metadata": {},
     "output_type": "execute_result"
    }
   ],
   "source": [
    "from pmdarima.arima import nsdiffs\n",
    "nsdiffs(X_train,12)"
   ]
  },
  {
   "cell_type": "markdown",
   "id": "235797d8",
   "metadata": {},
   "source": [
    "##### No seasonality as per above result"
   ]
  },
  {
   "cell_type": "markdown",
   "id": "b385d60d",
   "metadata": {},
   "source": [
    "### Therefore the values of p, d and q, based on the above acf and pacf plots, I am going to consider, p=1, d=0, q=1"
   ]
  },
  {
   "cell_type": "code",
   "execution_count": 212,
   "id": "287b0d70",
   "metadata": {},
   "outputs": [
    {
     "name": "stdout",
     "output_type": "stream",
     "text": [
      "                               SARIMAX Results                                \n",
      "==============================================================================\n",
      "Dep. Variable:          assault_count   No. Observations:                  578\n",
      "Model:                 ARIMA(1, 0, 1)   Log Likelihood                  55.875\n",
      "Date:                Tue, 07 Mar 2023   AIC                           -103.750\n",
      "Time:                        07:57:41   BIC                            -86.311\n",
      "Sample:                             0   HQIC                           -96.950\n",
      "                                - 578                                         \n",
      "Covariance Type:                  opg                                         \n",
      "==============================================================================\n",
      "                 coef    std err          z      P>|z|      [0.025      0.975]\n",
      "------------------------------------------------------------------------------\n",
      "const          1.0433      0.026     39.453      0.000       0.991       1.095\n",
      "ar.L1         -0.7437      0.711     -1.045      0.296      -2.138       0.651\n",
      "ma.L1          0.7642      0.675      1.132      0.258      -0.559       2.087\n",
      "sigma2         0.0483      0.002     24.607      0.000       0.044       0.052\n",
      "===================================================================================\n",
      "Ljung-Box (L1) (Q):                   0.29   Jarque-Bera (JB):             27211.04\n",
      "Prob(Q):                              0.59   Prob(JB):                         0.00\n",
      "Heteroskedasticity (H):               0.85   Skew:                             5.43\n",
      "Prob(H) (two-sided):                  0.25   Kurtosis:                        34.81\n",
      "===================================================================================\n",
      "\n",
      "Warnings:\n",
      "[1] Covariance matrix calculated using the outer product of gradients (complex-step).\n"
     ]
    }
   ],
   "source": [
    "model = ARIMA(X_train, order=(1,0,1))\n",
    "model_fit = model.fit()\n",
    "print(model_fit.summary())"
   ]
  },
  {
   "cell_type": "code",
   "execution_count": 227,
   "id": "327c209a",
   "metadata": {},
   "outputs": [
    {
     "name": "stdout",
     "output_type": "stream",
     "text": [
      "Root Mean Square Error based on ARIMA method(forecast):  0.0433242710369246\n"
     ]
    }
   ],
   "source": [
    "# make predictions using forecast method\n",
    "predictions_f_ms = model_fit.forecast(steps=len(X_test))\n",
    "rmse = mean_squared_error(X_test.assault_count, predictions_f_ms)\n",
    "print(\"Root Mean Square Error based on ARIMA method(forecast): \",rmse)"
   ]
  },
  {
   "cell_type": "code",
   "execution_count": 252,
   "id": "c1d6846c",
   "metadata": {},
   "outputs": [
    {
     "name": "stdout",
     "output_type": "stream",
     "text": [
      "Root Mean Square Error based on ARIMA method(predict method):  0.0433242710369246\n"
     ]
    }
   ],
   "source": [
    "# make predictions using predict method\n",
    "predictions_p_ms = model_fit.predict(start=len(X_train), end=len(X_train)+len(X_test)-1)\n",
    "rmse = mean_squared_error(X_test.assault_count, predictions_p_ms)\n",
    "print(\"Root Mean Square Error based on ARIMA method(predict method): \",rmse)"
   ]
  },
  {
   "cell_type": "code",
   "execution_count": 151,
   "id": "94806b6d",
   "metadata": {},
   "outputs": [],
   "source": [
    "import statsmodels.api as sm"
   ]
  },
  {
   "cell_type": "code",
   "execution_count": 254,
   "id": "08bf246c",
   "metadata": {},
   "outputs": [
    {
     "data": {
      "text/plain": [
       "578"
      ]
     },
     "execution_count": 254,
     "metadata": {},
     "output_type": "execute_result"
    }
   ],
   "source": [
    "len(X_train)"
   ]
  },
  {
   "cell_type": "code",
   "execution_count": 255,
   "id": "0204d154",
   "metadata": {},
   "outputs": [
    {
     "data": {
      "text/plain": [
       "687"
      ]
     },
     "execution_count": 255,
     "metadata": {},
     "output_type": "execute_result"
    }
   ],
   "source": [
    "len(X_train)+len(X_test)-1"
   ]
  },
  {
   "cell_type": "code",
   "execution_count": 267,
   "id": "f8cb99ec",
   "metadata": {
    "scrolled": true
   },
   "outputs": [
    {
     "data": {
      "image/png": "[encoded data removed]",
      "text/plain": [
       "<Figure size 1600x800 with 1 Axes>"
      ]
     },
     "metadata": {},
     "output_type": "display_data"
    }
   ],
   "source": [
    "y_hat_avg = X_test.copy()\n",
    "model= sm.tsa.statespace.SARIMAX(X_train.assault_count, order=(1,0,1),seasonal_order=(1,0,1,12)).fit()\n",
    "y_hat_avg['SARIMA'] = model.predict(start=578, end=687, dynamic=True)\n",
    "plt.figure(figsize=(16,8))\n",
    "plt.plot(X_train['assault_count'], label='Train')\n",
    "plt.plot(X_test['assault_count'], label='Test')\n",
    "#plt.plot(y_hat_avg, label='SARIMA')\n",
    "plt.legend(loc='best')\n",
    "plt.show()"
   ]
  },
  {
   "cell_type": "code",
   "execution_count": 275,
   "id": "cd17973b",
   "metadata": {},
   "outputs": [
    {
     "data": {
      "text/html": [
       "<div>\n",
       "<style scoped>\n",
       "    .dataframe tbody tr th:only-of-type {\n",
       "        vertical-align: middle;\n",
       "    }\n",
       "\n",
       "    .dataframe tbody tr th {\n",
       "        vertical-align: top;\n",
       "    }\n",
       "\n",
       "    .dataframe thead th {\n",
       "        text-align: right;\n",
       "    }\n",
       "</style>\n",
       "<table border=\"1\" class=\"dataframe\">\n",
       "  <thead>\n",
       "    <tr style=\"text-align: right;\">\n",
       "      <th></th>\n",
       "      <th>assault_count</th>\n",
       "      <th>SARIMA</th>\n",
       "    </tr>\n",
       "    <tr>\n",
       "      <th>occurred_date</th>\n",
       "      <th></th>\n",
       "      <th></th>\n",
       "    </tr>\n",
       "  </thead>\n",
       "  <tbody>\n",
       "    <tr>\n",
       "      <th>2022-09-03 22:00:00</th>\n",
       "      <td>1</td>\n",
       "      <td>NaN</td>\n",
       "    </tr>\n",
       "    <tr>\n",
       "      <th>2022-09-04 01:00:00</th>\n",
       "      <td>1</td>\n",
       "      <td>NaN</td>\n",
       "    </tr>\n",
       "    <tr>\n",
       "      <th>2022-09-04 04:00:00</th>\n",
       "      <td>2</td>\n",
       "      <td>NaN</td>\n",
       "    </tr>\n",
       "    <tr>\n",
       "      <th>2022-09-05 01:00:00</th>\n",
       "      <td>1</td>\n",
       "      <td>NaN</td>\n",
       "    </tr>\n",
       "    <tr>\n",
       "      <th>2022-09-05 02:00:00</th>\n",
       "      <td>1</td>\n",
       "      <td>NaN</td>\n",
       "    </tr>\n",
       "    <tr>\n",
       "      <th>...</th>\n",
       "      <td>...</td>\n",
       "      <td>...</td>\n",
       "    </tr>\n",
       "    <tr>\n",
       "      <th>2022-12-26 12:00:00</th>\n",
       "      <td>1</td>\n",
       "      <td>NaN</td>\n",
       "    </tr>\n",
       "    <tr>\n",
       "      <th>2022-12-27 22:00:00</th>\n",
       "      <td>1</td>\n",
       "      <td>NaN</td>\n",
       "    </tr>\n",
       "    <tr>\n",
       "      <th>2022-12-28 23:00:00</th>\n",
       "      <td>1</td>\n",
       "      <td>NaN</td>\n",
       "    </tr>\n",
       "    <tr>\n",
       "      <th>2022-12-30 15:00:00</th>\n",
       "      <td>1</td>\n",
       "      <td>NaN</td>\n",
       "    </tr>\n",
       "    <tr>\n",
       "      <th>2022-12-31 09:00:00</th>\n",
       "      <td>1</td>\n",
       "      <td>NaN</td>\n",
       "    </tr>\n",
       "  </tbody>\n",
       "</table>\n",
       "<p>110 rows × 2 columns</p>\n",
       "</div>"
      ],
      "text/plain": [
       "                     assault_count  SARIMA\n",
       "occurred_date                             \n",
       "2022-09-03 22:00:00              1     NaN\n",
       "2022-09-04 01:00:00              1     NaN\n",
       "2022-09-04 04:00:00              2     NaN\n",
       "2022-09-05 01:00:00              1     NaN\n",
       "2022-09-05 02:00:00              1     NaN\n",
       "...                            ...     ...\n",
       "2022-12-26 12:00:00              1     NaN\n",
       "2022-12-27 22:00:00              1     NaN\n",
       "2022-12-28 23:00:00              1     NaN\n",
       "2022-12-30 15:00:00              1     NaN\n",
       "2022-12-31 09:00:00              1     NaN\n",
       "\n",
       "[110 rows x 2 columns]"
      ]
     },
     "execution_count": 275,
     "metadata": {},
     "output_type": "execute_result"
    }
   ],
   "source": [
    "y_hat_avg"
   ]
  },
  {
   "cell_type": "code",
   "execution_count": 286,
   "id": "caca0dcf",
   "metadata": {},
   "outputs": [
    {
     "data": {
      "image/png": "[encoded data removed]",
      "text/plain": [
       "<IPython.core.display.Image object>"
      ]
     },
     "execution_count": 286,
     "metadata": {},
     "output_type": "execute_result"
    }
   ],
   "source": [
    "from IPython.display import Image\n",
    "Image(filename='rmse.png') "
   ]
  },
  {
   "cell_type": "code",
   "execution_count": null,
   "id": "c0bbdb8c",
   "metadata": {},
   "outputs": [],
   "source": []
  }
 ],
 "metadata": {
  "kernelspec": {
   "display_name": "Python 3 (ipykernel)",
   "language": "python",
   "name": "python3"
  },
  "language_info": {
   "codemirror_mode": {
    "name": "ipython",
    "version": 3
   },
   "file_extension": ".py",
   "mimetype": "text/x-python",
   "name": "python",
   "nbconvert_exporter": "python",
   "pygments_lexer": "ipython3",
   "version": "3.9.13"
  }
 },
 "nbformat": 4,
 "nbformat_minor": 5
}
