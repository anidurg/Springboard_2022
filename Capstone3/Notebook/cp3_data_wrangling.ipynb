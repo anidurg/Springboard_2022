{
 "cells": [
  {
   "cell_type": "markdown",
   "id": "ccc0f1ac",
   "metadata": {},
   "source": [
    "## Contents<a id='Contents'></a>\n",
    "* [Data wrangling](#Data_wrangling)\n",
    "  * [Contents](#Contents)\n",
    "  * [Introduction](#Introduction)\n",
    "    * [Recap Of Data Science Problem](#Recap_Of_Data_Science_Problem)\n",
    "    * [Data Source](#data_source)\n",
    "    * [API_request](#api_request)\n",
    "    * [Load the Data](#load_data)\n",
    "    * [saving pandas dataframe to parquet file](#df_2_parquet)\n",
    "    * [About Columns in this dataset](#about_columns)\n",
    "    \n",
    "  * [Imports](#Imports)\n",
    "  * [Objectives](#Objectives)\n",
    "  * [Load The Crime reports Data](#load_data)\n",
    "  * [Date Column Manipulations](#date_manipulations)\n",
    "  * [Number of missing values by column](#missing_columns)\n",
    "  * [ Check for Duplicates](#check_duplicates)\n",
    "  * [save the wrangled file](#save_file)\n",
    "  * [Summary of Data Wrangling](#summary)\n",
    "     "
   ]
  },
  {
   "cell_type": "markdown",
   "id": "68e383a5",
   "metadata": {},
   "source": [
    "### Introduction<a id='Introduction'>\n",
    "    \n",
    "This step focuses on collecting the data, organizing it, and making sure it's well defined. Some data cleaning will be done at this stage."
   ]
  },
  {
   "cell_type": "markdown",
   "id": "afea9d0a",
   "metadata": {},
   "source": [
    "### Recap Of Data Science Problem<a id='Recap_Of_Data_Science_Problem'>\n",
    "    \n",
    "The purpose of this data science project is to come up with machine learning models that will provide guidance to Austin Police Department(APD) and provide safety measures to Austin Public by informing them about the safe negihborhoods.\n"
   ]
  },
  {
   "cell_type": "markdown",
   "id": "62fd91d1",
   "metadata": {},
   "source": [
    "### Data Source<a id='data_source'>\n",
    "    \n",
    "Data is provided by APD and dataset owner is APD PIO(Public Information Officer). "
   ]
  },
  {
   "cell_type": "markdown",
   "id": "18a30c6d",
   "metadata": {},
   "source": [
    "### IMPORTS<a id='Imports'>"
   ]
  },
  {
   "cell_type": "code",
   "execution_count": 1,
   "id": "12fb13d6",
   "metadata": {},
   "outputs": [],
   "source": [
    "import pandas as pd\n",
    "import numpy as np\n",
    "import seaborn as sns\n",
    "import matplotlib.pyplot as plt\n",
    "%matplotlib inline\n",
    "import requests\n",
    "import time\n",
    "from sodapy import Socrata\n",
    "#requires conda installation of missingno\n",
    "import missingno as msno\n",
    "import warnings\n",
    "warnings.filterwarnings('ignore')"
   ]
  },
  {
   "cell_type": "code",
   "execution_count": 2,
   "id": "8f942095",
   "metadata": {},
   "outputs": [],
   "source": [
    "import os\n",
    "\n",
    "from dotenv import load_dotenv\n",
    "load_dotenv()\n",
    "app_token=os.getenv('AUSTEX_API_TOKEN')\n",
    "\n",
    "#print(app_token)\n",
    "\n"
   ]
  },
  {
   "cell_type": "markdown",
   "id": "7a2f9cd1",
   "metadata": {},
   "source": [
    "### API request<a id='api_request'>"
   ]
  },
  {
   "cell_type": "code",
   "execution_count": 3,
   "id": "473b3271",
   "metadata": {},
   "outputs": [],
   "source": [
    "x = requests.get(f\"https://data.austintexas.gov/resource/fdj4-gpfu.json?$limit=2000000&$$app_token={app_token}\")"
   ]
  },
  {
   "cell_type": "code",
   "execution_count": 4,
   "id": "5da126d6",
   "metadata": {},
   "outputs": [
    {
     "name": "stdout",
     "output_type": "stream",
     "text": [
      "200\n"
     ]
    }
   ],
   "source": [
    "print(x.status_code)"
   ]
  },
  {
   "cell_type": "markdown",
   "id": "febb1c19",
   "metadata": {},
   "source": [
    "### Load the Data<a id='load_data'>"
   ]
  },
  {
   "cell_type": "code",
   "execution_count": 5,
   "id": "c42f99bb",
   "metadata": {},
   "outputs": [],
   "source": [
    "df=pd.DataFrame(data=x.json())"
   ]
  },
  {
   "cell_type": "markdown",
   "id": "1f14fd37",
   "metadata": {},
   "source": [
    "### Saving pandas dataframe to parquet file<a id='df_2_parquet'>"
   ]
  },
  {
   "cell_type": "code",
   "execution_count": 6,
   "id": "9f1b6d6d",
   "metadata": {},
   "outputs": [],
   "source": [
    "import pyarrow as pa\n",
    "import pyarrow.parquet as pq"
   ]
  },
  {
   "cell_type": "code",
   "execution_count": 7,
   "id": "bc911b3c",
   "metadata": {},
   "outputs": [],
   "source": [
    "table = pa.Table.from_pandas(df, preserve_index=True)\n",
    "pq.write_table(table, 'crime_reports.parquet')"
   ]
  },
  {
   "cell_type": "code",
   "execution_count": 8,
   "id": "cd2c0c50",
   "metadata": {},
   "outputs": [],
   "source": [
    "df_parquet = pd.read_parquet('crime_reports.parquet')"
   ]
  },
  {
   "cell_type": "code",
   "execution_count": 9,
   "id": "b8b2848d",
   "metadata": {},
   "outputs": [
    {
     "data": {
      "text/html": [
       "<div>\n",
       "<style scoped>\n",
       "    .dataframe tbody tr th:only-of-type {\n",
       "        vertical-align: middle;\n",
       "    }\n",
       "\n",
       "    .dataframe tbody tr th {\n",
       "        vertical-align: top;\n",
       "    }\n",
       "\n",
       "    .dataframe thead th {\n",
       "        text-align: right;\n",
       "    }\n",
       "</style>\n",
       "<table border=\"1\" class=\"dataframe\">\n",
       "  <thead>\n",
       "    <tr style=\"text-align: right;\">\n",
       "      <th></th>\n",
       "      <th>incident_report_number</th>\n",
       "      <th>crime_type</th>\n",
       "      <th>ucr_code</th>\n",
       "      <th>family_violence</th>\n",
       "      <th>occ_date_time</th>\n",
       "      <th>occ_date</th>\n",
       "      <th>occ_time</th>\n",
       "      <th>rep_date_time</th>\n",
       "      <th>rep_date</th>\n",
       "      <th>rep_time</th>\n",
       "      <th>...</th>\n",
       "      <th>:@computed_region_a3it_2a2z</th>\n",
       "      <th>:@computed_region_8spj_utxs</th>\n",
       "      <th>:@computed_region_q9nd_rr82</th>\n",
       "      <th>:@computed_region_qwte_z96m</th>\n",
       "      <th>:@computed_region_e9j2_6w3z</th>\n",
       "      <th>:@computed_region_5gse_m7ik</th>\n",
       "      <th>clearance_status</th>\n",
       "      <th>clearance_date</th>\n",
       "      <th>ucr_category</th>\n",
       "      <th>category_description</th>\n",
       "    </tr>\n",
       "  </thead>\n",
       "  <tbody>\n",
       "    <tr>\n",
       "      <th>0</th>\n",
       "      <td>2023491535</td>\n",
       "      <td>ASSAULT BY CONTACT FAM/DATING</td>\n",
       "      <td>902</td>\n",
       "      <td>Y</td>\n",
       "      <td>2023-02-18T23:55:00.000</td>\n",
       "      <td>2023-02-18T00:00:00.000</td>\n",
       "      <td>2355</td>\n",
       "      <td>2023-02-18T23:55:00.000</td>\n",
       "      <td>2023-02-18T00:00:00.000</td>\n",
       "      <td>2355</td>\n",
       "      <td>...</td>\n",
       "      <td>3641</td>\n",
       "      <td>4</td>\n",
       "      <td>9</td>\n",
       "      <td>1114</td>\n",
       "      <td>78</td>\n",
       "      <td>2</td>\n",
       "      <td>None</td>\n",
       "      <td>None</td>\n",
       "      <td>None</td>\n",
       "      <td>None</td>\n",
       "    </tr>\n",
       "    <tr>\n",
       "      <th>1</th>\n",
       "      <td>2023491436</td>\n",
       "      <td>POSS CONTROLLED SUB/NARCOTIC</td>\n",
       "      <td>1800</td>\n",
       "      <td>N</td>\n",
       "      <td>2023-02-18T23:27:00.000</td>\n",
       "      <td>2023-02-18T00:00:00.000</td>\n",
       "      <td>2327</td>\n",
       "      <td>2023-02-18T23:27:00.000</td>\n",
       "      <td>2023-02-18T00:00:00.000</td>\n",
       "      <td>2327</td>\n",
       "      <td>...</td>\n",
       "      <td>3640</td>\n",
       "      <td>9</td>\n",
       "      <td>10</td>\n",
       "      <td>1081</td>\n",
       "      <td>68</td>\n",
       "      <td>6</td>\n",
       "      <td>C</td>\n",
       "      <td>2023-02-19T00:00:00.000</td>\n",
       "      <td>None</td>\n",
       "      <td>None</td>\n",
       "    </tr>\n",
       "    <tr>\n",
       "      <th>2</th>\n",
       "      <td>2023491425</td>\n",
       "      <td>THEFT</td>\n",
       "      <td>600</td>\n",
       "      <td>N</td>\n",
       "      <td>2023-02-18T23:24:00.000</td>\n",
       "      <td>2023-02-18T00:00:00.000</td>\n",
       "      <td>2324</td>\n",
       "      <td>2023-02-18T23:24:00.000</td>\n",
       "      <td>2023-02-18T00:00:00.000</td>\n",
       "      <td>2324</td>\n",
       "      <td>...</td>\n",
       "      <td>2865</td>\n",
       "      <td>9</td>\n",
       "      <td>10</td>\n",
       "      <td>1169</td>\n",
       "      <td>36</td>\n",
       "      <td>6</td>\n",
       "      <td>None</td>\n",
       "      <td>None</td>\n",
       "      <td>23H</td>\n",
       "      <td>Theft</td>\n",
       "    </tr>\n",
       "    <tr>\n",
       "      <th>3</th>\n",
       "      <td>2023491475</td>\n",
       "      <td>TERRORISTIC THREAT</td>\n",
       "      <td>2704</td>\n",
       "      <td>N</td>\n",
       "      <td>2023-02-18T23:04:00.000</td>\n",
       "      <td>2023-02-18T00:00:00.000</td>\n",
       "      <td>2304</td>\n",
       "      <td>2023-02-18T23:04:00.000</td>\n",
       "      <td>2023-02-18T00:00:00.000</td>\n",
       "      <td>2304</td>\n",
       "      <td>...</td>\n",
       "      <td>3641</td>\n",
       "      <td>4</td>\n",
       "      <td>9</td>\n",
       "      <td>202</td>\n",
       "      <td>43</td>\n",
       "      <td>2</td>\n",
       "      <td>None</td>\n",
       "      <td>None</td>\n",
       "      <td>None</td>\n",
       "      <td>None</td>\n",
       "    </tr>\n",
       "    <tr>\n",
       "      <th>4</th>\n",
       "      <td>2023491472</td>\n",
       "      <td>DOC DISCHARGE GUN - PUB PLACE</td>\n",
       "      <td>2408</td>\n",
       "      <td>N</td>\n",
       "      <td>2023-02-18T23:03:00.000</td>\n",
       "      <td>2023-02-18T00:00:00.000</td>\n",
       "      <td>2303</td>\n",
       "      <td>2023-02-18T23:48:00.000</td>\n",
       "      <td>2023-02-18T00:00:00.000</td>\n",
       "      <td>2348</td>\n",
       "      <td>...</td>\n",
       "      <td>3256</td>\n",
       "      <td>3</td>\n",
       "      <td>3</td>\n",
       "      <td>None</td>\n",
       "      <td>46</td>\n",
       "      <td>1</td>\n",
       "      <td>None</td>\n",
       "      <td>None</td>\n",
       "      <td>None</td>\n",
       "      <td>None</td>\n",
       "    </tr>\n",
       "  </tbody>\n",
       "</table>\n",
       "<p>5 rows × 33 columns</p>\n",
       "</div>"
      ],
      "text/plain": [
       "  incident_report_number                     crime_type ucr_code  \\\n",
       "0             2023491535  ASSAULT BY CONTACT FAM/DATING      902   \n",
       "1             2023491436   POSS CONTROLLED SUB/NARCOTIC     1800   \n",
       "2             2023491425                          THEFT      600   \n",
       "3             2023491475             TERRORISTIC THREAT     2704   \n",
       "4             2023491472  DOC DISCHARGE GUN - PUB PLACE     2408   \n",
       "\n",
       "  family_violence            occ_date_time                 occ_date occ_time  \\\n",
       "0               Y  2023-02-18T23:55:00.000  2023-02-18T00:00:00.000     2355   \n",
       "1               N  2023-02-18T23:27:00.000  2023-02-18T00:00:00.000     2327   \n",
       "2               N  2023-02-18T23:24:00.000  2023-02-18T00:00:00.000     2324   \n",
       "3               N  2023-02-18T23:04:00.000  2023-02-18T00:00:00.000     2304   \n",
       "4               N  2023-02-18T23:03:00.000  2023-02-18T00:00:00.000     2303   \n",
       "\n",
       "             rep_date_time                 rep_date rep_time  ...  \\\n",
       "0  2023-02-18T23:55:00.000  2023-02-18T00:00:00.000     2355  ...   \n",
       "1  2023-02-18T23:27:00.000  2023-02-18T00:00:00.000     2327  ...   \n",
       "2  2023-02-18T23:24:00.000  2023-02-18T00:00:00.000     2324  ...   \n",
       "3  2023-02-18T23:04:00.000  2023-02-18T00:00:00.000     2304  ...   \n",
       "4  2023-02-18T23:48:00.000  2023-02-18T00:00:00.000     2348  ...   \n",
       "\n",
       "  :@computed_region_a3it_2a2z :@computed_region_8spj_utxs  \\\n",
       "0                        3641                           4   \n",
       "1                        3640                           9   \n",
       "2                        2865                           9   \n",
       "3                        3641                           4   \n",
       "4                        3256                           3   \n",
       "\n",
       "  :@computed_region_q9nd_rr82 :@computed_region_qwte_z96m  \\\n",
       "0                           9                        1114   \n",
       "1                          10                        1081   \n",
       "2                          10                        1169   \n",
       "3                           9                         202   \n",
       "4                           3                        None   \n",
       "\n",
       "  :@computed_region_e9j2_6w3z :@computed_region_5gse_m7ik clearance_status  \\\n",
       "0                          78                           2             None   \n",
       "1                          68                           6                C   \n",
       "2                          36                           6             None   \n",
       "3                          43                           2             None   \n",
       "4                          46                           1             None   \n",
       "\n",
       "            clearance_date ucr_category category_description  \n",
       "0                     None         None                 None  \n",
       "1  2023-02-19T00:00:00.000         None                 None  \n",
       "2                     None          23H                Theft  \n",
       "3                     None         None                 None  \n",
       "4                     None         None                 None  \n",
       "\n",
       "[5 rows x 33 columns]"
      ]
     },
     "execution_count": 9,
     "metadata": {},
     "output_type": "execute_result"
    }
   ],
   "source": [
    "df_parquet.head()"
   ]
  },
  {
   "cell_type": "markdown",
   "id": "baf17e5f",
   "metadata": {},
   "source": [
    "### About Columns in this dataset <a id='about_columns'>\n",
    "\n",
    "Incident_report_number: Incident Number<br>\n",
    "Crime_type: Highest Offense Description<br>\n",
    "Ucr_code: Highest Offense Code<br>\n",
    "Family_violence: Incident involves family violence? Y = yes, N = no<br>\n",
    "Occ_date_time: Date and Time(combined)  the incident occurred<br>\n",
    "Occ_date:Date the incident occurred<br>\n",
    "Occ_time: Time the incident occurred<br>\n",
    "Rep_date_time: Date and time (combined) incident was reported<br>\n",
    "Rep_date: Date the incident was reported<br>\n",
    "Rep_time: Time the incident was reported<br>\n",
    "Location_type: General description of the premise where the incident occurred<br>\n",
    "Address: Incident location<br>\n",
    "Zip_code: zip code where incident occurred<br>\n",
    "Council_district: Austin city council district where incident occurred<br>\n",
    "Sector: APD sector where incident occurred<br>\n",
    "District: APD district where incident occurred<br>\n",
    "Pra: APD police reporting area where incident occurred<br>\n",
    "Census_tract: Census tract where incident occurred<br>\n",
    "X_coordinate: X-coordinate where the incident occurred<br>\n",
    "Y_coordinate: Y-coordinate where the incident occurred<br>\n",
    "Latitude: Latitude where incident occurred<br>\n",
    "Longitude: Longitude where incident occurred<br>\n",
    "Location: 3rd party generated spatial column (not from source)<br>\n",
    "Clearance_status: How/whether crime was solved (see lookup)<br>\n",
    "Clearance_date: Date crime was solved<br>\n",
    "Ucr_category: Code for the most serious crimes identified by the FBI as part of its Uniform Crime Reporting program<br>\n",
    "Category_description: Description for the most serious crimes identified by the FBI as part of its Uniform Crime Reporting program<br>\n"
   ]
  },
  {
   "cell_type": "code",
   "execution_count": 10,
   "id": "37420531",
   "metadata": {},
   "outputs": [
    {
     "name": "stdout",
     "output_type": "stream",
     "text": [
      "<class 'pandas.core.frame.DataFrame'>\n",
      "Int64Index: 2000000 entries, 0 to 1999999\n",
      "Data columns (total 33 columns):\n",
      " #   Column                       Dtype \n",
      "---  ------                       ----- \n",
      " 0   incident_report_number       object\n",
      " 1   crime_type                   object\n",
      " 2   ucr_code                     object\n",
      " 3   family_violence              object\n",
      " 4   occ_date_time                object\n",
      " 5   occ_date                     object\n",
      " 6   occ_time                     object\n",
      " 7   rep_date_time                object\n",
      " 8   rep_date                     object\n",
      " 9   rep_time                     object\n",
      " 10  location_type                object\n",
      " 11  address                      object\n",
      " 12  zip_code                     object\n",
      " 13  council_district             object\n",
      " 14  sector                       object\n",
      " 15  district                     object\n",
      " 16  pra                          object\n",
      " 17  census_tract                 object\n",
      " 18  x_coordinate                 object\n",
      " 19  y_coordinate                 object\n",
      " 20  latitude                     object\n",
      " 21  longitude                    object\n",
      " 22  location                     object\n",
      " 23  :@computed_region_a3it_2a2z  object\n",
      " 24  :@computed_region_8spj_utxs  object\n",
      " 25  :@computed_region_q9nd_rr82  object\n",
      " 26  :@computed_region_qwte_z96m  object\n",
      " 27  :@computed_region_e9j2_6w3z  object\n",
      " 28  :@computed_region_5gse_m7ik  object\n",
      " 29  clearance_status             object\n",
      " 30  clearance_date               object\n",
      " 31  ucr_category                 object\n",
      " 32  category_description         object\n",
      "dtypes: object(33)\n",
      "memory usage: 518.8+ MB\n"
     ]
    }
   ],
   "source": [
    "df_parquet.info()"
   ]
  },
  {
   "cell_type": "markdown",
   "id": "47a4c29d",
   "metadata": {},
   "source": [
    "I notice six columns which are generated based on zipcode and zoning. I do not require it. so dropping thhose columns. "
   ]
  },
  {
   "cell_type": "code",
   "execution_count": 11,
   "id": "0d9a4635",
   "metadata": {},
   "outputs": [],
   "source": [
    "#out of 33 columns, removing the below 6. keeping 27 for now\n",
    "drop_columns = [':@computed_region_a3it_2a2z',':@computed_region_8spj_utxs',':@computed_region_q9nd_rr82',':@computed_region_e9j2_6w3z',':@computed_region_5gse_m7ik',':@computed_region_qwte_z96m']\n",
    "df_27 = df_parquet.drop(drop_columns, axis=1)"
   ]
  },
  {
   "cell_type": "code",
   "execution_count": 12,
   "id": "626b422f",
   "metadata": {},
   "outputs": [
    {
     "data": {
      "text/plain": [
       "Index(['incident_report_number', 'crime_type', 'ucr_code', 'family_violence',\n",
       "       'occ_date_time', 'occ_date', 'occ_time', 'rep_date_time', 'rep_date',\n",
       "       'rep_time', 'location_type', 'address', 'zip_code', 'council_district',\n",
       "       'sector', 'district', 'pra', 'census_tract', 'x_coordinate',\n",
       "       'y_coordinate', 'latitude', 'longitude', 'location', 'clearance_status',\n",
       "       'clearance_date', 'ucr_category', 'category_description'],\n",
       "      dtype='object')"
      ]
     },
     "execution_count": 12,
     "metadata": {},
     "output_type": "execute_result"
    }
   ],
   "source": [
    "df_27.columns"
   ]
  },
  {
   "cell_type": "code",
   "execution_count": 13,
   "id": "f60b6833",
   "metadata": {},
   "outputs": [
    {
     "data": {
      "text/plain": [
       "(2000000, 27)"
      ]
     },
     "execution_count": 13,
     "metadata": {},
     "output_type": "execute_result"
    }
   ],
   "source": [
    "df_27.shape"
   ]
  },
  {
   "cell_type": "code",
   "execution_count": 14,
   "id": "78d31a9d",
   "metadata": {},
   "outputs": [
    {
     "data": {
      "text/plain": [
       "incident_report_number    object\n",
       "crime_type                object\n",
       "ucr_code                  object\n",
       "family_violence           object\n",
       "occ_date_time             object\n",
       "occ_date                  object\n",
       "occ_time                  object\n",
       "rep_date_time             object\n",
       "rep_date                  object\n",
       "rep_time                  object\n",
       "location_type             object\n",
       "address                   object\n",
       "zip_code                  object\n",
       "council_district          object\n",
       "sector                    object\n",
       "district                  object\n",
       "pra                       object\n",
       "census_tract              object\n",
       "x_coordinate              object\n",
       "y_coordinate              object\n",
       "latitude                  object\n",
       "longitude                 object\n",
       "location                  object\n",
       "clearance_status          object\n",
       "clearance_date            object\n",
       "ucr_category              object\n",
       "category_description      object\n",
       "dtype: object"
      ]
     },
     "execution_count": 14,
     "metadata": {},
     "output_type": "execute_result"
    }
   ],
   "source": [
    "df_27.dtypes"
   ]
  },
  {
   "cell_type": "code",
   "execution_count": 15,
   "id": "7f92ddd4",
   "metadata": {},
   "outputs": [],
   "source": [
    "# need to convert datetime columns from object data type to date types\n",
    "df_27['occurred_date_time'] = pd.to_datetime(df_27['occ_date_time'],format='%Y-%m-%d')"
   ]
  },
  {
   "cell_type": "code",
   "execution_count": 16,
   "id": "ce1b23ba",
   "metadata": {},
   "outputs": [],
   "source": [
    "df_27['reported_date_time'] = pd.to_datetime(df_27['rep_date_time'],format='%Y-%m-%d')"
   ]
  },
  {
   "cell_type": "code",
   "execution_count": 17,
   "id": "c92288c6",
   "metadata": {},
   "outputs": [
    {
     "data": {
      "text/plain": [
       "Index(['incident_report_number', 'crime_type', 'ucr_code', 'family_violence',\n",
       "       'occ_date_time', 'occ_date', 'occ_time', 'rep_date_time', 'rep_date',\n",
       "       'rep_time', 'location_type', 'address', 'zip_code', 'council_district',\n",
       "       'sector', 'district', 'pra', 'census_tract', 'x_coordinate',\n",
       "       'y_coordinate', 'latitude', 'longitude', 'location', 'clearance_status',\n",
       "       'clearance_date', 'ucr_category', 'category_description',\n",
       "       'occurred_date_time', 'reported_date_time'],\n",
       "      dtype='object')"
      ]
     },
     "execution_count": 17,
     "metadata": {},
     "output_type": "execute_result"
    }
   ],
   "source": [
    "df_27.columns"
   ]
  },
  {
   "cell_type": "code",
   "execution_count": 18,
   "id": "595bf355",
   "metadata": {},
   "outputs": [
    {
     "data": {
      "text/html": [
       "<div>\n",
       "<style scoped>\n",
       "    .dataframe tbody tr th:only-of-type {\n",
       "        vertical-align: middle;\n",
       "    }\n",
       "\n",
       "    .dataframe tbody tr th {\n",
       "        vertical-align: top;\n",
       "    }\n",
       "\n",
       "    .dataframe thead th {\n",
       "        text-align: right;\n",
       "    }\n",
       "</style>\n",
       "<table border=\"1\" class=\"dataframe\">\n",
       "  <thead>\n",
       "    <tr style=\"text-align: right;\">\n",
       "      <th></th>\n",
       "      <th>incident_report_number</th>\n",
       "      <th>crime_type</th>\n",
       "      <th>ucr_code</th>\n",
       "      <th>family_violence</th>\n",
       "      <th>occ_date_time</th>\n",
       "      <th>occ_date</th>\n",
       "      <th>occ_time</th>\n",
       "      <th>rep_date_time</th>\n",
       "      <th>rep_date</th>\n",
       "      <th>rep_time</th>\n",
       "      <th>...</th>\n",
       "      <th>y_coordinate</th>\n",
       "      <th>latitude</th>\n",
       "      <th>longitude</th>\n",
       "      <th>location</th>\n",
       "      <th>clearance_status</th>\n",
       "      <th>clearance_date</th>\n",
       "      <th>ucr_category</th>\n",
       "      <th>category_description</th>\n",
       "      <th>occurred_date_time</th>\n",
       "      <th>reported_date_time</th>\n",
       "    </tr>\n",
       "  </thead>\n",
       "  <tbody>\n",
       "    <tr>\n",
       "      <th>0</th>\n",
       "      <td>2023491535</td>\n",
       "      <td>ASSAULT BY CONTACT FAM/DATING</td>\n",
       "      <td>902</td>\n",
       "      <td>Y</td>\n",
       "      <td>2023-02-18T23:55:00.000</td>\n",
       "      <td>2023-02-18T00:00:00.000</td>\n",
       "      <td>2355</td>\n",
       "      <td>2023-02-18T23:55:00.000</td>\n",
       "      <td>2023-02-18T00:00:00.000</td>\n",
       "      <td>2355</td>\n",
       "      <td>...</td>\n",
       "      <td>10096237</td>\n",
       "      <td>30.33748689</td>\n",
       "      <td>-97.70997634</td>\n",
       "      <td>{'human_address': '{\"address\": \"\", \"city\": \"\",...</td>\n",
       "      <td>None</td>\n",
       "      <td>None</td>\n",
       "      <td>None</td>\n",
       "      <td>None</td>\n",
       "      <td>2023-02-18 23:55:00</td>\n",
       "      <td>2023-02-18 23:55:00</td>\n",
       "    </tr>\n",
       "    <tr>\n",
       "      <th>1</th>\n",
       "      <td>2023491436</td>\n",
       "      <td>POSS CONTROLLED SUB/NARCOTIC</td>\n",
       "      <td>1800</td>\n",
       "      <td>N</td>\n",
       "      <td>2023-02-18T23:27:00.000</td>\n",
       "      <td>2023-02-18T00:00:00.000</td>\n",
       "      <td>2327</td>\n",
       "      <td>2023-02-18T23:27:00.000</td>\n",
       "      <td>2023-02-18T00:00:00.000</td>\n",
       "      <td>2327</td>\n",
       "      <td>...</td>\n",
       "      <td>10087731</td>\n",
       "      <td>30.3142963</td>\n",
       "      <td>-97.71996482</td>\n",
       "      <td>{'human_address': '{\"address\": \"\", \"city\": \"\",...</td>\n",
       "      <td>C</td>\n",
       "      <td>2023-02-19T00:00:00.000</td>\n",
       "      <td>None</td>\n",
       "      <td>None</td>\n",
       "      <td>2023-02-18 23:27:00</td>\n",
       "      <td>2023-02-18 23:27:00</td>\n",
       "    </tr>\n",
       "    <tr>\n",
       "      <th>2</th>\n",
       "      <td>2023491425</td>\n",
       "      <td>THEFT</td>\n",
       "      <td>600</td>\n",
       "      <td>N</td>\n",
       "      <td>2023-02-18T23:24:00.000</td>\n",
       "      <td>2023-02-18T00:00:00.000</td>\n",
       "      <td>2324</td>\n",
       "      <td>2023-02-18T23:24:00.000</td>\n",
       "      <td>2023-02-18T00:00:00.000</td>\n",
       "      <td>2324</td>\n",
       "      <td>...</td>\n",
       "      <td>10084285</td>\n",
       "      <td>30.30467246</td>\n",
       "      <td>-97.71280824</td>\n",
       "      <td>{'human_address': '{\"address\": \"\", \"city\": \"\",...</td>\n",
       "      <td>None</td>\n",
       "      <td>None</td>\n",
       "      <td>23H</td>\n",
       "      <td>Theft</td>\n",
       "      <td>2023-02-18 23:24:00</td>\n",
       "      <td>2023-02-18 23:24:00</td>\n",
       "    </tr>\n",
       "    <tr>\n",
       "      <th>3</th>\n",
       "      <td>2023491475</td>\n",
       "      <td>TERRORISTIC THREAT</td>\n",
       "      <td>2704</td>\n",
       "      <td>N</td>\n",
       "      <td>2023-02-18T23:04:00.000</td>\n",
       "      <td>2023-02-18T00:00:00.000</td>\n",
       "      <td>2304</td>\n",
       "      <td>2023-02-18T23:04:00.000</td>\n",
       "      <td>2023-02-18T00:00:00.000</td>\n",
       "      <td>2304</td>\n",
       "      <td>...</td>\n",
       "      <td>10096813</td>\n",
       "      <td>30.33890768</td>\n",
       "      <td>-97.70200101</td>\n",
       "      <td>{'human_address': '{\"address\": \"\", \"city\": \"\",...</td>\n",
       "      <td>None</td>\n",
       "      <td>None</td>\n",
       "      <td>None</td>\n",
       "      <td>None</td>\n",
       "      <td>2023-02-18 23:04:00</td>\n",
       "      <td>2023-02-18 23:04:00</td>\n",
       "    </tr>\n",
       "    <tr>\n",
       "      <th>4</th>\n",
       "      <td>2023491472</td>\n",
       "      <td>DOC DISCHARGE GUN - PUB PLACE</td>\n",
       "      <td>2408</td>\n",
       "      <td>N</td>\n",
       "      <td>2023-02-18T23:03:00.000</td>\n",
       "      <td>2023-02-18T00:00:00.000</td>\n",
       "      <td>2303</td>\n",
       "      <td>2023-02-18T23:48:00.000</td>\n",
       "      <td>2023-02-18T00:00:00.000</td>\n",
       "      <td>2348</td>\n",
       "      <td>...</td>\n",
       "      <td>10056845</td>\n",
       "      <td>30.2290038</td>\n",
       "      <td>-97.70310131</td>\n",
       "      <td>{'human_address': '{\"address\": \"\", \"city\": \"\",...</td>\n",
       "      <td>None</td>\n",
       "      <td>None</td>\n",
       "      <td>None</td>\n",
       "      <td>None</td>\n",
       "      <td>2023-02-18 23:03:00</td>\n",
       "      <td>2023-02-18 23:48:00</td>\n",
       "    </tr>\n",
       "  </tbody>\n",
       "</table>\n",
       "<p>5 rows × 29 columns</p>\n",
       "</div>"
      ],
      "text/plain": [
       "  incident_report_number                     crime_type ucr_code  \\\n",
       "0             2023491535  ASSAULT BY CONTACT FAM/DATING      902   \n",
       "1             2023491436   POSS CONTROLLED SUB/NARCOTIC     1800   \n",
       "2             2023491425                          THEFT      600   \n",
       "3             2023491475             TERRORISTIC THREAT     2704   \n",
       "4             2023491472  DOC DISCHARGE GUN - PUB PLACE     2408   \n",
       "\n",
       "  family_violence            occ_date_time                 occ_date occ_time  \\\n",
       "0               Y  2023-02-18T23:55:00.000  2023-02-18T00:00:00.000     2355   \n",
       "1               N  2023-02-18T23:27:00.000  2023-02-18T00:00:00.000     2327   \n",
       "2               N  2023-02-18T23:24:00.000  2023-02-18T00:00:00.000     2324   \n",
       "3               N  2023-02-18T23:04:00.000  2023-02-18T00:00:00.000     2304   \n",
       "4               N  2023-02-18T23:03:00.000  2023-02-18T00:00:00.000     2303   \n",
       "\n",
       "             rep_date_time                 rep_date rep_time  ...  \\\n",
       "0  2023-02-18T23:55:00.000  2023-02-18T00:00:00.000     2355  ...   \n",
       "1  2023-02-18T23:27:00.000  2023-02-18T00:00:00.000     2327  ...   \n",
       "2  2023-02-18T23:24:00.000  2023-02-18T00:00:00.000     2324  ...   \n",
       "3  2023-02-18T23:04:00.000  2023-02-18T00:00:00.000     2304  ...   \n",
       "4  2023-02-18T23:48:00.000  2023-02-18T00:00:00.000     2348  ...   \n",
       "\n",
       "  y_coordinate     latitude     longitude  \\\n",
       "0     10096237  30.33748689  -97.70997634   \n",
       "1     10087731   30.3142963  -97.71996482   \n",
       "2     10084285  30.30467246  -97.71280824   \n",
       "3     10096813  30.33890768  -97.70200101   \n",
       "4     10056845   30.2290038  -97.70310131   \n",
       "\n",
       "                                            location clearance_status  \\\n",
       "0  {'human_address': '{\"address\": \"\", \"city\": \"\",...             None   \n",
       "1  {'human_address': '{\"address\": \"\", \"city\": \"\",...                C   \n",
       "2  {'human_address': '{\"address\": \"\", \"city\": \"\",...             None   \n",
       "3  {'human_address': '{\"address\": \"\", \"city\": \"\",...             None   \n",
       "4  {'human_address': '{\"address\": \"\", \"city\": \"\",...             None   \n",
       "\n",
       "            clearance_date ucr_category category_description  \\\n",
       "0                     None         None                 None   \n",
       "1  2023-02-19T00:00:00.000         None                 None   \n",
       "2                     None          23H                Theft   \n",
       "3                     None         None                 None   \n",
       "4                     None         None                 None   \n",
       "\n",
       "   occurred_date_time  reported_date_time  \n",
       "0 2023-02-18 23:55:00 2023-02-18 23:55:00  \n",
       "1 2023-02-18 23:27:00 2023-02-18 23:27:00  \n",
       "2 2023-02-18 23:24:00 2023-02-18 23:24:00  \n",
       "3 2023-02-18 23:04:00 2023-02-18 23:04:00  \n",
       "4 2023-02-18 23:03:00 2023-02-18 23:48:00  \n",
       "\n",
       "[5 rows x 29 columns]"
      ]
     },
     "execution_count": 18,
     "metadata": {},
     "output_type": "execute_result"
    }
   ],
   "source": [
    "df_27.head()"
   ]
  },
  {
   "cell_type": "code",
   "execution_count": 19,
   "id": "44f92ec6",
   "metadata": {},
   "outputs": [],
   "source": [
    "drop_columns = ['occ_date_time', 'occ_date', 'occ_time', 'rep_date_time', 'rep_date','rep_time']\n",
    "df_27_new = df_27.drop(drop_columns, axis=1)"
   ]
  },
  {
   "cell_type": "code",
   "execution_count": 20,
   "id": "4a07bcfd",
   "metadata": {},
   "outputs": [
    {
     "data": {
      "text/html": [
       "<div>\n",
       "<style scoped>\n",
       "    .dataframe tbody tr th:only-of-type {\n",
       "        vertical-align: middle;\n",
       "    }\n",
       "\n",
       "    .dataframe tbody tr th {\n",
       "        vertical-align: top;\n",
       "    }\n",
       "\n",
       "    .dataframe thead th {\n",
       "        text-align: right;\n",
       "    }\n",
       "</style>\n",
       "<table border=\"1\" class=\"dataframe\">\n",
       "  <thead>\n",
       "    <tr style=\"text-align: right;\">\n",
       "      <th></th>\n",
       "      <th>incident_report_number</th>\n",
       "      <th>crime_type</th>\n",
       "      <th>ucr_code</th>\n",
       "      <th>family_violence</th>\n",
       "      <th>location_type</th>\n",
       "      <th>address</th>\n",
       "      <th>zip_code</th>\n",
       "      <th>council_district</th>\n",
       "      <th>sector</th>\n",
       "      <th>district</th>\n",
       "      <th>...</th>\n",
       "      <th>y_coordinate</th>\n",
       "      <th>latitude</th>\n",
       "      <th>longitude</th>\n",
       "      <th>location</th>\n",
       "      <th>clearance_status</th>\n",
       "      <th>clearance_date</th>\n",
       "      <th>ucr_category</th>\n",
       "      <th>category_description</th>\n",
       "      <th>occurred_date_time</th>\n",
       "      <th>reported_date_time</th>\n",
       "    </tr>\n",
       "  </thead>\n",
       "  <tbody>\n",
       "    <tr>\n",
       "      <th>0</th>\n",
       "      <td>2023491535</td>\n",
       "      <td>ASSAULT BY CONTACT FAM/DATING</td>\n",
       "      <td>902</td>\n",
       "      <td>Y</td>\n",
       "      <td>RESIDENCE / HOME</td>\n",
       "      <td>107 W CROSLIN ST</td>\n",
       "      <td>78752</td>\n",
       "      <td>4</td>\n",
       "      <td>ID</td>\n",
       "      <td>8</td>\n",
       "      <td>...</td>\n",
       "      <td>10096237</td>\n",
       "      <td>30.33748689</td>\n",
       "      <td>-97.70997634</td>\n",
       "      <td>{'human_address': '{\"address\": \"\", \"city\": \"\",...</td>\n",
       "      <td>None</td>\n",
       "      <td>None</td>\n",
       "      <td>None</td>\n",
       "      <td>None</td>\n",
       "      <td>2023-02-18 23:55:00</td>\n",
       "      <td>2023-02-18 23:55:00</td>\n",
       "    </tr>\n",
       "    <tr>\n",
       "      <th>1</th>\n",
       "      <td>2023491436</td>\n",
       "      <td>POSS CONTROLLED SUB/NARCOTIC</td>\n",
       "      <td>1800</td>\n",
       "      <td>N</td>\n",
       "      <td>HWY / ROAD / ALLEY/ STREET/ SIDEWALK</td>\n",
       "      <td>5100 DUVAL ST</td>\n",
       "      <td>78751</td>\n",
       "      <td>9</td>\n",
       "      <td>ID</td>\n",
       "      <td>6</td>\n",
       "      <td>...</td>\n",
       "      <td>10087731</td>\n",
       "      <td>30.3142963</td>\n",
       "      <td>-97.71996482</td>\n",
       "      <td>{'human_address': '{\"address\": \"\", \"city\": \"\",...</td>\n",
       "      <td>C</td>\n",
       "      <td>2023-02-19T00:00:00.000</td>\n",
       "      <td>None</td>\n",
       "      <td>None</td>\n",
       "      <td>2023-02-18 23:27:00</td>\n",
       "      <td>2023-02-18 23:27:00</td>\n",
       "    </tr>\n",
       "    <tr>\n",
       "      <th>2</th>\n",
       "      <td>2023491425</td>\n",
       "      <td>THEFT</td>\n",
       "      <td>600</td>\n",
       "      <td>N</td>\n",
       "      <td>RESIDENCE / HOME</td>\n",
       "      <td>4611 N IH 35 SVRD NB</td>\n",
       "      <td>78722</td>\n",
       "      <td>9</td>\n",
       "      <td>BA</td>\n",
       "      <td>4</td>\n",
       "      <td>...</td>\n",
       "      <td>10084285</td>\n",
       "      <td>30.30467246</td>\n",
       "      <td>-97.71280824</td>\n",
       "      <td>{'human_address': '{\"address\": \"\", \"city\": \"\",...</td>\n",
       "      <td>None</td>\n",
       "      <td>None</td>\n",
       "      <td>23H</td>\n",
       "      <td>Theft</td>\n",
       "      <td>2023-02-18 23:24:00</td>\n",
       "      <td>2023-02-18 23:24:00</td>\n",
       "    </tr>\n",
       "    <tr>\n",
       "      <th>3</th>\n",
       "      <td>2023491475</td>\n",
       "      <td>TERRORISTIC THREAT</td>\n",
       "      <td>2704</td>\n",
       "      <td>N</td>\n",
       "      <td>PARKING /DROP LOT/ GARAGE</td>\n",
       "      <td>7622 N IH 35 SVRD SB</td>\n",
       "      <td>78752</td>\n",
       "      <td>4</td>\n",
       "      <td>ID</td>\n",
       "      <td>8</td>\n",
       "      <td>...</td>\n",
       "      <td>10096813</td>\n",
       "      <td>30.33890768</td>\n",
       "      <td>-97.70200101</td>\n",
       "      <td>{'human_address': '{\"address\": \"\", \"city\": \"\",...</td>\n",
       "      <td>None</td>\n",
       "      <td>None</td>\n",
       "      <td>None</td>\n",
       "      <td>None</td>\n",
       "      <td>2023-02-18 23:04:00</td>\n",
       "      <td>2023-02-18 23:04:00</td>\n",
       "    </tr>\n",
       "    <tr>\n",
       "      <th>4</th>\n",
       "      <td>2023491472</td>\n",
       "      <td>DOC DISCHARGE GUN - PUB PLACE</td>\n",
       "      <td>2408</td>\n",
       "      <td>N</td>\n",
       "      <td>RESIDENCE / HOME</td>\n",
       "      <td>6118 FAIRWAY ST</td>\n",
       "      <td>78741</td>\n",
       "      <td>3</td>\n",
       "      <td>HE</td>\n",
       "      <td>3</td>\n",
       "      <td>...</td>\n",
       "      <td>10056845</td>\n",
       "      <td>30.2290038</td>\n",
       "      <td>-97.70310131</td>\n",
       "      <td>{'human_address': '{\"address\": \"\", \"city\": \"\",...</td>\n",
       "      <td>None</td>\n",
       "      <td>None</td>\n",
       "      <td>None</td>\n",
       "      <td>None</td>\n",
       "      <td>2023-02-18 23:03:00</td>\n",
       "      <td>2023-02-18 23:48:00</td>\n",
       "    </tr>\n",
       "  </tbody>\n",
       "</table>\n",
       "<p>5 rows × 23 columns</p>\n",
       "</div>"
      ],
      "text/plain": [
       "  incident_report_number                     crime_type ucr_code  \\\n",
       "0             2023491535  ASSAULT BY CONTACT FAM/DATING      902   \n",
       "1             2023491436   POSS CONTROLLED SUB/NARCOTIC     1800   \n",
       "2             2023491425                          THEFT      600   \n",
       "3             2023491475             TERRORISTIC THREAT     2704   \n",
       "4             2023491472  DOC DISCHARGE GUN - PUB PLACE     2408   \n",
       "\n",
       "  family_violence                         location_type               address  \\\n",
       "0               Y                      RESIDENCE / HOME      107 W CROSLIN ST   \n",
       "1               N  HWY / ROAD / ALLEY/ STREET/ SIDEWALK         5100 DUVAL ST   \n",
       "2               N                      RESIDENCE / HOME  4611 N IH 35 SVRD NB   \n",
       "3               N             PARKING /DROP LOT/ GARAGE  7622 N IH 35 SVRD SB   \n",
       "4               N                      RESIDENCE / HOME       6118 FAIRWAY ST   \n",
       "\n",
       "  zip_code council_district sector district  ... y_coordinate     latitude  \\\n",
       "0    78752                4     ID        8  ...     10096237  30.33748689   \n",
       "1    78751                9     ID        6  ...     10087731   30.3142963   \n",
       "2    78722                9     BA        4  ...     10084285  30.30467246   \n",
       "3    78752                4     ID        8  ...     10096813  30.33890768   \n",
       "4    78741                3     HE        3  ...     10056845   30.2290038   \n",
       "\n",
       "      longitude                                           location  \\\n",
       "0  -97.70997634  {'human_address': '{\"address\": \"\", \"city\": \"\",...   \n",
       "1  -97.71996482  {'human_address': '{\"address\": \"\", \"city\": \"\",...   \n",
       "2  -97.71280824  {'human_address': '{\"address\": \"\", \"city\": \"\",...   \n",
       "3  -97.70200101  {'human_address': '{\"address\": \"\", \"city\": \"\",...   \n",
       "4  -97.70310131  {'human_address': '{\"address\": \"\", \"city\": \"\",...   \n",
       "\n",
       "  clearance_status           clearance_date ucr_category category_description  \\\n",
       "0             None                     None         None                 None   \n",
       "1                C  2023-02-19T00:00:00.000         None                 None   \n",
       "2             None                     None          23H                Theft   \n",
       "3             None                     None         None                 None   \n",
       "4             None                     None         None                 None   \n",
       "\n",
       "   occurred_date_time  reported_date_time  \n",
       "0 2023-02-18 23:55:00 2023-02-18 23:55:00  \n",
       "1 2023-02-18 23:27:00 2023-02-18 23:27:00  \n",
       "2 2023-02-18 23:24:00 2023-02-18 23:24:00  \n",
       "3 2023-02-18 23:04:00 2023-02-18 23:04:00  \n",
       "4 2023-02-18 23:03:00 2023-02-18 23:48:00  \n",
       "\n",
       "[5 rows x 23 columns]"
      ]
     },
     "execution_count": 20,
     "metadata": {},
     "output_type": "execute_result"
    }
   ],
   "source": [
    "df_27_new.head()"
   ]
  },
  {
   "cell_type": "code",
   "execution_count": 21,
   "id": "e6160dbf",
   "metadata": {},
   "outputs": [
    {
     "data": {
      "text/plain": [
       "Index(['incident_report_number', 'crime_type', 'ucr_code', 'family_violence',\n",
       "       'location_type', 'address', 'zip_code', 'council_district', 'sector',\n",
       "       'district', 'pra', 'census_tract', 'x_coordinate', 'y_coordinate',\n",
       "       'latitude', 'longitude', 'location', 'clearance_status',\n",
       "       'clearance_date', 'ucr_category', 'category_description',\n",
       "       'occurred_date_time', 'reported_date_time'],\n",
       "      dtype='object')"
      ]
     },
     "execution_count": 21,
     "metadata": {},
     "output_type": "execute_result"
    }
   ],
   "source": [
    "df_27_new.columns"
   ]
  },
  {
   "cell_type": "code",
   "execution_count": 22,
   "id": "75b4eb08",
   "metadata": {},
   "outputs": [
    {
     "data": {
      "text/plain": [
       "(2000000, 23)"
      ]
     },
     "execution_count": 22,
     "metadata": {},
     "output_type": "execute_result"
    }
   ],
   "source": [
    "df_27_new.shape"
   ]
  },
  {
   "cell_type": "markdown",
   "id": "7fc25de9",
   "metadata": {},
   "source": [
    "### Date Column Manipulations<a id='date_manipulations'>"
   ]
  },
  {
   "cell_type": "code",
   "execution_count": 23,
   "id": "7171af6a",
   "metadata": {},
   "outputs": [],
   "source": [
    "df_27_new['month'] = df_27_new['occurred_date_time'].apply(lambda x: x.strftime('%B')) "
   ]
  },
  {
   "cell_type": "code",
   "execution_count": 24,
   "id": "588197ff",
   "metadata": {},
   "outputs": [],
   "source": [
    "df_27_new['year'] = df_27_new['occurred_date_time'].apply(lambda x: x.strftime('%Y')) "
   ]
  },
  {
   "cell_type": "code",
   "execution_count": 26,
   "id": "116f691e",
   "metadata": {},
   "outputs": [
    {
     "data": {
      "text/plain": [
       "array(['2023', '2022', '2021', '2020', '2019', '2018', '2017', '2016',\n",
       "       '2015', '2014', '2013', '2012', '2011', '2010', '2009', '2008',\n",
       "       '2007', '2006', '2005'], dtype=object)"
      ]
     },
     "execution_count": 26,
     "metadata": {},
     "output_type": "execute_result"
    }
   ],
   "source": [
    "df_27_new.year.unique()"
   ]
  },
  {
   "cell_type": "code",
   "execution_count": 25,
   "id": "d18d5a1c",
   "metadata": {},
   "outputs": [],
   "source": [
    "df_27_new['hour'] = df_27_new['occurred_date_time'].dt.hour"
   ]
  },
  {
   "cell_type": "code",
   "execution_count": 27,
   "id": "6ee9488f",
   "metadata": {},
   "outputs": [
    {
     "data": {
      "text/html": [
       "<div>\n",
       "<style scoped>\n",
       "    .dataframe tbody tr th:only-of-type {\n",
       "        vertical-align: middle;\n",
       "    }\n",
       "\n",
       "    .dataframe tbody tr th {\n",
       "        vertical-align: top;\n",
       "    }\n",
       "\n",
       "    .dataframe thead th {\n",
       "        text-align: right;\n",
       "    }\n",
       "</style>\n",
       "<table border=\"1\" class=\"dataframe\">\n",
       "  <thead>\n",
       "    <tr style=\"text-align: right;\">\n",
       "      <th></th>\n",
       "      <th>incident_report_number</th>\n",
       "      <th>crime_type</th>\n",
       "      <th>ucr_code</th>\n",
       "      <th>family_violence</th>\n",
       "      <th>location_type</th>\n",
       "      <th>address</th>\n",
       "      <th>zip_code</th>\n",
       "      <th>council_district</th>\n",
       "      <th>sector</th>\n",
       "      <th>district</th>\n",
       "      <th>...</th>\n",
       "      <th>location</th>\n",
       "      <th>clearance_status</th>\n",
       "      <th>clearance_date</th>\n",
       "      <th>ucr_category</th>\n",
       "      <th>category_description</th>\n",
       "      <th>occurred_date_time</th>\n",
       "      <th>reported_date_time</th>\n",
       "      <th>month</th>\n",
       "      <th>year</th>\n",
       "      <th>hour</th>\n",
       "    </tr>\n",
       "  </thead>\n",
       "  <tbody>\n",
       "    <tr>\n",
       "      <th>0</th>\n",
       "      <td>2023491535</td>\n",
       "      <td>ASSAULT BY CONTACT FAM/DATING</td>\n",
       "      <td>902</td>\n",
       "      <td>Y</td>\n",
       "      <td>RESIDENCE / HOME</td>\n",
       "      <td>107 W CROSLIN ST</td>\n",
       "      <td>78752</td>\n",
       "      <td>4</td>\n",
       "      <td>ID</td>\n",
       "      <td>8</td>\n",
       "      <td>...</td>\n",
       "      <td>{'human_address': '{\"address\": \"\", \"city\": \"\",...</td>\n",
       "      <td>None</td>\n",
       "      <td>None</td>\n",
       "      <td>None</td>\n",
       "      <td>None</td>\n",
       "      <td>2023-02-18 23:55:00</td>\n",
       "      <td>2023-02-18 23:55:00</td>\n",
       "      <td>February</td>\n",
       "      <td>2023</td>\n",
       "      <td>23</td>\n",
       "    </tr>\n",
       "    <tr>\n",
       "      <th>1</th>\n",
       "      <td>2023491436</td>\n",
       "      <td>POSS CONTROLLED SUB/NARCOTIC</td>\n",
       "      <td>1800</td>\n",
       "      <td>N</td>\n",
       "      <td>HWY / ROAD / ALLEY/ STREET/ SIDEWALK</td>\n",
       "      <td>5100 DUVAL ST</td>\n",
       "      <td>78751</td>\n",
       "      <td>9</td>\n",
       "      <td>ID</td>\n",
       "      <td>6</td>\n",
       "      <td>...</td>\n",
       "      <td>{'human_address': '{\"address\": \"\", \"city\": \"\",...</td>\n",
       "      <td>C</td>\n",
       "      <td>2023-02-19T00:00:00.000</td>\n",
       "      <td>None</td>\n",
       "      <td>None</td>\n",
       "      <td>2023-02-18 23:27:00</td>\n",
       "      <td>2023-02-18 23:27:00</td>\n",
       "      <td>February</td>\n",
       "      <td>2023</td>\n",
       "      <td>23</td>\n",
       "    </tr>\n",
       "    <tr>\n",
       "      <th>2</th>\n",
       "      <td>2023491425</td>\n",
       "      <td>THEFT</td>\n",
       "      <td>600</td>\n",
       "      <td>N</td>\n",
       "      <td>RESIDENCE / HOME</td>\n",
       "      <td>4611 N IH 35 SVRD NB</td>\n",
       "      <td>78722</td>\n",
       "      <td>9</td>\n",
       "      <td>BA</td>\n",
       "      <td>4</td>\n",
       "      <td>...</td>\n",
       "      <td>{'human_address': '{\"address\": \"\", \"city\": \"\",...</td>\n",
       "      <td>None</td>\n",
       "      <td>None</td>\n",
       "      <td>23H</td>\n",
       "      <td>Theft</td>\n",
       "      <td>2023-02-18 23:24:00</td>\n",
       "      <td>2023-02-18 23:24:00</td>\n",
       "      <td>February</td>\n",
       "      <td>2023</td>\n",
       "      <td>23</td>\n",
       "    </tr>\n",
       "  </tbody>\n",
       "</table>\n",
       "<p>3 rows × 26 columns</p>\n",
       "</div>"
      ],
      "text/plain": [
       "  incident_report_number                     crime_type ucr_code  \\\n",
       "0             2023491535  ASSAULT BY CONTACT FAM/DATING      902   \n",
       "1             2023491436   POSS CONTROLLED SUB/NARCOTIC     1800   \n",
       "2             2023491425                          THEFT      600   \n",
       "\n",
       "  family_violence                         location_type               address  \\\n",
       "0               Y                      RESIDENCE / HOME      107 W CROSLIN ST   \n",
       "1               N  HWY / ROAD / ALLEY/ STREET/ SIDEWALK         5100 DUVAL ST   \n",
       "2               N                      RESIDENCE / HOME  4611 N IH 35 SVRD NB   \n",
       "\n",
       "  zip_code council_district sector district  ...  \\\n",
       "0    78752                4     ID        8  ...   \n",
       "1    78751                9     ID        6  ...   \n",
       "2    78722                9     BA        4  ...   \n",
       "\n",
       "                                            location clearance_status  \\\n",
       "0  {'human_address': '{\"address\": \"\", \"city\": \"\",...             None   \n",
       "1  {'human_address': '{\"address\": \"\", \"city\": \"\",...                C   \n",
       "2  {'human_address': '{\"address\": \"\", \"city\": \"\",...             None   \n",
       "\n",
       "            clearance_date ucr_category category_description  \\\n",
       "0                     None         None                 None   \n",
       "1  2023-02-19T00:00:00.000         None                 None   \n",
       "2                     None          23H                Theft   \n",
       "\n",
       "   occurred_date_time  reported_date_time     month  year hour  \n",
       "0 2023-02-18 23:55:00 2023-02-18 23:55:00  February  2023   23  \n",
       "1 2023-02-18 23:27:00 2023-02-18 23:27:00  February  2023   23  \n",
       "2 2023-02-18 23:24:00 2023-02-18 23:24:00  February  2023   23  \n",
       "\n",
       "[3 rows x 26 columns]"
      ]
     },
     "execution_count": 27,
     "metadata": {},
     "output_type": "execute_result"
    }
   ],
   "source": [
    "df_27_new.head(3)"
   ]
  },
  {
   "cell_type": "code",
   "execution_count": 28,
   "id": "b88f0a60",
   "metadata": {},
   "outputs": [
    {
     "data": {
      "text/plain": [
       "(2000000, 26)"
      ]
     },
     "execution_count": 28,
     "metadata": {},
     "output_type": "execute_result"
    }
   ],
   "source": [
    "df_27_new.shape"
   ]
  },
  {
   "cell_type": "markdown",
   "id": "9f00544c",
   "metadata": {},
   "source": [
    "### Number of missing values by column<a id='missing_columns'>"
   ]
  },
  {
   "cell_type": "code",
   "execution_count": 29,
   "id": "fd5eb6c7",
   "metadata": {},
   "outputs": [
    {
     "data": {
      "text/plain": [
       "<AxesSubplot:>"
      ]
     },
     "execution_count": 29,
     "metadata": {},
     "output_type": "execute_result"
    },
    {
     "data": {
      "image/png": "[encoded data removed]",
      "text/plain": [
       "<Figure size 2400x1000 with 3 Axes>"
      ]
     },
     "metadata": {},
     "output_type": "display_data"
    }
   ],
   "source": [
    "msno.bar(df_27_new)"
   ]
  },
  {
   "cell_type": "code",
   "execution_count": 30,
   "id": "b3e07062",
   "metadata": {},
   "outputs": [
    {
     "data": {
      "text/html": [
       "<div>\n",
       "<style scoped>\n",
       "    .dataframe tbody tr th:only-of-type {\n",
       "        vertical-align: middle;\n",
       "    }\n",
       "\n",
       "    .dataframe tbody tr th {\n",
       "        vertical-align: top;\n",
       "    }\n",
       "\n",
       "    .dataframe thead th {\n",
       "        text-align: right;\n",
       "    }\n",
       "</style>\n",
       "<table border=\"1\" class=\"dataframe\">\n",
       "  <thead>\n",
       "    <tr style=\"text-align: right;\">\n",
       "      <th></th>\n",
       "      <th>count</th>\n",
       "      <th>%</th>\n",
       "    </tr>\n",
       "  </thead>\n",
       "  <tbody>\n",
       "    <tr>\n",
       "      <th>category_description</th>\n",
       "      <td>1266377</td>\n",
       "      <td>63.31885</td>\n",
       "    </tr>\n",
       "    <tr>\n",
       "      <th>ucr_category</th>\n",
       "      <td>1266377</td>\n",
       "      <td>63.31885</td>\n",
       "    </tr>\n",
       "    <tr>\n",
       "      <th>clearance_status</th>\n",
       "      <td>421682</td>\n",
       "      <td>21.08410</td>\n",
       "    </tr>\n",
       "    <tr>\n",
       "      <th>clearance_date</th>\n",
       "      <td>254502</td>\n",
       "      <td>12.72510</td>\n",
       "    </tr>\n",
       "    <tr>\n",
       "      <th>location</th>\n",
       "      <td>33147</td>\n",
       "      <td>1.65735</td>\n",
       "    </tr>\n",
       "    <tr>\n",
       "      <th>longitude</th>\n",
       "      <td>33147</td>\n",
       "      <td>1.65735</td>\n",
       "    </tr>\n",
       "    <tr>\n",
       "      <th>latitude</th>\n",
       "      <td>33147</td>\n",
       "      <td>1.65735</td>\n",
       "    </tr>\n",
       "    <tr>\n",
       "      <th>council_district</th>\n",
       "      <td>24801</td>\n",
       "      <td>1.24005</td>\n",
       "    </tr>\n",
       "    <tr>\n",
       "      <th>census_tract</th>\n",
       "      <td>16114</td>\n",
       "      <td>0.80570</td>\n",
       "    </tr>\n",
       "    <tr>\n",
       "      <th>location_type</th>\n",
       "      <td>10237</td>\n",
       "      <td>0.51185</td>\n",
       "    </tr>\n",
       "    <tr>\n",
       "      <th>zip_code</th>\n",
       "      <td>9769</td>\n",
       "      <td>0.48845</td>\n",
       "    </tr>\n",
       "    <tr>\n",
       "      <th>pra</th>\n",
       "      <td>7210</td>\n",
       "      <td>0.36050</td>\n",
       "    </tr>\n",
       "    <tr>\n",
       "      <th>x_coordinate</th>\n",
       "      <td>6589</td>\n",
       "      <td>0.32945</td>\n",
       "    </tr>\n",
       "    <tr>\n",
       "      <th>y_coordinate</th>\n",
       "      <td>6582</td>\n",
       "      <td>0.32910</td>\n",
       "    </tr>\n",
       "    <tr>\n",
       "      <th>district</th>\n",
       "      <td>5856</td>\n",
       "      <td>0.29280</td>\n",
       "    </tr>\n",
       "    <tr>\n",
       "      <th>sector</th>\n",
       "      <td>5309</td>\n",
       "      <td>0.26545</td>\n",
       "    </tr>\n",
       "    <tr>\n",
       "      <th>address</th>\n",
       "      <td>9</td>\n",
       "      <td>0.00045</td>\n",
       "    </tr>\n",
       "    <tr>\n",
       "      <th>reported_date_time</th>\n",
       "      <td>0</td>\n",
       "      <td>0.00000</td>\n",
       "    </tr>\n",
       "    <tr>\n",
       "      <th>occurred_date_time</th>\n",
       "      <td>0</td>\n",
       "      <td>0.00000</td>\n",
       "    </tr>\n",
       "    <tr>\n",
       "      <th>month</th>\n",
       "      <td>0</td>\n",
       "      <td>0.00000</td>\n",
       "    </tr>\n",
       "    <tr>\n",
       "      <th>year</th>\n",
       "      <td>0</td>\n",
       "      <td>0.00000</td>\n",
       "    </tr>\n",
       "    <tr>\n",
       "      <th>incident_report_number</th>\n",
       "      <td>0</td>\n",
       "      <td>0.00000</td>\n",
       "    </tr>\n",
       "    <tr>\n",
       "      <th>crime_type</th>\n",
       "      <td>0</td>\n",
       "      <td>0.00000</td>\n",
       "    </tr>\n",
       "    <tr>\n",
       "      <th>family_violence</th>\n",
       "      <td>0</td>\n",
       "      <td>0.00000</td>\n",
       "    </tr>\n",
       "    <tr>\n",
       "      <th>ucr_code</th>\n",
       "      <td>0</td>\n",
       "      <td>0.00000</td>\n",
       "    </tr>\n",
       "    <tr>\n",
       "      <th>hour</th>\n",
       "      <td>0</td>\n",
       "      <td>0.00000</td>\n",
       "    </tr>\n",
       "  </tbody>\n",
       "</table>\n",
       "</div>"
      ],
      "text/plain": [
       "                          count         %\n",
       "category_description    1266377  63.31885\n",
       "ucr_category            1266377  63.31885\n",
       "clearance_status         421682  21.08410\n",
       "clearance_date           254502  12.72510\n",
       "location                  33147   1.65735\n",
       "longitude                 33147   1.65735\n",
       "latitude                  33147   1.65735\n",
       "council_district          24801   1.24005\n",
       "census_tract              16114   0.80570\n",
       "location_type             10237   0.51185\n",
       "zip_code                   9769   0.48845\n",
       "pra                        7210   0.36050\n",
       "x_coordinate               6589   0.32945\n",
       "y_coordinate               6582   0.32910\n",
       "district                   5856   0.29280\n",
       "sector                     5309   0.26545\n",
       "address                       9   0.00045\n",
       "reported_date_time            0   0.00000\n",
       "occurred_date_time            0   0.00000\n",
       "month                         0   0.00000\n",
       "year                          0   0.00000\n",
       "incident_report_number        0   0.00000\n",
       "crime_type                    0   0.00000\n",
       "family_violence               0   0.00000\n",
       "ucr_code                      0   0.00000\n",
       "hour                          0   0.00000"
      ]
     },
     "execution_count": 30,
     "metadata": {},
     "output_type": "execute_result"
    }
   ],
   "source": [
    "missing = pd.concat([df_27_new.isnull().sum(), 100 * df_27_new.isnull().mean()], axis=1)\n",
    "missing.columns=['count', '%']\n",
    "missing.sort_values('count', ascending=False)"
   ]
  },
  {
   "cell_type": "code",
   "execution_count": 31,
   "id": "507fc7bf",
   "metadata": {},
   "outputs": [],
   "source": [
    "# since ucr_category and categry_description are missing almost 60% of values, I will drop those columns\n",
    "\n",
    "drop_columns = ['ucr_category', 'category_description']\n",
    "df_27_new.drop(drop_columns, axis=1, inplace=True)"
   ]
  },
  {
   "cell_type": "code",
   "execution_count": 32,
   "id": "87b59b96",
   "metadata": {},
   "outputs": [
    {
     "data": {
      "text/plain": [
       "Index(['incident_report_number', 'crime_type', 'ucr_code', 'family_violence',\n",
       "       'location_type', 'address', 'zip_code', 'council_district', 'sector',\n",
       "       'district', 'pra', 'census_tract', 'x_coordinate', 'y_coordinate',\n",
       "       'latitude', 'longitude', 'location', 'clearance_status',\n",
       "       'clearance_date', 'occurred_date_time', 'reported_date_time', 'month',\n",
       "       'year', 'hour'],\n",
       "      dtype='object')"
      ]
     },
     "execution_count": 32,
     "metadata": {},
     "output_type": "execute_result"
    }
   ],
   "source": [
    "df_27_new.columns"
   ]
  },
  {
   "cell_type": "code",
   "execution_count": 33,
   "id": "d3377175",
   "metadata": {},
   "outputs": [
    {
     "name": "stdout",
     "output_type": "stream",
     "text": [
      "<class 'pandas.core.frame.DataFrame'>\n",
      "Int64Index: 2000000 entries, 0 to 1999999\n",
      "Data columns (total 24 columns):\n",
      " #   Column                  Dtype         \n",
      "---  ------                  -----         \n",
      " 0   incident_report_number  object        \n",
      " 1   crime_type              object        \n",
      " 2   ucr_code                object        \n",
      " 3   family_violence         object        \n",
      " 4   location_type           object        \n",
      " 5   address                 object        \n",
      " 6   zip_code                object        \n",
      " 7   council_district        object        \n",
      " 8   sector                  object        \n",
      " 9   district                object        \n",
      " 10  pra                     object        \n",
      " 11  census_tract            object        \n",
      " 12  x_coordinate            object        \n",
      " 13  y_coordinate            object        \n",
      " 14  latitude                object        \n",
      " 15  longitude               object        \n",
      " 16  location                object        \n",
      " 17  clearance_status        object        \n",
      " 18  clearance_date          object        \n",
      " 19  occurred_date_time      datetime64[ns]\n",
      " 20  reported_date_time      datetime64[ns]\n",
      " 21  month                   object        \n",
      " 22  year                    object        \n",
      " 23  hour                    int64         \n",
      "dtypes: datetime64[ns](2), int64(1), object(21)\n",
      "memory usage: 381.5+ MB\n"
     ]
    }
   ],
   "source": [
    "df_27_new.info()"
   ]
  },
  {
   "cell_type": "markdown",
   "id": "ce83740f",
   "metadata": {},
   "source": [
    "### Check for Duplicates<a id='check_duplicates'>"
   ]
  },
  {
   "cell_type": "code",
   "execution_count": null,
   "id": "d9c18709",
   "metadata": {},
   "outputs": [],
   "source": [
    "def value_count(data):\n",
    "    \n",
    "    for col in data.columns:\n",
    "        print(f\"{col} value counts: {data[col].value_counts().head()}\")\n",
    "        print(\"########################################################\")"
   ]
  },
  {
   "cell_type": "code",
   "execution_count": 37,
   "id": "e870d424",
   "metadata": {},
   "outputs": [
    {
     "data": {
      "text/plain": [
       "2023491535     1\n",
       "20102830373    1\n",
       "20102830358    1\n",
       "20102830360    1\n",
       "20102830369    1\n",
       "Name: incident_report_number, dtype: int64"
      ]
     },
     "execution_count": 37,
     "metadata": {},
     "output_type": "execute_result"
    }
   ],
   "source": [
    "df_27_new['incident_report_number'].value_counts().head()"
   ]
  },
  {
   "cell_type": "code",
   "execution_count": 40,
   "id": "c0d63e1d",
   "metadata": {},
   "outputs": [
    {
     "data": {
      "text/plain": [
       "BURGLARY OF VEHICLE               199432\n",
       "THEFT                             190802\n",
       "FAMILY DISTURBANCE                174466\n",
       "CRIMINAL MISCHIEF                 112413\n",
       "ASSAULT W/INJURY-FAM/DATE VIOL     70550\n",
       "Name: crime_type, dtype: int64"
      ]
     },
     "execution_count": 40,
     "metadata": {},
     "output_type": "execute_result"
    }
   ],
   "source": [
    "df_27_new['crime_type'].value_counts().head()"
   ]
  },
  {
   "cell_type": "code",
   "execution_count": 39,
   "id": "2e43d5b9",
   "metadata": {},
   "outputs": [
    {
     "data": {
      "text/plain": [
       "421"
      ]
     },
     "execution_count": 39,
     "metadata": {},
     "output_type": "execute_result"
    }
   ],
   "source": [
    "len(df_27_new['crime_type'].value_counts())"
   ]
  },
  {
   "cell_type": "code",
   "execution_count": 41,
   "id": "14651629",
   "metadata": {},
   "outputs": [
    {
     "data": {
      "text/plain": [
       "382"
      ]
     },
     "execution_count": 41,
     "metadata": {},
     "output_type": "execute_result"
    }
   ],
   "source": [
    "len(df_27_new['ucr_code'].value_counts())"
   ]
  },
  {
   "cell_type": "code",
   "execution_count": 42,
   "id": "dab05455",
   "metadata": {},
   "outputs": [
    {
     "data": {
      "text/plain": [
       "601     207022\n",
       "600     191337\n",
       "3400    174466\n",
       "900     115911\n",
       "1400    113474\n",
       "Name: ucr_code, dtype: int64"
      ]
     },
     "execution_count": 42,
     "metadata": {},
     "output_type": "execute_result"
    }
   ],
   "source": [
    "df_27_new['ucr_code'].value_counts().head()"
   ]
  },
  {
   "cell_type": "code",
   "execution_count": 60,
   "id": "34b6509a",
   "metadata": {},
   "outputs": [
    {
     "data": {
      "text/html": [
       "<div>\n",
       "<style scoped>\n",
       "    .dataframe tbody tr th:only-of-type {\n",
       "        vertical-align: middle;\n",
       "    }\n",
       "\n",
       "    .dataframe tbody tr th {\n",
       "        vertical-align: top;\n",
       "    }\n",
       "\n",
       "    .dataframe thead th {\n",
       "        text-align: right;\n",
       "    }\n",
       "</style>\n",
       "<table border=\"1\" class=\"dataframe\">\n",
       "  <thead>\n",
       "    <tr style=\"text-align: right;\">\n",
       "      <th></th>\n",
       "      <th></th>\n",
       "      <th></th>\n",
       "      <th>count</th>\n",
       "    </tr>\n",
       "    <tr>\n",
       "      <th>longitude</th>\n",
       "      <th>latitude</th>\n",
       "      <th>crime_type</th>\n",
       "      <th></th>\n",
       "    </tr>\n",
       "  </thead>\n",
       "  <tbody>\n",
       "    <tr>\n",
       "      <th rowspan=\"5\" valign=\"top\">-0.00013208</th>\n",
       "      <th rowspan=\"5\" valign=\"top\">0.00011857</th>\n",
       "      <th>PROTECTIVE ORDER</th>\n",
       "      <td>3</td>\n",
       "    </tr>\n",
       "    <tr>\n",
       "      <th>DAMAGE CITY VEHICLE</th>\n",
       "      <td>1</td>\n",
       "    </tr>\n",
       "    <tr>\n",
       "      <th>FAMILY DISTURBANCE</th>\n",
       "      <td>1</td>\n",
       "    </tr>\n",
       "    <tr>\n",
       "      <th>HARASSMENT</th>\n",
       "      <td>1</td>\n",
       "    </tr>\n",
       "    <tr>\n",
       "      <th>THEFT CATALYTIC CONVERTER</th>\n",
       "      <td>1</td>\n",
       "    </tr>\n",
       "    <tr>\n",
       "      <th>...</th>\n",
       "      <th>...</th>\n",
       "      <th>...</th>\n",
       "      <td>...</td>\n",
       "    </tr>\n",
       "    <tr>\n",
       "      <th>-98.18497145</th>\n",
       "      <th>30.47476063</th>\n",
       "      <th>ASSAULT W/INJURY-FAM/DATE VIOL</th>\n",
       "      <td>1</td>\n",
       "    </tr>\n",
       "    <tr>\n",
       "      <th rowspan=\"3\" valign=\"top\">-98.19028928</th>\n",
       "      <th rowspan=\"3\" valign=\"top\">30.47748961</th>\n",
       "      <th>THEFT</th>\n",
       "      <td>3</td>\n",
       "    </tr>\n",
       "    <tr>\n",
       "      <th>BURGLARY OF VEHICLE</th>\n",
       "      <td>1</td>\n",
       "    </tr>\n",
       "    <tr>\n",
       "      <th>FAMILY DISTURBANCE</th>\n",
       "      <td>1</td>\n",
       "    </tr>\n",
       "    <tr>\n",
       "      <th>-98.25452686</th>\n",
       "      <th>29.57279556</th>\n",
       "      <th>TERRORISTIC THREAT</th>\n",
       "      <td>1</td>\n",
       "    </tr>\n",
       "  </tbody>\n",
       "</table>\n",
       "<p>812311 rows × 1 columns</p>\n",
       "</div>"
      ],
      "text/plain": [
       "                                                         count\n",
       "longitude    latitude    crime_type                           \n",
       "-0.00013208  0.00011857  PROTECTIVE ORDER                    3\n",
       "                         DAMAGE CITY VEHICLE                 1\n",
       "                         FAMILY DISTURBANCE                  1\n",
       "                         HARASSMENT                          1\n",
       "                         THEFT CATALYTIC CONVERTER           1\n",
       "...                                                        ...\n",
       "-98.18497145 30.47476063 ASSAULT W/INJURY-FAM/DATE VIOL      1\n",
       "-98.19028928 30.47748961 THEFT                               3\n",
       "                         BURGLARY OF VEHICLE                 1\n",
       "                         FAMILY DISTURBANCE                  1\n",
       "-98.25452686 29.57279556 TERRORISTIC THREAT                  1\n",
       "\n",
       "[812311 rows x 1 columns]"
      ]
     },
     "execution_count": 60,
     "metadata": {},
     "output_type": "execute_result"
    }
   ],
   "source": [
    "df_27_new.groupby(['longitude', 'latitude'])['crime_type'].value_counts().to_frame('count')"
   ]
  },
  {
   "cell_type": "code",
   "execution_count": 61,
   "id": "aec60e21",
   "metadata": {},
   "outputs": [
    {
     "data": {
      "text/html": [
       "<div>\n",
       "<style scoped>\n",
       "    .dataframe tbody tr th:only-of-type {\n",
       "        vertical-align: middle;\n",
       "    }\n",
       "\n",
       "    .dataframe tbody tr th {\n",
       "        vertical-align: top;\n",
       "    }\n",
       "\n",
       "    .dataframe thead th {\n",
       "        text-align: right;\n",
       "    }\n",
       "</style>\n",
       "<table border=\"1\" class=\"dataframe\">\n",
       "  <thead>\n",
       "    <tr style=\"text-align: right;\">\n",
       "      <th></th>\n",
       "      <th></th>\n",
       "      <th></th>\n",
       "      <th></th>\n",
       "      <th>count</th>\n",
       "    </tr>\n",
       "    <tr>\n",
       "      <th>longitude</th>\n",
       "      <th>latitude</th>\n",
       "      <th>hour</th>\n",
       "      <th>crime_type</th>\n",
       "      <th></th>\n",
       "    </tr>\n",
       "  </thead>\n",
       "  <tbody>\n",
       "    <tr>\n",
       "      <th rowspan=\"5\" valign=\"top\">-0.00013208</th>\n",
       "      <th rowspan=\"5\" valign=\"top\">0.00011857</th>\n",
       "      <th>8</th>\n",
       "      <th>PROTECTIVE ORDER</th>\n",
       "      <td>1</td>\n",
       "    </tr>\n",
       "    <tr>\n",
       "      <th>9</th>\n",
       "      <th>FAMILY DISTURBANCE</th>\n",
       "      <td>1</td>\n",
       "    </tr>\n",
       "    <tr>\n",
       "      <th>12</th>\n",
       "      <th>HARASSMENT</th>\n",
       "      <td>1</td>\n",
       "    </tr>\n",
       "    <tr>\n",
       "      <th>14</th>\n",
       "      <th>THEFT CATALYTIC CONVERTER</th>\n",
       "      <td>1</td>\n",
       "    </tr>\n",
       "    <tr>\n",
       "      <th>15</th>\n",
       "      <th>DAMAGE CITY VEHICLE</th>\n",
       "      <td>1</td>\n",
       "    </tr>\n",
       "    <tr>\n",
       "      <th>...</th>\n",
       "      <th>...</th>\n",
       "      <th>...</th>\n",
       "      <th>...</th>\n",
       "      <td>...</td>\n",
       "    </tr>\n",
       "    <tr>\n",
       "      <th rowspan=\"4\" valign=\"top\">-98.19028928</th>\n",
       "      <th rowspan=\"4\" valign=\"top\">30.47748961</th>\n",
       "      <th>16</th>\n",
       "      <th>THEFT</th>\n",
       "      <td>1</td>\n",
       "    </tr>\n",
       "    <tr>\n",
       "      <th rowspan=\"2\" valign=\"top\">18</th>\n",
       "      <th>FAMILY DISTURBANCE</th>\n",
       "      <td>1</td>\n",
       "    </tr>\n",
       "    <tr>\n",
       "      <th>THEFT</th>\n",
       "      <td>1</td>\n",
       "    </tr>\n",
       "    <tr>\n",
       "      <th>19</th>\n",
       "      <th>THEFT</th>\n",
       "      <td>1</td>\n",
       "    </tr>\n",
       "    <tr>\n",
       "      <th>-98.25452686</th>\n",
       "      <th>29.57279556</th>\n",
       "      <th>10</th>\n",
       "      <th>TERRORISTIC THREAT</th>\n",
       "      <td>1</td>\n",
       "    </tr>\n",
       "  </tbody>\n",
       "</table>\n",
       "<p>1449299 rows × 1 columns</p>\n",
       "</div>"
      ],
      "text/plain": [
       "                                                         count\n",
       "longitude    latitude    hour crime_type                      \n",
       "-0.00013208  0.00011857  8    PROTECTIVE ORDER               1\n",
       "                         9    FAMILY DISTURBANCE             1\n",
       "                         12   HARASSMENT                     1\n",
       "                         14   THEFT CATALYTIC CONVERTER      1\n",
       "                         15   DAMAGE CITY VEHICLE            1\n",
       "...                                                        ...\n",
       "-98.19028928 30.47748961 16   THEFT                          1\n",
       "                         18   FAMILY DISTURBANCE             1\n",
       "                              THEFT                          1\n",
       "                         19   THEFT                          1\n",
       "-98.25452686 29.57279556 10   TERRORISTIC THREAT             1\n",
       "\n",
       "[1449299 rows x 1 columns]"
      ]
     },
     "execution_count": 61,
     "metadata": {},
     "output_type": "execute_result"
    }
   ],
   "source": [
    "df_27_new.groupby(['longitude', 'latitude','hour'])['crime_type'].value_counts().to_frame('count')"
   ]
  },
  {
   "cell_type": "markdown",
   "id": "dde09dd8",
   "metadata": {},
   "source": [
    "###  Based on the above observations, I dont see any duplicate records. "
   ]
  },
  {
   "cell_type": "markdown",
   "id": "955ce18f",
   "metadata": {},
   "source": [
    "### starting EDA"
   ]
  },
  {
   "cell_type": "code",
   "execution_count": 62,
   "id": "c481f6f0",
   "metadata": {},
   "outputs": [
    {
     "data": {
      "image/png": "[encoded data removed]",
      "text/plain": [
       "<Figure size 640x480 with 1 Axes>"
      ]
     },
     "metadata": {},
     "output_type": "display_data"
    }
   ],
   "source": [
    "crimes_per_year = df_27_new['year'].value_counts().sort_index()\n",
    "\n",
    "import matplotlib.pyplot as plt\n",
    "import seaborn as sns\n",
    "sns.set(style=\"whitegrid\")\n",
    "sns.set_color_codes(\"pastel\")\n",
    "\n",
    "g = sns.barplot(x=crimes_per_year.index, y=crimes_per_year.values,color='b')\n",
    "g.set_xticklabels(g.get_xticklabels(),rotation=90)\n",
    "g.set(xlabel='Year', ylabel='# crimes occurred')\n",
    "plt.title('Number of occurred crimes per year')\n",
    "plt.show()"
   ]
  },
  {
   "cell_type": "markdown",
   "id": "1023ec44",
   "metadata": {},
   "source": [
    "Good to see the decline in the crime since 2008!"
   ]
  },
  {
   "cell_type": "markdown",
   "id": "dbafd369",
   "metadata": {},
   "source": [
    "### Hourly crimes"
   ]
  },
  {
   "cell_type": "code",
   "execution_count": 63,
   "id": "d8323aad",
   "metadata": {},
   "outputs": [
    {
     "data": {
      "image/png": "[encoded data removed]",
      "text/plain": [
       "<Figure size 640x480 with 1 Axes>"
      ]
     },
     "metadata": {},
     "output_type": "display_data"
    }
   ],
   "source": [
    "crimes_per_hour = df_27_new['hour'].value_counts().sort_index()\n",
    "g = sns.barplot(x=crimes_per_hour.index, y=crimes_per_hour.values, color='b')\n",
    "g.set(xlabel='Hour', ylabel='# crimes occurred')\n",
    "plt.title('Crime occurance per hour of day')\n",
    "plt.show()"
   ]
  },
  {
   "cell_type": "markdown",
   "id": "48fb65dc",
   "metadata": {},
   "source": [
    "Crimes happen maximum during noon time. "
   ]
  },
  {
   "cell_type": "markdown",
   "id": "171a251e",
   "metadata": {},
   "source": [
    "### save the wrangled file<a id='save_file'>"
   ]
  },
  {
   "cell_type": "code",
   "execution_count": 65,
   "id": "94f5686d",
   "metadata": {},
   "outputs": [],
   "source": [
    "#saving this file\n",
    "table1 = pa.Table.from_pandas(df_27_new, preserve_index=True)\n",
    "pq.write_table(table1, 'crime_reports_wrangled.parquet')"
   ]
  },
  {
   "cell_type": "markdown",
   "id": "33d0b0f8",
   "metadata": {},
   "source": [
    "###  Summary of Data Wrangling<a id='summary'>\n",
    "\n",
    "(a)  Ingested 2 million records into a Jupyter Notebook. \n",
    "\n",
    "(b) Following are the dimensions associated with the project:\n",
    "'incident_report_number', 'crime_type', 'ucr_code', 'family_violence',\n",
    "       'location_type', 'address', 'zip_code', 'council_district', 'sector',\n",
    "       'district', 'pra', 'census_tract', 'x_coordinate', 'y_coordinate',\n",
    "       'latitude', 'longitude', 'location', 'clearance_status',\n",
    "       'clearance_date', 'ucr_category', 'category_description',\n",
    "       'occurred_date_time', 'reported_date_time', 'hour','year','month'\n",
    "\n",
    "(c) Determine the number of time series across each dimension, and\n",
    "across all dimensions. ???\n",
    "\n",
    "(d) Identify the target and its type (categorical/non-categorical). Possible targets could be crime_type, clearance_status\n",
    "\n",
    "(e) Identify whether there are features in addition to time and the target.\n",
    "These are sometimes called \"Exogenous Variables\".\n",
    "Also determine the type of each feature, and whether they are\n",
    "categorical or non-categorical.\n",
    "\n",
    "If additional Exogenous Variables are not present, determine\n",
    "if it makes senses to augment the dataset with them. ???\n",
    "\n",
    "(f) Identify the resolution of TS (meaning: hourly, daily, weekly,\n",
    "monthly, etc.) -  \n",
    "\n",
    "(g) According to the business problem determine the type of\n",
    "resolution to be used in the project, and what is called the\n",
    "\"forecasting horizon\", which is the number of time units for\n",
    "which the forecast will be computed. In our case, \n",
    "resolution will be hourly, the forecasting horizon will be for 24 hours.\n",
    "In general, this depends on the needs of the client.\n",
    "\n",
    "(h) As needed, perform appropriate aggregations according to (g).\n",
    "\n",
    "(i) Decide whether you want to store the \"wrangled\" dataset using\n",
    "a different format. I used parquet format to save the data frame as the data types wil not get messed up\n",
    "\n"
   ]
  },
  {
   "cell_type": "code",
   "execution_count": null,
   "id": "629020b7",
   "metadata": {},
   "outputs": [],
   "source": []
  }
 ],
 "metadata": {
  "kernelspec": {
   "display_name": "Python 3 (ipykernel)",
   "language": "python",
   "name": "python3"
  },
  "language_info": {
   "codemirror_mode": {
    "name": "ipython",
    "version": 3
   },
   "file_extension": ".py",
   "mimetype": "text/x-python",
   "name": "python",
   "nbconvert_exporter": "python",
   "pygments_lexer": "ipython3",
   "version": "3.9.13"
  }
 },
 "nbformat": 4,
 "nbformat_minor": 5
}
