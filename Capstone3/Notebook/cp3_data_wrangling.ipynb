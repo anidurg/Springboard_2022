{
 "cells": [
  {
   "cell_type": "markdown",
   "id": "ccc0f1ac",
   "metadata": {},
   "source": [
    "## Contents<a id='Contents'></a>\n",
    "* [Data wrangling](#Data_wrangling)\n",
    "  * [Contents](#Contents)\n",
    "  * [Introduction](#Introduction)\n",
    "    * [Recap Of Data Science Problem](#Recap_Of_Data_Science_Problem)\n",
    "    * [Data Source](#data_source)\n",
    "    * [API_request](#api_request)\n",
    "    * [Load the Data](#load_data)\n",
    "    \n",
    "  * [Imports](#Imports)\n",
    "  * [Objectives](#Objectives)\n",
    "  * [Load The Crime reports Data](#load_data)\n",
    "  * [Date Column Manipulations](#date_manipulations)\n",
    "  * [Number of missing values by column](#missing_columns)\n",
    "  * [save the wrangled file](#save_file)\n",
    "  * [Summary of Data Wrangling](#summary)\n",
    "     "
   ]
  },
  {
   "cell_type": "markdown",
   "id": "68e383a5",
   "metadata": {},
   "source": [
    "### Introduction<a id='Introduction'>\n",
    "    \n",
    "This step focuses on collecting the data, organizing it, and making sure it's well defined. Some data cleaning will be done at this stage."
   ]
  },
  {
   "cell_type": "markdown",
   "id": "afea9d0a",
   "metadata": {},
   "source": [
    "### Recap Of Data Science Problem<a id='Recap_Of_Data_Science_Problem'>\n",
    "    \n",
    "The purpose of this data science project is to come up with machine learning models that will provide guidance to Austin Police Department(APD) and provide safety measures to Austin Public by informing them about the safe negihborhoods.\n"
   ]
  },
  {
   "cell_type": "markdown",
   "id": "62fd91d1",
   "metadata": {},
   "source": [
    "### Data Source<a id='data_source'>\n",
    "    \n",
    "Data is provided by APD and dataset owner is APD PIO(Public Information Officer). "
   ]
  },
  {
   "cell_type": "markdown",
   "id": "18a30c6d",
   "metadata": {},
   "source": [
    "### IMPORTS<a id='Imports'>"
   ]
  },
  {
   "cell_type": "code",
   "execution_count": 1,
   "id": "12fb13d6",
   "metadata": {},
   "outputs": [],
   "source": [
    "import pandas as pd\n",
    "import numpy as np\n",
    "import seaborn as sns\n",
    "import matplotlib.pyplot as plt\n",
    "%matplotlib inline\n",
    "import requests\n",
    "import time\n",
    "from sodapy import Socrata\n",
    "#requires conda installation of missingno\n",
    "import missingno as msno\n",
    "import warnings\n",
    "warnings.filterwarnings('ignore')"
   ]
  },
  {
   "cell_type": "code",
   "execution_count": 2,
   "id": "8f942095",
   "metadata": {},
   "outputs": [],
   "source": [
    "import os\n",
    "\n",
    "from dotenv import load_dotenv\n",
    "load_dotenv()\n",
    "app_token=os.getenv('AUSTEX_API_TOKEN')\n",
    "\n",
    "#print(app_token)\n",
    "\n"
   ]
  },
  {
   "cell_type": "markdown",
   "id": "7a2f9cd1",
   "metadata": {},
   "source": [
    "### API request<a id='api_request'>"
   ]
  },
  {
   "cell_type": "code",
   "execution_count": 3,
   "id": "473b3271",
   "metadata": {},
   "outputs": [],
   "source": [
    "x = requests.get(f\"https://data.austintexas.gov/resource/fdj4-gpfu.json?$limit=2000000&$$app_token={app_token}\")"
   ]
  },
  {
   "cell_type": "code",
   "execution_count": 4,
   "id": "5da126d6",
   "metadata": {},
   "outputs": [
    {
     "name": "stdout",
     "output_type": "stream",
     "text": [
      "200\n"
     ]
    }
   ],
   "source": [
    "print(x.status_code)"
   ]
  },
  {
   "cell_type": "markdown",
   "id": "febb1c19",
   "metadata": {},
   "source": [
    "### Load the Data<a id='load_data'>"
   ]
  },
  {
   "cell_type": "code",
   "execution_count": 5,
   "id": "c42f99bb",
   "metadata": {},
   "outputs": [],
   "source": [
    "df=pd.DataFrame(data=x.json())"
   ]
  },
  {
   "cell_type": "code",
   "execution_count": 6,
   "id": "b8b2848d",
   "metadata": {},
   "outputs": [
    {
     "data": {
      "text/html": [
       "<div>\n",
       "<style scoped>\n",
       "    .dataframe tbody tr th:only-of-type {\n",
       "        vertical-align: middle;\n",
       "    }\n",
       "\n",
       "    .dataframe tbody tr th {\n",
       "        vertical-align: top;\n",
       "    }\n",
       "\n",
       "    .dataframe thead th {\n",
       "        text-align: right;\n",
       "    }\n",
       "</style>\n",
       "<table border=\"1\" class=\"dataframe\">\n",
       "  <thead>\n",
       "    <tr style=\"text-align: right;\">\n",
       "      <th></th>\n",
       "      <th>incident_report_number</th>\n",
       "      <th>crime_type</th>\n",
       "      <th>ucr_code</th>\n",
       "      <th>family_violence</th>\n",
       "      <th>occ_date_time</th>\n",
       "      <th>occ_date</th>\n",
       "      <th>occ_time</th>\n",
       "      <th>rep_date_time</th>\n",
       "      <th>rep_date</th>\n",
       "      <th>rep_time</th>\n",
       "      <th>...</th>\n",
       "      <th>:@computed_region_a3it_2a2z</th>\n",
       "      <th>:@computed_region_8spj_utxs</th>\n",
       "      <th>:@computed_region_q9nd_rr82</th>\n",
       "      <th>:@computed_region_qwte_z96m</th>\n",
       "      <th>:@computed_region_e9j2_6w3z</th>\n",
       "      <th>:@computed_region_5gse_m7ik</th>\n",
       "      <th>clearance_status</th>\n",
       "      <th>clearance_date</th>\n",
       "      <th>ucr_category</th>\n",
       "      <th>category_description</th>\n",
       "    </tr>\n",
       "  </thead>\n",
       "  <tbody>\n",
       "    <tr>\n",
       "      <th>0</th>\n",
       "      <td>2023491535</td>\n",
       "      <td>ASSAULT BY CONTACT FAM/DATING</td>\n",
       "      <td>902</td>\n",
       "      <td>Y</td>\n",
       "      <td>2023-02-18T23:55:00.000</td>\n",
       "      <td>2023-02-18T00:00:00.000</td>\n",
       "      <td>2355</td>\n",
       "      <td>2023-02-18T23:55:00.000</td>\n",
       "      <td>2023-02-18T00:00:00.000</td>\n",
       "      <td>2355</td>\n",
       "      <td>...</td>\n",
       "      <td>3641</td>\n",
       "      <td>4</td>\n",
       "      <td>9</td>\n",
       "      <td>1114</td>\n",
       "      <td>78</td>\n",
       "      <td>2</td>\n",
       "      <td>NaN</td>\n",
       "      <td>NaN</td>\n",
       "      <td>NaN</td>\n",
       "      <td>NaN</td>\n",
       "    </tr>\n",
       "    <tr>\n",
       "      <th>1</th>\n",
       "      <td>2023491436</td>\n",
       "      <td>POSS CONTROLLED SUB/NARCOTIC</td>\n",
       "      <td>1800</td>\n",
       "      <td>N</td>\n",
       "      <td>2023-02-18T23:27:00.000</td>\n",
       "      <td>2023-02-18T00:00:00.000</td>\n",
       "      <td>2327</td>\n",
       "      <td>2023-02-18T23:27:00.000</td>\n",
       "      <td>2023-02-18T00:00:00.000</td>\n",
       "      <td>2327</td>\n",
       "      <td>...</td>\n",
       "      <td>3640</td>\n",
       "      <td>9</td>\n",
       "      <td>10</td>\n",
       "      <td>1081</td>\n",
       "      <td>68</td>\n",
       "      <td>6</td>\n",
       "      <td>C</td>\n",
       "      <td>2023-02-19T00:00:00.000</td>\n",
       "      <td>NaN</td>\n",
       "      <td>NaN</td>\n",
       "    </tr>\n",
       "    <tr>\n",
       "      <th>2</th>\n",
       "      <td>2023491425</td>\n",
       "      <td>THEFT</td>\n",
       "      <td>600</td>\n",
       "      <td>N</td>\n",
       "      <td>2023-02-18T23:24:00.000</td>\n",
       "      <td>2023-02-18T00:00:00.000</td>\n",
       "      <td>2324</td>\n",
       "      <td>2023-02-18T23:24:00.000</td>\n",
       "      <td>2023-02-18T00:00:00.000</td>\n",
       "      <td>2324</td>\n",
       "      <td>...</td>\n",
       "      <td>2865</td>\n",
       "      <td>9</td>\n",
       "      <td>10</td>\n",
       "      <td>1169</td>\n",
       "      <td>36</td>\n",
       "      <td>6</td>\n",
       "      <td>NaN</td>\n",
       "      <td>NaN</td>\n",
       "      <td>23H</td>\n",
       "      <td>Theft</td>\n",
       "    </tr>\n",
       "    <tr>\n",
       "      <th>3</th>\n",
       "      <td>2023491475</td>\n",
       "      <td>TERRORISTIC THREAT</td>\n",
       "      <td>2704</td>\n",
       "      <td>N</td>\n",
       "      <td>2023-02-18T23:04:00.000</td>\n",
       "      <td>2023-02-18T00:00:00.000</td>\n",
       "      <td>2304</td>\n",
       "      <td>2023-02-18T23:04:00.000</td>\n",
       "      <td>2023-02-18T00:00:00.000</td>\n",
       "      <td>2304</td>\n",
       "      <td>...</td>\n",
       "      <td>3641</td>\n",
       "      <td>4</td>\n",
       "      <td>9</td>\n",
       "      <td>202</td>\n",
       "      <td>43</td>\n",
       "      <td>2</td>\n",
       "      <td>NaN</td>\n",
       "      <td>NaN</td>\n",
       "      <td>NaN</td>\n",
       "      <td>NaN</td>\n",
       "    </tr>\n",
       "    <tr>\n",
       "      <th>4</th>\n",
       "      <td>2023491472</td>\n",
       "      <td>DOC DISCHARGE GUN - PUB PLACE</td>\n",
       "      <td>2408</td>\n",
       "      <td>N</td>\n",
       "      <td>2023-02-18T23:03:00.000</td>\n",
       "      <td>2023-02-18T00:00:00.000</td>\n",
       "      <td>2303</td>\n",
       "      <td>2023-02-18T23:48:00.000</td>\n",
       "      <td>2023-02-18T00:00:00.000</td>\n",
       "      <td>2348</td>\n",
       "      <td>...</td>\n",
       "      <td>3256</td>\n",
       "      <td>3</td>\n",
       "      <td>3</td>\n",
       "      <td>NaN</td>\n",
       "      <td>46</td>\n",
       "      <td>1</td>\n",
       "      <td>NaN</td>\n",
       "      <td>NaN</td>\n",
       "      <td>NaN</td>\n",
       "      <td>NaN</td>\n",
       "    </tr>\n",
       "  </tbody>\n",
       "</table>\n",
       "<p>5 rows × 33 columns</p>\n",
       "</div>"
      ],
      "text/plain": [
       "  incident_report_number                     crime_type ucr_code  \\\n",
       "0             2023491535  ASSAULT BY CONTACT FAM/DATING      902   \n",
       "1             2023491436   POSS CONTROLLED SUB/NARCOTIC     1800   \n",
       "2             2023491425                          THEFT      600   \n",
       "3             2023491475             TERRORISTIC THREAT     2704   \n",
       "4             2023491472  DOC DISCHARGE GUN - PUB PLACE     2408   \n",
       "\n",
       "  family_violence            occ_date_time                 occ_date occ_time  \\\n",
       "0               Y  2023-02-18T23:55:00.000  2023-02-18T00:00:00.000     2355   \n",
       "1               N  2023-02-18T23:27:00.000  2023-02-18T00:00:00.000     2327   \n",
       "2               N  2023-02-18T23:24:00.000  2023-02-18T00:00:00.000     2324   \n",
       "3               N  2023-02-18T23:04:00.000  2023-02-18T00:00:00.000     2304   \n",
       "4               N  2023-02-18T23:03:00.000  2023-02-18T00:00:00.000     2303   \n",
       "\n",
       "             rep_date_time                 rep_date rep_time  ...  \\\n",
       "0  2023-02-18T23:55:00.000  2023-02-18T00:00:00.000     2355  ...   \n",
       "1  2023-02-18T23:27:00.000  2023-02-18T00:00:00.000     2327  ...   \n",
       "2  2023-02-18T23:24:00.000  2023-02-18T00:00:00.000     2324  ...   \n",
       "3  2023-02-18T23:04:00.000  2023-02-18T00:00:00.000     2304  ...   \n",
       "4  2023-02-18T23:48:00.000  2023-02-18T00:00:00.000     2348  ...   \n",
       "\n",
       "  :@computed_region_a3it_2a2z :@computed_region_8spj_utxs  \\\n",
       "0                        3641                           4   \n",
       "1                        3640                           9   \n",
       "2                        2865                           9   \n",
       "3                        3641                           4   \n",
       "4                        3256                           3   \n",
       "\n",
       "  :@computed_region_q9nd_rr82 :@computed_region_qwte_z96m  \\\n",
       "0                           9                        1114   \n",
       "1                          10                        1081   \n",
       "2                          10                        1169   \n",
       "3                           9                         202   \n",
       "4                           3                         NaN   \n",
       "\n",
       "  :@computed_region_e9j2_6w3z :@computed_region_5gse_m7ik clearance_status  \\\n",
       "0                          78                           2              NaN   \n",
       "1                          68                           6                C   \n",
       "2                          36                           6              NaN   \n",
       "3                          43                           2              NaN   \n",
       "4                          46                           1              NaN   \n",
       "\n",
       "            clearance_date ucr_category category_description  \n",
       "0                      NaN          NaN                  NaN  \n",
       "1  2023-02-19T00:00:00.000          NaN                  NaN  \n",
       "2                      NaN          23H                Theft  \n",
       "3                      NaN          NaN                  NaN  \n",
       "4                      NaN          NaN                  NaN  \n",
       "\n",
       "[5 rows x 33 columns]"
      ]
     },
     "execution_count": 6,
     "metadata": {},
     "output_type": "execute_result"
    }
   ],
   "source": [
    "df.head()"
   ]
  },
  {
   "cell_type": "code",
   "execution_count": 7,
   "id": "37420531",
   "metadata": {},
   "outputs": [
    {
     "name": "stdout",
     "output_type": "stream",
     "text": [
      "<class 'pandas.core.frame.DataFrame'>\n",
      "RangeIndex: 2000000 entries, 0 to 1999999\n",
      "Data columns (total 33 columns):\n",
      " #   Column                       Dtype \n",
      "---  ------                       ----- \n",
      " 0   incident_report_number       object\n",
      " 1   crime_type                   object\n",
      " 2   ucr_code                     object\n",
      " 3   family_violence              object\n",
      " 4   occ_date_time                object\n",
      " 5   occ_date                     object\n",
      " 6   occ_time                     object\n",
      " 7   rep_date_time                object\n",
      " 8   rep_date                     object\n",
      " 9   rep_time                     object\n",
      " 10  location_type                object\n",
      " 11  address                      object\n",
      " 12  zip_code                     object\n",
      " 13  council_district             object\n",
      " 14  sector                       object\n",
      " 15  district                     object\n",
      " 16  pra                          object\n",
      " 17  census_tract                 object\n",
      " 18  x_coordinate                 object\n",
      " 19  y_coordinate                 object\n",
      " 20  latitude                     object\n",
      " 21  longitude                    object\n",
      " 22  location                     object\n",
      " 23  :@computed_region_a3it_2a2z  object\n",
      " 24  :@computed_region_8spj_utxs  object\n",
      " 25  :@computed_region_q9nd_rr82  object\n",
      " 26  :@computed_region_qwte_z96m  object\n",
      " 27  :@computed_region_e9j2_6w3z  object\n",
      " 28  :@computed_region_5gse_m7ik  object\n",
      " 29  clearance_status             object\n",
      " 30  clearance_date               object\n",
      " 31  ucr_category                 object\n",
      " 32  category_description         object\n",
      "dtypes: object(33)\n",
      "memory usage: 503.5+ MB\n"
     ]
    }
   ],
   "source": [
    "df.info()"
   ]
  },
  {
   "cell_type": "markdown",
   "id": "47a4c29d",
   "metadata": {},
   "source": [
    "I notice six columns which are generated based on zipcode and zoning. I do not require it. so dropping thhose columns. "
   ]
  },
  {
   "cell_type": "code",
   "execution_count": 8,
   "id": "0d9a4635",
   "metadata": {},
   "outputs": [],
   "source": [
    "#out of 33 columns, removing the below 6. keeping 27 for now\n",
    "drop_columns = [':@computed_region_a3it_2a2z',':@computed_region_8spj_utxs',':@computed_region_q9nd_rr82',':@computed_region_e9j2_6w3z',':@computed_region_5gse_m7ik',':@computed_region_qwte_z96m']\n",
    "df_27 = df.drop(drop_columns, axis=1)"
   ]
  },
  {
   "cell_type": "code",
   "execution_count": 9,
   "id": "626b422f",
   "metadata": {},
   "outputs": [
    {
     "data": {
      "text/plain": [
       "Index(['incident_report_number', 'crime_type', 'ucr_code', 'family_violence',\n",
       "       'occ_date_time', 'occ_date', 'occ_time', 'rep_date_time', 'rep_date',\n",
       "       'rep_time', 'location_type', 'address', 'zip_code', 'council_district',\n",
       "       'sector', 'district', 'pra', 'census_tract', 'x_coordinate',\n",
       "       'y_coordinate', 'latitude', 'longitude', 'location', 'clearance_status',\n",
       "       'clearance_date', 'ucr_category', 'category_description'],\n",
       "      dtype='object')"
      ]
     },
     "execution_count": 9,
     "metadata": {},
     "output_type": "execute_result"
    }
   ],
   "source": [
    "df_27.columns"
   ]
  },
  {
   "cell_type": "code",
   "execution_count": 10,
   "id": "5a573c6d",
   "metadata": {},
   "outputs": [],
   "source": [
    "drop_columns = ['incident_report_number', 'ucr_code', 'family_violence',\n",
    "        'council_district', 'sector',\n",
    "       'district', 'pra', 'census_tract', 'x_coordinate', 'y_coordinate',\n",
    "        'ucr_category', 'category_description']"
   ]
  },
  {
   "cell_type": "code",
   "execution_count": 11,
   "id": "92dcb178",
   "metadata": {},
   "outputs": [],
   "source": [
    "df_27_new = df_27.drop(drop_columns, axis=1)"
   ]
  },
  {
   "cell_type": "code",
   "execution_count": 12,
   "id": "b28f17fa",
   "metadata": {},
   "outputs": [
    {
     "data": {
      "text/plain": [
       "(2000000, 15)"
      ]
     },
     "execution_count": 12,
     "metadata": {},
     "output_type": "execute_result"
    }
   ],
   "source": [
    "df_27_new.shape"
   ]
  },
  {
   "cell_type": "code",
   "execution_count": 13,
   "id": "891f9215",
   "metadata": {},
   "outputs": [
    {
     "data": {
      "text/plain": [
       "crime_type          object\n",
       "occ_date_time       object\n",
       "occ_date            object\n",
       "occ_time            object\n",
       "rep_date_time       object\n",
       "rep_date            object\n",
       "rep_time            object\n",
       "location_type       object\n",
       "address             object\n",
       "zip_code            object\n",
       "latitude            object\n",
       "longitude           object\n",
       "location            object\n",
       "clearance_status    object\n",
       "clearance_date      object\n",
       "dtype: object"
      ]
     },
     "execution_count": 13,
     "metadata": {},
     "output_type": "execute_result"
    }
   ],
   "source": [
    "df_27_new.dtypes"
   ]
  },
  {
   "cell_type": "code",
   "execution_count": 14,
   "id": "7f92ddd4",
   "metadata": {},
   "outputs": [],
   "source": [
    "# need to convert datetime columns from object data type to date types\n",
    "df_27_new['occured_date'] = pd.to_datetime(df_27_new['occ_date_time'],format='%Y-%m-%d')"
   ]
  },
  {
   "cell_type": "code",
   "execution_count": 15,
   "id": "797d5b16",
   "metadata": {},
   "outputs": [],
   "source": [
    "df_27_new.rename(columns = {'occured_date':'occurred_date'}, inplace = True)"
   ]
  },
  {
   "cell_type": "code",
   "execution_count": 16,
   "id": "c92288c6",
   "metadata": {},
   "outputs": [
    {
     "data": {
      "text/plain": [
       "Index(['crime_type', 'occ_date_time', 'occ_date', 'occ_time', 'rep_date_time',\n",
       "       'rep_date', 'rep_time', 'location_type', 'address', 'zip_code',\n",
       "       'latitude', 'longitude', 'location', 'clearance_status',\n",
       "       'clearance_date', 'occurred_date'],\n",
       "      dtype='object')"
      ]
     },
     "execution_count": 16,
     "metadata": {},
     "output_type": "execute_result"
    }
   ],
   "source": [
    "df_27_new.columns"
   ]
  },
  {
   "cell_type": "code",
   "execution_count": 17,
   "id": "ce1b23ba",
   "metadata": {},
   "outputs": [],
   "source": [
    "df_27_new['reported_date'] = pd.to_datetime(df_27_new['rep_date_time'],format='%Y-%m-%d')"
   ]
  },
  {
   "cell_type": "code",
   "execution_count": 20,
   "id": "dd83a1fd",
   "metadata": {},
   "outputs": [
    {
     "data": {
      "text/plain": [
       "Index(['crime_type', 'occ_date_time', 'occ_date', 'occ_time', 'rep_date_time',\n",
       "       'rep_date', 'rep_time', 'location_type', 'address', 'zip_code',\n",
       "       'latitude', 'longitude', 'location', 'clearance_status',\n",
       "       'clearance_date', 'occurred_date', 'reported_date'],\n",
       "      dtype='object')"
      ]
     },
     "execution_count": 20,
     "metadata": {},
     "output_type": "execute_result"
    }
   ],
   "source": [
    "df_27_new.columns"
   ]
  },
  {
   "cell_type": "code",
   "execution_count": 21,
   "id": "595bf355",
   "metadata": {},
   "outputs": [
    {
     "data": {
      "text/html": [
       "<div>\n",
       "<style scoped>\n",
       "    .dataframe tbody tr th:only-of-type {\n",
       "        vertical-align: middle;\n",
       "    }\n",
       "\n",
       "    .dataframe tbody tr th {\n",
       "        vertical-align: top;\n",
       "    }\n",
       "\n",
       "    .dataframe thead th {\n",
       "        text-align: right;\n",
       "    }\n",
       "</style>\n",
       "<table border=\"1\" class=\"dataframe\">\n",
       "  <thead>\n",
       "    <tr style=\"text-align: right;\">\n",
       "      <th></th>\n",
       "      <th>crime_type</th>\n",
       "      <th>occ_date_time</th>\n",
       "      <th>occ_date</th>\n",
       "      <th>occ_time</th>\n",
       "      <th>rep_date_time</th>\n",
       "      <th>rep_date</th>\n",
       "      <th>rep_time</th>\n",
       "      <th>location_type</th>\n",
       "      <th>address</th>\n",
       "      <th>zip_code</th>\n",
       "      <th>latitude</th>\n",
       "      <th>longitude</th>\n",
       "      <th>location</th>\n",
       "      <th>clearance_status</th>\n",
       "      <th>clearance_date</th>\n",
       "      <th>occurred_date</th>\n",
       "      <th>reported_date</th>\n",
       "    </tr>\n",
       "  </thead>\n",
       "  <tbody>\n",
       "    <tr>\n",
       "      <th>0</th>\n",
       "      <td>ASSAULT BY CONTACT FAM/DATING</td>\n",
       "      <td>2023-02-18T23:55:00.000</td>\n",
       "      <td>2023-02-18T00:00:00.000</td>\n",
       "      <td>2355</td>\n",
       "      <td>2023-02-18T23:55:00.000</td>\n",
       "      <td>2023-02-18T00:00:00.000</td>\n",
       "      <td>2355</td>\n",
       "      <td>RESIDENCE / HOME</td>\n",
       "      <td>107 W CROSLIN ST</td>\n",
       "      <td>78752</td>\n",
       "      <td>30.33748689</td>\n",
       "      <td>-97.70997634</td>\n",
       "      <td>{'latitude': '30.33748689', 'longitude': '-97....</td>\n",
       "      <td>NaN</td>\n",
       "      <td>NaN</td>\n",
       "      <td>2023-02-18 23:55:00</td>\n",
       "      <td>2023-02-18 23:55:00</td>\n",
       "    </tr>\n",
       "    <tr>\n",
       "      <th>1</th>\n",
       "      <td>POSS CONTROLLED SUB/NARCOTIC</td>\n",
       "      <td>2023-02-18T23:27:00.000</td>\n",
       "      <td>2023-02-18T00:00:00.000</td>\n",
       "      <td>2327</td>\n",
       "      <td>2023-02-18T23:27:00.000</td>\n",
       "      <td>2023-02-18T00:00:00.000</td>\n",
       "      <td>2327</td>\n",
       "      <td>HWY / ROAD / ALLEY/ STREET/ SIDEWALK</td>\n",
       "      <td>5100 DUVAL ST</td>\n",
       "      <td>78751</td>\n",
       "      <td>30.3142963</td>\n",
       "      <td>-97.71996482</td>\n",
       "      <td>{'latitude': '30.3142963', 'longitude': '-97.7...</td>\n",
       "      <td>C</td>\n",
       "      <td>2023-02-19T00:00:00.000</td>\n",
       "      <td>2023-02-18 23:27:00</td>\n",
       "      <td>2023-02-18 23:27:00</td>\n",
       "    </tr>\n",
       "    <tr>\n",
       "      <th>2</th>\n",
       "      <td>THEFT</td>\n",
       "      <td>2023-02-18T23:24:00.000</td>\n",
       "      <td>2023-02-18T00:00:00.000</td>\n",
       "      <td>2324</td>\n",
       "      <td>2023-02-18T23:24:00.000</td>\n",
       "      <td>2023-02-18T00:00:00.000</td>\n",
       "      <td>2324</td>\n",
       "      <td>RESIDENCE / HOME</td>\n",
       "      <td>4611 N IH 35 SVRD NB</td>\n",
       "      <td>78722</td>\n",
       "      <td>30.30467246</td>\n",
       "      <td>-97.71280824</td>\n",
       "      <td>{'latitude': '30.30467246', 'longitude': '-97....</td>\n",
       "      <td>NaN</td>\n",
       "      <td>NaN</td>\n",
       "      <td>2023-02-18 23:24:00</td>\n",
       "      <td>2023-02-18 23:24:00</td>\n",
       "    </tr>\n",
       "    <tr>\n",
       "      <th>3</th>\n",
       "      <td>TERRORISTIC THREAT</td>\n",
       "      <td>2023-02-18T23:04:00.000</td>\n",
       "      <td>2023-02-18T00:00:00.000</td>\n",
       "      <td>2304</td>\n",
       "      <td>2023-02-18T23:04:00.000</td>\n",
       "      <td>2023-02-18T00:00:00.000</td>\n",
       "      <td>2304</td>\n",
       "      <td>PARKING /DROP LOT/ GARAGE</td>\n",
       "      <td>7622 N IH 35 SVRD SB</td>\n",
       "      <td>78752</td>\n",
       "      <td>30.33890768</td>\n",
       "      <td>-97.70200101</td>\n",
       "      <td>{'latitude': '30.33890768', 'longitude': '-97....</td>\n",
       "      <td>NaN</td>\n",
       "      <td>NaN</td>\n",
       "      <td>2023-02-18 23:04:00</td>\n",
       "      <td>2023-02-18 23:04:00</td>\n",
       "    </tr>\n",
       "    <tr>\n",
       "      <th>4</th>\n",
       "      <td>DOC DISCHARGE GUN - PUB PLACE</td>\n",
       "      <td>2023-02-18T23:03:00.000</td>\n",
       "      <td>2023-02-18T00:00:00.000</td>\n",
       "      <td>2303</td>\n",
       "      <td>2023-02-18T23:48:00.000</td>\n",
       "      <td>2023-02-18T00:00:00.000</td>\n",
       "      <td>2348</td>\n",
       "      <td>RESIDENCE / HOME</td>\n",
       "      <td>6118 FAIRWAY ST</td>\n",
       "      <td>78741</td>\n",
       "      <td>30.2290038</td>\n",
       "      <td>-97.70310131</td>\n",
       "      <td>{'latitude': '30.2290038', 'longitude': '-97.7...</td>\n",
       "      <td>NaN</td>\n",
       "      <td>NaN</td>\n",
       "      <td>2023-02-18 23:03:00</td>\n",
       "      <td>2023-02-18 23:48:00</td>\n",
       "    </tr>\n",
       "  </tbody>\n",
       "</table>\n",
       "</div>"
      ],
      "text/plain": [
       "                      crime_type            occ_date_time  \\\n",
       "0  ASSAULT BY CONTACT FAM/DATING  2023-02-18T23:55:00.000   \n",
       "1   POSS CONTROLLED SUB/NARCOTIC  2023-02-18T23:27:00.000   \n",
       "2                          THEFT  2023-02-18T23:24:00.000   \n",
       "3             TERRORISTIC THREAT  2023-02-18T23:04:00.000   \n",
       "4  DOC DISCHARGE GUN - PUB PLACE  2023-02-18T23:03:00.000   \n",
       "\n",
       "                  occ_date occ_time            rep_date_time  \\\n",
       "0  2023-02-18T00:00:00.000     2355  2023-02-18T23:55:00.000   \n",
       "1  2023-02-18T00:00:00.000     2327  2023-02-18T23:27:00.000   \n",
       "2  2023-02-18T00:00:00.000     2324  2023-02-18T23:24:00.000   \n",
       "3  2023-02-18T00:00:00.000     2304  2023-02-18T23:04:00.000   \n",
       "4  2023-02-18T00:00:00.000     2303  2023-02-18T23:48:00.000   \n",
       "\n",
       "                  rep_date rep_time                         location_type  \\\n",
       "0  2023-02-18T00:00:00.000     2355                      RESIDENCE / HOME   \n",
       "1  2023-02-18T00:00:00.000     2327  HWY / ROAD / ALLEY/ STREET/ SIDEWALK   \n",
       "2  2023-02-18T00:00:00.000     2324                      RESIDENCE / HOME   \n",
       "3  2023-02-18T00:00:00.000     2304             PARKING /DROP LOT/ GARAGE   \n",
       "4  2023-02-18T00:00:00.000     2348                      RESIDENCE / HOME   \n",
       "\n",
       "                address zip_code     latitude     longitude  \\\n",
       "0      107 W CROSLIN ST    78752  30.33748689  -97.70997634   \n",
       "1         5100 DUVAL ST    78751   30.3142963  -97.71996482   \n",
       "2  4611 N IH 35 SVRD NB    78722  30.30467246  -97.71280824   \n",
       "3  7622 N IH 35 SVRD SB    78752  30.33890768  -97.70200101   \n",
       "4       6118 FAIRWAY ST    78741   30.2290038  -97.70310131   \n",
       "\n",
       "                                            location clearance_status  \\\n",
       "0  {'latitude': '30.33748689', 'longitude': '-97....              NaN   \n",
       "1  {'latitude': '30.3142963', 'longitude': '-97.7...                C   \n",
       "2  {'latitude': '30.30467246', 'longitude': '-97....              NaN   \n",
       "3  {'latitude': '30.33890768', 'longitude': '-97....              NaN   \n",
       "4  {'latitude': '30.2290038', 'longitude': '-97.7...              NaN   \n",
       "\n",
       "            clearance_date       occurred_date       reported_date  \n",
       "0                      NaN 2023-02-18 23:55:00 2023-02-18 23:55:00  \n",
       "1  2023-02-19T00:00:00.000 2023-02-18 23:27:00 2023-02-18 23:27:00  \n",
       "2                      NaN 2023-02-18 23:24:00 2023-02-18 23:24:00  \n",
       "3                      NaN 2023-02-18 23:04:00 2023-02-18 23:04:00  \n",
       "4                      NaN 2023-02-18 23:03:00 2023-02-18 23:48:00  "
      ]
     },
     "execution_count": 21,
     "metadata": {},
     "output_type": "execute_result"
    }
   ],
   "source": [
    "df_27_new.head()"
   ]
  },
  {
   "cell_type": "code",
   "execution_count": 22,
   "id": "44f92ec6",
   "metadata": {},
   "outputs": [],
   "source": [
    "drop_columns = ['occ_date_time', 'occ_date', 'occ_time', 'rep_date_time', 'rep_date','rep_time']\n",
    "df_27_new = df_27_new.drop(drop_columns, axis=1)"
   ]
  },
  {
   "cell_type": "code",
   "execution_count": 23,
   "id": "4a07bcfd",
   "metadata": {},
   "outputs": [
    {
     "data": {
      "text/html": [
       "<div>\n",
       "<style scoped>\n",
       "    .dataframe tbody tr th:only-of-type {\n",
       "        vertical-align: middle;\n",
       "    }\n",
       "\n",
       "    .dataframe tbody tr th {\n",
       "        vertical-align: top;\n",
       "    }\n",
       "\n",
       "    .dataframe thead th {\n",
       "        text-align: right;\n",
       "    }\n",
       "</style>\n",
       "<table border=\"1\" class=\"dataframe\">\n",
       "  <thead>\n",
       "    <tr style=\"text-align: right;\">\n",
       "      <th></th>\n",
       "      <th>crime_type</th>\n",
       "      <th>location_type</th>\n",
       "      <th>address</th>\n",
       "      <th>zip_code</th>\n",
       "      <th>latitude</th>\n",
       "      <th>longitude</th>\n",
       "      <th>location</th>\n",
       "      <th>clearance_status</th>\n",
       "      <th>clearance_date</th>\n",
       "      <th>occurred_date</th>\n",
       "      <th>reported_date</th>\n",
       "    </tr>\n",
       "  </thead>\n",
       "  <tbody>\n",
       "    <tr>\n",
       "      <th>0</th>\n",
       "      <td>ASSAULT BY CONTACT FAM/DATING</td>\n",
       "      <td>RESIDENCE / HOME</td>\n",
       "      <td>107 W CROSLIN ST</td>\n",
       "      <td>78752</td>\n",
       "      <td>30.33748689</td>\n",
       "      <td>-97.70997634</td>\n",
       "      <td>{'latitude': '30.33748689', 'longitude': '-97....</td>\n",
       "      <td>NaN</td>\n",
       "      <td>NaN</td>\n",
       "      <td>2023-02-18 23:55:00</td>\n",
       "      <td>2023-02-18 23:55:00</td>\n",
       "    </tr>\n",
       "    <tr>\n",
       "      <th>1</th>\n",
       "      <td>POSS CONTROLLED SUB/NARCOTIC</td>\n",
       "      <td>HWY / ROAD / ALLEY/ STREET/ SIDEWALK</td>\n",
       "      <td>5100 DUVAL ST</td>\n",
       "      <td>78751</td>\n",
       "      <td>30.3142963</td>\n",
       "      <td>-97.71996482</td>\n",
       "      <td>{'latitude': '30.3142963', 'longitude': '-97.7...</td>\n",
       "      <td>C</td>\n",
       "      <td>2023-02-19T00:00:00.000</td>\n",
       "      <td>2023-02-18 23:27:00</td>\n",
       "      <td>2023-02-18 23:27:00</td>\n",
       "    </tr>\n",
       "    <tr>\n",
       "      <th>2</th>\n",
       "      <td>THEFT</td>\n",
       "      <td>RESIDENCE / HOME</td>\n",
       "      <td>4611 N IH 35 SVRD NB</td>\n",
       "      <td>78722</td>\n",
       "      <td>30.30467246</td>\n",
       "      <td>-97.71280824</td>\n",
       "      <td>{'latitude': '30.30467246', 'longitude': '-97....</td>\n",
       "      <td>NaN</td>\n",
       "      <td>NaN</td>\n",
       "      <td>2023-02-18 23:24:00</td>\n",
       "      <td>2023-02-18 23:24:00</td>\n",
       "    </tr>\n",
       "    <tr>\n",
       "      <th>3</th>\n",
       "      <td>TERRORISTIC THREAT</td>\n",
       "      <td>PARKING /DROP LOT/ GARAGE</td>\n",
       "      <td>7622 N IH 35 SVRD SB</td>\n",
       "      <td>78752</td>\n",
       "      <td>30.33890768</td>\n",
       "      <td>-97.70200101</td>\n",
       "      <td>{'latitude': '30.33890768', 'longitude': '-97....</td>\n",
       "      <td>NaN</td>\n",
       "      <td>NaN</td>\n",
       "      <td>2023-02-18 23:04:00</td>\n",
       "      <td>2023-02-18 23:04:00</td>\n",
       "    </tr>\n",
       "    <tr>\n",
       "      <th>4</th>\n",
       "      <td>DOC DISCHARGE GUN - PUB PLACE</td>\n",
       "      <td>RESIDENCE / HOME</td>\n",
       "      <td>6118 FAIRWAY ST</td>\n",
       "      <td>78741</td>\n",
       "      <td>30.2290038</td>\n",
       "      <td>-97.70310131</td>\n",
       "      <td>{'latitude': '30.2290038', 'longitude': '-97.7...</td>\n",
       "      <td>NaN</td>\n",
       "      <td>NaN</td>\n",
       "      <td>2023-02-18 23:03:00</td>\n",
       "      <td>2023-02-18 23:48:00</td>\n",
       "    </tr>\n",
       "  </tbody>\n",
       "</table>\n",
       "</div>"
      ],
      "text/plain": [
       "                      crime_type                         location_type  \\\n",
       "0  ASSAULT BY CONTACT FAM/DATING                      RESIDENCE / HOME   \n",
       "1   POSS CONTROLLED SUB/NARCOTIC  HWY / ROAD / ALLEY/ STREET/ SIDEWALK   \n",
       "2                          THEFT                      RESIDENCE / HOME   \n",
       "3             TERRORISTIC THREAT             PARKING /DROP LOT/ GARAGE   \n",
       "4  DOC DISCHARGE GUN - PUB PLACE                      RESIDENCE / HOME   \n",
       "\n",
       "                address zip_code     latitude     longitude  \\\n",
       "0      107 W CROSLIN ST    78752  30.33748689  -97.70997634   \n",
       "1         5100 DUVAL ST    78751   30.3142963  -97.71996482   \n",
       "2  4611 N IH 35 SVRD NB    78722  30.30467246  -97.71280824   \n",
       "3  7622 N IH 35 SVRD SB    78752  30.33890768  -97.70200101   \n",
       "4       6118 FAIRWAY ST    78741   30.2290038  -97.70310131   \n",
       "\n",
       "                                            location clearance_status  \\\n",
       "0  {'latitude': '30.33748689', 'longitude': '-97....              NaN   \n",
       "1  {'latitude': '30.3142963', 'longitude': '-97.7...                C   \n",
       "2  {'latitude': '30.30467246', 'longitude': '-97....              NaN   \n",
       "3  {'latitude': '30.33890768', 'longitude': '-97....              NaN   \n",
       "4  {'latitude': '30.2290038', 'longitude': '-97.7...              NaN   \n",
       "\n",
       "            clearance_date       occurred_date       reported_date  \n",
       "0                      NaN 2023-02-18 23:55:00 2023-02-18 23:55:00  \n",
       "1  2023-02-19T00:00:00.000 2023-02-18 23:27:00 2023-02-18 23:27:00  \n",
       "2                      NaN 2023-02-18 23:24:00 2023-02-18 23:24:00  \n",
       "3                      NaN 2023-02-18 23:04:00 2023-02-18 23:04:00  \n",
       "4                      NaN 2023-02-18 23:03:00 2023-02-18 23:48:00  "
      ]
     },
     "execution_count": 23,
     "metadata": {},
     "output_type": "execute_result"
    }
   ],
   "source": [
    "df_27_new.head()"
   ]
  },
  {
   "cell_type": "code",
   "execution_count": 24,
   "id": "e6160dbf",
   "metadata": {},
   "outputs": [
    {
     "data": {
      "text/plain": [
       "Index(['crime_type', 'location_type', 'address', 'zip_code', 'latitude',\n",
       "       'longitude', 'location', 'clearance_status', 'clearance_date',\n",
       "       'occurred_date', 'reported_date'],\n",
       "      dtype='object')"
      ]
     },
     "execution_count": 24,
     "metadata": {},
     "output_type": "execute_result"
    }
   ],
   "source": [
    "df_27_new.columns"
   ]
  },
  {
   "cell_type": "code",
   "execution_count": 25,
   "id": "75b4eb08",
   "metadata": {},
   "outputs": [
    {
     "data": {
      "text/plain": [
       "(2000000, 11)"
      ]
     },
     "execution_count": 25,
     "metadata": {},
     "output_type": "execute_result"
    }
   ],
   "source": [
    "df_27_new.shape"
   ]
  },
  {
   "cell_type": "code",
   "execution_count": 26,
   "id": "811023a4",
   "metadata": {},
   "outputs": [],
   "source": [
    "df_11 = df_27_new"
   ]
  },
  {
   "cell_type": "code",
   "execution_count": 27,
   "id": "2371e562",
   "metadata": {},
   "outputs": [
    {
     "data": {
      "text/plain": [
       "(2000000, 11)"
      ]
     },
     "execution_count": 27,
     "metadata": {},
     "output_type": "execute_result"
    }
   ],
   "source": [
    "df_11.shape"
   ]
  },
  {
   "cell_type": "markdown",
   "id": "2b6d7fa0",
   "metadata": {},
   "source": [
    "### Date Column Manipulations<a id='date_manipulations'>"
   ]
  },
  {
   "cell_type": "code",
   "execution_count": 30,
   "id": "d91549b8",
   "metadata": {},
   "outputs": [],
   "source": [
    "df_11['month'] = df_11['occurred_date'].apply(lambda x: x.strftime('%B')) "
   ]
  },
  {
   "cell_type": "code",
   "execution_count": 31,
   "id": "1b96d61e",
   "metadata": {},
   "outputs": [
    {
     "data": {
      "text/html": [
       "<div>\n",
       "<style scoped>\n",
       "    .dataframe tbody tr th:only-of-type {\n",
       "        vertical-align: middle;\n",
       "    }\n",
       "\n",
       "    .dataframe tbody tr th {\n",
       "        vertical-align: top;\n",
       "    }\n",
       "\n",
       "    .dataframe thead th {\n",
       "        text-align: right;\n",
       "    }\n",
       "</style>\n",
       "<table border=\"1\" class=\"dataframe\">\n",
       "  <thead>\n",
       "    <tr style=\"text-align: right;\">\n",
       "      <th></th>\n",
       "      <th>crime_type</th>\n",
       "      <th>location_type</th>\n",
       "      <th>address</th>\n",
       "      <th>zip_code</th>\n",
       "      <th>latitude</th>\n",
       "      <th>longitude</th>\n",
       "      <th>location</th>\n",
       "      <th>clearance_status</th>\n",
       "      <th>clearance_date</th>\n",
       "      <th>occurred_date</th>\n",
       "      <th>reported_date</th>\n",
       "      <th>month</th>\n",
       "    </tr>\n",
       "  </thead>\n",
       "  <tbody>\n",
       "    <tr>\n",
       "      <th>0</th>\n",
       "      <td>ASSAULT BY CONTACT FAM/DATING</td>\n",
       "      <td>RESIDENCE / HOME</td>\n",
       "      <td>107 W CROSLIN ST</td>\n",
       "      <td>78752</td>\n",
       "      <td>30.33748689</td>\n",
       "      <td>-97.70997634</td>\n",
       "      <td>{'latitude': '30.33748689', 'longitude': '-97....</td>\n",
       "      <td>NaN</td>\n",
       "      <td>NaN</td>\n",
       "      <td>2023-02-18 23:55:00</td>\n",
       "      <td>2023-02-18 23:55:00</td>\n",
       "      <td>February</td>\n",
       "    </tr>\n",
       "    <tr>\n",
       "      <th>1</th>\n",
       "      <td>POSS CONTROLLED SUB/NARCOTIC</td>\n",
       "      <td>HWY / ROAD / ALLEY/ STREET/ SIDEWALK</td>\n",
       "      <td>5100 DUVAL ST</td>\n",
       "      <td>78751</td>\n",
       "      <td>30.3142963</td>\n",
       "      <td>-97.71996482</td>\n",
       "      <td>{'latitude': '30.3142963', 'longitude': '-97.7...</td>\n",
       "      <td>C</td>\n",
       "      <td>2023-02-19T00:00:00.000</td>\n",
       "      <td>2023-02-18 23:27:00</td>\n",
       "      <td>2023-02-18 23:27:00</td>\n",
       "      <td>February</td>\n",
       "    </tr>\n",
       "    <tr>\n",
       "      <th>2</th>\n",
       "      <td>THEFT</td>\n",
       "      <td>RESIDENCE / HOME</td>\n",
       "      <td>4611 N IH 35 SVRD NB</td>\n",
       "      <td>78722</td>\n",
       "      <td>30.30467246</td>\n",
       "      <td>-97.71280824</td>\n",
       "      <td>{'latitude': '30.30467246', 'longitude': '-97....</td>\n",
       "      <td>NaN</td>\n",
       "      <td>NaN</td>\n",
       "      <td>2023-02-18 23:24:00</td>\n",
       "      <td>2023-02-18 23:24:00</td>\n",
       "      <td>February</td>\n",
       "    </tr>\n",
       "  </tbody>\n",
       "</table>\n",
       "</div>"
      ],
      "text/plain": [
       "                      crime_type                         location_type  \\\n",
       "0  ASSAULT BY CONTACT FAM/DATING                      RESIDENCE / HOME   \n",
       "1   POSS CONTROLLED SUB/NARCOTIC  HWY / ROAD / ALLEY/ STREET/ SIDEWALK   \n",
       "2                          THEFT                      RESIDENCE / HOME   \n",
       "\n",
       "                address zip_code     latitude     longitude  \\\n",
       "0      107 W CROSLIN ST    78752  30.33748689  -97.70997634   \n",
       "1         5100 DUVAL ST    78751   30.3142963  -97.71996482   \n",
       "2  4611 N IH 35 SVRD NB    78722  30.30467246  -97.71280824   \n",
       "\n",
       "                                            location clearance_status  \\\n",
       "0  {'latitude': '30.33748689', 'longitude': '-97....              NaN   \n",
       "1  {'latitude': '30.3142963', 'longitude': '-97.7...                C   \n",
       "2  {'latitude': '30.30467246', 'longitude': '-97....              NaN   \n",
       "\n",
       "            clearance_date       occurred_date       reported_date     month  \n",
       "0                      NaN 2023-02-18 23:55:00 2023-02-18 23:55:00  February  \n",
       "1  2023-02-19T00:00:00.000 2023-02-18 23:27:00 2023-02-18 23:27:00  February  \n",
       "2                      NaN 2023-02-18 23:24:00 2023-02-18 23:24:00  February  "
      ]
     },
     "execution_count": 31,
     "metadata": {},
     "output_type": "execute_result"
    }
   ],
   "source": [
    "df_11.head(3)"
   ]
  },
  {
   "cell_type": "code",
   "execution_count": 32,
   "id": "0cfead58",
   "metadata": {},
   "outputs": [],
   "source": [
    "df_11['year'] = df_11['occurred_date'].apply(lambda x: x.strftime('%Y')) "
   ]
  },
  {
   "cell_type": "code",
   "execution_count": 33,
   "id": "e7579935",
   "metadata": {},
   "outputs": [
    {
     "data": {
      "text/html": [
       "<div>\n",
       "<style scoped>\n",
       "    .dataframe tbody tr th:only-of-type {\n",
       "        vertical-align: middle;\n",
       "    }\n",
       "\n",
       "    .dataframe tbody tr th {\n",
       "        vertical-align: top;\n",
       "    }\n",
       "\n",
       "    .dataframe thead th {\n",
       "        text-align: right;\n",
       "    }\n",
       "</style>\n",
       "<table border=\"1\" class=\"dataframe\">\n",
       "  <thead>\n",
       "    <tr style=\"text-align: right;\">\n",
       "      <th></th>\n",
       "      <th>crime_type</th>\n",
       "      <th>location_type</th>\n",
       "      <th>address</th>\n",
       "      <th>zip_code</th>\n",
       "      <th>latitude</th>\n",
       "      <th>longitude</th>\n",
       "      <th>location</th>\n",
       "      <th>clearance_status</th>\n",
       "      <th>clearance_date</th>\n",
       "      <th>occurred_date</th>\n",
       "      <th>reported_date</th>\n",
       "      <th>month</th>\n",
       "      <th>year</th>\n",
       "    </tr>\n",
       "  </thead>\n",
       "  <tbody>\n",
       "    <tr>\n",
       "      <th>0</th>\n",
       "      <td>ASSAULT BY CONTACT FAM/DATING</td>\n",
       "      <td>RESIDENCE / HOME</td>\n",
       "      <td>107 W CROSLIN ST</td>\n",
       "      <td>78752</td>\n",
       "      <td>30.33748689</td>\n",
       "      <td>-97.70997634</td>\n",
       "      <td>{'latitude': '30.33748689', 'longitude': '-97....</td>\n",
       "      <td>NaN</td>\n",
       "      <td>NaN</td>\n",
       "      <td>2023-02-18 23:55:00</td>\n",
       "      <td>2023-02-18 23:55:00</td>\n",
       "      <td>February</td>\n",
       "      <td>2023</td>\n",
       "    </tr>\n",
       "    <tr>\n",
       "      <th>1</th>\n",
       "      <td>POSS CONTROLLED SUB/NARCOTIC</td>\n",
       "      <td>HWY / ROAD / ALLEY/ STREET/ SIDEWALK</td>\n",
       "      <td>5100 DUVAL ST</td>\n",
       "      <td>78751</td>\n",
       "      <td>30.3142963</td>\n",
       "      <td>-97.71996482</td>\n",
       "      <td>{'latitude': '30.3142963', 'longitude': '-97.7...</td>\n",
       "      <td>C</td>\n",
       "      <td>2023-02-19T00:00:00.000</td>\n",
       "      <td>2023-02-18 23:27:00</td>\n",
       "      <td>2023-02-18 23:27:00</td>\n",
       "      <td>February</td>\n",
       "      <td>2023</td>\n",
       "    </tr>\n",
       "    <tr>\n",
       "      <th>2</th>\n",
       "      <td>THEFT</td>\n",
       "      <td>RESIDENCE / HOME</td>\n",
       "      <td>4611 N IH 35 SVRD NB</td>\n",
       "      <td>78722</td>\n",
       "      <td>30.30467246</td>\n",
       "      <td>-97.71280824</td>\n",
       "      <td>{'latitude': '30.30467246', 'longitude': '-97....</td>\n",
       "      <td>NaN</td>\n",
       "      <td>NaN</td>\n",
       "      <td>2023-02-18 23:24:00</td>\n",
       "      <td>2023-02-18 23:24:00</td>\n",
       "      <td>February</td>\n",
       "      <td>2023</td>\n",
       "    </tr>\n",
       "  </tbody>\n",
       "</table>\n",
       "</div>"
      ],
      "text/plain": [
       "                      crime_type                         location_type  \\\n",
       "0  ASSAULT BY CONTACT FAM/DATING                      RESIDENCE / HOME   \n",
       "1   POSS CONTROLLED SUB/NARCOTIC  HWY / ROAD / ALLEY/ STREET/ SIDEWALK   \n",
       "2                          THEFT                      RESIDENCE / HOME   \n",
       "\n",
       "                address zip_code     latitude     longitude  \\\n",
       "0      107 W CROSLIN ST    78752  30.33748689  -97.70997634   \n",
       "1         5100 DUVAL ST    78751   30.3142963  -97.71996482   \n",
       "2  4611 N IH 35 SVRD NB    78722  30.30467246  -97.71280824   \n",
       "\n",
       "                                            location clearance_status  \\\n",
       "0  {'latitude': '30.33748689', 'longitude': '-97....              NaN   \n",
       "1  {'latitude': '30.3142963', 'longitude': '-97.7...                C   \n",
       "2  {'latitude': '30.30467246', 'longitude': '-97....              NaN   \n",
       "\n",
       "            clearance_date       occurred_date       reported_date     month  \\\n",
       "0                      NaN 2023-02-18 23:55:00 2023-02-18 23:55:00  February   \n",
       "1  2023-02-19T00:00:00.000 2023-02-18 23:27:00 2023-02-18 23:27:00  February   \n",
       "2                      NaN 2023-02-18 23:24:00 2023-02-18 23:24:00  February   \n",
       "\n",
       "   year  \n",
       "0  2023  \n",
       "1  2023  \n",
       "2  2023  "
      ]
     },
     "execution_count": 33,
     "metadata": {},
     "output_type": "execute_result"
    }
   ],
   "source": [
    "df_11.head(3)"
   ]
  },
  {
   "cell_type": "code",
   "execution_count": 34,
   "id": "e75bfa70",
   "metadata": {},
   "outputs": [
    {
     "data": {
      "text/plain": [
       "array(['2023', '2022', '2021', '2020', '2019', '2018', '2017', '2016',\n",
       "       '2015', '2014', '2013', '2012', '2011', '2010', '2009', '2008',\n",
       "       '2007', '2006', '2005'], dtype=object)"
      ]
     },
     "execution_count": 34,
     "metadata": {},
     "output_type": "execute_result"
    }
   ],
   "source": [
    "df_11.year.unique()"
   ]
  },
  {
   "cell_type": "code",
   "execution_count": 35,
   "id": "600cbb80",
   "metadata": {},
   "outputs": [],
   "source": [
    "df_11['hour'] = df_11['occurred_date'].dt.hour"
   ]
  },
  {
   "cell_type": "code",
   "execution_count": 36,
   "id": "c1c1ba68",
   "metadata": {},
   "outputs": [
    {
     "data": {
      "text/html": [
       "<div>\n",
       "<style scoped>\n",
       "    .dataframe tbody tr th:only-of-type {\n",
       "        vertical-align: middle;\n",
       "    }\n",
       "\n",
       "    .dataframe tbody tr th {\n",
       "        vertical-align: top;\n",
       "    }\n",
       "\n",
       "    .dataframe thead th {\n",
       "        text-align: right;\n",
       "    }\n",
       "</style>\n",
       "<table border=\"1\" class=\"dataframe\">\n",
       "  <thead>\n",
       "    <tr style=\"text-align: right;\">\n",
       "      <th></th>\n",
       "      <th>crime_type</th>\n",
       "      <th>location_type</th>\n",
       "      <th>address</th>\n",
       "      <th>zip_code</th>\n",
       "      <th>latitude</th>\n",
       "      <th>longitude</th>\n",
       "      <th>location</th>\n",
       "      <th>clearance_status</th>\n",
       "      <th>clearance_date</th>\n",
       "      <th>occurred_date</th>\n",
       "      <th>reported_date</th>\n",
       "      <th>month</th>\n",
       "      <th>year</th>\n",
       "      <th>hour</th>\n",
       "    </tr>\n",
       "  </thead>\n",
       "  <tbody>\n",
       "    <tr>\n",
       "      <th>0</th>\n",
       "      <td>ASSAULT BY CONTACT FAM/DATING</td>\n",
       "      <td>RESIDENCE / HOME</td>\n",
       "      <td>107 W CROSLIN ST</td>\n",
       "      <td>78752</td>\n",
       "      <td>30.33748689</td>\n",
       "      <td>-97.70997634</td>\n",
       "      <td>{'latitude': '30.33748689', 'longitude': '-97....</td>\n",
       "      <td>NaN</td>\n",
       "      <td>NaN</td>\n",
       "      <td>2023-02-18 23:55:00</td>\n",
       "      <td>2023-02-18 23:55:00</td>\n",
       "      <td>February</td>\n",
       "      <td>2023</td>\n",
       "      <td>23</td>\n",
       "    </tr>\n",
       "    <tr>\n",
       "      <th>1</th>\n",
       "      <td>POSS CONTROLLED SUB/NARCOTIC</td>\n",
       "      <td>HWY / ROAD / ALLEY/ STREET/ SIDEWALK</td>\n",
       "      <td>5100 DUVAL ST</td>\n",
       "      <td>78751</td>\n",
       "      <td>30.3142963</td>\n",
       "      <td>-97.71996482</td>\n",
       "      <td>{'latitude': '30.3142963', 'longitude': '-97.7...</td>\n",
       "      <td>C</td>\n",
       "      <td>2023-02-19T00:00:00.000</td>\n",
       "      <td>2023-02-18 23:27:00</td>\n",
       "      <td>2023-02-18 23:27:00</td>\n",
       "      <td>February</td>\n",
       "      <td>2023</td>\n",
       "      <td>23</td>\n",
       "    </tr>\n",
       "    <tr>\n",
       "      <th>2</th>\n",
       "      <td>THEFT</td>\n",
       "      <td>RESIDENCE / HOME</td>\n",
       "      <td>4611 N IH 35 SVRD NB</td>\n",
       "      <td>78722</td>\n",
       "      <td>30.30467246</td>\n",
       "      <td>-97.71280824</td>\n",
       "      <td>{'latitude': '30.30467246', 'longitude': '-97....</td>\n",
       "      <td>NaN</td>\n",
       "      <td>NaN</td>\n",
       "      <td>2023-02-18 23:24:00</td>\n",
       "      <td>2023-02-18 23:24:00</td>\n",
       "      <td>February</td>\n",
       "      <td>2023</td>\n",
       "      <td>23</td>\n",
       "    </tr>\n",
       "  </tbody>\n",
       "</table>\n",
       "</div>"
      ],
      "text/plain": [
       "                      crime_type                         location_type  \\\n",
       "0  ASSAULT BY CONTACT FAM/DATING                      RESIDENCE / HOME   \n",
       "1   POSS CONTROLLED SUB/NARCOTIC  HWY / ROAD / ALLEY/ STREET/ SIDEWALK   \n",
       "2                          THEFT                      RESIDENCE / HOME   \n",
       "\n",
       "                address zip_code     latitude     longitude  \\\n",
       "0      107 W CROSLIN ST    78752  30.33748689  -97.70997634   \n",
       "1         5100 DUVAL ST    78751   30.3142963  -97.71996482   \n",
       "2  4611 N IH 35 SVRD NB    78722  30.30467246  -97.71280824   \n",
       "\n",
       "                                            location clearance_status  \\\n",
       "0  {'latitude': '30.33748689', 'longitude': '-97....              NaN   \n",
       "1  {'latitude': '30.3142963', 'longitude': '-97.7...                C   \n",
       "2  {'latitude': '30.30467246', 'longitude': '-97....              NaN   \n",
       "\n",
       "            clearance_date       occurred_date       reported_date     month  \\\n",
       "0                      NaN 2023-02-18 23:55:00 2023-02-18 23:55:00  February   \n",
       "1  2023-02-19T00:00:00.000 2023-02-18 23:27:00 2023-02-18 23:27:00  February   \n",
       "2                      NaN 2023-02-18 23:24:00 2023-02-18 23:24:00  February   \n",
       "\n",
       "   year  hour  \n",
       "0  2023    23  \n",
       "1  2023    23  \n",
       "2  2023    23  "
      ]
     },
     "execution_count": 36,
     "metadata": {},
     "output_type": "execute_result"
    }
   ],
   "source": [
    "df_11.head(3)"
   ]
  },
  {
   "cell_type": "code",
   "execution_count": 37,
   "id": "ac1f63a6",
   "metadata": {},
   "outputs": [
    {
     "data": {
      "text/plain": [
       "(2000000, 14)"
      ]
     },
     "execution_count": 37,
     "metadata": {},
     "output_type": "execute_result"
    }
   ],
   "source": [
    "df_11.shape"
   ]
  },
  {
   "cell_type": "code",
   "execution_count": 38,
   "id": "e85058d7",
   "metadata": {},
   "outputs": [],
   "source": [
    "df_14= df_11"
   ]
  },
  {
   "cell_type": "code",
   "execution_count": 39,
   "id": "8e3bc409",
   "metadata": {},
   "outputs": [
    {
     "data": {
      "text/html": [
       "<div>\n",
       "<style scoped>\n",
       "    .dataframe tbody tr th:only-of-type {\n",
       "        vertical-align: middle;\n",
       "    }\n",
       "\n",
       "    .dataframe tbody tr th {\n",
       "        vertical-align: top;\n",
       "    }\n",
       "\n",
       "    .dataframe thead th {\n",
       "        text-align: right;\n",
       "    }\n",
       "</style>\n",
       "<table border=\"1\" class=\"dataframe\">\n",
       "  <thead>\n",
       "    <tr style=\"text-align: right;\">\n",
       "      <th></th>\n",
       "      <th>crime_type</th>\n",
       "      <th>location_type</th>\n",
       "      <th>address</th>\n",
       "      <th>zip_code</th>\n",
       "      <th>latitude</th>\n",
       "      <th>longitude</th>\n",
       "      <th>location</th>\n",
       "      <th>clearance_status</th>\n",
       "      <th>clearance_date</th>\n",
       "      <th>occurred_date</th>\n",
       "      <th>reported_date</th>\n",
       "      <th>month</th>\n",
       "      <th>year</th>\n",
       "      <th>hour</th>\n",
       "    </tr>\n",
       "  </thead>\n",
       "  <tbody>\n",
       "    <tr>\n",
       "      <th>0</th>\n",
       "      <td>ASSAULT BY CONTACT FAM/DATING</td>\n",
       "      <td>RESIDENCE / HOME</td>\n",
       "      <td>107 W CROSLIN ST</td>\n",
       "      <td>78752</td>\n",
       "      <td>30.33748689</td>\n",
       "      <td>-97.70997634</td>\n",
       "      <td>{'latitude': '30.33748689', 'longitude': '-97....</td>\n",
       "      <td>NaN</td>\n",
       "      <td>NaN</td>\n",
       "      <td>2023-02-18 23:55:00</td>\n",
       "      <td>2023-02-18 23:55:00</td>\n",
       "      <td>February</td>\n",
       "      <td>2023</td>\n",
       "      <td>23</td>\n",
       "    </tr>\n",
       "    <tr>\n",
       "      <th>1</th>\n",
       "      <td>POSS CONTROLLED SUB/NARCOTIC</td>\n",
       "      <td>HWY / ROAD / ALLEY/ STREET/ SIDEWALK</td>\n",
       "      <td>5100 DUVAL ST</td>\n",
       "      <td>78751</td>\n",
       "      <td>30.3142963</td>\n",
       "      <td>-97.71996482</td>\n",
       "      <td>{'latitude': '30.3142963', 'longitude': '-97.7...</td>\n",
       "      <td>C</td>\n",
       "      <td>2023-02-19T00:00:00.000</td>\n",
       "      <td>2023-02-18 23:27:00</td>\n",
       "      <td>2023-02-18 23:27:00</td>\n",
       "      <td>February</td>\n",
       "      <td>2023</td>\n",
       "      <td>23</td>\n",
       "    </tr>\n",
       "    <tr>\n",
       "      <th>2</th>\n",
       "      <td>THEFT</td>\n",
       "      <td>RESIDENCE / HOME</td>\n",
       "      <td>4611 N IH 35 SVRD NB</td>\n",
       "      <td>78722</td>\n",
       "      <td>30.30467246</td>\n",
       "      <td>-97.71280824</td>\n",
       "      <td>{'latitude': '30.30467246', 'longitude': '-97....</td>\n",
       "      <td>NaN</td>\n",
       "      <td>NaN</td>\n",
       "      <td>2023-02-18 23:24:00</td>\n",
       "      <td>2023-02-18 23:24:00</td>\n",
       "      <td>February</td>\n",
       "      <td>2023</td>\n",
       "      <td>23</td>\n",
       "    </tr>\n",
       "    <tr>\n",
       "      <th>3</th>\n",
       "      <td>TERRORISTIC THREAT</td>\n",
       "      <td>PARKING /DROP LOT/ GARAGE</td>\n",
       "      <td>7622 N IH 35 SVRD SB</td>\n",
       "      <td>78752</td>\n",
       "      <td>30.33890768</td>\n",
       "      <td>-97.70200101</td>\n",
       "      <td>{'latitude': '30.33890768', 'longitude': '-97....</td>\n",
       "      <td>NaN</td>\n",
       "      <td>NaN</td>\n",
       "      <td>2023-02-18 23:04:00</td>\n",
       "      <td>2023-02-18 23:04:00</td>\n",
       "      <td>February</td>\n",
       "      <td>2023</td>\n",
       "      <td>23</td>\n",
       "    </tr>\n",
       "    <tr>\n",
       "      <th>4</th>\n",
       "      <td>DOC DISCHARGE GUN - PUB PLACE</td>\n",
       "      <td>RESIDENCE / HOME</td>\n",
       "      <td>6118 FAIRWAY ST</td>\n",
       "      <td>78741</td>\n",
       "      <td>30.2290038</td>\n",
       "      <td>-97.70310131</td>\n",
       "      <td>{'latitude': '30.2290038', 'longitude': '-97.7...</td>\n",
       "      <td>NaN</td>\n",
       "      <td>NaN</td>\n",
       "      <td>2023-02-18 23:03:00</td>\n",
       "      <td>2023-02-18 23:48:00</td>\n",
       "      <td>February</td>\n",
       "      <td>2023</td>\n",
       "      <td>23</td>\n",
       "    </tr>\n",
       "  </tbody>\n",
       "</table>\n",
       "</div>"
      ],
      "text/plain": [
       "                      crime_type                         location_type  \\\n",
       "0  ASSAULT BY CONTACT FAM/DATING                      RESIDENCE / HOME   \n",
       "1   POSS CONTROLLED SUB/NARCOTIC  HWY / ROAD / ALLEY/ STREET/ SIDEWALK   \n",
       "2                          THEFT                      RESIDENCE / HOME   \n",
       "3             TERRORISTIC THREAT             PARKING /DROP LOT/ GARAGE   \n",
       "4  DOC DISCHARGE GUN - PUB PLACE                      RESIDENCE / HOME   \n",
       "\n",
       "                address zip_code     latitude     longitude  \\\n",
       "0      107 W CROSLIN ST    78752  30.33748689  -97.70997634   \n",
       "1         5100 DUVAL ST    78751   30.3142963  -97.71996482   \n",
       "2  4611 N IH 35 SVRD NB    78722  30.30467246  -97.71280824   \n",
       "3  7622 N IH 35 SVRD SB    78752  30.33890768  -97.70200101   \n",
       "4       6118 FAIRWAY ST    78741   30.2290038  -97.70310131   \n",
       "\n",
       "                                            location clearance_status  \\\n",
       "0  {'latitude': '30.33748689', 'longitude': '-97....              NaN   \n",
       "1  {'latitude': '30.3142963', 'longitude': '-97.7...                C   \n",
       "2  {'latitude': '30.30467246', 'longitude': '-97....              NaN   \n",
       "3  {'latitude': '30.33890768', 'longitude': '-97....              NaN   \n",
       "4  {'latitude': '30.2290038', 'longitude': '-97.7...              NaN   \n",
       "\n",
       "            clearance_date       occurred_date       reported_date     month  \\\n",
       "0                      NaN 2023-02-18 23:55:00 2023-02-18 23:55:00  February   \n",
       "1  2023-02-19T00:00:00.000 2023-02-18 23:27:00 2023-02-18 23:27:00  February   \n",
       "2                      NaN 2023-02-18 23:24:00 2023-02-18 23:24:00  February   \n",
       "3                      NaN 2023-02-18 23:04:00 2023-02-18 23:04:00  February   \n",
       "4                      NaN 2023-02-18 23:03:00 2023-02-18 23:48:00  February   \n",
       "\n",
       "   year  hour  \n",
       "0  2023    23  \n",
       "1  2023    23  \n",
       "2  2023    23  \n",
       "3  2023    23  \n",
       "4  2023    23  "
      ]
     },
     "execution_count": 39,
     "metadata": {},
     "output_type": "execute_result"
    }
   ],
   "source": [
    "df_14.head()"
   ]
  },
  {
   "cell_type": "markdown",
   "id": "4aa79d3f",
   "metadata": {},
   "source": [
    "### Number of missing values by column<a id='missing_columns'>"
   ]
  },
  {
   "cell_type": "code",
   "execution_count": 40,
   "id": "96f83bdf",
   "metadata": {},
   "outputs": [
    {
     "data": {
      "text/plain": [
       "<AxesSubplot:>"
      ]
     },
     "execution_count": 40,
     "metadata": {},
     "output_type": "execute_result"
    },
    {
     "data": {
      "image/png": "[encoded data removed]",
      "text/plain": [
       "<Figure size 2400x1000 with 3 Axes>"
      ]
     },
     "metadata": {},
     "output_type": "display_data"
    }
   ],
   "source": [
    "msno.bar(df_14)"
   ]
  },
  {
   "cell_type": "code",
   "execution_count": 41,
   "id": "8f2afa31",
   "metadata": {},
   "outputs": [
    {
     "data": {
      "text/html": [
       "<div>\n",
       "<style scoped>\n",
       "    .dataframe tbody tr th:only-of-type {\n",
       "        vertical-align: middle;\n",
       "    }\n",
       "\n",
       "    .dataframe tbody tr th {\n",
       "        vertical-align: top;\n",
       "    }\n",
       "\n",
       "    .dataframe thead th {\n",
       "        text-align: right;\n",
       "    }\n",
       "</style>\n",
       "<table border=\"1\" class=\"dataframe\">\n",
       "  <thead>\n",
       "    <tr style=\"text-align: right;\">\n",
       "      <th></th>\n",
       "      <th>count</th>\n",
       "      <th>%</th>\n",
       "    </tr>\n",
       "  </thead>\n",
       "  <tbody>\n",
       "    <tr>\n",
       "      <th>clearance_status</th>\n",
       "      <td>421682</td>\n",
       "      <td>21.08410</td>\n",
       "    </tr>\n",
       "    <tr>\n",
       "      <th>clearance_date</th>\n",
       "      <td>254502</td>\n",
       "      <td>12.72510</td>\n",
       "    </tr>\n",
       "    <tr>\n",
       "      <th>latitude</th>\n",
       "      <td>33147</td>\n",
       "      <td>1.65735</td>\n",
       "    </tr>\n",
       "    <tr>\n",
       "      <th>longitude</th>\n",
       "      <td>33147</td>\n",
       "      <td>1.65735</td>\n",
       "    </tr>\n",
       "    <tr>\n",
       "      <th>location</th>\n",
       "      <td>33147</td>\n",
       "      <td>1.65735</td>\n",
       "    </tr>\n",
       "    <tr>\n",
       "      <th>location_type</th>\n",
       "      <td>10237</td>\n",
       "      <td>0.51185</td>\n",
       "    </tr>\n",
       "    <tr>\n",
       "      <th>zip_code</th>\n",
       "      <td>9769</td>\n",
       "      <td>0.48845</td>\n",
       "    </tr>\n",
       "    <tr>\n",
       "      <th>address</th>\n",
       "      <td>9</td>\n",
       "      <td>0.00045</td>\n",
       "    </tr>\n",
       "    <tr>\n",
       "      <th>crime_type</th>\n",
       "      <td>0</td>\n",
       "      <td>0.00000</td>\n",
       "    </tr>\n",
       "    <tr>\n",
       "      <th>occurred_date</th>\n",
       "      <td>0</td>\n",
       "      <td>0.00000</td>\n",
       "    </tr>\n",
       "    <tr>\n",
       "      <th>reported_date</th>\n",
       "      <td>0</td>\n",
       "      <td>0.00000</td>\n",
       "    </tr>\n",
       "    <tr>\n",
       "      <th>month</th>\n",
       "      <td>0</td>\n",
       "      <td>0.00000</td>\n",
       "    </tr>\n",
       "    <tr>\n",
       "      <th>year</th>\n",
       "      <td>0</td>\n",
       "      <td>0.00000</td>\n",
       "    </tr>\n",
       "    <tr>\n",
       "      <th>hour</th>\n",
       "      <td>0</td>\n",
       "      <td>0.00000</td>\n",
       "    </tr>\n",
       "  </tbody>\n",
       "</table>\n",
       "</div>"
      ],
      "text/plain": [
       "                   count         %\n",
       "clearance_status  421682  21.08410\n",
       "clearance_date    254502  12.72510\n",
       "latitude           33147   1.65735\n",
       "longitude          33147   1.65735\n",
       "location           33147   1.65735\n",
       "location_type      10237   0.51185\n",
       "zip_code            9769   0.48845\n",
       "address                9   0.00045\n",
       "crime_type             0   0.00000\n",
       "occurred_date          0   0.00000\n",
       "reported_date          0   0.00000\n",
       "month                  0   0.00000\n",
       "year                   0   0.00000\n",
       "hour                   0   0.00000"
      ]
     },
     "execution_count": 41,
     "metadata": {},
     "output_type": "execute_result"
    }
   ],
   "source": [
    "missing = pd.concat([df_14.isnull().sum(), 100 * df_14.isnull().mean()], axis=1)\n",
    "missing.columns=['count', '%']\n",
    "missing.sort_values('count', ascending=False)"
   ]
  },
  {
   "cell_type": "code",
   "execution_count": 43,
   "id": "c31e3a0e",
   "metadata": {},
   "outputs": [
    {
     "data": {
      "image/png": "[encoded data removed]",
      "text/plain": [
       "<Figure size 640x480 with 1 Axes>"
      ]
     },
     "metadata": {},
     "output_type": "display_data"
    }
   ],
   "source": [
    "crimes_per_year = df_14['year'].value_counts().sort_index()\n",
    "\n",
    "import matplotlib.pyplot as plt\n",
    "import seaborn as sns\n",
    "sns.set(style=\"whitegrid\")\n",
    "sns.set_color_codes(\"pastel\")\n",
    "\n",
    "g = sns.barplot(x=crimes_per_year.index, y=crimes_per_year.values,color='b')\n",
    "g.set_xticklabels(g.get_xticklabels(),rotation=90)\n",
    "g.set(xlabel='Year', ylabel='# crimes occurred')\n",
    "plt.title('Number of occurred crimes per year')\n",
    "plt.show()"
   ]
  },
  {
   "cell_type": "markdown",
   "id": "69cc0890",
   "metadata": {},
   "source": [
    "Good to see the decline in the crime since 2008!"
   ]
  },
  {
   "cell_type": "code",
   "execution_count": 44,
   "id": "ce867116",
   "metadata": {},
   "outputs": [
    {
     "data": {
      "image/png": "[encoded data removed]",
      "text/plain": [
       "<Figure size 640x480 with 1 Axes>"
      ]
     },
     "metadata": {},
     "output_type": "display_data"
    }
   ],
   "source": [
    "crimes_per_hour = df_14['hour'].value_counts().sort_index()\n",
    "g = sns.barplot(x=crimes_per_hour.index, y=crimes_per_hour.values, color='b')\n",
    "g.set(xlabel='Hour', ylabel='# crimes occurred')\n",
    "plt.title('Crime occurance per hour of day')\n",
    "plt.show()"
   ]
  },
  {
   "cell_type": "markdown",
   "id": "aec50b79",
   "metadata": {},
   "source": [
    "Crimes happen maximum during noon time. "
   ]
  },
  {
   "cell_type": "markdown",
   "id": "c52f0c79",
   "metadata": {},
   "source": [
    "### save the wrangled file<a id='save_file'>"
   ]
  },
  {
   "cell_type": "code",
   "execution_count": 45,
   "id": "94f5686d",
   "metadata": {},
   "outputs": [],
   "source": [
    "#saving this file\n",
    "csv_name = \"df_crime_reports.csv\"\n",
    "df_14.to_csv(csv_name, index=False)"
   ]
  },
  {
   "cell_type": "markdown",
   "id": "fe115cd5",
   "metadata": {},
   "source": [
    "###  Summary of Data Wrangling<a id='summary'>\n",
    "\n",
    "(a)  Ingested 2 million records into a Jupyter Notebook. \n",
    "\n",
    "(b) Following are the dimensions associated with the project:\n",
    "'crime_type', 'location_type', 'address', 'zip_code', 'latitude',\n",
    "'longitude', 'location', 'clearance_status', 'clearance_date', 'occurred_date', 'reported_date', 'hour','year','month'\n",
    "\n",
    "(c) Determine the number of time series across each dimension, and\n",
    "across all dimensions. ???\n",
    "\n",
    "(d) Identify the target and its type (categorical/non-categorical).crime_type and location\n",
    "\n",
    "(e) Identify whether there are features in addition to time and the target.\n",
    "These are sometimes called \"Exogenous Variables\".\n",
    "Also determine the type of each feature, and whether they are\n",
    "categorical or non-categorical.\n",
    "\n",
    "If additional Exogenous Variables are not present, determine\n",
    "if it makes senses to augment the dataset with them. ???\n",
    "\n",
    "(f) Identify the resolution of TS (meaning: hourly, daily, weekly,\n",
    "monthly, etc.) - Hourly Time series \n",
    "\n",
    "(g) According to the business problem determine the type of\n",
    "resolution to be used in the project, and what is called the\n",
    "\"forecasting horizon\", which is the number of time units for\n",
    "which the forecast will be computed. In our case, \n",
    "resolution will be hourly, the forecasting horizon will be for 24 hours.\n",
    "In general, this depends on the needs of the client.\n",
    "\n",
    "(h) As needed, perform appropriate aggregations according to (g).\n",
    "\n",
    "(i) Decide whether you want to store the \"wrangled\" dataset using\n",
    "a different format. For instance, if (h/e) were needed you will\n",
    "have to address this point. ???\n",
    "\n"
   ]
  },
  {
   "cell_type": "code",
   "execution_count": null,
   "id": "106277c6",
   "metadata": {},
   "outputs": [],
   "source": []
  }
 ],
 "metadata": {
  "kernelspec": {
   "display_name": "Python 3 (ipykernel)",
   "language": "python",
   "name": "python3"
  },
  "language_info": {
   "codemirror_mode": {
    "name": "ipython",
    "version": 3
   },
   "file_extension": ".py",
   "mimetype": "text/x-python",
   "name": "python",
   "nbconvert_exporter": "python",
   "pygments_lexer": "ipython3",
   "version": "3.9.13"
  }
 },
 "nbformat": 4,
 "nbformat_minor": 5
}
