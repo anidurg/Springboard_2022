{
 "cells": [
  {
   "cell_type": "markdown",
   "id": "7b11c7e7",
   "metadata": {},
   "source": [
    "## Modeling<a id='Modeling'>"
   ]
  },
  {
   "cell_type": "markdown",
   "id": "b9a6e1c0",
   "metadata": {},
   "source": [
    "## Contents<a id='Contents'></a>\n",
    "* [Modeling](#Modeling)\n",
    "  * [Contents](#Contents)\n",
    "  * [Introduction](#Introduction)\n",
    "  * [Imports](#Imports)\n",
    "  * [Summary of baseline logisticRegression model](#summarized_results)\n",
    "  * [Load Data](#Load_Data)\n",
    "  * [LogisticRegression algorithm](#logistic_regression)\n",
    "  * [roc_auc_score and ROC Curve](#roc_related)\n",
    "  * [RandomForest Classifier Algorithm](#random_algorithm_before_sampling)\n",
    "  * [AdaBoost Classifier Algorithm](#adaboost_algorithm_before_sampling)\n",
    "  * [XGBoost Classifier](#xgboost_classifier)\n",
    "* [SMOTE](#smote)\n",
    "     * [Fitting Logistic Regression after SMOTE](#logreg_smote)\n",
    "     * [Fitting RandomForest classifier after SMOTE](#rfc_smote)\n",
    "     * [Fitting AdaBoost classifier after SMOTE](#adaboost_smote)\n",
    "* [Undersampling](#undersampling) \n",
    "    * [Fitting LogisticRegression with undersampling](#logreg_undersample)\n",
    "    * [Fitting RandomForest Classifier with undersampling](#rfc_undersampling)\n",
    "    * [Fitting AdaBoost Classifier with undersampling](#abc_undersampling)\n",
    "* [Summarized classification reports for 4 algorithms](#summary_charts_all)\n",
    "* [Applying StratifiedKFold cross-validator](#stratifiedkfold_cv)\n",
    "* [Feature Importance](#feature_importance)\n",
    "    * [Cross_validate LogisticRegression model](#cv_logreg)\n",
    "    * [Cross_validate RandomForestClassifier Model](#cv_rfc)\n",
    "    * [Best Parameters for RandomForestClassifier](#best_params_rfc)\n",
    "    * [Finding parameters for AdaBoost Classifier Model](#best_params_ada)\n",
    "    * [Cross_validate with AdaBoost Classifier](#cv_ada)\n",
    "* [ Final Recall scores for test set after hyperparameter tuning](#final_recalls_all)"
   ]
  },
  {
   "cell_type": "markdown",
   "id": "4bfe6773",
   "metadata": {},
   "source": [
    "### Introduction<a id='Introduction'>"
   ]
  },
  {
   "cell_type": "markdown",
   "id": "8b18a1c3",
   "metadata": {},
   "source": [
    "* In the first round of\n",
    "the modeling notebook use the probability output and\n",
    "a threshold other than 0.5, which is the default.\n",
    "* I am choosing binary model first.<br/>\n",
    "<b>We will follow the same pattern we used before, only this time we are explicitly defining two objects ``X`` and ``y``, which were defined implicitly when we built the first model</b>. \n",
    "\n",
    "    \n",
    "Thus, pattern defined above can be expanded as follows:\n",
    "\n",
    "> (a) Define ``X`` and ``y``  \n",
    "\n",
    "> (b) Perform train/test split on ``(X, y)``  \n",
    "\n",
    "> (c) Create an object of the class associated with the algorithm to be used--in this case ``LogisticRegression``  \n",
    "\n",
    "> (d) Build an actual model using the``fit`` method from the class associated with the algorithm \n",
    "to be used (using the training set)  \n",
    "\n",
    "> (e) Predict with the built model using the``predict`` method from the class (training set and test set)  \n",
    "\n",
    "> (f) Compute performance metrics (in this case, accuracy) for the training and test predictions. The metrics to be used and their interpretation will depend on the application at hand  \n",
    "\n",
    "> (g) Determine if the model can be improved--repeat as needed with additional algorithms and/or by applying hyper-parameter tuning  \n",
    "\n",
    "> (h) Compare and Combine all best models as needed"
   ]
  },
  {
   "cell_type": "markdown",
   "id": "00d2e280",
   "metadata": {},
   "source": [
    "### Imports<a id='Imports'>"
   ]
  },
  {
   "cell_type": "code",
   "execution_count": 1,
   "id": "87d59602",
   "metadata": {},
   "outputs": [
    {
     "name": "stdout",
     "output_type": "stream",
     "text": [
      "Loaded Libraries\n"
     ]
    }
   ],
   "source": [
    "import pandas as pd\n",
    "import numpy as np\n",
    "import os\n",
    "import pickle\n",
    "import matplotlib.pyplot as plt\n",
    "import seaborn as sns\n",
    "from sklearn import __version__ as sklearn_version\n",
    "from sklearn.model_selection import cross_validate\n",
    "from library.sb_utils import save_file\n",
    "\n",
    "import matplotlib as mpl\n",
    "import matplotlib.cm as cm\n",
    "from matplotlib.colors import ListedColormap\n",
    "from sklearn.preprocessing import OneHotEncoder as OHE\n",
    "import sklearn.model_selection\n",
    "from sklearn.model_selection import train_test_split\n",
    "import nltk\n",
    "# Remove tokens that do not contain any letters from words_tokenized\n",
    "import re\n",
    "from nltk.stem.snowball import SnowballStemmer\n",
    "# Create an English language SnowballStemmer object\n",
    "stemmer = SnowballStemmer(\"english\")\n",
    "from sklearn.feature_extraction.text import TfidfVectorizer\n",
    "from sklearn.model_selection import KFold\n",
    "from sklearn.linear_model import LogisticRegression\n",
    "from sklearn.metrics import accuracy_score, f1_score\n",
    "from sklearn.metrics import classification_report\n",
    "from sklearn.metrics import confusion_matrix\n",
    "from sklearn.metrics import ConfusionMatrixDisplay\n",
    "# multi-class classification\n",
    "from sklearn.multiclass import OneVsRestClassifier\n",
    "from sklearn.metrics import roc_curve\n",
    "from sklearn.metrics import roc_auc_score\n",
    "# Random Forest\n",
    "from sklearn.ensemble import RandomForestClassifier\n",
    "from numpy import arange\n",
    "from numpy import argmax\n",
    "from collections import Counter\n",
    "#reasampling\n",
    "from imblearn.over_sampling import SMOTE\n",
    "from imblearn.under_sampling import RandomUnderSampler\n",
    "\n",
    "#one more method of train test split\n",
    "from sklearn.model_selection import StratifiedKFold\n",
    "from sklearn.metrics import precision_score\n",
    "from sklearn.metrics import recall_score\n",
    "from sklearn.model_selection import GridSearchCV\n",
    "from sklearn.model_selection import cross_val_score\n",
    "from sklearn.metrics import  make_scorer\n",
    "from sklearn.pipeline import make_pipeline\n",
    "#\n",
    "print(\"Loaded Libraries\")\n",
    "import warnings\n",
    "warnings.simplefilter(\"ignore\")"
   ]
  },
  {
   "cell_type": "markdown",
   "id": "270c0e4b",
   "metadata": {},
   "source": [
    "## Summary of baseline logisticRegression model<a id='summarized_results'>"
   ]
  },
  {
   "cell_type": "markdown",
   "id": "099cef64",
   "metadata": {},
   "source": [
    "<table style=\"background-color: #D6EEEE\">\n",
    "    <tr><th>Model</th><th>classes</th><th>Precision</th><th>Recall</th><th>f1-score</th><th>support</th></tr>\n",
    "    <tr><td rowspan=\"3\">MultiClass LogReg Training</td><td>0</td><td>0.89</td><td>0.99</td><td>0.94</td><td>12387</td></tr>\n",
    "    <tr><td>1</td><td>0.86</td><td>0.71</td><td>0.78</td><td>1790</td></tr>\n",
    "    <tr><td>2</td><td>0.76</td><td>0.25</td><td>0.38</td><td>1580</td></tr>\n",
    "    <tr><th>accuracy</th><th colspan=\"4\">0.89</th><th>15757</th></tr>\n",
    "    <tr><td rowspan=\"3\">MultiClass LogReg Test Set</td><td>0</td><td>0.88</td><td>0.99</td><td>0.93</td><td>3097</td></tr>\n",
    "    <tr><td>1</td><td>0.77</td><td>0.60</td><td>0.67</td><td>448</td></tr>\n",
    "    <tr><td>2</td><td>0.61</td><td>0.19</td><td>0.29</td><td>395</td></tr>\n",
    "    <tr><th>accuracy</th><th colspan=\"4\">0.86</th><th>3940</th></tr>\n",
    "    <tr><td rowspan=\"2\">Binary LogReg Training</td><td>0</td><td>0.95</td><td>0.99</td><td>0.97</td><td>13967</td></tr>\n",
    "    <tr><td>1</td><td>0.91</td><td>0.55</td><td>0.68</td><td>1790</td></tr>\n",
    "    <tr><th>accuracy</th><th colspan=\"4\">0.94</th><th>15757</th></tr>\n",
    "    <tr><td rowspan=\"2\">Binary LogReg Test Set</td><td>0</td><td>0.93</td><td>0.99</td><td>0.96</td><td>3492</td></tr>\n",
    "    <tr><td>1</td><td>0.81</td><td>0.46</td><td>0.59</td><td>448</td></tr>\n",
    "    <tr><th>accuracy</th><th colspan=\"4\">0.93</th><th>3940</th></tr>\n",
    "    </table>"
   ]
  },
  {
   "cell_type": "markdown",
   "id": "fcf6f850",
   "metadata": {},
   "source": [
    "Note: if we observe the summary chart, we can see that recall score is low for the minority class. One possible reason is calsses are hihgly imbalanced. TO take care of that, I will apply sampling method(one undersampling and one oversampling method) for three models that I choose. The three models i am choosing will be Logistic Regression, random Forest and AdaBoost Classifier. And I will be considering only binary classification instead of multiclass classification. "
   ]
  },
  {
   "cell_type": "markdown",
   "id": "991c867e",
   "metadata": {},
   "source": [
    "### Load Data<a id='Load_Data'>"
   ]
  },
  {
   "cell_type": "code",
   "execution_count": 2,
   "id": "6a775d1f",
   "metadata": {},
   "outputs": [],
   "source": [
    "df_main = pd.read_csv('cp2_ppt_2_sentiment_df.csv')"
   ]
  },
  {
   "cell_type": "code",
   "execution_count": 3,
   "id": "19eb1d74",
   "metadata": {},
   "outputs": [
    {
     "data": {
      "text/html": [
       "<div>\n",
       "<style scoped>\n",
       "    .dataframe tbody tr th:only-of-type {\n",
       "        vertical-align: middle;\n",
       "    }\n",
       "\n",
       "    .dataframe tbody tr th {\n",
       "        vertical-align: top;\n",
       "    }\n",
       "\n",
       "    .dataframe thead th {\n",
       "        text-align: right;\n",
       "    }\n",
       "</style>\n",
       "<table border=\"1\" class=\"dataframe\">\n",
       "  <thead>\n",
       "    <tr style=\"text-align: right;\">\n",
       "      <th></th>\n",
       "      <th>business_id</th>\n",
       "      <th>name</th>\n",
       "      <th>address</th>\n",
       "      <th>city</th>\n",
       "      <th>state</th>\n",
       "      <th>postal_code</th>\n",
       "      <th>latitude</th>\n",
       "      <th>longitude</th>\n",
       "      <th>review_count</th>\n",
       "      <th>categories</th>\n",
       "      <th>review_id</th>\n",
       "      <th>user_id</th>\n",
       "      <th>yelp_review_stars</th>\n",
       "      <th>useful</th>\n",
       "      <th>funny</th>\n",
       "      <th>cool</th>\n",
       "      <th>text</th>\n",
       "      <th>date</th>\n",
       "      <th>year</th>\n",
       "      <th>text_length</th>\n",
       "    </tr>\n",
       "  </thead>\n",
       "  <tbody>\n",
       "    <tr>\n",
       "      <th>0</th>\n",
       "      <td>vUrTGX_7HxqeoQ_6QCVz6g</td>\n",
       "      <td>Suraya</td>\n",
       "      <td>1528 Frankford Ave</td>\n",
       "      <td>Philadelphia</td>\n",
       "      <td>PA</td>\n",
       "      <td>19125</td>\n",
       "      <td>39.973687</td>\n",
       "      <td>-75.133956</td>\n",
       "      <td>1121</td>\n",
       "      <td>Active Life, Beer Gardens, Grocery, Middle Eas...</td>\n",
       "      <td>WeTHLEdLdP3Y3AXWWCsx4g</td>\n",
       "      <td>UizCd11Qoo74BKARrZp7HA</td>\n",
       "      <td>5</td>\n",
       "      <td>0</td>\n",
       "      <td>0</td>\n",
       "      <td>1</td>\n",
       "      <td>We are visiting in Philadelphia from Californi...</td>\n",
       "      <td>2018-05-28 21:27:38</td>\n",
       "      <td>2018</td>\n",
       "      <td>614</td>\n",
       "    </tr>\n",
       "    <tr>\n",
       "      <th>1</th>\n",
       "      <td>vUrTGX_7HxqeoQ_6QCVz6g</td>\n",
       "      <td>Suraya</td>\n",
       "      <td>1528 Frankford Ave</td>\n",
       "      <td>Philadelphia</td>\n",
       "      <td>PA</td>\n",
       "      <td>19125</td>\n",
       "      <td>39.973687</td>\n",
       "      <td>-75.133956</td>\n",
       "      <td>1121</td>\n",
       "      <td>Active Life, Beer Gardens, Grocery, Middle Eas...</td>\n",
       "      <td>MrWpfvjVA6Qtj3CDvFfPiA</td>\n",
       "      <td>49aswoS-d09tyWNJimzZ5A</td>\n",
       "      <td>5</td>\n",
       "      <td>1</td>\n",
       "      <td>0</td>\n",
       "      <td>0</td>\n",
       "      <td>Delicious food ! I personally loved it !!!\\n\\n...</td>\n",
       "      <td>2018-02-01 19:28:41</td>\n",
       "      <td>2018</td>\n",
       "      <td>573</td>\n",
       "    </tr>\n",
       "    <tr>\n",
       "      <th>2</th>\n",
       "      <td>vUrTGX_7HxqeoQ_6QCVz6g</td>\n",
       "      <td>Suraya</td>\n",
       "      <td>1528 Frankford Ave</td>\n",
       "      <td>Philadelphia</td>\n",
       "      <td>PA</td>\n",
       "      <td>19125</td>\n",
       "      <td>39.973687</td>\n",
       "      <td>-75.133956</td>\n",
       "      <td>1121</td>\n",
       "      <td>Active Life, Beer Gardens, Grocery, Middle Eas...</td>\n",
       "      <td>hll3PKZbMbu2W7uFbF8ezQ</td>\n",
       "      <td>CmLK8cjvcUIKyNVMp8ZyDA</td>\n",
       "      <td>2</td>\n",
       "      <td>0</td>\n",
       "      <td>0</td>\n",
       "      <td>0</td>\n",
       "      <td>Beautiful place. Excellent food. I only gave i...</td>\n",
       "      <td>2018-08-24 13:30:41</td>\n",
       "      <td>2018</td>\n",
       "      <td>362</td>\n",
       "    </tr>\n",
       "    <tr>\n",
       "      <th>3</th>\n",
       "      <td>vUrTGX_7HxqeoQ_6QCVz6g</td>\n",
       "      <td>Suraya</td>\n",
       "      <td>1528 Frankford Ave</td>\n",
       "      <td>Philadelphia</td>\n",
       "      <td>PA</td>\n",
       "      <td>19125</td>\n",
       "      <td>39.973687</td>\n",
       "      <td>-75.133956</td>\n",
       "      <td>1121</td>\n",
       "      <td>Active Life, Beer Gardens, Grocery, Middle Eas...</td>\n",
       "      <td>Mi5lScAdCWuJZj0QO_4qxg</td>\n",
       "      <td>wG77jgwRg53rN1KVxo637w</td>\n",
       "      <td>2</td>\n",
       "      <td>0</td>\n",
       "      <td>0</td>\n",
       "      <td>0</td>\n",
       "      <td>It's extremely overpriced, and the sandwiches ...</td>\n",
       "      <td>2018-02-11 18:04:01</td>\n",
       "      <td>2018</td>\n",
       "      <td>254</td>\n",
       "    </tr>\n",
       "    <tr>\n",
       "      <th>4</th>\n",
       "      <td>vUrTGX_7HxqeoQ_6QCVz6g</td>\n",
       "      <td>Suraya</td>\n",
       "      <td>1528 Frankford Ave</td>\n",
       "      <td>Philadelphia</td>\n",
       "      <td>PA</td>\n",
       "      <td>19125</td>\n",
       "      <td>39.973687</td>\n",
       "      <td>-75.133956</td>\n",
       "      <td>1121</td>\n",
       "      <td>Active Life, Beer Gardens, Grocery, Middle Eas...</td>\n",
       "      <td>SSu94Tvc6L5UBC4FDDyAbw</td>\n",
       "      <td>5s0nTuLRm3ue4Qfrj9PHkQ</td>\n",
       "      <td>5</td>\n",
       "      <td>0</td>\n",
       "      <td>0</td>\n",
       "      <td>0</td>\n",
       "      <td>Instagram worthy and Claire is an amazing serv...</td>\n",
       "      <td>2018-05-28 23:07:50</td>\n",
       "      <td>2018</td>\n",
       "      <td>1167</td>\n",
       "    </tr>\n",
       "  </tbody>\n",
       "</table>\n",
       "</div>"
      ],
      "text/plain": [
       "              business_id    name             address          city state  \\\n",
       "0  vUrTGX_7HxqeoQ_6QCVz6g  Suraya  1528 Frankford Ave  Philadelphia    PA   \n",
       "1  vUrTGX_7HxqeoQ_6QCVz6g  Suraya  1528 Frankford Ave  Philadelphia    PA   \n",
       "2  vUrTGX_7HxqeoQ_6QCVz6g  Suraya  1528 Frankford Ave  Philadelphia    PA   \n",
       "3  vUrTGX_7HxqeoQ_6QCVz6g  Suraya  1528 Frankford Ave  Philadelphia    PA   \n",
       "4  vUrTGX_7HxqeoQ_6QCVz6g  Suraya  1528 Frankford Ave  Philadelphia    PA   \n",
       "\n",
       "   postal_code   latitude  longitude  review_count  \\\n",
       "0        19125  39.973687 -75.133956          1121   \n",
       "1        19125  39.973687 -75.133956          1121   \n",
       "2        19125  39.973687 -75.133956          1121   \n",
       "3        19125  39.973687 -75.133956          1121   \n",
       "4        19125  39.973687 -75.133956          1121   \n",
       "\n",
       "                                          categories               review_id  \\\n",
       "0  Active Life, Beer Gardens, Grocery, Middle Eas...  WeTHLEdLdP3Y3AXWWCsx4g   \n",
       "1  Active Life, Beer Gardens, Grocery, Middle Eas...  MrWpfvjVA6Qtj3CDvFfPiA   \n",
       "2  Active Life, Beer Gardens, Grocery, Middle Eas...  hll3PKZbMbu2W7uFbF8ezQ   \n",
       "3  Active Life, Beer Gardens, Grocery, Middle Eas...  Mi5lScAdCWuJZj0QO_4qxg   \n",
       "4  Active Life, Beer Gardens, Grocery, Middle Eas...  SSu94Tvc6L5UBC4FDDyAbw   \n",
       "\n",
       "                  user_id  yelp_review_stars  useful  funny  cool  \\\n",
       "0  UizCd11Qoo74BKARrZp7HA                  5       0      0     1   \n",
       "1  49aswoS-d09tyWNJimzZ5A                  5       1      0     0   \n",
       "2  CmLK8cjvcUIKyNVMp8ZyDA                  2       0      0     0   \n",
       "3  wG77jgwRg53rN1KVxo637w                  2       0      0     0   \n",
       "4  5s0nTuLRm3ue4Qfrj9PHkQ                  5       0      0     0   \n",
       "\n",
       "                                                text                 date  \\\n",
       "0  We are visiting in Philadelphia from Californi...  2018-05-28 21:27:38   \n",
       "1  Delicious food ! I personally loved it !!!\\n\\n...  2018-02-01 19:28:41   \n",
       "2  Beautiful place. Excellent food. I only gave i...  2018-08-24 13:30:41   \n",
       "3  It's extremely overpriced, and the sandwiches ...  2018-02-11 18:04:01   \n",
       "4  Instagram worthy and Claire is an amazing serv...  2018-05-28 23:07:50   \n",
       "\n",
       "   year  text_length  \n",
       "0  2018          614  \n",
       "1  2018          573  \n",
       "2  2018          362  \n",
       "3  2018          254  \n",
       "4  2018         1167  "
      ]
     },
     "execution_count": 3,
     "metadata": {},
     "output_type": "execute_result"
    }
   ],
   "source": [
    "df_main.head()"
   ]
  },
  {
   "cell_type": "code",
   "execution_count": 4,
   "id": "a5c65368",
   "metadata": {},
   "outputs": [
    {
     "data": {
      "text/html": [
       "<div>\n",
       "<style scoped>\n",
       "    .dataframe tbody tr th:only-of-type {\n",
       "        vertical-align: middle;\n",
       "    }\n",
       "\n",
       "    .dataframe tbody tr th {\n",
       "        vertical-align: top;\n",
       "    }\n",
       "\n",
       "    .dataframe thead th {\n",
       "        text-align: right;\n",
       "    }\n",
       "</style>\n",
       "<table border=\"1\" class=\"dataframe\">\n",
       "  <thead>\n",
       "    <tr style=\"text-align: right;\">\n",
       "      <th></th>\n",
       "      <th>business_id</th>\n",
       "      <th>name</th>\n",
       "      <th>address</th>\n",
       "      <th>city</th>\n",
       "      <th>state</th>\n",
       "      <th>postal_code</th>\n",
       "      <th>latitude</th>\n",
       "      <th>longitude</th>\n",
       "      <th>review_count</th>\n",
       "      <th>categories</th>\n",
       "      <th>...</th>\n",
       "      <th>user_id</th>\n",
       "      <th>yelp_review_stars</th>\n",
       "      <th>useful</th>\n",
       "      <th>funny</th>\n",
       "      <th>cool</th>\n",
       "      <th>text</th>\n",
       "      <th>date</th>\n",
       "      <th>year</th>\n",
       "      <th>text_length</th>\n",
       "      <th>target_binary</th>\n",
       "    </tr>\n",
       "  </thead>\n",
       "  <tbody>\n",
       "    <tr>\n",
       "      <th>0</th>\n",
       "      <td>vUrTGX_7HxqeoQ_6QCVz6g</td>\n",
       "      <td>Suraya</td>\n",
       "      <td>1528 Frankford Ave</td>\n",
       "      <td>Philadelphia</td>\n",
       "      <td>PA</td>\n",
       "      <td>19125</td>\n",
       "      <td>39.973687</td>\n",
       "      <td>-75.133956</td>\n",
       "      <td>1121</td>\n",
       "      <td>Active Life, Beer Gardens, Grocery, Middle Eas...</td>\n",
       "      <td>...</td>\n",
       "      <td>UizCd11Qoo74BKARrZp7HA</td>\n",
       "      <td>5</td>\n",
       "      <td>0</td>\n",
       "      <td>0</td>\n",
       "      <td>1</td>\n",
       "      <td>We are visiting in Philadelphia from Californi...</td>\n",
       "      <td>2018-05-28 21:27:38</td>\n",
       "      <td>2018</td>\n",
       "      <td>614</td>\n",
       "      <td>0</td>\n",
       "    </tr>\n",
       "    <tr>\n",
       "      <th>1</th>\n",
       "      <td>vUrTGX_7HxqeoQ_6QCVz6g</td>\n",
       "      <td>Suraya</td>\n",
       "      <td>1528 Frankford Ave</td>\n",
       "      <td>Philadelphia</td>\n",
       "      <td>PA</td>\n",
       "      <td>19125</td>\n",
       "      <td>39.973687</td>\n",
       "      <td>-75.133956</td>\n",
       "      <td>1121</td>\n",
       "      <td>Active Life, Beer Gardens, Grocery, Middle Eas...</td>\n",
       "      <td>...</td>\n",
       "      <td>49aswoS-d09tyWNJimzZ5A</td>\n",
       "      <td>5</td>\n",
       "      <td>1</td>\n",
       "      <td>0</td>\n",
       "      <td>0</td>\n",
       "      <td>Delicious food ! I personally loved it !!!\\n\\n...</td>\n",
       "      <td>2018-02-01 19:28:41</td>\n",
       "      <td>2018</td>\n",
       "      <td>573</td>\n",
       "      <td>0</td>\n",
       "    </tr>\n",
       "    <tr>\n",
       "      <th>2</th>\n",
       "      <td>vUrTGX_7HxqeoQ_6QCVz6g</td>\n",
       "      <td>Suraya</td>\n",
       "      <td>1528 Frankford Ave</td>\n",
       "      <td>Philadelphia</td>\n",
       "      <td>PA</td>\n",
       "      <td>19125</td>\n",
       "      <td>39.973687</td>\n",
       "      <td>-75.133956</td>\n",
       "      <td>1121</td>\n",
       "      <td>Active Life, Beer Gardens, Grocery, Middle Eas...</td>\n",
       "      <td>...</td>\n",
       "      <td>CmLK8cjvcUIKyNVMp8ZyDA</td>\n",
       "      <td>2</td>\n",
       "      <td>0</td>\n",
       "      <td>0</td>\n",
       "      <td>0</td>\n",
       "      <td>Beautiful place. Excellent food. I only gave i...</td>\n",
       "      <td>2018-08-24 13:30:41</td>\n",
       "      <td>2018</td>\n",
       "      <td>362</td>\n",
       "      <td>1</td>\n",
       "    </tr>\n",
       "  </tbody>\n",
       "</table>\n",
       "<p>3 rows × 21 columns</p>\n",
       "</div>"
      ],
      "text/plain": [
       "              business_id    name             address          city state  \\\n",
       "0  vUrTGX_7HxqeoQ_6QCVz6g  Suraya  1528 Frankford Ave  Philadelphia    PA   \n",
       "1  vUrTGX_7HxqeoQ_6QCVz6g  Suraya  1528 Frankford Ave  Philadelphia    PA   \n",
       "2  vUrTGX_7HxqeoQ_6QCVz6g  Suraya  1528 Frankford Ave  Philadelphia    PA   \n",
       "\n",
       "   postal_code   latitude  longitude  review_count  \\\n",
       "0        19125  39.973687 -75.133956          1121   \n",
       "1        19125  39.973687 -75.133956          1121   \n",
       "2        19125  39.973687 -75.133956          1121   \n",
       "\n",
       "                                          categories  ...  \\\n",
       "0  Active Life, Beer Gardens, Grocery, Middle Eas...  ...   \n",
       "1  Active Life, Beer Gardens, Grocery, Middle Eas...  ...   \n",
       "2  Active Life, Beer Gardens, Grocery, Middle Eas...  ...   \n",
       "\n",
       "                  user_id yelp_review_stars  useful  funny  cool  \\\n",
       "0  UizCd11Qoo74BKARrZp7HA                 5       0      0     1   \n",
       "1  49aswoS-d09tyWNJimzZ5A                 5       1      0     0   \n",
       "2  CmLK8cjvcUIKyNVMp8ZyDA                 2       0      0     0   \n",
       "\n",
       "                                                text                 date  \\\n",
       "0  We are visiting in Philadelphia from Californi...  2018-05-28 21:27:38   \n",
       "1  Delicious food ! I personally loved it !!!\\n\\n...  2018-02-01 19:28:41   \n",
       "2  Beautiful place. Excellent food. I only gave i...  2018-08-24 13:30:41   \n",
       "\n",
       "   year  text_length  target_binary  \n",
       "0  2018          614              0  \n",
       "1  2018          573              0  \n",
       "2  2018          362              1  \n",
       "\n",
       "[3 rows x 21 columns]"
      ]
     },
     "execution_count": 4,
     "metadata": {},
     "output_type": "execute_result"
    }
   ],
   "source": [
    "# Create new column \"target_binary\" that stored 0's or 1's. 0 being Positive, 1 being Non-Positive\n",
    "df_main[\"target_binary\"] = np.where(df_main[\"yelp_review_stars\"] >= 3, 0, 1)\n",
    "df_main.head(3)"
   ]
  },
  {
   "cell_type": "code",
   "execution_count": 5,
   "id": "48fe5379",
   "metadata": {},
   "outputs": [],
   "source": [
    "# Picking the only text and target column\n",
    "df_bi_final = df_main[['text','target_binary']]"
   ]
  },
  {
   "cell_type": "code",
   "execution_count": 6,
   "id": "10e05b50",
   "metadata": {},
   "outputs": [
    {
     "data": {
      "text/html": [
       "<div>\n",
       "<style scoped>\n",
       "    .dataframe tbody tr th:only-of-type {\n",
       "        vertical-align: middle;\n",
       "    }\n",
       "\n",
       "    .dataframe tbody tr th {\n",
       "        vertical-align: top;\n",
       "    }\n",
       "\n",
       "    .dataframe thead th {\n",
       "        text-align: right;\n",
       "    }\n",
       "</style>\n",
       "<table border=\"1\" class=\"dataframe\">\n",
       "  <thead>\n",
       "    <tr style=\"text-align: right;\">\n",
       "      <th></th>\n",
       "      <th>text</th>\n",
       "      <th>target_binary</th>\n",
       "    </tr>\n",
       "  </thead>\n",
       "  <tbody>\n",
       "    <tr>\n",
       "      <th>0</th>\n",
       "      <td>We are visiting in Philadelphia from Californi...</td>\n",
       "      <td>0</td>\n",
       "    </tr>\n",
       "    <tr>\n",
       "      <th>1</th>\n",
       "      <td>Delicious food ! I personally loved it !!!\\n\\n...</td>\n",
       "      <td>0</td>\n",
       "    </tr>\n",
       "    <tr>\n",
       "      <th>2</th>\n",
       "      <td>Beautiful place. Excellent food. I only gave i...</td>\n",
       "      <td>1</td>\n",
       "    </tr>\n",
       "    <tr>\n",
       "      <th>3</th>\n",
       "      <td>It's extremely overpriced, and the sandwiches ...</td>\n",
       "      <td>1</td>\n",
       "    </tr>\n",
       "    <tr>\n",
       "      <th>4</th>\n",
       "      <td>Instagram worthy and Claire is an amazing serv...</td>\n",
       "      <td>0</td>\n",
       "    </tr>\n",
       "  </tbody>\n",
       "</table>\n",
       "</div>"
      ],
      "text/plain": [
       "                                                text  target_binary\n",
       "0  We are visiting in Philadelphia from Californi...              0\n",
       "1  Delicious food ! I personally loved it !!!\\n\\n...              0\n",
       "2  Beautiful place. Excellent food. I only gave i...              1\n",
       "3  It's extremely overpriced, and the sandwiches ...              1\n",
       "4  Instagram worthy and Claire is an amazing serv...              0"
      ]
     },
     "execution_count": 6,
     "metadata": {},
     "output_type": "execute_result"
    }
   ],
   "source": [
    "df_bi_final.head()"
   ]
  },
  {
   "cell_type": "code",
   "execution_count": 7,
   "id": "21ce4b7d",
   "metadata": {},
   "outputs": [],
   "source": [
    "import re \n",
    "def function_clean(text):\n",
    "    text = re.sub(r\"http\\S+\", \"\", text) #removing the URL Http\n",
    "    # Removal of mentions\n",
    "    text = re.sub(\"@[^\\s]*\", \"\", text)\n",
    "    # Removal of hashtags\n",
    "    text = re.sub(\"#[^\\s]*\", \"\", text)\n",
    "    # Removal of numbers\n",
    "    text = re.sub('[0-9]*[+-:]*[0-9]+', '', text)\n",
    "    text = re.sub(\"(\\\\d|\\\\W)+\",\" \",text)\n",
    "    text = re.sub(\"'s\", \"\", text)   \n",
    "    return text"
   ]
  },
  {
   "cell_type": "code",
   "execution_count": 8,
   "id": "b64a250d",
   "metadata": {},
   "outputs": [],
   "source": [
    "# Define a function to perform both stemming and tokenization\n",
    "\n",
    "\n",
    "def tokenize_and_stem(text):\n",
    "\n",
    "    tokens = [y for x in nltk.sent_tokenize(text) for y in nltk.word_tokenize(x)]\n",
    "\n",
    "    filtered_tokens = [token for token in tokens if re.search('[a-zA-Z]',token)]\n",
    "\n",
    "    stems = [stemmer.stem(token) for token in filtered_tokens]\n",
    "\n",
    "    return stems"
   ]
  },
  {
   "cell_type": "code",
   "execution_count": 9,
   "id": "b696ee3d",
   "metadata": {},
   "outputs": [],
   "source": [
    "# applying the cleaning function to text column\n",
    "df_bi_final['text'] = df_bi_final['text'].apply(lambda text: function_clean(text))"
   ]
  },
  {
   "cell_type": "code",
   "execution_count": 10,
   "id": "c8907232",
   "metadata": {},
   "outputs": [
    {
     "data": {
      "text/html": [
       "<div>\n",
       "<style scoped>\n",
       "    .dataframe tbody tr th:only-of-type {\n",
       "        vertical-align: middle;\n",
       "    }\n",
       "\n",
       "    .dataframe tbody tr th {\n",
       "        vertical-align: top;\n",
       "    }\n",
       "\n",
       "    .dataframe thead th {\n",
       "        text-align: right;\n",
       "    }\n",
       "</style>\n",
       "<table border=\"1\" class=\"dataframe\">\n",
       "  <thead>\n",
       "    <tr style=\"text-align: right;\">\n",
       "      <th></th>\n",
       "      <th>text</th>\n",
       "      <th>target_binary</th>\n",
       "    </tr>\n",
       "  </thead>\n",
       "  <tbody>\n",
       "    <tr>\n",
       "      <th>0</th>\n",
       "      <td>We are visiting in Philadelphia from Californi...</td>\n",
       "      <td>0</td>\n",
       "    </tr>\n",
       "    <tr>\n",
       "      <th>1</th>\n",
       "      <td>Delicious food I personally loved it I was sur...</td>\n",
       "      <td>0</td>\n",
       "    </tr>\n",
       "    <tr>\n",
       "      <th>2</th>\n",
       "      <td>Beautiful place Excellent food I only gave it ...</td>\n",
       "      <td>1</td>\n",
       "    </tr>\n",
       "    <tr>\n",
       "      <th>3</th>\n",
       "      <td>It s extremely overpriced and the sandwiches a...</td>\n",
       "      <td>1</td>\n",
       "    </tr>\n",
       "    <tr>\n",
       "      <th>4</th>\n",
       "      <td>Instagram worthy and Claire is an amazing serv...</td>\n",
       "      <td>0</td>\n",
       "    </tr>\n",
       "  </tbody>\n",
       "</table>\n",
       "</div>"
      ],
      "text/plain": [
       "                                                text  target_binary\n",
       "0  We are visiting in Philadelphia from Californi...              0\n",
       "1  Delicious food I personally loved it I was sur...              0\n",
       "2  Beautiful place Excellent food I only gave it ...              1\n",
       "3  It s extremely overpriced and the sandwiches a...              1\n",
       "4  Instagram worthy and Claire is an amazing serv...              0"
      ]
     },
     "execution_count": 10,
     "metadata": {},
     "output_type": "execute_result"
    }
   ],
   "source": [
    "df_bi_final.head()"
   ]
  },
  {
   "cell_type": "code",
   "execution_count": 11,
   "id": "5a63a7f3",
   "metadata": {},
   "outputs": [
    {
     "name": "stdout",
     "output_type": "stream",
     "text": [
      "Original dataset shape Counter({0: 17459, 1: 2238})\n"
     ]
    }
   ],
   "source": [
    "X = df_bi_final['text']\n",
    "y = df_bi_final['target_binary']\n",
    "print('Original dataset shape %s' % Counter(y))"
   ]
  },
  {
   "cell_type": "code",
   "execution_count": 12,
   "id": "5fa4fa1a",
   "metadata": {},
   "outputs": [],
   "source": [
    "X_train,X_test,y_train,y_test = train_test_split(df_bi_final['text'], df_bi_final['target_binary'], random_state=2, test_size=0.2, stratify = df_bi_final['target_binary'])"
   ]
  },
  {
   "cell_type": "code",
   "execution_count": 13,
   "id": "6195784c",
   "metadata": {},
   "outputs": [
    {
     "data": {
      "text/plain": [
       "((15757,), (3940,), (15757,), (3940,))"
      ]
     },
     "execution_count": 13,
     "metadata": {},
     "output_type": "execute_result"
    }
   ],
   "source": [
    "X_train.shape,X_test.shape,y_train.shape,y_test.shape"
   ]
  },
  {
   "cell_type": "code",
   "execution_count": 14,
   "id": "b468fad8",
   "metadata": {},
   "outputs": [],
   "source": [
    "# Instantiate TfidfVectorizer object with stopwords and tokenizer\n",
    "# parameters for efficient processing of text\n",
    "\n",
    "tfidf = TfidfVectorizer(stop_words='english',tokenizer=tokenize_and_stem,ngram_range=(1,1))"
   ]
  },
  {
   "cell_type": "code",
   "execution_count": 17,
   "id": "224d0991",
   "metadata": {},
   "outputs": [],
   "source": [
    "X_train_transformed = tfidf.fit_transform(X_train)"
   ]
  },
  {
   "cell_type": "code",
   "execution_count": 18,
   "id": "06bcc2a3",
   "metadata": {},
   "outputs": [
    {
     "data": {
      "text/plain": [
       "scipy.sparse._csr.csr_matrix"
      ]
     },
     "execution_count": 18,
     "metadata": {},
     "output_type": "execute_result"
    }
   ],
   "source": [
    "type(X_train_transformed)"
   ]
  },
  {
   "cell_type": "code",
   "execution_count": 73,
   "id": "fe72b45c",
   "metadata": {},
   "outputs": [
    {
     "name": "stdout",
     "output_type": "stream",
     "text": [
      "(15757, 14100)\n"
     ]
    }
   ],
   "source": [
    "print(X_train_transformed"
   ]
  },
  {
   "cell_type": "code",
   "execution_count": 19,
   "id": "2939e9bf",
   "metadata": {},
   "outputs": [],
   "source": [
    "X_test_transformed = tfidf.transform(X_test)"
   ]
  },
  {
   "cell_type": "code",
   "execution_count": 20,
   "id": "f4d79962",
   "metadata": {},
   "outputs": [
    {
     "data": {
      "text/plain": [
       "scipy.sparse._csr.csr_matrix"
      ]
     },
     "execution_count": 20,
     "metadata": {},
     "output_type": "execute_result"
    }
   ],
   "source": [
    "type(X_test_transformed)"
   ]
  },
  {
   "cell_type": "code",
   "execution_count": 21,
   "id": "e97d6aba",
   "metadata": {},
   "outputs": [
    {
     "data": {
      "text/plain": [
       "0    13967\n",
       "1     1790\n",
       "Name: target_binary, dtype: int64"
      ]
     },
     "execution_count": 21,
     "metadata": {},
     "output_type": "execute_result"
    }
   ],
   "source": [
    "y_train.value_counts()"
   ]
  },
  {
   "cell_type": "code",
   "execution_count": 22,
   "id": "5ec07459",
   "metadata": {},
   "outputs": [
    {
     "data": {
      "text/plain": [
       "0    3492\n",
       "1     448\n",
       "Name: target_binary, dtype: int64"
      ]
     },
     "execution_count": 22,
     "metadata": {},
     "output_type": "execute_result"
    }
   ],
   "source": [
    "y_test.value_counts()"
   ]
  },
  {
   "cell_type": "markdown",
   "id": "d7388124",
   "metadata": {},
   "source": [
    "## LogisticRegression algorithm<a id='logistic_regression'>\n",
    "    \n",
    "Logistic Regression algorithm is ussed to build models that are simple and yet effecive--in some cases. This algorithm can be used to build useful baseline models for classification problems that can be easily interpreted. For these reasons, Logistic Regression is considered as one of the fundamental Machine Learning algorithms associated with classification problems."
   ]
  },
  {
   "cell_type": "code",
   "execution_count": 23,
   "id": "9f4c5e59",
   "metadata": {},
   "outputs": [],
   "source": [
    "# fit a model\n",
    "clf = LogisticRegression()\n",
    "clf.fit(X_train_transformed, y_train)\n",
    "# predict labels\n",
    "y_pred = clf.predict(X_test_transformed)\n"
   ]
  },
  {
   "cell_type": "code",
   "execution_count": 24,
   "id": "ce4ead80",
   "metadata": {},
   "outputs": [
    {
     "data": {
      "text/plain": [
       "<sklearn.metrics._plot.confusion_matrix.ConfusionMatrixDisplay at 0x2964ebcf6a0>"
      ]
     },
     "execution_count": 24,
     "metadata": {},
     "output_type": "execute_result"
    },
    {
     "data": {
      "image/png": "[encoded data removed]",
      "text/plain": [
       "<Figure size 640x480 with 2 Axes>"
      ]
     },
     "metadata": {},
     "output_type": "display_data"
    }
   ],
   "source": [
    "cm = confusion_matrix(y_test, y_pred, labels = clf.classes_)\n",
    "_, ax = plt.subplots()\n",
    "display_cm = ConfusionMatrixDisplay(confusion_matrix = cm, \n",
    "                                    display_labels = ['positive review', 'non-positive review'])\n",
    "ax.set_xticks([0, 1])\n",
    "ax.set_yticks([0, 1])\n",
    "ax.set_xticklabels(labels = ['positive review', 'non-positive review'], fontsize = 8)\n",
    "ax.set_yticklabels(labels = ['positive review', 'non-positive review'], fontsize = 8)\n",
    "display_cm.plot(ax = ax)"
   ]
  },
  {
   "cell_type": "code",
   "execution_count": 25,
   "id": "03ceab1b",
   "metadata": {},
   "outputs": [
    {
     "name": "stdout",
     "output_type": "stream",
     "text": [
      "              precision    recall  f1-score   support\n",
      "\n",
      "           0       0.93      0.99      0.96      3492\n",
      "           1       0.81      0.46      0.59       448\n",
      "\n",
      "    accuracy                           0.93      3940\n",
      "   macro avg       0.87      0.72      0.77      3940\n",
      "weighted avg       0.92      0.93      0.92      3940\n",
      "\n"
     ]
    }
   ],
   "source": [
    "print(classification_report(y_test, y_pred))"
   ]
  },
  {
   "cell_type": "markdown",
   "id": "21b71a14",
   "metadata": {},
   "source": [
    "Based on the above classification report we observe that we are predicting more false positive results. Thus our goal is build a model which will increase the recall score above  0.46 for class 1 which is the minority class. if we predict class 1 correctly then the business can get a chance to improve.  "
   ]
  },
  {
   "cell_type": "markdown",
   "id": "c492b3b1",
   "metadata": {},
   "source": [
    "## roc_auc_score and ROC Curve<a id='roc_related'>"
   ]
  },
  {
   "cell_type": "markdown",
   "id": "0d58004f",
   "metadata": {},
   "source": [
    "Another common metric is AUC, area under the receiver operating characteristic (ROC) curve. The Reciever operating characteristic curve plots the true positive (TP) rate versus the false positive (FP) rate at different classification thresholds. The thresholds are different probability cutoffs that separate the two classes in binary classification. It uses probability to tell us how well a model separates the classes."
   ]
  },
  {
   "cell_type": "code",
   "execution_count": 26,
   "id": "2b3fe324",
   "metadata": {},
   "outputs": [
    {
     "data": {
      "image/png": "[encoded data removed]",
      "text/plain": [
       "<Figure size 640x480 with 1 Axes>"
      ]
     },
     "metadata": {},
     "output_type": "display_data"
    }
   ],
   "source": [
    "y_pred_proba = clf.predict_proba(X_test_transformed)\n",
    "# roc curve for classes\n",
    "fpr = {}\n",
    "tpr = {}\n",
    "thresh ={}\n",
    "\n",
    "n_class = 2\n",
    "\n",
    "for i in range(n_class):    \n",
    "    fpr[i], tpr[i], thresh[i] = roc_curve(y_test, y_pred_proba[:,i], pos_label=i)\n",
    "    \n",
    "    \n",
    "# plotting    \n",
    "plt.plot(fpr[0], tpr[0], linestyle='--',color='orange', label='0')\n",
    "plt.plot(fpr[1], tpr[1], linestyle='--',color='blue', label='1')\n",
    "\n",
    "plt.title('Binaryclass ROC curve')\n",
    "plt.xlabel('False Positive Rate')\n",
    "plt.ylabel('True Positive rate')\n",
    "plt.legend(loc='best')\n",
    "plt.savefig('Binary Class ROC',dpi=300); "
   ]
  },
  {
   "cell_type": "code",
   "execution_count": 27,
   "id": "8fdb1073",
   "metadata": {},
   "outputs": [
    {
     "data": {
      "text/plain": [
       "0.9573444659221076"
      ]
     },
     "execution_count": 27,
     "metadata": {},
     "output_type": "execute_result"
    }
   ],
   "source": [
    "roc_auc_score(y_test, clf.predict_proba(X_test_transformed)[:, 1])"
   ]
  },
  {
   "cell_type": "code",
   "execution_count": 28,
   "id": "b69f2cf8",
   "metadata": {},
   "outputs": [
    {
     "data": {
      "text/plain": [
       "0.9818124965751274"
      ]
     },
     "execution_count": 28,
     "metadata": {},
     "output_type": "execute_result"
    }
   ],
   "source": [
    "roc_auc_score(y_train, clf.predict_proba(X_train_transformed)[:, 1])"
   ]
  },
  {
   "cell_type": "markdown",
   "id": "2194ced6",
   "metadata": {},
   "source": [
    "Before applying resampling method, I will try to fit two more models namels RandomForestClassifier and AdaBoost"
   ]
  },
  {
   "cell_type": "markdown",
   "id": "cb135e00",
   "metadata": {},
   "source": [
    "## Applying two algorithms before sampling<a id='apply_before sampling'>"
   ]
  },
  {
   "cell_type": "markdown",
   "id": "4ad1b90b",
   "metadata": {},
   "source": [
    "## RandomForest Classifier Algorithm<a id='random_algorithm_before_sampling'>\n",
    "    \n",
    "   Follows Bootstrap Aggregation method - Bagging"
   ]
  },
  {
   "cell_type": "code",
   "execution_count": 29,
   "id": "eabd2c52",
   "metadata": {},
   "outputs": [],
   "source": [
    "rfc_model = RandomForestClassifier()\n",
    "rfc_model.fit(X_train_transformed,y_train)\n",
    "y_pred_rfc = rfc_model.predict(X_test_transformed)\n"
   ]
  },
  {
   "cell_type": "code",
   "execution_count": 30,
   "id": "c486c42b",
   "metadata": {},
   "outputs": [
    {
     "data": {
      "text/plain": [
       "<sklearn.metrics._plot.confusion_matrix.ConfusionMatrixDisplay at 0x2964f3d2d60>"
      ]
     },
     "execution_count": 30,
     "metadata": {},
     "output_type": "execute_result"
    },
    {
     "data": {
      "image/png": "[encoded data removed]",
      "text/plain": [
       "<Figure size 640x480 with 2 Axes>"
      ]
     },
     "metadata": {},
     "output_type": "display_data"
    }
   ],
   "source": [
    "cm_rfc = confusion_matrix(y_test, y_pred_rfc, labels = rfc_model.classes_)\n",
    "_, ax = plt.subplots()\n",
    "display_cm_rfc = ConfusionMatrixDisplay(confusion_matrix = cm_rfc, \n",
    "                                    display_labels = ['positive review', 'non-positive review'])\n",
    "ax.set_xticks([0, 1])\n",
    "ax.set_yticks([0, 1])\n",
    "ax.set_xticklabels(labels = ['positive review', 'non-positive review'], fontsize = 8)\n",
    "ax.set_yticklabels(labels = ['positive review', 'non-positive review'], fontsize = 8)\n",
    "display_cm_rfc.plot(ax = ax)"
   ]
  },
  {
   "cell_type": "code",
   "execution_count": 31,
   "id": "33b7f906",
   "metadata": {},
   "outputs": [
    {
     "name": "stdout",
     "output_type": "stream",
     "text": [
      "              precision    recall  f1-score   support\n",
      "\n",
      "           0       0.90      1.00      0.95      3492\n",
      "           1       0.86      0.17      0.28       448\n",
      "\n",
      "    accuracy                           0.90      3940\n",
      "   macro avg       0.88      0.58      0.61      3940\n",
      "weighted avg       0.90      0.90      0.87      3940\n",
      "\n"
     ]
    }
   ],
   "source": [
    "print(classification_report(y_test, y_pred_rfc))"
   ]
  },
  {
   "cell_type": "markdown",
   "id": "eed781d3",
   "metadata": {},
   "source": [
    "## AdaBoost Classifier Algorithm<a id='adaboost_algorithm_before_sampling'>\n",
    "     Boosting Method\n",
    "    AdaBoost - Adaptive Boosting ALgorithm"
   ]
  },
  {
   "cell_type": "code",
   "execution_count": 32,
   "id": "ef903d05",
   "metadata": {},
   "outputs": [],
   "source": [
    "from sklearn.ensemble import AdaBoostClassifier"
   ]
  },
  {
   "cell_type": "code",
   "execution_count": 33,
   "id": "9410b217",
   "metadata": {},
   "outputs": [],
   "source": [
    "# Create adaboost classifer object\n",
    "abc_model = AdaBoostClassifier(n_estimators=50, learning_rate=1, random_state=0)\n",
    "# Train Adaboost Classifer\n",
    "abc_model.fit(X_train_transformed, y_train)\n",
    "\n",
    "#Predict the response for test dataset\n",
    "y_pred_abc = abc_model.predict(X_test_transformed)"
   ]
  },
  {
   "cell_type": "code",
   "execution_count": 34,
   "id": "cc22a07d",
   "metadata": {},
   "outputs": [
    {
     "data": {
      "text/plain": [
       "<sklearn.metrics._plot.confusion_matrix.ConfusionMatrixDisplay at 0x296500626d0>"
      ]
     },
     "execution_count": 34,
     "metadata": {},
     "output_type": "execute_result"
    },
    {
     "data": {
      "image/png": "[encoded data removed]",
      "text/plain": [
       "<Figure size 640x480 with 2 Axes>"
      ]
     },
     "metadata": {},
     "output_type": "display_data"
    }
   ],
   "source": [
    "cm_abc = confusion_matrix(y_test, y_pred_abc, labels = abc_model.classes_)\n",
    "_, ax = plt.subplots()\n",
    "display_cm_abc = ConfusionMatrixDisplay(confusion_matrix = cm_abc, \n",
    "                                    display_labels = ['positive review', 'non-positive review'])\n",
    "ax.set_xticks([0, 1])\n",
    "ax.set_yticks([0, 1])\n",
    "ax.set_xticklabels(labels = ['positive review', 'non-positive review'], fontsize = 8)\n",
    "ax.set_yticklabels(labels = ['positive review', 'non-positive review'], fontsize = 8)\n",
    "display_cm_abc.plot(ax = ax)"
   ]
  },
  {
   "cell_type": "code",
   "execution_count": 35,
   "id": "8f27ca8c",
   "metadata": {},
   "outputs": [
    {
     "name": "stdout",
     "output_type": "stream",
     "text": [
      "              precision    recall  f1-score   support\n",
      "\n",
      "           0       0.94      0.97      0.96      3492\n",
      "           1       0.71      0.50      0.59       448\n",
      "\n",
      "    accuracy                           0.92      3940\n",
      "   macro avg       0.82      0.74      0.77      3940\n",
      "weighted avg       0.91      0.92      0.91      3940\n",
      "\n"
     ]
    }
   ],
   "source": [
    "print(classification_report(y_test, y_pred_abc))"
   ]
  },
  {
   "cell_type": "markdown",
   "id": "c7db6699",
   "metadata": {},
   "source": [
    "## XGBoost Classifier<a id='xgboost_classifier'>"
   ]
  },
  {
   "cell_type": "code",
   "execution_count": 102,
   "id": "e5f27450",
   "metadata": {},
   "outputs": [],
   "source": [
    "import xgboost as xgb"
   ]
  },
  {
   "cell_type": "code",
   "execution_count": 106,
   "id": "2e6b53e9",
   "metadata": {},
   "outputs": [],
   "source": [
    "xgb_model = xgb.XGBClassifier(eval_metric='logloss', random_state=42)\n",
    "xgb_model.fit(X_train_transformed, y_train)\n",
    "#Predict the response for test dataset\n",
    "y_pred_xgb = xgb_model.predict(X_test_transformed)"
   ]
  },
  {
   "cell_type": "code",
   "execution_count": 107,
   "id": "278b47a7",
   "metadata": {},
   "outputs": [
    {
     "data": {
      "text/plain": [
       "<sklearn.metrics._plot.confusion_matrix.ConfusionMatrixDisplay at 0x296c86df4c0>"
      ]
     },
     "execution_count": 107,
     "metadata": {},
     "output_type": "execute_result"
    },
    {
     "data": {
      "image/png": "[encoded data removed]",
      "text/plain": [
       "<Figure size 640x480 with 2 Axes>"
      ]
     },
     "metadata": {},
     "output_type": "display_data"
    }
   ],
   "source": [
    "cm_xgb = confusion_matrix(y_test, y_pred_xgb, labels = xgb_model.classes_)\n",
    "_, ax = plt.subplots()\n",
    "display_cm_xgb = ConfusionMatrixDisplay(confusion_matrix = cm_xgb, \n",
    "                                    display_labels = ['positive review', 'non-positive review'])\n",
    "ax.set_xticks([0, 1])\n",
    "ax.set_yticks([0, 1])\n",
    "ax.set_xticklabels(labels = ['positive review', 'non-positive review'], fontsize = 8)\n",
    "ax.set_yticklabels(labels = ['positive review', 'non-positive review'], fontsize = 8)\n",
    "display_cm_xgb.plot(ax = ax)"
   ]
  },
  {
   "cell_type": "code",
   "execution_count": 108,
   "id": "d000b2a4",
   "metadata": {},
   "outputs": [
    {
     "name": "stdout",
     "output_type": "stream",
     "text": [
      "              precision    recall  f1-score   support\n",
      "\n",
      "           0       0.94      0.98      0.96      3492\n",
      "           1       0.76      0.52      0.62       448\n",
      "\n",
      "    accuracy                           0.93      3940\n",
      "   macro avg       0.85      0.75      0.79      3940\n",
      "weighted avg       0.92      0.93      0.92      3940\n",
      "\n"
     ]
    }
   ],
   "source": [
    "print(classification_report(y_test, y_pred_xgb))"
   ]
  },
  {
   "cell_type": "markdown",
   "id": "54323e71",
   "metadata": {},
   "source": [
    "### Summary of four models - before any sampling techniques"
   ]
  },
  {
   "cell_type": "markdown",
   "id": "4ff0a633",
   "metadata": {},
   "source": [
    "<table>\n",
    "    <tr><th>Model</th><th>classes</th><th>Precision</th><th>Recall</th><th>f1-score</th><th>support</th></tr>\n",
    "   <tr><td rowspan=\"2\">Before sampling - LogisticRegression</td><td>0</td><td>0.93</td><td>0.99</td><td>0.96</td><td>3492</td></tr>\n",
    "   \n",
    "   <tr><td>1</td><td>0.81</td><td>0.46</td><td>0.59</td><td>448</td></tr>\n",
    "    <tr><th>accuracy</th><th colspan=\"4\">0.93</th><th>3940</th></tr>\n",
    "    <tr><td rowspan=\"2\">Before sampling - RandomForest</td><td>0</td><td>0.90</td><td>1.00</td><td>0.95</td><td>3492</td></tr>\n",
    "    <tr><td>1</td><td>0.86</td><td>0.17</td><td>0.28</td><td>448</td></tr>\n",
    "    <tr><th>accuracy</th><th colspan=\"4\">0.90</th><th>3940</th></tr>\n",
    "    <tr><td rowspan=\"2\">Before sampling - AdaBoost</td><td>0</td><td>0.94</td><td>0.97</td><td>0.96</td><td>3492</td></tr>\n",
    "    <tr><td>1</td><td>0.71</td><td>0.50</td><td>0.59</td><td>448</td></tr>\n",
    "    <tr><th>accuracy</th><th colspan=\"4\">0.92</th><th>3940</th></tr> \n",
    "    <tr><td rowspan=\"2\">Before sampling - XGBoost</td><td>0</td><td>0.94</td><td>0.98</td><td>0.96</td><td>3492</td></tr>\n",
    "    <tr><td>1</td><td>0.76</td><td>0.52</td><td>0.62</td><td>448</td></tr>\n",
    "    <tr><th>accuracy</th><th colspan=\"4\">0.93</th><th>3940</th></tr>\n",
    "</table>"
   ]
  },
  {
   "cell_type": "markdown",
   "id": "169e3d88",
   "metadata": {},
   "source": [
    "WE have to increase the Recall score. For that, we need to balance our target classes. We have a high target imbalance in target classification where positive classes(class 0) is 89% and negative classes (class 1) is 11%. I will apply one undersampling and one oversampling technique and test it for each model and then compare their recall scores and overall predcition score."
   ]
  },
  {
   "cell_type": "markdown",
   "id": "0119b147",
   "metadata": {},
   "source": [
    "Let us apply oversampling method first. I wil use SMOTE."
   ]
  },
  {
   "cell_type": "markdown",
   "id": "62064c6b",
   "metadata": {},
   "source": [
    "## SMOTE<a id='smote'>"
   ]
  },
  {
   "cell_type": "code",
   "execution_count": 36,
   "id": "5f94b469",
   "metadata": {},
   "outputs": [],
   "source": [
    "#Binary SMOTE the training data\n",
    "sm = SMOTE(random_state=1)\n",
    "X_2_bal, y_2_bal = sm.fit_resample(X_train_transformed, y_train)"
   ]
  },
  {
   "cell_type": "code",
   "execution_count": 37,
   "id": "a242ea3f",
   "metadata": {},
   "outputs": [
    {
     "name": "stdout",
     "output_type": "stream",
     "text": [
      "y_train before SMOTE  Counter({0: 13967, 1: 1790})\n"
     ]
    }
   ],
   "source": [
    "print('y_train before SMOTE  %s' % Counter(y_train))"
   ]
  },
  {
   "cell_type": "code",
   "execution_count": 38,
   "id": "b15c1415",
   "metadata": {},
   "outputs": [
    {
     "name": "stdout",
     "output_type": "stream",
     "text": [
      "y_train AFTER SMOTE  Counter({0: 13967, 1: 13967})\n"
     ]
    }
   ],
   "source": [
    "print('y_train AFTER SMOTE  %s' % Counter(y_2_bal))"
   ]
  },
  {
   "cell_type": "code",
   "execution_count": 39,
   "id": "0da4ca7e",
   "metadata": {},
   "outputs": [
    {
     "data": {
      "image/png": "[encoded data removed]",
      "text/plain": [
       "<Figure size 640x480 with 1 Axes>"
      ]
     },
     "metadata": {},
     "output_type": "display_data"
    }
   ],
   "source": [
    "ax=y_2_bal.hist(grid=False)\n",
    "ax.set_xlabel('Target classes')\n",
    "ax.set_ylabel('Frequency')\n",
    "ax.set_title('Distribution of binary Target classes After SMOTE')\n",
    "plt.show()"
   ]
  },
  {
   "cell_type": "markdown",
   "id": "4ad1876f",
   "metadata": {},
   "source": [
    "## Fitting Logistic Regression with SMOTE<a id='logreg_smote'>"
   ]
  },
  {
   "cell_type": "code",
   "execution_count": 40,
   "id": "da2cca46",
   "metadata": {},
   "outputs": [
    {
     "name": "stdout",
     "output_type": "stream",
     "text": [
      "Score on test set: 0.9027918781725889\n"
     ]
    }
   ],
   "source": [
    "# Fitting Logistic regression to the training set\n",
    "logreg_sm = LogisticRegression(solver='lbfgs',random_state=1)\n",
    "logreg_sm.fit(X_2_bal, y_2_bal)\n",
    "\n",
    "#predict test set\n",
    "\n",
    "#pred_labels_sm_train_logit = logreg_sm.predict(X_2_bal)\n",
    "pred_labels_sm_logit = logreg_sm.predict(X_test_transformed)\n",
    "\n",
    "# test score\n",
    "#print(f\"Score on training set: {logreg_sm.score(X_train_transformed,y_train)}\")\n",
    "print(f\"Score on test set: {logreg_sm.score(X_test_transformed,y_test)}\")"
   ]
  },
  {
   "cell_type": "code",
   "execution_count": 41,
   "id": "fe7ab86e",
   "metadata": {},
   "outputs": [
    {
     "data": {
      "text/plain": [
       "<sklearn.metrics._plot.confusion_matrix.ConfusionMatrixDisplay at 0x296500839d0>"
      ]
     },
     "execution_count": 41,
     "metadata": {},
     "output_type": "execute_result"
    },
    {
     "data": {
      "image/png": "[encoded data removed]",
      "text/plain": [
       "<Figure size 640x480 with 2 Axes>"
      ]
     },
     "metadata": {},
     "output_type": "display_data"
    }
   ],
   "source": [
    "cm_sm = confusion_matrix(y_test, pred_labels_sm_logit, labels = logreg_sm.classes_)\n",
    "_, ax = plt.subplots()\n",
    "display_cm_sm = ConfusionMatrixDisplay(confusion_matrix = cm_sm, \n",
    "                                    display_labels = ['positive review', 'non-positive review'])\n",
    "ax.set_xticks([0, 1])\n",
    "ax.set_yticks([0, 1])\n",
    "ax.set_xticklabels(labels = ['positive review', 'non-positive review'], fontsize = 8)\n",
    "ax.set_yticklabels(labels = ['positive review', 'non-positive review'], fontsize = 8)\n",
    "display_cm_sm.plot(ax = ax)"
   ]
  },
  {
   "cell_type": "code",
   "execution_count": 42,
   "id": "9357836d",
   "metadata": {},
   "outputs": [
    {
     "name": "stdout",
     "output_type": "stream",
     "text": [
      "              precision    recall  f1-score   support\n",
      "\n",
      "           0       0.98      0.91      0.94      3492\n",
      "           1       0.55      0.82      0.66       448\n",
      "\n",
      "    accuracy                           0.90      3940\n",
      "   macro avg       0.76      0.87      0.80      3940\n",
      "weighted avg       0.93      0.90      0.91      3940\n",
      "\n"
     ]
    }
   ],
   "source": [
    "print(classification_report(y_test, pred_labels_sm_logit))"
   ]
  },
  {
   "cell_type": "markdown",
   "id": "f67083a3",
   "metadata": {},
   "source": [
    "Based on the above results, I can say that the recall score on the test set improved by 2x from 0.46 to 0.82. Accuracy did drop a bit."
   ]
  },
  {
   "cell_type": "markdown",
   "id": "7182741e",
   "metadata": {},
   "source": [
    "## Fitting RandomForest classifier with SMOTE<a id='rfc_smote'>"
   ]
  },
  {
   "cell_type": "code",
   "execution_count": 43,
   "id": "d5b31e5e",
   "metadata": {},
   "outputs": [
    {
     "name": "stdout",
     "output_type": "stream",
     "text": [
      "Score on training set: 0.9996826807133338\n",
      "Score on test set: 0.9200507614213198\n"
     ]
    }
   ],
   "source": [
    "rfc_sm_model = RandomForestClassifier()\n",
    "rfc_sm_model.fit(X_2_bal,y_2_bal)\n",
    "y_pred_sm_rfc = rfc_sm_model.predict(X_test_transformed)\n",
    "\n",
    "# Training score\n",
    "print(f\"Score on training set: {rfc_sm_model.score(X_train_transformed,y_train)}\")\n",
    "print(f\"Score on test set: {rfc_sm_model.score(X_test_transformed,y_test)}\")"
   ]
  },
  {
   "cell_type": "code",
   "execution_count": 44,
   "id": "3fb837c2",
   "metadata": {},
   "outputs": [
    {
     "name": "stdout",
     "output_type": "stream",
     "text": [
      "              precision    recall  f1-score   support\n",
      "\n",
      "           0       0.94      0.98      0.96      3492\n",
      "           1       0.73      0.47      0.57       448\n",
      "\n",
      "    accuracy                           0.92      3940\n",
      "   macro avg       0.83      0.72      0.76      3940\n",
      "weighted avg       0.91      0.92      0.91      3940\n",
      "\n"
     ]
    }
   ],
   "source": [
    "print(classification_report(y_test, y_pred_sm_rfc))"
   ]
  },
  {
   "cell_type": "markdown",
   "id": "d64ee82d",
   "metadata": {},
   "source": [
    "### Random Forest Classifier performed better with SMOTE. Recall improved a lot from 0.17 to 0.46 and accuracy also increased by 0.01."
   ]
  },
  {
   "cell_type": "markdown",
   "id": "17976987",
   "metadata": {},
   "source": [
    "## Fitting AdaBoost classifier with SMOTE<a id='adaboost_smote'>"
   ]
  },
  {
   "cell_type": "code",
   "execution_count": 45,
   "id": "3efb4b61",
   "metadata": {},
   "outputs": [
    {
     "name": "stdout",
     "output_type": "stream",
     "text": [
      "Score on training set: 0.8817668337881577\n",
      "Score on test set: 0.8758883248730964\n"
     ]
    }
   ],
   "source": [
    "abc_sm_model = AdaBoostClassifier(n_estimators=50, learning_rate=1, random_state=0)\n",
    "abc_sm_model.fit(X_2_bal,y_2_bal)\n",
    "y_pred_abc_sm_rfc = abc_sm_model.predict(X_test_transformed)\n",
    "\n",
    "# Training score\n",
    "print(f\"Score on training set: {abc_sm_model.score(X_train_transformed,y_train)}\")\n",
    "print(f\"Score on test set: {abc_sm_model.score(X_test_transformed,y_test)}\")"
   ]
  },
  {
   "cell_type": "code",
   "execution_count": 46,
   "id": "2a543b83",
   "metadata": {},
   "outputs": [
    {
     "name": "stdout",
     "output_type": "stream",
     "text": [
      "              precision    recall  f1-score   support\n",
      "\n",
      "           0       0.96      0.89      0.93      3492\n",
      "           1       0.47      0.74      0.58       448\n",
      "\n",
      "    accuracy                           0.88      3940\n",
      "   macro avg       0.72      0.82      0.75      3940\n",
      "weighted avg       0.91      0.88      0.89      3940\n",
      "\n"
     ]
    }
   ],
   "source": [
    "print(classification_report(y_test, y_pred_abc_sm_rfc))"
   ]
  },
  {
   "cell_type": "markdown",
   "id": "add3f2b0",
   "metadata": {},
   "source": [
    "## Fitting XGBoost with SMOTE<a id='fitting_xgb_smote'>"
   ]
  },
  {
   "cell_type": "code",
   "execution_count": 111,
   "id": "cadb6681",
   "metadata": {},
   "outputs": [
    {
     "name": "stdout",
     "output_type": "stream",
     "text": [
      "Score on training set: 0.9769626197880307\n",
      "Score on test set: 0.9192893401015229\n"
     ]
    }
   ],
   "source": [
    "xgb_sm_model = xgb.XGBClassifier(eval_metric='logloss', random_state=42)\n",
    "xgb_sm_model.fit(X_2_bal,y_2_bal)\n",
    "y_pred_xgb_sm_rfc = xgb_sm_model.predict(X_test_transformed)\n",
    "\n",
    "# Training score\n",
    "print(f\"Score on training set: {xgb_sm_model.score(X_train_transformed,y_train)}\")\n",
    "print(f\"Score on test set: {xgb_sm_model.score(X_test_transformed,y_test)}\")"
   ]
  },
  {
   "cell_type": "code",
   "execution_count": 112,
   "id": "c4257150",
   "metadata": {},
   "outputs": [
    {
     "name": "stdout",
     "output_type": "stream",
     "text": [
      "              precision    recall  f1-score   support\n",
      "\n",
      "           0       0.96      0.95      0.95      3492\n",
      "           1       0.63      0.71      0.67       448\n",
      "\n",
      "    accuracy                           0.92      3940\n",
      "   macro avg       0.80      0.83      0.81      3940\n",
      "weighted avg       0.92      0.92      0.92      3940\n",
      "\n"
     ]
    }
   ],
   "source": [
    "print(classification_report(y_test, y_pred_xgb_sm_rfc))"
   ]
  },
  {
   "cell_type": "markdown",
   "id": "c18b27e0",
   "metadata": {},
   "source": [
    "## Undersampling<a id='undersampling'>"
   ]
  },
  {
   "cell_type": "code",
   "execution_count": 47,
   "id": "728417db",
   "metadata": {},
   "outputs": [],
   "source": [
    "\n",
    "rus = RandomUnderSampler(random_state=42)\n",
    "X_res, y_res = rus.fit_resample(X_train_transformed, y_train)"
   ]
  },
  {
   "cell_type": "code",
   "execution_count": 48,
   "id": "48e5e71b",
   "metadata": {},
   "outputs": [
    {
     "data": {
      "text/plain": [
       "0    1790\n",
       "1    1790\n",
       "Name: target_binary, dtype: int64"
      ]
     },
     "execution_count": 48,
     "metadata": {},
     "output_type": "execute_result"
    }
   ],
   "source": [
    "y_res.value_counts()"
   ]
  },
  {
   "cell_type": "code",
   "execution_count": 49,
   "id": "6aed3783",
   "metadata": {},
   "outputs": [
    {
     "data": {
      "image/png": "[encoded data removed]",
      "text/plain": [
       "<Figure size 640x480 with 1 Axes>"
      ]
     },
     "metadata": {},
     "output_type": "display_data"
    }
   ],
   "source": [
    "ax=y_res.hist(grid=False)\n",
    "ax.set_xlabel('Target classes')\n",
    "ax.set_ylabel('Frequency')\n",
    "ax.set_title('Distribution of binary Target classes After Undersampling')\n",
    "plt.show()"
   ]
  },
  {
   "cell_type": "markdown",
   "id": "951d2170",
   "metadata": {},
   "source": [
    "## Fitting Logistic Regression with Undersampling<a id='logreg_undersample'>"
   ]
  },
  {
   "cell_type": "code",
   "execution_count": 50,
   "id": "07cc45f6",
   "metadata": {},
   "outputs": [
    {
     "name": "stdout",
     "output_type": "stream",
     "text": [
      "Score on test set: 0.8763959390862944\n"
     ]
    }
   ],
   "source": [
    "# Fitting Logistic regression to the training set\n",
    "logreg_us = LogisticRegression(solver='lbfgs',random_state=1)\n",
    "logreg_us.fit(X_res, y_res)\n",
    "\n",
    "#predict test set\n",
    "\n",
    "#pred_labels_us_train_logit = logreg_us.predict(X_res)\n",
    "pred_labels_us_logit = logreg_us.predict(X_test_transformed)\n",
    "\n",
    "# Test score\n",
    "#print(f\"Score on training set: {logreg_us.score(X_train_transformed,y_train)}\")\n",
    "print(f\"Score on test set: {logreg_us.score(X_test_transformed,y_test)}\")"
   ]
  },
  {
   "cell_type": "code",
   "execution_count": 51,
   "id": "321bbe71",
   "metadata": {},
   "outputs": [
    {
     "data": {
      "text/plain": [
       "<sklearn.metrics._plot.confusion_matrix.ConfusionMatrixDisplay at 0x2965032c2b0>"
      ]
     },
     "execution_count": 51,
     "metadata": {},
     "output_type": "execute_result"
    },
    {
     "data": {
      "image/png": "[encoded data removed]",
      "text/plain": [
       "<Figure size 640x480 with 2 Axes>"
      ]
     },
     "metadata": {},
     "output_type": "display_data"
    }
   ],
   "source": [
    "cm_us = confusion_matrix(y_test, pred_labels_us_logit, labels = logreg_us.classes_)\n",
    "_, ax = plt.subplots()\n",
    "display_cm_us = ConfusionMatrixDisplay(confusion_matrix = cm_us, \n",
    "                                    display_labels = ['positive review', 'non-positive review'])\n",
    "ax.set_xticks([0, 1])\n",
    "ax.set_yticks([0, 1])\n",
    "ax.set_xticklabels(labels = ['positive review', 'non-positive review'], fontsize = 8)\n",
    "ax.set_yticklabels(labels = ['positive review', 'non-positive review'], fontsize = 8)\n",
    "display_cm_us.plot(ax = ax)"
   ]
  },
  {
   "cell_type": "code",
   "execution_count": 52,
   "id": "0c7434d9",
   "metadata": {},
   "outputs": [
    {
     "name": "stdout",
     "output_type": "stream",
     "text": [
      "              precision    recall  f1-score   support\n",
      "\n",
      "           0       0.98      0.88      0.93      3492\n",
      "           1       0.48      0.88      0.62       448\n",
      "\n",
      "    accuracy                           0.88      3940\n",
      "   macro avg       0.73      0.88      0.77      3940\n",
      "weighted avg       0.93      0.88      0.89      3940\n",
      "\n"
     ]
    }
   ],
   "source": [
    "print(classification_report(y_test, pred_labels_us_logit))"
   ]
  },
  {
   "cell_type": "markdown",
   "id": "f3e2b091",
   "metadata": {},
   "source": [
    "## Fitting RandomForest Classifier with undersampling<a id='rfc_undersampling'>"
   ]
  },
  {
   "cell_type": "code",
   "execution_count": 53,
   "id": "314cabce",
   "metadata": {},
   "outputs": [
    {
     "name": "stdout",
     "output_type": "stream",
     "text": [
      "Score on test set: 0.8436548223350254\n"
     ]
    }
   ],
   "source": [
    "rfc_us_model = RandomForestClassifier()\n",
    "rfc_us_model.fit(X_res,y_res)\n",
    "y_pred_us_rfc = rfc_us_model.predict(X_test_transformed)\n",
    "\n",
    "# Test score\n",
    "#print(f\"Score on training set: {rfc_us_model.score(X_train_transformed,y_train)}\")\n",
    "print(f\"Score on test set: {rfc_us_model.score(X_test_transformed,y_test)}\")"
   ]
  },
  {
   "cell_type": "code",
   "execution_count": 54,
   "id": "3e7c689d",
   "metadata": {},
   "outputs": [
    {
     "name": "stdout",
     "output_type": "stream",
     "text": [
      "              precision    recall  f1-score   support\n",
      "\n",
      "           0       0.98      0.84      0.90      3492\n",
      "           1       0.41      0.89      0.56       448\n",
      "\n",
      "    accuracy                           0.84      3940\n",
      "   macro avg       0.70      0.86      0.73      3940\n",
      "weighted avg       0.92      0.84      0.87      3940\n",
      "\n"
     ]
    }
   ],
   "source": [
    "print(classification_report(y_test, y_pred_us_rfc))"
   ]
  },
  {
   "cell_type": "code",
   "execution_count": null,
   "id": "a4d60a33",
   "metadata": {},
   "outputs": [],
   "source": [
    "names = boston[\"feature_names\"]\n",
    "rf = RandomForestRegressor()\n",
    "rf.fit(X, Y)\n",
    "print \"Features sorted by their score:\"\n",
    "print sorted(zip(map(lambda x: round(x, 4), rf.feature_importances_), names), \n",
    "             reverse=True)"
   ]
  },
  {
   "cell_type": "markdown",
   "id": "85a059e5",
   "metadata": {},
   "source": [
    "## Fitting AdaBoost Classifier with undersampling<a id='abc_undersampling'>"
   ]
  },
  {
   "cell_type": "code",
   "execution_count": 55,
   "id": "d344d90d",
   "metadata": {},
   "outputs": [
    {
     "name": "stdout",
     "output_type": "stream",
     "text": [
      "Score on test set: 0.8309644670050761\n"
     ]
    }
   ],
   "source": [
    "abc_us_model = AdaBoostClassifier(n_estimators=50, learning_rate=1, random_state=0)\n",
    "abc_us_model.fit(X_res,y_res)\n",
    "y_pred_abc_us_rfc = abc_us_model.predict(X_test_transformed)\n",
    "\n",
    "# Test score\n",
    "#print(f\"Score on training set: {abc_us_model.score(X_train_transformed,y_train)}\")\n",
    "print(f\"Score on test set: {abc_us_model.score(X_test_transformed,y_test)}\")"
   ]
  },
  {
   "cell_type": "code",
   "execution_count": 56,
   "id": "a3046392",
   "metadata": {},
   "outputs": [
    {
     "name": "stdout",
     "output_type": "stream",
     "text": [
      "              precision    recall  f1-score   support\n",
      "\n",
      "           0       0.97      0.83      0.90      3492\n",
      "           1       0.39      0.83      0.53       448\n",
      "\n",
      "    accuracy                           0.83      3940\n",
      "   macro avg       0.68      0.83      0.71      3940\n",
      "weighted avg       0.91      0.83      0.86      3940\n",
      "\n"
     ]
    }
   ],
   "source": [
    "print(classification_report(y_test, y_pred_abc_us_rfc))"
   ]
  },
  {
   "cell_type": "code",
   "execution_count": 57,
   "id": "a72d1229",
   "metadata": {},
   "outputs": [
    {
     "name": "stdout",
     "output_type": "stream",
     "text": [
      "              precision    recall  f1-score   support\n",
      "\n",
      "    NEGATIVE       0.39      0.83      0.53       448\n",
      "\n",
      "   micro avg       0.39      0.83      0.53       448\n",
      "   macro avg       0.39      0.83      0.53       448\n",
      "weighted avg       0.39      0.83      0.53       448\n",
      "\n"
     ]
    }
   ],
   "source": [
    "#trying out different attributes for classification_report\n",
    "print(classification_report(y_test, y_pred_abc_us_rfc,labels=[1],target_names=[ 'NEGATIVE']))"
   ]
  },
  {
   "cell_type": "markdown",
   "id": "760878b5",
   "metadata": {},
   "source": [
    "## Fitting XGBoost Classifier with undersampling<a id='xgb_undersampling'>"
   ]
  },
  {
   "cell_type": "code",
   "execution_count": 113,
   "id": "da7e45e4",
   "metadata": {},
   "outputs": [
    {
     "name": "stdout",
     "output_type": "stream",
     "text": [
      "Score on test set: 0.851015228426396\n"
     ]
    }
   ],
   "source": [
    "xgb_us_model = xgb.XGBClassifier(eval_metric='logloss', random_state=42)\n",
    "xgb_us_model.fit(X_res,y_res)\n",
    "y_pred_xgb_us_rfc = xgb_us_model.predict(X_test_transformed)\n",
    "\n",
    "# Test score\n",
    "\n",
    "print(f\"Score on test set: {xgb_us_model.score(X_test_transformed,y_test)}\")"
   ]
  },
  {
   "cell_type": "code",
   "execution_count": 114,
   "id": "323ce8b6",
   "metadata": {},
   "outputs": [
    {
     "name": "stdout",
     "output_type": "stream",
     "text": [
      "              precision    recall  f1-score   support\n",
      "\n",
      "           0       0.98      0.85      0.91      3492\n",
      "           1       0.42      0.88      0.57       448\n",
      "\n",
      "    accuracy                           0.85      3940\n",
      "   macro avg       0.70      0.86      0.74      3940\n",
      "weighted avg       0.92      0.85      0.87      3940\n",
      "\n"
     ]
    }
   ],
   "source": [
    "print(classification_report(y_test, y_pred_xgb_us_rfc))"
   ]
  },
  {
   "cell_type": "markdown",
   "id": "e780c08c",
   "metadata": {},
   "source": [
    "## Summarized classification reports for 4 algorithms<a id='summary_charts_all'>\n",
    "    \n",
    "**NOTE: I am considering only class1 here to display as we want to see and compare for class 1 and see if recall score got improved with any of these three algorithms"
   ]
  },
  {
   "cell_type": "markdown",
   "id": "ca42c278",
   "metadata": {},
   "source": [
    "<table>\n",
    "<tr><th>Model</th><th>Sampling Technique</th><th>classes</th><th>Precision</th><th>Recall</th><th>f1-score</th><th>support</th></tr>\n",
    "    <tr><td rowspan=\"3\">LogisticRegression</td><td>No technique(imbalanced)</td><td>1</td><td>0.81</td><td><b>0.46</b></td><td>0.59</td><td>448</td></tr>\n",
    "    <tr><td>SMOTE</td><td>1</td><td>0.55</td><td><b>0.82</b></td><td>0.66</td><td>448</td></tr>\n",
    "    <tr><td>Undersampling</td><td>1</td><td>0.48</td><td><b>0.88</b></td><td>0.62</td><td>448</td></tr>\n",
    "<tr><th>accuracy before</th><td colspan=\"5\">0.93</td><td>3940</td></tr>\n",
    "<tr><th>accuracy After SMOTE</th><td colspan=\"5\">0.90</td><td>3940</td></tr>\n",
    "<tr><th>accuracy After Undersampling</th><td colspan=\"5\">0.88</td><td>3940</td></tr>\n",
    "    <tr><td rowspan=\"3\">RandomForest</td><td>No technique(imbalanced)</td><td>1</td><td>0.92</td><td><b>0.18</b></td><td>0.31</td><td>448</td></tr>\n",
    "<tr><td>SMOTE</td><td>1</td><td>0.71</td><th>0.46</th><td>0.59</td><td>448</td></tr>\n",
    "<tr><td>Undersampling</td><td>1</td><td>0.43</td><th>0.88</th><td>0.58</td><td>448</td></tr>\n",
    "<tr><th>accuracy before</th><td colspan=\"5\">0.91</td><td>3940</td></tr>\n",
    "<tr><th>accuracy After SMOTE</th><td colspan=\"5\">0.92</td><td>3940</td></tr>\n",
    "<tr><th>accuracy After Undersampling</th><td colspan=\"5\">0.86</td><td>3940</td></tr>\n",
    "    <tr><td rowspan=\"3\">AdaBoost</td><td>No technique(imbalanced)</td><td>1</td><td>0.71</td><th>0.50</th><td>0.59</td><td>448</td></tr>\n",
    "    <tr><td>SMOTE</td><td>1</td><td>0.47</td><th>0.74</th><td>0.58</td><td>448</td></tr>\n",
    "<tr><td>Undersampling</td><td>1</td><td>0.39</td><th>0.83</th><td>0.53</td><td>448</td></tr>\n",
    "<tr><th>accuracy before</th><td colspan=\"5\">0.92</td><td>3940</td></tr> \n",
    "<tr><th>accuracy After SMOTE</th><td colspan=\"5\">0.88</td><td>3940</td></tr>\n",
    "<tr><th>accuracy After Undersampling</th><td colspan=\"5\">0.83</td><td>3940</td></tr>\n",
    "     <tr><td rowspan=\"3\">XGBoost</td><td>No technique(imbalanced)</td><td>1</td><td>0.76</td><th>0.52</th><td>0.62</td><td>448</td></tr>\n",
    "    <tr><td>SMOTE</td><td>1</td><td>0.63</td><th>0.71</th><td>0.67</td><td>448</td></tr>\n",
    "<tr><td>Undersampling</td><td>1</td><td>0.42</td><th>0.88</th><td>0.57</td><td>448</td></tr>\n",
    "<tr><th>accuracy before</th><td colspan=\"5\">0.93</td><td>3940</td></tr> \n",
    "<tr><th>accuracy After SMOTE</th><td colspan=\"5\">0.92</td><td>3940</td></tr>\n",
    "<tr><th>accuracy After Undersampling</th><td colspan=\"5\">0.85</td><td>3940</td></tr>\n",
    "\n",
    "\n",
    "</table>"
   ]
  },
  {
   "cell_type": "markdown",
   "id": "63b119ce",
   "metadata": {},
   "source": [
    "Based on the above observations, Undersampling  seems to be a better choice for resampling. Regarding Models, RandomForest and LogisticRegression are performing well in their recall score. "
   ]
  },
  {
   "cell_type": "markdown",
   "id": "2f2bd5cc",
   "metadata": {},
   "source": [
    "## StratifiedKFold cross-validator<a id='stratifiedkfold_cv'>"
   ]
  },
  {
   "cell_type": "code",
   "execution_count": 58,
   "id": "0a29735f",
   "metadata": {},
   "outputs": [
    {
     "data": {
      "text/plain": [
       "<15757x14100 sparse matrix of type '<class 'numpy.float64'>'\n",
       "\twith 619024 stored elements in Compressed Sparse Row format>"
      ]
     },
     "execution_count": 58,
     "metadata": {},
     "output_type": "execute_result"
    }
   ],
   "source": [
    "X_train_transformed"
   ]
  },
  {
   "cell_type": "code",
   "execution_count": 59,
   "id": "3fab2d8a",
   "metadata": {},
   "outputs": [
    {
     "data": {
      "text/plain": [
       "<3580x14100 sparse matrix of type '<class 'numpy.float64'>'\n",
       "\twith 144252 stored elements in Compressed Sparse Row format>"
      ]
     },
     "execution_count": 59,
     "metadata": {},
     "output_type": "execute_result"
    }
   ],
   "source": [
    "X_res"
   ]
  },
  {
   "cell_type": "code",
   "execution_count": 60,
   "id": "1cf0b01d",
   "metadata": {},
   "outputs": [
    {
     "data": {
      "text/plain": [
       "(15757, 14100)"
      ]
     },
     "execution_count": 60,
     "metadata": {},
     "output_type": "execute_result"
    }
   ],
   "source": [
    "X_train_transformed.shape"
   ]
  },
  {
   "cell_type": "code",
   "execution_count": 61,
   "id": "54193ce4",
   "metadata": {},
   "outputs": [
    {
     "data": {
      "text/plain": [
       "(3580, 14100)"
      ]
     },
     "execution_count": 61,
     "metadata": {},
     "output_type": "execute_result"
    }
   ],
   "source": [
    "X_res.shape"
   ]
  },
  {
   "cell_type": "code",
   "execution_count": 62,
   "id": "659c0cd7",
   "metadata": {},
   "outputs": [
    {
     "data": {
      "text/plain": [
       "(27934, 14100)"
      ]
     },
     "execution_count": 62,
     "metadata": {},
     "output_type": "execute_result"
    }
   ],
   "source": [
    "X_2_bal.shape"
   ]
  },
  {
   "cell_type": "code",
   "execution_count": 63,
   "id": "e9a99008",
   "metadata": {},
   "outputs": [
    {
     "data": {
      "text/plain": [
       "(27934,)"
      ]
     },
     "execution_count": 63,
     "metadata": {},
     "output_type": "execute_result"
    }
   ],
   "source": [
    "y_2_bal.shape"
   ]
  },
  {
   "cell_type": "code",
   "execution_count": 64,
   "id": "40369639",
   "metadata": {},
   "outputs": [
    {
     "name": "stdout",
     "output_type": "stream",
     "text": [
      " X has 15757 rows, and 14100 columns\n"
     ]
    }
   ],
   "source": [
    "X_n_rows, X_n_cols = X_train_transformed.shape[0], X_train_transformed.shape[1]\n",
    "print(' X has ' + str(X_n_rows) + ' rows, and ' + str(X_n_cols) + ' columns')"
   ]
  },
  {
   "cell_type": "code",
   "execution_count": 65,
   "id": "17eab4b0",
   "metadata": {},
   "outputs": [
    {
     "data": {
      "text/plain": [
       "(15757,)"
      ]
     },
     "execution_count": 65,
     "metadata": {},
     "output_type": "execute_result"
    }
   ],
   "source": [
    "y_train.shape"
   ]
  },
  {
   "cell_type": "code",
   "execution_count": 66,
   "id": "3c2739b9",
   "metadata": {},
   "outputs": [
    {
     "data": {
      "text/plain": [
       "(3580,)"
      ]
     },
     "execution_count": 66,
     "metadata": {},
     "output_type": "execute_result"
    }
   ],
   "source": [
    "y_res.shape"
   ]
  },
  {
   "cell_type": "code",
   "execution_count": 67,
   "id": "4a766730",
   "metadata": {},
   "outputs": [
    {
     "name": "stdout",
     "output_type": "stream",
     "text": [
      " y has 15757 rows and one column\n"
     ]
    }
   ],
   "source": [
    "print(' y has ' + str(y_train.shape[0]) + ' rows and one column')"
   ]
  },
  {
   "cell_type": "markdown",
   "id": "ce71d3ad",
   "metadata": {},
   "source": [
    "## Feature Importance<a id='feature_importance'>"
   ]
  },
  {
   "cell_type": "markdown",
   "id": "9a06ab8a",
   "metadata": {},
   "source": [
    "## using logisticRegression"
   ]
  },
  {
   "cell_type": "code",
   "execution_count": 82,
   "id": "1f36c02b",
   "metadata": {},
   "outputs": [
    {
     "data": {
      "text/html": [
       "<div>\n",
       "<style scoped>\n",
       "    .dataframe tbody tr th:only-of-type {\n",
       "        vertical-align: middle;\n",
       "    }\n",
       "\n",
       "    .dataframe tbody tr th {\n",
       "        vertical-align: top;\n",
       "    }\n",
       "\n",
       "    .dataframe thead th {\n",
       "        text-align: right;\n",
       "    }\n",
       "</style>\n",
       "<table border=\"1\" class=\"dataframe\">\n",
       "  <thead>\n",
       "    <tr style=\"text-align: right;\">\n",
       "      <th></th>\n",
       "      <th>coef</th>\n",
       "    </tr>\n",
       "  </thead>\n",
       "  <tbody>\n",
       "    <tr>\n",
       "      <th>rude</th>\n",
       "      <td>3.374309</td>\n",
       "    </tr>\n",
       "    <tr>\n",
       "      <th>bland</th>\n",
       "      <td>3.356885</td>\n",
       "    </tr>\n",
       "    <tr>\n",
       "      <th>worst</th>\n",
       "      <td>3.346119</td>\n",
       "    </tr>\n",
       "    <tr>\n",
       "      <th>disappoint</th>\n",
       "      <td>3.040002</td>\n",
       "    </tr>\n",
       "    <tr>\n",
       "      <th>terribl</th>\n",
       "      <td>2.916475</td>\n",
       "    </tr>\n",
       "    <tr>\n",
       "      <th>...</th>\n",
       "      <td>...</td>\n",
       "    </tr>\n",
       "    <tr>\n",
       "      <th>love</th>\n",
       "      <td>-3.220163</td>\n",
       "    </tr>\n",
       "    <tr>\n",
       "      <th>best</th>\n",
       "      <td>-3.572072</td>\n",
       "    </tr>\n",
       "    <tr>\n",
       "      <th>great</th>\n",
       "      <td>-4.157590</td>\n",
       "    </tr>\n",
       "    <tr>\n",
       "      <th>amaz</th>\n",
       "      <td>-4.194366</td>\n",
       "    </tr>\n",
       "    <tr>\n",
       "      <th>delici</th>\n",
       "      <td>-4.206316</td>\n",
       "    </tr>\n",
       "  </tbody>\n",
       "</table>\n",
       "<p>14100 rows × 1 columns</p>\n",
       "</div>"
      ],
      "text/plain": [
       "                coef\n",
       "rude        3.374309\n",
       "bland       3.356885\n",
       "worst       3.346119\n",
       "disappoint  3.040002\n",
       "terribl     2.916475\n",
       "...              ...\n",
       "love       -3.220163\n",
       "best       -3.572072\n",
       "great      -4.157590\n",
       "amaz       -4.194366\n",
       "delici     -4.206316\n",
       "\n",
       "[14100 rows x 1 columns]"
      ]
     },
     "execution_count": 82,
     "metadata": {},
     "output_type": "execute_result"
    }
   ],
   "source": [
    "logreg = LogisticRegression()\n",
    "logreg.fit(X_res, y_res)\n",
    "log_odds = logreg.coef_[0]\n",
    "columns=tfidf.get_feature_names()\n",
    "pd.DataFrame(log_odds, \n",
    "             columns, \n",
    "             columns=['coef'])\\\n",
    "            .sort_values(by='coef', ascending=False)"
   ]
  },
  {
   "cell_type": "markdown",
   "id": "304dac08",
   "metadata": {},
   "source": [
    "## Using RandomForestClassifier"
   ]
  },
  {
   "cell_type": "code",
   "execution_count": 85,
   "id": "d9aa0713",
   "metadata": {},
   "outputs": [
    {
     "name": "stdout",
     "output_type": "stream",
     "text": [
      "Features sorted by their score: \n",
      "[(0.019, 'delici'), (0.018, 'great'), (0.0177, 'amaz'), (0.0112, 'love'), (0.0109, 'rude'), (0.0102, 'best'), (0.009, 'perfect'), (0.0085, 't'), (0.0078, 'good'), (0.0074, 'recommend'), (0.0072, 'disappoint'), (0.0071, 'better'), (0.0071, 'alway'), (0.007, 'worst'), (0.0069, 'favorit'), (0.0069, 'bland'), (0.0062, 'ask'), (0.0057, 'dri'), (0.0053, 'money'), (0.0052, 'everyth'), (0.005, 'place'), (0.005, 'cheesesteak'), (0.0048, 'terribl'), (0.0048, 'spot'), (0.0048, 'food'), (0.0047, 'fresh'), (0.0046, 'told'), (0.0044, 'horribl'), (0.0044, 'definit'), (0.0043, 'just'), (0.0042, 'meat'), (0.0042, 'don'), (0.004, 'steak'), (0.004, 's'), (0.004, 'order'), (0.0038, 'custom'), (0.0038, 'chees'), (0.0037, 'menu'), (0.0037, 'like'), (0.0036, 'said'), (0.0036, 'friend'), (0.0036, 'bad'), (0.0035, 'veri'), (0.0034, 'visit'), (0.0034, 'nice'), (0.0033, 'servic'), (0.0033, 'philli'), (0.0033, 'awesom'), (0.0032, 'tast'), (0.0032, 'tabl'), (0.0031, 'excel'), (0.003, 'sandwich'), (0.0029, 'wait'), (0.0029, 'realli'), (0.0028, 'tri'), (0.0028, 'mediocr'), (0.0028, 'atmospher'), (0.0027, 'geno'), (0.0027, 'didn'), (0.0027, 'dessert'), (0.0026, 'share'), (0.0026, 'bit'), (0.0025, 'poor'), (0.0025, 'philadelphia'), (0.0025, 'pat'), (0.0025, 'onli'), (0.0025, 'everi'), (0.0024, 'worth'), (0.0024, 'time'), (0.0024, 'peopl'), (0.0024, 'manag'), (0.0024, 'becaus'), (0.0023, 'restaur'), (0.0023, 'line'), (0.0023, 'experi'), (0.0022, 'sure'), (0.0022, 'minut'), (0.0022, 'lunch'), (0.0022, 'flavor'), (0.0022, 'enjoy'), (0.0022, 'dish'), (0.0022, 'come'), (0.0022, 'beauti'), (0.0021, 'want'), (0.0021, 'pretti'), (0.0021, 'overpr'), (0.0021, 'did'), (0.002, 'way'), (0.002, 'wast'), (0.002, 'unfortun'), (0.002, 'quick'), (0.0019, 'wonder'), (0.0019, 'seat'), (0.0019, 'option'), (0.0019, 'mani'), (0.0019, 'long'), (0.0019, 'got'), (0.0019, 'eat'), (0.0019, 'came'), (0.0019, 'bread'), (0.0018, 'went'), (0.0018, 've'), (0.0018, 'spici'), (0.0018, 'soup'), (0.0018, 'say'), (0.0018, 'review'), (0.0018, 'noth'), (0.0018, 'market'), (0.0018, 'fun'), (0.0018, 'fri'), (0.0018, 'dumpl'), (0.0018, 'dinner'), (0.0018, 'cold'), (0.0018, 'brunch'), (0.0018, 'anoth'), (0.0017, 'wasn'), (0.0017, 'think'), (0.0017, 'sweet'), (0.0017, 'ramen'), (0.0017, 'm'), (0.0017, 'lack'), (0.0017, 'hype'), (0.0017, 'fast'), (0.0017, 'crowd'), (0.0017, 'away'), (0.0016, 'trap'), (0.0016, 'staff'), (0.0016, 'right'), (0.0016, 'ok'), (0.0016, 'make'), (0.0016, 'look'), (0.0016, 'left'), (0.0015, 'reserv'), (0.0015, 'rate'), (0.0015, 'overr'), (0.0015, 'meal'), (0.0015, 'littl'), (0.0015, 'high'), (0.0015, 'happi'), (0.0015, 'flavorless'), (0.0015, 'fantast'), (0.0015, 'expect'), (0.0015, 'drink'), (0.0015, 'citi'), (0.0015, 'cash'), (0.0015, 'attitud'), (0.0014, 'whiz'), (0.0014, 'weekend'), (0.0014, 'understand'), (0.0014, 'street'), (0.0014, 'price'), (0.0014, 'portion'), (0.0014, 'lot'), (0.0014, 'hot'), (0.0014, 'guy'), (0.0014, 'decor'), (0.0014, 'crispi'), (0.0014, 'breakfast'), (0.0014, 'ani'), (0.0013, 'wouldn'), (0.0013, 'thing'), (0.0013, 'stop'), (0.0013, 'star'), (0.0013, 'select'), (0.0013, 'season'), (0.0013, 'pork'), (0.0013, 'paid'), (0.0013, 'outsid'), (0.0013, 'min'), (0.0013, 'mayb'), (0.0013, 'help'), (0.0013, 'half'), (0.0013, 'egg'), (0.0013, 'disgust'), (0.0013, 'day'), (0.0013, 'busi'), (0.0013, 'aw'), (0.0012, 'won'), (0.0012, 'use'), (0.0012, 'town'), (0.0012, 'tourist'), (0.0012, 'took'), (0.0012, 'tell'), (0.0012, 'small'), (0.0012, 'shop'), (0.0012, 'server'), (0.0012, 'satisfi'), (0.0012, 'pepper'), (0.0012, 'overal'), (0.0012, 'outdoor'), (0.0012, 'night'), (0.0012, 'lamb'), (0.0012, 'know'), (0.0012, 'howev'), (0.0012, 'french'), (0.0011, 'whi'), (0.0011, 'varieti'), (0.0011, 'super'), (0.0011, 'sinc'), (0.0011, 'pay'), (0.0011, 'pack'), (0.0011, 'onion'), (0.0011, 'need'), (0.0011, 'instead'), (0.0011, 'insid'), (0.0011, 'huge'), (0.0011, 'hour'), (0.0011, 'hostess'), (0.0011, 'extrem'), (0.0011, 'els'), (0.0011, 'date'), (0.0011, 'cool'), (0.0011, 'befor'), (0.0011, 'area'), (0.001, 'wiz'), (0.001, 'tender'), (0.001, 'tasti'), (0.001, 'serv'), (0.001, 'return'), (0.001, 'receiv'), (0.001, 'pot'), (0.001, 'let'), (0.001, 'item'), (0.001, 'hummus'), (0.001, 'drove'), (0.001, 'dine'), (0.001, 'differ'), (0.001, 'cook'), (0.001, 'cocktail'), (0.001, 'chicken'), (0.001, 'broth'), (0.001, 'bare'), (0.001, 'bar'), (0.0009, 'year'), (0.0009, 'walk'), (0.0009, 'waiter'), (0.0009, 'tasteless'), (0.0009, 'suppos'), (0.0009, 'suck'), (0.0009, 'space'), (0.0009, 'someth'), (0.0009, 'soggi'), (0.0009, 'sit'), (0.0009, 'salt'), (0.0009, 'quit'), (0.0009, 'qualiti'), (0.0009, 'probabl'), (0.0009, 'prepar'), (0.0009, 'plate'), (0.0009, 'okay'), (0.0009, 'mushroom'), (0.0009, 'mouth'), (0.0009, 'll'), (0.0009, 'leav'), (0.0009, 'heart'), (0.0009, 'hard'), (0.0009, 'guess'), (0.0009, 'given'), (0.0009, 'gave'), (0.0009, 'fish'), (0.0009, 'excit'), (0.0009, 'especi'), (0.0009, 'd'), (0.0009, 'cream'), (0.0009, 'cours'), (0.0009, 'clean'), (0.0009, 'chef'), (0.0009, 'check'), (0.0009, 'attent'), (0.0009, 'ambianc'), (0.0009, 'actual'), (0.0008, 'usual'), (0.0008, 'uniqu'), (0.0008, 'turn'), (0.0008, 'tough'), (0.0008, 'total'), (0.0008, 'toast'), (0.0008, 'stuf'), (0.0008, 'sorri'), (0.0008, 'soft'), (0.0008, 'salti'), (0.0008, 'sad'), (0.0008, 'reason'), (0.0008, 'read'), (0.0008, 'park'), (0.0008, 'juici'), (0.0008, 'honest'), (0.0008, 'hair'), (0.0008, 'group'), (0.0008, 'gross'), (0.0008, 'final'), (0.0008, 'feel'), (0.0008, 'far'), (0.0008, 'earli'), (0.0008, 'dure'), (0.0008, 'bring'), (0.0008, 'bite'), (0.0008, 'averag'), (0.0008, 'anyth'), (0.0008, 'absolut'), (0.0007, 'zero'), (0.0007, 'yell'), (0.0007, 'wrong'), (0.0007, 'week'), (0.0007, 'water'), (0.0007, 'waitress'), (0.0007, 'trip'), (0.0007, 'trash'), (0.0007, 'thought'), (0.0007, 'surpris'), (0.0007, 'special'), (0.0007, 'save'), (0.0007, 'salad'), (0.0007, 'real'), (0.0007, 'pm'), (0.0007, 'phenomen'), (0.0007, 'person'), (0.0007, 'open'), (0.0007, 'onc'), (0.0007, 'new'), (0.0007, 'meh'), (0.0007, 'list'), (0.0007, 'light'), (0.0007, 'jim'), (0.0007, 'isn'), (0.0007, 'ice'), (0.0007, 'hit'), (0.0007, 'heard'), (0.0007, 'hand'), (0.0007, 'grill'), (0.0007, 'felt'), (0.0007, 'end'), (0.0007, 'decid'), (0.0007, 'decent'), (0.0007, 'cuisin'), (0.0007, 'complet'), (0.0007, 'clear'), (0.0007, 'choic'), (0.0007, 'care'), (0.0007, 'bun'), (0.0007, 'big'), (0.0007, 'beef'), (0.0007, 'basic'), (0.0007, 'ate'), (0.0006, 'wors'), (0.0006, 'warm'), (0.0006, 'vibe'), (0.0006, 'twice'), (0.0006, 'thank'), (0.0006, 'somewher'), (0.0006, 'shrimp'), (0.0006, 'saw'), (0.0006, 'saturday'), (0.0006, 'rice'), (0.0006, 'refus'), (0.0006, 'provolon'), (0.0006, 'popular'), (0.0006, 'old'), (0.0006, 'oh'), (0.0006, 'noodl'), (0.0006, 'mind'), (0.0006, 'locat'), (0.0006, 'local'), (0.0006, 'live'), (0.0006, 'kind'), (0.0006, 'kiki是我们的服务员'), (0.0006, 'incred'), (0.0006, 'impress'), (0.0006, 'hope'), (0.0006, 'home'), (0.0006, 'glad'), (0.0006, 'forget'), (0.0006, 'finish'), (0.0006, 'fine'), (0.0006, 'extra'), (0.0006, 'expens'), (0.0006, 'everyon'), (0.0006, 'environ'), (0.0006, 'doesn'), (0.0006, 'dalessandro'), (0.0006, 'couldn'), (0.0006, 'charg'), (0.0006, 'center'), (0.0006, 'cattl'), (0.0006, 'bother'), (0.0006, 'authent'), (0.0006, 'atm'), (0.0006, 'arriv'), (0.0006, 'appar'), (0.0006, 'abl'), (0.0005, 'yelp'), (0.0005, 'write'), (0.0005, 'work'), (0.0005, 'wish'), (0.0005, 'weren'), (0.0005, 'waffl'), (0.0005, 'veget'), (0.0005, 'sunday'), (0.0005, 'style'), (0.0005, 'start'), (0.0005, 'solid'), (0.0005, 'short'), (0.0005, 'second'), (0.0005, 'sat'), (0.0005, 'roll'), (0.0005, 'roast'), (0.0005, 'produc'), (0.0005, 'pricey'), (0.0005, 'potato'), (0.0005, 'plus'), (0.0005, 'plenti'), (0.0005, 'pizza'), (0.0005, 'pick'), (0.0005, 'phone'), (0.0005, 'parti'), (0.0005, 'offer'), (0.0005, 'na'), (0.0005, 'mistak'), (0.0005, 'miss'), (0.0005, 'mexican'), (0.0005, 'mess'), (0.0005, 'mention'), (0.0005, 'mean'), (0.0005, 'life'), (0.0005, 'later'), (0.0005, 'husband'), (0.0005, 'host'), (0.0005, 'greasi'), (0.0005, 'fix'), (0.0005, 'fan'), (0.0005, 'famili'), (0.0005, 'employe'), (0.0005, 'elsewher'), (0.0005, 'easili'), (0.0005, 'door'), (0.0005, 'dollar'), (0.0005, 'cut'), (0.0005, 'covid'), (0.0005, 'coffe'), (0.0005, 'classic'), (0.0005, 'chop'), (0.0005, 'choos'), (0.0005, 'chocol'), (0.0005, 'chang'), (0.0005, 'birthday'), (0.0005, 'believ'), (0.0005, 'beer'), (0.0005, 'appet'), (0.0005, 'apolog'), (0.0005, 'ad'), (0.0005, 'accept'), (0.0004, '超级好吃的一家店环境也好服务的小姐姐们都超级nice'), (0.0004, 'yummi'), (0.0004, 'yes'), (0.0004, 'wow'), (0.0004, 'world'), (0.0004, 'wit'), (0.0004, 'veggi'), (0.0004, 'vegan'), (0.0004, 'upstair'), (0.0004, 'underwhelm'), (0.0004, 'type'), (0.0004, 'tradit'), (0.0004, 'today'), (0.0004, 'taco'), (0.0004, 'sum'), (0.0004, 'suggest'), (0.0004, 'spice'), (0.0004, 'someon'), (0.0004, 'slow'), (0.0004, 'slice'), (0.0004, 'skip'), (0.0004, 'size'), (0.0004, 'sever'), (0.0004, 'rittenhous'), (0.0004, 'process'), (0.0004, 'problem'), (0.0004, 'prefer'), (0.0004, 'point'), (0.0004, 'pita'), (0.0004, 'piec'), (0.0004, 'pickl'), (0.0004, 'pasta'), (0.0004, 'owner'), (0.0004, 'notic'), (0.0004, 'margarita'), (0.0004, 'main'), (0.0004, 'loud'), (0.0004, 'lost'), (0.0004, 'lol'), (0.0004, 'load'), (0.0004, 'larg'), (0.0004, 'joint'), (0.0004, 'italian'), (0.0004, 'includ'), (0.0004, 'immedi'), (0.0004, 'idea'), (0.0004, 'hungri'), (0.0004, 'hoagi'), (0.0004, 'haven'), (0.0004, 'happen'), (0.0004, 'guacamol'), (0.0004, 'grab'), (0.0004, 'gone'), (0.0004, 'glass'), (0.0004, 'forward'), (0.0004, 'famous'), (0.0004, 'establish'), (0.0004, 'entir'), (0.0004, 'drive'), (0.0004, 'doubl'), (0.0004, 'donut'), (0.0004, 'dont'), (0.0004, 'doe'), (0.0004, 'dirti'), (0.0004, 'dim'), (0.0004, 'die'), (0.0004, 'delight'), (0.0004, 'cup'), (0.0004, 'creami'), (0.0004, 'crave'), (0.0004, 'coupl'), (0.0004, 'counter'), (0.0004, 'corn'), (0.0004, 'cooki'), (0.0004, 'complaint'), (0.0004, 'close'), (0.0004, 'cleaver'), (0.0004, 'chines'), (0.0004, 'chinatown'), (0.0004, 'chewi'), (0.0004, 'cake'), (0.0004, 'cafe'), (0.0004, 'burger'), (0.0004, 'benedict'), (0.0004, 'beet'), (0.0004, 'base'), (0.0004, 'avoid'), (0.0004, 'anywher'), (0.0004, 'american'), (0.0004, 'ahead'), (0.0004, 'add'), (0.0003, 'zahav'), (0.0003, 'word'), (0.0003, 'woman'), (0.0003, 'wine'), (0.0003, 'window'), (0.0003, 'wife'), (0.0003, 'white'), (0.0003, 'whatev'), (0.0003, 'welcom'), (0.0003, 'wagyu'), (0.0003, 'vendor'), (0.0003, 'vegetarian'), (0.0003, 'valu'), (0.0003, 'updat'), (0.0003, 'unseason'), (0.0003, 'unprofession'), (0.0003, 'unless'), (0.0003, 'uncomfort'), (0.0003, 'truli'), (0.0003, 'true'), (0.0003, 'treat'), (0.0003, 'touristi'), (0.0003, 'togeth'), (0.0003, 'tip'), (0.0003, 'tini'), (0.0003, 'throw'), (0.0003, 'textur'), (0.0003, 'termin'), (0.0003, 'terakawa'), (0.0003, 'tea'), (0.0003, 'talk'), (0.0003, 'takeout'), (0.0003, 'stuff'), (0.0003, 'steam'), (0.0003, 'stay'), (0.0003, 'stale'), (0.0003, 'squar'), (0.0003, 'spent'), (0.0003, 'south'), (0.0003, 'soon'), (0.0003, 'sometim'), (0.0003, 'smell'), (0.0003, 'simin小姐姐超级好'), (0.0003, 'sign'), (0.0003, 'shame'), (0.0003, 'set'), (0.0003, 'sauc'), (0.0003, 'run'), (0.0003, 'ruin'), (0.0003, 'rubberi'), (0.0003, 'ridicul'), (0.0003, 'ricotta'), (0.0003, 'rib'), (0.0003, 'rest'), (0.0003, 'remov'), (0.0003, 'rememb'), (0.0003, 'regular'), (0.0003, 'red'), (0.0003, 'recent'), (0.0003, 'realiz'), (0.0003, 'readi'), (0.0003, 'racist'), (0.0003, 'present'), (0.0003, 'pleasant'), (0.0003, 'pleas'), (0.0003, 'pictur'), (0.0003, 'patient'), (0.0003, 'pastri'), (0.0003, 'past'), (0.0003, 'parc'), (0.0003, 'pancak'), (0.0003, 'pan'), (0.0003, 'otherwis'), (0.0003, 'omg'), (0.0003, 'note'), (0.0003, 'multipl'), (0.0003, 'mix'), (0.0003, 'milk'), (0.0003, 'middl'), (0.0003, 'melt'), (0.0003, 'luke'), (0.0003, 'lucki'), (0.0003, 'longer'), (0.0003, 'liter'), (0.0003, 'limit'), (0.0003, 'level'), (0.0003, 'late'), (0.0003, 'knowledg'), (0.0003, 'knew'), (0.0003, 'kitchen'), (0.0003, 'king'), (0.0003, 'kinda'), (0.0003, 'ketchup'), (0.0003, 'ingredi'), (0.0003, 'ined'), (0.0003, 'indoor'), (0.0003, 'hous'), (0.0003, 'groceri'), (0.0003, 'green'), (0.0003, 'goe'), (0.0003, 'girl'), (0.0003, 'gino'), (0.0003, 'garlic'), (0.0003, 'garden'), (0.0003, 'frustrat'), (0.0003, 'friday'), (0.0003, 'floor'), (0.0003, 'filthi'), (0.0003, 'fall'), (0.0003, 'fact'), (0.0003, 'exact'), (0.0003, 'entre'), (0.0003, 'enchilada'), (0.0003, 'empti'), (0.0003, 'effici'), (0.0003, 'edamam'), (0.0003, 'desir'), (0.0003, 'deliveri'), (0.0003, 'crazi'), (0.0003, 'crab'), (0.0003, 'cozi'), (0.0003, 'cost'), (0.0003, 'corner'), (0.0003, 'complain'), (0.0003, 'compar'), (0.0003, 'comfort'), (0.0003, 'chubbi'), (0.0003, 'chip'), (0.0003, 'cheap'), (0.0003, 'chanc'), (0.0003, 'certain'), (0.0003, 'cashier'), (0.0003, 'card'), (0.0003, 'buy'), (0.0003, 'brussel'), (0.0003, 'brown'), (0.0003, 'brought'), (0.0003, 'boyfriend'), (0.0003, 'boil'), (0.0003, 'belli'), (0.0003, 'bartend'), (0.0003, 'avail'), (0.0003, 'aren'), (0.0003, 'appreci'), (0.0003, 'anyon'), (0.0003, 'annoy'), (0.0003, 'ambienc'), (0.0003, 'alreadi'), (0.0002, 'worker'), (0.0002, 'wise'), (0.0002, 'wing'), (0.0002, 'weird'), (0.0002, 'weekday'), (0.0002, 'websit'), (0.0002, 'weather'), (0.0002, 'watch'), (0.0002, 'wan'), (0.0002, 'visitor'), (0.0002, 'view'), (0.0002, 'vez'), (0.0002, 'venu'), (0.0002, 'upset'), (0.0002, 'uber'), (0.0002, 'typic'), (0.0002, 'truffl'), (0.0002, 'trendi'), (0.0002, 'travel'), (0.0002, 'tour'), (0.0002, 'touch'), (0.0002, 'toni'), (0.0002, 'ton'), (0.0002, 'tomato'), (0.0002, 'threw'), (0.0002, 'tho'), (0.0002, 'th'), (0.0002, 'test'), (0.0002, 'team'), (0.0002, 'talula'), (0.0002, 'taken'), (0.0002, 'ta'), (0.0002, 'sushi'), (0.0002, 'suraya'), (0.0002, 'sub'), (0.0002, 'strong'), (0.0002, 'store'), (0.0002, 'stomach'), (0.0002, 'stick'), (0.0002, 'step'), (0.0002, 'state'), (0.0002, 'starv'), (0.0002, 'standard'), (0.0002, 'stand'), (0.0002, 'squeez'), (0.0002, 'sprout'), (0.0002, 'split'), (0.0002, 'spend'), (0.0002, 'spectacular'), (0.0002, 'specialti'), (0.0002, 'speak'), (0.0002, 'sour'), (0.0002, 'social'), (0.0002, 'smoke'), (0.0002, 'slight'), (0.0002, 'skin'), (0.0002, 'situat'), (0.0002, 'singl'), (0.0002, 'simpli'), (0.0002, 'simpl'), (0.0002, 'similar'), (0.0002, 'sick'), (0.0002, 'shout'), (0.0002, 'separ'), (0.0002, 'seen'), (0.0002, 'search'), (0.0002, 'seafood'), (0.0002, 'sea'), (0.0002, 'scrambl'), (0.0002, 'scallion'), (0.0002, 'savori'), (0.0002, 'sausag'), (0.0002, 'sampl'), (0.0002, 'salmon'), (0.0002, 'sabrina'), (0.0002, 'rush'), (0.0002, 'room'), (0.0002, 'respons'), (0.0002, 'respect'), (0.0002, 'request'), (0.0002, 'refund'), (0.0002, 'raw'), (0.0002, 'rave'), (0.0002, 'ratio'), (0.0002, 'rang'), (0.0002, 'question'), (0.0002, 'quantiti'), (0.0002, 'push'), (0.0002, 'proceed'), (0.0002, 'pretzel'), (0.0002, 'practic'), (0.0002, 'possibl'), (0.0002, 'polici'), (0.0002, 'poison'), (0.0002, 'plain'), (0.0002, 'pie'), (0.0002, 'philadelphian'), (0.0002, 'pass'), (0.0002, 'overwhelm'), (0.0002, 'overhyp'), (0.0002, 'overcook'), (0.0002, 'outstand'), (0.0002, 'origin'), (0.0002, 'orang'), (0.0002, 'opinion'), (0.0002, 'oil'), (0.0002, 'odd'), (0.0002, 'normal'), (0.0002, 'nonetheless'), (0.0002, 'non'), (0.0002, 'neighbor'), (0.0002, 'negat'), (0.0002, 'near'), (0.0002, 'nd'), (0.0002, 'nativ'), (0.0002, 'nasti'), (0.0002, 'nacho'), (0.0002, 'mustard'), (0.0002, 'music'), (0.0002, 'mushi'), (0.0002, 'morn'), (0.0002, 'month'), (0.0002, 'met'), (0.0002, 'messi'), (0.0002, 'menus'), (0.0002, 'mayo'), (0.0002, 'matter'), (0.0002, 'man'), (0.0002, 'lil'), (0.0002, 'ladi'), (0.0002, 'korean'), (0.0002, 'known'), (0.0002, 'kid'), (0.0002, 'kept'), (0.0002, 'jump'), (0.0002, 'juic'), (0.0002, 'joke'), (0.0002, 'john'), (0.0002, 'job'), (0.0002, 'issu'), (0.0002, 'interior'), (0.0002, 'imposs'), (0.0002, 'import'), (0.0002, 'impecc'), (0.0002, 'imagin'), (0.0002, 'icon'), (0.0002, 'hubbi'), (0.0002, 'hotpot'), (0.0002, 'hotel'), (0.0002, 'heat'), (0.0002, 'hear'), (0.0002, 'healthi'), (0.0002, 'hate'), (0.0002, 'guest'), (0.0002, 'greas'), (0.0002, 'gorgeous'), (0.0002, 'gon'), (0.0002, 'generous'), (0.0002, 'general'), (0.0002, 'frozen'), (0.0002, 'frequent'), (0.0002, 'free'), (0.0002, 'forgot'), (0.0002, 'foodi'), (0.0002, 'follow'), (0.0002, 'fell'), (0.0002, 'favor'), (0.0002, 'fair'), (0.0002, 'fabul'), (0.0002, 'eye'), (0.0002, 'explor'), (0.0002, 'explain'), (0.0002, 'experienc'), (0.0002, 'entranc'), (0.0002, 'el'), (0.0002, 'eggplant'), (0.0002, 'edibl'), (0.0002, 'eaten'), (0.0002, 'easi'), (0.0002, 'duck'), (0.0002, 'drunk'), (0.0002, 'drop'), (0.0002, 'driver'), (0.0002, 'dream'), (0.0002, 'dog'), (0.0002, 'distanc'), (0.0002, 'diner'), (0.0002, 'difficult'), (0.0002, 'deserv'), (0.0002, 'depend'), (0.0002, 'deliv'), (0.0002, 'deli'), (0.0002, 'def'), (0.0002, 'deal'), (0.0002, 'dark'), (0.0002, 'dandelion'), (0.0002, 'cute'), (0.0002, 'crappi'), (0.0002, 'crap'), (0.0002, 'cover'), (0.0002, 'correct'), (0.0002, 'convers'), (0.0002, 'continu'), (0.0002, 'consist'), (0.0002, 'consid'), (0.0002, 'comment'), (0.0002, 'coast'), (0.0002, 'claim'), (0.0002, 'chill'), (0.0002, 'chili'), (0.0002, 'cheez'), (0.0002, 'cheesteak'), (0.0002, 'cheesi'), (0.0002, 'caus'), (0.0002, 'carri'), (0.0002, 'caramel'), (0.0002, 'car'), (0.0002, 'butter'), (0.0002, 'burnt'), (0.0002, 'bunch'), (0.0002, 'break'), (0.0002, 'box'), (0.0002, 'bowl'), (0.0002, 'book'), (0.0002, 'bomb'), (0.0002, 'blow'), (0.0002, 'block'), (0.0002, 'black'), (0.0002, 'belt'), (0.0002, 'bean'), (0.0002, 'bc'), (0.0002, 'bbq'), (0.0002, 'bathroom'), (0.0002, 'barbuzzo'), (0.0002, 'bao'), (0.0002, 'bakeri'), (0.0002, 'bake'), (0.0002, 'bacon'), (0.0002, 'attract'), (0.0002, 'asian'), (0.0002, 'appl'), (0.0002, 'app'), (0.0002, 'apart'), (0.0002, 'answer'), (0.0002, 'alright'), (0.0002, 'alon'), (0.0002, 'alcohol'), (0.0002, 'ago'), (0.0002, 'advertis'), (0.0002, 'advanc'), (0.0002, 'act'), (0.0002, 'accommod'), (0.0002, 'abov'), (0.0001, 'zoo'), (0.0001, 'zone'), (0.0001, 'yuzden'), (0.0001, 'yum'), (0.0001, 'yuck'), (0.0001, 'yourselv'), (0.0001, 'york'), (0.0001, 'yesterday'), (0.0001, 'yesss'), (0.0001, 'yelper'), (0.0001, 'yellow'), (0.0001, 'yeah'), (0.0001, 'ya'), (0.0001, 'y'), (0.0001, 'x'), (0.0001, 'wrap'), (0.0001, 'worri'), (0.0001, 'worn'), (0.0001, 'wonton'), (0.0001, 'winter'), (0.0001, 'win'), (0.0001, 'whizz'), (0.0001, 'whenev'), (0.0001, 'wheelchair'), (0.0001, 'whatsoev'), (0.0001, 'wet'), (0.0001, 'west'), (0.0001, 'wear'), (0.0001, 'wayyyyyyyyy'), (0.0001, 'wateri'), (0.0001, 'warn'), (0.0001, 'wander'), (0.0001, 'wall'), (0.0001, 'waitstaff'), (0.0001, 'waitlist'), (0.0001, 'w'), (0.0001, 'vs'), (0.0001, 'vote'), (0.0001, 'virtual'), (0.0001, 'vicin'), (0.0001, 'velvet'), (0.0001, 'vega'), (0.0001, 'various'), (0.0001, 'variat'), (0.0001, 'vanilla'), (0.0001, 'vacat'), (0.0001, 'v'), (0.0001, 'upsid'), (0.0001, 'unpleasasnt'), (0.0001, 'unpleas'), (0.0001, 'univers'), (0.0001, 'unimpress'), (0.0001, 'unfriend'), (0.0001, 'understood'), (0.0001, 'undercook'), (0.0001, 'unbeliev'), (0.0001, 'ummm'), (0.0001, 'ultim'), (0.0001, 'udon'), (0.0001, 'u'), (0.0001, 'twist'), (0.0001, 'turkey'), (0.0001, 'tuna'), (0.0001, 'tun'), (0.0001, 'tufoli'), (0.0001, 'tuesday'), (0.0001, 'trust'), (0.0001, 'truck'), (0.0001, 'trout'), (0.0001, 'treasur'), (0.0001, 'travesti'), (0.0001, 'transport'), (0.0001, 'train'), (0.0001, 'toss'), (0.0001, 'tortilla'), (0.0001, 'tonight'), (0.0001, 'tofu'), (0.0001, 'tire'), (0.0001, 'timer'), (0.0001, 'till'), (0.0001, 'tight'), (0.0001, 'thumb'), (0.0001, 'thrown'), (0.0001, 'thrill'), (0.0001, 'thirti'), (0.0001, 'thai'), (0.0001, 'tha'), (0.0001, 'text'), (0.0001, 'termini'), (0.0001, 'term'), (0.0001, 'tequila'), (0.0001, 'tend'), (0.0001, 'temperatur'), (0.0001, 'telephon'), (0.0001, 'tbh'), (0.0001, 'tax'), (0.0001, 'tartar'), (0.0001, 'tart'), (0.0001, 'tapa'), (0.0001, 'tap'), (0.0001, 'takoyaki'), (0.0001, 'tad'), (0.0001, 'süss'), (0.0001, 'syrup'), (0.0001, 'surround'), (0.0001, 'support'), (0.0001, 'superb'), (0.0001, 'sunni'), (0.0001, 'summer'), (0.0001, 'substanti'), (0.0001, 'subpar'), (0.0001, 'stupid'), (0.0001, 'stunk'), (0.0001, 'stuffi'), (0.0001, 'stuck'), (0.0001, 'stroganoff'), (0.0001, 'stringi'), (0.0001, 'straw'), (0.0001, 'stranger'), (0.0001, 'strang'), (0.0001, 'straight'), (0.0001, 'stori'), (0.0001, 'stool'), (0.0001, 'stood'), (0.0001, 'stink'), (0.0001, 'steep'), (0.0001, 'steakhous'), (0.0001, 'station'), (0.0001, 'starr'), (0.0001, 'stapl'), (0.0001, 'stall'), (0.0001, 'stack'), (0.0001, 'st'), (0.0001, 'squash'), (0.0001, 'spread'), (0.0001, 'spoon'), (0.0001, 'spoke'), (0.0001, 'spoil'), (0.0001, 'soy'), (0.0001, 'souvenir'), (0.0001, 'sound'), (0.0001, 'sort'), (0.0001, 'sorbet'), (0.0001, 'sooooo'), (0.0001, 'soooo'), (0.0001, 'sooo'), (0.0001, 'sooner'), (0.0001, 'sonni'), (0.0001, 'solurion'), (0.0001, 'solo'), (0.0001, 'sole'), (0.0001, 'soda'), (0.0001, 'snack'), (0.0001, 'smother'), (0.0001, 'smoothi'), (0.0001, 'smile'), (0.0001, 'smh'), (0.0001, 'smaller'), (0.0001, 'sloppi'), (0.0001, 'slap'), (0.0001, 'slam'), (0.0001, 'skimpi'), (0.0001, 'skimp'), (0.0001, 'skewer'), (0.0001, 'sister'), (0.0001, 'sip'), (0.0001, 'sink'), (0.0001, 'signific'), (0.0001, 'signatur'), (0.0001, 'sightse'), (0.0001, 'sidewalk'), (0.0001, 'shred'), (0.0001, 'shoyu'), (0.0001, 'shoutout'), (0.0001, 'shouldn'), (0.0001, 'shoulder'), (0.0001, 'shot'), (0.0001, 'shortest'), (0.0001, 'shit'), (0.0001, 'shirt'), (0.0001, 'shell'), (0.0001, 'sheep'), (0.0001, 'sharp'), (0.0001, 'shanghai'), (0.0001, 'shake'), (0.0001, 'sexist'), (0.0001, 'sent'), (0.0001, 'sens'), (0.0001, 'semblanc'), (0.0001, 'sell'), (0.0001, 'seed'), (0.0001, 'secur'), (0.0001, 'section'), (0.0001, 'seay'), (0.0001, 'scrumptious'), (0.0001, 'scream'), (0.0001, 'score'), (0.0001, 'scoop'), (0.0001, 'school'), (0.0001, 'schedul'), (0.0001, 'sceneri'), (0.0001, 'scene'), (0.0001, 'scallop'), (0.0001, 'satan'), (0.0001, 'sangria'), (0.0001, 'sampan'), (0.0001, 'salsa'), (0.0001, 'salesperson'), (0.0001, 'sake'), (0.0001, 'safe'), (0.0001, 'rule'), (0.0001, 'rudest'), (0.0001, 'round'), (0.0001, 'rough'), (0.0001, 'rose'), (0.0001, 'romant'), (0.0001, 'rock'), (0.0001, 'robatayaki'), (0.0001, 'road'), (0.0001, 'roach'), (0.0001, 'rip'), (0.0001, 'ring'), (0.0001, 'rich'), (0.0001, 'ribey'), (0.0001, 'result'), (0.0001, 'restroom'), (0.0001, 'respond'), (0.0001, 'resid'), (0.0001, 'research'), (0.0001, 'requir'), (0.0001, 'reput'), (0.0001, 'represent'), (0.0001, 'replac'), (0.0001, 'repeat'), (0.0001, 'repair'), (0.0001, 'renev'), (0.0001, 'remind'), (0.0001, 'remad'), (0.0001, 'relax'), (0.0001, 'relat'), (0.0001, 'rehears'), (0.0001, 'regret'), (0.0001, 'regist'), (0.0001, 'regardless'), (0.0001, 'refresh'), (0.0001, 'reflex'), (0.0001, 'refil'), (0.0001, 'refer'), (0.0001, 'recip'), (0.0001, 'reach'), (0.0001, 'rd'), (0.0001, 'rare'), (0.0001, 'random'), (0.0001, 'ranchero'), (0.0001, 'ran'), (0.0001, 'rais'), (0.0001, 'raini'), (0.0001, 'rain'), (0.0001, 'rabbit'), (0.0001, 'r'), (0.0001, 'quot'), (0.0001, 'quiet'), (0.0001, 'quest'), (0.0001, 'pull'), (0.0001, 'puff'), (0.0001, 'pud'), (0.0001, 'public'), (0.0001, 'pub'), (0.0001, 'proxim'), (0.0001, 'provid'), (0.0001, 'pros'), (0.0001, 'proper'), (0.0001, 'prompt'), (0.0001, 'promis'), (0.0001, 'profil'), (0.0001, 'profession'), (0.0001, 'privat'), (0.0001, 'prior'), (0.0001, 'prime'), (0.0001, 'prici'), (0.0001, 'previous'), (0.0001, 'pretenti'), (0.0001, 'prep'), (0.0001, 'pre'), (0.0001, 'pp'), (0.0001, 'pour'), (0.0001, 'potenti'), (0.0001, 'post'), (0.0001, 'posit'), (0.0001, 'pop'), (0.0001, 'pomegran'), (0.0001, 'polit'), (0.0001, 'poach'), (0.0001, 'play'), (0.0001, 'planet'), (0.0001, 'plan'), (0.0001, 'pitcher'), (0.0001, 'pink'), (0.0001, 'pile'), (0.0001, 'picki'), (0.0001, 'photo'), (0.0001, 'phl'), (0.0001, 'permit'), (0.0001, 'period'), (0.0001, 'perhap'), (0.0001, 'peanut'), (0.0001, 'peak'), (0.0001, 'peach'), (0.0001, 'partner'), (0.0001, 'particular'), (0.0001, 'parmesan'), (0.0001, 'pari'), (0.0001, 'par'), (0.0001, 'paper'), (0.0001, 'pao'), (0.0001, 'pandem'), (0.0001, 'palat'), (0.0001, 'pair'), (0.0001, 'pain'), (0.0001, 'paella'), (0.0001, 'pa'), (0.0001, 'oxtail'), (0.0001, 'overpow'), (0.0001, 'outrag'), (0.0001, 'organ'), (0.0001, 'opt'), (0.0001, 'onlin'), (0.0001, 'omelett'), (0.0001, 'omelet'), (0.0001, 'ol'), (0.0001, 'oinon'), (0.0001, 'octopus'), (0.0001, 'occas'), (0.0001, 'obvious'), (0.0001, 'obnoxi'), (0.0001, 'o'), (0.0001, 'nyer'), (0.0001, 'nyc'), (0.0001, 'ny'), (0.0001, 'nut'), (0.0001, 'number'), (0.0001, 'novel'), (0.0001, 'notch'), (0.0001, 'nostalg'), (0.0001, 'north'), (0.0001, 'nope'), (0.0001, 'noobvgvvmvkvnn'), (0.0001, 'noisi'), (0.0001, 'nois'), (0.0001, 'nightmar'), (0.0001, 'neighborhood'), (0.0001, 'needless'), (0.0001, 'neck'), (0.0001, 'nearbi'), (0.0001, 'nazi'), (0.0001, 'nation'), (0.0001, 'napkin'), (0.0001, 'nanxianf'), (0.0001, 'n'), (0.0001, 'mush'), (0.0001, 'movi'), (0.0001, 'mous'), (0.0001, 'mop'), (0.0001, 'mood'), (0.0001, 'monkey'), (0.0001, 'monday'), (0.0001, 'moment'), (0.0001, 'mom'), (0.0001, 'mole'), (0.0001, 'moist'), (0.0001, 'modern'), (0.0001, 'miso'), (0.0001, 'minuscul'), (0.0001, 'mini'), (0.0001, 'mimosa'), (0.0001, 'mike'), (0.0001, 'microwav'), (0.0001, 'mice'), (0.0001, 'mgyni'), (0.0001, 'mezz'), (0.0001, 'memori'), (0.0001, 'memor'), (0.0001, 'meet'), (0.0001, 'medium'), (0.0001, 'mediterranean'), (0.0001, 'mediteranian'), (0.0001, 'meatbal'), (0.0001, 'mayu'), (0.0001, 'max'), (0.0001, 'match'), (0.0001, 'massiv'), (0.0001, 'mask'), (0.0001, 'mash'), (0.0001, 'mark'), (0.0001, 'margin'), (0.0001, 'map'), (0.0001, 'manakeesh'), (0.0001, 'major'), (0.0001, 'mad'), (0.0001, 'lyft'), (0.0001, 'luckili'), (0.0001, 'luck'), (0.0001, 'low'), (0.0001, 'lover'), (0.0001, 'lose'), (0.0001, 'lordddd'), (0.0001, 'loiter'), (0.0001, 'log'), (0.0001, 'lobster'), (0.0001, 'loaf'), (0.0001, 'lo'), (0.0001, 'liver'), (0.0001, 'littk'), (0.0001, 'litt'), (0.0001, 'listen'), (0.0001, 'liquid'), (0.0001, 'lie'), (0.0001, 'lettuc'), (0.0001, 'lemonad'), (0.0001, 'lemon'), (0.0001, 'legit'), (0.0001, 'leg'), (0.0001, 'leftov'), (0.0001, 'lech'), (0.0001, 'lebanes'), (0.0001, 'learn'), (0.0001, 'lean'), (0.0001, 'leaf'), (0.0001, 'layer'), (0.0001, 'latt'), (0.0001, 'larger'), (0.0001, 'land'), (0.0001, 'kobe'), (0.0001, 'knot'), (0.0001, 'knock'), (0.0001, 'kicker'), (0.0001, 'kick'), (0.0001, 'kebab'), (0.0001, 'katsu'), (0.0001, 'judg'), (0.0001, 'join'), (0.0001, 'jersey'), (0.0001, 'jam'), (0.0001, 'isra'), (0.0001, 'ish'), (0.0001, 'irish'), (0.0001, 'involv'), (0.0001, 'invit'), (0.0001, 'intim'), (0.0001, 'insist'), (0.0001, 'insan'), (0.0001, 'initi'), (0.0001, 'inform'), (0.0001, 'info'), (0.0001, 'industri'), (0.0001, 'individu'), (0.0001, 'indiffer'), (0.0001, 'inconveni'), (0.0001, 'inch'), (0.0001, 'inappropri'), (0.0001, 'improv'), (0.0001, 'imo'), (0.0001, 'im'), (0.0001, 'ignor'), (0.0001, 'idk'), (0.0001, 'hustl'), (0.0001, 'hurt'), (0.0001, 'hrs'), (0.0001, 'hr'), (0.0001, 'hospit'), (0.0001, 'horrend'), (0.0001, 'honey'), (0.0001, 'homi'), (0.0001, 'homey'), (0.0001, 'homemad'), (0.0001, 'holiday'), (0.0001, 'hold'), (0.0001, 'histori'), (0.0001, 'histor'), (0.0001, 'hint'), (0.0001, 'higher'), (0.0001, 'hey'), (0.0001, 'hell'), (0.0001, 'held'), (0.0001, 'heaven'), (0.0001, 'heater'), (0.0001, 'hearti'), (0.0001, 'health'), (0.0001, 'head'), (0.0001, 'havent'), (0.0001, 'hassl'), (0.0001, 'hash'), (0.0001, 'harder'), (0.0001, 'harass'), (0.0001, 'hang'), (0.0001, 'handl'), (0.0001, 'ham'), (0.0001, 'halibut'), (0.0001, 'hadn'), (0.0001, 'gyoza'), (0.0001, 'guilti'), (0.0001, 'guac'), (0.0001, 'grubhub'), (0.0001, 'grub'), (0.0001, 'ground'), (0.0001, 'gristl'), (0.0001, 'gripe'), (0.0001, 'grew'), (0.0001, 'greet'), (0.0001, 'greedi'), (0.0001, 'greatest'), (0.0001, 'grandfath'), (0.0001, 'grand'), (0.0001, 'gracious'), (0.0001, 'grace'), (0.0001, 'gotten'), (0.0001, 'god'), (0.0001, 'gnocchi'), (0.0001, 'gluten'), (0.0001, 'girlfriend'), (0.0001, 'gift'), (0.0001, 'giant'), (0.0001, 'georg'), (0.0001, 'generic'), (0.0001, 'gem'), (0.0001, 'garnish'), (0.0001, 'garbag'), (0.0001, 'game'), (0.0001, 'fyi'), (0.0001, 'futur'), (0.0001, 'fuss'), (0.0001, 'furthermor'), (0.0001, 'fulli'), (0.0001, 'fulfil'), (0.0001, 'fruiti'), (0.0001, 'fruit'), (0.0001, 'frite'), (0.0001, 'frank'), (0.0001, 'forgotten'), (0.0001, 'forev'), (0.0001, 'foot'), (0.0001, 'fool'), (0.0001, 'fold'), (0.0001, 'foie'), (0.0001, 'fluffi'), (0.0001, 'flower'), (0.0001, 'florida'), (0.0001, 'fli'), (0.0001, 'flat'), (0.0001, 'flag'), (0.0001, 'fixin'), (0.0001, 'fit'), (0.0001, 'fir'), (0.0001, 'filet'), (0.0001, 'figur'), (0.0001, 'fight'), (0.0001, 'fiancé'), (0.0001, 'femal'), (0.0001, 'feet'), (0.0001, 'feed'), (0.0001, 'fee'), (0.0001, 'fave'), (0.0001, 'fatti'), (0.0001, 'fatteh'), (0.0001, 'fat'), (0.0001, 'farm'), (0.0001, 'fanci'), (0.0001, 'fame'), (0.0001, 'fail'), (0.0001, 'face'), (0.0001, 'f'), (0.0001, 'explan'), (0.0001, 'exist'), (0.0001, 'exercis'), (0.0001, 'excus'), (0.0001, 'exampl'), (0.0001, 'everytim'), (0.0001, 'everyday'), (0.0001, 'eventu'), (0.0001, 'event'), (0.0001, 'estim'), (0.0001, 'escort'), (0.0001, 'equal'), (0.0001, 'entri'), (0.0001, 'enter'), (0.0001, 'english'), (0.0001, 'embarrass'), (0.0001, 'email'), (0.0001, 'effin'), (0.0001, 'edward'), (0.0001, 'eateri'), (0.0001, 'eater'), (0.0001, 'eastern'), (0.0001, 'east'), (0.0001, 'easier'), (0.0001, 'earn'), (0.0001, 'dug'), (0.0001, 'dude'), (0.0001, 'dress'), (0.0001, 'dread'), (0.0001, 'draw'), (0.0001, 'downtown'), (0.0001, 'downstair'), (0.0001, 'downsid'), (0.0001, 'downhil'), (0.0001, 'doughi'), (0.0001, 'dough'), (0.0001, 'doubt'), (0.0001, 'dot'), (0.0001, 'doordash'), (0.0001, 'dogfood'), (0.0001, 'doctor'), (0.0001, 'divin'), (0.0001, 'divers'), (0.0001, 'disrespect'), (0.0001, 'disproportion'), (0.0001, 'dismiss'), (0.0001, 'dislik'), (0.0001, 'discount'), (0.0001, 'disappear'), (0.0001, 'direct'), (0.0001, 'dip'), (0.0001, 'din'), (0.0001, 'destin'), (0.0001, 'despit'), (0.0001, 'design'), (0.0001, 'desert'), (0.0001, 'describ'), (0.0001, 'depart'), (0.0001, 'dens'), (0.0001, 'delish'), (0.0001, 'delic'), (0.0001, 'delect'), (0.0001, 'deeeeelici'), (0.0001, 'declin'), (0.0001, 'decis'), (0.0001, 'decad'), (0.0001, 'dead'), (0.0001, 'dc'), (0.0001, 'daughter'), (0.0001, 'danc'), (0.0001, 'damn'), (0.0001, 'dairi'), (0.0001, 'daili'), (0.0001, 'cutlet'), (0.0001, 'current'), (0.0001, 'cultur'), (0.0001, 'crust'), (0.0001, 'critic'), (0.0001, 'crisp'), (0.0001, 'creme'), (0.0001, 'credit'), (0.0001, 'creativ'), (0.0001, 'creat'), (0.0001, 'crawl'), (0.0001, 'cramp'), (0.0001, 'cram'), (0.0001, 'cracker'), (0.0001, 'crabmeat'), (0.0001, 'countri'), (0.0001, 'count'), (0.0001, 'costum'), (0.0001, 'conveyor'), (0.0001, 'conveni'), (0.0001, 'control'), (0.0001, 'contriv'), (0.0001, 'contain'), (0.0001, 'contact'), (0.0001, 'constant'), (0.0001, 'confus'), (0.0001, 'confirm'), (0.0001, 'condiment'), (0.0001, 'conclus'), (0.0001, 'concern'), (0.0001, 'concept'), (0.0001, 'complement'), (0.0001, 'competit'), (0.0001, 'comparison'), (0.0001, 'compani'), (0.0001, 'combo'), (0.0001, 'combin'), (0.0001, 'color'), (0.0001, 'colleg'), (0.0001, 'collect'), (0.0001, 'coke'), (0.0001, 'clue'), (0.0001, 'cloth'), (0.0001, 'closer'), (0.0001, 'cleanli'), (0.0001, 'cleaner'), (0.0001, 'class'), (0.0001, 'chunk'), (0.0001, 'chose'), (0.0001, 'china'), (0.0001, 'child'), (0.0001, 'chicago'), (0.0001, 'cherri'), (0.0001, 'cheesecak'), (0.0001, 'chee'), (0.0001, 'cheddar'), (0.0001, 'cheaper'), (0.0001, 'chat'), (0.0001, 'charm'), (0.0001, 'char'), (0.0001, 'champagn'), (0.0001, 'challah'), (0.0001, 'chair'), (0.0001, 'chain'), (0.0001, 'cevich'), (0.0001, 'central'), (0.0001, 'celebr'), (0.0001, 'cauliflow'), (0.0001, 'cater'), (0.0001, 'catch'), (0.0001, 'casual'), (0.0001, 'case'), (0.0001, 'carn'), (0.0001, 'carmen'), (0.0001, 'cantones'), (0.0001, 'campus'), (0.0001, 'calori'), (0.0001, 'california'), (0.0001, 'café'), (0.0001, 'cabbag'), (0.0001, 'byob'), (0.0001, 'bv'), (0.0001, 'butteri'), (0.0001, 'bustl'), (0.0001, 'bus'), (0.0001, 'burrito'), (0.0001, 'build'), (0.0001, 'buffalo'), (0.0001, 'budino'), (0.0001, 'bud'), (0.0001, 'buck'), (0.0001, 'brows'), (0.0001, 'brother'), (0.0001, 'broccoli'), (0.0001, 'bright'), (0.0001, 'breast'), (0.0001, 'branzino'), (0.0001, 'boy'), (0.0001, 'bought'), (0.0001, 'bottl'), (0.0001, 'born'), (0.0001, 'bore'), (0.0001, 'booth'), (0.0001, 'bone'), (0.0001, 'blueberri'), (0.0001, 'blue'), (0.0001, 'blown'), (0.0001, 'blossom'), (0.0001, 'blew'), (0.0001, 'blend'), (0.0001, 'blame'), (0.0001, 'blah'), (0.0001, 'biscuit'), (0.0001, 'biggest'), (0.0001, 'bigger'), (0.0001, 'bewar'), (0.0001, 'bethigg'), (0.0001, 'besid'), (0.0001, 'benefit'), (0.0001, 'bell'), (0.0001, 'beiler'), (0.0001, 'behavior'), (0.0001, 'begin'), (0.0001, 'becom'), (0.0001, 'becam'), (0.0001, 'beat'), (0.0001, 'bass'), (0.0001, 'basket'), (0.0001, 'basement'), (0.0001, 'banana'), (0.0001, 'baller'), (0.0001, 'bagel'), (0.0001, 'bag'), (0.0001, 'baba'), (0.0001, 'b'), (0.0001, 'award'), (0.0001, 'avocado'), (0.0001, 'attempt'), (0.0001, 'attack'), (0.0001, 'assort'), (0.0001, 'ass'), (0.0001, 'artifici'), (0.0001, 'arrog'), (0.0001, 'arrang'), (0.0001, 'argu'), (0.0001, 'arab'), (0.0001, 'appropri'), (0.0001, 'appetit'), (0.0001, 'appear'), (0.0001, 'appeal'), (0.0001, 'anytim'), (0.0001, 'anymor'), (0.0001, 'anticip'), (0.0001, 'anniversari'), (0.0001, 'angel'), (0.0001, 'amish'), (0.0001, 'america'), (0.0001, 'altogeth'), (0.0001, 'allow'), (0.0001, 'allerg'), (0.0001, 'al'), (0.0001, 'aisl'), (0.0001, 'airport'), (0.0001, 'agre'), (0.0001, 'aggress'), (0.0001, 'age'), (0.0001, 'afterward'), (0.0001, 'afternoon'), (0.0001, 'afford'), (0.0001, 'aesthet'), (0.0001, 'advis'), (0.0001, 'adventur'), (0.0001, 'adult'), (0.0001, 'addit'), (0.0001, 'addict'), (0.0001, 'actor'), (0.0001, 'acknowledg'), (0.0001, 'accord'), (0.0001, 'accident'), (0.0001, 'ac'), (0.0001, 'abund'), (0.0, '這兩家都比我吃過的任何一個chees'), (0.0, '老實說我比較喜歡這一家多過於pat'), (0.0, '态度snooti'), (0.0, '幾乎每個遊客都會來吃geno跟pat'), (0.0, '假日一定要先在yelp上排隊'), (0.0, 'último'), (0.0, 'êtat'), (0.0, 'élysé'), (0.0, 'zz'), (0.0, 'zygot'), (0.0, 'zum'), (0.0, 'zuchinni'), (0.0, 'zucchini'), (0.0, 'zucca'), (0.0, 'zoom'), (0.0, 'zomg'), (0.0, 'zombi'), (0.0, 'zoey'), (0.0, 'zoe'), (0.0, 'zllr'), (0.0, 'zis'), (0.0, 'zip'), (0.0, 'zingi'), (0.0, 'zinger'), (0.0, 'zing'), (0.0, 'zillion'), (0.0, 'zilch'), (0.0, 'zig'), (0.0, 'zhug'), (0.0, 'zhourat'), (0.0, 'zhou'), (0.0, 'zhi'), (0.0, 'zhen'), (0.0, 'zesti'), (0.0, 'zest'), (0.0, 'zere'), (0.0, 'zeppelin'), (0.0, 'zenith'), (0.0, 'zen'), (0.0, 'zeess'), (0.0, 'zealand'), (0.0, 'ze'), (0.0, 'zchug'), (0.0, 'zavino'), (0.0, 'zatar'), (0.0, 'zataar'), (0.0, 'zat'), (0.0, 'zapata'), (0.0, 'zahavrestaraunt'), (0.0, 'zahavian'), (0.0, 'zahab'), (0.0, 'zagat'), (0.0, 'zag'), (0.0, 'zaftig'), (0.0, 'zack'), (0.0, 'zachari'), (0.0, 'zach'), (0.0, 'zabaglion'), (0.0, 'zaatar'), (0.0, 'zaataar'), (0.0, 'za'), (0.0, 'z'), (0.0, 'yuzu'), (0.0, 'yuyuan'), (0.0, 'yuuup'), (0.0, 'yurt'), (0.0, 'yuppi'), (0.0, 'yup'), (0.0, 'yuntif'), (0.0, 'yummy'), (0.0, 'yummo'), (0.0, 'yummmyyyy'), (0.0, 'yummmmmmmmmmm'), (0.0, 'yummmmmmm'), (0.0, 'yummmmmmi'), (0.0, 'yummmmm'), (0.0, 'yummmmi'), (0.0, 'yummmm'), (0.0, 'yummmi'), (0.0, 'yummm'), (0.0, 'yummin'), (0.0, 'yummiest'), (0.0, 'yummier'), (0.0, 'yumme'), (0.0, 'yumm'), (0.0, 'yukk'), (0.0, 'yuki'), (0.0, 'yuk'), (0.0, 'yuengl'), (0.0, 'yucki'), (0.0, 'yucca'), (0.0, 'yuan'), (0.0, 'yu'), (0.0, 'ysister'), (0.0, 'yrs'), (0.0, 'yr'), (0.0, 'yoğurt'), (0.0, 'yozu'), (0.0, 'youv'), (0.0, 'youtub'), (0.0, 'youth'), (0.0, 'yous'), (0.0, 'youngster'), (0.0, 'youngest'), (0.0, 'younger'), (0.0, 'young'), (0.0, 'youll'), (0.0, 'youd'), (0.0, 'yoself'), (0.0, 'yorkshir'), (0.0, 'yorker'), (0.0, 'yore'), (0.0, 'yoo'), (0.0, 'yong'), (0.0, 'yolo'), (0.0, 'yolki'), (0.0, 'yolk'), (0.0, 'yoke'), (0.0, 'yogurt'), (0.0, 'yoghurt'), (0.0, 'yoga'), (0.0, 'yobatayaki'), (0.0, 'yo'), (0.0, 'yn'), (0.0, 'ymo'), (0.0, 'ymmv'), (0.0, 'yiu'), (0.0, 'yisrael'), (0.0, 'yippi'), (0.0, 'yike'), (0.0, 'yield'), (0.0, 'yi'), (0.0, 'yhh'), (0.0, 'yeungl'), (0.0, 'yeung'), (0.0, 'yesssssss'), (0.0, 'yesssss'), (0.0, 'yessss'), (0.0, 'yess'), (0.0, 'yep'), (0.0, 'yenta'), (0.0, 'yemeni'), (0.0, 'yelptalk'), (0.0, 'yelpito'), (0.0, 'yelpin'), (0.0, 'yelpian'), (0.0, 'yellowtel'), (0.0, 'yellowtail'), (0.0, 'yellowish'), (0.0, 'yellowfish'), (0.0, 'yellowfin'), (0.0, 'yehuda'), (0.0, 'yeesh'), (0.0, 'yeee'), (0.0, 'yeasti'), (0.0, 'yeast'), (0.0, 'yearn'), (0.0, 'yearm'), (0.0, 'yea'), (0.0, 'ye'), (0.0, 'yayyay'), (0.0, 'yay'), (0.0, 'yasssssss'), (0.0, 'yasssss'), (0.0, 'yassss'), (0.0, 'yasss'), (0.0, 'yasmin'), (0.0, 'yas'), (0.0, 'yard'), (0.0, 'yappi'), (0.0, 'yap'), (0.0, 'yanni'), (0.0, 'yanke'), (0.0, 'yang'), (0.0, 'yammer'), (0.0, 'yamitsuki'), (0.0, 'yam'), (0.0, 'yalla'), (0.0, 'yall'), (0.0, 'yakumi'), (0.0, 'yakoyaki'), (0.0, 'yakneh'), (0.0, 'yakitori'), (0.0, 'yakisoba'), (0.0, 'yaki'), (0.0, 'yak'), (0.0, 'yah'), (0.0, 'yadda'), (0.0, 'yada'), (0.0, 'yaaaa'), (0.0, 'xx'), (0.0, 'xtra'), (0.0, 'xoxo'), (0.0, 'xox'), (0.0, 'xo'), (0.0, 'xmas'), (0.0, 'xlbs'), (0.0, 'xlb'), (0.0, 'xiaolongbao'), (0.0, 'xiao'), (0.0, 'xialongbao'), (0.0, 'xenophobia'), (0.0, 'xb'), (0.0, 'xavier'), (0.0, 'würden'), (0.0, 'wynnewood'), (0.0, 'wygu'), (0.0, 'wwwaaaay'), (0.0, 'www'), (0.0, 'wuxi'), (0.0, 'wussi'), (0.0, 'wursthaus'), (0.0, 'wtheeezi'), (0.0, 'wthe'), (0.0, 'wth'), (0.0, 'wtf'), (0.0, 'wrought'), (0.0, 'wrote'), (0.0, 'written'), (0.0, 'writer'), (0.0, 'wrist'), (0.0, 'wrinkl'), (0.0, 'wreck'), (0.0, 'wrappper'), (0.0, 'wrapper'), (0.0, 'wraparound'), (0.0, 'wrangl'), (0.0, 'wrack'), (0.0, 'wraaaap'), (0.0, 'wqs'), (0.0, 'wowzer'), (0.0, 'wowza'), (0.0, 'wowe'), (0.0, 'woven'), (0.0, 'wound'), (0.0, 'wouldv'), (0.0, 'wouldnt'), (0.0, 'woulda'), (0.0, 'worthwhil'), (0.0, 'worthless'), (0.0, 'worthi'), (0.0, 'worship'), (0.0, 'worm'), (0.0, 'workweek'), (0.0, 'workstat'), (0.0, 'workplac'), (0.0, 'workout'), (0.0, 'workflow'), (0.0, 'workday'), (0.0, 'workabl'), (0.0, 'worht'), (0.0, 'wore'), (0.0, 'worcestershir'), (0.0, 'woot'), (0.0, 'wooowwww'), (0.0, 'woooow'), (0.0, 'wooooorrrrrllllldddd'), (0.0, 'woooooow'), (0.0, 'woooooo'), (0.0, 'woof'), (0.0, 'woodwork'), (0.0, 'woodrow'), (0.0, 'woodi'), (0.0, 'wooden'), (0.0, 'woodear'), (0.0, 'wood'), (0.0, 'woo'), (0.0, 'wont'), (0.0, 'wonka'), (0.0, 'wonk'), (0.0, 'wong'), (0.0, 'wondrous'), (0.0, 'wonderland'), (0.0, 'women'), (0.0, 'wolf'), (0.0, 'woken'), (0.0, 'woke'), (0.0, 'wok'), (0.0, 'wobbl'), (0.0, 'woah'), (0.0, 'wnton'), (0.0, 'wnl'), (0.0, 'wm'), (0.0, 'wlrth'), (0.0, 'wld'), (0.0, 'wlak'), (0.0, 'wizz'), (0.0, 'wizardri'), (0.0, 'wizard'), (0.0, 'witwiz'), (0.0, 'witti'), (0.0, 'witout'), (0.0, 'withstand'), (0.0, 'withmushroom'), (0.0, 'withheld'), (0.0, 'wither'), (0.0, 'withdraw'), (0.0, 'witcher'), (0.0, 'witch'), (0.0, 'wissinom'), (0.0, 'wissahickon'), (0.0, 'wishi'), (0.0, 'wishbon'), (0.0, 'wiser'), (0.0, 'wisdom'), (0.0, 'wisconsin'), (0.0, 'wisam'), (0.0, 'wirh'), (0.0, 'wipe'), (0.0, 'wintri'), (0.0, 'wintertim'), (0.0, 'wintermelon'), (0.0, 'winteri'), (0.0, 'winner'), (0.0, 'wink'), (0.0, 'wingspan'), (0.0, 'wingett'), (0.0, 'wineri'), (0.0, 'winemak'), (0.0, 'windsor'), (0.0, 'windi'), (0.0, 'winder'), (0.0, 'wind'), (0.0, 'wilt'), (0.0, 'wilmington'), (0.0, 'wilma'), (0.0, 'willpow'), (0.0, 'willing'), (0.0, 'william'), (0.0, 'willi'), (0.0, 'wilhelmina'), (0.0, 'wildwood'), (0.0, 'wildin'), (0.0, 'wildest'), (0.0, 'wild'), (0.0, 'wil'), (0.0, 'wikipedia'), (0.0, 'wiggl'), (0.0, 'wifi'), (0.0, 'wifey'), (0.0, 'wierd'), (0.0, 'wiener'), (0.0, 'wieder'), (0.0, 'widow'), (0.0, 'widest'), (0.0, 'wider'), (0.0, 'wide'), (0.0, 'wicker'), (0.0, 'wick'), (0.0, 'wich'), (0.0, 'wi'), (0.0, 'whut'), (0.0, 'whoppi'), (0.0, 'whopper'), (0.0, 'whop'), (0.0, 'whoopi'), (0.0, 'whooper'), (0.0, 'whomev'), (0.0, 'wholli'), (0.0, 'wholesom'), (0.0, 'wholesal'), (0.0, 'wholeheart'), (0.0, 'whoa'), (0.0, 'whizzzzz'), (0.0, 'whizzi'), (0.0, 'whize'), (0.0, 'whitney'), (0.0, 'whitewash'), (0.0, 'whitefish'), (0.0, 'whit'), (0.0, 'whistl'), (0.0, 'whisper'), (0.0, 'whiski'), (0.0, 'whiskey'), (0.0, 'whisk'), (0.0, 'whirlwind'), (0.0, 'whirl'), (0.0, 'whippi'), (0.0, 'whip'), (0.0, 'whiner'), (0.0, 'whine'), (0.0, 'whimsic'), (0.0, 'whimsi'), (0.0, 'whim'), (0.0, 'whilst'), (0.0, 'whiff'), (0.0, 'whie'), (0.0, 'whichev'), (0.0, 'whet'), (0.0, 'wherev'), (0.0, 'wherea'), (0.0, 'whelm'), (0.0, 'wheel'), (0.0, 'whee'), (0.0, 'wheat'), (0.0, 'whatttttt'), (0.0, 'whattaya'), (0.0, 'whatnot'), (0.0, 'wharton'), (0.0, 'wharf'), (0.0, 'wham'), (0.0, 'whale'), (0.0, 'whacki'), (0.0, 'whack'), (0.0, 'whaaaat'), (0.0, 'whaaaaat'), (0.0, 'weve'), (0.0, 'wether'), (0.0, 'western'), (0.0, 'westchest'), (0.0, 'wesbi'), (0.0, 'wes'), (0.0, 'wereveasili'), (0.0, 'werent'), (0.0, 'wentz'), (0.0, 'wendov'), (0.0, 'wendi'), (0.0, 'welsh'), (0.0, 'welsch'), (0.0, 'welp'), (0.0, 'wellfleet'), (0.0, 'wellb'), (0.0, 'weirdo'), (0.0, 'weirdest'), (0.0, 'weir'), (0.0, 'weight'), (0.0, 'weigh'), (0.0, 'wegman'), (0.0, 'weevil'), (0.0, 'weeta'), (0.0, 'weeknight'), (0.0, 'weee'), (0.0, 'weed'), (0.0, 'wee'), (0.0, 'wednesday'), (0.0, 'wedg'), (0.0, 'wed'), (0.0, 'webster'), (0.0, 'webpag'), (0.0, 'web'), (0.0, 'weav'), (0.0, 'weasel'), (0.0, 'weari'), (0.0, 'weapon'), (0.0, 'wealthi'), (0.0, 'wealth'), (0.0, 'weakl'), (0.0, 'weakest'), (0.0, 'weak'), (0.0, 'wazoo'), (0.0, 'wayyyyyyyyyyyyyi'), (0.0, 'wayyyyyyyi'), (0.0, 'wayyyyyi'), (0.0, 'wayyyyy'), (0.0, 'wayyyi'), (0.0, 'wayyy'), (0.0, 'wayu'), (0.0, 'wayn'), (0.0, 'wayi'), (0.0, 'waygu'), (0.0, 'waxi'), (0.0, 'wax'), (0.0, 'wawa'), (0.0, 'wavish'), (0.0, 'wavi'), (0.0, 'waver'), (0.0, 'wave'), (0.0, 'watermelon'), (0.0, 'watercress'), (0.0, 'waterboard'), (0.0, 'wat'), (0.0, 'wassup'), (0.0, 'wasnt'), (0.0, 'washout'), (0.0, 'washington'), (0.0, 'washi'), (0.0, 'wash'), (0.0, 'wasent'), (0.0, 'wasabi'), (0.0, 'warren'), (0.0, 'warrant'), (0.0, 'warp'), (0.0, 'warnin'), (0.0, 'warmup'), (0.0, 'warmth'), (0.0, 'warmest'), (0.0, 'warmer'), (0.0, 'warmblood'), (0.0, 'wari'), (0.0, 'warehous'), (0.0, 'ware'), (0.0, 'wardrob'), (0.0, 'ward'), (0.0, 'warak'), (0.0, 'war'), (0.0, 'wanton'), (0.0, 'wanker'), (0.0, 'wane'), (0.0, 'wana'), (0.0, 'walnut'), (0.0, 'walmart'), (0.0, 'walli'), (0.0, 'wallet'), (0.0, 'walkway'), (0.0, 'walkthrough'), (0.0, 'walki'), (0.0, 'walker'), (0.0, 'walkabl'), (0.0, 'wake'), (0.0, 'waiy'), (0.0, 'waiver'), (0.0, 'waitron'), (0.0, 'waitperson'), (0.0, 'waitor'), (0.0, 'waistlin'), (0.0, 'waist'), (0.0, 'wah'), (0.0, 'wagyuuu'), (0.0, 'wagyus'), (0.0, 'wagya'), (0.0, 'wagu'), (0.0, 'wager'), (0.0, 'wage'), (0.0, 'wag'), (0.0, 'waft'), (0.0, 'wafer'), (0.0, 'wade'), (0.0, 'waddl'), (0.0, 'wad'), (0.0, 'wack'), (0.0, 'waayyyi'), (0.0, 'waayi'), (0.0, 'waaayyyi'), (0.0, 'waaay'), (0.0, 'waaaayyy'), (0.0, 'waaaay'), (0.0, 'waa'), (0.0, 'wa'), (0.0, 'vultur'), (0.0, 'vulgar'), (0.0, 'vuelta'), (0.0, 'vu'), (0.0, 'vtrainer'), (0.0, 'vrbo'), (0.0, 'voyag'), (0.0, 'voy'), (0.0, 'vow'), (0.0, 'voucher'), (0.0, 'vouch'), (0.0, 'votiv'), (0.0, 'vomit'), (0.0, 'volvimo'), (0.0, 'volunt'), (0.0, 'volum'), (0.0, 'volleybal'), (0.0, 'vola'), (0.0, 'voila'), (0.0, 'void'), (0.0, 'voicemail'), (0.0, 'voic'), (0.0, 'vodka'), (0.0, 'vodcaka'), (0.0, 'vocat'), (0.0, 'vocal'), (0.0, 'vocabulari'), (0.0, 'vms'), (0.0, 'vlogger'), (0.0, 'vlog'), (0.0, 'vivr'), (0.0, 'vivid'), (0.0, 'vivi'), (0.0, 'vivant'), (0.0, 'vitamin'), (0.0, 'vital'), (0.0, 'visual'), (0.0, 'vista'), (0.0, 'visitando'), (0.0, 'visita'), (0.0, 'visionari'), (0.0, 'vision'), (0.0, 'visibl'), (0.0, 'viscous'), (0.0, 'viscos'), (0.0, 'vis'), (0.0, 'virus'), (0.0, 'virtu'), (0.0, 'virginia'), (0.0, 'virgin'), (0.0, 'viral'), (0.0, 'vip'), (0.0, 'violet'), (0.0, 'violent'), (0.0, 'violenc'), (0.0, 'violat'), (0.0, 'vinyl'), (0.0, 'vintag'), (0.0, 'vino'), (0.0, 'vinik'), (0.0, 'viniagrett'), (0.0, 'vineyard'), (0.0, 'vinegrett'), (0.0, 'vinegari'), (0.0, 'vinegarett'), (0.0, 'vinegar'), (0.0, 'vine'), (0.0, 'vincotto'), (0.0, 'vinaigrett'), (0.0, 'vinagr'), (0.0, 'vin'), (0.0, 'vimo'), (0.0, 'villag'), (0.0, 'villa'), (0.0, 'vill'), (0.0, 'vile'), (0.0, 'vikki'), (0.0, 'vike'), (0.0, 'vigor'), (0.0, 'viewer'), (0.0, 'vietnames'), (0.0, 'vietnam'), (0.0, 'viet'), (0.0, 'vienna'), (0.0, 'vie'), (0.0, 'video'), (0.0, 'vide'), (0.0, 'vida'), (0.0, 'victorian'), (0.0, 'victoria'), (0.0, 'victori'), (0.0, 'victim'), (0.0, 'vicki'), (0.0, 'vicious'), (0.0, 'vice'), (0.0, 'vic'), (0.0, 'vibrant'), (0.0, 'vibey'), (0.0, 'viabl'), (0.0, 'vey'), (0.0, 'vex'), (0.0, 'vetti'), (0.0, 'vetri'), (0.0, 'veteran'), (0.0, 'vet'), (0.0, 'vestibul'), (0.0, 'vest'), (0.0, 'vessel'), (0.0, 'vesper'), (0.0, 'ves'), (0.0, 'veryyyyi'), (0.0, 'veryyi'), (0.0, 'verv'), (0.0, 'vertic'), (0.0, 'vert'), (0.0, 'versus'), (0.0, 'version'), (0.0, 'versatil'), (0.0, 'versa'), (0.0, 'vers'), (0.0, 'verrryyyy'), (0.0, 'verrin'), (0.0, 'verri'), (0.0, 'verona'), (0.0, 'vernick'), (0.0, 'vermouth'), (0.0, 'vermont'), (0.0, 'vermicelli'), (0.0, 'veriti'), (0.0, 'verit'), (0.0, 'verin'), (0.0, 'verili'), (0.0, 'verifi'), (0.0, 'verg'), (0.0, 'verdict'), (0.0, 'verdad'), (0.0, 'verd'), (0.0, 'verbena'), (0.0, 'verbal'), (0.0, 'verb'), (0.0, 'verano'), (0.0, 'veracruzana'), (0.0, 'ver'), (0.0, 'veon'), (0.0, 'ventur'), (0.0, 'vento'), (0.0, 'ventil'), (0.0, 'vent'), (0.0, 'venmo'), (0.0, 'venison'), (0.0, 'vender'), (0.0, 'vend'), (0.0, 'vena'), (0.0, 'velveti'), (0.0, 'velveeta'), (0.0, 'velouté'), (0.0, 'velous'), (0.0, 'vein'), (0.0, 'veil'), (0.0, 'vehicl'), (0.0, 'vegeterian'), (0.0, 'vege'), (0.0, 'veganiz'), (0.0, 'vegancheesesteak'), (0.0, 'veg'), (0.0, 'veer'), (0.0, 'vee'), (0.0, 'vedg'), (0.0, 'veal'), (0.0, 'vday'), (0.0, 'vax'), (0.0, 'vault'), (0.0, 'vat'), (0.0, 'vast'), (0.0, 'vas'), (0.0, 'varnish'), (0.0, 'variet'), (0.0, 'variant'), (0.0, 'varianc'), (0.0, 'variado'), (0.0, 'variabl'), (0.0, 'vari'), (0.0, 'vapor'), (0.0, 'vanish'), (0.0, 'vanillaiest'), (0.0, 'vanili'), (0.0, 'vanessa'), (0.0, 'van'), (0.0, 'vampir'), (0.0, 'vamo'), (0.0, 'valuabl'), (0.0, 'valley'), (0.0, 'valioso'), (0.0, 'valid'), (0.0, 'valiant'), (0.0, 'valet'), (0.0, 'valeri'), (0.0, 'valentin'), (0.0, 'valenciana'), (0.0, 'valencia'), (0.0, 'vale'), (0.0, 'val'), (0.0, 'vagu'), (0.0, 'vagrant'), (0.0, 'vadouvan'), (0.0, 'vaccin'), (0.0, 'vacant'), (0.0, 'vaca'), (0.0, 'va'), (0.0, 'uy'), (0.0, 'uvo'), (0.0, 'utz'), (0.0, 'utter'), (0.0, 'utmost'), (0.0, 'util'), (0.0, 'utentil'), (0.0, 'utensil'), (0.0, 'utah'), (0.0, 'ut'), (0.0, 'usu'), (0.0, 'usp'), (0.0, 'usher'), (0.0, 'ush'), (0.0, 'user'), (0.0, 'useless'), (0.0, 'usda'), (0.0, 'usd'), (0.0, 'usag'), (0.0, 'usabl'), (0.0, 'usa'), (0.0, 'urn'), (0.0, 'urin'), (0.0, 'urgent'), (0.0, 'urgenc'), (0.0, 'urg'), (0.0, 'urfa'), (0.0, 'urbanit'), (0.0, 'urban'), (0.0, 'ur'), (0.0, 'uqi'), (0.0, 'upward'), (0.0, 'uptown'), (0.0, 'upto'), (0.0, 'uptight'), (0.0, 'uptair'), (0.0, 'upstream'), (0.0, 'upstat'), (0.0, 'upstart'), (0.0, 'upstar'), (0.0, 'upsold'), (0.0, 'upsel'), (0.0, 'upscal'), (0.0, 'uproot'), (0.0, 'upper'), (0.0, 'upnfyou'), (0.0, 'upload'), (0.0, 'uplift'), (0.0, 'upholst'), (0.0, 'uphold'), (0.0, 'uphil'), (0.0, 'upgrad'), (0.0, 'upfront'), (0.0, 'upenn'), (0.0, 'upcom'), (0.0, 'upcharg'), (0.0, 'upbring'), (0.0, 'upbeat'), (0.0, 'uovo'), (0.0, 'unwritten'), (0.0, 'unwrap'), (0.0, 'unworthi'), (0.0, 'unwind'), (0.0, 'unwil'), (0.0, 'unwelcom'), (0.0, 'unwarr'), (0.0, 'unwant'), (0.0, 'unvers'), (0.0, 'unveil'), (0.0, 'unusu'), (0.0, 'unus'), (0.0, 'unturn'), (0.0, 'untrust'), (0.0, 'untouch'), (0.0, 'untoast'), (0.0, 'untest'), (0.0, 'untar'), (0.0, 'unsweeten'), (0.0, 'unsuspect'), (0.0, 'unsurpris'), (0.0, 'unsurpass'), (0.0, 'unsur'), (0.0, 'unsuccess'), (0.0, 'unstopp'), (0.0, 'unspic'), (0.0, 'unspectacular'), (0.0, 'unsight'), (0.0, 'unshak'), (0.0, 'unshad'), (0.0, 'unsettl'), (0.0, 'unseed'), (0.0, 'unscream'), (0.0, 'unscath'), (0.0, 'unsatisfi'), (0.0, 'unsanitari'), (0.0, 'unsalt'), (0.0, 'unsait'), (0.0, 'unsaid'), (0.0, 'unsaf'), (0.0, 'unrush'), (0.0, 'unruli'), (0.0, 'unrol'), (0.0, 'unriv'), (0.0, 'unripen'), (0.0, 'unrespons'), (0.0, 'unremark'), (0.0, 'unreli'), (0.0, 'unrel'), (0.0, 'unregul'), (0.0, 'unreason'), (0.0, 'unreallll'), (0.0, 'unreal'), (0.0, 'unqualifi'), (0.0, 'unprovok'), (0.0, 'unpronounc'), (0.0, 'unprompt'), (0.0, 'unpretenti'), (0.0, 'unprepar'), (0.0, 'unpredict'), (0.0, 'unpreced'), (0.0, 'unpour'), (0.0, 'unpopular'), (0.0, 'unplug'), (0.0, 'unpleasantri'), (0.0, 'unpasteur'), (0.0, 'unparallel'), (0.0, 'unpalat'), (0.0, 'unpack'), (0.0, 'unorigin'), (0.0, 'unorgan'), (0.0, 'unoffici'), (0.0, 'uno'), (0.0, 'unnot'), (0.0, 'unneighbor'), (0.0, 'unneed'), (0.0, 'unnecessarili'), (0.0, 'unnecessari'), (0.0, 'unnatur'), (0.0, 'unnam'), (0.0, 'unmov'), (0.0, 'unmistak'), (0.0, 'unmiss'), (0.0, 'unmemor'), (0.0, 'unmelt'), (0.0, 'unmatch'), (0.0, 'unmark'), (0.0, 'unmarin'), (0.0, 'unmanag'), (0.0, 'unluckili'), (0.0, 'unlucki'), (0.0, 'unlock'), (0.0, 'unlit'), (0.0, 'unlimit'), (0.0, 'unlik'), (0.0, 'unleash'), (0.0, 'unlabel'), (0.0, 'unknown'), (0.0, 'unkept'), (0.0, 'unit'), (0.0, 'unison'), (0.0, 'unisex'), (0.0, 'union'), (0.0, 'uninvent'), (0.0, 'unintrus'), (0.0, 'uninterest'), (0.0, 'unintent'), (0.0, 'unintellig'), (0.0, 'uninspir'), (0.0, 'uniniti'), (0.0, 'unimport'), (0.0, 'unimagin'), (0.0, 'unilater'), (0.0, 'uniform'), (0.0, 'unidentifi'), (0.0, 'unicorn'), (0.0, 'unico'), (0.0, 'uni'), (0.0, 'unhygien'), (0.0, 'unhurri'), (0.0, 'unhelp'), (0.0, 'unheard'), (0.0, 'unhealthi'), (0.0, 'unhappili'), (0.0, 'unhappi'), (0.0, 'ungod'), (0.0, 'unfulfil'), (0.0, 'unfriendli'), (0.0, 'unfound'), (0.0, 'unfortyn'), (0.0, 'unfortunetley'), (0.0, 'unforgett'), (0.0, 'unflavor'), (0.0, 'unfinish'), (0.0, 'unfil'), (0.0, 'unfaz'), (0.0, 'unfathom'), (0.0, 'unfamiliar'), (0.0, 'unfair'), (0.0, 'unexplain'), (0.0, 'unexpect'), (0.0, 'unexcit'), (0.0, 'uneven'), (0.0, 'unev'), (0.0, 'uneth'), (0.0, 'unequivoc'), (0.0, 'unenthusiast'), (0.0, 'uneduc'), (0.0, 'uneaten'), (0.0, 'uneat'), (0.0, 'uneasi'), (0.0, 'unearth'), (0.0, 'une'), (0.0, 'undul'), (0.0, 'undrink'), (0.0, 'undress'), (0.0, 'undoubt'), (0.0, 'undivid'), (0.0, 'undi'), (0.0, 'undesir'), (0.0, 'underton'), (0.0, 'understat'), (0.0, 'understaf'), (0.0, 'underst'), (0.0, 'undersid'), (0.0, 'underseason'), (0.0, 'unders'), (0.0, 'underr'), (0.0, 'underpow'), (0.0, 'underneath'), (0.0, 'underground'), (0.0, 'undergrad'), (0.0, 'underflvor'), (0.0, 'underestim'), (0.0, 'underdon'), (0.0, 'underdog'), (0.0, 'underbrush'), (0.0, 'undeni'), (0.0, 'undecid'), (0.0, 'undamag'), (0.0, 'und'), (0.0, 'uncut'), (0.0, 'uncultur'), (0.0, 'unctuous'), (0.0, 'unctious'), (0.0, 'uncreat'), (0.0, 'uncov'), (0.0, 'uncork'), (0.0, 'uncook'), (0.0, 'unconvent'), (0.0, 'unconsci'), (0.0, 'unconcern'), (0.0, 'uncompromis'), (0.0, 'uncommon'), (0.0, 'uncomfot'), (0.0, 'uncomf'), (0.0, 'unclutt'), (0.0, 'unclear'), (0.0, 'uncleanli'), (0.0, 'uncl'), (0.0, 'uncharit'), (0.0, 'uncharacterist'), (0.0, 'unchang'), (0.0, 'uncertainti'), (0.0, 'uncertain'), (0.0, 'uncal'), (0.0, 'unbutton'), (0.0, 'unbuckl'), (0.0, 'unbridl'), (0.0, 'unbias'), (0.0, 'unbeat'), (0.0, 'unbear'), (0.0, 'unbalanc'), (0.0, 'unawar'), (0.0, 'unavail'), (0.0, 'unauthent'), (0.0, 'unattent'), (0.0, 'unassum'), (0.0, 'unappet'), (0.0, 'unapp'), (0.0, 'unapologet'), (0.0, 'unannounc'), (0.0, 'unanim'), (0.0, 'unagi'), (0.0, 'unadventur'), (0.0, 'unadorn'), (0.0, 'unaccompani'), (0.0, 'unaccommod'), (0.0, 'unaccept'), (0.0, 'unabl'), (0.0, 'una'), (0.0, 'umph'), (0.0, 'ummmm'), (0.0, 'umm'), (0.0, 'umi'), (0.0, 'umf'), (0.0, 'ume'), (0.0, 'umbrella'), (0.0, 'umami'), (0.0, 'umam'), (0.0, 'um'), (0.0, 'ultramodern'), (0.0, 'ultra'), (0.0, 'ukrain'), (0.0, 'ukcii'), (0.0, 'uk'), (0.0, 'uiino'), (0.0, 'uhombi'), (0.0, 'uhhhh'), (0.0, 'uh'), (0.0, 'ugliest'), (0.0, 'ugli'), (0.0, 'ughh'), (0.0, 'ugh'), (0.0, 'ufvinc'), (0.0, 'udder'), (0.0, 'ucv'), (0.0, 'uciti'), (0.0, 'uc'), (0.0, 'ubriaco'), (0.0, 'ubiquit'), (0.0, 'ubereat'), (0.0, 'ube'), (0.0, 'típico'), (0.0, 'têt'), (0.0, 'télévision'), (0.0, 'tzos'), (0.0, 'tzisiki'), (0.0, 'tzaziki'), (0.0, 'tzatziki'), (0.0, 'typiclali'), (0.0, 'tyler'), (0.0, 'ty'), (0.0, 'tx'), (0.0, 'twosom'), (0.0, 'twos'), (0.0, 'twinkl'), (0.0, 'twink'), (0.0, 'twine'), (0.0, 'twin'), (0.0, 'twilight'), (0.0, 'twenti'), (0.0, 'twelv'), (0.0, 'tweak'), (0.0, 'twas'), (0.0, 'tvs'), (0.0, 'tv'), (0.0, 'tuti'), (0.0, 'tush'), (0.0, 'tuscani'), (0.0, 'tuscan'), (0.0, 'turtl'), (0.0, 'turnpik'), (0.0, 'turnov'), (0.0, 'turnoff'), (0.0, 'turnip'), (0.0, 'turney'), (0.0, 'turner'), (0.0, 'turnaround'), (0.0, 'turmer'), (0.0, 'turkish'), (0.0, 'turf'), (0.0, 'tupperwar'), (0.0, 'tunnel'), (0.0, 'tunisian'), (0.0, 'tune'), (0.0, 'tummi'), (0.0, 'tumer'), (0.0, 'tumbl'), (0.0, 'tulula'), (0.0, 'tuition'), (0.0, 'tufuli'), (0.0, 'tufu'), (0.0, 'tuft'), (0.0, 'tue'), (0.0, 'tudor'), (0.0, 'tucker'), (0.0, 'tuck'), (0.0, 'tube'), (0.0, 'tubbi'), (0.0, 'tub'), (0.0, 'tthat'), (0.0, 'tter'), (0.0, 'tsunami'), (0.0, 'tsukimi'), (0.0, 'tsukiji'), (0.0, 'tsos'), (0.0, 'tso'), (0.0, 'tsin'), (0.0, 'tshirt'), (0.0, 'tsao'), (0.0, 'tsa'), (0.0, 'ts'), (0.0, 'tryyyy'), (0.0, 'tryna'), (0.0, 'trycaviar'), (0.0, 'truth'), (0.0, 'trustworthi'), (0.0, 'trusti'), (0.0, 'trump'), (0.0, 'trum'), (0.0, 'truest'), (0.0, 'trueli'), (0.0, 'tru'), (0.0, 'trozo'), (0.0, 'trough'), (0.0, 'troubl'), (0.0, 'tropicana'), (0.0, 'tropic'), (0.0, 'trophi'), (0.0, 'tropez'), (0.0, 'troll'), (0.0, 'troeg'), (0.0, 'trivial'), (0.0, 'trivia'), (0.0, 'triumphant'), (0.0, 'triumph'), (0.0, 'trist'), (0.0, 'tripl'), (0.0, 'tripe'), (0.0, 'trio'), (0.0, 'trinket'), (0.0, 'triniti'), (0.0, 'trinidad'), (0.0, 'trim'), (0.0, 'trigger'), (0.0, 'trifl'), (0.0, 'trifecta'), (0.0, 'trickiest'), (0.0, 'tricki'), (0.0, 'trickeri'), (0.0, 'trick'), (0.0, 'tributari'), (0.0, 'triangular'), (0.0, 'trial'), (0.0, 'tria'), (0.0, 'tress'), (0.0, 'tres'), (0.0, 'trendier'), (0.0, 'trend'), (0.0, 'trench'), (0.0, 'tremini'), (0.0, 'tremend'), (0.0, 'trellis'), (0.0, 'trekk'), (0.0, 'trek'), (0.0, 'treehugg'), (0.0, 'tree'), (0.0, 'treatment'), (0.0, 'treadmil'), (0.0, 'tread'), (0.0, 'treacl'), (0.0, 'treacher'), (0.0, 'tray'), (0.0, 'travers'), (0.0, 'trauma'), (0.0, 'trashcan'), (0.0, 'tras'), (0.0, 'trappi'), (0.0, 'transubstanti'), (0.0, 'transplant'), (0.0, 'transpar'), (0.0, 'transluc'), (0.0, 'translat'), (0.0, 'transit'), (0.0, 'transform'), (0.0, 'transfix'), (0.0, 'transfer'), (0.0, 'transcriptionist'), (0.0, 'transcend'), (0.0, 'transact'), (0.0, 'tranquil'), (0.0, 'tranc'), (0.0, 'trajectori'), (0.0, 'trainwreck'), (0.0, 'trailer'), (0.0, 'trail'), (0.0, 'tragic'), (0.0, 'tragedi'), (0.0, 'traffic'), (0.0, 'traditionalist'), (0.0, 'trader'), (0.0, 'trade'), (0.0, 'traction'), (0.0, 'tract'), (0.0, 'track'), (0.0, 'traci'), (0.0, 'trace'), (0.0, 'tr'), (0.0, 'toxic'), (0.0, 'townhom'), (0.0, 'towner'), (0.0, 'tower'), (0.0, 'towel'), (0.0, 'tow'), (0.0, 'tov'), (0.0, 'tout'), (0.0, 'toursit'), (0.0, 'tournament'), (0.0, 'touristsi'), (0.0, 'tourism'), (0.0, 'toum'), (0.0, 'touk'), (0.0, 'tougher'), (0.0, 'touché'), (0.0, 'touchscreen'), (0.0, 'touchpad'), (0.0, 'totto'), (0.0, 'toto'), (0.0, 'tote'), (0.0, 'totallli'), (0.0, 'totali'), (0.0, 'tot'), (0.0, 'toston'), (0.0, 'tostito'), (0.0, 'tostada'), (0.0, 'tos'), (0.0, 'tortur'), (0.0, 'tortellini'), (0.0, 'torta'), (0.0, 'torrenti'), (0.0, 'toronto'), (0.0, 'toro'), (0.0, 'tornado'), (0.0, 'torn'), (0.0, 'tore'), (0.0, 'torch'), (0.0, 'topper'), (0.0, 'topic'), (0.0, 'tootsi'), (0.0, 'toothsom'), (0.0, 'tooth'), (0.0, 'tooooo'), (0.0, 'toooo'), (0.0, 'toookhan'), (0.0, 'tool'), (0.0, 'tonnarelli'), (0.0, 'tonkotsu'), (0.0, 'tonkatsu'), (0.0, 'tonkasu'), (0.0, 'tonit'), (0.0, 'tonigth'), (0.0, 'tonic'), (0.0, 'tongu'), (0.0, 'tong'), (0.0, 'tone'), (0.0, 'tonarelli'), (0.0, 'tonarell'), (0.0, 'tomoto'), (0.0, 'tomorrow'), (0.0, 'tomo'), (0.0, 'tommi'), (0.0, 'tome'), (0.0, 'tomb'), (0.0, 'tomatillo'), (0.0, 'tomat'), (0.0, 'tomar'), (0.0, 'tomahawk'), (0.0, 'tom'), (0.0, 'tolstoy'), (0.0, 'toll'), (0.0, 'toler'), (0.0, 'tol'), (0.0, 'tokyo'), (0.0, 'tokayaki'), (0.0, 'tokatsu'), (0.0, 'tok'), (0.0, 'toilet'), (0.0, 'togo'), (0.0, 'togarashi'), (0.0, 'tog'), (0.0, 'tofuy'), (0.0, 'tofus'), (0.0, 'toffe'), (0.0, 'toe'), (0.0, 'todu'), (0.0, 'todo'), (0.0, 'todi'), (0.0, 'toddler'), (0.0, 'toddi'), (0.0, 'toda'), (0.0, 'tocó'), (0.0, 'tobago'), (0.0, 'tobacco'), (0.0, 'toasti'), (0.0, 'toaster'), (0.0, 'toastada'), (0.0, 'tn'), (0.0, 'tm'), (0.0, 'tlri'), (0.0, 'tldr'), (0.0, 'tlc'), (0.0, 'tla'), (0.0, 'tl'), (0.0, 'tje'), (0.0, 'tj'), (0.0, 'tiyam'), (0.0, 'tix'), (0.0, 'titus'), (0.0, 'titular'), (0.0, 'tito'), (0.0, 'titl'), (0.0, 'titil'), (0.0, 'tithi'), (0.0, 'titch'), (0.0, 'tit'), (0.0, 'tissu'), (0.0, 'tireless'), (0.0, 'tiramisú'), (0.0, 'tiramisu'), (0.0, 'tipsi'), (0.0, 'tippl'), (0.0, 'tint'), (0.0, 'tinier'), (0.0, 'tingl'), (0.0, 'tinga'), (0.0, 'ting'), (0.0, 'tinfoil'), (0.0, 'tine'), (0.0, 'tinder'), (0.0, 'tinasaurus'), (0.0, 'tina'), (0.0, 'tin'), (0.0, 'timko'), (0.0, 'timid'), (0.0, 'timey'), (0.0, 'timeslot'), (0.0, 'timelin'), (0.0, 'timeless'), (0.0, 'timefram'), (0.0, 'timberlak'), (0.0, 'timber'), (0.0, 'tim'), (0.0, 'tilt'), (0.0, 'tilefish'), (0.0, 'tile'), (0.0, 'tilapia'), (0.0, 'til'), (0.0, 'tikvah'), (0.0, 'tiktok'), (0.0, 'tikki'), (0.0, 'tikka'), (0.0, 'tiki'), (0.0, 'tike'), (0.0, 'tijuana'), (0.0, 'tigr'), (0.0, 'tighter'), (0.0, 'tighten'), (0.0, 'tiger'), (0.0, 'tiffani'), (0.0, 'tier'), (0.0, 'tienen'), (0.0, 'tiend'), (0.0, 'tien'), (0.0, 'tiempo'), (0.0, 'tie'), (0.0, 'tidi'), (0.0, 'tide'), (0.0, 'tidbit'), (0.0, 'tid'), (0.0, 'tickl'), (0.0, 'ticket'), (0.0, 'tick'), (0.0, 'tiana'), (0.0, 'ti'), (0.0, 'thé'), (0.0, 'thyme'), (0.0, 'thw'), (0.0, 'thursday'), (0.0, 'thur'), (0.0, 'thunderstorm'), (0.0, 'thunder'), (0.0, 'thts'), (0.0, 'ths'), (0.0, 'thrower'), (0.0, 'throwdown'), (0.0, 'throwback'), (0.0, 'throughway'), (0.0, 'throught'), (0.0, 'throughput'), (0.0, 'throng'), (0.0, 'throne'), (0.0, 'throat'), (0.0, 'thrive'), (0.0, 'threshold'), (0.0, 'threeish'), (0.0, 'threaten'), (0.0, 'threat'), (0.0, 'thread'), (0.0, 'thr'), (0.0, 'thoysday'), (0.0, 'thousand'), (0.0, 'thouhh'), (0.0, 'thougth'), (0.0, 'thoughfrom'), (0.0, 'thou'), (0.0, 'thos'), (0.0, 'thoroughfar'), (0.0, 'thorough'), (0.0, 'thoma'), (0.0, 'thnk'), (0.0, 'thit'), (0.0, 'thissss'), (0.0, 'thirsti'), (0.0, 'thirst'), (0.0, 'thinnest'), (0.0, 'thinner'), (0.0, 'thingi'), (0.0, 'thimbl'), (0.0, 'thigh'), (0.0, 'thieveri'), (0.0, 'thiev'), (0.0, 'thier'), (0.0, 'thicket'), (0.0, 'thickest'), (0.0, 'thicker'), (0.0, 'thicken'), (0.0, 'thiccc'), (0.0, 'theywer'), (0.0, 'theyr'), (0.0, 'theyd'), (0.0, 'thevstor'), (0.0, 'theu'), (0.0, 'thete'), (0.0, 'thermomet'), (0.0, 'thermal'), (0.0, 'thereth'), (0.0, 'therefor'), (0.0, 'thereaft'), (0.0, 'ther'), (0.0, 'theori'), (0.0, 'theon'), (0.0, 'themselv'), (0.0, 'themself'), (0.0, 'theme'), (0.0, 'thema'), (0.0, 'theirfoid'), (0.0, 'thei'), (0.0, 'thefour'), (0.0, 'theeeeeee'), (0.0, 'theeeee'), (0.0, 'thee'), (0.0, 'theatric'), (0.0, 'theatr'), (0.0, 'theater'), (0.0, 'thaw'), (0.0, 'thanthi'), (0.0, 'thanksgiv'), (0.0, 'thang'), (0.0, 'thaimarket'), (0.0, 'thag'), (0.0, 'tge'), (0.0, 'tg'), (0.0, 'tfiii'), (0.0, 'textbook'), (0.0, 'texmex'), (0.0, 'texan'), (0.0, 'texa'), (0.0, 'tex'), (0.0, 'tetri'), (0.0, 'teta'), (0.0, 'testimoni'), (0.0, 'testi'), (0.0, 'testament'), (0.0, 'teryaki'), (0.0, 'terror'), (0.0, 'terrmin'), (0.0, 'territori'), (0.0, 'terrin'), (0.0, 'terrifi'), (0.0, 'terrif'), (0.0, 'terrier'), (0.0, 'terrarium'), (0.0, 'terrakawa'), (0.0, 'terrac'), (0.0, 'ternera'), (0.0, 'terminolog'), (0.0, 'terminini'), (0.0, 'terkawa'), (0.0, 'teriyaki'), (0.0, 'terekawa'), (0.0, 'terakaw'), (0.0, 'tera'), (0.0, 'teppanyaki'), (0.0, 'tepid'), (0.0, 'teo'), (0.0, 'tenía'), (0.0, 'tenth'), (0.0, 'tentat'), (0.0, 'tentacl'), (0.0, 'tent'), (0.0, 'tension'), (0.0, 'tens'), (0.0, 'tennesse'), (0.0, 'tendon'), (0.0, 'tenderloin'), (0.0, 'tenderest'), (0.0, 'tendenc'), (0.0, 'tenaci'), (0.0, 'tenac'), (0.0, 'tempura'), (0.0, 'temptat'), (0.0, 'tempt'), (0.0, 'tempranillo'), (0.0, 'temporarili'), (0.0, 'temporari'), (0.0, 'tempora'), (0.0, 'templ'), (0.0, 'tempest'), (0.0, 'temperament'), (0.0, 'temper'), (0.0, 'temp'), (0.0, 'tellin'), (0.0, 'televis'), (0.0, 'teleport'), (0.0, 'tel'), (0.0, 'teigen'), (0.0, 'tehini'), (0.0, 'tehina'), (0.0, 'teh'), (0.0, 'teeth'), (0.0, 'teeni'), (0.0, 'teenag'), (0.0, 'teen'), (0.0, 'teem'), (0.0, 'tee'), (0.0, 'tedious'), (0.0, 'technolog'), (0.0, 'techno'), (0.0, 'techniqu'), (0.0, 'technic'), (0.0, 'tech'), (0.0, 'tebouleh'), (0.0, 'teatim'), (0.0, 'teatail'), (0.0, 'teaspoon'), (0.0, 'teason'), (0.0, 'teas'), (0.0, 'teardrop'), (0.0, 'tear'), (0.0, 'teapot'), (0.0, 'teamwork'), (0.0, 'teak'), (0.0, 'teacup'), (0.0, 'teacher'), (0.0, 'teach'), (0.0, 'teabag'), (0.0, 'te'), (0.0, 'tdlr'), (0.0, 'td'), (0.0, 'taziki'), (0.0, 'taylor'), (0.0, 'tayium'), (0.0, 'tayim'), (0.0, 'tayhim'), (0.0, 'taxidermi'), (0.0, 'taxi'), (0.0, 'taxat'), (0.0, 'tawook'), (0.0, 'tawk'), (0.0, 'tawaook'), (0.0, 'tavern'), (0.0, 'taunt'), (0.0, 'taught'), (0.0, 'tatula'), (0.0, 'tattoo'), (0.0, 'tatsu'), (0.0, 'tator'), (0.0, 'tatin'), (0.0, 'tatianna'), (0.0, 'tatiana'), (0.0, 'tater'), (0.0, 'tatar'), (0.0, 'tataki'), (0.0, 'tat'), (0.0, 'tastykak'), (0.0, 'tastiest'), (0.0, 'tastier'), (0.0, 'tastey'), (0.0, 'tastesd'), (0.0, 'taster'), (0.0, 'tastebud'), (0.0, 'task'), (0.0, 'taser'), (0.0, 'tase'), (0.0, 'tartin'), (0.0, 'tarti'), (0.0, 'tarter'), (0.0, 'tarragon'), (0.0, 'taro'), (0.0, 'tarjeta'), (0.0, 'target'), (0.0, 'tardi'), (0.0, 'tard'), (0.0, 'tarat'), (0.0, 'tarakawa'), (0.0, 'tar'), (0.0, 'tappa'), (0.0, 'tapioca'), (0.0, 'tapestri'), (0.0, 'tapenad'), (0.0, 'tape'), (0.0, 'tapanyaki'), (0.0, 'taoyaki'), (0.0, 'taouk'), (0.0, 'taook'), (0.0, 'tanto'), (0.0, 'tantanmen'), (0.0, 'tantan'), (0.0, 'tantal'), (0.0, 'tannic'), (0.0, 'tank'), (0.0, 'tangin'), (0.0, 'tangier'), (0.0, 'tangi'), (0.0, 'tangggggyyt'), (0.0, 'tangerin'), (0.0, 'tangent'), (0.0, 'tang'), (0.0, 'tandri'), (0.0, 'tandouri'), (0.0, 'tandori'), (0.0, 'tandoori'), (0.0, 'tan'), (0.0, 'tampopo'), (0.0, 'tampoco'), (0.0, 'tamper'), (0.0, 'tammi'), (0.0, 'tame'), (0.0, 'también'), (0.0, 'tambayan'), (0.0, 'tamaño'), (0.0, 'tamarind'), (0.0, 'tamari'), (0.0, 'tamal'), (0.0, 'tamago'), (0.0, 'talulla'), (0.0, 'talulah'), (0.0, 'tallula'), (0.0, 'tallow'), (0.0, 'talli'), (0.0, 'taller'), (0.0, 'tall'), (0.0, 'talki'), (0.0, 'talkat'), (0.0, 'talent'), (0.0, 'taleggio'), (0.0, 'tale'), (0.0, 'talbert'), (0.0, 'talaula'), (0.0, 'takiyaki'), (0.0, 'taker'), (0.0, 'takeaway'), (0.0, 'takami'), (0.0, 'tajin'), (0.0, 'taj'), (0.0, 'taiwanes'), (0.0, 'taiwan'), (0.0, 'taipei'), (0.0, 'taint'), (0.0, 'tailor'), (0.0, 'tail'), (0.0, 'tai'), (0.0, 'tahini'), (0.0, 'tahina'), (0.0, 'tahin'), (0.0, 'tagliatell'), (0.0, 'tagin'), (0.0, 'tag'), (0.0, 'taffer'), (0.0, 'tadig'), (0.0, 'tactic'), (0.0, 'tact'), (0.0, 'tackl'), (0.0, 'tackili'), (0.0, 'tacki'), (0.0, 'tack'), (0.0, 'tac'), (0.0, 'tabuleh'), (0.0, 'taboulé'), (0.0, 'tabouli'), (0.0, 'tabouleh'), (0.0, 'taboula'), (0.0, 'taboul'), (0.0, 'tablewar'), (0.0, 'tabletop'), (0.0, 'tablet'), (0.0, 'tablespoon'), (0.0, 'tablesid'), (0.0, 'tablem'), (0.0, 'tablecloth'), (0.0, 'tabernacl'), (0.0, 'tabbouli'), (0.0, 'tabbouleh'), (0.0, 'tabbi'), (0.0, 'tabasco'), (0.0, 'tab'), (0.0, 'sûr'), (0.0, 'súper'), (0.0, 'sí'), (0.0, 'sándwich'), (0.0, 'szechuan'), (0.0, 'systemat'), (0.0, 'sysco'), (0.0, 'syrupi'), (0.0, 'syrian'), (0.0, 'synopsi'), (0.0, 'synchron'), (0.0, 'sync'), (0.0, 'symphoni'), (0.0, 'sympathi'), (0.0, 'sympathet'), (0.0, 'symbol'), (0.0, 'syllabl'), (0.0, 'sydney'), (0.0, 'sycoph'), (0.0, 'syaf'), (0.0, 'swung'), (0.0, 'swore'), (0.0, 'swordfish'), (0.0, 'sword'), (0.0, 'swoop'), (0.0, 'swollen'), (0.0, 'switch'), (0.0, 'swiss'), (0.0, 'swirl'), (0.0, 'swipe'), (0.0, 'swing'), (0.0, 'swine'), (0.0, 'swim'), (0.0, 'swill'), (0.0, 'swift'), (0.0, 'swept'), (0.0, 'swelter'), (0.0, 'swell'), (0.0, 'sweetpotato'), (0.0, 'sweeti'), (0.0, 'sweetheart'), (0.0, 'sweetest'), (0.0, 'sweeter'), (0.0, 'sweeten'), (0.0, 'sweetbread'), (0.0, 'sweep'), (0.0, 'sweeet'), (0.0, 'sweati'), (0.0, 'sweater'), (0.0, 'sweat'), (0.0, 'swear'), (0.0, 'sway'), (0.0, 'swarm'), (0.0, 'swap'), (0.0, 'swanki'), (0.0, 'swan'), (0.0, 'swamp'), (0.0, 'swallow'), (0.0, 'swag'), (0.0, 'swab'), (0.0, 'svelt'), (0.0, 'suuuuuck'), (0.0, 'suuuuper'), (0.0, 'susten'), (0.0, 'sustain'), (0.0, 'suspicion'), (0.0, 'suspici'), (0.0, 'suspend'), (0.0, 'suspect'), (0.0, 'sushmi'), (0.0, 'sushimi'), (0.0, 'sushami'), (0.0, 'suscept'), (0.0, 'surya'), (0.0, 'surviv'), (0.0, 'survey'), (0.0, 'surrend'), (0.0, 'surreal'), (0.0, 'surraya'), (0.0, 'surpringsli'), (0.0, 'surplus'), (0.0, 'surpass'), (0.0, 'surmis'), (0.0, 'suriyah'), (0.0, 'surgeri'), (0.0, 'surgeon'), (0.0, 'surg'), (0.0, 'surfac'), (0.0, 'surf'), (0.0, 'surcharg'), (0.0, 'sur'), (0.0, 'supris'), (0.0, 'suprem'), (0.0, 'supplier'), (0.0, 'suppli'), (0.0, 'supplement'), (0.0, 'supper'), (0.0, 'supervisor'), (0.0, 'supervis'), (0.0, 'supers'), (0.0, 'superpac'), (0.0, 'supermarket'), (0.0, 'superl'), (0.0, 'superior'), (0.0, 'superfici'), (0.0, 'superbowl'), (0.0, 'superbl'), (0.0, 'supeand'), (0.0, 'supe'), (0.0, 'sup'), (0.0, 'sunshin'), (0.0, 'sunset'), (0.0, 'sunscreen'), (0.0, 'sunroom'), (0.0, 'sunnysid'), (0.0, 'sunlight'), (0.0, 'sunken'), (0.0, 'sunk'), (0.0, 'sunglass'), (0.0, 'sung'), (0.0, 'sunflow'), (0.0, 'sundrunk'), (0.0, 'sunda'), (0.0, 'sunchok'), (0.0, 'sunburst'), (0.0, 'sun'), (0.0, 'sumptuous'), (0.0, 'summon'), (0.0, 'summit'), (0.0, 'summertim'), (0.0, 'summeri'), (0.0, 'summari'), (0.0, 'summar'), (0.0, 'sumac'), (0.0, 'sultri'), (0.0, 'sultat'), (0.0, 'sullen'), (0.0, 'sulfur'), (0.0, 'suitcas'), (0.0, 'suitabl'), (0.0, 'suit'), (0.0, 'sui'), (0.0, 'sugari'), (0.0, 'sugarhous'), (0.0, 'sugar'), (0.0, 'suficient'), (0.0, 'suffoc'), (0.0, 'suffici'), (0.0, 'suffic'), (0.0, 'suffer'), (0.0, 'sueño'), (0.0, 'suess'), (0.0, 'suer'), (0.0, 'sueno'), (0.0, 'sudden'), (0.0, 'sucksdon'), (0.0, 'suckl'), (0.0, 'sucki'), (0.0, 'sucker'), (0.0, 'sucka'), (0.0, 'sucha'), (0.0, 'succumb'), (0.0, 'succulent'), (0.0, 'succul'), (0.0, 'succotash'), (0.0, 'success'), (0.0, 'succeed'), (0.0, 'subway'), (0.0, 'suburban'), (0.0, 'suburb'), (0.0, 'subtract'), (0.0, 'subtot'), (0.0, 'subtleti'), (0.0, 'subtl'), (0.0, 'subtitut'), (0.0, 'subterranean'), (0.0, 'subt'), (0.0, 'substitut'), (0.0, 'substant'), (0.0, 'substandard'), (0.0, 'substanc'), (0.0, 'subsist'), (0.0, 'subsequ'), (0.0, 'subscrib'), (0.0, 'submit'), (0.0, 'submerg'), (0.0, 'submarin'), (0.0, 'sublim'), (0.0, 'subject'), (0.0, 'subdu'), (0.0, 'subdivid'), (0.0, 'subcontin'), (0.0, 'suac'), (0.0, 'su'), (0.0, 'styrofoam'), (0.0, 'stylist'), (0.0, 'stylish'), (0.0, 'stutter'), (0.0, 'sturgeon'), (0.0, 'sturdi'), (0.0, 'stupend'), (0.0, 'stunt'), (0.0, 'stun'), (0.0, 'stumptown'), (0.0, 'stump'), (0.0, 'stumbl'), (0.0, 'stufchallah'), (0.0, 'studious'), (0.0, 'studi'), (0.0, 'student'), (0.0, 'stud'), (0.0, 'stubborn'), (0.0, 'stsnds'), (0.0, 'strung'), (0.0, 'struggl'), (0.0, 'structur'), (0.0, 'structu'), (0.0, 'struck'), (0.0, 'strongest'), (0.0, 'stronger'), (0.0, 'stromboli'), (0.0, 'stroller'), (0.0, 'stroll'), (0.0, 'stroke'), (0.0, 'strive'), (0.0, 'stripmal'), (0.0, 'striploin'), (0.0, 'stripe'), (0.0, 'strip'), (0.0, 'stringent'), (0.0, 'string'), (0.0, 'strike'), (0.0, 'stride'), (0.0, 'strict'), (0.0, 'strew'), (0.0, 'streusel'), (0.0, 'stretchi'), (0.0, 'stretch'), (0.0, 'stress'), (0.0, 'strength'), (0.0, 'streetsid'), (0.0, 'streetmuch'), (0.0, 'streetcorn'), (0.0, 'streamlin'), (0.0, 'stream'), (0.0, 'streak'), (0.0, 'strd'), (0.0, 'stray'), (0.0, 'strawberri'), (0.0, 'strategi'), (0.0, 'strateg'), (0.0, 'strap'), (0.0, 'strangelov'), (0.0, 'strand'), (0.0, 'strainer'), (0.0, 'strain'), (0.0, 'straightforward'), (0.0, 'straighten'), (0.0, 'straggler'), (0.0, 'stracciatella'), (0.0, 'stow'), (0.0, 'stove'), (0.0, 'stout'), (0.0, 'stormi'), (0.0, 'storm'), (0.0, 'storey'), (0.0, 'storefront'), (0.0, 'storag'), (0.0, 'stopper'), (0.0, 'stope'), (0.0, 'stopbi'), (0.0, 'stoop'), (0.0, 'stoner'), (0.0, 'stone'), (0.0, 'stomper'), (0.0, 'stomachach'), (0.0, 'stolen'), (0.0, 'stole'), (0.0, 'stoke'), (0.0, 'stoical'), (0.0, 'stodgi'), (0.0, 'stock'), (0.0, 'stlye'), (0.0, 'stitch'), (0.0, 'stirfri'), (0.0, 'stir'), (0.0, 'stipul'), (0.0, 'stint'), (0.0, 'stinki'), (0.0, 'stinken'), (0.0, 'stinkbomb'), (0.0, 'stingi'), (0.0, 'sting'), (0.0, 'stimuli'), (0.0, 'stimul'), (0.0, 'stilton'), (0.0, 'stiil'), (0.0, 'stiffi'), (0.0, 'stiff'), (0.0, 'stif'), (0.0, 'stickler'), (0.0, 'sticki'), (0.0, 'sticker'), (0.0, 'sti'), (0.0, 'sth'), (0.0, 'stew'), (0.0, 'steven'), (0.0, 'steve'), (0.0, 'steroid'), (0.0, 'steril'), (0.0, 'stereotyp'), (0.0, 'stereo'), (0.0, 'stephen'), (0.0, 'stephani'), (0.0, 'stephan'), (0.0, 'steph'), (0.0, 'stepfath'), (0.0, 'stepdaught'), (0.0, 'stencil'), (0.0, 'stench'), (0.0, 'stemmi'), (0.0, 'stem'), (0.0, 'steller'), (0.0, 'stellar'), (0.0, 'stella'), (0.0, 'stef'), (0.0, 'steer'), (0.0, 'steeper'), (0.0, 'steelhead'), (0.0, 'steel'), (0.0, 'steami'), (0.0, 'steamer'), (0.0, 'steamboat'), (0.0, 'steal'), (0.0, 'steak好吃'), (0.0, 'steakum'), (0.0, 'steakeri'), (0.0, 'steadili'), (0.0, 'steadi'), (0.0, 'steadfast'), (0.0, 'stead'), (0.0, 'std'), (0.0, 'stave'), (0.0, 'staub'), (0.0, 'status'), (0.0, 'statur'), (0.0, 'statu'), (0.0, 'staticki'), (0.0, 'statesid'), (0.0, 'staten'), (0.0, 'statement'), (0.0, 'stat'), (0.0, 'stash'), (0.0, 'starvin'), (0.0, 'startl'), (0.0, 'starter'), (0.0, 'starstruck'), (0.0, 'starlight'), (0.0, 'starkist'), (0.0, 'stark'), (0.0, 'stargazi'), (0.0, 'stare'), (0.0, 'starchier'), (0.0, 'starchi'), (0.0, 'starch'), (0.0, 'starbuck'), (0.0, 'stank'), (0.0, 'standpoint'), (0.0, 'standout'), (0.0, 'standoffish'), (0.0, 'standoff'), (0.0, 'standbi'), (0.0, 'standai'), (0.0, 'stan'), (0.0, 'stampl'), (0.0, 'stamp'), (0.0, 'stalk'), (0.0, 'stake'), (0.0, 'staircas'), (0.0, 'stair'), (0.0, 'stainless'), (0.0, 'stain'), (0.0, 'stagger'), (0.0, 'stage'), (0.0, 'staffer'), (0.0, 'staf'), (0.0, 'staek'), (0.0, 'stadium'), (0.0, 'staci'), (0.0, 'stabl'), (0.0, 'sssoooooo'), (0.0, 'sssooooo'), (0.0, 'ss'), (0.0, 'sriracha'), (0.0, 'sr'), (0.0, 'squishi'), (0.0, 'squish'), (0.0, 'squirt'), (0.0, 'squirrel'), (0.0, 'squirmi'), (0.0, 'squirm'), (0.0, 'squid'), (0.0, 'squeak'), (0.0, 'squat'), (0.0, 'squabbl'), (0.0, 'sq'), (0.0, 'spur'), (0.0, 'spunki'), (0.0, 'spun'), (0.0, 'spud'), (0.0, 'sprung'), (0.0, 'spruce'), (0.0, 'spritzer'), (0.0, 'spritz'), (0.0, 'sprite'), (0.0, 'sprinkl'), (0.0, 'springi'), (0.0, 'springfield'), (0.0, 'spring'), (0.0, 'sprig'), (0.0, 'spray'), (0.0, 'sprawl'), (0.0, 'spout'), (0.0, 'spous'), (0.0, 'spotti'), (0.0, 'spotless'), (0.0, 'spotifi'), (0.0, 'sport'), (0.0, 'spork'), (0.0, 'spore'), (0.0, 'sporad'), (0.0, 'spontan'), (0.0, 'sponsor'), (0.0, 'spongier'), (0.0, 'spongi'), (0.0, 'spongebob'), (0.0, 'spong'), (0.0, 'spoken'), (0.0, 'spoilt'), (0.0, 'spoiler'), (0.0, 'splurg'), (0.0, 'spliffi'), (0.0, 'splendor'), (0.0, 'splendid'), (0.0, 'splendi'), (0.0, 'splenda'), (0.0, 'splatter'), (0.0, 'splat'), (0.0, 'splash'), (0.0, 'spite'), (0.0, 'spit'), (0.0, 'spiritu'), (0.0, 'spirit'), (0.0, 'spiral'), (0.0, 'spipot'), (0.0, 'spinx'), (0.0, 'spinner'), (0.0, 'spinach'), (0.0, 'spin'), (0.0, 'spilt'), (0.0, 'spill'), (0.0, 'spike'), (0.0, 'spif'), (0.0, 'spiel'), (0.0, 'spicyyyy'), (0.0, 'spiciest'), (0.0, 'spicier'), (0.0, 'spicey'), (0.0, 'sphilli'), (0.0, 'sphere'), (0.0, 'spetzel'), (0.0, 'spendi'), (0.0, 'spender'), (0.0, 'spenci'), (0.0, 'spencer'), (0.0, 'spelt'), (0.0, 'spell'), (0.0, 'speedway'), (0.0, 'speedi'), (0.0, 'speed'), (0.0, 'speechless'), (0.0, 'speech'), (0.0, 'spectrum'), (0.0, 'spectacl'), (0.0, 'speck'), (0.0, 'specifi'), (0.0, 'specif'), (0.0, 'specialist'), (0.0, 'specialis'), (0.0, 'speci'), (0.0, 'spec'), (0.0, 'spear'), (0.0, 'speand'), (0.0, 'speaker'), (0.0, 'speakeasi'), (0.0, 'spciy'), (0.0, 'spay'), (0.0, 'spatzl'), (0.0, 'spatula'), (0.0, 'spatro'), (0.0, 'spatchcock'), (0.0, 'spataro'), (0.0, 'spat'), (0.0, 'sparto'), (0.0, 'spars'), (0.0, 'sparkler'), (0.0, 'sparkl'), (0.0, 'spark'), (0.0, 'sparerib'), (0.0, 'spare'), (0.0, 'spanish'), (0.0, 'spanakopita'), (0.0, 'span'), (0.0, 'spam'), (0.0, 'spain'), (0.0, 'spaghetti'), (0.0, 'spaetzl'), (0.0, 'spade'), (0.0, 'spacious'), (0.0, 'spacey'), (0.0, 'spa'), (0.0, 'sp'), (0.0, 'soyu'), (0.0, 'soyoun'), (0.0, 'soybean'), (0.0, 'sown'), (0.0, 'southwestern'), (0.0, 'southwest'), (0.0, 'southern'), (0.0, 'southeast'), (0.0, 'sous'), (0.0, 'sourdough'), (0.0, 'sourc'), (0.0, 'soupi'), (0.0, 'soundtrack'), (0.0, 'soulfood'), (0.0, 'soul'), (0.0, 'sought'), (0.0, 'soufflé'), (0.0, 'soubis'), (0.0, 'sou'), (0.0, 'sosabrina'), (0.0, 'sorta'), (0.0, 'sorrow'), (0.0, 'sorpressini'), (0.0, 'sorpresa'), (0.0, 'soror'), (0.0, 'sore'), (0.0, 'soraya'), (0.0, 'sopressini'), (0.0, 'sopressata'), (0.0, 'sophist'), (0.0, 'sophia'), (0.0, 'sophi'), (0.0, 'sope'), (0.0, 'sopa'), (0.0, 'sop'), (0.0, 'sooyung'), (0.0, 'sooyoung'), (0.0, 'sooyong'), (0.0, 'sooth'), (0.0, 'soot'), (0.0, 'soooooooooooooooooooooo'), (0.0, 'soooooooooooooo'), (0.0, 'sooooooooo'), (0.0, 'soooooooo'), (0.0, 'sooooooo'), (0.0, 'soooooo'), (0.0, 'soonyoung'), (0.0, 'soondubu'), (0.0, 'soom'), (0.0, 'soo'), (0.0, 'sono'), (0.0, 'sonic'), (0.0, 'song'), (0.0, 'sonesta'), (0.0, 'son'), (0.0, 'somt'), (0.0, 'somon'), (0.0, 'somo'), (0.0, 'sommeli'), (0.0, 'somewhat'), (0.0, 'someplac'), (0.0, 'someday'), (0.0, 'somebodi'), (0.0, 'solv'), (0.0, 'solut'), (0.0, 'solomonov'), (0.0, 'solmonov'), (0.0, 'solitud'), (0.0, 'solidifi'), (0.0, 'solicit'), (0.0, 'soleil'), (0.0, 'sold'), (0.0, 'soju'), (0.0, 'sojeoung'), (0.0, 'sojeong'), (0.0, 'sogi'), (0.0, 'soggy'), (0.0, 'sog'), (0.0, 'softest'), (0.0, 'softer'), (0.0, 'soften'), (0.0, 'sofrito'), (0.0, 'sofa'), (0.0, 'sodium'), (0.0, 'sod'), (0.0, 'sockey'), (0.0, 'socket'), (0.0, 'sock'), (0.0, 'societi'), (0.0, 'socal'), (0.0, 'sober'), (0.0, 'soba'), (0.0, 'sob'), (0.0, 'soar'), (0.0, 'soap'), (0.0, 'soak'), (0.0, 'soagi'), (0.0, 'snyder'), (0.0, 'snuggl'), (0.0, 'snug'), (0.0, 'snuck'), (0.0, 'snowstorm'), (0.0, 'snowi'), (0.0, 'snowboard'), (0.0, 'snowbal'), (0.0, 'snow'), (0.0, 'snotti'), (0.0, 'snooti'), (0.0, 'snoop'), (0.0, 'snobbish'), (0.0, 'snobbi'), (0.0, 'snobberi'), (0.0, 'snob'), (0.0, 'snj'), (0.0, 'snide'), (0.0, 'snicker'), (0.0, 'sneaki'), (0.0, 'sneak'), (0.0, 'snd'), (0.0, 'snatch'), (0.0, 'snarki'), (0.0, 'snarf'), (0.0, 'snappi'), (0.0, 'snapper'), (0.0, 'snapchat'), (0.0, 'snap'), (0.0, 'snakey'), (0.0, 'snake'), (0.0, 'snail'), (0.0, 'snag'), (0.0, 'smuggl'), (0.0, 'smucker'), (0.0, 'smorgasbord'), (0.0, 'smore'), (0.0, 'smoothest'), (0.0, 'smoother'), (0.0, 'smooth'), (0.0, 'smolder'), (0.0, 'smokin'), (0.0, 'smokier'), (0.0, 'smoki'), (0.0, 'smokey'), (0.0, 'smoker'), (0.0, 'smirnoff'), (0.0, 'smidg'), (0.0, 'smelt'), (0.0, 'smelli'), (0.0, 'smear'), (0.0, 'smdh'), (0.0, 'smatter'), (0.0, 'smashi'), (0.0, 'smash'), (0.0, 'smarter'), (0.0, 'smart'), (0.0, 'smallloca'), (0.0, 'smallish'), (0.0, 'smallest'), (0.0, 'smackaroni'), (0.0, 'smack'), (0.0, 'slushi'), (0.0, 'slush'), (0.0, 'slurri'), (0.0, 'slurpi'), (0.0, 'slurp'), (0.0, 'sluggish'), (0.0, 'slowli'), (0.0, 'slower'), (0.0, 'sloven'), (0.0, 'slot'), (0.0, 'sloppili'), (0.0, 'slop'), (0.0, 'slooowww'), (0.0, 'slmuou'), (0.0, 'sliver'), (0.0, 'slip'), (0.0, 'sling'), (0.0, 'slimi'), (0.0, 'slim'), (0.0, 'slightest'), (0.0, 'slider'), (0.0, 'slide'), (0.0, 'slid'), (0.0, 'slicker'), (0.0, 'sli'), (0.0, 'slew'), (0.0, 'slept'), (0.0, 'sleev'), (0.0, 'sleepi'), (0.0, 'sleeper'), (0.0, 'sleep'), (0.0, 'sleek'), (0.0, 'slaw'), (0.0, 'slaughter'), (0.0, 'slather'), (0.0, 'slate'), (0.0, 'slash'), (0.0, 'slant'), (0.0, 'slang'), (0.0, 'slammin'), (0.0, 'slack'), (0.0, 'slab'), (0.0, 'skylin'), (0.0, 'sky'), (0.0, 'skool'), (0.0, 'skirt'), (0.0, 'skippi'), (0.0, 'skippabl'), (0.0, 'skinni'), (0.0, 'skincar'), (0.0, 'skimpin'), (0.0, 'skillset'), (0.0, 'skillet'), (0.0, 'skill'), (0.0, 'skid'), (0.0, 'ski'), (0.0, 'skew'), (0.0, 'sketchi'), (0.0, 'sketchhh'), (0.0, 'sketch'), (0.0, 'skeptic'), (0.0, 'skelter'), (0.0, 'skeleton'), (0.0, 'skedaddl'), (0.0, 'skate'), (0.0, 'sj'), (0.0, 'sizzl'), (0.0, 'sizeabl'), (0.0, 'sizabl'), (0.0, 'sixti'), (0.0, 'sixth'), (0.0, 'sixer'), (0.0, 'siumai'), (0.0, 'siu'), (0.0, 'sittin'), (0.0, 'site'), (0.0, 'sitdown'), (0.0, 'sitch'), (0.0, 'sishlik'), (0.0, 'sish'), (0.0, 'sis'), (0.0, 'sirven'), (0.0, 'sirloin'), (0.0, 'siren'), (0.0, 'siracha'), (0.0, 'sir'), (0.0, 'siobhan'), (0.0, 'sinónimo'), (0.0, 'sinus'), (0.0, 'sinner'), (0.0, 'sinkhol'), (0.0, 'singular'), (0.0, 'singer'), (0.0, 'singapor'), (0.0, 'sing'), (0.0, 'sine'), (0.0, 'sincer'), (0.0, 'sinatra'), (0.0, 'sin'), (0.0, 'simultan'), (0.0, 'simular'), (0.0, 'simul'), (0.0, 'simplist'), (0.0, 'simplifi'), (0.0, 'simplic'), (0.0, 'simplest'), (0.0, 'simpler'), (0.0, 'simplement'), (0.0, 'simp'), (0.0, 'simon'), (0.0, 'simmon'), (0.0, 'simmer'), (0.0, 'simin'), (0.0, 'similr'), (0.0, 'sim'), (0.0, 'silverwar'), (0.0, 'silver'), (0.0, 'silli'), (0.0, 'sill'), (0.0, 'silkiest'), (0.0, 'silki'), (0.0, 'silk'), (0.0, 'silent'), (0.0, 'silenc'), (0.0, 'signifi'), (0.0, 'signal'), (0.0, 'signag'), (0.0, 'sigma'), (0.0, 'sight'), (0.0, 'sigh'), (0.0, 'sift'), (0.0, 'siet'), (0.0, 'siesta'), (0.0, 'siecl'), (0.0, 'sidl'), (0.0, 'sideway'), (0.0, 'sidenot'), (0.0, 'sidekick'), (0.0, 'sidecar'), (0.0, 'sideburn'), (0.0, 'sicurament'), (0.0, 'sicki'), (0.0, 'sicken'), (0.0, 'sicilian'), (0.0, 'sicili'), (0.0, 'sichusn'), (0.0, 'sichuan'), (0.0, 'sibl'), (0.0, 'siberia'), (0.0, 'sib'), (0.0, 'si'), (0.0, 'shuyo'), (0.0, 'shutter'), (0.0, 'shutdown'), (0.0, 'shut'), (0.0, 'shushi'), (0.0, 'shuraya'), (0.0, 'shunai'), (0.0, 'shun'), (0.0, 'shumai'), (0.0, 'shukran'), (0.0, 'shui'), (0.0, 'shuffl'), (0.0, 'shuck'), (0.0, 'shu'), (0.0, 'shttttttttttttt'), (0.0, 'sht'), (0.0, 'shrunk'), (0.0, 'shrug'), (0.0, 'shrub'), (0.0, 'shroom'), (0.0, 'shrivel'), (0.0, 'shoyo'), (0.0, 'showstopp'), (0.0, 'shown'), (0.0, 'showmanship'), (0.0, 'showi'), (0.0, 'shower'), (0.0, 'showcas'), (0.0, 'shovel'), (0.0, 'shove'), (0.0, 'shoulda'), (0.0, 'shou'), (0.0, 'shotti'), (0.0, 'shortrib'), (0.0, 'shorthand'), (0.0, 'shorth'), (0.0, 'shorter'), (0.0, 'shorten'), (0.0, 'shortcom'), (0.0, 'shortchang'), (0.0, 'shortcak'), (0.0, 'shortbread'), (0.0, 'shortag'), (0.0, 'shore'), (0.0, 'shoprit'), (0.0, 'shopper'), (0.0, 'shopp'), (0.0, 'shoot'), (0.0, 'shook'), (0.0, 'shoo'), (0.0, 'shokran'), (0.0, 'shogun'), (0.0, 'shoeck'), (0.0, 'shoe'), (0.0, 'shoddi'), (0.0, 'shockwav'), (0.0, 'shocker'), (0.0, 'shock'), (0.0, 'shochu'), (0.0, 'shobu'), (0.0, 'sho'), (0.0, 'shizz'), (0.0, 'shizhou'), (0.0, 'shiver'), (0.0, 'shitti'), (0.0, 'shittest'), (0.0, 'shite'), (0.0, 'shitaki'), (0.0, 'shitak'), (0.0, 'shitadelphia'), (0.0, 'shisoto'), (0.0, 'shiso'), (0.0, 'shisito'), (0.0, 'shishlik'), (0.0, 'shishlick'), (0.0, 'shishito'), (0.0, 'shish'), (0.0, 'shirley'), (0.0, 'shiraz'), (0.0, 'shipment'), (0.0, 'ship'), (0.0, 'shio'), (0.0, 'shini'), (0.0, 'shine'), (0.0, 'shin'), (0.0, 'shimmi'), (0.0, 'shill'), (0.0, 'shiitak'), (0.0, 'shigoku'), (0.0, 'shifti'), (0.0, 'shift'), (0.0, 'shield'), (0.0, 'shi'), (0.0, 'shhhh'), (0.0, 'shhh'), (0.0, 'shes'), (0.0, 'sherri'), (0.0, 'sherpard'), (0.0, 'sherbet'), (0.0, 'sherbert'), (0.0, 'sheraton'), (0.0, 'shepperd'), (0.0, 'sheppard'), (0.0, 'shepherd'), (0.0, 'shephard'), (0.0, 'shepard'), (0.0, 'sheng'), (0.0, 'shenanigan'), (0.0, 'shen'), (0.0, 'shelv'), (0.0, 'shelter'), (0.0, 'shelli'), (0.0, 'shellfish'), (0.0, 'shelf'), (0.0, 'shelbi'), (0.0, 'sheik'), (0.0, 'sheffield'), (0.0, 'sheet'), (0.0, 'sheesh'), (0.0, 'sheer'), (0.0, 'sheek'), (0.0, 'sheeeesh'), (0.0, 'sheeeeesh'), (0.0, 'shed'), (0.0, 'sheboygan'), (0.0, 'sheath'), (0.0, 'shawarman'), (0.0, 'shawarma'), (0.0, 'shave'), (0.0, 'shaun'), (0.0, 'shatter'), (0.0, 'shashlik'), (0.0, 'shashimi'), (0.0, 'sharper'), (0.0, 'sharpen'), (0.0, 'shark'), (0.0, 'shareabl'), (0.0, 'shard'), (0.0, 'sharabl'), (0.0, 'shar'), (0.0, 'shape'), (0.0, 'shaomai'), (0.0, 'shao'), (0.0, 'shant'), (0.0, 'shanshan'), (0.0, 'shannon'), (0.0, 'shank'), (0.0, 'shanghaines'), (0.0, 'shanghaies'), (0.0, 'shane'), (0.0, 'shandi'), (0.0, 'shan'), (0.0, 'shampoo'), (0.0, 'shamandar'), (0.0, 'shallow'), (0.0, 'shallot'), (0.0, 'shall'), (0.0, 'shakshuka'), (0.0, 'shaki'), (0.0, 'shakespear'), (0.0, 'shaker'), (0.0, 'shaken'), (0.0, 'shadow'), (0.0, 'shadier'), (0.0, 'shadia'), (0.0, 'shadi'), (0.0, 'shade'), (0.0, 'shack'), (0.0, 'shabushabu'), (0.0, 'shabu'), (0.0, 'shabbi'), (0.0, 'shabang'), (0.0, 'sha'), (0.0, 'sh'), (0.0, 'sf'), (0.0, 'sexual'), (0.0, 'sexiest'), (0.0, 'sexi'), (0.0, 'sex'), (0.0, 'sewer'), (0.0, 'sevr'), (0.0, 'sevich'), (0.0, 'seventh'), (0.0, 'seven'), (0.0, 'seussland'), (0.0, 'seuss'), (0.0, 'setup'), (0.0, 'settl'), (0.0, 'setback'), (0.0, 'session'), (0.0, 'seshnik'), (0.0, 'sesam'), (0.0, 'sería'), (0.0, 'servingwar'), (0.0, 'servid'), (0.0, 'servicei'), (0.0, 'servant'), (0.0, 'serval'), (0.0, 'serrat'), (0.0, 'serrano'), (0.0, 'serpentin'), (0.0, 'serivc'), (0.0, 'serio'), (0.0, 'seriatim'), (0.0, 'seri'), (0.0, 'sergio'), (0.0, 'serendip'), (0.0, 'seren'), (0.0, 'ser'), (0.0, 'sequenc'), (0.0, 'septemb'), (0.0, 'septa'), (0.0, 'sept'), (0.0, 'sephard'), (0.0, 'seper'), (0.0, 'sentiment'), (0.0, 'sentenc'), (0.0, 'sentada'), (0.0, 'sensori'), (0.0, 'sensit'), (0.0, 'sensibl'), (0.0, 'sensat'), (0.0, 'send'), (0.0, 'sen'), (0.0, 'semonlina'), (0.0, 'semolina'), (0.0, 'seminari'), (0.0, 'seminar'), (0.0, 'semifreddo'), (0.0, 'semifirst'), (0.0, 'semicircl'), (0.0, 'semi'), (0.0, 'semest'), (0.0, 'semana'), (0.0, 'selv'), (0.0, 'seltzer'), (0.0, 'seller'), (0.0, 'selfish'), (0.0, 'selfi'), (0.0, 'self_claim'), (0.0, 'self'), (0.0, 'seldom'), (0.0, 'seiz'), (0.0, 'seitan'), (0.0, 'seinfield'), (0.0, 'seinfeld'), (0.0, 'segment'), (0.0, 'seep'), (0.0, 'seemless'), (0.0, 'seeker'), (0.0, 'seek'), (0.0, 'seedless'), (0.0, 'seedi'), (0.0, 'seduct'), (0.0, 'secret'), (0.0, 'secreci'), (0.0, 'secondo'), (0.0, 'seclud'), (0.0, 'seca'), (0.0, 'sec'), (0.0, 'seawe'), (0.0, 'seattl'), (0.0, 'seater'), (0.0, 'seasam'), (0.0, 'sear'), (0.0, 'seapit'), (0.0, 'seaonal'), (0.0, 'sean'), (0.0, 'seamless'), (0.0, 'seam'), (0.0, 'seal'), (0.0, 'seafoood'), (0.0, 'seaboard'), (0.0, 'seabass'), (0.0, 'se'), (0.0, 'sd'), (0.0, 'scurri'), (0.0, 'sculptur'), (0.0, 'scuf'), (0.0, 'scuba'), (0.0, 'scrutini'), (0.0, 'scrunch'), (0.0, 'scrub'), (0.0, 'scroll'), (0.0, 'script'), (0.0, 'scribbl'), (0.0, 'screwer'), (0.0, 'screw'), (0.0, 'screenshot'), (0.0, 'screen'), (0.0, 'scratch'), (0.0, 'scrappl'), (0.0, 'scrapl'), (0.0, 'scrape'), (0.0, 'scrap'), (0.0, 'scowl'), (0.0, 'scout'), (0.0, 'scourg'), (0.0, 'scour'), (0.0, 'scottish'), (0.0, 'scotti'), (0.0, 'scotsman'), (0.0, 'scotch'), (0.0, 'scossa'), (0.0, 'scorpion'), (0.0, 'scorch'), (0.0, 'scope'), (0.0, 'scooter'), (0.0, 'scoot'), (0.0, 'scone'), (0.0, 'scold'), (0.0, 'scintil'), (0.0, 'scientif'), (0.0, 'scienc'), (0.0, 'schwartz'), (0.0, 'schuylkil'), (0.0, 'schuykil'), (0.0, 'schulson'), (0.0, 'schug'), (0.0, 'schtick'), (0.0, 'schooler'), (0.0, 'schnitzel'), (0.0, 'schnapp'), (0.0, 'schmuck'), (0.0, 'schmitz'), (0.0, 'schmitter'), (0.0, 'schmitt'), (0.0, 'schmegular'), (0.0, 'schmear'), (0.0, 'schlick'), (0.0, 'schlep'), (0.0, 'schlemel'), (0.0, 'schitt'), (0.0, 'schezwan'), (0.0, 'scheme'), (0.0, 'schechuan'), (0.0, 'sceptic'), (0.0, 'scent'), (0.0, 'scenic'), (0.0, 'scenario'), (0.0, 'scechuan'), (0.0, 'scaveng'), (0.0, 'scatter'), (0.0, 'scari'), (0.0, 'scarf'), (0.0, 'scare'), (0.0, 'scarc'), (0.0, 'scantili'), (0.0, 'scant'), (0.0, 'scanner'), (0.0, 'scannabl'), (0.0, 'scan'), (0.0, 'scampi'), (0.0, 'scammer'), (0.0, 'scam'), (0.0, 'scalop'), (0.0, 'scale'), (0.0, 'scald'), (0.0, 'sc'), (0.0, 'sazerac'), (0.0, 'sayin'), (0.0, 'sayfia'), (0.0, 'sayf'), (0.0, 'sawdust'), (0.0, 'sawdat'), (0.0, 'savvi'), (0.0, 'savoy'), (0.0, 'savouri'), (0.0, 'savour'), (0.0, 'savor'), (0.0, 'saver'), (0.0, 'savag'), (0.0, 'sauvignon'), (0.0, 'sauv'), (0.0, 'sauté'), (0.0, 'saute'), (0.0, 'saut'), (0.0, 'sausaug'), (0.0, 'sauerkraut'), (0.0, 'saudi'), (0.0, 'sauci'), (0.0, 'saucer'), (0.0, 'saucepan'), (0.0, 'sauceless'), (0.0, 'saté'), (0.0, 'satur'), (0.0, 'satisfactori'), (0.0, 'satisfact'), (0.0, 'satifact'), (0.0, 'satiat'), (0.0, 'satefi'), (0.0, 'sate'), (0.0, 'satay'), (0.0, 'sassi'), (0.0, 'sass'), (0.0, 'sashimi'), (0.0, 'sashami'), (0.0, 'sarlacc'), (0.0, 'sari'), (0.0, 'sardin'), (0.0, 'sarcon'), (0.0, 'sarcast'), (0.0, 'sarcasm'), (0.0, 'saraya'), (0.0, 'sarah'), (0.0, 'sara'), (0.0, 'sapporo'), (0.0, 'sao'), (0.0, 'sanwhich'), (0.0, 'santana'), (0.0, 'santa'), (0.0, 'sansom'), (0.0, 'saniti'), (0.0, 'sanitari'), (0.0, 'sanit'), (0.0, 'sanguinello'), (0.0, 'sanguchito'), (0.0, 'sanguch'), (0.0, 'sanguanello'), (0.0, 'sangke'), (0.0, 'sangioves'), (0.0, 'sangawich'), (0.0, 'sangak'), (0.0, 'sang'), (0.0, 'sane'), (0.0, 'sandwichcan'), (0.0, 'sandwhich'), (0.0, 'sandpap'), (0.0, 'sandi'), (0.0, 'sanderson'), (0.0, 'sandal'), (0.0, 'sand'), (0.0, 'sancerr'), (0.0, 'san'), (0.0, 'samson'), (0.0, 'sampler'), (0.0, 'samosa'), (0.0, 'samoan'), (0.0, 'sammich'), (0.0, 'sammi'), (0.0, 'samkeh'), (0.0, 'samk'), (0.0, 'sambuca'), (0.0, 'samantha'), (0.0, 'sam'), (0.0, 'salvo'), (0.0, 'salvat'), (0.0, 'salvag'), (0.0, 'salut'), (0.0, 'salud'), (0.0, 'saltiest'), (0.0, 'saltier'), (0.0, 'salter'), (0.0, 'salta'), (0.0, 'salsiccia'), (0.0, 'salpeppaketchup'), (0.0, 'salon'), (0.0, 'salomonv'), (0.0, 'salomonov'), (0.0, 'salom'), (0.0, 'salmón'), (0.0, 'salmoriglia'), (0.0, 'salli'), (0.0, 'saliv'), (0.0, 'salitim'), (0.0, 'salin'), (0.0, 'salimo'), (0.0, 'salesman'), (0.0, 'salen'), (0.0, 'sale'), (0.0, 'salatim'), (0.0, 'salati'), (0.0, 'salari'), (0.0, 'salamonov'), (0.0, 'salami'), (0.0, 'sala'), (0.0, 'saké'), (0.0, 'sakura'), (0.0, 'saki'), (0.0, 'saint'), (0.0, 'sailor'), (0.0, 'sail'), (0.0, 'saigon'), (0.0, 'sahav'), (0.0, 'sahara'), (0.0, 'sage'), (0.0, 'sag'), (0.0, 'safran'), (0.0, 'saffron'), (0.0, 'safeti'), (0.0, 'safest'), (0.0, 'safer'), (0.0, 'sadi'), (0.0, 'saddest'), (0.0, 'sadden'), (0.0, 'sacré'), (0.0, 'sacrileg'), (0.0, 'sacrific'), (0.0, 'sacrif'), (0.0, 'sacr'), (0.0, 'sachlev'), (0.0, 'sachlav'), (0.0, 'saccharin'), (0.0, 'sabroso'), (0.0, 'sabriana'), (0.0, 'sabra'), (0.0, 'sabor'), (0.0, 'sabl'), (0.0, 'sabich'), (0.0, 'sabdwich'), (0.0, 'sababa'), (0.0, 'saara'), (0.0, 'saad'), (0.0, 'résistanc'), (0.0, 'rèsistanc'), (0.0, 'rábano'), (0.0, 'rye'), (0.0, 'ryan'), (0.0, 'ruthless'), (0.0, 'rustl'), (0.0, 'rustic'), (0.0, 'russian'), (0.0, 'russ'), (0.0, 'rushi'), (0.0, 'ruptur'), (0.0, 'ruoshi'), (0.0, 'runni'), (0.0, 'runner'), (0.0, 'rundown'), (0.0, 'runaway'), (0.0, 'rump'), (0.0, 'rumor'), (0.0, 'rummag'), (0.0, 'rumbl'), (0.0, 'rum'), (0.0, 'ruben'), (0.0, 'rubber'), (0.0, 'rub'), (0.0, 'ru'), (0.0, 'rtm'), (0.0, 'rt'), (0.0, 'rsvp'), (0.0, 'royer'), (0.0, 'royalti'), (0.0, 'royal'), (0.0, 'roxi'), (0.0, 'roxburough'), (0.0, 'roxbourough'), (0.0, 'roxbourgh'), (0.0, 'roxborough'), (0.0, 'roxboro'), (0.0, 'roxann'), (0.0, 'rox'), (0.0, 'rowhom'), (0.0, 'rowdier'), (0.0, 'rowdi'), (0.0, 'row'), (0.0, 'rovatayaki'), (0.0, 'routin'), (0.0, 'rout'), (0.0, 'roushi'), (0.0, 'roundabout'), (0.0, 'roughag'), (0.0, 'roug'), (0.0, 'rou'), (0.0, 'rotten'), (0.0, 'rotisseri'), (0.0, 'rotat'), (0.0, 'rot'), (0.0, 'rosé'), (0.0, 'ross'), (0.0, 'rosewat'), (0.0, 'rosetta'), (0.0, 'rosenth'), (0.0, 'rosenda'), (0.0, 'rosemari'), (0.0, 'rosehip'), (0.0, 'rosario'), (0.0, 'rope'), (0.0, 'root'), (0.0, 'rooster'), (0.0, 'roommat'), (0.0, 'roomi'), (0.0, 'rooki'), (0.0, 'rooftop'), (0.0, 'roof'), (0.0, 'ronzoni'), (0.0, 'rona'), (0.0, 'ron'), (0.0, 'rome'), (0.0, 'romarin'), (0.0, 'romané'), (0.0, 'romantic'), (0.0, 'romano'), (0.0, 'romanian'), (0.0, 'romanesco'), (0.0, 'romanc'), (0.0, 'roman'), (0.0, 'romain'), (0.0, 'roma'), (0.0, 'rom'), (0.0, 'rollin'), (0.0, 'rollercoast'), (0.0, 'roller'), (0.0, 'rolex'), (0.0, 'role'), (0.0, 'roland'), (0.0, 'roja'), (0.0, 'rohan'), (0.0, 'rogu'), (0.0, 'roe'), (0.0, 'rodeo'), (0.0, 'rodent'), (0.0, 'rode'), (0.0, 'rockstar'), (0.0, 'rockin'), (0.0, 'rocki'), (0.0, 'rocket'), (0.0, 'rochest'), (0.0, 'rocher'), (0.0, 'robytaki'), (0.0, 'robutaki'), (0.0, 'robust'), (0.0, 'robotoyaki'), (0.0, 'robotayaki'), (0.0, 'robotaki'), (0.0, 'robot'), (0.0, 'robo'), (0.0, 'robetayaki'), (0.0, 'robert'), (0.0, 'robe'), (0.0, 'robberi'), (0.0, 'robatayki'), (0.0, 'robataki'), (0.0, 'robata'), (0.0, 'rob'), (0.0, 'roasti'), (0.0, 'roaster'), (0.0, 'roar'), (0.0, 'roam'), (0.0, 'roadsid'), (0.0, 'roadhous'), (0.0, 'rn'), (0.0, 'rli'), (0.0, 'rj'), (0.0, 'river'), (0.0, 'rivalri'), (0.0, 'rival'), (0.0, 'ritz'), (0.0, 'ritual'), (0.0, 'ritter'), (0.0, 'rittensquar'), (0.0, 'rite'), (0.0, 'ritchi'), (0.0, 'rita'), (0.0, 'risotto'), (0.0, 'risoto'), (0.0, 'riski'), (0.0, 'risk'), (0.0, 'riser'), (0.0, 'risen'), (0.0, 'rise'), (0.0, 'rippl'), (0.0, 'ripper'), (0.0, 'ripoff'), (0.0, 'ripen'), (0.0, 'ripe'), (0.0, 'riot'), (0.0, 'rio'), (0.0, 'rins'), (0.0, 'rink'), (0.0, 'rindi'), (0.0, 'rind'), (0.0, 'rime'), (0.0, 'rim'), (0.0, 'rillett'), (0.0, 'riley'), (0.0, 'riiiight'), (0.0, 'rigid'), (0.0, 'righteous'), (0.0, 'rigatoni'), (0.0, 'rigat'), (0.0, 'rigamarol'), (0.0, 'rig'), (0.0, 'riff'), (0.0, 'riesl'), (0.0, 'riel'), (0.0, 'riehl'), (0.0, 'rider'), (0.0, 'ride'), (0.0, 'riddanc'), (0.0, 'ridcul'), (0.0, 'rid'), (0.0, 'ricotto'), (0.0, 'rico'), (0.0, 'rick'), (0.0, 'richman'), (0.0, 'richest'), (0.0, 'richer'), (0.0, 'richard'), (0.0, 'richan'), (0.0, 'riccotta'), (0.0, 'riccota'), (0.0, 'ricardo'), (0.0, 'rican'), (0.0, 'riblet'), (0.0, 'ribbon'), (0.0, 'rhône'), (0.0, 'rhyme'), (0.0, 'rhum'), (0.0, 'rhubi'), (0.0, 'rhubarb'), (0.0, 'rhode'), (0.0, 'rhe'), (0.0, 'rezzo'), (0.0, 'rezzi'), (0.0, 'rez'), (0.0, 'rey'), (0.0, 'rex'), (0.0, 'reward'), (0.0, 'revolv'), (0.0, 'revolutionari'), (0.0, 'revolut'), (0.0, 'revoir'), (0.0, 'reviv'), (0.0, 'revist'), (0.0, 'revisit'), (0.0, 'revers'), (0.0, 'rever'), (0.0, 'revel'), (0.0, 'reveal'), (0.0, 'revamp'), (0.0, 'reusabl'), (0.0, 'reus'), (0.0, 'reunit'), (0.0, 'reunion'), (0.0, 'reuben'), (0.0, 'retun'), (0.0, 'retrospect'), (0.0, 'retro'), (0.0, 'retriev'), (0.0, 'retreat'), (0.0, 'retract'), (0.0, 'retir'), (0.0, 'rethink'), (0.0, 'retent'), (0.0, 'retaur'), (0.0, 'retain'), (0.0, 'retail'), (0.0, 'resv'), (0.0, 'resultó'), (0.0, 'restur'), (0.0, 'restuar'), (0.0, 'restructur'), (0.0, 'restrict'), (0.0, 'restraint'), (0.0, 'restrain'), (0.0, 'restor'), (0.0, 'restock'), (0.0, 'resto'), (0.0, 'resteraunt'), (0.0, 'restaurateur'), (0.0, 'restauranteur'), (0.0, 'restaurant'), (0.0, 'restaru'), (0.0, 'restart'), (0.0, 'restaraunt'), (0.0, 'restar'), (0.0, 'respres'), (0.0, 'resplend'), (0.0, 'respit'), (0.0, 'resourc'), (0.0, 'resound'), (0.0, 'resort'), (0.0, 'reson'), (0.0, 'resolv'), (0.0, 'resolut'), (0.0, 'reso'), (0.0, 'resist'), (0.0, 'resisit'), (0.0, 'resign'), (0.0, 'residu'), (0.0, 'residenti'), (0.0, 'resi'), (0.0, 'reset'), (0.0, 'resent'), (0.0, 'resend'), (0.0, 'resembl'), (0.0, 'rescu'), (0.0, 'rescind'), (0.0, 'reschedul'), (0.0, 'res'), (0.0, 'rerun'), (0.0, 'rerrd'), (0.0, 'requisit'), (0.0, 'repuls'), (0.0, 'repugn'), (0.0, 'reproach'), (0.0, 'repriev'), (0.0, 'repres'), (0.0, 'reposit'), (0.0, 'reposado'), (0.0, 'reposada'), (0.0, 'report'), (0.0, 'replica'), (0.0, 'replic'), (0.0, 'repli'), (0.0, 'replet'), (0.0, 'replenish'), (0.0, 'repetit'), (0.0, 'repast'), (0.0, 'repaid'), (0.0, 'rep'), (0.0, 'reorder'), (0.0, 'reopen'), (0.0, 'renter'), (0.0, 'rental'), (0.0, 'rent'), (0.0, 'renown'), (0.0, 'renov'), (0.0, 'reno'), (0.0, 'rennet'), (0.0, 'renew'), (0.0, 'rendit'), (0.0, 'rendezv'), (0.0, 'render'), (0.0, 'renam'), (0.0, 'renaiss'), (0.0, 'remoulad'), (0.0, 'remot'), (0.0, 'remors'), (0.0, 'remodel'), (0.0, 'remnant'), (0.0, 'remmi'), (0.0, 'remix'), (0.0, 'remiss'), (0.0, 'reminiscint'), (0.0, 'reminisc'), (0.0, 'remi'), (0.0, 'remember'), (0.0, 'remedi'), (0.0, 'remark'), (0.0, 'reman'), (0.0, 'remak'), (0.0, 'remaind'), (0.0, 'remain'), (0.0, 'remai'), (0.0, 'reluct'), (0.0, 'relucat'), (0.0, 'reloc'), (0.0, 'reliv'), (0.0, 'relish'), (0.0, 'religi'), (0.0, 'reliev'), (0.0, 'relief'), (0.0, 'reliant'), (0.0, 'reliabl'), (0.0, 'reli'), (0.0, 'relev'), (0.0, 'releas'), (0.0, 'relay'), (0.0, 'relationship'), (0.0, 'relai'), (0.0, 'rejuven'), (0.0, 'rejoin'), (0.0, 'rejoic'), (0.0, 'reiter'), (0.0, 'reisl'), (0.0, 'reinvigor'), (0.0, 'reinvent'), (0.0, 'reinstat'), (0.0, 'reinforc'), (0.0, 'reimburs'), (0.0, 'reimagin'), (0.0, 'reign'), (0.0, 'reheat'), (0.0, 'rehab'), (0.0, 'regul'), (0.0, 'regroup'), (0.0, 'regrett'), (0.0, 'registrar'), (0.0, 'region'), (0.0, 'regim'), (0.0, 'regard'), (0.0, 'regal'), (0.0, 'reg'), (0.0, 'refug'), (0.0, 'refriger'), (0.0, 'refridger'), (0.0, 'refri'), (0.0, 'refreshen'), (0.0, 'refrain'), (0.0, 'reform'), (0.0, 'refold'), (0.0, 'reflux'), (0.0, 'reflect'), (0.0, 'refin'), (0.0, 'referr'), (0.0, 'referenc'), (0.0, 'reel'), (0.0, 'reek'), (0.0, 'reed'), (0.0, 'redvelvet'), (0.0, 'redund'), (0.0, 'reduct'), (0.0, 'reduc'), (0.0, 'redskin'), (0.0, 'redol'), (0.0, 'redo'), (0.0, 'redid'), (0.0, 'redhot'), (0.0, 'redempt'), (0.0, 'redeem'), (0.0, 'redditor'), (0.0, 'redcoat'), (0.0, 'recycl'), (0.0, 'recuper'), (0.0, 'rectum'), (0.0, 'rectifi'), (0.0, 'rectangl'), (0.0, 'recruit'), (0.0, 'recreat'), (0.0, 'recoveri'), (0.0, 'recov'), (0.0, 'recoup'), (0.0, 'recorriendo'), (0.0, 'record'), (0.0, 'recook'), (0.0, 'reconven'), (0.0, 'reconsid'), (0.0, 'reconnect'), (0.0, 'reconfirm'), (0.0, 'recomend'), (0.0, 'recom'), (0.0, 'recollect'), (0.0, 'recogniz'), (0.0, 'recognit'), (0.0, 'recogn'), (0.0, 'reclin'), (0.0, 'recit'), (0.0, 'reciev'), (0.0, 'recheck'), (0.0, 'recess'), (0.0, 'receptionist'), (0.0, 'recept'), (0.0, 'receipt'), (0.0, 'reccomend'), (0.0, 'recap'), (0.0, 'recal'), (0.0, 'rec'), (0.0, 'rebuk'), (0.0, 'rebuilt'), (0.0, 'rebel'), (0.0, 'rebecca'), (0.0, 'rebe'), (0.0, 'reassur'), (0.0, 'rearrang'), (0.0, 'rear'), (0.0, 'reappli'), (0.0, 'ream'), (0.0, 'realtor'), (0.0, 'realti'), (0.0, 'realm'), (0.0, 'reallyyyy'), (0.0, 'reallyyi'), (0.0, 'realllllli'), (0.0, 'reallllli'), (0.0, 'realize'), (0.0, 'realiti'), (0.0, 'realis'), (0.0, 'reaffirm'), (0.0, 'reaf'), (0.0, 'readjust'), (0.0, 'readili'), (0.0, 'reader'), (0.0, 'reaction'), (0.0, 'react'), (0.0, 'razor'), (0.0, 'raymond'), (0.0, 'ray'), (0.0, 'ravioli'), (0.0, 'raven'), (0.0, 'raucous'), (0.0, 'rattl'), (0.0, 'raton'), (0.0, 'rational'), (0.0, 'ration'), (0.0, 'ratchet'), (0.0, 'ratatouill'), (0.0, 'ratajkowski'), (0.0, 'rat'), (0.0, 'raspberri'), (0.0, 'rasili'), (0.0, 'ras'), (0.0, 'rariti'), (0.0, 'rarer'), (0.0, 'rarebit'), (0.0, 'rapport'), (0.0, 'rapidfir'), (0.0, 'rapid'), (0.0, 'rape'), (0.0, 'rap'), (0.0, 'rant'), (0.0, 'rank'), (0.0, 'ranhero'), (0.0, 'rangoon'), (0.0, 'rancid'), (0.0, 'ranchoer'), (0.0, 'rancho'), (0.0, 'ranchilli'), (0.0, 'rancharo'), (0.0, 'ranch'), (0.0, 'ramsey'), (0.0, 'ramrod'), (0.0, 'ramp'), (0.0, 'ramona'), (0.0, 'ramon'), (0.0, 'ramekin'), (0.0, 'rambl'), (0.0, 'raman'), (0.0, 'ramadan'), (0.0, 'ralli'), (0.0, 'raja'), (0.0, 'raisin'), (0.0, 'raincoat'), (0.0, 'rainbow'), (0.0, 'railroad'), (0.0, 'rail'), (0.0, 'raiki'), (0.0, 'raid'), (0.0, 'ragú'), (0.0, 'ragu'), (0.0, 'ragout'), (0.0, 'ragoon'), (0.0, 'rage'), (0.0, 'rag'), (0.0, 'rafter'), (0.0, 'raffl'), (0.0, 'radius'), (0.0, 'radish'), (0.0, 'radio'), (0.0, 'radiat'), (0.0, 'radar'), (0.0, 'rad'), (0.0, 'racquet'), (0.0, 'racoon'), (0.0, 'raclett'), (0.0, 'rack'), (0.0, 'racism'), (0.0, 'racial'), (0.0, 'rachel'), (0.0, 'race'), (0.0, 'rabe'), (0.0, 'rabbi'), (0.0, 'raaav'), (0.0, 'qué'), (0.0, 'quynh'), (0.0, 'quynch'), (0.0, 'quyhn'), (0.0, 'quotient'), (0.0, 'quotidien'), (0.0, 'quo'), (0.0, 'qunyh'), (0.0, 'quizá'), (0.0, 'quizz'), (0.0, 'quiz'), (0.0, 'quitter'), (0.0, 'quitr'), (0.0, 'quitidien'), (0.0, 'quirkiest'), (0.0, 'quirki'), (0.0, 'quintupl'), (0.0, 'quintessenti'), (0.0, 'quinoa'), (0.0, 'quinci'), (0.0, 'quinc'), (0.0, 'quieter'), (0.0, 'quicki'), (0.0, 'quickest'), (0.0, 'quicker'), (0.0, 'quich'), (0.0, 'quibbl'), (0.0, 'queue'), (0.0, 'queu'), (0.0, 'queso'), (0.0, 'quesadilla'), (0.0, 'queri'), (0.0, 'quencher'), (0.0, 'quench'), (0.0, 'queen'), (0.0, 'quedamo'), (0.0, 'queasi'), (0.0, 'que'), (0.0, 'quasi'), (0.0, 'quarter'), (0.0, 'quart'), (0.0, 'quarantin'), (0.0, 'quantifi'), (0.0, 'qualm'), (0.0, 'qualityy'), (0.0, 'qualifi'), (0.0, 'quaker'), (0.0, 'quaint'), (0.0, 'quail'), (0.0, 'quadrupl'), (0.0, 'quadrangl'), (0.0, 'quac'), (0.0, 'qu'), (0.0, 'qti'), (0.0, 'qr'), (0.0, 'qnd'), (0.0, 'q'), (0.0, 'pâté'), (0.0, 'pápa'), (0.0, 'puzzl'), (0.0, 'putrid'), (0.0, 'pushi'), (0.0, 'pushback'), (0.0, 'pus'), (0.0, 'puré'), (0.0, 'purveyor'), (0.0, 'pursu'), (0.0, 'purslan'), (0.0, 'purs'), (0.0, 'purpos'), (0.0, 'purport'), (0.0, 'purpl'), (0.0, 'purist'), (0.0, 'purest'), (0.0, 'purer'), (0.0, 'pure'), (0.0, 'purchas'), (0.0, 'puppi'), (0.0, 'pup'), (0.0, 'punnet'), (0.0, 'punk'), (0.0, 'punish'), (0.0, 'pungent'), (0.0, 'punctur'), (0.0, 'punctuat'), (0.0, 'punctual'), (0.0, 'punchi'), (0.0, 'punch'), (0.0, 'pun'), (0.0, 'pumpkin'), (0.0, 'pumpernickel'), (0.0, 'pump'), (0.0, 'pulver'), (0.0, 'pulsat'), (0.0, 'puls'), (0.0, 'pulp'), (0.0, 'puke'), (0.0, 'puh'), (0.0, 'puffi'), (0.0, 'puf'), (0.0, 'puerto'), (0.0, 'pued'), (0.0, 'pudg'), (0.0, 'puddl'), (0.0, 'puck'), (0.0, 'publix'), (0.0, 'publish'), (0.0, 'pubic'), (0.0, 'pubbish'), (0.0, 'pu'), (0.0, 'ptsd'), (0.0, 'pthe'), (0.0, 'pt'), (0.0, 'psychot'), (0.0, 'psychopath'), (0.0, 'psychic'), (0.0, 'psych'), (0.0, 'psl'), (0.0, 'pseudo'), (0.0, 'psa'), (0.0, 'ps'), (0.0, 'prés'), (0.0, 'prussia'), (0.0, 'prudent'), (0.0, 'proxi'), (0.0, 'prowl'), (0.0, 'provsteak'), (0.0, 'provis'), (0.0, 'provinci'), (0.0, 'provençal'), (0.0, 'provenç'), (0.0, 'provenc'), (0.0, 'proven'), (0.0, 'prove'), (0.0, 'provarlo'), (0.0, 'provalon'), (0.0, 'prov'), (0.0, 'proud'), (0.0, 'protocol'), (0.0, 'protoclar'), (0.0, 'protest'), (0.0, 'protein'), (0.0, 'protect'), (0.0, 'protean'), (0.0, 'prostitut'), (0.0, 'prosper'), (0.0, 'prospect'), (0.0, 'proseco'), (0.0, 'prosecco'), (0.0, 'prosciutto'), (0.0, 'proprio'), (0.0, 'proprietor'), (0.0, 'proposit'), (0.0, 'propos'), (0.0, 'proportionali'), (0.0, 'proportion'), (0.0, 'proport'), (0.0, 'propon'), (0.0, 'prophet'), (0.0, 'properti'), (0.0, 'propan'), (0.0, 'propaganda'), (0.0, 'prop'), (0.0, 'proof'), (0.0, 'pronunci'), (0.0, 'pronounc'), (0.0, 'prong'), (0.0, 'promulg'), (0.0, 'promp'), (0.0, 'promot'), (0.0, 'promin'), (0.0, 'prolong'), (0.0, 'prolli'), (0.0, 'prok'), (0.0, 'project'), (0.0, 'prohibit'), (0.0, 'progress'), (0.0, 'program'), (0.0, 'profus'), (0.0, 'profiterol'), (0.0, 'profit'), (0.0, 'profici'), (0.0, 'professor'), (0.0, 'profess'), (0.0, 'profesison'), (0.0, 'profan'), (0.0, 'product'), (0.0, 'prodigi'), (0.0, 'procter'), (0.0, 'proclaim'), (0.0, 'processor'), (0.0, 'procedur'), (0.0, 'probé'), (0.0, 'problemat'), (0.0, 'probe'), (0.0, 'probarlo'), (0.0, 'probar'), (0.0, 'probamo'), (0.0, 'probal'), (0.0, 'probado'), (0.0, 'prob'), (0.0, 'proactiv'), (0.0, 'pro'), (0.0, 'prize'), (0.0, 'prix'), (0.0, 'privileg'), (0.0, 'privi'), (0.0, 'privaci'), (0.0, 'pristin'), (0.0, 'prison'), (0.0, 'priper'), (0.0, 'prioriti'), (0.0, 'priorit'), (0.0, 'print'), (0.0, 'pringl'), (0.0, 'principl'), (0.0, 'princip'), (0.0, 'princess'), (0.0, 'princ'), (0.0, 'primo'), (0.0, 'primit'), (0.0, 'primer'), (0.0, 'primavera'), (0.0, 'primarili'), (0.0, 'primari'), (0.0, 'primanti'), (0.0, 'priesthood'), (0.0, 'priest'), (0.0, 'pride'), (0.0, 'prick'), (0.0, 'priciest'), (0.0, 'pricier'), (0.0, 'pricer'), (0.0, 'pricepoint'), (0.0, 'priceless'), (0.0, 'prez'), (0.0, 'preview'), (0.0, 'prevent'), (0.0, 'preval'), (0.0, 'pretttti'), (0.0, 'prettiest'), (0.0, 'pretens'), (0.0, 'pretend'), (0.0, 'pretax'), (0.0, 'presum'), (0.0, 'prestigi'), (0.0, 'pressé'), (0.0, 'pressur'), (0.0, 'press'), (0.0, 'presley'), (0.0, 'presid'), (0.0, 'preset'), (0.0, 'preserv'), (0.0, 'presenc'), (0.0, 'preselect'), (0.0, 'preseason'), (0.0, 'presbyterian'), (0.0, 'pres'), (0.0, 'prerog'), (0.0, 'prepay'), (0.0, 'preparatori'), (0.0, 'prepaid'), (0.0, 'prepackag'), (0.0, 'preorder'), (0.0, 'preoccupi'), (0.0, 'premix'), (0.0, 'premium'), (0.0, 'premis'), (0.0, 'premier'), (0.0, 'prematur'), (0.0, 'premad'), (0.0, 'pregnant'), (0.0, 'pregnanc'), (0.0, 'preggo'), (0.0, 'pregam'), (0.0, 'prefix'), (0.0, 'prefect'), (0.0, 'prefac'), (0.0, 'predomin'), (0.0, 'predica'), (0.0, 'predecessor'), (0.0, 'precursor'), (0.0, 'precovid'), (0.0, 'precook'), (0.0, 'preconceiv'), (0.0, 'precis'), (0.0, 'precious'), (0.0, 'precio'), (0.0, 'preced'), (0.0, 'precauti'), (0.0, 'precaut'), (0.0, 'precaución'), (0.0, 'prebus'), (0.0, 'preach'), (0.0, 'pray'), (0.0, 'prawn'), (0.0, 'pratfal'), (0.0, 'pram'), (0.0, 'pralin'), (0.0, 'prais'), (0.0, 'ppls'), (0.0, 'ppl'), (0.0, 'ppft'), (0.0, 'ppe'), (0.0, 'powerless'), (0.0, 'powerhous'), (0.0, 'powerd'), (0.0, 'power'), (0.0, 'powelton'), (0.0, 'powel'), (0.0, 'powderi'), (0.0, 'powder'), (0.0, 'pow'), (0.0, 'pouvr'), (0.0, 'poutin'), (0.0, 'poussin'), (0.0, 'pourer'), (0.0, 'pound'), (0.0, 'poultri'), (0.0, 'pouiver'), (0.0, 'pouch'), (0.0, 'potti'), (0.0, 'potteri'), (0.0, 'potter'), (0.0, 'potstick'), (0.0, 'potluck'), (0.0, 'potion'), (0.0, 'potent'), (0.0, 'potatoey'), (0.0, 'postur'), (0.0, 'postr'), (0.0, 'postmat'), (0.0, 'poster'), (0.0, 'possess'), (0.0, 'positano'), (0.0, 'posh'), (0.0, 'pose'), (0.0, 'pos'), (0.0, 'porzioni'), (0.0, 'portugues'), (0.0, 'portug'), (0.0, 'portray'), (0.0, 'portobello'), (0.0, 'portland'), (0.0, 'portionen'), (0.0, 'portillo'), (0.0, 'portfolio'), (0.0, 'porter'), (0.0, 'portent'), (0.0, 'portal'), (0.0, 'portabello'), (0.0, 'porta'), (0.0, 'port'), (0.0, 'porridg'), (0.0, 'porqu'), (0.0, 'porn'), (0.0, 'porki'), (0.0, 'porkchop'), (0.0, 'porcion'), (0.0, 'porch'), (0.0, 'porcelain'), (0.0, 'por'), (0.0, 'poquito'), (0.0, 'popup'), (0.0, 'populac'), (0.0, 'popul'), (0.0, 'popsicl'), (0.0, 'poppppin'), (0.0, 'poppin'), (0.0, 'poppi'), (0.0, 'poplar'), (0.0, 'popcorn'), (0.0, 'poorer'), (0.0, 'poop'), (0.0, 'pool'), (0.0, 'poof'), (0.0, 'poo'), (0.0, 'ponzu'), (0.0, 'ponzo'), (0.0, 'pong'), (0.0, 'pone'), (0.0, 'ponder'), (0.0, 'pond'), (0.0, 'ponc'), (0.0, 'pompous'), (0.0, 'pomm'), (0.0, 'pomegrant'), (0.0, 'polynesian'), (0.0, 'polo'), (0.0, 'polloi'), (0.0, 'pollo'), (0.0, 'pollen'), (0.0, 'poll'), (0.0, 'polish'), (0.0, 'polic'), (0.0, 'polenta'), (0.0, 'pole'), (0.0, 'polaroid'), (0.0, 'polar'), (0.0, 'poke'), (0.0, 'poivr'), (0.0, 'poissant'), (0.0, 'pois'), (0.0, 'pointless'), (0.0, 'pointer'), (0.0, 'poetri'), (0.0, 'poetic'), (0.0, 'poet'), (0.0, 'poem'), (0.0, 'podrá'), (0.0, 'podium'), (0.0, 'podiatr'), (0.0, 'poderlo'), (0.0, 'poderla'), (0.0, 'poder'), (0.0, 'podcast'), (0.0, 'pod'), (0.0, 'pocono'), (0.0, 'poco'), (0.0, 'pocketknot'), (0.0, 'pocket'), (0.0, 'poch'), (0.0, 'poca'), (0.0, 'poc'), (0.0, 'poboy'), (0.0, 'poblano'), (0.0, 'poa'), (0.0, 'po'), (0.0, 'pnw'), (0.0, 'pmpm'), (0.0, 'pmish'), (0.0, 'pmam'), (0.0, 'plátano'), (0.0, 'pluto'), (0.0, 'plush'), (0.0, 'pluse'), (0.0, 'plural'), (0.0, 'plung'), (0.0, 'plumpi'), (0.0, 'plump'), (0.0, 'plum'), (0.0, 'pluck'), (0.0, 'pls'), (0.0, 'plot'), (0.0, 'plop'), (0.0, 'plonk'), (0.0, 'plod'), (0.0, 'pliag'), (0.0, 'plexiglass'), (0.0, 'plethora'), (0.0, 'pleno'), (0.0, 'plen'), (0.0, 'pledg'), (0.0, 'plebeian'), (0.0, 'pleasur'), (0.0, 'pleaser'), (0.0, 'pleasent'), (0.0, 'pleasantri'), (0.0, 'pleanti'), (0.0, 'plead'), (0.0, 'plc'), (0.0, 'plaza'), (0.0, 'playlist'), (0.0, 'player'), (0.0, 'platter'), (0.0, 'platt'), (0.0, 'platon'), (0.0, 'platform'), (0.0, 'plater'), (0.0, 'plateau'), (0.0, 'plastici'), (0.0, 'plastic'), (0.0, 'plaqu'), (0.0, 'plantain'), (0.0, 'plant'), (0.0, 'plank'), (0.0, 'plane'), (0.0, 'plancha'), (0.0, 'plaintiv'), (0.0, 'plaintain'), (0.0, 'plaid'), (0.0, 'plagu'), (0.0, 'placez'), (0.0, 'placer'), (0.0, 'placement'), (0.0, 'placard'), (0.0, 'pj'), (0.0, 'piña'), (0.0, 'pièc'), (0.0, 'pizzeria'), (0.0, 'pizzell'), (0.0, 'pizzazz'), (0.0, 'pizzaz'), (0.0, 'pizzaiolo'), (0.0, 'pizz'), (0.0, 'pizell'), (0.0, 'pizazz'), (0.0, 'pixi'), (0.0, 'pixel'), (0.0, 'pivot'), (0.0, 'pittsbutgh'), (0.0, 'pittsburgh'), (0.0, 'pitstop'), (0.0, 'piti'), (0.0, 'pitfal'), (0.0, 'pitch'), (0.0, 'pitbul'), (0.0, 'pit'), (0.0, 'pistachio'), (0.0, 'pistachicio'), (0.0, 'pistaccio'), (0.0, 'pista'), (0.0, 'pisspoor'), (0.0, 'piss'), (0.0, 'pishmany'), (0.0, 'pisa'), (0.0, 'pirelli'), (0.0, 'pirat'), (0.0, 'piquillo'), (0.0, 'piqu'), (0.0, 'piperad'), (0.0, 'pipe'), (0.0, 'pip'), (0.0, 'pious'), (0.0, 'piopini'), (0.0, 'pioneer'), (0.0, 'pinwheel'), (0.0, 'pintoresco'), (0.0, 'pinto'), (0.0, 'pinterest'), (0.0, 'pint'), (0.0, 'pinpoint'), (0.0, 'pinot'), (0.0, 'pinor'), (0.0, 'pinnacl'), (0.0, 'pinker'), (0.0, 'ping'), (0.0, 'pineappl'), (0.0, 'pine'), (0.0, 'pindi'), (0.0, 'pinch'), (0.0, 'pina'), (0.0, 'pin'), (0.0, 'pimm'), (0.0, 'pimiento'), (0.0, 'pilsner'), (0.0, 'pillowi'), (0.0, 'pillow'), (0.0, 'pillori'), (0.0, 'pillard'), (0.0, 'pillar'), (0.0, 'pill'), (0.0, 'pilgrimag'), (0.0, 'pilav'), (0.0, 'pilaf'), (0.0, 'pil'), (0.0, 'pike'), (0.0, 'pigotri'), (0.0, 'pignoli'), (0.0, 'piggi'), (0.0, 'pigeon'), (0.0, 'pig'), (0.0, 'pierogi'), (0.0, 'pierc'), (0.0, 'pien'), (0.0, 'piella'), (0.0, 'pide'), (0.0, 'picturesqu'), (0.0, 'picoso'), (0.0, 'pico'), (0.0, 'picnic'), (0.0, 'pickup'), (0.0, 'pickiest'), (0.0, 'pickier'), (0.0, 'picgtkk'), (0.0, 'pice'), (0.0, 'piccata'), (0.0, 'pic'), (0.0, 'pibbl'), (0.0, 'piazza'), (0.0, 'piano'), (0.0, 'pia'), (0.0, 'pi'), (0.0, 'physic'), (0.0, 'phyllo'), (0.0, 'phylli'), (0.0, 'phrase'), (0.0, 'photographi'), (0.0, 'photograph'), (0.0, 'photogen'), (0.0, 'photobooth'), (0.0, 'phong'), (0.0, 'phoenix'), (0.0, 'phoeb'), (0.0, 'pho'), (0.0, 'phlli'), (0.0, 'phish'), (0.0, 'philosophi'), (0.0, 'philo'), (0.0, 'phillystop'), (0.0, 'phillysteak'), (0.0, 'phillyfoodandbrew'), (0.0, 'phillycheesesteak'), (0.0, 'phillychees'), (0.0, 'phillyc'), (0.0, 'philliy'), (0.0, 'phillip'), (0.0, 'phill'), (0.0, 'philiy'), (0.0, 'philipino'), (0.0, 'philip'), (0.0, 'philidlphia'), (0.0, 'phili'), (0.0, 'philadlephia'), (0.0, 'philadephia'), (0.0, 'philadelpha'), (0.0, 'philadelph'), (0.0, 'philadelohia'), (0.0, 'philadanco'), (0.0, 'phila'), (0.0, 'phil'), (0.0, 'phew'), (0.0, 'phenoooomon'), (0.0, 'phenomenon'), (0.0, 'phenomenalllll'), (0.0, 'phenom'), (0.0, 'phatz'), (0.0, 'phase'), (0.0, 'pharmaci'), (0.0, 'pharise'), (0.0, 'pgw'), (0.0, 'pff'), (0.0, 'peychaud'), (0.0, 'petit'), (0.0, 'peter'), (0.0, 'pete'), (0.0, 'petal'), (0.0, 'pet'), (0.0, 'pesto'), (0.0, 'pessimist'), (0.0, 'peson'), (0.0, 'peski'), (0.0, 'peshwi'), (0.0, 'pescetarian'), (0.0, 'pescatarian'), (0.0, 'pescado'), (0.0, 'pervas'), (0.0, 'peruvian'), (0.0, 'perus'), (0.0, 'peru'), (0.0, 'perturb'), (0.0, 'pertin'), (0.0, 'pertain'), (0.0, 'persuad'), (0.0, 'perspect'), (0.0, 'personnel'), (0.0, 'personifi'), (0.0, 'persist'), (0.0, 'persion'), (0.0, 'persimmon'), (0.0, 'persian'), (0.0, 'persev'), (0.0, 'persecut'), (0.0, 'perrrfect'), (0.0, 'perrier'), (0.0, 'perplex'), (0.0, 'perpetu'), (0.0, 'pero'), (0.0, 'permeat'), (0.0, 'perman'), (0.0, 'perki'), (0.0, 'perk'), (0.0, 'perish'), (0.0, 'peripheri'), (0.0, 'periodt'), (0.0, 'perimet'), (0.0, 'peril'), (0.0, 'perfunctori'), (0.0, 'perfumey'), (0.0, 'perfum'), (0.0, 'perform'), (0.0, 'perfecto'), (0.0, 'perfectlycook'), (0.0, 'perfectionist'), (0.0, 'perdí'), (0.0, 'perdect'), (0.0, 'percuss'), (0.0, 'perch'), (0.0, 'percept'), (0.0, 'percent'), (0.0, 'perceiv'), (0.0, 'pera'), (0.0, 'pepto'), (0.0, 'pepsi'), (0.0, 'pepperwizsteak'), (0.0, 'pepperoni'), (0.0, 'peppermint'), (0.0, 'pepperi'), (0.0, 'peppercorn'), (0.0, 'peppa'), (0.0, 'pepp'), (0.0, 'pepita'), (0.0, 'pepe'), (0.0, 'penzanc'), (0.0, 'penthous'), (0.0, 'pent'), (0.0, 'pensando'), (0.0, 'pennsylvanian'), (0.0, 'pennsylvania'), (0.0, 'pennslyvania'), (0.0, 'pennsauken'), (0.0, 'penni'), (0.0, 'penndot'), (0.0, 'penna'), (0.0, 'penn'), (0.0, 'penguin'), (0.0, 'penetr'), (0.0, 'pend'), (0.0, 'pencil'), (0.0, 'penal'), (0.0, 'pen'), (0.0, 'pelvi'), (0.0, 'pelt'), (0.0, 'pellet'), (0.0, 'pekin'), (0.0, 'peke'), (0.0, 'pei'), (0.0, 'peg'), (0.0, 'peev'), (0.0, 'peer'), (0.0, 'peep'), (0.0, 'peel'), (0.0, 'peek'), (0.0, 'peed'), (0.0, 'pee'), (0.0, 'pedir'), (0.0, 'pedigre'), (0.0, 'pediatr'), (0.0, 'pedestrian'), (0.0, 'pedest'), (0.0, 'peddler'), (0.0, 'peddl'), (0.0, 'pedal'), (0.0, 'pecuniari'), (0.0, 'peculiar'), (0.0, 'pecorino'), (0.0, 'peck'), (0.0, 'pecan'), (0.0, 'pebbl'), (0.0, 'peasi'), (0.0, 'peasant'), (0.0, 'pearl'), (0.0, 'peardrax'), (0.0, 'pear'), (0.0, 'peac'), (0.0, 'pea'), (0.0, 'pe'), (0.0, 'pcs'), (0.0, 'pc'), (0.0, 'pb'), (0.0, 'payment'), (0.0, 'payless'), (0.0, 'paycheck'), (0.0, 'pax'), (0.0, 'pawn'), (0.0, 'pave'), (0.0, 'paus'), (0.0, 'paul'), (0.0, 'patti'), (0.0, 'pattern'), (0.0, 'patt'), (0.0, 'patsi'), (0.0, 'patronag'), (0.0, 'patron'), (0.0, 'patriot'), (0.0, 'patrick'), (0.0, 'patricia'), (0.0, 'patissi'), (0.0, 'patio'), (0.0, 'patienc'), (0.0, 'pathway'), (0.0, 'pathogen'), (0.0, 'pathet'), (0.0, 'path'), (0.0, 'patent'), (0.0, 'pate'), (0.0, 'patco'), (0.0, 'patch'), (0.0, 'patata'), (0.0, 'patat'), (0.0, 'pastrami'), (0.0, 'pastor'), (0.0, 'pastilla'), (0.0, 'pastificio'), (0.0, 'pastier'), (0.0, 'pasti'), (0.0, 'pastey'), (0.0, 'pasteur'), (0.0, 'pasteri'), (0.0, 'pastacio'), (0.0, 'passyunk'), (0.0, 'passport'), (0.0, 'passov'), (0.0, 'passiv'), (0.0, 'passionfruit'), (0.0, 'passion'), (0.0, 'passin'), (0.0, 'passerbi'), (0.0, 'passer'), (0.0, 'passeng'), (0.0, 'passbi'), (0.0, 'passayunk'), (0.0, 'passag'), (0.0, 'passabl'), (0.0, 'pasear'), (0.0, 'pasar'), (0.0, 'pas'), (0.0, 'partway'), (0.0, 'partit'), (0.0, 'particl'), (0.0, 'particip'), (0.0, 'partic'), (0.0, 'partial'), (0.0, 'partak'), (0.0, 'parsnip'), (0.0, 'parsley'), (0.0, 'parq'), (0.0, 'parpadell'), (0.0, 'parochi'), (0.0, 'parmigiana'), (0.0, 'parmesean'), (0.0, 'parmasan'), (0.0, 'parmasagn'), (0.0, 'parma'), (0.0, 'parm'), (0.0, 'parlor'), (0.0, 'parkway'), (0.0, 'parkett'), (0.0, 'parker'), (0.0, 'parisienn'), (0.0, 'parisien'), (0.0, 'parisian'), (0.0, 'parigyot'), (0.0, 'parfait'), (0.0, 'parf'), (0.0, 'parenthesi'), (0.0, 'parent'), (0.0, 'pared'), (0.0, 'pare'), (0.0, 'pardon'), (0.0, 'parchment'), (0.0, 'parch'), (0.0, 'parcel'), (0.0, 'paranoia'), (0.0, 'parallel'), (0.0, 'paragraph'), (0.0, 'paradis'), (0.0, 'paradigm'), (0.0, 'paradi'), (0.0, 'parad'), (0.0, 'para'), (0.0, 'papular'), (0.0, 'paprika'), (0.0, 'pappardell'), (0.0, 'pappadell'), (0.0, 'pappa'), (0.0, 'papillot'), (0.0, 'papi'), (0.0, 'paperwork'), (0.0, 'paperbag'), (0.0, 'paperback'), (0.0, 'papaya'), (0.0, 'papardell'), (0.0, 'papa'), (0.0, 'panzanella'), (0.0, 'pantri'), (0.0, 'pant'), (0.0, 'panopli'), (0.0, 'pannhaa'), (0.0, 'panna'), (0.0, 'panko'), (0.0, 'panio'), (0.0, 'panini'), (0.0, 'panic'), (0.0, 'panhandl'), (0.0, 'pang'), (0.0, 'panfri'), (0.0, 'panera'), (0.0, 'panel'), (0.0, 'paneer'), (0.0, 'pandora'), (0.0, 'pander'), (0.0, 'pandemonium'), (0.0, 'pandan'), (0.0, 'panda'), (0.0, 'panchero'), (0.0, 'pancetta'), (0.0, 'pancakey'), (0.0, 'pancakess'), (0.0, 'panaroma'), (0.0, 'pampoos'), (0.0, 'pamplemouss'), (0.0, 'pamphlet'), (0.0, 'pamper'), (0.0, 'pampelmouss'), (0.0, 'pam'), (0.0, 'paltri'), (0.0, 'palpabl'), (0.0, 'paloma'), (0.0, 'palmier'), (0.0, 'palmer'), (0.0, 'palma'), (0.0, 'palm'), (0.0, 'pallid'), (0.0, 'palliard'), (0.0, 'pallett'), (0.0, 'pallet'), (0.0, 'pallea'), (0.0, 'palett'), (0.0, 'palestra'), (0.0, 'palestinian'), (0.0, 'palestin'), (0.0, 'paler'), (0.0, 'paleo'), (0.0, 'pale'), (0.0, 'palac'), (0.0, 'palabra'), (0.0, 'pal'), (0.0, 'pakistani'), (0.0, 'pajama'), (0.0, 'paint'), (0.0, 'painstak'), (0.0, 'painless'), (0.0, 'paillard'), (0.0, 'pah'), (0.0, 'pageant'), (0.0, 'page'), (0.0, 'pagano'), (0.0, 'paesano'), (0.0, 'paducah'), (0.0, 'padilla'), (0.0, 'paddlefish'), (0.0, 'paddington'), (0.0, 'padano'), (0.0, 'pad'), (0.0, 'packet'), (0.0, 'packag'), (0.0, 'packabl'), (0.0, 'pacifi'), (0.0, 'pach'), (0.0, 'pace'), (0.0, 'paccheri'), (0.0, 'pablo'), (0.0, 'pablano'), (0.0, 'p'), (0.0, 'oz'), (0.0, 'oyster'), (0.0, 'oyola'), (0.0, 'ox'), (0.0, 'owwwww'), (0.0, 'owwww'), (0.0, 'oww'), (0.0, 'ownership'), (0.0, 'owen'), (0.0, 'owe'), (0.0, 'overwork'), (0.0, 'overweight'), (0.0, 'overwatch'), (0.0, 'overview'), (0.0, 'overus'), (0.0, 'overtop'), (0.0, 'overtook'), (0.0, 'overtim'), (0.0, 'overtaken'), (0.0, 'overtak'), (0.0, 'overt'), (0.0, 'overstuff'), (0.0, 'overstuf'), (0.0, 'overstretch'), (0.0, 'overstimul'), (0.0, 'overstay'), (0.0, 'overstat'), (0.0, 'overst'), (0.0, 'overslept'), (0.0, 'oversleep'), (0.0, 'oversight'), (0.0, 'overshadow'), (0.0, 'overseat'), (0.0, 'overseason'), (0.0, 'overse'), (0.0, 'oversatur'), (0.0, 'oversalt'), (0.0, 'overs'), (0.0, 'overrun'), (0.0, 'overrul'), (0.0, 'overpay'), (0.0, 'overnight'), (0.0, 'overmatch'), (0.0, 'overlook'), (0.0, 'overload'), (0.0, 'overkil'), (0.0, 'overjoy'), (0.0, 'overindulg'), (0.0, 'overholt'), (0.0, 'overheard'), (0.0, 'overhear'), (0.0, 'overhead'), (0.0, 'overhang'), (0.0, 'overh'), (0.0, 'overflow'), (0.0, 'overfil'), (0.0, 'overestim'), (0.0, 'overdu'), (0.0, 'overdos'), (0.0, 'overdon'), (0.0, 'overdo'), (0.0, 'overdid'), (0.0, 'overcrowd'), (0.0, 'overcompl'), (0.0, 'overcom'), (0.0, 'overcharg'), (0.0, 'overcam'), (0.0, 'overburden'), (0.0, 'overboard'), (0.0, 'overbear'), (0.0, 'oven'), (0.0, 'oveja'), (0.0, 'ouwwww'), (0.0, 'ouwww'), (0.0, 'ouvo'), (0.0, 'ouvertur'), (0.0, 'outweigh'), (0.0, 'outward'), (0.0, 'outvot'), (0.0, 'outtak'), (0.0, 'outta'), (0.0, 'outskirt'), (0.0, 'outshin'), (0.0, 'outset'), (0.0, 'outright'), (0.0, 'output'), (0.0, 'outpost'), (0.0, 'outlin'), (0.0, 'outlier'), (0.0, 'outlet'), (0.0, 'outlast'), (0.0, 'outland'), (0.0, 'outing'), (0.0, 'outhous'), (0.0, 'outgo'), (0.0, 'outfitt'), (0.0, 'outfit'), (0.0, 'outer'), (0.0, 'outdoorsi'), (0.0, 'outdon'), (0.0, 'outdo'), (0.0, 'outdat'), (0.0, 'outcom'), (0.0, 'outbreak'), (0.0, 'outback'), (0.0, 'oush'), (0.0, 'ourtsid'), (0.0, 'ourselv'), (0.0, 'ounc'), (0.0, 'oulala'), (0.0, 'ought'), (0.0, 'ouerver'), (0.0, 'oudid'), (0.0, 'ouch'), (0.0, 'ouash'), (0.0, 'ottoman'), (0.0, 'ottolenghi'), (0.0, 'otro'), (0.0, 'oti'), (0.0, 'otherworld'), (0.0, 'otf'), (0.0, 'ot'), (0.0, 'ostens'), (0.0, 'oscar'), (0.0, 'osaka'), (0.0, 'orégano'), (0.0, 'orzo'), (0.0, 'orthodoxi'), (0.0, 'orther'), (0.0, 'ornat'), (0.0, 'ornament'), (0.0, 'orlean'), (0.0, 'orlando'), (0.0, 'oringig'), (0.0, 'originell'), (0.0, 'orient'), (0.0, 'orgin'), (0.0, 'orgi'), (0.0, 'orgasm'), (0.0, 'organizado'), (0.0, 'oreo'), (0.0, 'oregon'), (0.0, 'oregano'), (0.0, 'orecchiett'), (0.0, 'ordinarili'), (0.0, 'ordinari'), (0.0, 'ordin'), (0.0, 'ordertot'), (0.0, 'orderd'), (0.0, 'orden'), (0.0, 'ordeal'), (0.0, 'ord'), (0.0, 'orchid'), (0.0, 'orchestr'), (0.0, 'orchard'), (0.0, 'orbit'), (0.0, 'orar'), (0.0, 'orangey'), (0.0, 'oral'), (0.0, 'opul'), (0.0, 'optimist'), (0.0, 'optim'), (0.0, 'optic'), (0.0, 'optar'), (0.0, 'oppress'), (0.0, 'opposit'), (0.0, 'oppos'), (0.0, 'opportun'), (0.0, 'opion'), (0.0, 'opinon'), (0.0, 'oper'), (0.0, 'opent'), (0.0, 'op'), (0.0, 'oozi'), (0.0, 'ooz'), (0.0, 'oopi'), (0.0, 'oop'), (0.0, 'oooozzi'), (0.0, 'ooooowe'), (0.0, 'ooooohhhhhhh'), (0.0, 'ooooo'), (0.0, 'ooooh'), (0.0, 'oooo'), (0.0, 'ooohhwee'), (0.0, 'ooohh'), (0.0, 'oooh'), (0.0, 'ooo'), (0.0, 'oomph'), (0.0, 'oolong'), (0.0, 'ooi'), (0.0, 'oohh'), (0.0, 'ooh'), (0.0, 'oogl'), (0.0, 'ooey'), (0.0, 'onv'), (0.0, 'ontop'), (0.0, 'ontheroda'), (0.0, 'onslaught'), (0.0, 'onsit'), (0.0, 'onset'), (0.0, 'onnju'), (0.0, 'onionsth'), (0.0, 'onigori'), (0.0, 'onigiri'), (0.0, 'ongo'), (0.0, 'oneself'), (0.0, 'onda'), (0.0, 'omnivor'), (0.0, 'omlett'), (0.0, 'omlet'), (0.0, 'omit'), (0.0, 'omiss'), (0.0, 'omish'), (0.0, 'omgsogood'), (0.0, 'omgosh'), (0.0, 'omgggggg'), (0.0, 'omgggg'), (0.0, 'omggg'), (0.0, 'omgee'), (0.0, 'omen'), (0.0, 'omeltt'), (0.0, 'omani'), (0.0, 'omakas'), (0.0, 'olympia'), (0.0, 'olymp'), (0.0, 'olivieri'), (0.0, 'oliv'), (0.0, 'olexi'), (0.0, 'ole'), (0.0, 'oldi'), (0.0, 'oldest'), (0.0, 'older'), (0.0, 'oldddd'), (0.0, 'oktoberfest'), (0.0, 'okra'), (0.0, 'oklahoma'), (0.0, 'okinawa'), (0.0, 'okey'), (0.0, 'okayyyyyi'), (0.0, 'okayish'), (0.0, 'oj'), (0.0, 'oishii'), (0.0, 'oilli'), (0.0, 'oili'), (0.0, 'oikooooii'), (0.0, 'oiioooout'), (0.0, 'oi'), (0.0, 'ohmygosh'), (0.0, 'ohmygod'), (0.0, 'ohio'), (0.0, 'ohhmygod'), (0.0, 'ohhhhh'), (0.0, 'ohhhh'), (0.0, 'ohhh'), (0.0, 'ohh'), (0.0, 'ogl'), (0.0, 'oggk'), (0.0, 'og'), (0.0, 'oftentim'), (0.0, 'ofrec'), (0.0, 'offspr'), (0.0, 'offsit'), (0.0, 'offset'), (0.0, 'offput'), (0.0, 'offish'), (0.0, 'offici'), (0.0, 'offic'), (0.0, 'offens'), (0.0, 'offend'), (0.0, 'offenc'), (0.0, 'offal'), (0.0, 'ofcours'), (0.0, 'ofc'), (0.0, 'oeuvr'), (0.0, 'oeuver'), (0.0, 'oeuf'), (0.0, 'oenophil'), (0.0, 'odyssey'), (0.0, 'odor'), (0.0, 'odin'), (0.0, 'oder'), (0.0, 'odditi'), (0.0, 'octob'), (0.0, 'oct'), (0.0, 'ocean'), (0.0, 'occurr'), (0.0, 'occur'), (0.0, 'occupi'), (0.0, 'occup'), (0.0, 'occass'), (0.0, 'occasion'), (0.0, 'oc'), (0.0, 'obvio'), (0.0, 'obv'), (0.0, 'obtrus'), (0.0, 'obtain'), (0.0, 'obstruct'), (0.0, 'obsess'), (0.0, 'observ'), (0.0, 'obscur'), (0.0, 'obscen'), (0.0, 'oblivion'), (0.0, 'oblivi'), (0.0, 'obligatori'), (0.0, 'oblig'), (0.0, 'objection'), (0.0, 'object'), (0.0, 'obama'), (0.0, 'ob'), (0.0, 'oatmeal'), (0.0, 'oatcak'), (0.0, 'oat'), (0.0, 'oast'), (0.0, 'oasi'), (0.0, 'oakland'), (0.0, 'nye'), (0.0, 'nuzzl'), (0.0, 'nuttin'), (0.0, 'nuttier'), (0.0, 'nutti'), (0.0, 'nutter'), (0.0, 'nutshel'), (0.0, 'nutriti'), (0.0, 'nutrit'), (0.0, 'nutrient'), (0.0, 'nutmeg'), (0.0, 'nutella'), (0.0, 'nurs'), (0.0, 'nuong'), (0.0, 'numer'), (0.0, 'numb'), (0.0, 'null'), (0.0, 'nuisanc'), (0.0, 'nui'), (0.0, 'nugget'), (0.0, 'nuff'), (0.0, 'nuetella'), (0.0, 'nuestro'), (0.0, 'nuestra'), (0.0, 'nudg'), (0.0, 'nub'), (0.0, 'nuanc'), (0.0, 'nto'), (0.0, 'nrar'), (0.0, 'nozzl'), (0.0, 'noy'), (0.0, 'nowher'), (0.0, 'nowait'), (0.0, 'nowaday'), (0.0, 'novic'), (0.0, 'novemb'), (0.0, 'novelti'), (0.0, 'nova'), (0.0, 'nov'), (0.0, 'nouveau'), (0.0, 'noush'), (0.0, 'nourish'), (0.0, 'notwithstand'), (0.0, 'notorieti'), (0.0, 'notion'), (0.0, 'notifi'), (0.0, 'notif'), (0.0, 'nothin'), (0.0, 'noteworthi'), (0.0, 'notebook'), (0.0, 'notat'), (0.0, 'notabl'), (0.0, 'nostril'), (0.0, 'nostalgia'), (0.0, 'nosough'), (0.0, 'nosi'), (0.0, 'nosh'), (0.0, 'nosey'), (0.0, 'nose'), (0.0, 'nos'), (0.0, 'norwegian'), (0.0, 'nortori'), (0.0, 'northwest'), (0.0, 'northern'), (0.0, 'northeast'), (0.0, 'norristown'), (0.0, 'normandi'), (0.0, 'normalci'), (0.0, 'norm'), (0.0, 'nori'), (0.0, 'nord'), (0.0, 'norcross'), (0.0, 'nooooooooooo'), (0.0, 'nooooo'), (0.0, 'noooo'), (0.0, 'nooo'), (0.0, 'noon'), (0.0, 'nook'), (0.0, 'nood'), (0.0, 'noob'), (0.0, 'nonstop'), (0.0, 'nonspici'), (0.0, 'nonsens'), (0.0, 'nonpluss'), (0.0, 'nonpareil'), (0.0, 'nonostant'), (0.0, 'nonfat'), (0.0, 'nonexist'), (0.0, 'nondescript'), (0.0, 'nondairi'), (0.0, 'nonchal'), (0.0, 'nonalcohol'), (0.0, 'nona'), (0.0, 'nomnom'), (0.0, 'nomine'), (0.0, 'nomin'), (0.0, 'nom'), (0.0, 'nolib'), (0.0, 'nola'), (0.0, 'noir'), (0.0, 'noic'), (0.0, 'noggin'), (0.0, 'noelani'), (0.0, 'noel'), (0.0, 'noddl'), (0.0, 'nod'), (0.0, 'noch'), (0.0, 'nobuyuki'), (0.0, 'nobodi'), (0.0, 'nobel'), (0.0, 'nkvpo'), (0.0, 'nj'), (0.0, 'niçois'), (0.0, 'nix'), (0.0, 'nitpicki'), (0.0, 'nitpick'), (0.0, 'nit'), (0.0, 'nisois'), (0.0, 'nirvana'), (0.0, 'niro'), (0.0, 'nippl'), (0.0, 'nippi'), (0.0, 'ninth'), (0.0, 'ninja'), (0.0, 'ningún'), (0.0, 'nineti'), (0.0, 'ninet'), (0.0, 'niner'), (0.0, 'nina'), (0.0, 'nilaga'), (0.0, 'nikuman'), (0.0, 'nike'), (0.0, 'nigiri'), (0.0, 'nighttim'), (0.0, 'nightlif'), (0.0, 'nightingal'), (0.0, 'nightclub'), (0.0, 'nighmar'), (0.0, 'nigharound'), (0.0, 'nigh'), (0.0, 'nigerian'), (0.0, 'nigella'), (0.0, 'nifti'), (0.0, 'niech'), (0.0, 'niec'), (0.0, 'nicol'), (0.0, 'nicois'), (0.0, 'nicknam'), (0.0, 'nicknack'), (0.0, 'nickl'), (0.0, 'nicki'), (0.0, 'nickel'), (0.0, 'nick'), (0.0, 'nici'), (0.0, 'nichola'), (0.0, 'nich'), (0.0, 'niceti'), (0.0, 'nicest'), (0.0, 'nicer'), (0.0, 'nic'), (0.0, 'nibbl'), (0.0, 'nib'), (0.0, 'ngl'), (0.0, 'nfl'), (0.0, 'neyyeh'), (0.0, 'newtown'), (0.0, 'newspap'), (0.0, 'news'), (0.0, 'newport'), (0.0, 'newli'), (0.0, 'newish'), (0.0, 'newfangl'), (0.0, 'newest'), (0.0, 'newer'), (0.0, 'newcom'), (0.0, 'newborn'), (0.0, 'newbi'), (0.0, 'newb'), (0.0, 'nevermind'), (0.0, 'neverend'), (0.0, 'nevada'), (0.0, 'neutral'), (0.0, 'neurot'), (0.0, 'neuro'), (0.0, 'network'), (0.0, 'netflix'), (0.0, 'net'), (0.0, 'nestl'), (0.0, 'nest'), (0.0, 'ness'), (0.0, 'nervous'), (0.0, 'nerv'), (0.0, 'nero'), (0.0, 'nerd'), (0.0, 'nephew'), (0.0, 'neophyt'), (0.0, 'neon'), (0.0, 'neo'), (0.0, 'nena'), (0.0, 'nelli'), (0.0, 'neira'), (0.0, 'nei'), (0.0, 'negroni'), (0.0, 'negro'), (0.0, 'negrito'), (0.0, 'negra'), (0.0, 'negoti'), (0.0, 'neglect'), (0.0, 'negar'), (0.0, 'nees'), (0.0, 'neeeeeed'), (0.0, 'neeeeed'), (0.0, 'needn'), (0.0, 'needl'), (0.0, 'needi'), (0.0, 'nee'), (0.0, 'nectarin'), (0.0, 'nectar'), (0.0, 'necessit'), (0.0, 'necessarili'), (0.0, 'necessari'), (0.0, 'necess'), (0.0, 'necesita'), (0.0, 'neccessari'), (0.0, 'nebiollo'), (0.0, 'neatest'), (0.0, 'neat'), (0.0, 'nearest'), (0.0, 'neapolitan'), (0.0, 'neanderth'), (0.0, 'ne'), (0.0, 'nc'), (0.0, 'nbd'), (0.0, 'nbc'), (0.0, 'nazish'), (0.0, 'nayyeh'), (0.0, 'nayyah'), (0.0, 'nayy'), (0.0, 'nayeh'), (0.0, 'nayah'), (0.0, 'naya'), (0.0, 'nawlin'), (0.0, 'navyeh'), (0.0, 'navig'), (0.0, 'navi'), (0.0, 'navag'), (0.0, 'nautic'), (0.0, 'nauseous'), (0.0, 'nauseat'), (0.0, 'naughti'), (0.0, 'natzi'), (0.0, 'natur'), (0.0, 'nationwid'), (0.0, 'nathan'), (0.0, 'nathali'), (0.0, 'nate'), (0.0, 'natch'), (0.0, 'natasha'), (0.0, 'natali'), (0.0, 'nastyyou'), (0.0, 'nastiest'), (0.0, 'nashvill'), (0.0, 'narrowest'), (0.0, 'narrow'), (0.0, 'narroa'), (0.0, 'nari'), (0.0, 'narcissist'), (0.0, 'narberth'), (0.0, 'nappa'), (0.0, 'napikin'), (0.0, 'napa'), (0.0, 'nap'), (0.0, 'nanzhou'), (0.0, 'nanxiang'), (0.0, 'nanosecond'), (0.0, 'nanni'), (0.0, 'nane'), (0.0, 'nanci'), (0.0, 'nana'), (0.0, 'nan'), (0.0, 'namesak'), (0.0, 'nameless'), (0.0, 'nam'), (0.0, 'nake'), (0.0, 'nakazawa'), (0.0, 'naiv'), (0.0, 'nail'), (0.0, 'nahhhhh'), (0.0, 'nah'), (0.0, 'nagiri'), (0.0, 'nader'), (0.0, 'nada'), (0.0, 'nad'), (0.0, 'nachtmarket'), (0.0, 'nabe'), (0.0, 'nab'), (0.0, 'naan'), (0.0, 'mütter'), (0.0, 'mítica'), (0.0, 'mì'), (0.0, 'mâdame'), (0.0, 'más'), (0.0, 'myyyy'), (0.0, 'myy'), (0.0, 'mythic'), (0.0, 'myth'), (0.0, 'mysteri'), (0.0, 'myriad'), (0.0, 'myo'), (0.0, 'myer'), (0.0, 'mvp'), (0.0, 'muy'), (0.0, 'muva'), (0.0, 'mutter'), (0.0, 'mute'), (0.0, 'musti'), (0.0, 'muster'), (0.0, 'mustach'), (0.0, 'mussl'), (0.0, 'mussel'), (0.0, 'muss'), (0.0, 'muslim'), (0.0, 'muski'), (0.0, 'musician'), (0.0, 'museum'), (0.0, 'muscl'), (0.0, 'muscadet'), (0.0, 'musar'), (0.0, 'murray'), (0.0, 'mureto'), (0.0, 'murder'), (0.0, 'mural'), (0.0, 'municip'), (0.0, 'mundo'), (0.0, 'muncip'), (0.0, 'munchkin'), (0.0, 'munchi'), (0.0, 'munch'), (0.0, 'mummer'), (0.0, 'mumbl'), (0.0, 'mum'), (0.0, 'multitudin'), (0.0, 'multitud'), (0.0, 'multitask'), (0.0, 'multipli'), (0.0, 'multilay'), (0.0, 'multigrain'), (0.0, 'multi'), (0.0, 'mull'), (0.0, 'mulhern'), (0.0, 'mulherin'), (0.0, 'mule'), (0.0, 'muhumarra'), (0.0, 'muhammarah'), (0.0, 'muhammara'), (0.0, 'muhamarra'), (0.0, 'muhamara'), (0.0, 'mug'), (0.0, 'muffuletta'), (0.0, 'muffl'), (0.0, 'muffin'), (0.0, 'muerto'), (0.0, 'mueller'), (0.0, 'muddog'), (0.0, 'muddl'), (0.0, 'muddama'), (0.0, 'mudamma'), (0.0, 'mudama'), (0.0, 'mud'), (0.0, 'mucosa'), (0.0, 'muchísimo'), (0.0, 'mucho'), (0.0, 'mucha'), (0.0, 'mu'), (0.0, 'mth'), (0.0, 'mtg'), (0.0, 'mt'), (0.0, 'msg'), (0.0, 'msd'), (0.0, 'ms'), (0.0, 'mrs'), (0.0, 'mr'), (0.0, 'mph'), (0.0, 'mozzarella'), (0.0, 'mozz'), (0.0, 'mozarella'), (0.0, 'movement'), (0.0, 'mouthwat'), (0.0, 'mouthfeel'), (0.0, 'moussey'), (0.0, 'mouss'), (0.0, 'mousey'), (0.0, 'mouse'), (0.0, 'mourn'), (0.0, 'mountain'), (0.0, 'mount'), (0.0, 'mound'), (0.0, 'moul'), (0.0, 'mouhammara'), (0.0, 'motto'), (0.0, 'motorcycl'), (0.0, 'motor'), (0.0, 'motiv'), (0.0, 'motion'), (0.0, 'motif'), (0.0, 'mother'), (0.0, 'mostnof'), (0.0, 'mostarda'), (0.0, 'mosquito'), (0.0, 'mose'), (0.0, 'moscow'), (0.0, 'mosaic'), (0.0, 'mos'), (0.0, 'morton'), (0.0, 'mortifi'), (0.0, 'mortgag'), (0.0, 'mortal'), (0.0, 'mortadella'), (0.0, 'morsel'), (0.0, 'morrocan'), (0.0, 'morph'), (0.0, 'moron'), (0.0, 'morocco'), (0.0, 'moroccan'), (0.0, 'morita'), (0.0, 'morimoto'), (0.0, 'morher'), (0.0, 'morgan'), (0.0, 'moreso'), (0.0, 'moreov'), (0.0, 'morel'), (0.0, 'morbid'), (0.0, 'moral'), (0.0, 'mora'), (0.0, 'mor'), (0.0, 'moot'), (0.0, 'moonlit'), (0.0, 'moon'), (0.0, 'mookhan'), (0.0, 'moodi'), (0.0, 'moo'), (0.0, 'monument'), (0.0, 'montros'), (0.0, 'montreal'), (0.0, 'montrachet'), (0.0, 'monterey'), (0.0, 'monstrous'), (0.0, 'monstros'), (0.0, 'monster'), (0.0, 'monotoni'), (0.0, 'monopoli'), (0.0, 'monn'), (0.0, 'monitor'), (0.0, 'monik'), (0.0, 'monica'), (0.0, 'moni'), (0.0, 'mongolian'), (0.0, 'mongolia'), (0.0, 'monger'), (0.0, 'monet'), (0.0, 'mond'), (0.0, 'monay'), (0.0, 'mona'), (0.0, 'mon'), (0.0, 'momo'), (0.0, 'mommi'), (0.0, 'momma'), (0.0, 'momentarili'), (0.0, 'moma'), (0.0, 'molten'), (0.0, 'mollusk'), (0.0, 'molloy'), (0.0, 'molli'), (0.0, 'molleaux'), (0.0, 'moli'), (0.0, 'molest'), (0.0, 'molecular'), (0.0, 'molecul'), (0.0, 'moldi'), (0.0, 'mold'), (0.0, 'molcajet'), (0.0, 'molass'), (0.0, 'molar'), (0.0, 'mojito'), (0.0, 'moji'), (0.0, 'moistur'), (0.0, 'moisten'), (0.0, 'moelleux'), (0.0, 'modifi'), (0.0, 'modif'), (0.0, 'modicum'), (0.0, 'modest'), (0.0, 'moder'), (0.0, 'modelo'), (0.0, 'model'), (0.0, 'mode'), (0.0, 'mocktail'), (0.0, 'mock'), (0.0, 'mochi'), (0.0, 'mocha'), (0.0, 'mocchi'), (0.0, 'mocca'), (0.0, 'mobil'), (0.0, 'mob'), (0.0, 'moat'), (0.0, 'moan'), (0.0, 'mo'), (0.0, 'mnf'), (0.0, 'mmmmmmmmmmmmmmm'), (0.0, 'mmmmmmm'), (0.0, 'mmmmmm'), (0.0, 'mmmmm'), (0.0, 'mmmmdelici'), (0.0, 'mmmm'), (0.0, 'mmm'), (0.0, 'mm'), (0.0, 'mll'), (0.0, 'mlk'), (0.0, 'ml'), (0.0, 'mjs'), (0.0, 'mj'), (0.0, 'mizzuna'), (0.0, 'mizu'), (0.0, 'mixup'), (0.0, 'mixtur'), (0.0, 'mixta'), (0.0, 'mixologist'), (0.0, 'mixolog'), (0.0, 'mixi'), (0.0, 'mixer'), (0.0, 'miu'), (0.0, 'mitzvah'), (0.0, 'mitten'), (0.0, 'mitig'), (0.0, 'mite'), (0.0, 'mitchel'), (0.0, 'misunderstood'), (0.0, 'misunderstand'), (0.0, 'mistleto'), (0.0, 'mistim'), (0.0, 'mister'), (0.0, 'misteak'), (0.0, 'mistaken'), (0.0, 'mist'), (0.0, 'misstep'), (0.0, 'missteak'), (0.0, 'mississippi'), (0.0, 'mission'), (0.0, 'missil'), (0.0, 'mismísima'), (0.0, 'mismatch'), (0.0, 'mislead'), (0.0, 'misl'), (0.0, 'mishmash'), (0.0, 'misheard'), (0.0, 'mishap'), (0.0, 'misha'), (0.0, 'mish'), (0.0, 'misfortun'), (0.0, 'miser'), (0.0, 'misconstru'), (0.0, 'misconduct'), (0.0, 'miscommun'), (0.0, 'miscomm'), (0.0, 'miscellan'), (0.0, 'misappropri'), (0.0, 'mis'), (0.0, 'mirror'), (0.0, 'mirra'), (0.0, 'mirar'), (0.0, 'mirag'), (0.0, 'miracul'), (0.0, 'miracl'), (0.0, 'minuto'), (0.0, 'minutia'), (0.0, 'minus'), (0.0, 'minuet'), (0.0, 'mintu'), (0.0, 'minti'), (0.0, 'mint'), (0.0, 'minor'), (0.0, 'minnesota'), (0.0, 'minimum'), (0.0, 'minimalist'), (0.0, 'minim'), (0.0, 'miniatur'), (0.0, 'mingl'), (0.0, 'ming'), (0.0, 'minerali'), (0.0, 'miner'), (0.0, 'mindset'), (0.0, 'mindpow'), (0.0, 'mindless'), (0.0, 'mindblown'), (0.0, 'mindblow'), (0.0, 'minc'), (0.0, 'mimoa'), (0.0, 'mimic'), (0.0, 'milwauke'), (0.0, 'millionth'), (0.0, 'millionair'), (0.0, 'million'), (0.0, 'millienni'), (0.0, 'milli'), (0.0, 'miller'), (0.0, 'millenni'), (0.0, 'milleni'), (0.0, 'millefeuill'), (0.0, 'milkshak'), (0.0, 'milki'), (0.0, 'milkboy'), (0.0, 'militari'), (0.0, 'milit'), (0.0, 'mileston'), (0.0, 'mileag'), (0.0, 'mile'), (0.0, 'mildi'), (0.0, 'milder'), (0.0, 'mild'), (0.0, 'milano'), (0.0, 'milanesa'), (0.0, 'milanes'), (0.0, 'mikey'), (0.0, 'migrat'), (0.0, 'migon'), (0.0, 'mignon'), (0.0, 'mighti'), (0.0, 'mightand'), (0.0, 'mif'), (0.0, 'mien'), (0.0, 'midwest'), (0.0, 'midweek'), (0.0, 'midway'), (0.0, 'midtown'), (0.0, 'midst'), (0.0, 'midnight'), (0.0, 'midday'), (0.0, 'mid'), (0.0, 'microphon'), (0.0, 'microcosm'), (0.0, 'microbrew'), (0.0, 'micro'), (0.0, 'mickey'), (0.0, 'michigan'), (0.0, 'michi'), (0.0, 'michell'), (0.0, 'michelin'), (0.0, 'michelada'), (0.0, 'michela'), (0.0, 'michel'), (0.0, 'micheal'), (0.0, 'michael'), (0.0, 'mic'), (0.0, 'miami'), (0.0, 'mia'), (0.0, 'mi'), (0.0, 'mgmt'), (0.0, 'mfl'), (0.0, 'mf'), (0.0, 'mezzo'), (0.0, 'mezzim'), (0.0, 'mezzaluna'), (0.0, 'mezza'), (0.0, 'meze'), (0.0, 'mezcal'), (0.0, 'meyer'), (0.0, 'mexiscrambl'), (0.0, 'mexico'), (0.0, 'mexicana'), (0.0, 'mexi'), (0.0, 'mex'), (0.0, 'metropolitan'), (0.0, 'metropoli'), (0.0, 'metro'), (0.0, 'metric'), (0.0, 'meticul'), (0.0, 'method'), (0.0, 'meter'), (0.0, 'mete'), (0.0, 'metaphor'), (0.0, 'metal'), (0.0, 'messiest'), (0.0, 'messeng'), (0.0, 'messag'), (0.0, 'mesmer'), (0.0, 'mesita'), (0.0, 'mesibah'), (0.0, 'meshwi'), (0.0, 'mesh'), (0.0, 'mescalin'), (0.0, 'mesa'), (0.0, 'mes'), (0.0, 'merzek'), (0.0, 'merwah'), (0.0, 'merrier'), (0.0, 'merrian'), (0.0, 'merri'), (0.0, 'merlot'), (0.0, 'merit'), (0.0, 'meringu'), (0.0, 'merin'), (0.0, 'merguez'), (0.0, 'mergiez'), (0.0, 'merg'), (0.0, 'mere'), (0.0, 'merd'), (0.0, 'merci'), (0.0, 'merchant'), (0.0, 'merchandis'), (0.0, 'merch'), (0.0, 'mercato'), (0.0, 'mercado'), (0.0, 'merangu'), (0.0, 'menú'), (0.0, 'mentor'), (0.0, 'mental'), (0.0, 'mensch'), (0.0, 'mennonit'), (0.0, 'mend'), (0.0, 'mench'), (0.0, 'mena'), (0.0, 'men'), (0.0, 'memphi'), (0.0, 'memorabilia'), (0.0, 'memo'), (0.0, 'meme'), (0.0, 'membership'), (0.0, 'member'), (0.0, 'meltkraft'), (0.0, 'meltinesss'), (0.0, 'melti'), (0.0, 'melter'), (0.0, 'meltdown'), (0.0, 'meltcraft'), (0.0, 'melros'), (0.0, 'melon'), (0.0, 'mellow'), (0.0, 'melk'), (0.0, 'melissa'), (0.0, 'meld'), (0.0, 'melbourn'), (0.0, 'melba'), (0.0, 'melanin'), (0.0, 'melang'), (0.0, 'melamin'), (0.0, 'mel'), (0.0, 'mekl'), (0.0, 'meke'), (0.0, 'mejor'), (0.0, 'mein'), (0.0, 'mei'), (0.0, 'mehhhhh'), (0.0, 'mehh'), (0.0, 'megumi'), (0.0, 'meguez'), (0.0, 'megaphon'), (0.0, 'megan'), (0.0, 'megamosa'), (0.0, 'mega'), (0.0, 'meer'), (0.0, 'meek'), (0.0, 'medley'), (0.0, 'mediev'), (0.0, 'medic'), (0.0, 'median'), (0.0, 'media'), (0.0, 'meddl'), (0.0, 'med'), (0.0, 'mecca'), (0.0, 'meatloaf'), (0.0, 'meatless'), (0.0, 'meatier'), (0.0, 'meati'), (0.0, 'measur'), (0.0, 'measli'), (0.0, 'meanwhil'), (0.0, 'meantion'), (0.0, 'meantim'), (0.0, 'meant'), (0.0, 'meannnn'), (0.0, 'meaning'), (0.0, 'meanest'), (0.0, 'meander'), (0.0, 'mealtim'), (0.0, 'meager'), (0.0, 'meadow'), (0.0, 'md'), (0.0, 'mcrib'), (0.0, 'mcnugget'), (0.0, 'mcnelli'), (0.0, 'mcmuffin'), (0.0, 'mckenna'), (0.0, 'mcget'), (0.0, 'mcdonald'), (0.0, 'mccann'), (0.0, 'mccabe'), (0.0, 'mba'), (0.0, 'maîtr'), (0.0, 'mazzarella'), (0.0, 'mazza'), (0.0, 'mazel'), (0.0, 'maze'), (0.0, 'mazal'), (0.0, 'maz'), (0.0, 'mayor'), (0.0, 'mayooooo'), (0.0, 'mayonnais'), (0.0, 'mayonais'), (0.0, 'maya'), (0.0, 'maxx'), (0.0, 'maxwel'), (0.0, 'maxin'), (0.0, 'maximum'), (0.0, 'maximiza'), (0.0, 'maxim'), (0.0, 'maui'), (0.0, 'maud'), (0.0, 'matzo'), (0.0, 'matur'), (0.0, 'mattress'), (0.0, 'matti'), (0.0, 'matthew'), (0.0, 'matt'), (0.0, 'matsuhisa'), (0.0, 'matine'), (0.0, 'math'), (0.0, 'materi'), (0.0, 'mater'), (0.0, 'mate'), (0.0, 'matchup'), (0.0, 'matchi'), (0.0, 'matcha'), (0.0, 'matbucha'), (0.0, 'matata'), (0.0, 'matard'), (0.0, 'masticar'), (0.0, 'masterpiec'), (0.0, 'masteri'), (0.0, 'master'), (0.0, 'massaya'), (0.0, 'massag'), (0.0, 'massachusett'), (0.0, 'mass'), (0.0, 'masquerad'), (0.0, 'mason'), (0.0, 'masochist'), (0.0, 'mashw'), (0.0, 'mashawi'), (0.0, 'mascot'), (0.0, 'mascarpon'), (0.0, 'masala'), (0.0, 'masago'), (0.0, 'mas'), (0.0, 'marzano'), (0.0, 'maryland'), (0.0, 'marvel'), (0.0, 'martini'), (0.0, 'martin'), (0.0, 'mart'), (0.0, 'marshmallow'), (0.0, 'marsh'), (0.0, 'marscarpon'), (0.0, 'marscapon'), (0.0, 'marsala'), (0.0, 'marrow'), (0.0, 'marriott'), (0.0, 'marriag'), (0.0, 'marri'), (0.0, 'marrakech'), (0.0, 'marnier'), (0.0, 'marni'), (0.0, 'marmelad'), (0.0, 'marmalad'), (0.0, 'marley'), (0.0, 'marlboro'), (0.0, 'markup'), (0.0, 'markl'), (0.0, 'marketplac'), (0.0, 'marker'), (0.0, 'markel'), (0.0, 'marjoram'), (0.0, 'marit'), (0.0, 'marissa'), (0.0, 'marinara'), (0.0, 'marinad'), (0.0, 'marin'), (0.0, 'marilyn'), (0.0, 'marigot'), (0.0, 'mariel'), (0.0, 'mariebonappetit'), (0.0, 'mariano'), (0.0, 'maria'), (0.0, 'mari'), (0.0, 'margi'), (0.0, 'margherita'), (0.0, 'margharita'), (0.0, 'margerita'), (0.0, 'margarheta'), (0.0, 'marg'), (0.0, 'mardi'), (0.0, 'marcieturney'), (0.0, 'marci'), (0.0, 'march'), (0.0, 'marc'), (0.0, 'marbleiz'), (0.0, 'marbl'), (0.0, 'marathon'), (0.0, 'mar'), (0.0, 'mapo'), (0.0, 'mapl'), (0.0, 'maopo'), (0.0, 'mao'), (0.0, 'manuyunk'), (0.0, 'manush'), (0.0, 'manufactur'), (0.0, 'manuel'), (0.0, 'manual'), (0.0, 'mantra'), (0.0, 'mantel'), (0.0, 'mansion'), (0.0, 'manoushea'), (0.0, 'manoush'), (0.0, 'manousch'), (0.0, 'manouch'), (0.0, 'manor'), (0.0, 'manoosha'), (0.0, 'mano'), (0.0, 'mannouche'), (0.0, 'mannnnn'), (0.0, 'manni'), (0.0, 'manner'), (0.0, 'manna'), (0.0, 'manipul'), (0.0, 'manifest'), (0.0, 'maniac'), (0.0, 'manhol'), (0.0, 'manhattan'), (0.0, 'mango'), (0.0, 'mangnifiqu'), (0.0, 'mangl'), (0.0, 'mangia'), (0.0, 'manger'), (0.0, 'manga'), (0.0, 'mang'), (0.0, 'maneuv'), (0.0, 'maneesh'), (0.0, 'mandu'), (0.0, 'mandatori'), (0.0, 'mandat'), (0.0, 'mandarin'), (0.0, 'manchengo'), (0.0, 'manchego'), (0.0, 'manayunk'), (0.0, 'manat'), (0.0, 'manakish'), (0.0, 'manageri'), (0.0, 'mana'), (0.0, 'mammoth'), (0.0, 'mamma'), (0.0, 'mama'), (0.0, 'malvern'), (0.0, 'malt'), (0.0, 'malon'), (0.0, 'malloy'), (0.0, 'mallori'), (0.0, 'mall'), (0.0, 'malikah'), (0.0, 'malik'), (0.0, 'malici'), (0.0, 'malfunct'), (0.0, 'maleer'), (0.0, 'male'), (0.0, 'malbec'), (0.0, 'malabo'), (0.0, 'malabi'), (0.0, 'mala'), (0.0, 'mal'), (0.0, 'makkah'), (0.0, 'maki'), (0.0, 'makeup'), (0.0, 'maker'), (0.0, 'makenzi'), (0.0, 'makanek'), (0.0, 'mak'), (0.0, 'majest'), (0.0, 'maiz'), (0.0, 'maitr'), (0.0, 'maitaki'), (0.0, 'maitak'), (0.0, 'maitaiko'), (0.0, 'mainten'), (0.0, 'maintain'), (0.0, 'mainstream'), (0.0, 'mainstay'), (0.0, 'mainlin'), (0.0, 'mainland'), (0.0, 'mailbox'), (0.0, 'mail'), (0.0, 'maido'), (0.0, 'maiden'), (0.0, 'maid'), (0.0, 'maialino'), (0.0, 'maial'), (0.0, 'mai'), (0.0, 'mahi'), (0.0, 'mahal'), (0.0, 'magnum'), (0.0, 'magnific'), (0.0, 'magnifi'), (0.0, 'magnet'), (0.0, 'magner'), (0.0, 'magician'), (0.0, 'magic'), (0.0, 'magi'), (0.0, 'magherita'), (0.0, 'magazin'), (0.0, 'mag'), (0.0, 'maelstrom'), (0.0, 'maduro'), (0.0, 'madhous'), (0.0, 'madelin'), (0.0, 'madelein'), (0.0, 'madeira'), (0.0, 'madam'), (0.0, 'macron'), (0.0, 'macro'), (0.0, 'mackerel'), (0.0, 'maci'), (0.0, 'macho'), (0.0, 'machin'), (0.0, 'machengo'), (0.0, 'macer'), (0.0, 'macchiato'), (0.0, 'macchi'), (0.0, 'macaroon'), (0.0, 'macaroni'), (0.0, 'macaron'), (0.0, 'macadamia'), (0.0, 'mac'), (0.0, 'mabu'), (0.0, 'ma'), (0.0, 'lô'), (0.0, 'lyonnais'), (0.0, 'lyonais'), (0.0, 'lyon'), (0.0, 'lyfe'), (0.0, 'lyche'), (0.0, 'ly'), (0.0, 'lvoe'), (0.0, 'lve'), (0.0, 'luxuri'), (0.0, 'lux'), (0.0, 'luv'), (0.0, 'lute'), (0.0, 'luster'), (0.0, 'lust'), (0.0, 'lush'), (0.0, 'luscious'), (0.0, 'lurk'), (0.0, 'lure'), (0.0, 'lung'), (0.0, 'lunchtim'), (0.0, 'lunchmeat'), (0.0, 'luncheonett'), (0.0, 'lunat'), (0.0, 'lunar'), (0.0, 'luna'), (0.0, 'lump'), (0.0, 'lulu'), (0.0, 'lull'), (0.0, 'lukewarm'), (0.0, 'luhv'), (0.0, 'luhhhhv'), (0.0, 'luggag'), (0.0, 'lugar'), (0.0, 'lug'), (0.0, 'lucif'), (0.0, 'lucho'), (0.0, 'luc'), (0.0, 'lubric'), (0.0, 'luba'), (0.0, 'luann'), (0.0, 'lu'), (0.0, 'ls'), (0.0, 'loyalti'), (0.0, 'loyalist'), (0.0, 'loyal'), (0.0, 'lox'), (0.0, 'lowlit'), (0.0, 'lowlight'), (0.0, 'lowkey'), (0.0, 'lowest'), (0.0, 'lower'), (0.0, 'lowbal'), (0.0, 'lovin'), (0.0, 'loveli'), (0.0, 'loveeeeeddd'), (0.0, 'loveeeee'), (0.0, 'loveeee'), (0.0, 'loveee'), (0.0, 'lovee'), (0.0, 'lovag'), (0.0, 'lovabl'), (0.0, 'lout'), (0.0, 'lousi'), (0.0, 'loungey'), (0.0, 'loung'), (0.0, 'louisiana'), (0.0, 'louie'), (0.0, 'loui'), (0.0, 'loudspeak'), (0.0, 'louder'), (0.0, 'lotus'), (0.0, 'lotteri'), (0.0, 'lotsss'), (0.0, 'lotss'), (0.0, 'lotion'), (0.0, 'loss'), (0.0, 'los'), (0.0, 'lorrain'), (0.0, 'lorenzo'), (0.0, 'lord'), (0.0, 'lopez'), (0.0, 'looveeeee'), (0.0, 'loos'), (0.0, 'loop'), (0.0, 'looov'), (0.0, 'loooovvvvvveee'), (0.0, 'loooov'), (0.0, 'looooovee'), (0.0, 'loooooov'), (0.0, 'looooooov'), (0.0, 'looooooooong'), (0.0, 'looooong'), (0.0, 'loooonnnggg'), (0.0, 'loooong'), (0.0, 'looong'), (0.0, 'looney'), (0.0, 'lookwd'), (0.0, 'lookout'), (0.0, 'looki'), (0.0, 'loo'), (0.0, 'lono'), (0.0, 'longwait'), (0.0, 'longstand'), (0.0, 'longgggg'), (0.0, 'longgg'), (0.0, 'longest'), (0.0, 'longchamp'), (0.0, 'lonesom'), (0.0, 'loner'), (0.0, 'lonelylon'), (0.0, 'lone'), (0.0, 'londontown'), (0.0, 'london'), (0.0, 'lon'), (0.0, 'lomein'), (0.0, 'lolz'), (0.0, 'lolol'), (0.0, 'lolo'), (0.0, 'lolita'), (0.0, 'loin'), (0.0, 'logo'), (0.0, 'logist'), (0.0, 'logic'), (0.0, 'logan'), (0.0, 'lofti'), (0.0, 'loft'), (0.0, 'lofi'), (0.0, 'loew'), (0.0, 'lodg'), (0.0, 'locusta'), (0.0, 'locust'), (0.0, 'locta'), (0.0, 'loco'), (0.0, 'lockdown'), (0.0, 'lockabl'), (0.0, 'lock'), (0.0, 'lobbi'), (0.0, 'loav'), (0.0, 'loath'), (0.0, 'loan'), (0.0, 'lmao'), (0.0, 'lll'), (0.0, 'lleno'), (0.0, 'llegu'), (0.0, 'llegaron'), (0.0, 'llbs'), (0.0, 'llamo'), (0.0, 'lizzo'), (0.0, 'liz'), (0.0, 'livid'), (0.0, 'liverwurst'), (0.0, 'livermush'), (0.0, 'liveri'), (0.0, 'liveli'), (0.0, 'livee'), (0.0, 'littlesheep'), (0.0, 'litter'), (0.0, 'litl'), (0.0, 'lite'), (0.0, 'lit'), (0.0, 'lister'), (0.0, 'lish'), (0.0, 'liscio'), (0.0, 'lisa'), (0.0, 'liquor'), (0.0, 'liquidi'), (0.0, 'liquer'), (0.0, 'lipton'), (0.0, 'lipstick'), (0.0, 'lip'), (0.0, 'lionel'), (0.0, 'lion'), (0.0, 'linzer'), (0.0, 'lint'), (0.0, 'link'), (0.0, 'linguin'), (0.0, 'lingo'), (0.0, 'lingeri'), (0.0, 'linger'), (0.0, 'ling'), (0.0, 'lineyou'), (0.0, 'lineup'), (0.0, 'linen'), (0.0, 'linear'), (0.0, 'lindsey'), (0.0, 'lindsay'), (0.0, 'lindo'), (0.0, 'lincoln'), (0.0, 'lin'), (0.0, 'limp'), (0.0, 'limoncello'), (0.0, 'limonana'), (0.0, 'limon'), (0.0, 'limitless'), (0.0, 'limerick'), (0.0, 'limelight'), (0.0, 'limead'), (0.0, 'lime'), (0.0, 'limb'), (0.0, 'lima'), (0.0, 'lilli'), (0.0, 'lili'), (0.0, 'likm'), (0.0, 'likez'), (0.0, 'likey'), (0.0, 'likewis'), (0.0, 'liken'), (0.0, 'likem'), (0.0, 'likelihood'), (0.0, 'likeabl'), (0.0, 'liiiiif'), (0.0, 'lightweight'), (0.0, 'lightsstar'), (0.0, 'lightn'), (0.0, 'lightheart'), (0.0, 'lightest'), (0.0, 'lighter'), (0.0, 'lighten'), (0.0, 'lightbulb'), (0.0, 'lift'), (0.0, 'lifetim'), (0.0, 'lifestyl'), (0.0, 'lifespan'), (0.0, 'lifelong'), (0.0, 'lieu'), (0.0, 'lid'), (0.0, 'licoric'), (0.0, 'licksmackin'), (0.0, 'lick'), (0.0, 'licious'), (0.0, 'licens'), (0.0, 'licenc'), (0.0, 'librari'), (0.0, 'libr'), (0.0, 'liberti'), (0.0, 'libera'), (0.0, 'liber'), (0.0, 'libat'), (0.0, 'lib'), (0.0, 'liar'), (0.0, 'liabil'), (0.0, 'lgbt'), (0.0, 'lexington'), (0.0, 'lexicon'), (0.0, 'lewi'), (0.0, 'levon'), (0.0, 'levit'), (0.0, 'levantin'), (0.0, 'levant'), (0.0, 'levain'), (0.0, 'lev'), (0.0, 'letter'), (0.0, 'lethal'), (0.0, 'lete'), (0.0, 'letdown'), (0.0, 'lest'), (0.0, 'lesson'), (0.0, 'lesser'), (0.0, 'lessen'), (0.0, 'les'), (0.0, 'lepain'), (0.0, 'leopard'), (0.0, 'leo'), (0.0, 'lentil'), (0.0, 'lent'), (0.0, 'lengthi'), (0.0, 'length'), (0.0, 'lend'), (0.0, 'lemonnana'), (0.0, 'lemonna'), (0.0, 'lemoni'), (0.0, 'lemongrass'), (0.0, 'lemonanna'), (0.0, 'lemonana'), (0.0, 'lemonadda'), (0.0, 'lemmonana'), (0.0, 'lemanana'), (0.0, 'lem'), (0.0, 'leisur'), (0.0, 'legroom'), (0.0, 'legitim'), (0.0, 'legger'), (0.0, 'legendari'), (0.0, 'legend'), (0.0, 'legal'), (0.0, 'legaci'), (0.0, 'lefthand'), (0.0, 'leeri'), (0.0, 'leek'), (0.0, 'lee'), (0.0, 'led'), (0.0, 'lectur'), (0.0, 'lecker'), (0.0, 'lebron'), (0.0, 'lebneh'), (0.0, 'lebnah'), (0.0, 'lebna'), (0.0, 'lebn'), (0.0, 'lebanon'), (0.0, 'leaven'), (0.0, 'leatheri'), (0.0, 'leather'), (0.0, 'leas'), (0.0, 'leapt'), (0.0, 'leap'), (0.0, 'leaner'), (0.0, 'leak'), (0.0, 'leah'), (0.0, 'leagu'), (0.0, 'leafi'), (0.0, 'leaderboard'), (0.0, 'lead'), (0.0, 'lea'), (0.0, 'le'), (0.0, 'lc'), (0.0, 'lbs'), (0.0, 'lb'), (0.0, 'lazili'), (0.0, 'lazi'), (0.0, 'layov'), (0.0, 'layout'), (0.0, 'lay'), (0.0, 'lawyer'), (0.0, 'lawn'), (0.0, 'lawer'), (0.0, 'lawd'), (0.0, 'law'), (0.0, 'lavish'), (0.0, 'lavend'), (0.0, 'lave'), (0.0, 'lavazza'), (0.0, 'lavash'), (0.0, 'lava'), (0.0, 'lauri'), (0.0, 'lauren'), (0.0, 'laurel'), (0.0, 'laura'), (0.0, 'laundri'), (0.0, 'launch'), (0.0, 'laughter'), (0.0, 'laughabl'), (0.0, 'laugh'), (0.0, 'lauderdal'), (0.0, 'lau'), (0.0, 'latta'), (0.0, 'latka'), (0.0, 'latk'), (0.0, 'latino'), (0.0, 'latina'), (0.0, 'latin'), (0.0, 'lather'), (0.0, 'latest'), (0.0, 'latao'), (0.0, 'lastnight'), (0.0, 'lassi'), (0.0, 'lash'), (0.0, 'lasf'), (0.0, 'laser'), (0.0, 'lasall'), (0.0, 'lasagna'), (0.0, 'las'), (0.0, 'larri'), (0.0, 'largish'), (0.0, 'largest'), (0.0, 'largess'), (0.0, 'lardo'), (0.0, 'laptop'), (0.0, 'laps'), (0.0, 'lap'), (0.0, 'lantern'), (0.0, 'languag'), (0.0, 'lane'), (0.0, 'landslid'), (0.0, 'landscap'), (0.0, 'landmark'), (0.0, 'landlock'), (0.0, 'landfal'), (0.0, 'lancast'), (0.0, 'lanai'), (0.0, 'lampshad'), (0.0, 'lamp'), (0.0, 'lamin'), (0.0, 'lamh'), (0.0, 'lament'), (0.0, 'lame'), (0.0, 'lamar'), (0.0, 'lam'), (0.0, 'lait'), (0.0, 'laidback'), (0.0, 'laid'), (0.0, 'lahm'), (0.0, 'lahim'), (0.0, 'lah'), (0.0, 'lager'), (0.0, 'lag'), (0.0, 'lafta'), (0.0, 'laffa'), (0.0, 'laff'), (0.0, 'lafa'), (0.0, 'ladyfriend'), (0.0, 'ladyfing'), (0.0, 'lado'), (0.0, 'ladl'), (0.0, 'laden'), (0.0, 'ladel'), (0.0, 'laddl'), (0.0, 'lad'), (0.0, 'lactos'), (0.0, 'lactaid'), (0.0, 'lacross'), (0.0, 'lacroix'), (0.0, 'lacquer'), (0.0, 'lacolomb'), (0.0, 'lacklust'), (0.0, 'lacinato'), (0.0, 'laci'), (0.0, 'lace'), (0.0, 'labyrinth'), (0.0, 'labradoodl'), (0.0, 'laboratori'), (0.0, 'labor'), (0.0, 'labneh'), (0.0, 'labn'), (0.0, 'labell'), (0.0, 'label'), (0.0, 'laban'), (0.0, 'lab'), (0.0, 'laawwd'), (0.0, 'laafa'), (0.0, 'la'), (0.0, 'l'), (0.0, 'kyushudanji'), (0.0, 'kyushu'), (0.0, 'kyoto'), (0.0, 'kyli'), (0.0, 'ky'), (0.0, 'kwarma'), (0.0, 'kvell'), (0.0, 'kurobuta'), (0.0, 'kurobata'), (0.0, 'kurabuta'), (0.0, 'kunnaf'), (0.0, 'kung'), (0.0, 'kunef'), (0.0, 'kunafi'), (0.0, 'kunafeh'), (0.0, 'kunafa'), (0.0, 'kunaf'), (0.0, 'kumquat'), (0.0, 'kugel'), (0.0, 'kudo'), (0.0, 'kuddo'), (0.0, 'kubbeh'), (0.0, 'kuang'), (0.0, 'kteer'), (0.0, 'krusti'), (0.0, 'kruller'), (0.0, 'kronenbourg'), (0.0, 'kristina'), (0.0, 'kristin'), (0.0, 'krispi'), (0.0, 'kreb'), (0.0, 'kraut'), (0.0, 'kraft'), (0.0, 'krab'), (0.0, 'kouign'), (0.0, 'kosho'), (0.0, 'kosher'), (0.0, 'korma'), (0.0, 'koresn'), (0.0, 'korea'), (0.0, 'kop'), (0.0, 'kont'), (0.0, 'kong'), (0.0, 'konafi'), (0.0, 'konaffi'), (0.0, 'konafa'), (0.0, 'kona'), (0.0, 'kombucha'), (0.0, 'koign'), (0.0, 'kohlrabi'), (0.0, 'kofta'), (0.0, 'kobi'), (0.0, 'knuckl'), (0.0, 'knowlegd'), (0.0, 'knott'), (0.0, 'knotch'), (0.0, 'knockout'), (0.0, 'knob'), (0.0, 'kno'), (0.0, 'kniw'), (0.0, 'knive'), (0.0, 'knit'), (0.0, 'knish'), (0.0, 'knife'), (0.0, 'knicknack'), (0.0, 'knickerbock'), (0.0, 'knick'), (0.0, 'kneel'), (0.0, 'knee'), (0.0, 'knaff'), (0.0, 'knafeh'), (0.0, 'knafe'), (0.0, 'knafa'), (0.0, 'knack'), (0.0, 'km'), (0.0, 'klein'), (0.0, 'kleenex'), (0.0, 'klaus'), (0.0, 'kiwi'), (0.0, 'kitti'), (0.0, 'kitschi'), (0.0, 'kit'), (0.0, 'kiss'), (0.0, 'kishik'), (0.0, 'kirk'), (0.0, 'kirin'), (0.0, 'kir'), (0.0, 'kiosk'), (0.0, 'kintoi'), (0.0, 'kink'), (0.0, 'kinhera'), (0.0, 'king然後做個比較'), (0.0, 'kingdom'), (0.0, 'kinder'), (0.0, 'kindda'), (0.0, 'kinb'), (0.0, 'kimmel'), (0.0, 'kimichi'), (0.0, 'kimich'), (0.0, 'kimchi'), (0.0, 'kimche'), (0.0, 'kimbal'), (0.0, 'kim'), (0.0, 'killin'), (0.0, 'killer'), (0.0, 'kill'), (0.0, 'kilimandjaro'), (0.0, 'kikurag'), (0.0, 'kiku'), (0.0, 'kiki'), (0.0, 'kieli'), (0.0, 'kidney'), (0.0, 'kiddo'), (0.0, 'kidb'), (0.0, 'kicka'), (0.0, 'kichen'), (0.0, 'kibbl'), (0.0, 'kibbi'), (0.0, 'kibbeh'), (0.0, 'kibb'), (0.0, 'khyber'), (0.0, 'khubz'), (0.0, 'kfar'), (0.0, 'keyboard'), (0.0, 'key'), (0.0, 'kewpi'), (0.0, 'kew'), (0.0, 'kevin'), (0.0, 'keven'), (0.0, 'ketoacidosi'), (0.0, 'keto'), (0.0, 'kerrag'), (0.0, 'kernel'), (0.0, 'kerinena'), (0.0, 'kenzi'), (0.0, 'kensington'), (0.0, 'kenni'), (0.0, 'kennett'), (0.0, 'kenneth'), (0.0, 'kennedi'), (0.0, 'kennebec'), (0.0, 'kenefah'), (0.0, 'kendal'), (0.0, 'ken'), (0.0, 'kelsey'), (0.0, 'kelli'), (0.0, 'keller'), (0.0, 'keili'), (0.0, 'keile'), (0.0, 'kefta'), (0.0, 'kefir'), (0.0, 'keeper'), (0.0, 'keen'), (0.0, 'kee'), (0.0, 'kedgre'), (0.0, 'kedgere'), (0.0, 'kebob'), (0.0, 'kebbeh'), (0.0, 'kebap'), (0.0, 'kc'), (0.0, 'kbbq'), (0.0, 'kb'), (0.0, 'kayla'), (0.0, 'kawarmeh'), (0.0, 'kawarmah'), (0.0, 'kawarma'), (0.0, 'kawama'), (0.0, 'katsudon'), (0.0, 'katsh'), (0.0, 'katlyn'), (0.0, 'kati'), (0.0, 'kathi'), (0.0, 'katharin'), (0.0, 'kate'), (0.0, 'kataifi'), (0.0, 'kataif'), (0.0, 'katafi'), (0.0, 'kastaleta'), (0.0, 'kassi'), (0.0, 'karus'), (0.0, 'karma'), (0.0, 'karen'), (0.0, 'karellia'), (0.0, 'kareem'), (0.0, 'kardashian'), (0.0, 'karai'), (0.0, 'karag'), (0.0, 'karaag'), (0.0, 'kappa'), (0.0, 'kaopin'), (0.0, 'kantoi'), (0.0, 'kantai'), (0.0, 'kansa'), (0.0, 'kanofi'), (0.0, 'kannefah'), (0.0, 'kang'), (0.0, 'kanefeh'), (0.0, 'kanefa'), (0.0, 'kanafi'), (0.0, 'kanafeh'), (0.0, 'kanafah'), (0.0, 'kanafa'), (0.0, 'kanaf'), (0.0, 'kanaefeh'), (0.0, 'kampachi'), (0.0, 'kamal'), (0.0, 'kalua'), (0.0, 'kale'), (0.0, 'kaldi'), (0.0, 'kalamazoo'), (0.0, 'kaitlyn'), (0.0, 'kaiten'), (0.0, 'kaitaifi'), (0.0, 'kaiseki'), (0.0, 'kailey'), (0.0, 'kaih'), (0.0, 'kaidama'), (0.0, 'kai'), (0.0, 'kahlua'), (0.0, 'kahlil'), (0.0, 'kagoshima'), (0.0, 'kaftka'), (0.0, 'kafta'), (0.0, 'kafka'), (0.0, 'kabob'), (0.0, 'kabal'), (0.0, 'kabab'), (0.0, 'kaarag'), (0.0, 'kaak'), (0.0, 'kaaaay'), (0.0, 'ka'), (0.0, 'k'), (0.0, 'jyjk'), (0.0, 'juxtaposit'), (0.0, 'juxtapos'), (0.0, 'juuuust'), (0.0, 'jut'), (0.0, 'justin'), (0.0, 'justifi'), (0.0, 'justif'), (0.0, 'justic'), (0.0, 'jussst'), (0.0, 'jusi'), (0.0, 'jus'), (0.0, 'juri'), (0.0, 'junmai'), (0.0, 'junki'), (0.0, 'junk'), (0.0, 'junior'), (0.0, 'jungl'), (0.0, 'june'), (0.0, 'junctur'), (0.0, 'jumbo'), (0.0, 'jumbl'), (0.0, 'jumbalaya'), (0.0, 'julio'), (0.0, 'julian'), (0.0, 'juli'), (0.0, 'juicyyyyyyyy'), (0.0, 'juiciest'), (0.0, 'juicier'), (0.0, 'juicer'), (0.0, 'jugo'), (0.0, 'juggl'), (0.0, 'jug'), (0.0, 'juevo'), (0.0, 'judici'), (0.0, 'judgment'), (0.0, 'judgement'), (0.0, 'jubile'), (0.0, 'juan'), (0.0, 'jt'), (0.0, 'js'), (0.0, 'joyous'), (0.0, 'joy'), (0.0, 'jowl'), (0.0, 'jovial'), (0.0, 'journey'), (0.0, 'journal'), (0.0, 'jour'), (0.0, 'jostl'), (0.0, 'josi'), (0.0, 'josh'), (0.0, 'jose'), (0.0, 'jordan'), (0.0, 'joniqu'), (0.0, 'jone'), (0.0, 'jonathan'), (0.0, 'jon'), (0.0, 'jolli'), (0.0, 'joie'), (0.0, 'johnson'), (0.0, 'johnni'), (0.0, 'johnathan'), (0.0, 'jogger'), (0.0, 'jog'), (0.0, 'joffer'), (0.0, 'joey'), (0.0, 'joel'), (0.0, 'joe'), (0.0, 'joannlovesfood'), (0.0, 'joanna'), (0.0, 'jn'), (0.0, 'jk'), (0.0, 'jj'), (0.0, 'jip'), (0.0, 'jin'), (0.0, 'jimmi'), (0.0, 'jimador'), (0.0, 'jilliet'), (0.0, 'jillian'), (0.0, 'jill'), (0.0, 'jicama'), (0.0, 'jiang'), (0.0, 'jian'), (0.0, 'jiad'), (0.0, 'jhsh'), (0.0, 'jewish'), (0.0, 'jewelri'), (0.0, 'jewelleri'), (0.0, 'jewel'), (0.0, 'jew'), (0.0, 'jet'), (0.0, 'jesus'), (0.0, 'jest'), (0.0, 'jessica'), (0.0, 'jess'), (0.0, 'jerusalem'), (0.0, 'jerri'), (0.0, 'jerki'), (0.0, 'jerkey'), (0.0, 'jerker'), (0.0, 'jerk'), (0.0, 'jeremi'), (0.0, 'jeopard'), (0.0, 'jenni'), (0.0, 'jenke'), (0.0, 'jenga'), (0.0, 'jen'), (0.0, 'jelli'), (0.0, 'jellab'), (0.0, 'jeffrey'), (0.0, 'jefferson'), (0.0, 'jefferi'), (0.0, 'jeff'), (0.0, 'jefe'), (0.0, 'jeez'), (0.0, 'jeep'), (0.0, 'jeebus'), (0.0, 'jedi'), (0.0, 'jean'), (0.0, 'jealous'), (0.0, 'je'), (0.0, 'jb'), (0.0, 'jazz'), (0.0, 'jay'), (0.0, 'jawn'), (0.0, 'jaw'), (0.0, 'jave'), (0.0, 'jaunt'), (0.0, 'jasper'), (0.0, 'jason'), (0.0, 'jasmin'), (0.0, 'jare'), (0.0, 'jardinièr'), (0.0, 'jardinier'), (0.0, 'jar'), (0.0, 'japens'), (0.0, 'japanes'), (0.0, 'japan'), (0.0, 'januari'), (0.0, 'janki'), (0.0, 'janjigian'), (0.0, 'janet'), (0.0, 'janell'), (0.0, 'janeiro'), (0.0, 'jane'), (0.0, 'jana'), (0.0, 'jan'), (0.0, 'jamonera'), (0.0, 'jammi'), (0.0, 'jami'), (0.0, 'jame'), (0.0, 'jambalaya'), (0.0, 'jamaican'), (0.0, 'jalousi'), (0.0, 'jalouis'), (0.0, 'jallab'), (0.0, 'jalisco'), (0.0, 'jalepeno'), (0.0, 'jalapeño'), (0.0, 'jalapeno'), (0.0, 'jalab'), (0.0, 'jake'), (0.0, 'jail'), (0.0, 'jaff'), (0.0, 'jade'), (0.0, 'jacob'), (0.0, 'jackson'), (0.0, 'jackpot'), (0.0, 'jacki'), (0.0, 'jacket'), (0.0, 'jack'), (0.0, 'jab'), (0.0, 'j'), (0.0, 'i̇f'), (0.0, 'izzi'), (0.0, 'izayaka'), (0.0, 'izakaya'), (0.0, 'iykyk'), (0.0, 'iyana'), (0.0, 'ivoin'), (0.0, 'ivi'), (0.0, 'ive'), (0.0, 'ivan'), (0.0, 'iv'), (0.0, 'itinerari'), (0.0, 'iter'), (0.0, 'itchi'), (0.0, 'itch'), (0.0, 'italiano'), (0.0, 'italia'), (0.0, 'itali'), (0.0, 'itak'), (0.0, 'itadakimasu'), (0.0, 'issa'), (0.0, 'israelian'), (0.0, 'israel'), (0.0, 'isol'), (0.0, 'isnt'), (0.0, 'ism'), (0.0, 'island'), (0.0, 'isl'), (0.0, 'iskabibel'), (0.0, 'isiyaki'), (0.0, 'isi'), (0.0, 'ishkebibbl'), (0.0, 'ishkabibbl'), (0.0, 'ishkabbibbl'), (0.0, 'ishkab'), (0.0, 'irrit'), (0.0, 'irrespect'), (0.0, 'irresist'), (0.0, 'irrelev'), (0.0, 'ironi'), (0.0, 'iron'), (0.0, 'irk'), (0.0, 'iri'), (0.0, 'irasshaimas'), (0.0, 'iraqi'), (0.0, 'iranian'), (0.0, 'ir'), (0.0, 'ipsa'), (0.0, 'ippudo'), (0.0, 'ippodo'), (0.0, 'iphon'), (0.0, 'ipad'), (0.0, 'ipa'), (0.0, 'iowa'), (0.0, 'iovin'), (0.0, 'iota'), (0.0, 'ion'), (0.0, 'iodin'), (0.0, 'invok'), (0.0, 'invlov'), (0.0, 'invis'), (0.0, 'investor'), (0.0, 'investig'), (0.0, 'invest'), (0.0, 'inventori'), (0.0, 'inventor'), (0.0, 'invent'), (0.0, 'invari'), (0.0, 'invalu'), (0.0, 'invad'), (0.0, 'inund'), (0.0, 'intuit'), (0.0, 'intrus'), (0.0, 'intrud'), (0.0, 'introvert'), (0.0, 'introspect'), (0.0, 'introduct'), (0.0, 'introduc'), (0.0, 'intro'), (0.0, 'intrigu'), (0.0, 'intric'), (0.0, 'intramuscular'), (0.0, 'intox'), (0.0, 'intoler'), (0.0, 'intimid'), (0.0, 'intimaci'), (0.0, 'interview'), (0.0, 'intervent'), (0.0, 'interv'), (0.0, 'interspers'), (0.0, 'intersect'), (0.0, 'interrupt'), (0.0, 'interrog'), (0.0, 'interpret'), (0.0, 'interplay'), (0.0, 'interperson'), (0.0, 'internet'), (0.0, 'intern'), (0.0, 'intermitt'), (0.0, 'intermezza'), (0.0, 'interject'), (0.0, 'interfac'), (0.0, 'intercom'), (0.0, 'interchang'), (0.0, 'interact'), (0.0, 'inter'), (0.0, 'intent'), (0.0, 'intensifi'), (0.0, 'intens'), (0.0, 'intend'), (0.0, 'intellig'), (0.0, 'intellectu'), (0.0, 'integr'), (0.0, 'intak'), (0.0, 'intact'), (0.0, 'int'), (0.0, 'insur'), (0.0, 'insult'), (0.0, 'insul'), (0.0, 'insuffici'), (0.0, 'instrument'), (0.0, 'instruct'), (0.0, 'institut'), (0.0, 'instinct'), (0.0, 'instantan'), (0.0, 'instant'), (0.0, 'instanc'), (0.0, 'instal'), (0.0, 'instagramm'), (0.0, 'instagram'), (0.0, 'insta'), (0.0, 'inspir'), (0.0, 'inspect'), (0.0, 'insomnia'), (0.0, 'insipid'), (0.0, 'insinu'), (0.0, 'insincer'), (0.0, 'insignific'), (0.0, 'insight'), (0.0, 'insidi'), (0.0, 'insert'), (0.0, 'insect'), (0.0, 'insati'), (0.0, 'inquiri'), (0.0, 'inquir'), (0.0, 'input'), (0.0, 'inpati'), (0.0, 'inordin'), (0.0, 'inocul'), (0.0, 'innov'), (0.0, 'innoc'), (0.0, 'inner'), (0.0, 'inndimid'), (0.0, 'innat'), (0.0, 'innard'), (0.0, 'inn'), (0.0, 'inlov'), (0.0, 'inlin'), (0.0, 'ink'), (0.0, 'injuri'), (0.0, 'initiooo'), (0.0, 'ini'), (0.0, 'inhous'), (0.0, 'inhospit'), (0.0, 'inher'), (0.0, 'inhal'), (0.0, 'ingreietn'), (0.0, 'ingest'), (0.0, 'ingeni'), (0.0, 'ing'), (0.0, 'infus'), (0.0, 'infuri'), (0.0, 'infrequ'), (0.0, 'infrastructur'), (0.0, 'influx'), (0.0, 'influenc'), (0.0, 'inflat'), (0.0, 'infinit'), (0.0, 'infin'), (0.0, 'infest'), (0.0, 'inferior'), (0.0, 'infer'), (0.0, 'infect'), (0.0, 'infatu'), (0.0, 'infant'), (0.0, 'infam'), (0.0, 'infact'), (0.0, 'inexplic'), (0.0, 'inexpens'), (0.0, 'inexcus'), (0.0, 'inevit'), (0.0, 'inert'), (0.0, 'ineptitud'), (0.0, 'inept'), (0.0, 'ineffici'), (0.0, 'inebri'), (0.0, 'indulg'), (0.0, 'induc'), (0.0, 'indonesian'), (0.0, 'indoctrin'), (0.0, 'indistinguish'), (0.0, 'indistinct'), (0.0, 'indispens'), (0.0, 'indiscern'), (0.0, 'indigen'), (0.0, 'indig'), (0.0, 'indict'), (0.0, 'indic'), (0.0, 'indiana'), (0.0, 'indian'), (0.0, 'india'), (0.0, 'indi'), (0.0, 'index'), (0.0, 'indescrib'), (0.0, 'independ'), (0.0, 'indent'), (0.0, 'indefinit'), (0.0, 'indecis'), (0.0, 'indec'), (0.0, 'indeblu'), (0.0, 'inde'), (0.0, 'incur'), (0.0, 'incumb'), (0.0, 'increíbl'), (0.0, 'increment'), (0.0, 'incredddibbllleee'), (0.0, 'increas'), (0.0, 'incorrect'), (0.0, 'incorpor'), (0.0, 'inconvien'), (0.0, 'inconvenienc'), (0.0, 'inconspicu'), (0.0, 'inconsist'), (0.0, 'inconsider'), (0.0, 'incomplet'), (0.0, 'incompet'), (0.0, 'incompar'), (0.0, 'incom'), (0.0, 'incohes'), (0.0, 'incognito'), (0.0, 'inclus'), (0.0, 'inclin'), (0.0, 'inclement'), (0.0, 'incident'), (0.0, 'incid'), (0.0, 'incess'), (0.0, 'inced'), (0.0, 'incas'), (0.0, 'incap'), (0.0, 'incandesc'), (0.0, 'inauthent'), (0.0, 'inattent'), (0.0, 'inadvert'), (0.0, 'inadequ'), (0.0, 'inaccur'), (0.0, 'inaccess'), (0.0, 'inabl'), (0.0, 'improvis'), (0.0, 'impromptu'), (0.0, 'imprint'), (0.0, 'impresionado'), (0.0, 'impract'), (0.0, 'impost'), (0.0, 'impos'), (0.0, 'imponent'), (0.0, 'impolit'), (0.0, 'implor'), (0.0, 'impli'), (0.0, 'implement'), (0.0, 'implac'), (0.0, 'imperson'), (0.0, 'imperfect'), (0.0, 'impend'), (0.0, 'imped'), (0.0, 'impec'), (0.0, 'impati'), (0.0, 'imparti'), (0.0, 'impair'), (0.0, 'impact'), (0.0, 'immun'), (0.0, 'immigr'), (0.0, 'immers'), (0.0, 'immens'), (0.0, 'immed'), (0.0, 'immatur'), (0.0, 'immacul'), (0.0, 'imit'), (0.0, 'imho'), (0.0, 'imh'), (0.0, 'imbed'), (0.0, 'imbal'), (0.0, 'imag'), (0.0, 'ima'), (0.0, 'illustri'), (0.0, 'illustr'), (0.0, 'illumin'), (0.0, 'illiter'), (0.0, 'ill'), (0.0, 'ilk'), (0.0, 'ikoii'), (0.0, 'ik'), (0.0, 'ijs'), (0.0, 'iik'), (0.0, 'iii'), (0.0, 'ii'), (0.0, 'ignorin'), (0.0, 'ignit'), (0.0, 'igloo'), (0.0, 'ight'), (0.0, 'iggl'), (0.0, 'ig'), (0.0, 'ifvrg'), (0.0, 'iffi'), (0.0, 'ifc'), (0.0, 'ier'), (0.0, 'idunno'), (0.0, 'idon'), (0.0, 'idol'), (0.0, 'idiot'), (0.0, 'idgaf'), (0.0, 'identifi'), (0.0, 'identif'), (0.0, 'ident'), (0.0, 'ideal'), (0.0, 'idc'), (0.0, 'id'), (0.0, 'icu'), (0.0, 'iconin'), (0.0, 'ick'), (0.0, 'ici'), (0.0, 'ichiran'), (0.0, 'ichiban'), (0.0, 'iceland'), (0.0, 'icecream'), (0.0, 'icebox'), (0.0, 'iceberg'), (0.0, 'iavin'), (0.0, 'ian'), (0.0, 'hyundai'), (0.0, 'hyster'), (0.0, 'hypez'), (0.0, 'hypewait'), (0.0, 'hyperbol'), (0.0, 'hypeddddd'), (0.0, 'hygien'), (0.0, 'hyea'), (0.0, 'hydrat'), (0.0, 'hybrid'), (0.0, 'hvac'), (0.0, 'hv'), (0.0, 'huzz'), (0.0, 'huvero'), (0.0, 'huuuug'), (0.0, 'huuug'), (0.0, 'huuma'), (0.0, 'huug'), (0.0, 'hut'), (0.0, 'hustler'), (0.0, 'hust'), (0.0, 'husk'), (0.0, 'hush'), (0.0, 'hurri'), (0.0, 'hurdl'), (0.0, 'hup'), (0.0, 'hunti'), (0.0, 'hunt'), (0.0, 'hunni'), (0.0, 'hunka'), (0.0, 'hunk'), (0.0, 'hungrier'), (0.0, 'hungov'), (0.0, 'hungo'), (0.0, 'hungerburg'), (0.0, 'hunger'), (0.0, 'hungarian'), (0.0, 'hung'), (0.0, 'hundr'), (0.0, 'hunch'), (0.0, 'hun'), (0.0, 'humus'), (0.0, 'humous'), (0.0, 'humorless'), (0.0, 'humor'), (0.0, 'humongoustook'), (0.0, 'humong'), (0.0, 'hummous'), (0.0, 'humma'), (0.0, 'humili'), (0.0, 'humid'), (0.0, 'humdrum'), (0.0, 'humbl'), (0.0, 'human'), (0.0, 'hum'), (0.0, 'huh'), (0.0, 'hugh'), (0.0, 'hugger'), (0.0, 'hugeee'), (0.0, 'hug'), (0.0, 'huff'), (0.0, 'huey'), (0.0, 'huevo'), (0.0, 'huervo'), (0.0, 'hue'), (0.0, 'huddl'), (0.0, 'hudband'), (0.0, 'huckleberri'), (0.0, 'hubbub'), (0.0, 'hubbl'), (0.0, 'hub'), (0.0, 'hsve'), (0.0, 'hsuband'), (0.0, 'hspt'), (0.0, 'hrp'), (0.0, 'hrmin'), (0.0, 'hoya'), (0.0, 'hover'), (0.0, 'houston'), (0.0, 'housewar'), (0.0, 'housew'), (0.0, 'housemad'), (0.0, 'housekeep'), (0.0, 'household'), (0.0, 'houlami'), (0.0, 'hou'), (0.0, 'hottest'), (0.0, 'hotter'), (0.0, 'hott'), (0.0, 'hotstop'), (0.0, 'hotspot'), (0.0, 'hotdog'), (0.0, 'hostil'), (0.0, 'hostag'), (0.0, 'hosgi'), (0.0, 'hose'), (0.0, 'hosanna'), (0.0, 'hort'), (0.0, 'horseradish'), (0.0, 'hors'), (0.0, 'horror'), (0.0, 'horrifi'), (0.0, 'horrif'), (0.0, 'horrid'), (0.0, 'horn'), (0.0, 'horizon'), (0.0, 'hord'), (0.0, 'horchata'), (0.0, 'hora'), (0.0, 'hor'), (0.0, 'hopthi'), (0.0, 'hoppin'), (0.0, 'hopper'), (0.0, 'hopkin'), (0.0, 'hopeless'), (0.0, 'hop'), (0.0, 'hoot'), (0.0, 'hooray'), (0.0, 'hoopla'), (0.0, 'hoop'), (0.0, 'hoolumi'), (0.0, 'hooki'), (0.0, 'hook'), (0.0, 'hood'), (0.0, 'hooch'), (0.0, 'hoo'), (0.0, 'honorari'), (0.0, 'honor'), (0.0, 'hongshao'), (0.0, 'hongo'), (0.0, 'honga'), (0.0, 'hong'), (0.0, 'honeymoon'), (0.0, 'honeygrow'), (0.0, 'honeydew'), (0.0, 'honeycrisp'), (0.0, 'honeycomb'), (0.0, 'honesti'), (0.0, 'honestament'), (0.0, 'honeslti'), (0.0, 'hon'), (0.0, 'homosexu'), (0.0, 'homologu'), (0.0, 'homogen'), (0.0, 'hommus'), (0.0, 'homework'), (0.0, 'hometown'), (0.0, 'homestead'), (0.0, 'homerun'), (0.0, 'homer'), (0.0, 'homemi'), (0.0, 'homeli'), (0.0, 'homeless'), (0.0, 'homegood'), (0.0, 'homegirl'), (0.0, 'homefri'), (0.0, 'homefelt'), (0.0, 'homecook'), (0.0, 'homeboy'), (0.0, 'homag'), (0.0, 'hollow'), (0.0, 'hollondais'), (0.0, 'holli'), (0.0, 'holler'), (0.0, 'hollandais'), (0.0, 'holland'), (0.0, 'hollaindais'), (0.0, 'holla'), (0.0, 'holi'), (0.0, 'holenin'), (0.0, 'hole'), (0.0, 'holder'), (0.0, 'hoisin'), (0.0, 'hogwart'), (0.0, 'hogti'), (0.0, 'hogi'), (0.0, 'hog'), (0.0, 'hoecak'), (0.0, 'hockey'), (0.0, 'hock'), (0.0, 'hoc'), (0.0, 'hobo'), (0.0, 'hobbit'), (0.0, 'hoard'), (0.0, 'hoaaooogi'), (0.0, 'hoaaoogi'), (0.0, 'ho'), (0.0, 'hnd'), (0.0, 'hmmmmm'), (0.0, 'hmmmm'), (0.0, 'hmmm'), (0.0, 'hmm'), (0.0, 'hmart'), (0.0, 'hm'), (0.0, 'hiyashi'), (0.0, 'hittin'), (0.0, 'hitter'), (0.0, 'hitch'), (0.0, 'hispan'), (0.0, 'hiro'), (0.0, 'hire'), (0.0, 'hirami'), (0.0, 'hiram'), (0.0, 'hipsteri'), (0.0, 'hipster'), (0.0, 'hippot'), (0.0, 'hippi'), (0.0, 'hippest'), (0.0, 'hipolito'), (0.0, 'hipe'), (0.0, 'hip'), (0.0, 'hingehen'), (0.0, 'hing'), (0.0, 'hindsight'), (0.0, 'hinder'), (0.0, 'hilton'), (0.0, 'hill'), (0.0, 'hilari'), (0.0, 'hike'), (0.0, 'hijinx'), (0.0, 'higo'), (0.0, 'highway'), (0.0, 'hightop'), (0.0, 'hightail'), (0.0, 'highschool'), (0.0, 'highlight'), (0.0, 'highet'), (0.0, 'highest'), (0.0, 'hide'), (0.0, 'hidden'), (0.0, 'hickori'), (0.0, 'hiccup'), (0.0, 'hibiscus'), (0.0, 'hibachi'), (0.0, 'hiatus'), (0.0, 'hi'), (0.0, 'hhybgrxeub'), (0.0, 'hhour'), (0.0, 'hhey'), (0.0, 'hh'), (0.0, 'hgtv'), (0.0, 'heve'), (0.0, 'heuvo'), (0.0, 'heterosexu'), (0.0, 'hesit'), (0.0, 'hes'), (0.0, 'hershey'), (0.0, 'hershel'), (0.0, 'hershal'), (0.0, 'herschel'), (0.0, 'hersal'), (0.0, 'herradura'), (0.0, 'herr'), (0.0, 'hero'), (0.0, 'hermoso'), (0.0, 'hermit'), (0.0, 'heritag'), (0.0, 'heresi'), (0.0, 'herd'), (0.0, 'herbiari'), (0.0, 'herbi'), (0.0, 'herbal'), (0.0, 'herbac'), (0.0, 'herb'), (0.0, 'herald'), (0.0, 'henson'), (0.0, 'henri'), (0.0, 'hennessi'), (0.0, 'hendrick'), (0.0, 'henc'), (0.0, 'hen'), (0.0, 'hemingway'), (0.0, 'hem'), (0.0, 'helper'), (0.0, 'helluva'), (0.0, 'hello'), (0.0, 'hellist'), (0.0, 'hellish'), (0.0, 'hellious'), (0.0, 'hellfir'), (0.0, 'hella'), (0.0, 'helium'), (0.0, 'helen'), (0.0, 'helabi'), (0.0, 'heirloom'), (0.0, 'heir'), (0.0, 'heinz'), (0.0, 'heineken'), (0.0, 'heighten'), (0.0, 'height'), (0.0, 'hehe'), (0.0, 'hefti'), (0.0, 'hefeweizen'), (0.0, 'hef'), (0.0, 'heel'), (0.0, 'heeeeey'), (0.0, 'heed'), (0.0, 'hector'), (0.0, 'hectic'), (0.0, 'hecktic'), (0.0, 'heckl'), (0.0, 'heck'), (0.0, 'hebrew'), (0.0, 'heavili'), (0.0, 'heaviest'), (0.0, 'heavier'), (0.0, 'heavi'), (0.0, 'heav'), (0.0, 'heathen'), (0.0, 'heath'), (0.0, 'heartili'), (0.0, 'heartier'), (0.0, 'hearthston'), (0.0, 'hearth'), (0.0, 'heartfelt'), (0.0, 'heartburn'), (0.0, 'heartbroken'), (0.0, 'heartbreak'), (0.0, 'heartbeat'), (0.0, 'hearst'), (0.0, 'heap'), (0.0, 'healthiest'), (0.0, 'healthier'), (0.0, 'headset'), (0.0, 'headphon'), (0.0, 'headlin'), (0.0, 'headlight'), (0.0, 'headhous'), (0.0, 'headach'), (0.0, 'hazlenut'), (0.0, 'hazi'), (0.0, 'hazelnut'), (0.0, 'hazel'), (0.0, 'haze'), (0.0, 'hazard'), (0.0, 'hayrid'), (0.0, 'hay'), (0.0, 'hawthorn'), (0.0, 'hawk'), (0.0, 'hawaii'), (0.0, 'haw'), (0.0, 'havee'), (0.0, 'hav'), (0.0, 'haut'), (0.0, 'haunt'), (0.0, 'haul'), (0.0, 'hatvill'), (0.0, 'hatr'), (0.0, 'hatfield'), (0.0, 'hater'), (0.0, 'hatch'), (0.0, 'hat'), (0.0, 'hastili'), (0.0, 'hasten'), (0.0, 'hast'), (0.0, 'hasn'), (0.0, 'hashtag'), (0.0, 'hashi'), (0.0, 'hashbrown'), (0.0, 'harvest'), (0.0, 'hartey'), (0.0, 'hart'), (0.0, 'harsh'), (0.0, 'harrisburg'), (0.0, 'harri'), (0.0, 'harrah'), (0.0, 'harra'), (0.0, 'harper'), (0.0, 'harp'), (0.0, 'harmonica'), (0.0, 'harmoni'), (0.0, 'harmon'), (0.0, 'harmless'), (0.0, 'harm'), (0.0, 'harissa'), (0.0, 'harif'), (0.0, 'hargow'), (0.0, 'harem'), (0.0, 'hardwork'), (0.0, 'hardi'), (0.0, 'hardest'), (0.0, 'harbor'), (0.0, 'harbison'), (0.0, 'harber'), (0.0, 'haraa'), (0.0, 'hara'), (0.0, 'har'), (0.0, 'happyhour'), (0.0, 'happili'), (0.0, 'happier'), (0.0, 'happenst'), (0.0, 'hapli'), (0.0, 'haphazard'), (0.0, 'hao'), (0.0, 'hanout'), (0.0, 'hannah'), (0.0, 'hanker'), (0.0, 'hank'), (0.0, 'hanjuku'), (0.0, 'hangup'), (0.0, 'hangri'), (0.0, 'hangov'), (0.0, 'hangout'), (0.0, 'hango'), (0.0, 'hanger'), (0.0, 'hangar'), (0.0, 'handwash'), (0.0, 'handsom'), (0.0, 'handrol'), (0.0, 'handrail'), (0.0, 'handpaint'), (0.0, 'handmak'), (0.0, 'handmad'), (0.0, 'handler'), (0.0, 'handili'), (0.0, 'handicap'), (0.0, 'handi'), (0.0, 'handheld'), (0.0, 'handcut'), (0.0, 'handcraft'), (0.0, 'han'), (0.0, 'hampton'), (0.0, 'hampshir'), (0.0, 'hamper'), (0.0, 'hammer'), (0.0, 'hamiltonian'), (0.0, 'hamilton'), (0.0, 'hamburg'), (0.0, 'hamachi'), (0.0, 'hama'), (0.0, 'halvsi'), (0.0, 'halv'), (0.0, 'halumi'), (0.0, 'haltemann'), (0.0, 'halt'), (0.0, 'haloumu'), (0.0, 'haloumi'), (0.0, 'halomi'), (0.0, 'hallway'), (0.0, 'halloween'), (0.0, 'hallow'), (0.0, 'halloumi'), (0.0, 'hallmark'), (0.0, 'hallelujah'), (0.0, 'hall'), (0.0, 'halfway'), (0.0, 'halftim'), (0.0, 'halfsi'), (0.0, 'halal'), (0.0, 'halabi'), (0.0, 'hal'), (0.0, 'hakuna'), (0.0, 'hairnet'), (0.0, 'hairless'), (0.0, 'hairi'), (0.0, 'haircut'), (0.0, 'hairblend'), (0.0, 'hail'), (0.0, 'haight'), (0.0, 'haifa'), (0.0, 'hahha'), (0.0, 'hahahahaha'), (0.0, 'hahahaha'), (0.0, 'hahaha'), (0.0, 'hahah'), (0.0, 'hahaaha'), (0.0, 'haha'), (0.0, 'hah'), (0.0, 'hag'), (0.0, 'haesh'), (0.0, 'hadvid'), (0.0, 'hadnt'), (0.0, 'haden'), (0.0, 'hack'), (0.0, 'hacina'), (0.0, 'hacer'), (0.0, 'hacao'), (0.0, 'habíamo'), (0.0, 'habit'), (0.0, 'habibi'), (0.0, 'habenero'), (0.0, 'habe'), (0.0, 'habbibi'), (0.0, 'habanero'), (0.0, 'haaav'), (0.0, 'haaaa'), (0.0, 'ha'), (0.0, 'h'), (0.0, 'gyuudon'), (0.0, 'gyudon'), (0.0, 'gyu'), (0.0, 'gyro'), (0.0, 'gyosa'), (0.0, 'gym'), (0.0, 'gwendolyn'), (0.0, 'guyi'), (0.0, 'gut'), (0.0, 'gusto'), (0.0, 'gush'), (0.0, 'guru'), (0.0, 'gurl'), (0.0, 'gunn'), (0.0, 'gun'), (0.0, 'gumption'), (0.0, 'gummi'), (0.0, 'gumi'), (0.0, 'gumbo'), (0.0, 'gum'), (0.0, 'gulp'), (0.0, 'gullet'), (0.0, 'gulf'), (0.0, 'guitar'), (0.0, 'guinta'), (0.0, 'guin'), (0.0, 'guilt'), (0.0, 'guidelin'), (0.0, 'guidanc'), (0.0, 'guid'), (0.0, 'guey'), (0.0, 'guesstim'), (0.0, 'gud'), (0.0, 'gucci'), (0.0, 'gucamol'), (0.0, 'guava'), (0.0, 'guatemalan'), (0.0, 'guard'), (0.0, 'guarante'), (0.0, 'guancial'), (0.0, 'guancal'), (0.0, 'guam'), (0.0, 'gu'), (0.0, 'gtfo'), (0.0, 'gt'), (0.0, 'gruyèr'), (0.0, 'gruyer'), (0.0, 'grung'), (0.0, 'grumpi'), (0.0, 'grump'), (0.0, 'grumbl'), (0.0, 'gruhhub'), (0.0, 'gruffli'), (0.0, 'gruff'), (0.0, 'grrrrrr'), (0.0, 'grr'), (0.0, 'grownup'), (0.0, 'grown'), (0.0, 'growl'), (0.0, 'grower'), (0.0, 'grow'), (0.0, 'grouper'), (0.0, 'groud'), (0.0, 'grotesqu'), (0.0, 'grossli'), (0.0, 'groovi'), (0.0, 'groot'), (0.0, 'groom'), (0.0, 'grocer'), (0.0, 'grizzli'), (0.0, 'grizzl'), (0.0, 'grittier'), (0.0, 'gritti'), (0.0, 'grit'), (0.0, 'grist'), (0.0, 'grisli'), (0.0, 'grip'), (0.0, 'grinder'), (0.0, 'grind'), (0.0, 'grin'), (0.0, 'grimey'), (0.0, 'grime'), (0.0, 'grim'), (0.0, 'griller'), (0.0, 'grigio'), (0.0, 'grief'), (0.0, 'griddl'), (0.0, 'grid'), (0.0, 'greyhound'), (0.0, 'grey'), (0.0, 'grenadin'), (0.0, 'grenada'), (0.0, 'gremolata'), (0.0, 'gregori'), (0.0, 'gregari'), (0.0, 'greg'), (0.0, 'greeter'), (0.0, 'greeneri'), (0.0, 'greenback'), (0.0, 'greek'), (0.0, 'greec'), (0.0, 'greatt'), (0.0, 'greater'), (0.0, 'greasiest'), (0.0, 'greasier'), (0.0, 'greasebal'), (0.0, 'greasebag'), (0.0, 'gread'), (0.0, 'graze'), (0.0, 'gray'), (0.0, 'gravlax'), (0.0, 'graviti'), (0.0, 'gravit'), (0.0, 'gravi'), (0.0, 'gravel'), (0.0, 'grave'), (0.0, 'gravalox'), (0.0, 'gratuiti'), (0.0, 'gratuit'), (0.0, 'gratitud'), (0.0, 'gratiné'), (0.0, 'gratine'), (0.0, 'gratin'), (0.0, 'grati'), (0.0, 'grate'), (0.0, 'grassi'), (0.0, 'grass'), (0.0, 'grasp'), (0.0, 'gras'), (0.0, 'graphic'), (0.0, 'grapeleav'), (0.0, 'grapefruit'), (0.0, 'grape'), (0.0, 'grantiné'), (0.0, 'grant'), (0.0, 'granola'), (0.0, 'granni'), (0.0, 'granita'), (0.0, 'granit'), (0.0, 'grandpar'), (0.0, 'grandpa'), (0.0, 'grandmoth'), (0.0, 'grandma'), (0.0, 'grandissim'), (0.0, 'grandios'), (0.0, 'grandino'), (0.0, 'granddaught'), (0.0, 'granada'), (0.0, 'grana'), (0.0, 'grammar'), (0.0, 'gram'), (0.0, 'graini'), (0.0, 'grain'), (0.0, 'grail'), (0.0, 'graham'), (0.0, 'grafitti'), (0.0, 'graffiti'), (0.0, 'graduat'), (0.0, 'gradual'), (0.0, 'grader'), (0.0, 'grade'), (0.0, 'grad'), (0.0, 'gr'), (0.0, 'gps'), (0.0, 'gp'), (0.0, 'goyza'), (0.0, 'gow'), (0.0, 'govern'), (0.0, 'gourmet'), (0.0, 'gourmand'), (0.0, 'gougèr'), (0.0, 'goug'), (0.0, 'gouda'), (0.0, 'goto'), (0.0, 'gothic'), (0.0, 'gotchu'), (0.0, 'gosl'), (0.0, 'gosh'), (0.0, 'gormand'), (0.0, 'gorgonzola'), (0.0, 'gorg'), (0.0, 'gordon'), (0.0, 'gopro'), (0.0, 'gop'), (0.0, 'goosh'), (0.0, 'goos'), (0.0, 'gooooooood'), (0.0, 'gooooood'), (0.0, 'goooood'), (0.0, 'gooood'), (0.0, 'goooo'), (0.0, 'goood'), (0.0, 'googl'), (0.0, 'goofili'), (0.0, 'goof'), (0.0, 'gooey'), (0.0, 'goodyear'), (0.0, 'goodwil'), (0.0, 'goodt'), (0.0, 'goodnight'), (0.0, 'goodi'), (0.0, 'goodhead'), (0.0, 'goodby'), (0.0, 'goodbelli'), (0.0, 'goob'), (0.0, 'goo'), (0.0, 'gonzalez'), (0.0, 'gong'), (0.0, 'gona'), (0.0, 'gomatei'), (0.0, 'golit'), (0.0, 'golf'), (0.0, 'goldmin'), (0.0, 'goldilock'), (0.0, 'goldi'), (0.0, 'goldeni'), (0.0, 'golden'), (0.0, 'goldbelli'), (0.0, 'goldand'), (0.0, 'gold'), (0.0, 'golan'), (0.0, 'goi'), (0.0, 'goer'), (0.0, 'godspe'), (0.0, 'godshal'), (0.0, 'godsend'), (0.0, 'godsel'), (0.0, 'godfath'), (0.0, 'goblet'), (0.0, 'gobbl'), (0.0, 'goat'), (0.0, 'goal'), (0.0, 'gnudi'), (0.0, 'gnocci'), (0.0, 'gnaw'), (0.0, 'gnat'), (0.0, 'gm'), (0.0, 'gluttoni'), (0.0, 'glutton'), (0.0, 'glutin'), (0.0, 'gluey'), (0.0, 'glue'), (0.0, 'glow'), (0.0, 'glove'), (0.0, 'glossi'), (0.0, 'glossari'), (0.0, 'glorious'), (0.0, 'glorifi'), (0.0, 'gloria'), (0.0, 'glori'), (0.0, 'gloomi'), (0.0, 'globe'), (0.0, 'global'), (0.0, 'glob'), (0.0, 'gloat'), (0.0, 'glitzi'), (0.0, 'glitz'), (0.0, 'glitter'), (0.0, 'glitch'), (0.0, 'glisten'), (0.0, 'glimps'), (0.0, 'glick'), (0.0, 'glen'), (0.0, 'glee'), (0.0, 'glean'), (0.0, 'glaze'), (0.0, 'glasswar'), (0.0, 'glaser'), (0.0, 'glare'), (0.0, 'glanc'), (0.0, 'glamour'), (0.0, 'glamor'), (0.0, 'glam'), (0.0, 'gladiat'), (0.0, 'gladi'), (0.0, 'glace'), (0.0, 'gj'), (0.0, 'givin'), (0.0, 'giveaway'), (0.0, 'giunta'), (0.0, 'gist'), (0.0, 'gissell'), (0.0, 'girthi'), (0.0, 'girlboss'), (0.0, 'girard'), (0.0, 'giorgio'), (0.0, 'ginorm'), (0.0, 'ginjo'), (0.0, 'gingeri'), (0.0, 'ginger'), (0.0, 'gina'), (0.0, 'gin'), (0.0, 'gimmicki'), (0.0, 'gimmick'), (0.0, 'gimlet'), (0.0, 'gim'), (0.0, 'gill'), (0.0, 'gigant'), (0.0, 'gigand'), (0.0, 'gig'), (0.0, 'giddi'), (0.0, 'gibran'), (0.0, 'gibberish'), (0.0, 'giamanti'), (0.0, 'giagant'), (0.0, 'gi'), (0.0, 'ghost'), (0.0, 'ghetto'), (0.0, 'ghanoush'), (0.0, 'ghanouj'), (0.0, 'gfs'), (0.0, 'gf'), (0.0, 'getvreadi'), (0.0, 'gettysburg'), (0.0, 'gettin'), (0.0, 'getchu'), (0.0, 'getaway'), (0.0, 'gestur'), (0.0, 'germaphob'), (0.0, 'germantown'), (0.0, 'germani'), (0.0, 'german'), (0.0, 'germain'), (0.0, 'georgia'), (0.0, 'geon'), (0.0, 'geograph'), (0.0, 'genuin'), (0.0, 'gentrifi'), (0.0, 'gentrif'), (0.0, 'gentlewoman'), (0.0, 'gentlest'), (0.0, 'gentler'), (0.0, 'gentlemen'), (0.0, 'gentleman'), (0.0, 'gentl'), (0.0, 'gent'), (0.0, 'genr'), (0.0, 'genom'), (0.0, 'genoa'), (0.0, 'genmaicha'), (0.0, 'genmai'), (0.0, 'genius'), (0.0, 'genial'), (0.0, 'geni'), (0.0, 'generos'), (0.0, 'generat'), (0.0, 'generalment'), (0.0, 'genera'), (0.0, 'gene'), (0.0, 'gender'), (0.0, 'gen'), (0.0, 'gelé'), (0.0, 'gelka'), (0.0, 'gele'), (0.0, 'gelato'), (0.0, 'gelatin'), (0.0, 'gel'), (0.0, 'gekko'), (0.0, 'geez'), (0.0, 'geeg'), (0.0, 'gee'), (0.0, 'gec'), (0.0, 'gear'), (0.0, 'gdri'), (0.0, 'gdamn'), (0.0, 'gd'), (0.0, 'gbgvylugujbtuv'), (0.0, 'gbd'), (0.0, 'gazzo'), (0.0, 'gazpacho'), (0.0, 'gaze'), (0.0, 'gaza'), (0.0, 'gaybourhood'), (0.0, 'gayborhood'), (0.0, 'gay'), (0.0, 'gawk'), (0.0, 'gawd'), (0.0, 'gavlox'), (0.0, 'gauntlet'), (0.0, 'gaug'), (0.0, 'gaudi'), (0.0, 'gauc'), (0.0, 'gau'), (0.0, 'gattuso'), (0.0, 'gatorad'), (0.0, 'gator'), (0.0, 'gather'), (0.0, 'gate'), (0.0, 'gastropub'), (0.0, 'gastronomi'), (0.0, 'gastronom'), (0.0, 'gastromaniac'), (0.0, 'gastrointestin'), (0.0, 'gastro'), (0.0, 'gastriqu'), (0.0, 'gastric'), (0.0, 'gasp'), (0.0, 'gasolin'), (0.0, 'gas'), (0.0, 'garlicki'), (0.0, 'gargantuan'), (0.0, 'gardena'), (0.0, 'garc'), (0.0, 'garb'), (0.0, 'garag'), (0.0, 'gape'), (0.0, 'gap'), (0.0, 'ganush'), (0.0, 'ganoush'), (0.0, 'ganough'), (0.0, 'gannoush'), (0.0, 'gang'), (0.0, 'gander'), (0.0, 'ganach'), (0.0, 'gamy'), (0.0, 'gamut'), (0.0, 'gami'), (0.0, 'gamey'), (0.0, 'gambl'), (0.0, 'galor'), (0.0, 'gallo'), (0.0, 'galleri'), (0.0, 'galille'), (0.0, 'galile'), (0.0, 'galett'), (0.0, 'galentin'), (0.0, 'galbi'), (0.0, 'galaxi'), (0.0, 'gala'), (0.0, 'gal'), (0.0, 'gain'), (0.0, 'gah'), (0.0, 'gag'), (0.0, 'gaff'), (0.0, 'gaetano'), (0.0, 'gadot'), (0.0, 'gadget'), (0.0, 'gabriel'), (0.0, 'gabi'), (0.0, 'gabbi'), (0.0, 'gaaaawwwwww'), (0.0, 'ga'), (0.0, 'g'), (0.0, 'fwiw'), (0.0, 'fuzzi'), (0.0, 'fussi'), (0.0, 'fusionish'), (0.0, 'fusioni'), (0.0, 'fusion'), (0.0, 'fushion'), (0.0, 'furtiv'), (0.0, 'furthest'), (0.0, 'furtherest'), (0.0, 'furnitur'), (0.0, 'furious'), (0.0, 'fuqqqqqq'), (0.0, 'fuqian'), (0.0, 'funnili'), (0.0, 'funniest'), (0.0, 'funni'), (0.0, 'funnel'), (0.0, 'funkiest'), (0.0, 'funki'), (0.0, 'funk'), (0.0, 'fungus'), (0.0, 'fungi'), (0.0, 'funghi'), (0.0, 'fung'), (0.0, 'fundido'), (0.0, 'funday'), (0.0, 'fundament'), (0.0, 'function'), (0.0, 'fumè'), (0.0, 'fume'), (0.0, 'fumbl'), (0.0, 'fullllllllllll'), (0.0, 'fulllllll'), (0.0, 'fullest'), (0.0, 'fuller'), (0.0, 'ful'), (0.0, 'fuimo'), (0.0, 'fuera'), (0.0, 'fuel'), (0.0, 'fue'), (0.0, 'fudg'), (0.0, 'fuckboy'), (0.0, 'fuck'), (0.0, 'fu'), (0.0, 'ftw'), (0.0, 'ft'), (0.0, 'fsce'), (0.0, 'frühstücken'), (0.0, 'fryer'), (0.0, 'frue'), (0.0, 'froze'), (0.0, 'frown'), (0.0, 'frothi'), (0.0, 'froth'), (0.0, 'frosé'), (0.0, 'frosti'), (0.0, 'frostbit'), (0.0, 'frost'), (0.0, 'frose'), (0.0, 'froo'), (0.0, 'frontlin'), (0.0, 'froi'), (0.0, 'fro'), (0.0, 'frm'), (0.0, 'frizz'), (0.0, 'fritter'), (0.0, 'frittatta'), (0.0, 'frittata'), (0.0, 'frito'), (0.0, 'frita'), (0.0, 'frisé'), (0.0, 'friski'), (0.0, 'frise'), (0.0, 'fring'), (0.0, 'frind'), (0.0, 'frilli'), (0.0, 'frill'), (0.0, 'frigid'), (0.0, 'frighten'), (0.0, 'fright'), (0.0, 'friggin'), (0.0, 'friggen'), (0.0, 'frig'), (0.0, 'friez'), (0.0, 'friendship'), (0.0, 'friendliest'), (0.0, 'friendlier'), (0.0, 'friendli'), (0.0, 'frieeeee'), (0.0, 'friedto'), (0.0, 'fridg'), (0.0, 'frickin'), (0.0, 'fricken'), (0.0, 'fret'), (0.0, 'fresno'), (0.0, 'fresita'), (0.0, 'freshmen'), (0.0, 'freshman'), (0.0, 'freshest'), (0.0, 'fresher'), (0.0, 'freshen'), (0.0, 'fresco'), (0.0, 'fresca'), (0.0, 'frequenc'), (0.0, 'frenzi'), (0.0, 'frenchtoast'), (0.0, 'frenchman'), (0.0, 'freita'), (0.0, 'freind'), (0.0, 'fregola'), (0.0, 'freggin'), (0.0, 'freezer'), (0.0, 'freez'), (0.0, 'freestyl'), (0.0, 'freekah'), (0.0, 'freedom'), (0.0, 'freebi'), (0.0, 'frech'), (0.0, 'freakin'), (0.0, 'freaki'), (0.0, 'freaken'), (0.0, 'freak'), (0.0, 'frazzl'), (0.0, 'fraught'), (0.0, 'fraud'), (0.0, 'frattini'), (0.0, 'fratern'), (0.0, 'frat'), (0.0, 'français'), (0.0, 'frantic'), (0.0, 'franklin'), (0.0, 'franki'), (0.0, 'frankfurt'), (0.0, 'frankford'), (0.0, 'frangelli'), (0.0, 'franford'), (0.0, 'francophil'), (0.0, 'francisco'), (0.0, 'franchis'), (0.0, 'franc'), (0.0, 'fran'), (0.0, 'frame'), (0.0, 'fraich'), (0.0, 'fragrant'), (0.0, 'fragranc'), (0.0, 'fragment'), (0.0, 'fraction'), (0.0, 'fr'), (0.0, 'foyer'), (0.0, 'fox'), (0.0, 'foward'), (0.0, 'fourth'), (0.0, 'fourseason'), (0.0, 'fountain'), (0.0, 'foundat'), (0.0, 'foul'), (0.0, 'fought'), (0.0, 'fotografi'), (0.0, 'foto'), (0.0, 'foster'), (0.0, 'foss'), (0.0, 'fortun'), (0.0, 'fortuit'), (0.0, 'fortifi'), (0.0, 'forti'), (0.0, 'forthwith'), (0.0, 'forthright'), (0.0, 'forth'), (0.0, 'fort'), (0.0, 'forr'), (0.0, 'fornth'), (0.0, 'formula'), (0.0, 'formul'), (0.0, 'format'), (0.0, 'forman'), (0.0, 'formaldehyd'), (0.0, 'formal'), (0.0, 'form'), (0.0, 'fork'), (0.0, 'forgon'), (0.0, 'forgo'), (0.0, 'forgiven'), (0.0, 'forgiv'), (0.0, 'forgett'), (0.0, 'forg'), (0.0, 'forewarn'), (0.0, 'forest'), (0.0, 'forese'), (0.0, 'foremost'), (0.0, 'foreign'), (0.0, 'forehead'), (0.0, 'forego'), (0.0, 'forefront'), (0.0, 'forecast'), (0.0, 'forearm'), (0.0, 'ford'), (0.0, 'forcibl'), (0.0, 'forc'), (0.0, 'forbid'), (0.0, 'foray'), (0.0, 'forag'), (0.0, 'fora'), (0.0, 'footsi'), (0.0, 'footlong'), (0.0, 'footer'), (0.0, 'footbal'), (0.0, 'footag'), (0.0, 'foooodd'), (0.0, 'fooood'), (0.0, 'foood'), (0.0, 'foolish'), (0.0, 'foodwis'), (0.0, 'foodway'), (0.0, 'foodtopia'), (0.0, 'foodstuff'), (0.0, 'foodrink'), (0.0, 'foodlov'), (0.0, 'foodgasm'), (0.0, 'foodddd'), (0.0, 'foodcourt'), (0.0, 'foobooz'), (0.0, 'fontina'), (0.0, 'font'), (0.0, 'fondu'), (0.0, 'fondest'), (0.0, 'fond'), (0.0, 'fomo'), (0.0, 'folk'), (0.0, 'foliag'), (0.0, 'foldov'), (0.0, 'folderol'), (0.0, 'foir'), (0.0, 'foil'), (0.0, 'foiegra'), (0.0, 'foi'), (0.0, 'foh'), (0.0, 'fogo'), (0.0, 'foggi'), (0.0, 'fog'), (0.0, 'focus'), (0.0, 'foccacia'), (0.0, 'focasia'), (0.0, 'focaccia'), (0.0, 'foami'), (0.0, 'foam'), (0.0, 'foagura'), (0.0, 'fo'), (0.0, 'fn'), (0.0, 'flys'), (0.0, 'flyover'), (0.0, 'flyer'), (0.0, 'flute'), (0.0, 'fluster'), (0.0, 'flush'), (0.0, 'flurri'), (0.0, 'fluoresc'), (0.0, 'fluke'), (0.0, 'fluiditi'), (0.0, 'fluid'), (0.0, 'fluffiest'), (0.0, 'fluffier'), (0.0, 'fluff'), (0.0, 'fluf'), (0.0, 'fluent'), (0.0, 'flown'), (0.0, 'flowergirl'), (0.0, 'flow'), (0.0, 'flourless'), (0.0, 'flourish'), (0.0, 'flouri'), (0.0, 'flour'), (0.0, 'floss'), (0.0, 'florist'), (0.0, 'florenc'), (0.0, 'floral'), (0.0, 'flora'), (0.0, 'floppi'), (0.0, 'flop'), (0.0, 'flood'), (0.0, 'floida'), (0.0, 'flock'), (0.0, 'float'), (0.0, 'flirt'), (0.0, 'flipsid'), (0.0, 'flipper'), (0.0, 'flip'), (0.0, 'flinch'), (0.0, 'flimsi'), (0.0, 'flight'), (0.0, 'flicker'), (0.0, 'flick'), (0.0, 'flexibl'), (0.0, 'flex'), (0.0, 'flew'), (0.0, 'fleshi'), (0.0, 'flesh'), (0.0, 'fleet'), (0.0, 'fleek'), (0.0, 'fleec'), (0.0, 'flee'), (0.0, 'fledg'), (0.0, 'fled'), (0.0, 'fleck'), (0.0, 'flea'), (0.0, 'flay'), (0.0, 'flax'), (0.0, 'flawless'), (0.0, 'flaw'), (0.0, 'flavour'), (0.0, 'flavorwis'), (0.0, 'flavortown'), (0.0, 'flavorsom'), (0.0, 'flavorr'), (0.0, 'flavori'), (0.0, 'flavorful'), (0.0, 'flava'), (0.0, 'flatwar'), (0.0, 'flatul'), (0.0, 'flattop'), (0.0, 'flatten'), (0.0, 'flatscreen'), (0.0, 'flatop'), (0.0, 'flatbread'), (0.0, 'flashlight'), (0.0, 'flashiest'), (0.0, 'flashi'), (0.0, 'flash'), (0.0, 'flare'), (0.0, 'flappin'), (0.0, 'flapjack'), (0.0, 'flank'), (0.0, 'flander'), (0.0, 'flan'), (0.0, 'flame'), (0.0, 'flamboy'), (0.0, 'flakiest'), (0.0, 'flakier'), (0.0, 'flaki'), (0.0, 'flakey'), (0.0, 'flake'), (0.0, 'flair'), (0.0, 'flagship'), (0.0, 'flagrant'), (0.0, 'flabbergast'), (0.0, 'fl'), (0.0, 'fj'), (0.0, 'fizzi'), (0.0, 'fixtur'), (0.0, 'fivestar'), (0.0, 'fitzwat'), (0.0, 'fitter'), (0.0, 'fist'), (0.0, 'fisrt'), (0.0, 'fishtown'), (0.0, 'fisht'), (0.0, 'fishmong'), (0.0, 'fishi'), (0.0, 'fisherman'), (0.0, 'fisher'), (0.0, 'fishbowl'), (0.0, 'fishbal'), (0.0, 'fischer'), (0.0, 'firsthand'), (0.0, 'firmer'), (0.0, 'firm'), (0.0, 'firework'), (0.0, 'fireston'), (0.0, 'fireplac'), (0.0, 'firehous'), (0.0, 'firefight'), (0.0, 'firecrack'), (0.0, 'firebal'), (0.0, 'fiox'), (0.0, 'fior'), (0.0, 'finoccio'), (0.0, 'finocchio'), (0.0, 'finni'), (0.0, 'fingertip'), (0.0, 'fingerl'), (0.0, 'finger'), (0.0, 'finest'), (0.0, 'finess'), (0.0, 'finer'), (0.0, 'fineee'), (0.0, 'financi'), (0.0, 'fin'), (0.0, 'filter'), (0.0, 'filo'), (0.0, 'film'), (0.0, 'fillet'), (0.0, 'filler'), (0.0, 'filipino'), (0.0, 'file'), (0.0, 'filbert'), (0.0, 'filadelfia'), (0.0, 'fil'), (0.0, 'fig'), (0.0, 'fifti'), (0.0, 'fifth'), (0.0, 'fieuda'), (0.0, 'fiesta'), (0.0, 'fieri'), (0.0, 'fierc'), (0.0, 'fiend'), (0.0, 'field'), (0.0, 'fideua'), (0.0, 'fiddl'), (0.0, 'fiction'), (0.0, 'fico'), (0.0, 'fibroid'), (0.0, 'fiber'), (0.0, 'fiance'), (0.0, 'fianc'), (0.0, 'ffs'), (0.0, 'ffle'), (0.0, 'fez'), (0.0, 'fewer'), (0.0, 'fevertre'), (0.0, 'feverish'), (0.0, 'fettuccini'), (0.0, 'fettuccin'), (0.0, 'fetteh'), (0.0, 'fetch'), (0.0, 'fetal'), (0.0, 'feta'), (0.0, 'festoon'), (0.0, 'festiv'), (0.0, 'fest'), (0.0, 'fessenjoon'), (0.0, 'fervent'), (0.0, 'ferri'), (0.0, 'ferret'), (0.0, 'ferrero'), (0.0, 'feroci'), (0.0, 'fernet'), (0.0, 'ferment'), (0.0, 'fenugreek'), (0.0, 'fennel'), (0.0, 'fend'), (0.0, 'fenc'), (0.0, 'fen'), (0.0, 'feminist'), (0.0, 'feminin'), (0.0, 'felton'), (0.0, 'feloni'), (0.0, 'fellow'), (0.0, 'fella'), (0.0, 'felicia'), (0.0, 'felic'), (0.0, 'feign'), (0.0, 'feelin'), (0.0, 'feek'), (0.0, 'feedback'), (0.0, 'feebl'), (0.0, 'fedex'), (0.0, 'federoff'), (0.0, 'feder'), (0.0, 'fed'), (0.0, 'februari'), (0.0, 'feb'), (0.0, 'featur'), (0.0, 'feather'), (0.0, 'feat'), (0.0, 'feast'), (0.0, 'feasibl'), (0.0, 'fear'), (0.0, 'fe'), (0.0, 'fb'), (0.0, 'favourit'), (0.0, 'favour'), (0.0, 'favorito'), (0.0, 'fava'), (0.0, 'fav'), (0.0, 'faux'), (0.0, 'faulter'), (0.0, 'fault'), (0.0, 'faucet'), (0.0, 'fattoush'), (0.0, 'fattouch'), (0.0, 'fattocuh'), (0.0, 'fattiest'), (0.0, 'fattier'), (0.0, 'fattah'), (0.0, 'fatouch'), (0.0, 'fatigu'), (0.0, 'fathom'), (0.0, 'father'), (0.0, 'fateh'), (0.0, 'fate'), (0.0, 'fatar'), (0.0, 'fata'), (0.0, 'fastest'), (0.0, 'faster'), (0.0, 'fashion'), (0.0, 'fascin'), (0.0, 'farti'), (0.0, 'farthest'), (0.0, 'farther'), (0.0, 'fart'), (0.0, 'farro'), (0.0, 'farout'), (0.0, 'farmhous'), (0.0, 'farmer'), (0.0, 'fargo'), (0.0, 'farfall'), (0.0, 'farewel'), (0.0, 'fare'), (0.0, 'fantasi'), (0.0, 'fantas'), (0.0, 'fannntast'), (0.0, 'fanni'), (0.0, 'fangirl'), (0.0, 'faneuil'), (0.0, 'fandom'), (0.0, 'fancili'), (0.0, 'fanciest'), (0.0, 'fancier'), (0.0, 'fanat'), (0.0, 'famosísimo'), (0.0, 'famoso'), (0.0, 'famish'), (0.0, 'familiar'), (0.0, 'fama'), (0.0, 'fam'), (0.0, 'fals'), (0.0, 'fallout'), (0.0, 'fallen'), (0.0, 'fallafel'), (0.0, 'falafel'), (0.0, 'falaf'), (0.0, 'faker'), (0.0, 'fake'), (0.0, 'fajita'), (0.0, 'faith'), (0.0, 'fairytal'), (0.0, 'fairmount'), (0.0, 'fairi'), (0.0, 'faint'), (0.0, 'failur'), (0.0, 'fahziou'), (0.0, 'faf'), (0.0, 'fade'), (0.0, 'fad'), (0.0, 'factori'), (0.0, 'factor'), (0.0, 'facil'), (0.0, 'facial'), (0.0, 'faceshield'), (0.0, 'facepalm'), (0.0, 'facebook'), (0.0, 'facad'), (0.0, 'fabric'), (0.0, 'fabl'), (0.0, 'fab'), (0.0, 'ez'), (0.0, 'eyebrow'), (0.0, 'eyebal'), (0.0, 'exud'), (0.0, 'exuber'), (0.0, 'extremelllyyyy'), (0.0, 'extreeeeeem'), (0.0, 'extravaganza'), (0.0, 'extravag'), (0.0, 'extraordinarili'), (0.0, 'extraordinari'), (0.0, 'extraordinair'), (0.0, 'extract'), (0.0, 'extern'), (0.0, 'extermin'), (0.0, 'exterior'), (0.0, 'extent'), (0.0, 'extens'), (0.0, 'extend'), (0.0, 'exquisit'), (0.0, 'expressway'), (0.0, 'expresso'), (0.0, 'express'), (0.0, 'exposur'), (0.0, 'expos'), (0.0, 'exponenti'), (0.0, 'expolor'), (0.0, 'explosión'), (0.0, 'explos'), (0.0, 'exploratori'), (0.0, 'exploit'), (0.0, 'explod'), (0.0, 'explicit'), (0.0, 'explet'), (0.0, 'explanatori'), (0.0, 'expir'), (0.0, 'expier'), (0.0, 'expertis'), (0.0, 'expert'), (0.0, 'experiwnc'), (0.0, 'experiment'), (0.0, 'experii'), (0.0, 'experienti'), (0.0, 'expend'), (0.0, 'expel'), (0.0, 'expediti'), (0.0, 'expedit'), (0.0, 'expedi'), (0.0, 'expectex'), (0.0, 'expectativa'), (0.0, 'expat'), (0.0, 'expans'), (0.0, 'expand'), (0.0, 'exot'), (0.0, 'exorbit'), (0.0, 'exit'), (0.0, 'existenti'), (0.0, 'exhibit'), (0.0, 'exhaust'), (0.0, 'exet'), (0.0, 'exept'), (0.0, 'exemplari'), (0.0, 'execut'), (0.0, 'execel'), (0.0, 'excurs'), (0.0, 'excruci'), (0.0, 'excret'), (0.0, 'exclus'), (0.0, 'exclud'), (0.0, 'exclaim'), (0.0, 'exchang'), (0.0, 'excess'), (0.0, 'excepción'), (0.0, 'excepcion'), (0.0, 'exceed'), (0.0, 'excal'), (0.0, 'exasper'), (0.0, 'examin'), (0.0, 'exam'), (0.0, 'exagger'), (0.0, 'ex'), (0.0, 'ewwwww'), (0.0, 'eww'), (0.0, 'ewe'), (0.0, 'ew'), (0.0, 'evoqu'), (0.0, 'evoo'), (0.0, 'evolv'), (0.0, 'evolut'), (0.0, 'evoc'), (0.0, 'evil'), (0.0, 'evidenc'), (0.0, 'evid'), (0.0, 'eveyth'), (0.0, 'everywher'), (0.0, 'everybodi'), (0.0, 'everth'), (0.0, 'evert'), (0.0, 'everrrrr'), (0.0, 'everlast'), (0.0, 'evergi'), (0.0, 'eveeeeeer'), (0.0, 'eve'), (0.0, 'evas'), (0.0, 'evapor'), (0.0, 'evan'), (0.0, 'evalu'), (0.0, 'evad'), (0.0, 'evaaaa'), (0.0, 'eva'), (0.0, 'european'), (0.0, 'europ'), (0.0, 'euphoria'), (0.0, 'euphor'), (0.0, 'euphem'), (0.0, 'etouffe'), (0.0, 'eton'), (0.0, 'etiquett'), (0.0, 'ethnic'), (0.0, 'ethiopian'), (0.0, 'ethic'), (0.0, 'ether'), (0.0, 'etern'), (0.0, 'ete'), (0.0, 'et'), (0.0, 'esté'), (0.0, 'están'), (0.0, 'estábamo'), (0.0, 'está'), (0.0, 'estrella'), (0.0, 'esthet'), (0.0, 'esteem'), (0.0, 'estat'), (0.0, 'estaba'), (0.0, 'esta'), (0.0, 'est'), (0.0, 'essenti'), (0.0, 'essenc'), (0.0, 'ess'), (0.0, 'esquina'), (0.0, 'esqu'), (0.0, 'esq'), (0.0, 'espuma'), (0.0, 'espresso'), (0.0, 'espn'), (0.0, 'espic'), (0.0, 'esperar'), (0.0, 'esperando'), (0.0, 'espera'), (0.0, 'espectacular'), (0.0, 'especiada'), (0.0, 'espacio'), (0.0, 'esp'), (0.0, 'eso'), (0.0, 'esh'), (0.0, 'eschew'), (0.0, 'escher'), (0.0, 'escargot'), (0.0, 'escargo'), (0.0, 'escap'), (0.0, 'escalop'), (0.0, 'escal'), (0.0, 'esagerata'), (0.0, 'es'), (0.0, 'erupt'), (0.0, 'errythang'), (0.0, 'error'), (0.0, 'errat'), (0.0, 'errand'), (0.0, 'err'), (0.0, 'eros'), (0.0, 'erika'), (0.0, 'ericka'), (0.0, 'erica'), (0.0, 'eric'), (0.0, 'eri'), (0.0, 'ergonom'), (0.0, 'erect'), (0.0, 'ere'), (0.0, 'erb'), (0.0, 'eran'), (0.0, 'era'), (0.0, 'er'), (0.0, 'equus'), (0.0, 'equivoc'), (0.0, 'equival'), (0.0, 'equip'), (0.0, 'equidist'), (0.0, 'equat'), (0.0, 'epstein'), (0.0, 'epoqu'), (0.0, 'eponym'), (0.0, 'epitom'), (0.0, 'episod'), (0.0, 'epiphani'), (0.0, 'epic'), (0.0, 'ephemer'), (0.0, 'eon'), (0.0, 'enwrap'), (0.0, 'envis'), (0.0, 'environment'), (0.0, 'enviro'), (0.0, 'envious'), (0.0, 'envi'), (0.0, 'envelop'), (0.0, 'entré'), (0.0, 'entryway'), (0.0, 'entrecot'), (0.0, 'entrea'), (0.0, 'entramo'), (0.0, 'entr'), (0.0, 'entitl'), (0.0, 'entiti'), (0.0, 'entireti'), (0.0, 'entic'), (0.0, 'enthusiast'), (0.0, 'enthusiasm'), (0.0, 'enthus'), (0.0, 'enthral'), (0.0, 'entfernt'), (0.0, 'entertain'), (0.0, 'enterpris'), (0.0, 'entail'), (0.0, 'ensur'), (0.0, 'ensorcel'), (0.0, 'enrol'), (0.0, 'enrich'), (0.0, 'enoy'), (0.0, 'enourm'), (0.0, 'enorm'), (0.0, 'enokimushroom'), (0.0, 'enoki'), (0.0, 'ennoy'), (0.0, 'enitr'), (0.0, 'enigma'), (0.0, 'enhanc'), (0.0, 'engulf'), (0.0, 'england'), (0.0, 'engin'), (0.0, 'engend'), (0.0, 'engag'), (0.0, 'enforc'), (0.0, 'energi'), (0.0, 'energet'), (0.0, 'enemi'), (0.0, 'endur'), (0.0, 'endors'), (0.0, 'endless'), (0.0, 'endiv'), (0.0, 'endeavor'), (0.0, 'endear'), (0.0, 'encrust'), (0.0, 'encroach'), (0.0, 'encourag'), (0.0, 'encount'), (0.0, 'encor'), (0.0, 'encontrar'), (0.0, 'encompass'), (0.0, 'enclosur'), (0.0, 'enclos'), (0.0, 'enclav'), (0.0, 'encircl'), (0.0, 'enchant'), (0.0, 'encas'), (0.0, 'encapsul'), (0.0, 'encantó'), (0.0, 'encantaría'), (0.0, 'enamor'), (0.0, 'enabl'), (0.0, 'enab'), (0.0, 'en'), (0.0, 'emul'), (0.0, 'emporium'), (0.0, 'empor'), (0.0, 'employ'), (0.0, 'empir'), (0.0, 'emphat'), (0.0, 'emphasi'), (0.0, 'emphas'), (0.0, 'emperor'), (0.0, 'empathi'), (0.0, 'empathet'), (0.0, 'empanada'), (0.0, 'emot'), (0.0, 'emoji'), (0.0, 'emili'), (0.0, 'emeril'), (0.0, 'emerg'), (0.0, 'embryo'), (0.0, 'embrac'), (0.0, 'embodi'), (0.0, 'ember'), (0.0, 'embellish'), (0.0, 'embed'), (0.0, 'embassi'), (0.0, 'embark'), (0.0, 'embarass'), (0.0, 'emanuell'), (0.0, 'eman'), (0.0, 'emaci'), (0.0, 'em'), (0.0, 'elvi'), (0.0, 'elus'), (0.0, 'elot'), (0.0, 'eloqu'), (0.0, 'elong'), (0.0, 'ell'), (0.0, 'elizabeth'), (0.0, 'elixr'), (0.0, 'elixir'), (0.0, 'elitist'), (0.0, 'elit'), (0.0, 'elimin'), (0.0, 'elijah'), (0.0, 'elig'), (0.0, 'eli'), (0.0, 'elf'), (0.0, 'eleventi'), (0.0, 'elev'), (0.0, 'elena'), (0.0, 'element'), (0.0, 'eleg'), (0.0, 'electronica'), (0.0, 'electron'), (0.0, 'electro'), (0.0, 'electrifi'), (0.0, 'electra'), (0.0, 'electr'), (0.0, 'elect'), (0.0, 'elección'), (0.0, 'eldest'), (0.0, 'elderflow'), (0.0, 'elderberri'), (0.0, 'elder'), (0.0, 'elbow'), (0.0, 'elat'), (0.0, 'elast'), (0.0, 'elantra'), (0.0, 'elabor'), (0.0, 'eitherway'), (0.0, 'eithermad'), (0.0, 'einstök'), (0.0, 'eighth'), (0.0, 'eid'), (0.0, 'ehhhh'), (0.0, 'ehhh'), (0.0, 'ehh'), (0.0, 'eh'), (0.0, 'egyptian'), (0.0, 'egypt'), (0.0, 'egregi'), (0.0, 'ego'), (0.0, 'eggwhit'), (0.0, 'eggspect'), (0.0, 'eggshel'), (0.0, 'eggscel'), (0.0, 'eggrol'), (0.0, 'eggnog'), (0.0, 'eggi'), (0.0, 'effortless'), (0.0, 'effort'), (0.0, 'efffin'), (0.0, 'effect'), (0.0, 'eff'), (0.0, 'ef'), (0.0, 'eeyor'), (0.0, 'eerili'), (0.0, 'eeri'), (0.0, 'eel'), (0.0, 'eeh'), (0.0, 'eeen'), (0.0, 'edwin'), (0.0, 'educ'), (0.0, 'edmam'), (0.0, 'edm'), (0.0, 'edith'), (0.0, 'edit'), (0.0, 'edison'), (0.0, 'edgi'), (0.0, 'edg'), (0.0, 'edemam'), (0.0, 'ed'), (0.0, 'ect'), (0.0, 'ecstat'), (0.0, 'ecstasi'), (0.0, 'economi'), (0.0, 'econom'), (0.0, 'ecolog'), (0.0, 'eco'), (0.0, 'eclips'), (0.0, 'eclect'), (0.0, 'eclat'), (0.0, 'echoey'), (0.0, 'echo'), (0.0, 'echelon'), (0.0, 'ecclect'), (0.0, 'eccentr'), (0.0, 'eccent'), (0.0, 'ebedroom'), (0.0, 'eb'), (0.0, 'eav'), (0.0, 'eatri'), (0.0, 'eatali'), (0.0, 'eatabl'), (0.0, 'eata'), (0.0, 'easygo'), (0.0, 'eastsid'), (0.0, 'easter'), (0.0, 'easiest'), (0.0, 'eas'), (0.0, 'earthier'), (0.0, 'earthi'), (0.0, 'earth'), (0.0, 'earring'), (0.0, 'earliest'), (0.0, 'earlier'), (0.0, 'earl'), (0.0, 'ear'), (0.0, 'eagl'), (0.0, 'eager'), (0.0, 'eachoth'), (0.0, 'ea'), (0.0, 'e'), (0.0, 'décor'), (0.0, 'dystopian'), (0.0, 'dynasti'), (0.0, 'dynamit'), (0.0, 'dynam'), (0.0, 'dy'), (0.0, 'dwindl'), (0.0, 'dweller'), (0.0, 'dwell'), (0.0, 'dwarf'), (0.0, 'duti'), (0.0, 'dutch'), (0.0, 'dustpan'), (0.0, 'dustin'), (0.0, 'dusti'), (0.0, 'dust'), (0.0, 'duress'), (0.0, 'durat'), (0.0, 'dur'), (0.0, 'duplic'), (0.0, 'duper'), (0.0, 'dupe'), (0.0, 'duo'), (0.0, 'dunno'), (0.0, 'dunkin'), (0.0, 'dunk'), (0.0, 'dungeon'), (0.0, 'dungeo'), (0.0, 'dun'), (0.0, 'dumpwwwingggss'), (0.0, 'dumpster'), (0.0, 'dumplin'), (0.0, 'dumplimg'), (0.0, 'dump'), (0.0, 'dummi'), (0.0, 'dummer'), (0.0, 'dumbfound'), (0.0, 'dumb'), (0.0, 'dum'), (0.0, 'dull'), (0.0, 'duli'), (0.0, 'dukkan'), (0.0, 'dukkah'), (0.0, 'dukka'), (0.0, 'duh'), (0.0, 'duet'), (0.0, 'duel'), (0.0, 'duda'), (0.0, 'dud'), (0.0, 'duct'), (0.0, 'duchess'), (0.0, 'dubious'), (0.0, 'dubai'), (0.0, 'dub'), (0.0, 'dual'), (0.0, 'du'), (0.0, 'dtf'), (0.0, 'dt'), (0.0, 'dsg'), (0.0, 'drywal'), (0.0, 'dryness'), (0.0, 'dryli'), (0.0, 'dryer'), (0.0, 'drunken'), (0.0, 'drunkard'), (0.0, 'drumstick'), (0.0, 'drumrol'), (0.0, 'drummer'), (0.0, 'drumlin'), (0.0, 'drumett'), (0.0, 'drum'), (0.0, 'drug'), (0.0, 'drrizzi'), (0.0, 'drown'), (0.0, 'drool'), (0.0, 'drj'), (0.0, 'drizzl'), (0.0, 'drizzi'), (0.0, 'driven'), (0.0, 'drippi'), (0.0, 'drip'), (0.0, 'drinkwar'), (0.0, 'drinkibg'), (0.0, 'drinker'), (0.0, 'drinkabl'), (0.0, 'dring'), (0.0, 'drift'), (0.0, 'driest'), (0.0, 'drier'), (0.0, 'dribbl'), (0.0, 'drexler'), (0.0, 'drexel'), (0.0, 'drew'), (0.0, 'dressi'), (0.0, 'dresser'), (0.0, 'drench'), (0.0, 'dredg'), (0.0, 'dreari'), (0.0, 'dreamt'), (0.0, 'dreami'), (0.0, 'drawn'), (0.0, 'drawer'), (0.0, 'drawback'), (0.0, 'draught'), (0.0, 'draperi'), (0.0, 'drape'), (0.0, 'dranx'), (0.0, 'drankin'), (0.0, 'drank'), (0.0, 'dramat'), (0.0, 'drama'), (0.0, 'drake'), (0.0, 'drain'), (0.0, 'dragonfruit'), (0.0, 'dragon'), (0.0, 'drag'), (0.0, 'drafti'), (0.0, 'draft'), (0.0, 'dracula'), (0.0, 'drab'), (0.0, 'draaaank'), (0.0, 'dr'), (0.0, 'dozen'), (0.0, 'doze'), (0.0, 'doy'), (0.0, 'downward'), (0.0, 'downto'), (0.0, 'downtim'), (0.0, 'downright'), (0.0, 'downpour'), (0.0, 'download'), (0.0, 'downgrad'), (0.0, 'downfal'), (0.0, 'downer'), (0.0, 'downeast'), (0.0, 'dow'), (0.0, 'dovuto'), (0.0, 'dovetail'), (0.0, 'dovet'), (0.0, 'dove'), (0.0, 'dous'), (0.0, 'dour'), (0.0, 'doughnut'), (0.0, 'doucheri'), (0.0, 'doubloon'), (0.0, 'doubleknot'), (0.0, 'dotonbori'), (0.0, 'dosequi'), (0.0, 'dose'), (0.0, 'dosag'), (0.0, 'dos'), (0.0, 'dorm'), (0.0, 'dorian'), (0.0, 'dorado'), (0.0, 'dorad'), (0.0, 'dopey'), (0.0, 'dope'), (0.0, 'doorway'), (0.0, 'doorstep'), (0.0, 'doorman'), (0.0, 'doooo'), (0.0, 'doom'), (0.0, 'donkey'), (0.0, 'donkatsu'), (0.0, 'dond'), (0.0, 'donburi'), (0.0, 'donat'), (0.0, 'dominican'), (0.0, 'domin'), (0.0, 'domest'), (0.0, 'dome'), (0.0, 'dolsot'), (0.0, 'dolmad'), (0.0, 'dolma'), (0.0, 'dollop'), (0.0, 'dolla'), (0.0, 'doll'), (0.0, 'dolc'), (0.0, 'doingbwel'), (0.0, 'doin'), (0.0, 'doili'), (0.0, 'dogshit'), (0.0, 'doggi'), (0.0, 'doesnt'), (0.0, 'dodger'), (0.0, 'dodg'), (0.0, 'dodd'), (0.0, 'documentari'), (0.0, 'document'), (0.0, 'docket'), (0.0, 'dock'), (0.0, 'doc'), (0.0, 'dobbi'), (0.0, 'doabl'), (0.0, 'dnc'), (0.0, 'dmvs'), (0.0, 'dmv'), (0.0, 'dm'), (0.0, 'dlrassandro'), (0.0, 'dk'), (0.0, 'djej'), (0.0, 'dj'), (0.0, 'dizzi'), (0.0, 'dizzengoff'), (0.0, 'dizengoff'), (0.0, 'dizenghoff'), (0.0, 'diy'), (0.0, 'divulg'), (0.0, 'divita'), (0.0, 'divisa'), (0.0, 'divis'), (0.0, 'divid'), (0.0, 'divey'), (0.0, 'diverg'), (0.0, 'dive'), (0.0, 'diuious'), (0.0, 'ditto'), (0.0, 'ditch'), (0.0, 'disturb'), (0.0, 'distrito'), (0.0, 'district'), (0.0, 'distributor'), (0.0, 'distribut'), (0.0, 'distress'), (0.0, 'distract'), (0.0, 'distinguish'), (0.0, 'distinct'), (0.0, 'distilleri'), (0.0, 'distil'), (0.0, 'distast'), (0.0, 'distant'), (0.0, 'dissuad'), (0.0, 'dissolv'), (0.0, 'dissip'), (0.0, 'disservic'), (0.0, 'dissatisfi'), (0.0, 'dissappoint'), (0.0, 'dissapoint'), (0.0, 'disrupt'), (0.0, 'disrepair'), (0.0, 'disregard'), (0.0, 'disput'), (0.0, 'disposit'), (0.0, 'dispos'), (0.0, 'displeas'), (0.0, 'display'), (0.0, 'dispers'), (0.0, 'dispens'), (0.0, 'dispatch'), (0.0, 'disparag'), (0.0, 'disown'), (0.0, 'disori'), (0.0, 'disorgan'), (0.0, 'disord'), (0.0, 'disneyworld'), (0.0, 'disney'), (0.0, 'dismay'), (0.0, 'dismal'), (0.0, 'disk'), (0.0, 'disjoint'), (0.0, 'disinterest'), (0.0, 'disintegr'), (0.0, 'disingenu'), (0.0, 'disinfect'), (0.0, 'dishwash'), (0.0, 'dishwar'), (0.0, 'dishonesti'), (0.0, 'dishonest'), (0.0, 'dishearten'), (0.0, 'disguis'), (0.0, 'disgrac'), (0.0, 'diseas'), (0.0, 'disdain'), (0.0, 'discuss'), (0.0, 'discriminatori'), (0.0, 'discrimin'), (0.0, 'discret'), (0.0, 'discrep'), (0.0, 'discoveri'), (0.0, 'discov'), (0.0, 'discourag'), (0.0, 'discontinu'), (0.0, 'discont'), (0.0, 'disconnect'), (0.0, 'disconcert'), (0.0, 'discomfort'), (0.0, 'discolor'), (0.0, 'disclosur'), (0.0, 'disclos'), (0.0, 'disclaim'), (0.0, 'disciminatori'), (0.0, 'discern'), (0.0, 'disc'), (0.0, 'disbelief'), (0.0, 'disastr'), (0.0, 'disast'), (0.0, 'disallow'), (0.0, 'disagre'), (0.0, 'disadvantag'), (0.0, 'disabl'), (0.0, 'dis'), (0.0, 'dirtier'), (0.0, 'dirt'), (0.0, 'director'), (0.0, 'dippinh'), (0.0, 'dippi'), (0.0, 'diplomat'), (0.0, 'diplom'), (0.0, 'dinsum'), (0.0, 'dinnerwar'), (0.0, 'dinnertim'), (0.0, 'dinik'), (0.0, 'dinick'), (0.0, 'dinici'), (0.0, 'dinic'), (0.0, 'dingi'), (0.0, 'ding'), (0.0, 'dinero'), (0.0, 'dinck'), (0.0, 'dinc'), (0.0, 'dimsum'), (0.0, 'dimmer'), (0.0, 'diminish'), (0.0, 'dimension'), (0.0, 'dimens'), (0.0, 'dime'), (0.0, 'dilut'), (0.0, 'dill'), (0.0, 'dilig'), (0.0, 'dilemma'), (0.0, 'dilara'), (0.0, 'dil'), (0.0, 'dikkah'), (0.0, 'dijonais'), (0.0, 'dijon'), (0.0, 'dijeron'), (0.0, 'diiirrrtttyyi'), (0.0, 'digress'), (0.0, 'digniti'), (0.0, 'dignifi'), (0.0, 'digit'), (0.0, 'diggidi'), (0.0, 'digestif'), (0.0, 'digest'), (0.0, 'dig'), (0.0, 'diffus'), (0.0, 'difficulti'), (0.0, 'differnt'), (0.0, 'differenti'), (0.0, 'diff'), (0.0, 'difer'), (0.0, 'dif'), (0.0, 'dietari'), (0.0, 'diet'), (0.0, 'dienner'), (0.0, 'diener'), (0.0, 'diem'), (0.0, 'diehard'), (0.0, 'diego'), (0.0, 'didnt'), (0.0, 'dictionari'), (0.0, 'dickenson'), (0.0, 'dicken'), (0.0, 'dick'), (0.0, 'dichotomi'), (0.0, 'dicey'), (0.0, 'dice'), (0.0, 'dibruno'), (0.0, 'dib'), (0.0, 'diarrhea'), (0.0, 'diappoint'), (0.0, 'diaper'), (0.0, 'diamond'), (0.0, 'diamet'), (0.0, 'dialect'), (0.0, 'dial'), (0.0, 'diagon'), (0.0, 'diabet'), (0.0, 'diabeetus'), (0.0, 'dia'), (0.0, 'di'), (0.0, 'dgt'), (0.0, 'dflbhoddggrggefgggfffffgfrfh'), (0.0, 'dezengoff'), (0.0, 'dexter'), (0.0, 'dew'), (0.0, 'devout'), (0.0, 'devour'), (0.0, 'devot'), (0.0, 'devonshir'), (0.0, 'devon'), (0.0, 'devoid'), (0.0, 'devin'), (0.0, 'devill'), (0.0, 'devilish'), (0.0, 'devil'), (0.0, 'deviat'), (0.0, 'develop'), (0.0, 'devast'), (0.0, 'detroit'), (0.0, 'detriment'), (0.0, 'detract'), (0.0, 'detour'), (0.0, 'dethron'), (0.0, 'detest'), (0.0, 'deterr'), (0.0, 'determin'), (0.0, 'deterior'), (0.0, 'deter'), (0.0, 'detent'), (0.0, 'detect'), (0.0, 'detach'), (0.0, 'destroy'), (0.0, 'destini'), (0.0, 'desset'), (0.0, 'desserttttt'), (0.0, 'desserti'), (0.0, 'despis'), (0.0, 'despic'), (0.0, 'desper'), (0.0, 'despar'), (0.0, 'despair'), (0.0, 'desk'), (0.0, 'desilusionado'), (0.0, 'deset'), (0.0, 'desecr'), (0.0, 'descript'), (0.0, 'descent'), (0.0, 'descend'), (0.0, 'des'), (0.0, 'deriv'), (0.0, 'derail'), (0.0, 'depth'), (0.0, 'depress'), (0.0, 'depot'), (0.0, 'deploy'), (0.0, 'deplor'), (0.0, 'depict'), (0.0, 'departur'), (0.0, 'denzel'), (0.0, 'denver'), (0.0, 'dentro'), (0.0, 'dentist'), (0.0, 'dent'), (0.0, 'densiti'), (0.0, 'denser'), (0.0, 'denomin'), (0.0, 'denni'), (0.0, 'denick'), (0.0, 'denic'), (0.0, 'deni'), (0.0, 'den'), (0.0, 'demonstr'), (0.0, 'demolish'), (0.0, 'demograph'), (0.0, 'demo'), (0.0, 'demis'), (0.0, 'demi'), (0.0, 'demeanor'), (0.0, 'demand'), (0.0, 'dem'), (0.0, 'delv'), (0.0, 'delux'), (0.0, 'delusion'), (0.0, 'delta'), (0.0, 'delorean'), (0.0, 'dellesandro'), (0.0, 'dellasandro'), (0.0, 'delishhhh'), (0.0, 'delishhh'), (0.0, 'delimma'), (0.0, 'deliiiici'), (0.0, 'delicu'), (0.0, 'delicshelbi'), (0.0, 'delicousssss'), (0.0, 'delicioso'), (0.0, 'delicia'), (0.0, 'delicatessen'), (0.0, 'delicata'), (0.0, 'delicaci'), (0.0, 'deliber'), (0.0, 'delfino'), (0.0, 'deletect'), (0.0, 'delet'), (0.0, 'delessandro'), (0.0, 'delesasandro'), (0.0, 'delesandro'), (0.0, 'deleassandro'), (0.0, 'delco'), (0.0, 'delay'), (0.0, 'delawar'), (0.0, 'delasssandro'), (0.0, 'delassndro'), (0.0, 'delassandro'), (0.0, 'delasandro'), (0.0, 'dela'), (0.0, 'del'), (0.0, 'dejen'), (0.0, 'dejando'), (0.0, 'dehydr'), (0.0, 'degre'), (0.0, 'degener'), (0.0, 'deft'), (0.0, 'defrost'), (0.0, 'defo'), (0.0, 'defintieyl'), (0.0, 'defint'), (0.0, 'definitr'), (0.0, 'definitley'), (0.0, 'definiet'), (0.0, 'definatelt'), (0.0, 'defin'), (0.0, 'defil'), (0.0, 'deficit'), (0.0, 'defici'), (0.0, 'defiant'), (0.0, 'defi'), (0.0, 'deffinit'), (0.0, 'deff'), (0.0, 'deferenti'), (0.0, 'defer'), (0.0, 'defens'), (0.0, 'defend'), (0.0, 'defect'), (0.0, 'defec'), (0.0, 'defeat'), (0.0, 'default'), (0.0, 'deet'), (0.0, 'deer'), (0.0, 'deepli'), (0.0, 'deeper'), (0.0, 'deep'), (0.0, 'deem'), (0.0, 'deeelicioi'), (0.0, 'deeeeefinit'), (0.0, 'deeeeeelect'), (0.0, 'deeee'), (0.0, 'deee'), (0.0, 'deed'), (0.0, 'dee'), (0.0, 'deduct'), (0.0, 'deduc'), (0.0, 'dedinit'), (0.0, 'dedican'), (0.0, 'dedic'), (0.0, 'dedal'), (0.0, 'decrepitud'), (0.0, 'decrepit'), (0.0, 'decreas'), (0.0, 'decour'), (0.0, 'decorum'), (0.0, 'deconstruct'), (0.0, 'decompress'), (0.0, 'deco'), (0.0, 'declar'), (0.0, 'deck'), (0.0, 'decidimo'), (0.0, 'decibel'), (0.0, 'decept'), (0.0, 'decepcionada'), (0.0, 'decenc'), (0.0, 'decemb'), (0.0, 'deceiv'), (0.0, 'decay'), (0.0, 'decant'), (0.0, 'decaf'), (0.0, 'dec'), (0.0, 'debri'), (0.0, 'debon'), (0.0, 'debit'), (0.0, 'debe'), (0.0, 'debat'), (0.0, 'debacl'), (0.0, 'death'), (0.0, 'dearth'), (0.0, 'dearest'), (0.0, 'dear'), (0.0, 'dean'), (0.0, 'dealt'), (0.0, 'dealesandro'), (0.0, 'dealbreak'), (0.0, 'deafli'), (0.0, 'deafen'), (0.0, 'deaf'), (0.0, 'deadlin'), (0.0, 'deadhead'), (0.0, 'deadass'), (0.0, 'ddukbokki'), (0.0, 'ddg'), (0.0, 'dazzl'), (0.0, 'dayummm'), (0.0, 'daytripp'), (0.0, 'daytim'), (0.0, 'daysssss'), (0.0, 'daylight'), (0.0, 'daydream'), (0.0, 'daycar'), (0.0, 'dawn'), (0.0, 'dawg'), (0.0, 'dawdler'), (0.0, 'davin'), (0.0, 'davidngo'), (0.0, 'david'), (0.0, 'dave'), (0.0, 'daunt'), (0.0, 'dau'), (0.0, 'dater'), (0.0, 'data'), (0.0, 'dat'), (0.0, 'dashi'), (0.0, 'dash'), (0.0, 'dasani'), (0.0, 'darwin'), (0.0, 'dart'), (0.0, 'dars'), (0.0, 'darn'), (0.0, 'darlin'), (0.0, 'darl'), (0.0, 'darkish'), (0.0, 'darkest'), (0.0, 'darker'), (0.0, 'dare'), (0.0, 'dapper'), (0.0, 'danni'), (0.0, 'dann'), (0.0, 'dank'), (0.0, 'danji'), (0.0, 'danish'), (0.0, 'daniell'), (0.0, 'daniel'), (0.0, 'dangl'), (0.0, 'dangi'), (0.0, 'danggon'), (0.0, 'danger'), (0.0, 'dang'), (0.0, 'dandier'), (0.0, 'dandi'), (0.0, 'dandellion'), (0.0, 'dandan'), (0.0, 'dancer'), (0.0, 'dana'), (0.0, 'dan'), (0.0, 'damper'), (0.0, 'dampen'), (0.0, 'damp'), (0.0, 'damnit'), (0.0, 'damag'), (0.0, 'dam'), (0.0, 'dalton'), (0.0, 'dalsessandro'), (0.0, 'dallassandro'), (0.0, 'dalla'), (0.0, 'dalgona'), (0.0, 'dalessasamdro'), (0.0, 'dalessando'), (0.0, 'dalessanddro'), (0.0, 'dalesandro'), (0.0, 'dalesaandro'), (0.0, 'daleassandro'), (0.0, 'dalasandro'), (0.0, 'dal'), (0.0, 'daiquiri'), (0.0, 'dainti'), (0.0, 'daikon'), (0.0, 'daiginjo'), (0.0, 'dafuk'), (0.0, 'daeneri'), (0.0, 'daddi'), (0.0, 'dad'), (0.0, 'dab'), (0.0, 'da'), (0.0, 'côtes'), (0.0, 'côte'), (0.0, 'cynic'), (0.0, 'cyndi'), (0.0, 'cylind'), (0.0, 'cycl'), (0.0, 'cyber'), (0.0, 'cya'), (0.0, 'cxdd'), (0.0, 'cwispi'), (0.0, 'cvs'), (0.0, 'cv'), (0.0, 'cuz'), (0.0, 'cutter'), (0.0, 'cutom'), (0.0, 'cutoff'), (0.0, 'cutleri'), (0.0, 'cutest'), (0.0, 'cutesi'), (0.0, 'cuter'), (0.0, 'customiz'), (0.0, 'customarili'), (0.0, 'customari'), (0.0, 'custardi'), (0.0, 'custard'), (0.0, 'cusp'), (0.0, 'cusin'), (0.0, 'cushioni'), (0.0, 'cushion'), (0.0, 'cus'), (0.0, 'curv'), (0.0, 'curtiss'), (0.0, 'curtesi'), (0.0, 'curtain'), (0.0, 'curt'), (0.0, 'curs'), (0.0, 'currr'), (0.0, 'curri'), (0.0, 'currenc'), (0.0, 'curran'), (0.0, 'curl'), (0.0, 'curious'), (0.0, 'curios'), (0.0, 'cure'), (0.0, 'curd'), (0.0, 'curbsid'), (0.0, 'curb'), (0.0, 'curat'), (0.0, 'cur'), (0.0, 'cuppa'), (0.0, 'cupcak'), (0.0, 'cupboard'), (0.0, 'cumul'), (0.0, 'cumplió'), (0.0, 'cumin'), (0.0, 'cumbersom'), (0.0, 'cumberland'), (0.0, 'cum'), (0.0, 'cultiv'), (0.0, 'cult'), (0.0, 'culprit'), (0.0, 'culmin'), (0.0, 'culinari'), (0.0, 'cue'), (0.0, 'cucumb'), (0.0, 'cuckoo'), (0.0, 'cube'), (0.0, 'cubbi'), (0.0, 'cubano'), (0.0, 'cuban'), (0.0, 'cuba'), (0.0, 'cuando'), (0.0, 'ctown'), (0.0, 'ct'), (0.0, 'cs'), (0.0, 'crêpe'), (0.0, 'crédito'), (0.0, 'crème'), (0.0, 'crystal'), (0.0, 'crutch'), (0.0, 'crustless'), (0.0, 'crustini'), (0.0, 'crustier'), (0.0, 'crusti'), (0.0, 'crush'), (0.0, 'crunchier'), (0.0, 'crunchi'), (0.0, 'crunch'), (0.0, 'crummi'), (0.0, 'crumbl'), (0.0, 'crumb'), (0.0, 'cruller'), (0.0, 'cruis'), (0.0, 'cruffin'), (0.0, 'crueller'), (0.0, 'crueler'), (0.0, 'cruel'), (0.0, 'crudo'), (0.0, 'crudité'), (0.0, 'crude'), (0.0, 'cruddi'), (0.0, 'crucial'), (0.0, 'crown'), (0.0, 'crowler'), (0.0, 'crowed'), (0.0, 'crowdpleas'), (0.0, 'crowder'), (0.0, 'crowded'), (0.0, 'crow'), (0.0, 'crouton'), (0.0, 'croston'), (0.0, 'crostini'), (0.0, 'crostin'), (0.0, 'crossinatlant'), (0.0, 'cross'), (0.0, 'croquett'), (0.0, 'croquet'), (0.0, 'croqu'), (0.0, 'crop'), (0.0, 'crook'), (0.0, 'cronut'), (0.0, 'croissant'), (0.0, 'crock'), (0.0, 'crochet'), (0.0, 'critiqu'), (0.0, 'criteria'), (0.0, 'criss'), (0.0, 'crispiest'), (0.0, 'crispier'), (0.0, 'crisper'), (0.0, 'crisi'), (0.0, 'crise'), (0.0, 'cripsi'), (0.0, 'cring'), (0.0, 'crimson'), (0.0, 'crimini'), (0.0, 'crime'), (0.0, 'cricket'), (0.0, 'cri'), (0.0, 'crew'), (0.0, 'crevic'), (0.0, 'crevass'), (0.0, 'crest'), (0.0, 'cress'), (0.0, 'crescent'), (0.0, 'crept'), (0.0, 'creperi'), (0.0, 'crepe'), (0.0, 'crep'), (0.0, 'creol'), (0.0, 'creo'), (0.0, 'cremini'), (0.0, 'cremat'), (0.0, 'crema'), (0.0, 'crem'), (0.0, 'creepi'), (0.0, 'creep'), (0.0, 'creek'), (0.0, 'creed'), (0.0, 'cree'), (0.0, 'credibl'), (0.0, 'cred'), (0.0, 'creatur'), (0.0, 'creator'), (0.0, 'creation'), (0.0, 'creas'), (0.0, 'creaol'), (0.0, 'creamsicl'), (0.0, 'creamiscl'), (0.0, 'creamiest'), (0.0, 'creamier'), (0.0, 'creameri'), (0.0, 'creaki'), (0.0, 'crazyyyy'), (0.0, 'crazyyi'), (0.0, 'crazyy'), (0.0, 'crazier'), (0.0, 'craze'), (0.0, 'cray'), (0.0, 'crawfish'), (0.0, 'crash'), (0.0, 'crapshoot'), (0.0, 'crappiest'), (0.0, 'craphol'), (0.0, 'cranni'), (0.0, 'crankin'), (0.0, 'cranki'), (0.0, 'crank'), (0.0, 'cranberri'), (0.0, 'cramel'), (0.0, 'craig'), (0.0, 'craftsmanship'), (0.0, 'crafti'), (0.0, 'craft'), (0.0, 'cradl'), (0.0, 'crackhead'), (0.0, 'crack'), (0.0, 'crabstick'), (0.0, 'crabbi'), (0.0, 'cpl'), (0.0, 'cozili'), (0.0, 'coziest'), (0.0, 'coz'), (0.0, 'coy'), (0.0, 'cowork'), (0.0, 'cowboy'), (0.0, 'cow'), (0.0, 'covet'), (0.0, 'covert'), (0.0, 'coverag'), (0.0, 'cousin'), (0.0, 'couscous'), (0.0, 'courtyard'), (0.0, 'courtney'), (0.0, 'courtesi'), (0.0, 'courteous'), (0.0, 'court'), (0.0, 'courag'), (0.0, 'coupon'), (0.0, 'coup'), (0.0, 'countrysid'), (0.0, 'countless'), (0.0, 'counti'), (0.0, 'countertop'), (0.0, 'counterproduct'), (0.0, 'counterperson'), (0.0, 'counterpart'), (0.0, 'counterfeit'), (0.0, 'counterbal'), (0.0, 'counteract'), (0.0, 'countdown'), (0.0, 'coulpl'), (0.0, 'couli'), (0.0, 'couldv'), (0.0, 'coulda'), (0.0, 'cough'), (0.0, 'couch'), (0.0, 'cotton'), (0.0, 'cotto'), (0.0, 'cottman'), (0.0, 'cottag'), (0.0, 'cotta'), (0.0, 'cotswold'), (0.0, 'cotechino'), (0.0, 'cota'), (0.0, 'costco'), (0.0, 'cosmopolitan'), (0.0, 'cosmo'), (0.0, 'cosmi'), (0.0, 'cosi'), (0.0, 'cos'), (0.0, 'cortado'), (0.0, 'cortadito'), (0.0, 'corsica'), (0.0, 'corridor'), (0.0, 'correspond'), (0.0, 'corredor'), (0.0, 'corral'), (0.0, 'corpor'), (0.0, 'coronavirus'), (0.0, 'corona'), (0.0, 'cornmeal'), (0.0, 'cornichon'), (0.0, 'cornich'), (0.0, 'corni'), (0.0, 'corndog'), (0.0, 'cornbread'), (0.0, 'corleon'), (0.0, 'corkag'), (0.0, 'cork'), (0.0, 'coriand'), (0.0, 'core'), (0.0, 'cordial'), (0.0, 'coq'), (0.0, 'copper'), (0.0, 'coppa'), (0.0, 'copious'), (0.0, 'copi'), (0.0, 'cop'), (0.0, 'coordin'), (0.0, 'cooperstown'), (0.0, 'cooper'), (0.0, 'coooooool'), (0.0, 'cooooool'), (0.0, 'coolest'), (0.0, 'cooler'), (0.0, 'cooklikejo'), (0.0, 'cookin'), (0.0, 'cookiey'), (0.0, 'cookeri'), (0.0, 'cooker'), (0.0, 'cookef'), (0.0, 'cookbook'), (0.0, 'convolut'), (0.0, 'convo'), (0.0, 'convivi'), (0.0, 'convinc'), (0.0, 'convieni'), (0.0, 'convict'), (0.0, 'conveyerbelt'), (0.0, 'convey'), (0.0, 'convert'), (0.0, 'conversationalist'), (0.0, 'converg'), (0.0, 'convention'), (0.0, 'convent'), (0.0, 'conveniet'), (0.0, 'controversi'), (0.0, 'contribut'), (0.0, 'contrast'), (0.0, 'contrarian'), (0.0, 'contrari'), (0.0, 'contrapt'), (0.0, 'contradict'), (0.0, 'contra'), (0.0, 'contnu'), (0.0, 'conting'), (0.0, 'conti'), (0.0, 'context'), (0.0, 'contest'), (0.0, 'content'), (0.0, 'contend'), (0.0, 'contempt'), (0.0, 'contemporari'), (0.0, 'contempl'), (0.0, 'contamin'), (0.0, 'contagi'), (0.0, 'contactless'), (0.0, 'consumpt'), (0.0, 'consume'), (0.0, 'consum'), (0.0, 'consult'), (0.0, 'construct'), (0.0, 'constraint'), (0.0, 'constrain'), (0.0, 'constitut'), (0.0, 'constel'), (0.0, 'conspir'), (0.0, 'consol'), (0.0, 'consider'), (0.0, 'conshohockon'), (0.0, 'conshohocken'), (0.0, 'conserv'), (0.0, 'consequ'), (0.0, 'consensus'), (0.0, 'consecut'), (0.0, 'conscious'), (0.0, 'conscienti'), (0.0, 'conscienc'), (0.0, 'conplaint'), (0.0, 'connor'), (0.0, 'connoli'), (0.0, 'connoisseur'), (0.0, 'connecticut'), (0.0, 'connect'), (0.0, 'conjur'), (0.0, 'congress'), (0.0, 'congreg'), (0.0, 'congratulatori'), (0.0, 'congratul'), (0.0, 'congrat'), (0.0, 'conglomer'), (0.0, 'congest'), (0.0, 'congeni'), (0.0, 'congeal'), (0.0, 'conge'), (0.0, 'confront'), (0.0, 'conflict'), (0.0, 'confit'), (0.0, 'confisc'), (0.0, 'confin'), (0.0, 'confidenti'), (0.0, 'confid'), (0.0, 'confess'), (0.0, 'confer'), (0.0, 'confeder'), (0.0, 'confection'), (0.0, 'confect'), (0.0, 'coney'), (0.0, 'cone'), (0.0, 'conduit'), (0.0, 'conductor'), (0.0, 'conduct'), (0.0, 'conduc'), (0.0, 'condom'), (0.0, 'condo'), (0.0, 'condition'), (0.0, 'condit'), (0.0, 'condimento'), (0.0, 'condesend'), (0.0, 'condescens'), (0.0, 'condescend'), (0.0, 'condens'), (0.0, 'concur'), (0.0, 'concret'), (0.0, 'concord'), (0.0, 'concomit'), (0.0, 'concoct'), (0.0, 'conclud'), (0.0, 'conclav'), (0.0, 'concis'), (0.0, 'concierg'), (0.0, 'conchigl'), (0.0, 'concess'), (0.0, 'concert'), (0.0, 'conceptu'), (0.0, 'concentr'), (0.0, 'conceiv'), (0.0, 'conced'), (0.0, 'conceal'), (0.0, 'concav'), (0.0, 'comput'), (0.0, 'compthank'), (0.0, 'compromis'), (0.0, 'compris'), (0.0, 'comprehens'), (0.0, 'comprehend'), (0.0, 'compra'), (0.0, 'compr'), (0.0, 'compound'), (0.0, 'compot'), (0.0, 'composur'), (0.0, 'compost'), (0.0, 'composit'), (0.0, 'composait'), (0.0, 'compos'), (0.0, 'compon'), (0.0, 'complimentari'), (0.0, 'compliment'), (0.0, 'complic'), (0.0, 'compliant'), (0.0, 'complianc'), (0.0, 'compli'), (0.0, 'complexli'), (0.0, 'complex'), (0.0, 'complementari'), (0.0, 'compil'), (0.0, 'competitor'), (0.0, 'compet'), (0.0, 'compenst'), (0.0, 'compens'), (0.0, 'compelet'), (0.0, 'compel'), (0.0, 'compatriot'), (0.0, 'compass'), (0.0, 'compartir'), (0.0, 'companion'), (0.0, 'compact'), (0.0, 'comp'), (0.0, 'comon'), (0.0, 'como'), (0.0, 'commut'), (0.0, 'communiti'), (0.0, 'communic'), (0.0, 'commune'), (0.0, 'communal'), (0.0, 'commonplac'), (0.0, 'common'), (0.0, 'commod'), (0.0, 'commit'), (0.0, 'commers'), (0.0, 'commerci'), (0.0, 'commerc'), (0.0, 'commentari'), (0.0, 'commend'), (0.0, 'comin'), (0.0, 'comiendo'), (0.0, 'comido'), (0.0, 'comida'), (0.0, 'comic'), (0.0, 'comfi'), (0.0, 'comf'), (0.0, 'comesso'), (0.0, 'comer'), (0.0, 'comedown'), (0.0, 'comeback'), (0.0, 'combat'), (0.0, 'comb'), (0.0, 'coma'), (0.0, 'com'), (0.0, 'columbus'), (0.0, 'columb'), (0.0, 'colton'), (0.0, 'colorado'), (0.0, 'colonist'), (0.0, 'coloni'), (0.0, 'colombo'), (0.0, 'colomb'), (0.0, 'collingswood'), (0.0, 'collegi'), (0.0, 'colleagu'), (0.0, 'collard'), (0.0, 'collaps'), (0.0, 'collagen'), (0.0, 'collag'), (0.0, 'collada'), (0.0, 'collabor'), (0.0, 'coleslaw'), (0.0, 'cole'), (0.0, 'coldest'), (0.0, 'colder'), (0.0, 'coldbrew'), (0.0, 'colada'), (0.0, 'colach'), (0.0, 'cola'), (0.0, 'coivd'), (0.0, 'cointreau'), (0.0, 'coincident'), (0.0, 'coincid'), (0.0, 'coin'), (0.0, 'coil'), (0.0, 'cohl'), (0.0, 'cohes'), (0.0, 'coher'), (0.0, 'cogswel'), (0.0, 'coghlan'), (0.0, 'coffeeshop'), (0.0, 'coffeehous'), (0.0, 'coff'), (0.0, 'cofellow'), (0.0, 'codi'), (0.0, 'codger'), (0.0, 'code'), (0.0, 'coddl'), (0.0, 'cod'), (0.0, 'cocott'), (0.0, 'cocoto'), (0.0, 'coconut'), (0.0, 'coconilla'), (0.0, 'cocoa'), (0.0, 'cockroach'), (0.0, 'cocki'), (0.0, 'cock'), (0.0, 'coca'), (0.0, 'cobia'), (0.0, 'cobbler'), (0.0, 'cobbl'), (0.0, 'cobb'), (0.0, 'cob'), (0.0, 'coatcheck'), (0.0, 'coat'), (0.0, 'coaster'), (0.0, 'coastal'), (0.0, 'coarser'), (0.0, 'coars'), (0.0, 'coal'), (0.0, 'coagul'), (0.0, 'cn'), (0.0, 'cmv'), (0.0, 'cmon'), (0.0, 'clásico'), (0.0, 'clutzi'), (0.0, 'clutter'), (0.0, 'clutch'), (0.0, 'cluster'), (0.0, 'clunki'), (0.0, 'clumsi'), (0.0, 'clump'), (0.0, 'clueless'), (0.0, 'clubbi'), (0.0, 'club'), (0.0, 'cloy'), (0.0, 'clover'), (0.0, 'clove'), (0.0, 'cloudi'), (0.0, 'cloud'), (0.0, 'clot'), (0.0, 'closur'), (0.0, 'closet'), (0.0, 'closest'), (0.0, 'clogger'), (0.0, 'clog'), (0.0, 'clodgi'), (0.0, 'clockwork'), (0.0, 'clock'), (0.0, 'cloch'), (0.0, 'clip'), (0.0, 'clinch'), (0.0, 'climb'), (0.0, 'climat'), (0.0, 'clifford'), (0.0, 'clientel'), (0.0, 'client'), (0.0, 'click'), (0.0, 'clich'), (0.0, 'clever'), (0.0, 'cleveland'), (0.0, 'clerk'), (0.0, 'clementin'), (0.0, 'clearest'), (0.0, 'clearer'), (0.0, 'cleanup'), (0.0, 'cleanser'), (0.0, 'cleans'), (0.0, 'cleanest'), (0.0, 'clay'), (0.0, 'claw'), (0.0, 'claustrophobia'), (0.0, 'claustrophob'), (0.0, 'claustraphob'), (0.0, 'classssi'), (0.0, 'classmat'), (0.0, 'classless'), (0.0, 'classili'), (0.0, 'classifi'), (0.0, 'classiest'), (0.0, 'classier'), (0.0, 'classi'), (0.0, 'clash'), (0.0, 'clase'), (0.0, 'clariti'), (0.0, 'clarifi'), (0.0, 'clap'), (0.0, 'clank'), (0.0, 'clamor'), (0.0, 'clam'), (0.0, 'clair'), (0.0, 'cks'), (0.0, 'cked'), (0.0, 'ck'), (0.0, 'civil'), (0.0, 'ciudad'), (0.0, 'citrusi'), (0.0, 'citrus'), (0.0, 'citron'), (0.0, 'citric'), (0.0, 'citizen'), (0.0, 'citirus'), (0.0, 'cite'), (0.0, 'cirqu'), (0.0, 'circus'), (0.0, 'circumst'), (0.0, 'circular'), (0.0, 'circul'), (0.0, 'circl'), (0.0, 'cippolini'), (0.0, 'cipollini'), (0.0, 'cipolini'), (0.0, 'cinsault'), (0.0, 'cinnamoni'), (0.0, 'cinnamon'), (0.0, 'cinnabon'), (0.0, 'cindi'), (0.0, 'cinco'), (0.0, 'cilantro'), (0.0, 'cigarett'), (0.0, 'cider'), (0.0, 'cicilian'), (0.0, 'cicada'), (0.0, 'ciabatta'), (0.0, 'chão'), (0.0, 'château'), (0.0, 'chutney'), (0.0, 'churro'), (0.0, 'churo'), (0.0, 'churn'), (0.0, 'churlish'), (0.0, 'churchil'), (0.0, 'church'), (0.0, 'chunkier'), (0.0, 'chunki'), (0.0, 'chuka'), (0.0, 'chug'), (0.0, 'chuckl'), (0.0, 'chuck'), (0.0, 'chua'), (0.0, 'chu'), (0.0, 'chs'), (0.0, 'chrysanthemum'), (0.0, 'chronicl'), (0.0, 'chronic'), (0.0, 'christoph'), (0.0, 'christma'), (0.0, 'christina'), (0.0, 'christin'), (0.0, 'christian'), (0.0, 'christen'), (0.0, 'christ'), (0.0, 'chrissi'), (0.0, 'chrispi'), (0.0, 'chris'), (0.0, 'choy'), (0.0, 'chownow'), (0.0, 'chowder'), (0.0, 'chow'), (0.0, 'choux'), (0.0, 'chosen'), (0.0, 'chorus'), (0.0, 'chorizo'), (0.0, 'choreograph'), (0.0, 'chore'), (0.0, 'chord'), (0.0, 'chopstick'), (0.0, 'choppedchees'), (0.0, 'chonchigl'), (0.0, 'chomp'), (0.0, 'cholula'), (0.0, 'choke'), (0.0, 'choi'), (0.0, 'chocolaté'), (0.0, 'chocolati'), (0.0, 'chocolatey'), (0.0, 'chocolat'), (0.0, 'choco'), (0.0, 'choclat'), (0.0, 'chock'), (0.0, 'chocal'), (0.0, 'choc'), (0.0, 'cho'), (0.0, 'chloe'), (0.0, 'chive'), (0.0, 'chitchat'), (0.0, 'chitarra'), (0.0, 'chit'), (0.0, 'chistorra'), (0.0, 'chirashi'), (0.0, 'chiq'), (0.0, 'chipotl'), (0.0, 'chink'), (0.0, 'chine'), (0.0, 'chin'), (0.0, 'chimichurri'), (0.0, 'chimichanga'), (0.0, 'chimchurri'), (0.0, 'chimay'), (0.0, 'chilli'), (0.0, 'chilean'), (0.0, 'chile'), (0.0, 'children'), (0.0, 'childish'), (0.0, 'childhood'), (0.0, 'chilaquil'), (0.0, 'chilaqil'), (0.0, 'chik'), (0.0, 'chihuahua'), (0.0, 'chiffon'), (0.0, 'chief'), (0.0, 'chickpea'), (0.0, 'chicki'), (0.0, 'chickensteak'), (0.0, 'chickenand'), (0.0, 'chick'), (0.0, 'chich'), (0.0, 'chic'), (0.0, 'chi'), (0.0, 'chez'), (0.0, 'cheyenn'), (0.0, 'chewier'), (0.0, 'chewey'), (0.0, 'chew'), (0.0, 'chevrolet'), (0.0, 'cheung'), (0.0, 'cheu'), (0.0, 'chestnut'), (0.0, 'chest'), (0.0, 'chessstaek'), (0.0, 'chessestesk'), (0.0, 'chessesteak'), (0.0, 'chess'), (0.0, 'chesnut'), (0.0, 'chesesteak'), (0.0, 'chese'), (0.0, 'cheron'), (0.0, 'chermoula'), (0.0, 'cherish'), (0.0, 'chengdu'), (0.0, 'chen'), (0.0, 'chemo'), (0.0, 'chemic'), (0.0, 'chelsea'), (0.0, 'cheffi'), (0.0, 'cheezwiz'), (0.0, 'cheeststeak'), (0.0, 'cheestseak'), (0.0, 'cheesiest'), (0.0, 'cheesier'), (0.0, 'cheesey'), (0.0, 'cheesewiz'), (0.0, 'cheesewhiz'), (0.0, 'cheeseteakk'), (0.0, 'cheeseteak'), (0.0, 'cheesestreak'), (0.0, 'cheesestak'), (0.0, 'cheesemong'), (0.0, 'cheeseless'), (0.0, 'cheesefri'), (0.0, 'cheeseburg'), (0.0, 'cheeseboard'), (0.0, 'cheerili'), (0.0, 'cheeri'), (0.0, 'cheer'), (0.0, 'cheep'), (0.0, 'cheek'), (0.0, 'cheeez'), (0.0, 'cheeesesteak'), (0.0, 'cheeeeees'), (0.0, 'chedder'), (0.0, 'checkout'), (0.0, 'checkisht'), (0.0, 'checkin'), (0.0, 'checker'), (0.0, 'checkbook'), (0.0, 'cheat'), (0.0, 'cheasteak'), (0.0, 'cheasesteak'), (0.0, 'cheapest'), (0.0, 'cheapen'), (0.0, 'che'), (0.0, 'chcolat'), (0.0, 'chcocolat'), (0.0, 'chavez'), (0.0, 'chausson'), (0.0, 'chatti'), (0.0, 'chatter'), (0.0, 'chateau'), (0.0, 'chasu'), (0.0, 'chasiu'), (0.0, 'chashu'), (0.0, 'chashiu'), (0.0, 'chase'), (0.0, 'chart'), (0.0, 'charsu'), (0.0, 'charshum'), (0.0, 'charshu'), (0.0, 'charli'), (0.0, 'charley'), (0.0, 'charleston'), (0.0, 'charl'), (0.0, 'charismat'), (0.0, 'charger'), (0.0, 'chardonnay'), (0.0, 'chard'), (0.0, 'charcuteri'), (0.0, 'charcoal'), (0.0, 'characterist'), (0.0, 'character'), (0.0, 'charact'), (0.0, 'chapstick'), (0.0, 'chap'), (0.0, 'chaotic'), (0.0, 'chao'), (0.0, 'chantillli'), (0.0, 'chantilli'), (0.0, 'chanterell'), (0.0, 'chantell'), (0.0, 'channel'), (0.0, 'changer'), (0.0, 'chandeli'), (0.0, 'chana'), (0.0, 'championship'), (0.0, 'champ'), (0.0, 'chamomil'), (0.0, 'chambord'), (0.0, 'chamber'), (0.0, 'chalula'), (0.0, 'challeng'), (0.0, 'chalki'), (0.0, 'chalkboard'), (0.0, 'chalk'), (0.0, 'chalet'), (0.0, 'chalant'), (0.0, 'chai'), (0.0, 'chagrin'), (0.0, 'cha'), (0.0, 'cesar'), (0.0, 'cervich'), (0.0, 'cerveza'), (0.0, 'certifi'), (0.0, 'certif'), (0.0, 'certainti'), (0.0, 'ceremoni'), (0.0, 'cereal'), (0.0, 'ceram'), (0.0, 'centurion'), (0.0, 'centuri'), (0.0, 'centro'), (0.0, 'centric'), (0.0, 'centr'), (0.0, 'centerpiec'), (0.0, 'cent'), (0.0, 'cenar'), (0.0, 'cement'), (0.0, 'cellphon'), (0.0, 'cellar'), (0.0, 'cell'), (0.0, 'celibaci'), (0.0, 'celiac'), (0.0, 'celeri'), (0.0, 'celebratori'), (0.0, 'celeb'), (0.0, 'ceil'), (0.0, 'ceesesteak'), (0.0, 'cedar'), (0.0, 'cebolla'), (0.0, 'ceaser'), (0.0, 'ceasar'), (0.0, 'ceas'), (0.0, 'cdg'), (0.0, 'cdc'), (0.0, 'cctv'), (0.0, 'ccrw'), (0.0, 'ccp'), (0.0, 'ccook'), (0.0, 'cc'), (0.0, 'cbr'), (0.0, 'cayenn'), (0.0, 'caydi'), (0.0, 'caycey'), (0.0, 'cavolfior'), (0.0, 'cavofior'), (0.0, 'cavier'), (0.0, 'caviar'), (0.0, 'cavern'), (0.0, 'caveat'), (0.0, 'cave'), (0.0, 'cavatelli'), (0.0, 'cavaolfior'), (0.0, 'cava'), (0.0, 'cautious'), (0.0, 'caution'), (0.0, 'causal'), (0.0, 'caulliflow'), (0.0, 'caught'), (0.0, 'caucasian'), (0.0, 'catti'), (0.0, 'catsup'), (0.0, 'cation'), (0.0, 'cathol'), (0.0, 'cathi'), (0.0, 'catharsi'), (0.0, 'catfoodi'), (0.0, 'catfish'), (0.0, 'categori'), (0.0, 'categor'), (0.0, 'catastroph'), (0.0, 'catapult'), (0.0, 'catalyst'), (0.0, 'catalan'), (0.0, 'catacomb'), (0.0, 'cat'), (0.0, 'castl'), (0.0, 'castelvetrano'), (0.0, 'castella'), (0.0, 'cast'), (0.0, 'cassoulet'), (0.0, 'casserol'), (0.0, 'cassarecc'), (0.0, 'casper'), (0.0, 'cask'), (0.0, 'casino'), (0.0, 'casi'), (0.0, 'cashless'), (0.0, 'cashew'), (0.0, 'casey'), (0.0, 'casement'), (0.0, 'cascad'), (0.0, 'casbah'), (0.0, 'casamigo'), (0.0, 'casablanca'), (0.0, 'casa'), (0.0, 'carv'), (0.0, 'carton'), (0.0, 'cartel'), (0.0, 'carta'), (0.0, 'cart'), (0.0, 'carsick'), (0.0, 'carshu'), (0.0, 'carrot'), (0.0, 'carrier'), (0.0, 'carrara'), (0.0, 'carpet'), (0.0, 'carpacio'), (0.0, 'carpaccio'), (0.0, 'carp'), (0.0, 'carousel'), (0.0, 'carondelet'), (0.0, 'carolina'), (0.0, 'carol'), (0.0, 'carob'), (0.0, 'caro'), (0.0, 'carnivor'), (0.0, 'carniv'), (0.0, 'carnita'), (0.0, 'carmin'), (0.0, 'carmel'), (0.0, 'carmal'), (0.0, 'carlisl'), (0.0, 'carissa'), (0.0, 'carious'), (0.0, 'caricatur'), (0.0, 'caribbean'), (0.0, 'caress'), (0.0, 'caremel'), (0.0, 'careless'), (0.0, 'carefre'), (0.0, 'career'), (0.0, 'careda'), (0.0, 'cardiovascular'), (0.0, 'cardiologist'), (0.0, 'cardin'), (0.0, 'cardiac'), (0.0, 'cardboard'), (0.0, 'cardamon'), (0.0, 'cardamom'), (0.0, 'carbon'), (0.0, 'carbohydr'), (0.0, 'carbijgbfor'), (0.0, 'carbi'), (0.0, 'carb'), (0.0, 'caraway'), (0.0, 'caramelizadlo'), (0.0, 'caramelis'), (0.0, 'caraf'), (0.0, 'capuccino'), (0.0, 'captur'), (0.0, 'captiv'), (0.0, 'caption'), (0.0, 'captain'), (0.0, 'capriotti'), (0.0, 'caprici'), (0.0, 'capres'), (0.0, 'cappucino'), (0.0, 'cappuccino'), (0.0, 'capper'), (0.0, 'cappellaci'), (0.0, 'cappag'), (0.0, 'cappacunio'), (0.0, 'capit'), (0.0, 'capicola'), (0.0, 'caperberri'), (0.0, 'caper'), (0.0, 'capac'), (0.0, 'capabl'), (0.0, 'cap'), (0.0, 'canva'), (0.0, 'cantina'), (0.0, 'cantidad'), (0.0, 'cantaloup'), (0.0, 'canon'), (0.0, 'canolli'), (0.0, 'canoli'), (0.0, 'canola'), (0.0, 'cannoli'), (0.0, 'cannellini'), (0.0, 'cannelini'), (0.0, 'canjun'), (0.0, 'canh'), (0.0, 'canela'), (0.0, 'cane'), (0.0, 'candlelit'), (0.0, 'candlelight'), (0.0, 'candl'), (0.0, 'candid'), (0.0, 'candi'), (0.0, 'candelabra'), (0.0, 'candac'), (0.0, 'cancun'), (0.0, 'cancel'), (0.0, 'canap'), (0.0, 'canal'), (0.0, 'canadian'), (0.0, 'canada'), (0.0, 'campo'), (0.0, 'campfir'), (0.0, 'camper'), (0.0, 'campenell'), (0.0, 'campari'), (0.0, 'campanell'), (0.0, 'camp'), (0.0, 'camouflag'), (0.0, 'camill'), (0.0, 'camera'), (0.0, 'camer'), (0.0, 'camembert'), (0.0, 'camel'), (0.0, 'camden'), (0.0, 'camaron'), (0.0, 'camaraderi'), (0.0, 'cam'), (0.0, 'calvado'), (0.0, 'calpi'), (0.0, 'calor'), (0.0, 'calomb'), (0.0, 'calmer'), (0.0, 'calm'), (0.0, 'callto'), (0.0, 'callowhil'), (0.0, 'callow'), (0.0, 'callous'), (0.0, 'calligraphi'), (0.0, 'caller'), (0.0, 'callback'), (0.0, 'californian'), (0.0, 'calibr'), (0.0, 'calib'), (0.0, 'cali'), (0.0, 'calendar'), (0.0, 'caledonian'), (0.0, 'caledonia'), (0.0, 'calcul'), (0.0, 'calamari'), (0.0, 'calam'), (0.0, 'calabrian'), (0.0, 'calabres'), (0.0, 'cakey'), (0.0, 'cajun'), (0.0, 'cajol'), (0.0, 'caitlynn'), (0.0, 'caitlin'), (0.0, 'cairn'), (0.0, 'caipirinha'), (0.0, 'cahoot'), (0.0, 'cagey'), (0.0, 'cafè'), (0.0, 'caffien'), (0.0, 'caffein'), (0.0, 'cafeteria'), (0.0, 'caferteria'), (0.0, 'caesar'), (0.0, 'cadillac'), (0.0, 'cadenc'), (0.0, 'caddyshack'), (0.0, 'caddi'), (0.0, 'cadav'), (0.0, 'cadarecc'), (0.0, 'cactus'), (0.0, 'cacophoni'), (0.0, 'cackl'), (0.0, 'caciocavllo'), (0.0, 'caciocavallo'), (0.0, 'caciocavalla'), (0.0, 'cacio'), (0.0, 'cacia'), (0.0, 'cacao'), (0.0, 'caboos'), (0.0, 'cabinet'), (0.0, 'cabernet'), (0.0, 'cab'), (0.0, 'caaan'), (0.0, 'ca'), (0.0, 'c'), (0.0, 'básicament'), (0.0, 'bánh'), (0.0, 'bz'), (0.0, 'byron'), (0.0, 'bypass'), (0.0, 'byo'), (0.0, 'bygon'), (0.0, 'bye'), (0.0, 'bybnhyui'), (0.0, 'buzzo'), (0.0, 'buzzi'), (0.0, 'buzzfe'), (0.0, 'buzzer'), (0.0, 'buzz'), (0.0, 'buyer'), (0.0, 'buuuuut'), (0.0, 'butttttt'), (0.0, 'buttttt'), (0.0, 'butttt'), (0.0, 'button'), (0.0, 'buttock'), (0.0, 'butthol'), (0.0, 'butterscotch'), (0.0, 'butternut'), (0.0, 'buttermilk'), (0.0, 'buttercream'), (0.0, 'butt'), (0.0, 'buther'), (0.0, 'butcheri'), (0.0, 'butcher'), (0.0, 'butan'), (0.0, 'busyyyyi'), (0.0, 'busy'), (0.0, 'bustk'), (0.0, 'buster'), (0.0, 'bust'), (0.0, 'bussin'), (0.0, 'busser'), (0.0, 'buss'), (0.0, 'busili'), (0.0, 'busiest'), (0.0, 'busier'), (0.0, 'bushi'), (0.0, 'bushel'), (0.0, 'buse'), (0.0, 'busboy'), (0.0, 'burst'), (0.0, 'burritto'), (0.0, 'burrata'), (0.0, 'burp'), (0.0, 'burnin'), (0.0, 'burner'), (0.0, 'burn'), (0.0, 'buri'), (0.0, 'burgundi'), (0.0, 'burgeon'), (0.0, 'burden'), (0.0, 'burb'), (0.0, 'buratta'), (0.0, 'bur'), (0.0, 'buoyant'), (0.0, 'bunni'), (0.0, 'bundl'), (0.0, 'bundino'), (0.0, 'bunchbof'), (0.0, 'bump'), (0.0, 'bummer'), (0.0, 'bumblebizz'), (0.0, 'bumblebff'), (0.0, 'bumbl'), (0.0, 'bum'), (0.0, 'bullshit'), (0.0, 'bullsh'), (0.0, 'bulli'), (0.0, 'bullet'), (0.0, 'bulleit'), (0.0, 'bull'), (0.0, 'bulki'), (0.0, 'bulk'), (0.0, 'bulgur'), (0.0, 'bulgogi'), (0.0, 'bulghur'), (0.0, 'bulger'), (0.0, 'bulgar'), (0.0, 'bulb'), (0.0, 'buk'), (0.0, 'buiness'), (0.0, 'built'), (0.0, 'builer'), (0.0, 'buildup'), (0.0, 'builder'), (0.0, 'buh'), (0.0, 'bugssssssssss'), (0.0, 'buggi'), (0.0, 'bugatti'), (0.0, 'bug'), (0.0, 'buffoon'), (0.0, 'buffet'), (0.0, 'buffalonian'), (0.0, 'buff'), (0.0, 'bufalo'), (0.0, 'bufala'), (0.0, 'buenísimo'), (0.0, 'bueno'), (0.0, 'buena'), (0.0, 'budinno'), (0.0, 'budin'), (0.0, 'budget'), (0.0, 'budg'), (0.0, 'budendo'), (0.0, 'buddino'), (0.0, 'buddi'), (0.0, 'buddhakan'), (0.0, 'buddha'), (0.0, 'buddakan'), (0.0, 'budapest'), (0.0, 'budakkan'), (0.0, 'bucol'), (0.0, 'buckwheat'), (0.0, 'buckoo'), (0.0, 'buckl'), (0.0, 'buckingham'), (0.0, 'buckey'), (0.0, 'bucketlist'), (0.0, 'bucket'), (0.0, 'buch'), (0.0, 'bucatini'), (0.0, 'bubblier'), (0.0, 'bubbletea'), (0.0, 'bubbl'), (0.0, 'bubba'), (0.0, 'bubb'), (0.0, 'bub'), (0.0, 'btwn'), (0.0, 'btw'), (0.0, 'bts'), (0.0, 'bthe'), (0.0, 'bs'), (0.0, 'brûlée'), (0.0, 'bryce'), (0.0, 'bryant'), (0.0, 'brutal'), (0.0, 'brut'), (0.0, 'brussl'), (0.0, 'brusqu'), (0.0, 'brusk'), (0.0, 'brush'), (0.0, 'bruschetta'), (0.0, 'bruno'), (0.0, 'brunett'), (0.0, 'brunchwis'), (0.0, 'brunchi'), (0.0, 'bruncher'), (0.0, 'brulé'), (0.0, 'brule'), (0.0, 'bruis'), (0.0, 'bruhhhh'), (0.0, 'bruh'), (0.0, 'brudino'), (0.0, 'bruch'), (0.0, 'browser'), (0.0, 'brownston'), (0.0, 'browni'), (0.0, 'brothi'), (0.0, 'brotherhood'), (0.0, 'brotha'), (0.0, 'bros'), (0.0, 'broom'), (0.0, 'brooklynit'), (0.0, 'brooklyn'), (0.0, 'brook'), (0.0, 'bronzino'), (0.0, 'bronx'), (0.0, 'broker'), (0.0, 'broken'), (0.0, 'broke'), (0.0, 'broiler'), (0.0, 'broil'), (0.0, 'brodo'), (0.0, 'brochur'), (0.0, 'broccolli'), (0.0, 'broccolini'), (0.0, 'broadway'), (0.0, 'broader'), (0.0, 'broaden'), (0.0, 'broadcast'), (0.0, 'broad'), (0.0, 'bro'), (0.0, 'brittl'), (0.0, 'brittani'), (0.0, 'british'), (0.0, 'britch'), (0.0, 'britain'), (0.0, 'brit'), (0.0, 'bristol'), (0.0, 'brisket'), (0.0, 'brisk'), (0.0, 'brioch'), (0.0, 'brink'), (0.0, 'brini'), (0.0, 'brinf'), (0.0, 'brine'), (0.0, 'brim'), (0.0, 'brilliant'), (0.0, 'brik'), (0.0, 'brightest'), (0.0, 'brighter'), (0.0, 'brighten'), (0.0, 'briefli'), (0.0, 'brief'), (0.0, 'brie'), (0.0, 'bridget'), (0.0, 'bridg'), (0.0, 'bride'), (0.0, 'bridal'), (0.0, 'brick'), (0.0, 'bribe'), (0.0, 'brianna'), (0.0, 'briann'), (0.0, 'brian'), (0.0, 'bri'), (0.0, 'brewerytown'), (0.0, 'breweri'), (0.0, 'brew'), (0.0, 'brevill'), (0.0, 'brevard'), (0.0, 'breslin'), (0.0, 'brendan'), (0.0, 'brekki'), (0.0, 'breezi'), (0.0, 'breez'), (0.0, 'breed'), (0.0, 'bred'), (0.0, 'breathtak'), (0.0, 'breather'), (0.0, 'breath'), (0.0, 'breastfeed'), (0.0, 'breaker'), (0.0, 'breakdown'), (0.0, 'breadtak'), (0.0, 'breadier'), (0.0, 'breadi'), (0.0, 'breadcrumb'), (0.0, 'breadbasket'), (0.0, 'brazino'), (0.0, 'brazilian'), (0.0, 'braze'), (0.0, 'brawni'), (0.0, 'brawl'), (0.0, 'bravo'), (0.0, 'braver'), (0.0, 'brave'), (0.0, 'bratwurst'), (0.0, 'brat'), (0.0, 'brassieri'), (0.0, 'brassier'), (0.0, 'brasseri'), (0.0, 'brassa'), (0.0, 'brass'), (0.0, 'brash'), (0.0, 'brandon'), (0.0, 'brandish'), (0.0, 'brandino'), (0.0, 'brandi'), (0.0, 'brand'), (0.0, 'branch'), (0.0, 'brambleberri'), (0.0, 'brais'), (0.0, 'brainer'), (0.0, 'brain'), (0.0, 'brag'), (0.0, 'bradshaw'), (0.0, 'bradley'), (0.0, 'bradi'), (0.0, 'brad'), (0.0, 'brace'), (0.0, 'br'), (0.0, 'bozo'), (0.0, 'boyz'), (0.0, 'boyyyyyyyi'), (0.0, 'boyyy'), (0.0, 'boylin'), (0.0, 'boyhood'), (0.0, 'boyarde'), (0.0, 'boxi'), (0.0, 'bowel'), (0.0, 'bow'), (0.0, 'boutiqu'), (0.0, 'bout'), (0.0, 'boursin'), (0.0, 'bours'), (0.0, 'bourn'), (0.0, 'bourguigon'), (0.0, 'bourguignon'), (0.0, 'bourgogn'), (0.0, 'bourginion'), (0.0, 'bourgignon'), (0.0, 'bourgeoisi'), (0.0, 'bourgeois'), (0.0, 'bourdain'), (0.0, 'bourbon'), (0.0, 'bouquet'), (0.0, 'bounti'), (0.0, 'boundari'), (0.0, 'bound'), (0.0, 'bouncier'), (0.0, 'bounci'), (0.0, 'bouncer'), (0.0, 'bounc'), (0.0, 'boulliabais'), (0.0, 'boulevardi'), (0.0, 'boulard'), (0.0, 'bouji'), (0.0, 'bouje'), (0.0, 'bouilllabaiss'), (0.0, 'bouillabaiss'), (0.0, 'bougier'), (0.0, 'bougi'), (0.0, 'bough'), (0.0, 'boudino'), (0.0, 'bouché'), (0.0, 'bouch'), (0.0, 'bottomlin'), (0.0, 'bottomless'), (0.0, 'bottleneck'), (0.0, 'bothersom'), (0.0, 'botch'), (0.0, 'botan'), (0.0, 'bot'), (0.0, 'boston'), (0.0, 'bossi'), (0.0, 'boss'), (0.0, 'bosnian'), (0.0, 'boruto'), (0.0, 'borrow'), (0.0, 'borromeo'), (0.0, 'borginouign'), (0.0, 'borginiougn'), (0.0, 'borgata'), (0.0, 'borderlin'), (0.0, 'border'), (0.0, 'bordeaux'), (0.0, 'bop'), (0.0, 'boozi'), (0.0, 'booz'), (0.0, 'bootleg'), (0.0, 'booti'), (0.0, 'boot'), (0.0, 'boost'), (0.0, 'boorish'), (0.0, 'boop'), (0.0, 'booooooy'), (0.0, 'boomer'), (0.0, 'boom'), (0.0, 'bookstor'), (0.0, 'bookshelf'), (0.0, 'bookmark'), (0.0, 'booklet'), (0.0, 'boobird'), (0.0, 'boob'), (0.0, 'boo'), (0.0, 'bonus'), (0.0, 'bonker'), (0.0, 'bonjour'), (0.0, 'bonito'), (0.0, 'bonita'), (0.0, 'bong'), (0.0, 'boney'), (0.0, 'boner'), (0.0, 'boneless'), (0.0, 'bonefish'), (0.0, 'bond'), (0.0, 'bonbon'), (0.0, 'bonbom'), (0.0, 'bon'), (0.0, 'bombon'), (0.0, 'bomber'), (0.0, 'bombbbb'), (0.0, 'bombard'), (0.0, 'bomba'), (0.0, 'bom'), (0.0, 'bolognes'), (0.0, 'bologna'), (0.0, 'bolger'), (0.0, 'bold'), (0.0, 'bokchoy'), (0.0, 'bok'), (0.0, 'boister'), (0.0, 'bohemian'), (0.0, 'bogo'), (0.0, 'boggl'), (0.0, 'bog'), (0.0, 'boeuf'), (0.0, 'boern'), (0.0, 'bodino'), (0.0, 'bodi'), (0.0, 'bodega'), (0.0, 'boddington'), (0.0, 'bock'), (0.0, 'bocha'), (0.0, 'bobbi'), (0.0, 'boba'), (0.0, 'bob'), (0.0, 'boat'), (0.0, 'boast'), (0.0, 'boardwalk'), (0.0, 'boardroom'), (0.0, 'board'), (0.0, 'boar'), (0.0, 'boa'), (0.0, 'bnb'), (0.0, 'bn'), (0.0, 'blusteri'), (0.0, 'blush'), (0.0, 'blurt'), (0.0, 'blurri'), (0.0, 'blur'), (0.0, 'blunt'), (0.0, 'bluh'), (0.0, 'bluf'), (0.0, 'blueston'), (0.0, 'bluefin'), (0.0, 'bluecoat'), (0.0, 'blt'), (0.0, 'blowout'), (0.0, 'blower'), (0.0, 'bloomi'), (0.0, 'bloom'), (0.0, 'bloodi'), (0.0, 'blood'), (0.0, 'blondish'), (0.0, 'blondi'), (0.0, 'blond'), (0.0, 'blog'), (0.0, 'blob'), (0.0, 'bloat'), (0.0, 'blizzard'), (0.0, 'blitzkrieg'), (0.0, 'blister'), (0.0, 'bliss'), (0.0, 'blintz'), (0.0, 'blink'), (0.0, 'bling'), (0.0, 'blinder'), (0.0, 'blind'), (0.0, 'bleu'), (0.0, 'bless'), (0.0, 'blender'), (0.0, 'blemish'), (0.0, 'bleh'), (0.0, 'bleak'), (0.0, 'bleacher'), (0.0, 'bleach'), (0.0, 'bldg'), (0.0, 'blazzz'), (0.0, 'blaze'), (0.0, 'blatant'), (0.0, 'blasé'), (0.0, 'blast'), (0.0, 'blasphem'), (0.0, 'blare'), (0.0, 'blanket'), (0.0, 'blank'), (0.0, 'blandest'), (0.0, 'blander'), (0.0, 'blanco'), (0.0, 'blanch'), (0.0, 'blanca'), (0.0, 'blanc'), (0.0, 'blan'), (0.0, 'blacken'), (0.0, 'blackboard'), (0.0, 'blackberri'), (0.0, 'bk'), (0.0, 'bizarr'), (0.0, 'biz'), (0.0, 'bitttt'), (0.0, 'bittersweet'), (0.0, 'bitter'), (0.0, 'biter'), (0.0, 'bitcoin'), (0.0, 'bitchi'), (0.0, 'bitch'), (0.0, 'bistrot'), (0.0, 'bistro'), (0.0, 'bisquit'), (0.0, 'bisqu'), (0.0, 'bismol'), (0.0, 'bish'), (0.0, 'biscotti'), (0.0, 'birthplac'), (0.0, 'birth'), (0.0, 'birdi'), (0.0, 'bird'), (0.0, 'birch'), (0.0, 'bipolar'), (0.0, 'bingo'), (0.0, 'bing'), (0.0, 'binder'), (0.0, 'bind'), (0.0, 'bin'), (0.0, 'bimibop'), (0.0, 'bimbimbap'), (0.0, 'bimbap'), (0.0, 'billowi'), (0.0, 'billow'), (0.0, 'billionair'), (0.0, 'billion'), (0.0, 'billi'), (0.0, 'biker'), (0.0, 'bike'), (0.0, 'biggi'), (0.0, 'bigboydiningout'), (0.0, 'bien'), (0.0, 'bieler'), (0.0, 'biden'), (0.0, 'bid'), (0.0, 'bicycl'), (0.0, 'bibless'), (0.0, 'bibimpap'), (0.0, 'bibimbob'), (0.0, 'bibimbap'), (0.0, 'bibim'), (0.0, 'biber'), (0.0, 'bibbl'), (0.0, 'bibb'), (0.0, 'bib'), (0.0, 'bias'), (0.0, 'biajin'), (0.0, 'bi'), (0.0, 'bg'), (0.0, 'bfs'), (0.0, 'bff'), (0.0, 'bfast'), (0.0, 'bf'), (0.0, 'beyoncé'), (0.0, 'beyodn'), (0.0, 'bewilder'), (0.0, 'bewild'), (0.0, 'bevi'), (0.0, 'beverag'), (0.0, 'beurr'), (0.0, 'betyer'), (0.0, 'betti'), (0.0, 'betsi'), (0.0, 'betray'), (0.0, 'beth'), (0.0, 'bete'), (0.0, 'bet'), (0.0, 'bestttttt'), (0.0, 'besttt'), (0.0, 'bestt'), (0.0, 'bestow'), (0.0, 'besti'), (0.0, 'bestestramen'), (0.0, 'besssst'), (0.0, 'besssssssst'), (0.0, 'bespeckl'), (0.0, 'berri'), (0.0, 'bernard'), (0.0, 'berkshir'), (0.0, 'bergen'), (0.0, 'berat'), (0.0, 'bequeef'), (0.0, 'beobl'), (0.0, 'bento'), (0.0, 'bent'), (0.0, 'benni'), (0.0, 'benji'), (0.0, 'benefici'), (0.0, 'beneath'), (0.0, 'bene'), (0.0, 'bendi'), (0.0, 'bend'), (0.0, 'benchmark'), (0.0, 'bench'), (0.0, 'ben'), (0.0, 'beluga'), (0.0, 'belov'), (0.0, 'belong'), (0.0, 'bellman'), (0.0, 'bellini'), (0.0, 'beller'), (0.0, 'bella'), (0.0, 'beliz'), (0.0, 'belief'), (0.0, 'belgium'), (0.0, 'belgian'), (0.0, 'belch'), (0.0, 'bel'), (0.0, 'bekaa'), (0.0, 'beirut'), (0.0, 'beiller'), (0.0, 'beilier'), (0.0, 'beij'), (0.0, 'beihler'), (0.0, 'beignet'), (0.0, 'beig'), (0.0, 'behold'), (0.0, 'behead'), (0.0, 'behav'), (0.0, 'begun'), (0.0, 'begrudg'), (0.0, 'begrud'), (0.0, 'beginn'), (0.0, 'beggin'), (0.0, 'begger'), (0.0, 'began'), (0.0, 'beg'), (0.0, 'befuddl'), (0.0, 'befoul'), (0.0, 'befit'), (0.0, 'beeyuti'), (0.0, 'beetroot'), (0.0, 'beeton'), (0.0, 'beeswax'), (0.0, 'beep'), (0.0, 'beelin'), (0.0, 'beekeep'), (0.0, 'beefsteak'), (0.0, 'beefi'), (0.0, 'beefeat'), (0.0, 'beeen'), (0.0, 'beech'), (0.0, 'bee'), (0.0, 'bedtim'), (0.0, 'bedroom'), (0.0, 'bedford'), (0.0, 'bed'), (0.0, 'beckon'), (0.0, 'beck'), (0.0, 'becausr'), (0.0, 'becacus'), (0.0, 'bec'), (0.0, 'bebim'), (0.0, 'bebida'), (0.0, 'beaver'), (0.0, 'beaucoup'), (0.0, 'beau'), (0.0, 'beatz'), (0.0, 'beatl'), (0.0, 'beaten'), (0.0, 'beast'), (0.0, 'bearer'), (0.0, 'beard'), (0.0, 'bearabl'), (0.0, 'bear'), (0.0, 'beam'), (0.0, 'bead'), (0.0, 'beacon'), (0.0, 'beachi'), (0.0, 'beach'), (0.0, 'beaaauti'), (0.0, 'bea'), (0.0, 'bday'), (0.0, 'bd'), (0.0, 'bcz'), (0.0, 'bcuz'), (0.0, 'bcus'), (0.0, 'bcaus'), (0.0, 'bbli'), (0.0, 'bbi'), (0.0, 'bbdo'), (0.0, 'baô'), (0.0, 'baña'), (0.0, 'bazooka'), (0.0, 'bazil'), (0.0, 'bazar'), (0.0, 'bazaar'), (0.0, 'baybeeeeeee'), (0.0, 'bay'), (0.0, 'bawdi'), (0.0, 'bavel'), (0.0, 'bavarian'), (0.0, 'battleground'), (0.0, 'battl'), (0.0, 'batter'), (0.0, 'battata'), (0.0, 'batman'), (0.0, 'bath'), (0.0, 'batch'), (0.0, 'batavia'), (0.0, 'batatah'), (0.0, 'batata'), (0.0, 'bat'), (0.0, 'bastard'), (0.0, 'bastant'), (0.0, 'bassett'), (0.0, 'basset'), (0.0, 'basquais'), (0.0, 'basmati'), (0.0, 'basketbal'), (0.0, 'bask'), (0.0, 'basil'), (0.0, 'basi'), (0.0, 'bash'), (0.0, 'baselin'), (0.0, 'basel'), (0.0, 'basebal'), (0.0, 'basbousa'), (0.0, 'basboosa'), (0.0, 'barter'), (0.0, 'barstoola'), (0.0, 'barrier'), (0.0, 'barri'), (0.0, 'barren'), (0.0, 'barrel'), (0.0, 'barrag'), (0.0, 'baromet'), (0.0, 'barn'), (0.0, 'barman'), (0.0, 'barley'), (0.0, 'barkley'), (0.0, 'bark'), (0.0, 'barista'), (0.0, 'bargain'), (0.0, 'barg'), (0.0, 'barfli'), (0.0, 'barf'), (0.0, 'barelt'), (0.0, 'bareburg'), (0.0, 'bard'), (0.0, 'barclay'), (0.0, 'barbuzzoo'), (0.0, 'barberri'), (0.0, 'barbecu'), (0.0, 'barbarian'), (0.0, 'barbar'), (0.0, 'barback'), (0.0, 'barack'), (0.0, 'baptiz'), (0.0, 'baptism'), (0.0, 'banter'), (0.0, 'banquett'), (0.0, 'banoffe'), (0.0, 'banoff'), (0.0, 'bannana'), (0.0, 'bankrupt'), (0.0, 'bank'), (0.0, 'banish'), (0.0, 'banh'), (0.0, 'bangin'), (0.0, 'banger'), (0.0, 'bang'), (0.0, 'bane'), (0.0, 'bandwagon'), (0.0, 'bandit'), (0.0, 'bandana'), (0.0, 'band'), (0.0, 'banchan'), (0.0, 'banan'), (0.0, 'ban'), (0.0, 'bamboo'), (0.0, 'bama'), (0.0, 'bam'), (0.0, 'baltimor'), (0.0, 'balthazar'), (0.0, 'balsámico'), (0.0, 'balsamico'), (0.0, 'balsam'), (0.0, 'balmi'), (0.0, 'ballpark'), (0.0, 'balloon'), (0.0, 'ballet'), (0.0, 'ball'), (0.0, 'balkan'), (0.0, 'bald'), (0.0, 'balasam'), (0.0, 'balanc'), (0.0, 'baladi'), (0.0, 'baklawa'), (0.0, 'baklava'), (0.0, 'bakey'), (0.0, 'bakewel'), (0.0, 'baker'), (0.0, 'bak'), (0.0, 'baja'), (0.0, 'bait'), (0.0, 'bainbridg'), (0.0, 'bailey'), (0.0, 'bail'), (0.0, 'bahn'), (0.0, 'baharat'), (0.0, 'baguett'), (0.0, 'bagguett'), (0.0, 'baggett'), (0.0, 'baffl'), (0.0, 'bae'), (0.0, 'badmouth'), (0.0, 'badg'), (0.0, 'baddi'), (0.0, 'badd'), (0.0, 'badass'), (0.0, 'bacteria'), (0.0, 'backyard'), (0.0, 'backward'), (0.0, 'backwait'), (0.0, 'backup'), (0.0, 'backstori'), (0.0, 'backsplash'), (0.0, 'backsid'), (0.0, 'backroom'), (0.0, 'backpack'), (0.0, 'backlog'), (0.0, 'backlit'), (0.0, 'backless'), (0.0, 'background'), (0.0, 'backdrop'), (0.0, 'backdoor'), (0.0, 'bachelorett'), (0.0, 'bachelor'), (0.0, 'bach'), (0.0, 'babyyyy'), (0.0, 'babysitt'), (0.0, 'babygirl'), (0.0, 'babi'), (0.0, 'babganoush'), (0.0, 'babe'), (0.0, 'babbl'), (0.0, 'babba'), (0.0, 'babaghanoush'), (0.0, 'babaghanosh'), (0.0, 'babaganoush'), (0.0, 'babaganousch'), (0.0, 'babaganosh'), (0.0, 'babaganoosh'), (0.0, 'babag'), (0.0, 'baaaaay'), (0.0, 'baaa'), (0.0, 'azz'), (0.0, 'azur'), (0.0, 'azul'), (0.0, 'aze'), (0.0, 'ayogurt'), (0.0, 'ayc'), (0.0, 'ay'), (0.0, 'awww'), (0.0, 'awsom'), (0.0, 'awri'), (0.0, 'awoken'), (0.0, 'awok'), (0.0, 'awn'), (0.0, 'awkward'), (0.0, 'awkard'), (0.0, 'awk'), (0.0, 'awhil'), (0.0, 'awey'), (0.0, 'awe'), (0.0, 'awaygyu'), (0.0, 'awat'), (0.0, 'awar'), (0.0, 'awaken'), (0.0, 'awak'), (0.0, 'await'), (0.0, 'avo'), (0.0, 'aviv'), (0.0, 'avid'), (0.0, 'avg'), (0.0, 'avers'), (0.0, 'avenu'), (0.0, 'aveng'), (0.0, 'ave'), (0.0, 'avacado'), (0.0, 'auxiliari'), (0.0, 'aux'), (0.0, 'autumn'), (0.0, 'autostrada'), (0.0, 'autopilot'), (0.0, 'automot'), (0.0, 'automat'), (0.0, 'autom'), (0.0, 'autoimmun'), (0.0, 'autograph'), (0.0, 'autocorrect'), (0.0, 'auto'), (0.0, 'autist'), (0.0, 'author'), (0.0, 'authenticti'), (0.0, 'australian'), (0.0, 'australia'), (0.0, 'austin'), (0.0, 'aura'), (0.0, 'aunti'), (0.0, 'aunt'), (0.0, 'aunqu'), (0.0, 'august'), (0.0, 'augment'), (0.0, 'aught'), (0.0, 'aug'), (0.0, 'auditori'), (0.0, 'audio'), (0.0, 'audibl'), (0.0, 'audac'), (0.0, 'auction'), (0.0, 'auburn'), (0.0, 'au'), (0.0, 'atyp'), (0.0, 'attribut'), (0.0, 'attorney'), (0.0, 'attir'), (0.0, 'atticus'), (0.0, 'attic'), (0.0, 'attest'), (0.0, 'attesa'), (0.0, 'attende'), (0.0, 'attend'), (0.0, 'attain'), (0.0, 'attach'), (0.0, 'atroci'), (0.0, 'atrium'), (0.0, 'atop'), (0.0, 'atomospher'), (0.0, 'atomopher'), (0.0, 'atomespher'), (0.0, 'atmosphär'), (0.0, 'atmosher'), (0.0, 'atleast'), (0.0, 'atlanta'), (0.0, 'atlant'), (0.0, 'atl'), (0.0, 'atherosclerot'), (0.0, 'atherosclerosi'), (0.0, 'athen'), (0.0, 'ath'), (0.0, 'atención'), (0.0, 'atar'), (0.0, 'atal'), (0.0, 'así'), (0.0, 'astray'), (0.0, 'astound'), (0.0, 'astonish'), (0.0, 'asthet'), (0.0, 'asterisk'), (0.0, 'astan'), (0.0, 'assur'), (0.0, 'assumpt'), (0.0, 'assum'), (0.0, 'asst'), (0.0, 'associ'), (0.0, 'assist'), (0.0, 'assign'), (0.0, 'asshol'), (0.0, 'asset'), (0.0, 'assess'), (0.0, 'assert'), (0.0, 'assembl'), (0.0, 'assault'), (0.0, 'aspir'), (0.0, 'aspettar'), (0.0, 'aspen'), (0.0, 'aspect'), (0.0, 'asparagus'), (0.0, 'asparago'), (0.0, 'aspam'), (0.0, 'ason'), (0.0, 'asleep'), (0.0, 'asl'), (0.0, 'asknyal'), (0.0, 'asid'), (0.0, 'asia'), (0.0, 'ashta'), (0.0, 'ashley'), (0.0, 'ashkenazi'), (0.0, 'ashburi'), (0.0, 'asham'), (0.0, 'asf'), (0.0, 'aservic'), (0.0, 'ascend'), (0.0, 'asap'), (0.0, 'asain'), (0.0, 'asada'), (0.0, 'arya'), (0.0, 'arugula'), (0.0, 'arugila'), (0.0, 'artwork'), (0.0, 'artsi'), (0.0, 'artist'), (0.0, 'artisan'), (0.0, 'articul'), (0.0, 'articl'), (0.0, 'artichok'), (0.0, 'artic'), (0.0, 'artesan'), (0.0, 'arteri'), (0.0, 'art'), (0.0, 'ars'), (0.0, 'arrow'), (0.0, 'arrest'), (0.0, 'array'), (0.0, 'arrack'), (0.0, 'arou'), (0.0, 'aros'), (0.0, 'aromat'), (0.0, 'aroma'), (0.0, 'arnold'), (0.0, 'arnabeet'), (0.0, 'armi'), (0.0, 'arm'), (0.0, 'arlington'), (0.0, 'arkansa'), (0.0, 'arizona'), (0.0, 'aris'), (0.0, 'ariel'), (0.0, 'ariana'), (0.0, 'argument'), (0.0, 'arguabl'), (0.0, 'areveri'), (0.0, 'aresometh'), (0.0, 'arent'), (0.0, 'arena'), (0.0, 'arduous'), (0.0, 'ardmor'), (0.0, 'arctic'), (0.0, 'architectur'), (0.0, 'archaic'), (0.0, 'arch'), (0.0, 'arboretum'), (0.0, 'arbit'), (0.0, 'arbi'), (0.0, 'arbequina'), (0.0, 'arbarl'), (0.0, 'arancini'), (0.0, 'aranchini'), (0.0, 'aranccini'), (0.0, 'arak'), (0.0, 'aracini'), (0.0, 'arabia'), (0.0, 'ar'), (0.0, 'aquarium'), (0.0, 'aquafaba'), (0.0, 'apx'), (0.0, 'apt'), (0.0, 'apron'), (0.0, 'april'), (0.0, 'apricot'), (0.0, 'apretti'), (0.0, 'appétit'), (0.0, 'appz'), (0.0, 'appt'), (0.0, 'approxim'), (0.0, 'approx'), (0.0, 'approv'), (0.0, 'approach'), (0.0, 'apprehens'), (0.0, 'appreciatweekend'), (0.0, 'appreant'), (0.0, 'apprais'), (0.0, 'appoint'), (0.0, 'applic'), (0.0, 'appli'), (0.0, 'applewood'), (0.0, 'applebe'), (0.0, 'applaus'), (0.0, 'applaud'), (0.0, 'appiet'), (0.0, 'appi'), (0.0, 'appetis'), (0.0, 'appendag'), (0.0, 'appell'), (0.0, 'appeas'), (0.0, 'apparatus'), (0.0, 'appal'), (0.0, 'apologet'), (0.0, 'apocalyps'), (0.0, 'aplenti'), (0.0, 'apiec'), (0.0, 'aphi'), (0.0, 'apetit'), (0.0, 'apertif'), (0.0, 'aperol'), (0.0, 'aperitivo'), (0.0, 'aperitif'), (0.0, 'apathi'), (0.0, 'ap'), (0.0, 'aoli'), (0.0, 'anywho'), (0.0, 'anyw'), (0.0, 'anythingggggg'), (0.0, 'anyplac'), (0.0, 'anyday'), (0.0, 'anybodi'), (0.0, 'anxious'), (0.0, 'anxieti'), (0.0, 'antsi'), (0.0, 'anton'), (0.0, 'antisoci'), (0.0, 'antiqu'), (0.0, 'antipasto'), (0.0, 'antipasti'), (0.0, 'antipasta'), (0.0, 'anticlimact'), (0.0, 'antibiot'), (0.0, 'anti'), (0.0, 'anthropologi'), (0.0, 'anthoni'), (0.0, 'anterior'), (0.0, 'antacid'), (0.0, 'ant'), (0.0, 'anomali'), (0.0, 'annual'), (0.0, 'announc'), (0.0, 'annnnnnd'), (0.0, 'annemari'), (0.0, 'anna'), (0.0, 'ann'), (0.0, 'aniversario'), (0.0, 'anis'), (0.0, 'animamo'), (0.0, 'anim'), (0.0, 'anid'), (0.0, 'angus'), (0.0, 'angrili'), (0.0, 'angrier'), (0.0, 'angri'), (0.0, 'angostura'), (0.0, 'anglophil'), (0.0, 'anglais'), (0.0, 'angl'), (0.0, 'angi'), (0.0, 'anger'), (0.0, 'angenehm'), (0.0, 'angelo'), (0.0, 'angelica'), (0.0, 'angela'), (0.0, 'anesthet'), (0.0, 'anejo'), (0.0, 'anecdot'), (0.0, 'andvip'), (0.0, 'andth'), (0.0, 'andrew'), (0.0, 'andrea'), (0.0, 'andouill'), (0.0, 'andi'), (0.0, 'andddddd'), (0.0, 'andan'), (0.0, 'ancient'), (0.0, 'anchovi'), (0.0, 'anchor'), (0.0, 'ancho'), (0.0, 'anatom'), (0.0, 'anastasia'), (0.0, 'analyz'), (0.0, 'analysi'), (0.0, 'analog'), (0.0, 'anaheim'), (0.0, 'amus'), (0.0, 'amtrak'), (0.0, 'ampm'), (0.0, 'amplifi'), (0.0, 'ampli'), (0.0, 'ampl'), (0.0, 'amp'), (0.0, 'amoul'), (0.0, 'amorosso'), (0.0, 'amoroso'), (0.0, 'amont'), (0.0, 'amond'), (0.0, 'ammon'), (0.0, 'amman'), (0.0, 'amiss'), (0.0, 'amishma'), (0.0, 'amishcommun'), (0.0, 'amidst'), (0.0, 'amid'), (0.0, 'amiabl'), (0.0, 'ami'), (0.0, 'amex'), (0.0, 'ameriyiddish'), (0.0, 'americano'), (0.0, 'americanesqu'), (0.0, 'americana'), (0.0, 'amen'), (0.0, 'amelia'), (0.0, 'amd'), (0.0, 'ambroso'), (0.0, 'ambl'), (0.0, 'ambiti'), (0.0, 'ambit'), (0.0, 'ambient'), (0.0, 'amber'), (0.0, 'amba'), (0.0, 'amazzz'), (0.0, 'amazzinng'), (0.0, 'amazon'), (0.0, 'amazingggggggggggggggggggggggggggggggggggggggggggggggggggggggggggggggggggggggggggggggggggggggggggggggggggggg'), (0.0, 'amazingggggg'), (0.0, 'amazinggggg'), (0.0, 'amazinggg'), (0.0, 'amazing'), (0.0, 'amazebal'), (0.0, 'amatur'), (0.0, 'amateur'), (0.0, 'amaroso'), (0.0, 'amari'), (0.0, 'amaretto'), (0.0, 'amaretti'), (0.0, 'amar'), (0.0, 'amant'), (0.0, 'amann'), (0.0, 'amandin'), (0.0, 'amanda'), (0.0, 'aman'), (0.0, 'amalgam'), (0.0, 'amada'), (0.0, 'amaaz'), (0.0, 'amaaaaz'), (0.0, 'amaaaaaz'), (0.0, 'alyssa'), (0.0, 'aluminum'), (0.0, 'alum'), (0.0, 'altura'), (0.0, 'altough'), (0.0, 'altho'), (0.0, 'altern'), (0.0, 'alter'), (0.0, 'alta'), (0.0, 'alt'), (0.0, 'alpin'), (0.0, 'alot'), (0.0, 'aloof'), (0.0, 'alongsid'), (0.0, 'aloft'), (0.0, 'alo'), (0.0, 'almondin'), (0.0, 'almond'), (0.0, 'almighti'), (0.0, 'almaza'), (0.0, 'almandin'), (0.0, 'allur'), (0.0, 'allud'), (0.0, 'allspic'), (0.0, 'allot'), (0.0, 'alllllwaaay'), (0.0, 'alllllllll'), (0.0, 'allllll'), (0.0, 'allll'), (0.0, 'allig'), (0.0, 'allianc'), (0.0, 'alli'), (0.0, 'alleyway'), (0.0, 'alley'), (0.0, 'allessandro'), (0.0, 'allesandro'), (0.0, 'allergi'), (0.0, 'allergen'), (0.0, 'allegi'), (0.0, 'alleg'), (0.0, 'allagash'), (0.0, 'aliv'), (0.0, 'alittl'), (0.0, 'alil'), (0.0, 'alik'), (0.0, 'align'), (0.0, 'alic'), (0.0, 'ali'), (0.0, 'alhaesh'), (0.0, 'algorithm'), (0.0, 'algo'), (0.0, 'alfredo'), (0.0, 'alfa'), (0.0, 'alexandra'), (0.0, 'alexa'), (0.0, 'alex'), (0.0, 'alessandro'), (0.0, 'alessadro'), (0.0, 'alert'), (0.0, 'aleppo'), (0.0, 'ale'), (0.0, 'aldent'), (0.0, 'alcov'), (0.0, 'alcohl'), (0.0, 'alc'), (0.0, 'album'), (0.0, 'albeit'), (0.0, 'albani'), (0.0, 'albacor'), (0.0, 'alaskan'), (0.0, 'alaska'), (0.0, 'alarm'), (0.0, 'alagosh'), (0.0, 'alabama'), (0.0, 'ala'), (0.0, 'akway'), (0.0, 'akin'), (0.0, 'akeem'), (0.0, 'aka'), (0.0, 'ajvar'), (0.0, 'ajin'), (0.0, 'ajillo'), (0.0, 'ajeen'), (0.0, 'ajeem'), (0.0, 'aith'), (0.0, 'airway'), (0.0, 'airpod'), (0.0, 'airlin'), (0.0, 'airi'), (0.0, 'airhead'), (0.0, 'airfar'), (0.0, 'airborn'), (0.0, 'airbnb'), (0.0, 'airb'), (0.0, 'air'), (0.0, 'aioli'), (0.0, 'aint'), (0.0, 'ain'), (0.0, 'aimless'), (0.0, 'aime'), (0.0, 'aim'), (0.0, 'aiight'), (0.0, 'aight'), (0.0, 'aiden'), (0.0, 'aid'), (0.0, 'ai'), (0.0, 'ahold'), (0.0, 'ahm'), (0.0, 'ahi'), (0.0, 'ahhhhmaz'), (0.0, 'ahhhhmaaazzzz'), (0.0, 'ahhhhh'), (0.0, 'ahhhh'), (0.0, 'ahhh'), (0.0, 'ahh'), (0.0, 'ahem'), (0.0, 'ahaha'), (0.0, 'aha'), (0.0, 'ah'), (0.0, 'agua'), (0.0, 'agreement'), (0.0, 'agreeabl'), (0.0, 'agree'), (0.0, 'agrad'), (0.0, 'agoni'), (0.0, 'agnolotti'), (0.0, 'agit'), (0.0, 'agin'), (0.0, 'agil'), (0.0, 'aggro'), (0.0, 'aggreg'), (0.0, 'aggrav'), (0.0, 'agent'), (0.0, 'agenda'), (0.0, 'ageiabl'), (0.0, 'agav'), (0.0, 'agaon'), (0.0, 'againnnnn'), (0.0, 'afuera'), (0.0, 'afterthought'), (0.0, 'aftertast'), (0.0, 'aftermath'), (0.0, 'aftedreffect'), (0.0, 'afro'), (0.0, 'african'), (0.0, 'africa'), (0.0, 'afraid'), (0.0, 'aforement'), (0.0, 'afor'), (0.0, 'aficionado'), (0.0, 'affluent'), (0.0, 'affirm'), (0.0, 'affin'), (0.0, 'affection'), (0.0, 'affect'), (0.0, 'affair'), (0.0, 'affabl'), (0.0, 'afcours'), (0.0, 'afar'), (0.0, 'af'), (0.0, 'aether'), (0.0, 'aesh'), (0.0, 'aeromat'), (0.0, 'adzuki'), (0.0, 'advoc'), (0.0, 'advisori'), (0.0, 'advisor'), (0.0, 'advic'), (0.0, 'advantag'), (0.0, 'adulthood'), (0.0, 'adulteri'), (0.0, 'adulter'), (0.0, 'adtl'), (0.0, 'adorn'), (0.0, 'ador'), (0.0, 'adopt'), (0.0, 'adobo'), (0.0, 'adob'), (0.0, 'admonish'), (0.0, 'admito'), (0.0, 'admit'), (0.0, 'admiss'), (0.0, 'admir'), (0.0, 'adjust'), (0.0, 'adjunto'), (0.0, 'adjoin'), (0.0, 'adject'), (0.0, 'adjac'), (0.0, 'adio'), (0.0, 'adicionarl'), (0.0, 'adicionar'), (0.0, 'adher'), (0.0, 'adhd'), (0.0, 'adequ'), (0.0, 'adel'), (0.0, 'address'), (0.0, 'addon'), (0.0, 'adapt'), (0.0, 'adana'), (0.0, 'adam'), (0.0, 'acá'), (0.0, 'acut'), (0.0, 'activ'), (0.0, 'action'), (0.0, 'actin'), (0.0, 'acquir'), (0.0, 'acquiesc'), (0.0, 'acquaint'), (0.0, 'acp'), (0.0, 'acoust'), (0.0, 'acn'), (0.0, 'acid'), (0.0, 'achiev'), (0.0, 'ach'), (0.0, 'aceptar'), (0.0, 'aceptan'), (0.0, 'ace'), (0.0, 'accustom'), (0.0, 'accus'), (0.0, 'accur'), (0.0, 'accumul'), (0.0, 'accross'), (0.0, 'accoutr'), (0.0, 'accouter'), (0.0, 'account'), (0.0, 'accomplish'), (0.0, 'accompany'), (0.0, 'accompani'), (0.0, 'accomod'), (0.0, 'accomdo'), (0.0, 'accomad'), (0.0, 'accolad'), (0.0, 'acclim'), (0.0, 'acclaim'), (0.0, 'accid'), (0.0, 'accessori'), (0.0, 'access'), (0.0, 'accentu'), (0.0, 'accent'), (0.0, 'acceler'), (0.0, 'accdg'), (0.0, 'academ'), (0.0, 'acabamo'), (0.0, 'abysm'), (0.0, 'abut'), (0.0, 'abus'), (0.0, 'aburi'), (0.0, 'abu'), (0.0, 'absurd'), (0.0, 'abstain'), (0.0, 'absout'), (0.0, 'absorb'), (0.0, 'absolutley'), (0.0, 'absinth'), (0.0, 'absent'), (0.0, 'absenc'), (0.0, 'abrupt'), (0.0, 'abricot'), (0.0, 'abras'), (0.0, 'aboutt'), (0.0, 'abound'), (0.0, 'abou'), (0.0, 'abomin'), (0.0, 'aboard'), (0.0, 'abnorm'), (0.0, 'abner'), (0.0, 'ablaz'), (0.0, 'abil'), (0.0, 'abid'), (0.0, 'abhorr'), (0.0, 'abhor'), (0.0, 'aberr'), (0.0, 'abeill'), (0.0, 'abe'), (0.0, 'abbrevi'), (0.0, 'abbiamo'), (0.0, 'abbi'), (0.0, 'abat'), (0.0, 'abandon'), (0.0, 'aback'), (0.0, 'ab'), (0.0, 'aatar'), (0.0, 'aaron'), (0.0, 'aak'), (0.0, 'aaaand'), (0.0, 'aa'), (0.0, 'a__'), (0.0, '_off_')]\n"
     ]
    }
   ],
   "source": [
    "rfc_feat = RandomForestClassifier()\n",
    "rfc_feat.fit(X_res,y_res)\n",
    "names=tfidf.get_feature_names()\n",
    "\n",
    "print(\"Features sorted by their score: \")\n",
    "print(sorted(zip(map(lambda x: round(x, 4), rfc_feat.feature_importances_), names), \n",
    "             reverse=True))"
   ]
  },
  {
   "cell_type": "markdown",
   "id": "46d240da",
   "metadata": {},
   "source": [
    "## Using SHAP on XGBoostClassifier<a id='shap_xgboost'>"
   ]
  },
  {
   "cell_type": "code",
   "execution_count": 96,
   "id": "6f427d69",
   "metadata": {},
   "outputs": [],
   "source": [
    "import shap"
   ]
  },
  {
   "cell_type": "code",
   "execution_count": 152,
   "id": "2b836bc5",
   "metadata": {},
   "outputs": [],
   "source": [
    "model = xgb.XGBClassifier(eval_metric='logloss', random_state=42)\n",
    "model.fit(X_res, y_res)\n",
    "columns=tfidf.get_feature_names()"
   ]
  },
  {
   "cell_type": "code",
   "execution_count": 121,
   "id": "31a24cd3",
   "metadata": {
    "scrolled": false
   },
   "outputs": [
    {
     "name": "stdout",
     "output_type": "stream",
     "text": [
      "[[0. 0. 0. ... 0. 0. 0.]\n",
      " [0. 0. 0. ... 0. 0. 0.]\n",
      " [0. 0. 0. ... 0. 0. 0.]\n",
      " ...\n",
      " [0. 0. 0. ... 0. 0. 0.]\n",
      " [0. 0. 0. ... 0. 0. 0.]\n",
      " [0. 0. 0. ... 0. 0. 0.]]\n"
     ]
    },
    {
     "data": {
      "image/png": "[encoded data removed]",
      "text/plain": [
       "<Figure size 800x950 with 1 Axes>"
      ]
     },
     "metadata": {},
     "output_type": "display_data"
    }
   ],
   "source": [
    "\n",
    "#explainer = shap.TreeExplainer(model)\n",
    "#shap_values = explainer.shap_values(columns)\n",
    "\n",
    "explainer = shap.TreeExplainer(model)\n",
    "shap_values = explainer.shap_values(X_res)\n",
    "# View shap values\n",
    "print(shap_values)\n",
    "shap.summary_plot(shap_values, columns, plot_type=\"bar\")"
   ]
  },
  {
   "cell_type": "markdown",
   "id": "465d6dde",
   "metadata": {},
   "source": [
    "## Cross_validate LogisticRegression model<a id='cv_logreg'>"
   ]
  },
  {
   "cell_type": "code",
   "execution_count": 68,
   "id": "a2c534ae",
   "metadata": {},
   "outputs": [
    {
     "name": "stdout",
     "output_type": "stream",
     "text": [
      "Best: 0.613408 using {'C': 100, 'penalty': 'l2', 'solver': 'newton-cg'}\n",
      "0.613408 (0.021170) with: {'C': 100, 'penalty': 'l2', 'solver': 'newton-cg'}\n",
      "0.611732 (0.021346) with: {'C': 100, 'penalty': 'l2', 'solver': 'lbfgs'}\n",
      "0.613408 (0.021170) with: {'C': 100, 'penalty': 'l2', 'solver': 'liblinear'}\n",
      "0.597207 (0.012163) with: {'C': 10, 'penalty': 'l2', 'solver': 'newton-cg'}\n",
      "0.596648 (0.011665) with: {'C': 10, 'penalty': 'l2', 'solver': 'lbfgs'}\n",
      "0.596648 (0.011665) with: {'C': 10, 'penalty': 'l2', 'solver': 'liblinear'}\n",
      "0.421229 (0.011367) with: {'C': 1.0, 'penalty': 'l2', 'solver': 'newton-cg'}\n",
      "0.421229 (0.011367) with: {'C': 1.0, 'penalty': 'l2', 'solver': 'lbfgs'}\n",
      "0.421788 (0.011173) with: {'C': 1.0, 'penalty': 'l2', 'solver': 'liblinear'}\n",
      "0.004469 (0.003789) with: {'C': 0.1, 'penalty': 'l2', 'solver': 'newton-cg'}\n",
      "0.004469 (0.003789) with: {'C': 0.1, 'penalty': 'l2', 'solver': 'lbfgs'}\n",
      "0.005028 (0.003706) with: {'C': 0.1, 'penalty': 'l2', 'solver': 'liblinear'}\n",
      "0.000000 (0.000000) with: {'C': 0.01, 'penalty': 'l2', 'solver': 'newton-cg'}\n",
      "0.000000 (0.000000) with: {'C': 0.01, 'penalty': 'l2', 'solver': 'lbfgs'}\n",
      "0.000000 (0.000000) with: {'C': 0.01, 'penalty': 'l2', 'solver': 'liblinear'}\n"
     ]
    }
   ],
   "source": [
    "# define models and parameters\n",
    "modelG = LogisticRegression()\n",
    "solvers = ['newton-cg', 'lbfgs', 'liblinear']\n",
    "penalty = ['l2']\n",
    "c_values = [100, 10, 1.0, 0.1, 0.01]\n",
    "# define grid search\n",
    "grid = dict(solver=solvers,penalty=penalty,C=c_values)\n",
    "cv = StratifiedKFold(n_splits=5, random_state=None, shuffle=False)\n",
    "grid_search = GridSearchCV(estimator=modelG, param_grid=grid, n_jobs=-1, cv=cv, scoring='recall',error_score=0)\n",
    "grid_result = grid_search.fit(X_train_transformed, y_train)\n",
    "# summarize results\n",
    "print(\"Best: %f using %s\" % (grid_result.best_score_, grid_result.best_params_))\n",
    "means = grid_result.cv_results_['mean_test_score']\n",
    "stds = grid_result.cv_results_['std_test_score']\n",
    "params = grid_result.cv_results_['params']\n",
    "for mean, stdev, param in zip(means, stds, params):\n",
    "    print(\"%f (%f) with: %r\" % (mean, stdev, param))"
   ]
  },
  {
   "cell_type": "code",
   "execution_count": 122,
   "id": "1d1d89d9",
   "metadata": {},
   "outputs": [],
   "source": [
    "from imblearn.pipeline import Pipeline"
   ]
  },
  {
   "cell_type": "markdown",
   "id": "559e275f",
   "metadata": {},
   "source": [
    "##  Pipeline and cross_validation using StratifiedKFold\n",
    "Here I using combination of SMOTE and RandomUndersampling and using the best parameters from above"
   ]
  },
  {
   "cell_type": "code",
   "execution_count": 123,
   "id": "ff13da97",
   "metadata": {},
   "outputs": [
    {
     "name": "stdout",
     "output_type": "stream",
     "text": [
      "[0.7122905  0.73463687 0.74022346 0.73184358 0.63687151]\n"
     ]
    }
   ],
   "source": [
    "\n",
    "# define pipeline\n",
    "over = SMOTE(random_state=42)\n",
    "under = RandomUnderSampler(random_state=42)\n",
    "\n",
    "# define evaluation procedure\n",
    "skf = StratifiedKFold(n_splits=5, random_state=None, shuffle=False)\n",
    "clf_cv = LogisticRegression(solver = 'newton-cg', penalty='l2', max_iter = 3000, C=100)\n",
    "steps = [('o', over), ('u', under), ('m', clf_cv)]\n",
    "pipeline = Pipeline(steps=steps)\n",
    "clf_scores = cross_val_score(pipeline, X_train_transformed, y_train, cv=skf, scoring=make_scorer(recall_score, average='weighted', labels=[1]))\n",
    "print(f'{clf_scores}')"
   ]
  },
  {
   "cell_type": "code",
   "execution_count": 124,
   "id": "9a4b3e76",
   "metadata": {},
   "outputs": [
    {
     "data": {
      "text/plain": [
       "0.7111731843575418"
      ]
     },
     "execution_count": 124,
     "metadata": {},
     "output_type": "execute_result"
    }
   ],
   "source": [
    "np.mean(clf_scores)"
   ]
  },
  {
   "cell_type": "markdown",
   "id": "a6740d69",
   "metadata": {},
   "source": [
    "## LogisticRegression test prediction results"
   ]
  },
  {
   "cell_type": "code",
   "execution_count": 125,
   "id": "908fbef8",
   "metadata": {},
   "outputs": [
    {
     "data": {
      "text/plain": [
       "(True, True)"
      ]
     },
     "execution_count": 125,
     "metadata": {},
     "output_type": "execute_result"
    }
   ],
   "source": [
    "hasattr(pipeline, 'fit'), hasattr(pipeline, 'predict')"
   ]
  },
  {
   "cell_type": "code",
   "execution_count": 126,
   "id": "a38e2626",
   "metadata": {},
   "outputs": [],
   "source": [
    "clf_cv = LogisticRegression(solver = 'newton-cg', penalty='l2', max_iter = 3000, C=100)\n",
    "steps = [('o', over), ('u', under), ('m', clf_cv)]\n",
    "pipeline = Pipeline(steps=steps)"
   ]
  },
  {
   "cell_type": "code",
   "execution_count": 127,
   "id": "a8204a45",
   "metadata": {},
   "outputs": [
    {
     "data": {
      "text/plain": [
       "imblearn.pipeline.Pipeline"
      ]
     },
     "execution_count": 127,
     "metadata": {},
     "output_type": "execute_result"
    }
   ],
   "source": [
    "type(pipeline)"
   ]
  },
  {
   "cell_type": "code",
   "execution_count": 128,
   "id": "06fde24f",
   "metadata": {},
   "outputs": [
    {
     "data": {
      "text/plain": [
       "Pipeline(steps=[('o', SMOTE(random_state=42)),\n",
       "                ('u', RandomUnderSampler(random_state=42)),\n",
       "                ('m',\n",
       "                 LogisticRegression(C=100, max_iter=3000, solver='newton-cg'))])"
      ]
     },
     "execution_count": 128,
     "metadata": {},
     "output_type": "execute_result"
    }
   ],
   "source": [
    "pipeline.fit(X_train_transformed, y_train)"
   ]
  },
  {
   "cell_type": "code",
   "execution_count": 129,
   "id": "7307f756",
   "metadata": {},
   "outputs": [],
   "source": [
    "y_te_pred = pipeline.predict(X_test_transformed)"
   ]
  },
  {
   "cell_type": "code",
   "execution_count": 130,
   "id": "d8235363",
   "metadata": {},
   "outputs": [
    {
     "name": "stdout",
     "output_type": "stream",
     "text": [
      "              precision    recall  f1-score   support\n",
      "\n",
      "           0       0.96      0.94      0.95      3492\n",
      "           1       0.58      0.70      0.64       448\n",
      "\n",
      "    accuracy                           0.91      3940\n",
      "   macro avg       0.77      0.82      0.79      3940\n",
      "weighted avg       0.92      0.91      0.91      3940\n",
      "\n"
     ]
    }
   ],
   "source": [
    "print(classification_report(y_test, y_te_pred))"
   ]
  },
  {
   "cell_type": "code",
   "execution_count": 131,
   "id": "27b7d6cd",
   "metadata": {},
   "outputs": [
    {
     "data": {
      "text/plain": [
       "dict_keys(['memory', 'steps', 'verbose', 'o', 'u', 'm', 'o__k_neighbors', 'o__n_jobs', 'o__random_state', 'o__sampling_strategy', 'u__random_state', 'u__replacement', 'u__sampling_strategy', 'm__C', 'm__class_weight', 'm__dual', 'm__fit_intercept', 'm__intercept_scaling', 'm__l1_ratio', 'm__max_iter', 'm__multi_class', 'm__n_jobs', 'm__penalty', 'm__random_state', 'm__solver', 'm__tol', 'm__verbose', 'm__warm_start'])"
      ]
     },
     "execution_count": 131,
     "metadata": {},
     "output_type": "execute_result"
    }
   ],
   "source": [
    "pipeline.get_params().keys()"
   ]
  },
  {
   "cell_type": "markdown",
   "id": "fc23444e",
   "metadata": {},
   "source": [
    "### Above results infer that for C=100, the recall score  is  approxiately 0.71. Definitely it is a good improvement from 0.46. "
   ]
  },
  {
   "cell_type": "markdown",
   "id": "5ce97eb2",
   "metadata": {},
   "source": [
    "## Cross_validate RandomForestClassifier Model<a id='cv_rfc'>"
   ]
  },
  {
   "cell_type": "markdown",
   "id": "bd7fd8ad",
   "metadata": {},
   "source": [
    "## Best Parameters for RandomForestClassifier<a id='best_params_rfc'>"
   ]
  },
  {
   "cell_type": "code",
   "execution_count": 133,
   "id": "b817c566",
   "metadata": {},
   "outputs": [
    {
     "name": "stdout",
     "output_type": "stream",
     "text": [
      "Best: 0.174860 using {'max_features': 'sqrt', 'n_estimators': 100}\n"
     ]
    }
   ],
   "source": [
    "modelR = RandomForestClassifier()\n",
    "n_estimators = [100,200,300,1000]\n",
    "max_features = ['sqrt', 'log2']\n",
    "# define grid search\n",
    "grid = dict(n_estimators=n_estimators,max_features=max_features)\n",
    "cvR = StratifiedKFold(n_splits=5, random_state=None, shuffle=False)\n",
    "grid_search = GridSearchCV(estimator=modelR, param_grid=grid, n_jobs=-1, cv=cvR, scoring='recall',error_score=0)\n",
    "grid_result = grid_search.fit(X_train_transformed, y_train)\n",
    "# summarize results\n",
    "print(\"Best: %f using %s\" % (grid_result.best_score_, grid_result.best_params_))\n"
   ]
  },
  {
   "cell_type": "code",
   "execution_count": 134,
   "id": "37fce6e5",
   "metadata": {},
   "outputs": [
    {
     "name": "stdout",
     "output_type": "stream",
     "text": [
      "[0.47206704 0.46368715 0.48603352 0.49441341 0.46648045]\n"
     ]
    }
   ],
   "source": [
    "# define pipeline\n",
    "over = SMOTE(random_state=42)\n",
    "under = RandomUnderSampler(random_state=42)\n",
    "\n",
    "# define evaluation procedure\n",
    "skf = StratifiedKFold(n_splits=5, random_state=None, shuffle=False)\n",
    "rfc_cv = RandomForestClassifier(n_estimators=100, max_depth=None, random_state=0,max_features='sqrt' )\n",
    "steps = [('o', over), ('u', under), ('m', rfc_cv)]\n",
    "pipeline = Pipeline(steps=steps)\n",
    "rfc_scores = cross_val_score(pipeline, X_train_transformed, y_train, cv=skf, scoring=make_scorer(recall_score, average='weighted', labels=[1]))\n",
    "print(f'{rfc_scores}')"
   ]
  },
  {
   "cell_type": "code",
   "execution_count": 135,
   "id": "226f38dc",
   "metadata": {},
   "outputs": [
    {
     "data": {
      "text/plain": [
       "0.476536312849162"
      ]
     },
     "execution_count": 135,
     "metadata": {},
     "output_type": "execute_result"
    }
   ],
   "source": [
    "np.mean(rfc_scores)"
   ]
  },
  {
   "cell_type": "code",
   "execution_count": 136,
   "id": "7d1adede",
   "metadata": {},
   "outputs": [],
   "source": [
    "rfc_model = RandomForestClassifier(n_estimators=100, max_depth=None, random_state=0,max_features='sqrt' )"
   ]
  },
  {
   "cell_type": "code",
   "execution_count": 137,
   "id": "2f5620f5",
   "metadata": {},
   "outputs": [],
   "source": [
    "steps = [('o', over), ('u', under), ('m', rfc_model)]\n",
    "rfc_pipeline = Pipeline(steps=steps)\n"
   ]
  },
  {
   "cell_type": "code",
   "execution_count": 138,
   "id": "b5d4707a",
   "metadata": {
    "scrolled": true
   },
   "outputs": [
    {
     "data": {
      "text/plain": [
       "dict_keys(['memory', 'steps', 'verbose', 'o', 'u', 'm', 'o__k_neighbors', 'o__n_jobs', 'o__random_state', 'o__sampling_strategy', 'u__random_state', 'u__replacement', 'u__sampling_strategy', 'm__bootstrap', 'm__ccp_alpha', 'm__class_weight', 'm__criterion', 'm__max_depth', 'm__max_features', 'm__max_leaf_nodes', 'm__max_samples', 'm__min_impurity_decrease', 'm__min_samples_leaf', 'm__min_samples_split', 'm__min_weight_fraction_leaf', 'm__n_estimators', 'm__n_jobs', 'm__oob_score', 'm__random_state', 'm__verbose', 'm__warm_start'])"
      ]
     },
     "execution_count": 138,
     "metadata": {},
     "output_type": "execute_result"
    }
   ],
   "source": [
    "rfc_pipeline.get_params().keys()"
   ]
  },
  {
   "cell_type": "code",
   "execution_count": 139,
   "id": "e44bdfe3",
   "metadata": {},
   "outputs": [
    {
     "data": {
      "text/plain": [
       "Pipeline(steps=[('o', SMOTE(random_state=42)),\n",
       "                ('u', RandomUnderSampler(random_state=42)),\n",
       "                ('m',\n",
       "                 RandomForestClassifier(max_features='sqrt', random_state=0))])"
      ]
     },
     "execution_count": 139,
     "metadata": {},
     "output_type": "execute_result"
    }
   ],
   "source": [
    "\n",
    "rfc_pipeline.fit(X_train_transformed, y_train)"
   ]
  },
  {
   "cell_type": "code",
   "execution_count": 140,
   "id": "e63f562b",
   "metadata": {},
   "outputs": [],
   "source": [
    "y_te_pred = rfc_pipeline.predict(X_test_transformed)"
   ]
  },
  {
   "cell_type": "code",
   "execution_count": 141,
   "id": "5f7835d2",
   "metadata": {},
   "outputs": [
    {
     "name": "stdout",
     "output_type": "stream",
     "text": [
      "              precision    recall  f1-score   support\n",
      "\n",
      "           0       0.94      0.98      0.96      3492\n",
      "           1       0.73      0.52      0.61       448\n",
      "\n",
      "    accuracy                           0.92      3940\n",
      "   macro avg       0.83      0.75      0.78      3940\n",
      "weighted avg       0.92      0.92      0.92      3940\n",
      "\n"
     ]
    }
   ],
   "source": [
    "print(classification_report(y_test, y_te_pred))"
   ]
  },
  {
   "cell_type": "markdown",
   "id": "fb8bdeb5",
   "metadata": {},
   "source": [
    "## Finding parameters for AdaBoost Classifier Model <a id='best_params_ada'>"
   ]
  },
  {
   "cell_type": "code",
   "execution_count": 142,
   "id": "6f9b647c",
   "metadata": {},
   "outputs": [
    {
     "data": {
      "text/plain": [
       "[<matplotlib.lines.Line2D at 0x296c8c13f40>]"
      ]
     },
     "execution_count": 142,
     "metadata": {},
     "output_type": "execute_result"
    },
    {
     "data": {
      "image/png": "[encoded data removed]",
      "text/plain": [
       "<Figure size 640x480 with 1 Axes>"
      ]
     },
     "metadata": {},
     "output_type": "display_data"
    }
   ],
   "source": [
    "x = list(range(2, 102, 2))\n",
    "y = []\n",
    "\n",
    "for i in x:\n",
    "  adaclf = AdaBoostClassifier(n_estimators=i,\n",
    "                              learning_rate=0.5,\n",
    "                              algorithm='SAMME.R',\n",
    "                              random_state=1)\n",
    "  \n",
    "  adaclf.fit(X_train_transformed, y_train)\n",
    "  adaclf_test_sc = accuracy_score(y_test, adaclf.predict(X_test_transformed))\n",
    "  y.append(adaclf_test_sc)\n",
    "\n",
    "plt.style.use('ggplot')\n",
    "\n",
    "plt.title(\"Effect of n_estimators\", pad=20)\n",
    "plt.xlabel(\"Number of base estimators\")\n",
    "plt.ylabel(\"Test accuracy of AdaBoost\")\n",
    "plt.plot(x, y)"
   ]
  },
  {
   "cell_type": "code",
   "execution_count": 143,
   "id": "bcdc3ff8",
   "metadata": {},
   "outputs": [
    {
     "data": {
      "text/plain": [
       "[<matplotlib.lines.Line2D at 0x296c8e39c70>]"
      ]
     },
     "execution_count": 143,
     "metadata": {},
     "output_type": "execute_result"
    },
    {
     "data": {
      "image/png": "[encoded data removed]",
      "text/plain": [
       "<Figure size 640x480 with 1 Axes>"
      ]
     },
     "metadata": {},
     "output_type": "display_data"
    }
   ],
   "source": [
    "x = [0.1, 0.2, 0.3, 0.4, 0.5, 0.6, 0.7, 0.8, 0.9, 1]\n",
    "y = []\n",
    "\n",
    "for i in x:\n",
    "  adaclf = AdaBoostClassifier(n_estimators=88,\n",
    "                              learning_rate=i,\n",
    "                              algorithm='SAMME.R',\n",
    "                              random_state=1)\n",
    "  \n",
    "  adaclf.fit(X_train_transformed, y_train)\n",
    "  adaclf_test_sc = accuracy_score(y_test, adaclf.predict(X_test_transformed))\n",
    "  y.append(adaclf_test_sc)\n",
    "\n",
    "plt.title(\"Effect of learning_rate\", pad=20)\n",
    "plt.xlabel(\"Learning rate\")\n",
    "plt.ylabel(\"Test accuracy of AdaBoost\")\n",
    "plt.plot(x, y)"
   ]
  },
  {
   "cell_type": "markdown",
   "id": "b03d94ab",
   "metadata": {},
   "source": [
    "### Based on the above, the Best Parameters for AdaBoost Classifier are: learning_rate:0.8 and n_estimator = approximately 90"
   ]
  },
  {
   "cell_type": "markdown",
   "id": "8ccd9c07",
   "metadata": {},
   "source": [
    "## Cross_validate with AdaBoost Classifier<a id='cv_ada'>"
   ]
  },
  {
   "cell_type": "code",
   "execution_count": 144,
   "id": "f9b59f1a",
   "metadata": {},
   "outputs": [
    {
     "name": "stdout",
     "output_type": "stream",
     "text": [
      "[0.72346369 0.72346369 0.7150838  0.7122905  0.70949721]\n"
     ]
    }
   ],
   "source": [
    "# define pipeline\n",
    "over = SMOTE(random_state=42)\n",
    "under = RandomUnderSampler(random_state=42)\n",
    "\n",
    "# define evaluation procedure\n",
    "skf = StratifiedKFold(n_splits=5, random_state=None, shuffle=False)\n",
    "ada_cv = AdaBoostClassifier(algorithm='SAMME.R',n_estimators=90, learning_rate=0.8)\n",
    "steps = [('o', over), ('u', under), ('m', ada_cv)]\n",
    "pipeline = Pipeline(steps=steps)\n",
    "ada_scores = cross_val_score(pipeline, X_train_transformed, y_train, cv=skf, scoring=make_scorer(recall_score, average='weighted', labels=[1]))\n",
    "print(f'{ada_scores}')"
   ]
  },
  {
   "cell_type": "code",
   "execution_count": 145,
   "id": "93fe20c4",
   "metadata": {},
   "outputs": [
    {
     "data": {
      "text/plain": [
       "0.716759776536313"
      ]
     },
     "execution_count": 145,
     "metadata": {},
     "output_type": "execute_result"
    }
   ],
   "source": [
    "np.mean(ada_scores)"
   ]
  },
  {
   "cell_type": "code",
   "execution_count": 146,
   "id": "cc2db208",
   "metadata": {},
   "outputs": [],
   "source": [
    "ada_model = AdaBoostClassifier(algorithm='SAMME.R',n_estimators=90, learning_rate=0.8)"
   ]
  },
  {
   "cell_type": "code",
   "execution_count": 147,
   "id": "2803d378",
   "metadata": {},
   "outputs": [],
   "source": [
    "steps = [('o', over), ('u', under), ('m', ada_model)]\n",
    "ada_pipeline = Pipeline(steps=steps)\n"
   ]
  },
  {
   "cell_type": "code",
   "execution_count": 148,
   "id": "f82427ea",
   "metadata": {},
   "outputs": [
    {
     "data": {
      "text/plain": [
       "dict_keys(['memory', 'steps', 'verbose', 'o', 'u', 'm', 'o__k_neighbors', 'o__n_jobs', 'o__random_state', 'o__sampling_strategy', 'u__random_state', 'u__replacement', 'u__sampling_strategy', 'm__algorithm', 'm__base_estimator', 'm__learning_rate', 'm__n_estimators', 'm__random_state'])"
      ]
     },
     "execution_count": 148,
     "metadata": {},
     "output_type": "execute_result"
    }
   ],
   "source": [
    "ada_pipeline.get_params().keys()"
   ]
  },
  {
   "cell_type": "code",
   "execution_count": 149,
   "id": "f3a5dee9",
   "metadata": {},
   "outputs": [
    {
     "data": {
      "text/plain": [
       "Pipeline(steps=[('o', SMOTE(random_state=42)),\n",
       "                ('u', RandomUnderSampler(random_state=42)),\n",
       "                ('m', AdaBoostClassifier(learning_rate=0.8, n_estimators=90))])"
      ]
     },
     "execution_count": 149,
     "metadata": {},
     "output_type": "execute_result"
    }
   ],
   "source": [
    "ada_pipeline.fit(X_train_transformed, y_train)"
   ]
  },
  {
   "cell_type": "code",
   "execution_count": 150,
   "id": "1c2e39e1",
   "metadata": {},
   "outputs": [],
   "source": [
    "\n",
    "y_te_pred = ada_pipeline.predict(X_test_transformed)"
   ]
  },
  {
   "cell_type": "code",
   "execution_count": 151,
   "id": "668e2d08",
   "metadata": {},
   "outputs": [
    {
     "name": "stdout",
     "output_type": "stream",
     "text": [
      "              precision    recall  f1-score   support\n",
      "\n",
      "           0       0.97      0.90      0.93      3492\n",
      "           1       0.50      0.79      0.61       448\n",
      "\n",
      "    accuracy                           0.89      3940\n",
      "   macro avg       0.73      0.84      0.77      3940\n",
      "weighted avg       0.92      0.89      0.90      3940\n",
      "\n"
     ]
    }
   ],
   "source": [
    "print(classification_report(y_test, y_te_pred))"
   ]
  },
  {
   "cell_type": "markdown",
   "id": "5b1e0637",
   "metadata": {},
   "source": [
    "## Cross validate with XGBOOST<a id='corss_validate_xgb'>"
   ]
  },
  {
   "cell_type": "code",
   "execution_count": 157,
   "id": "aecda67f",
   "metadata": {},
   "outputs": [
    {
     "name": "stdout",
     "output_type": "stream",
     "text": [
      "[0.65642458 0.62849162 0.6396648  0.6452514  0.59497207]\n"
     ]
    }
   ],
   "source": [
    "# define pipeline\n",
    "over = SMOTE(random_state=42)\n",
    "under = RandomUnderSampler(random_state=42)\n",
    "\n",
    "# define evaluation procedure\n",
    "skf = StratifiedKFold(n_splits=5, random_state=None, shuffle=False)\n",
    "xgbcv = xgb.XGBClassifier(objective='binary:logistic',\n",
    "                          booster='gbtree',\n",
    "                          eval_metric='logloss',\n",
    "                          tree_method='hist',\n",
    "                          grow_policy='lossguide',\n",
    "                          use_label_encoder=False)\n",
    "steps = [('o', over), ('u', under), ('m', xgbcv)]\n",
    "pipeline = Pipeline(steps=steps)\n",
    "xgb_scores = cross_val_score(pipeline, X_train_transformed, y_train, cv=skf, scoring=make_scorer(recall_score, average='weighted', labels=[1]))\n",
    "print(f'{xgb_scores}')"
   ]
  },
  {
   "cell_type": "code",
   "execution_count": 158,
   "id": "1972ee43",
   "metadata": {},
   "outputs": [
    {
     "data": {
      "text/plain": [
       "0.6329608938547485"
      ]
     },
     "execution_count": 158,
     "metadata": {},
     "output_type": "execute_result"
    }
   ],
   "source": [
    "np.mean(xgb_scores)"
   ]
  },
  {
   "cell_type": "code",
   "execution_count": 165,
   "id": "28df619d",
   "metadata": {},
   "outputs": [],
   "source": [
    "xgb_model = xgb.XGBClassifier(eval_metric='logloss')"
   ]
  },
  {
   "cell_type": "code",
   "execution_count": 166,
   "id": "37415dcf",
   "metadata": {},
   "outputs": [],
   "source": [
    "steps = [('o', over), ('u', under), ('m', xgb_model)]\n",
    "xgb_pipeline = Pipeline(steps=steps)"
   ]
  },
  {
   "cell_type": "code",
   "execution_count": 167,
   "id": "607a404b",
   "metadata": {},
   "outputs": [
    {
     "data": {
      "text/plain": [
       "dict_keys(['memory', 'steps', 'verbose', 'o', 'u', 'm', 'o__k_neighbors', 'o__n_jobs', 'o__random_state', 'o__sampling_strategy', 'u__random_state', 'u__replacement', 'u__sampling_strategy', 'm__objective', 'm__use_label_encoder', 'm__base_score', 'm__booster', 'm__colsample_bylevel', 'm__colsample_bynode', 'm__colsample_bytree', 'm__enable_categorical', 'm__gamma', 'm__gpu_id', 'm__importance_type', 'm__interaction_constraints', 'm__learning_rate', 'm__max_delta_step', 'm__max_depth', 'm__min_child_weight', 'm__missing', 'm__monotone_constraints', 'm__n_estimators', 'm__n_jobs', 'm__num_parallel_tree', 'm__predictor', 'm__random_state', 'm__reg_alpha', 'm__reg_lambda', 'm__scale_pos_weight', 'm__subsample', 'm__tree_method', 'm__validate_parameters', 'm__verbosity', 'm__eval_metric'])"
      ]
     },
     "execution_count": 167,
     "metadata": {},
     "output_type": "execute_result"
    }
   ],
   "source": [
    "xgb_pipeline.get_params().keys()"
   ]
  },
  {
   "cell_type": "code",
   "execution_count": 168,
   "id": "2799a342",
   "metadata": {},
   "outputs": [
    {
     "data": {
      "text/plain": [
       "Pipeline(steps=[('o', SMOTE(random_state=42)),\n",
       "                ('u', RandomUnderSampler(random_state=42)),\n",
       "                ('m',\n",
       "                 XGBClassifier(base_score=0.5, booster='gbtree',\n",
       "                               colsample_bylevel=1, colsample_bynode=1,\n",
       "                               colsample_bytree=1, enable_categorical=False,\n",
       "                               eval_metric='logloss', gamma=0, gpu_id=-1,\n",
       "                               importance_type=None, interaction_constraints='',\n",
       "                               learning_rate=0.300000012, max_delta_step=0,\n",
       "                               max_depth=6, min_child_weight=1, missing=nan,\n",
       "                               monotone_constraints='()', n_estimators=100,\n",
       "                               n_jobs=20, num_parallel_tree=1, predictor='auto',\n",
       "                               random_state=0, reg_alpha=0, reg_lambda=1,\n",
       "                               scale_pos_weight=1, subsample=1,\n",
       "                               tree_method='exact', validate_parameters=1,\n",
       "                               verbosity=None))])"
      ]
     },
     "execution_count": 168,
     "metadata": {},
     "output_type": "execute_result"
    }
   ],
   "source": [
    "xgb_pipeline.fit(X_train_transformed, y_train)"
   ]
  },
  {
   "cell_type": "code",
   "execution_count": 169,
   "id": "1ed0d3a3",
   "metadata": {},
   "outputs": [],
   "source": [
    "y_xgte_pred = xgb_pipeline.predict(X_test_transformed)"
   ]
  },
  {
   "cell_type": "code",
   "execution_count": 170,
   "id": "d0ccbc03",
   "metadata": {},
   "outputs": [
    {
     "name": "stdout",
     "output_type": "stream",
     "text": [
      "              precision    recall  f1-score   support\n",
      "\n",
      "           0       0.96      0.95      0.96      3492\n",
      "           1       0.66      0.71      0.68       448\n",
      "\n",
      "    accuracy                           0.93      3940\n",
      "   macro avg       0.81      0.83      0.82      3940\n",
      "weighted avg       0.93      0.93      0.93      3940\n",
      "\n"
     ]
    }
   ],
   "source": [
    "print(classification_report(y_test, y_xgte_pred))"
   ]
  },
  {
   "cell_type": "markdown",
   "id": "3271df05",
   "metadata": {},
   "source": [
    "## Final Recall scores for test set after hyperparameter tuning<a id='final_recalls_all'>"
   ]
  },
  {
   "cell_type": "markdown",
   "id": "f29280ae",
   "metadata": {},
   "source": [
    "<table>\n",
    "    <tr>\n",
    "    <th>Models</th><th>Recall Score(basemodels)</th><th>Recall(hypertuned)</th><th>Pipeline Steps</th><th>Best Parameters</th>\n",
    "    </tr>\n",
    "    <tr>\n",
    "        <td>LogisticRegression</td><td>0.46</td><td>0.70</td><td nowrap>Pipeline(steps=[('o', SMOTE(random_state=42)),\n",
    "                ('u', RandomUnderSampler(random_state=42)),\n",
    "                ('m',\n",
    "                 LogisticRegression(C=100, max_iter=3000, solver='newton-cg'))])\n",
    "</td><td nowrap>{'C': 100, 'penalty': 'l2', 'solver': 'newton-cg'}</td>\n",
    "    </tr>\n",
    "    <tr>\n",
    "        <td>RandomForestClassifier</td><td>0.18</td><td>0.52</td><td nowrap>Pipeline(steps=[('o', SMOTE(random_state=42)),\n",
    "                ('u', RandomUnderSampler(random_state=42)),\n",
    "                ('m',\n",
    "                 RandomForestClassifier(max_features='sqrt', n_estimators=1000,\n",
    "                                        random_state=0))])\n",
    "</td><td nowrap>{'max_features': 'sqrt', 'n_estimators': 1000}</td>\n",
    "    </tr>\n",
    "    <tr>\n",
    "        <td>AdaBoostClassifier</td><td>0.50</td><td>0.79</td><td nowrap>Pipeline(steps=[('o', SMOTE(random_state=42)),\n",
    "                ('u', RandomUnderSampler(random_state=42)),\n",
    "                ('m', AdaBoostClassifier(learning_rate=0.8, n_estimators=88))])</td>\n",
    "<td nowrap>{‘n_estimators': 88, 'learning_rate': 0.8}</td>\n",
    "    </tr>\n",
    "    <tr>\n",
    "        <td>XGBoostClassifier</td><td>0.52</td><td>0.71</td><td nowrap>Pipeline(steps=[('o', SMOTE(random_state=42)),\n",
    "                ('u', RandomUnderSampler(random_state=42)),\n",
    "                ('m', XGBoostClassifier(learning_rate=0.3, n_estimators=100))])</td>\n",
    "<td nowrap>{‘n_estimators': 100, 'learning_rate': 0.3}</td>\n",
    "    </tr>\n",
    "</table>"
   ]
  },
  {
   "cell_type": "markdown",
   "id": "4b4beb41",
   "metadata": {},
   "source": [
    "## Summary<a id='summary_final'>"
   ]
  },
  {
   "cell_type": "markdown",
   "id": "2ede0a78",
   "metadata": {},
   "source": [
    "Used four algorithms to increase the performance of the predictions for the minority class. After hyperparameter tuning, the AdaBoost Classifier did the best. I feel I should have invested more time to find the best parameters for XGBoostClassifier. Overall we see the Boosting algorithms perform better than bagging.\n",
    "\n",
    "Our goal was to improve the recall score so we can count true positives(for our case class 1) in a correct manner out of all the actual positive values. Since there was more positive reviews, we wanted our model to predict the negative reviews as accurately as possible so we can help the restaurants to improve their business. The imbalance in the target was addresse by using the cobination of SMOTE(over sampling technique) and RandomUnderSampling technique.\n",
    "\n",
    "Feature importance was implemented for logisticRegression, randomForest andused SHAP for XGBoost. Attempted SHAp for AdaBoost but it was giving lot of errors. "
   ]
  },
  {
   "cell_type": "code",
   "execution_count": null,
   "id": "50c8a01b",
   "metadata": {},
   "outputs": [],
   "source": []
  }
 ],
 "metadata": {
  "kernelspec": {
   "display_name": "Python 3 (ipykernel)",
   "language": "python",
   "name": "python3"
  },
  "language_info": {
   "codemirror_mode": {
    "name": "ipython",
    "version": 3
   },
   "file_extension": ".py",
   "mimetype": "text/x-python",
   "name": "python",
   "nbconvert_exporter": "python",
   "pygments_lexer": "ipython3",
   "version": "3.9.13"
  }
 },
 "nbformat": 4,
 "nbformat_minor": 5
}
