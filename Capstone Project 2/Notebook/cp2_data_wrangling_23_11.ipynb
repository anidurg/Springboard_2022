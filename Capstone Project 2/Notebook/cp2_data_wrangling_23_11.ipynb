{
 "cells": [
  {
   "cell_type": "markdown",
   "id": "19c30330",
   "metadata": {},
   "source": [
    "# Data wrangling<a id='Data_wrangling'></a>"
   ]
  },
  {
   "cell_type": "markdown",
   "id": "ab8eb4b4",
   "metadata": {},
   "source": [
    "## Contents<a id='Contents'></a>\n",
    "* [Data wrangling](#Data_wrangling)\n",
    "  * [Contents](#Contents)\n",
    "  * [Introduction](#Introduction)\n",
    "    * [Recap Of Data Science Problem](#Recap_Of_Data_Science_Problem)\n",
    "    \n",
    "  * [Imports](#Imports)\n",
    "  * [Objectives](#Objectives)\n",
    "  * [Load The Yelp Business Data](#Load_The_Yelp_Business_Data)\n",
    "      * [City Of Interest](#City_Of_Interest)\n",
    "  * [Load The Yelp Reviews Data](#Load_The_Yelp_Reviews_Data)\n",
    "  * [Merge the two datasets](#Merge_the_two_datasets)\n",
    "  * [Inspect the merged dataset](#Inspect_the_merged_dataset)\n",
    "      * [Dataset Info for null values](#Dataset_info_for_null_values)\n",
    "      * [Check for duplicated values](#Check_for_duplicated_values)\n",
    "      * [Keeping the Five Years Data](#Keeping_the_Five_Years_Data)\n",
    "      * [Distribution of Stars and Reviews](#Distribution_of_stars_reviews)\n",
    "  * [Save data](#Save_data)\n",
    "  * [Summary](#Summary)\n",
    "    \n",
    "      \n"
   ]
  },
  {
   "cell_type": "markdown",
   "id": "c67aeb19",
   "metadata": {},
   "source": [
    "## Introduction<a id='Introduction'></a>"
   ]
  },
  {
   "cell_type": "markdown",
   "id": "4179dd4a",
   "metadata": {},
   "source": [
    "This step focuses on collecting the data, organizing it, and making sure it's well defined. Some data cleaning will be done at this stage."
   ]
  },
  {
   "cell_type": "markdown",
   "id": "a0462581",
   "metadata": {},
   "source": [
    "### Recap Of Data Science Problem<a id='Recap_Of_Data_Science_Problem'></a>"
   ]
  },
  {
   "cell_type": "markdown",
   "id": "93692a82",
   "metadata": {},
   "source": [
    "The purpose of this data science project is to come up with something meaningful for the people who frequently eats out trying different restaurants and my project aims try to build a recommendation model based on the restaurant location and yelp reviews. "
   ]
  },
  {
   "cell_type": "markdown",
   "id": "d5a70c8e",
   "metadata": {},
   "source": [
    "### Imports<a id='Imports'></a>"
   ]
  },
  {
   "cell_type": "code",
   "execution_count": 8,
   "id": "da4e9b0f",
   "metadata": {},
   "outputs": [],
   "source": [
    "import pandas as pd\n",
    "import numpy as np\n",
    "import matplotlib.pyplot as plt\n",
    "%matplotlib inline\n",
    "import seaborn as sns"
   ]
  },
  {
   "cell_type": "markdown",
   "id": "0c9fccd6",
   "metadata": {},
   "source": [
    "### Objectives<a id='Objectives'></a>"
   ]
  },
  {
   "cell_type": "markdown",
   "id": "1b30501b",
   "metadata": {},
   "source": [
    "Here are some fundamental questions I jump in to analyze and explore.\n",
    "\n",
    "* Do I have the data to tackle the desired question?\n",
    "* what is the target value?\n",
    "* Do I have the potentially useful features?\n",
    "* Do I have any fundamental issues with the data?"
   ]
  },
  {
   "cell_type": "markdown",
   "id": "37c2d927",
   "metadata": {},
   "source": [
    "### Load The Yelp Business Data<a id = 'Load_The_Yelp_Business_Data'></a>"
   ]
  },
  {
   "cell_type": "code",
   "execution_count": 10,
   "id": "e38bfa1f",
   "metadata": {},
   "outputs": [],
   "source": [
    "yelp_b_df = pd.read_json('C:/Users/ad823/Downloads/yelp_dataset/yelp_academic_dataset_business.json',lines=True)"
   ]
  },
  {
   "cell_type": "markdown",
   "id": "781968ae",
   "metadata": {},
   "source": [
    "Getting the basic information of this dataset"
   ]
  },
  {
   "cell_type": "code",
   "execution_count": 11,
   "id": "11920a66",
   "metadata": {},
   "outputs": [
    {
     "data": {
      "text/plain": [
       "(150346, 14)"
      ]
     },
     "execution_count": 11,
     "metadata": {},
     "output_type": "execute_result"
    }
   ],
   "source": [
    "yelp_b_df.shape"
   ]
  },
  {
   "cell_type": "code",
   "execution_count": 12,
   "id": "e88ffa0d",
   "metadata": {},
   "outputs": [
    {
     "name": "stdout",
     "output_type": "stream",
     "text": [
      "<class 'pandas.core.frame.DataFrame'>\n",
      "RangeIndex: 150346 entries, 0 to 150345\n",
      "Data columns (total 14 columns):\n",
      " #   Column        Non-Null Count   Dtype  \n",
      "---  ------        --------------   -----  \n",
      " 0   business_id   150346 non-null  object \n",
      " 1   name          150346 non-null  object \n",
      " 2   address       150346 non-null  object \n",
      " 3   city          150346 non-null  object \n",
      " 4   state         150346 non-null  object \n",
      " 5   postal_code   150346 non-null  object \n",
      " 6   latitude      150346 non-null  float64\n",
      " 7   longitude     150346 non-null  float64\n",
      " 8   stars         150346 non-null  float64\n",
      " 9   review_count  150346 non-null  int64  \n",
      " 10  is_open       150346 non-null  int64  \n",
      " 11  attributes    136602 non-null  object \n",
      " 12  categories    150243 non-null  object \n",
      " 13  hours         127123 non-null  object \n",
      "dtypes: float64(3), int64(2), object(9)\n",
      "memory usage: 16.1+ MB\n"
     ]
    }
   ],
   "source": [
    "yelp_b_df.info()"
   ]
  },
  {
   "cell_type": "code",
   "execution_count": 13,
   "id": "1905db36",
   "metadata": {},
   "outputs": [
    {
     "data": {
      "text/plain": [
       "Index(['business_id', 'name', 'address', 'city', 'state', 'postal_code',\n",
       "       'latitude', 'longitude', 'stars', 'review_count', 'is_open',\n",
       "       'attributes', 'categories', 'hours'],\n",
       "      dtype='object')"
      ]
     },
     "execution_count": 13,
     "metadata": {},
     "output_type": "execute_result"
    }
   ],
   "source": [
    "yelp_b_df.columns"
   ]
  },
  {
   "cell_type": "code",
   "execution_count": 14,
   "id": "f1a1dc98",
   "metadata": {},
   "outputs": [
    {
     "data": {
      "text/html": [
       "<div>\n",
       "<style scoped>\n",
       "    .dataframe tbody tr th:only-of-type {\n",
       "        vertical-align: middle;\n",
       "    }\n",
       "\n",
       "    .dataframe tbody tr th {\n",
       "        vertical-align: top;\n",
       "    }\n",
       "\n",
       "    .dataframe thead th {\n",
       "        text-align: right;\n",
       "    }\n",
       "</style>\n",
       "<table border=\"1\" class=\"dataframe\">\n",
       "  <thead>\n",
       "    <tr style=\"text-align: right;\">\n",
       "      <th></th>\n",
       "      <th>business_id</th>\n",
       "      <th>name</th>\n",
       "      <th>address</th>\n",
       "      <th>city</th>\n",
       "      <th>state</th>\n",
       "      <th>postal_code</th>\n",
       "      <th>latitude</th>\n",
       "      <th>longitude</th>\n",
       "      <th>stars</th>\n",
       "      <th>review_count</th>\n",
       "      <th>is_open</th>\n",
       "      <th>attributes</th>\n",
       "      <th>categories</th>\n",
       "      <th>hours</th>\n",
       "    </tr>\n",
       "  </thead>\n",
       "  <tbody>\n",
       "    <tr>\n",
       "      <th>0</th>\n",
       "      <td>Pns2l4eNsfO8kk83dixA6A</td>\n",
       "      <td>Abby Rappoport, LAC, CMQ</td>\n",
       "      <td>1616 Chapala St, Ste 2</td>\n",
       "      <td>Santa Barbara</td>\n",
       "      <td>CA</td>\n",
       "      <td>93101</td>\n",
       "      <td>34.426679</td>\n",
       "      <td>-119.711197</td>\n",
       "      <td>5.0</td>\n",
       "      <td>7</td>\n",
       "      <td>0</td>\n",
       "      <td>{'ByAppointmentOnly': 'True'}</td>\n",
       "      <td>Doctors, Traditional Chinese Medicine, Naturop...</td>\n",
       "      <td>None</td>\n",
       "    </tr>\n",
       "    <tr>\n",
       "      <th>1</th>\n",
       "      <td>mpf3x-BjTdTEA3yCZrAYPw</td>\n",
       "      <td>The UPS Store</td>\n",
       "      <td>87 Grasso Plaza Shopping Center</td>\n",
       "      <td>Affton</td>\n",
       "      <td>MO</td>\n",
       "      <td>63123</td>\n",
       "      <td>38.551126</td>\n",
       "      <td>-90.335695</td>\n",
       "      <td>3.0</td>\n",
       "      <td>15</td>\n",
       "      <td>1</td>\n",
       "      <td>{'BusinessAcceptsCreditCards': 'True'}</td>\n",
       "      <td>Shipping Centers, Local Services, Notaries, Ma...</td>\n",
       "      <td>{'Monday': '0:0-0:0', 'Tuesday': '8:0-18:30', ...</td>\n",
       "    </tr>\n",
       "    <tr>\n",
       "      <th>2</th>\n",
       "      <td>tUFrWirKiKi_TAnsVWINQQ</td>\n",
       "      <td>Target</td>\n",
       "      <td>5255 E Broadway Blvd</td>\n",
       "      <td>Tucson</td>\n",
       "      <td>AZ</td>\n",
       "      <td>85711</td>\n",
       "      <td>32.223236</td>\n",
       "      <td>-110.880452</td>\n",
       "      <td>3.5</td>\n",
       "      <td>22</td>\n",
       "      <td>0</td>\n",
       "      <td>{'BikeParking': 'True', 'BusinessAcceptsCredit...</td>\n",
       "      <td>Department Stores, Shopping, Fashion, Home &amp; G...</td>\n",
       "      <td>{'Monday': '8:0-22:0', 'Tuesday': '8:0-22:0', ...</td>\n",
       "    </tr>\n",
       "    <tr>\n",
       "      <th>3</th>\n",
       "      <td>MTSW4McQd7CbVtyjqoe9mw</td>\n",
       "      <td>St Honore Pastries</td>\n",
       "      <td>935 Race St</td>\n",
       "      <td>Philadelphia</td>\n",
       "      <td>PA</td>\n",
       "      <td>19107</td>\n",
       "      <td>39.955505</td>\n",
       "      <td>-75.155564</td>\n",
       "      <td>4.0</td>\n",
       "      <td>80</td>\n",
       "      <td>1</td>\n",
       "      <td>{'RestaurantsDelivery': 'False', 'OutdoorSeati...</td>\n",
       "      <td>Restaurants, Food, Bubble Tea, Coffee &amp; Tea, B...</td>\n",
       "      <td>{'Monday': '7:0-20:0', 'Tuesday': '7:0-20:0', ...</td>\n",
       "    </tr>\n",
       "    <tr>\n",
       "      <th>4</th>\n",
       "      <td>mWMc6_wTdE0EUBKIGXDVfA</td>\n",
       "      <td>Perkiomen Valley Brewery</td>\n",
       "      <td>101 Walnut St</td>\n",
       "      <td>Green Lane</td>\n",
       "      <td>PA</td>\n",
       "      <td>18054</td>\n",
       "      <td>40.338183</td>\n",
       "      <td>-75.471659</td>\n",
       "      <td>4.5</td>\n",
       "      <td>13</td>\n",
       "      <td>1</td>\n",
       "      <td>{'BusinessAcceptsCreditCards': 'True', 'Wheelc...</td>\n",
       "      <td>Brewpubs, Breweries, Food</td>\n",
       "      <td>{'Wednesday': '14:0-22:0', 'Thursday': '16:0-2...</td>\n",
       "    </tr>\n",
       "  </tbody>\n",
       "</table>\n",
       "</div>"
      ],
      "text/plain": [
       "              business_id                      name  \\\n",
       "0  Pns2l4eNsfO8kk83dixA6A  Abby Rappoport, LAC, CMQ   \n",
       "1  mpf3x-BjTdTEA3yCZrAYPw             The UPS Store   \n",
       "2  tUFrWirKiKi_TAnsVWINQQ                    Target   \n",
       "3  MTSW4McQd7CbVtyjqoe9mw        St Honore Pastries   \n",
       "4  mWMc6_wTdE0EUBKIGXDVfA  Perkiomen Valley Brewery   \n",
       "\n",
       "                           address           city state postal_code  \\\n",
       "0           1616 Chapala St, Ste 2  Santa Barbara    CA       93101   \n",
       "1  87 Grasso Plaza Shopping Center         Affton    MO       63123   \n",
       "2             5255 E Broadway Blvd         Tucson    AZ       85711   \n",
       "3                      935 Race St   Philadelphia    PA       19107   \n",
       "4                    101 Walnut St     Green Lane    PA       18054   \n",
       "\n",
       "    latitude   longitude  stars  review_count  is_open  \\\n",
       "0  34.426679 -119.711197    5.0             7        0   \n",
       "1  38.551126  -90.335695    3.0            15        1   \n",
       "2  32.223236 -110.880452    3.5            22        0   \n",
       "3  39.955505  -75.155564    4.0            80        1   \n",
       "4  40.338183  -75.471659    4.5            13        1   \n",
       "\n",
       "                                          attributes  \\\n",
       "0                      {'ByAppointmentOnly': 'True'}   \n",
       "1             {'BusinessAcceptsCreditCards': 'True'}   \n",
       "2  {'BikeParking': 'True', 'BusinessAcceptsCredit...   \n",
       "3  {'RestaurantsDelivery': 'False', 'OutdoorSeati...   \n",
       "4  {'BusinessAcceptsCreditCards': 'True', 'Wheelc...   \n",
       "\n",
       "                                          categories  \\\n",
       "0  Doctors, Traditional Chinese Medicine, Naturop...   \n",
       "1  Shipping Centers, Local Services, Notaries, Ma...   \n",
       "2  Department Stores, Shopping, Fashion, Home & G...   \n",
       "3  Restaurants, Food, Bubble Tea, Coffee & Tea, B...   \n",
       "4                          Brewpubs, Breweries, Food   \n",
       "\n",
       "                                               hours  \n",
       "0                                               None  \n",
       "1  {'Monday': '0:0-0:0', 'Tuesday': '8:0-18:30', ...  \n",
       "2  {'Monday': '8:0-22:0', 'Tuesday': '8:0-22:0', ...  \n",
       "3  {'Monday': '7:0-20:0', 'Tuesday': '7:0-20:0', ...  \n",
       "4  {'Wednesday': '14:0-22:0', 'Thursday': '16:0-2...  "
      ]
     },
     "execution_count": 14,
     "metadata": {},
     "output_type": "execute_result"
    }
   ],
   "source": [
    "yelp_b_df.head()"
   ]
  },
  {
   "cell_type": "markdown",
   "id": "b8bef319",
   "metadata": {},
   "source": [
    "Based on the link [here](https://idsthu.github.io/about.html), \n",
    "is_open has 1 and 0 . value  0 = closed AND  value 1 =  open.# 1 = open, 0 = closed\n"
   ]
  },
  {
   "cell_type": "code",
   "execution_count": 15,
   "id": "552b00dc",
   "metadata": {},
   "outputs": [],
   "source": [
    "#since the dataset haas lot of records, I would like to narrow it down by keeping only open businesses\n",
    "yelp_b_df = yelp_b_df[yelp_b_df['is_open']==1]"
   ]
  },
  {
   "cell_type": "code",
   "execution_count": 16,
   "id": "7de85fb9",
   "metadata": {},
   "outputs": [
    {
     "data": {
      "text/plain": [
       "(119698, 14)"
      ]
     },
     "execution_count": 16,
     "metadata": {},
     "output_type": "execute_result"
    }
   ],
   "source": [
    "yelp_b_df.shape"
   ]
  },
  {
   "cell_type": "markdown",
   "id": "e8d4fd7e",
   "metadata": {},
   "source": [
    "This shows that about 30K businesses are closed now. I am disregarding those closed businesses"
   ]
  },
  {
   "cell_type": "code",
   "execution_count": 17,
   "id": "7913d764",
   "metadata": {},
   "outputs": [],
   "source": [
    "#In categories, I would like to choose those which contains  restaurants\n",
    "business_restaurants = yelp_b_df[yelp_b_df['categories'].str.contains(\n",
    "              'Restaurants',\n",
    "              case=False, na=False)]"
   ]
  },
  {
   "cell_type": "code",
   "execution_count": 18,
   "id": "e86a9c3e",
   "metadata": {},
   "outputs": [
    {
     "data": {
      "text/plain": [
       "(34987, 14)"
      ]
     },
     "execution_count": 18,
     "metadata": {},
     "output_type": "execute_result"
    }
   ],
   "source": [
    "business_restaurants.shape"
   ]
  },
  {
   "cell_type": "code",
   "execution_count": 19,
   "id": "c517276a",
   "metadata": {},
   "outputs": [
    {
     "data": {
      "text/html": [
       "<div>\n",
       "<style scoped>\n",
       "    .dataframe tbody tr th:only-of-type {\n",
       "        vertical-align: middle;\n",
       "    }\n",
       "\n",
       "    .dataframe tbody tr th {\n",
       "        vertical-align: top;\n",
       "    }\n",
       "\n",
       "    .dataframe thead th {\n",
       "        text-align: right;\n",
       "    }\n",
       "</style>\n",
       "<table border=\"1\" class=\"dataframe\">\n",
       "  <thead>\n",
       "    <tr style=\"text-align: right;\">\n",
       "      <th></th>\n",
       "      <th>business_id</th>\n",
       "      <th>name</th>\n",
       "      <th>address</th>\n",
       "      <th>city</th>\n",
       "      <th>state</th>\n",
       "      <th>postal_code</th>\n",
       "      <th>latitude</th>\n",
       "      <th>longitude</th>\n",
       "      <th>stars</th>\n",
       "      <th>review_count</th>\n",
       "      <th>is_open</th>\n",
       "      <th>attributes</th>\n",
       "      <th>categories</th>\n",
       "      <th>hours</th>\n",
       "    </tr>\n",
       "  </thead>\n",
       "  <tbody>\n",
       "    <tr>\n",
       "      <th>3</th>\n",
       "      <td>MTSW4McQd7CbVtyjqoe9mw</td>\n",
       "      <td>St Honore Pastries</td>\n",
       "      <td>935 Race St</td>\n",
       "      <td>Philadelphia</td>\n",
       "      <td>PA</td>\n",
       "      <td>19107</td>\n",
       "      <td>39.955505</td>\n",
       "      <td>-75.155564</td>\n",
       "      <td>4.0</td>\n",
       "      <td>80</td>\n",
       "      <td>1</td>\n",
       "      <td>{'RestaurantsDelivery': 'False', 'OutdoorSeati...</td>\n",
       "      <td>Restaurants, Food, Bubble Tea, Coffee &amp; Tea, B...</td>\n",
       "      <td>{'Monday': '7:0-20:0', 'Tuesday': '7:0-20:0', ...</td>\n",
       "    </tr>\n",
       "    <tr>\n",
       "      <th>5</th>\n",
       "      <td>CF33F8-E6oudUQ46HnavjQ</td>\n",
       "      <td>Sonic Drive-In</td>\n",
       "      <td>615 S Main St</td>\n",
       "      <td>Ashland City</td>\n",
       "      <td>TN</td>\n",
       "      <td>37015</td>\n",
       "      <td>36.269593</td>\n",
       "      <td>-87.058943</td>\n",
       "      <td>2.0</td>\n",
       "      <td>6</td>\n",
       "      <td>1</td>\n",
       "      <td>{'BusinessParking': 'None', 'BusinessAcceptsCr...</td>\n",
       "      <td>Burgers, Fast Food, Sandwiches, Food, Ice Crea...</td>\n",
       "      <td>{'Monday': '0:0-0:0', 'Tuesday': '6:0-22:0', '...</td>\n",
       "    </tr>\n",
       "    <tr>\n",
       "      <th>9</th>\n",
       "      <td>bBDDEgkFA1Otx9Lfe7BZUQ</td>\n",
       "      <td>Sonic Drive-In</td>\n",
       "      <td>2312 Dickerson Pike</td>\n",
       "      <td>Nashville</td>\n",
       "      <td>TN</td>\n",
       "      <td>37207</td>\n",
       "      <td>36.208102</td>\n",
       "      <td>-86.768170</td>\n",
       "      <td>1.5</td>\n",
       "      <td>10</td>\n",
       "      <td>1</td>\n",
       "      <td>{'RestaurantsAttire': ''casual'', 'Restaurants...</td>\n",
       "      <td>Ice Cream &amp; Frozen Yogurt, Fast Food, Burgers,...</td>\n",
       "      <td>{'Monday': '0:0-0:0', 'Tuesday': '6:0-21:0', '...</td>\n",
       "    </tr>\n",
       "    <tr>\n",
       "      <th>11</th>\n",
       "      <td>eEOYSgkmpB90uNA7lDOMRA</td>\n",
       "      <td>Vietnamese Food Truck</td>\n",
       "      <td></td>\n",
       "      <td>Tampa Bay</td>\n",
       "      <td>FL</td>\n",
       "      <td>33602</td>\n",
       "      <td>27.955269</td>\n",
       "      <td>-82.456320</td>\n",
       "      <td>4.0</td>\n",
       "      <td>10</td>\n",
       "      <td>1</td>\n",
       "      <td>{'Alcohol': ''none'', 'OutdoorSeating': 'None'...</td>\n",
       "      <td>Vietnamese, Food, Restaurants, Food Trucks</td>\n",
       "      <td>{'Monday': '11:0-14:0', 'Tuesday': '11:0-14:0'...</td>\n",
       "    </tr>\n",
       "    <tr>\n",
       "      <th>12</th>\n",
       "      <td>il_Ro8jwPlHresjw9EGmBg</td>\n",
       "      <td>Denny's</td>\n",
       "      <td>8901 US 31 S</td>\n",
       "      <td>Indianapolis</td>\n",
       "      <td>IN</td>\n",
       "      <td>46227</td>\n",
       "      <td>39.637133</td>\n",
       "      <td>-86.127217</td>\n",
       "      <td>2.5</td>\n",
       "      <td>28</td>\n",
       "      <td>1</td>\n",
       "      <td>{'RestaurantsReservations': 'False', 'Restaura...</td>\n",
       "      <td>American (Traditional), Restaurants, Diners, B...</td>\n",
       "      <td>{'Monday': '6:0-22:0', 'Tuesday': '6:0-22:0', ...</td>\n",
       "    </tr>\n",
       "  </tbody>\n",
       "</table>\n",
       "</div>"
      ],
      "text/plain": [
       "               business_id                   name              address  \\\n",
       "3   MTSW4McQd7CbVtyjqoe9mw     St Honore Pastries          935 Race St   \n",
       "5   CF33F8-E6oudUQ46HnavjQ         Sonic Drive-In        615 S Main St   \n",
       "9   bBDDEgkFA1Otx9Lfe7BZUQ         Sonic Drive-In  2312 Dickerson Pike   \n",
       "11  eEOYSgkmpB90uNA7lDOMRA  Vietnamese Food Truck                        \n",
       "12  il_Ro8jwPlHresjw9EGmBg                Denny's         8901 US 31 S   \n",
       "\n",
       "            city state postal_code   latitude  longitude  stars  review_count  \\\n",
       "3   Philadelphia    PA       19107  39.955505 -75.155564    4.0            80   \n",
       "5   Ashland City    TN       37015  36.269593 -87.058943    2.0             6   \n",
       "9      Nashville    TN       37207  36.208102 -86.768170    1.5            10   \n",
       "11     Tampa Bay    FL       33602  27.955269 -82.456320    4.0            10   \n",
       "12  Indianapolis    IN       46227  39.637133 -86.127217    2.5            28   \n",
       "\n",
       "    is_open                                         attributes  \\\n",
       "3         1  {'RestaurantsDelivery': 'False', 'OutdoorSeati...   \n",
       "5         1  {'BusinessParking': 'None', 'BusinessAcceptsCr...   \n",
       "9         1  {'RestaurantsAttire': ''casual'', 'Restaurants...   \n",
       "11        1  {'Alcohol': ''none'', 'OutdoorSeating': 'None'...   \n",
       "12        1  {'RestaurantsReservations': 'False', 'Restaura...   \n",
       "\n",
       "                                           categories  \\\n",
       "3   Restaurants, Food, Bubble Tea, Coffee & Tea, B...   \n",
       "5   Burgers, Fast Food, Sandwiches, Food, Ice Crea...   \n",
       "9   Ice Cream & Frozen Yogurt, Fast Food, Burgers,...   \n",
       "11         Vietnamese, Food, Restaurants, Food Trucks   \n",
       "12  American (Traditional), Restaurants, Diners, B...   \n",
       "\n",
       "                                                hours  \n",
       "3   {'Monday': '7:0-20:0', 'Tuesday': '7:0-20:0', ...  \n",
       "5   {'Monday': '0:0-0:0', 'Tuesday': '6:0-22:0', '...  \n",
       "9   {'Monday': '0:0-0:0', 'Tuesday': '6:0-21:0', '...  \n",
       "11  {'Monday': '11:0-14:0', 'Tuesday': '11:0-14:0'...  \n",
       "12  {'Monday': '6:0-22:0', 'Tuesday': '6:0-22:0', ...  "
      ]
     },
     "execution_count": 19,
     "metadata": {},
     "output_type": "execute_result"
    }
   ],
   "source": [
    "business_restaurants.head()"
   ]
  },
  {
   "cell_type": "code",
   "execution_count": 23,
   "id": "f18a7d69",
   "metadata": {},
   "outputs": [
    {
     "data": {
      "text/plain": [
       "city\n",
       "Philadelphia      3525\n",
       "Tampa             1964\n",
       "Indianapolis      1904\n",
       "Nashville         1681\n",
       "Tucson            1639\n",
       "                  ... \n",
       "Santa  Barbara       1\n",
       "Sanatoga             1\n",
       "Gwynedd Valley       1\n",
       "Haddon Twp           1\n",
       "wimauma              1\n",
       "Length: 846, dtype: int64"
      ]
     },
     "execution_count": 23,
     "metadata": {},
     "output_type": "execute_result"
    }
   ],
   "source": [
    "\n",
    "business_restaurants.groupby([\"city\"]).size().sort_values(ascending=False)"
   ]
  },
  {
   "cell_type": "markdown",
   "id": "a5230847",
   "metadata": {},
   "source": [
    "### City Of Interest<a id='City_Of_Interest'></a>"
   ]
  },
  {
   "cell_type": "markdown",
   "id": "8f5657ab",
   "metadata": {},
   "source": [
    "Due to the sheer size of this dataset, I decided to concentrate my efforts on restaurant reviews data in the city of Philadelphia as it had the most number of businesses as compared to the other cities in this dataset"
   ]
  },
  {
   "cell_type": "code",
   "execution_count": 35,
   "id": "edea6e33",
   "metadata": {},
   "outputs": [
    {
     "data": {
      "text/plain": [
       "(3526, 14)"
      ]
     },
     "execution_count": 35,
     "metadata": {},
     "output_type": "execute_result"
    }
   ],
   "source": [
    "business_restaurants[(business_restaurants.city == 'Philadelphia') | (business_restaurants.city == 'philadelphia')].shape"
   ]
  },
  {
   "cell_type": "code",
   "execution_count": 36,
   "id": "08064e26",
   "metadata": {},
   "outputs": [],
   "source": [
    "philly_restaurants = business_restaurants[(business_restaurants.city == 'Philadelphia') | (business_restaurants.city == 'philadelphia')]"
   ]
  },
  {
   "cell_type": "code",
   "execution_count": 37,
   "id": "84ff22d0",
   "metadata": {},
   "outputs": [
    {
     "data": {
      "text/plain": [
       "(3526, 14)"
      ]
     },
     "execution_count": 37,
     "metadata": {},
     "output_type": "execute_result"
    }
   ],
   "source": [
    "philly_restaurants.shape"
   ]
  },
  {
   "cell_type": "code",
   "execution_count": 38,
   "id": "555a2714",
   "metadata": {},
   "outputs": [
    {
     "data": {
      "text/html": [
       "<div>\n",
       "<style scoped>\n",
       "    .dataframe tbody tr th:only-of-type {\n",
       "        vertical-align: middle;\n",
       "    }\n",
       "\n",
       "    .dataframe tbody tr th {\n",
       "        vertical-align: top;\n",
       "    }\n",
       "\n",
       "    .dataframe thead th {\n",
       "        text-align: right;\n",
       "    }\n",
       "</style>\n",
       "<table border=\"1\" class=\"dataframe\">\n",
       "  <thead>\n",
       "    <tr style=\"text-align: right;\">\n",
       "      <th></th>\n",
       "      <th>review_count</th>\n",
       "    </tr>\n",
       "    <tr>\n",
       "      <th>city</th>\n",
       "      <th></th>\n",
       "    </tr>\n",
       "  </thead>\n",
       "  <tbody>\n",
       "    <tr>\n",
       "      <th>Philadelphia</th>\n",
       "      <td>495387</td>\n",
       "    </tr>\n",
       "    <tr>\n",
       "      <th>philadelphia</th>\n",
       "      <td>119</td>\n",
       "    </tr>\n",
       "  </tbody>\n",
       "</table>\n",
       "</div>"
      ],
      "text/plain": [
       "              review_count\n",
       "city                      \n",
       "Philadelphia        495387\n",
       "philadelphia           119"
      ]
     },
     "execution_count": 38,
     "metadata": {},
     "output_type": "execute_result"
    }
   ],
   "source": [
    "philly_restaurants.groupby(['city']).agg({'review_count':sum}).sort_values(by='review_count',ascending=False)"
   ]
  },
  {
   "cell_type": "code",
   "execution_count": 39,
   "id": "ef815181",
   "metadata": {},
   "outputs": [
    {
     "name": "stderr",
     "output_type": "stream",
     "text": [
      "C:\\Users\\ad823\\AppData\\Local\\Temp\\ipykernel_24064\\385543959.py:1: SettingWithCopyWarning: \n",
      "A value is trying to be set on a copy of a slice from a DataFrame\n",
      "\n",
      "See the caveats in the documentation: https://pandas.pydata.org/pandas-docs/stable/user_guide/indexing.html#returning-a-view-versus-a-copy\n",
      "  philly_restaurants.replace('philadelphia', 'Philadelphia', inplace=True)\n"
     ]
    }
   ],
   "source": [
    "philly_restaurants.replace('philadelphia', 'Philadelphia', inplace=True)"
   ]
  },
  {
   "cell_type": "code",
   "execution_count": 40,
   "id": "65a6acfd",
   "metadata": {},
   "outputs": [
    {
     "data": {
      "text/html": [
       "<div>\n",
       "<style scoped>\n",
       "    .dataframe tbody tr th:only-of-type {\n",
       "        vertical-align: middle;\n",
       "    }\n",
       "\n",
       "    .dataframe tbody tr th {\n",
       "        vertical-align: top;\n",
       "    }\n",
       "\n",
       "    .dataframe thead th {\n",
       "        text-align: right;\n",
       "    }\n",
       "</style>\n",
       "<table border=\"1\" class=\"dataframe\">\n",
       "  <thead>\n",
       "    <tr style=\"text-align: right;\">\n",
       "      <th></th>\n",
       "      <th>review_count</th>\n",
       "    </tr>\n",
       "    <tr>\n",
       "      <th>city</th>\n",
       "      <th></th>\n",
       "    </tr>\n",
       "  </thead>\n",
       "  <tbody>\n",
       "    <tr>\n",
       "      <th>Philadelphia</th>\n",
       "      <td>495506</td>\n",
       "    </tr>\n",
       "  </tbody>\n",
       "</table>\n",
       "</div>"
      ],
      "text/plain": [
       "              review_count\n",
       "city                      \n",
       "Philadelphia        495506"
      ]
     },
     "execution_count": 40,
     "metadata": {},
     "output_type": "execute_result"
    }
   ],
   "source": [
    "philly_restaurants.groupby(['city']).agg({'review_count':sum}).sort_values(by='review_count',ascending=False)"
   ]
  },
  {
   "cell_type": "code",
   "execution_count": 41,
   "id": "b836539e",
   "metadata": {},
   "outputs": [],
   "source": [
    "drop_columns = ['is_open','attributes','hours']\n",
    "philly_df = philly_restaurants.drop(drop_columns, axis=1)"
   ]
  },
  {
   "cell_type": "code",
   "execution_count": 42,
   "id": "28e34007",
   "metadata": {},
   "outputs": [
    {
     "data": {
      "text/plain": [
       "(3526, 11)"
      ]
     },
     "execution_count": 42,
     "metadata": {},
     "output_type": "execute_result"
    }
   ],
   "source": [
    "philly_df.shape"
   ]
  },
  {
   "cell_type": "code",
   "execution_count": 43,
   "id": "cb7460cc",
   "metadata": {},
   "outputs": [],
   "source": [
    "csv_name = \"philly_restaurants.csv\"\n",
    "philly_df.to_csv(csv_name, index=False)"
   ]
  },
  {
   "cell_type": "markdown",
   "id": "1dacdbe1",
   "metadata": {},
   "source": [
    "### At this stage, I saved the business data with a total of 3526 Restaurants with 495506 Restaurant Reviews in Philadelphia. To this, I will merge yelp reviews dataset"
   ]
  },
  {
   "cell_type": "markdown",
   "id": "d103a818",
   "metadata": {},
   "source": [
    "### Load The Yelp Reviews Data<a id = 'Load_The_Yelp_Reviews_Data'></a>"
   ]
  },
  {
   "cell_type": "markdown",
   "id": "f68538b5",
   "metadata": {},
   "source": [
    "{\"review_id\":\"KU_O5udG6zpxOg-VcAEodg\",\"user_id\":\"mh_-eMZ6K5RLWhZyISBhwA\",\"business_id\":\"XQfwVwDr-v0ZS3_CbbE5Xw\",\"stars\":3.0,\"useful\":0,\"funny\":0,\"cool\":0,\"text\":\"If you decide to eat here, just be aware it is going to take about 2 hours from beginning to end. We have tried it multiple times, because I want to like it! I have been to it's other locations in NJ and never had a bad experience. \\n\\nThe food is good, but it takes a very long time to come out. The waitstaff is very young, but usually pleasant. We have just had too many experiences where we spent way too long waiting. We usually opt for another diner or restaurant on the weekends, in order to be done quicker.\",\"date\":\"2018-07-07 22:09:11\"}\n"
   ]
  },
  {
   "cell_type": "code",
   "execution_count": 44,
   "id": "aeccc40f",
   "metadata": {},
   "outputs": [],
   "source": [
    "size = 1000000\n",
    "review = pd.read_json('C:/Users/ad823/Downloads/yelp_dataset/yelp_academic_dataset_review.json', lines=True,\n",
    "                      dtype={'review_id':str,'user_id':str,\n",
    "                             'business_id':str,'stars':int,\n",
    "                             'date':str,'text':str,'useful':int,\n",
    "                             'funny':int,'cool':int},\n",
    "                      chunksize=size)"
   ]
  },
  {
   "cell_type": "markdown",
   "id": "52789ab8",
   "metadata": {},
   "source": [
    "### Merge the two datasets<a id='Merge_the_two_datasets'></a>"
   ]
  },
  {
   "cell_type": "code",
   "execution_count": 45,
   "id": "1f2b581c",
   "metadata": {},
   "outputs": [
    {
     "name": "stdout",
     "output_type": "stream",
     "text": [
      "79400 out of 1,000,000 related reviews\n",
      "78403 out of 1,000,000 related reviews\n",
      "76491 out of 1,000,000 related reviews\n",
      "69450 out of 1,000,000 related reviews\n",
      "71293 out of 1,000,000 related reviews\n",
      "69596 out of 1,000,000 related reviews\n",
      "66624 out of 1,000,000 related reviews\n"
     ]
    }
   ],
   "source": [
    "# There are multiple chunks to be read\n",
    "chunk_list = []\n",
    "for chunk_review in review:\n",
    "    # Drop columns that aren't needed\n",
    "    #chunk_review = chunk_review.drop(['review_id','useful','funny','cool'], axis=1)\n",
    "    # Renaming column name to avoid conflict with business overall star rating\n",
    "    chunk_review = chunk_review.rename(columns={'stars': 'yelp_review_stars'})\n",
    "    # Inner merge with edited business file so only reviews related to the business remain\n",
    "    chunk_merged = pd.merge(philly_df, chunk_review, on='business_id', how='inner')\n",
    "    # Show feedback on progress\n",
    "    print(f\"{chunk_merged.shape[0]} out of {size:,} related reviews\")\n",
    "    chunk_list.append(chunk_merged)\n",
    "# After trimming down the review file, concatenate all relevant data back to one dataframe\n",
    "final_df = pd.concat(chunk_list, ignore_index=True, join='outer', axis=0)"
   ]
  },
  {
   "cell_type": "markdown",
   "id": "cc0f0de0",
   "metadata": {},
   "source": [
    "### Inspect the merged dataset<a id='Inspect_the_merged_dataset'></a>"
   ]
  },
  {
   "cell_type": "code",
   "execution_count": 46,
   "id": "206c00a8",
   "metadata": {},
   "outputs": [
    {
     "data": {
      "text/plain": [
       "(511257, 19)"
      ]
     },
     "execution_count": 46,
     "metadata": {},
     "output_type": "execute_result"
    }
   ],
   "source": [
    "final_df.shape"
   ]
  },
  {
   "cell_type": "code",
   "execution_count": 47,
   "id": "3e16bb70",
   "metadata": {},
   "outputs": [
    {
     "data": {
      "text/html": [
       "<div>\n",
       "<style scoped>\n",
       "    .dataframe tbody tr th:only-of-type {\n",
       "        vertical-align: middle;\n",
       "    }\n",
       "\n",
       "    .dataframe tbody tr th {\n",
       "        vertical-align: top;\n",
       "    }\n",
       "\n",
       "    .dataframe thead th {\n",
       "        text-align: right;\n",
       "    }\n",
       "</style>\n",
       "<table border=\"1\" class=\"dataframe\">\n",
       "  <thead>\n",
       "    <tr style=\"text-align: right;\">\n",
       "      <th></th>\n",
       "      <th>business_id</th>\n",
       "      <th>name</th>\n",
       "      <th>address</th>\n",
       "      <th>city</th>\n",
       "      <th>state</th>\n",
       "      <th>postal_code</th>\n",
       "      <th>latitude</th>\n",
       "      <th>longitude</th>\n",
       "      <th>stars</th>\n",
       "      <th>review_count</th>\n",
       "      <th>categories</th>\n",
       "      <th>review_id</th>\n",
       "      <th>user_id</th>\n",
       "      <th>yelp_review_stars</th>\n",
       "      <th>useful</th>\n",
       "      <th>funny</th>\n",
       "      <th>cool</th>\n",
       "      <th>text</th>\n",
       "      <th>date</th>\n",
       "    </tr>\n",
       "  </thead>\n",
       "  <tbody>\n",
       "    <tr>\n",
       "      <th>0</th>\n",
       "      <td>MTSW4McQd7CbVtyjqoe9mw</td>\n",
       "      <td>St Honore Pastries</td>\n",
       "      <td>935 Race St</td>\n",
       "      <td>Philadelphia</td>\n",
       "      <td>PA</td>\n",
       "      <td>19107</td>\n",
       "      <td>39.955505</td>\n",
       "      <td>-75.155564</td>\n",
       "      <td>4.0</td>\n",
       "      <td>80</td>\n",
       "      <td>Restaurants, Food, Bubble Tea, Coffee &amp; Tea, B...</td>\n",
       "      <td>BXQcBN0iAi1lAUxibGLFzA</td>\n",
       "      <td>6_SpY41LIHZuIaiDs5FMKA</td>\n",
       "      <td>4</td>\n",
       "      <td>0</td>\n",
       "      <td>0</td>\n",
       "      <td>1</td>\n",
       "      <td>This is nice little Chinese bakery in the hear...</td>\n",
       "      <td>2014-05-26 01:09:53</td>\n",
       "    </tr>\n",
       "    <tr>\n",
       "      <th>1</th>\n",
       "      <td>MTSW4McQd7CbVtyjqoe9mw</td>\n",
       "      <td>St Honore Pastries</td>\n",
       "      <td>935 Race St</td>\n",
       "      <td>Philadelphia</td>\n",
       "      <td>PA</td>\n",
       "      <td>19107</td>\n",
       "      <td>39.955505</td>\n",
       "      <td>-75.155564</td>\n",
       "      <td>4.0</td>\n",
       "      <td>80</td>\n",
       "      <td>Restaurants, Food, Bubble Tea, Coffee &amp; Tea, B...</td>\n",
       "      <td>uduvUCvi9w3T2bSGivCfXg</td>\n",
       "      <td>tCXElwhzekJEH6QJe3xs7Q</td>\n",
       "      <td>4</td>\n",
       "      <td>3</td>\n",
       "      <td>1</td>\n",
       "      <td>2</td>\n",
       "      <td>This is the bakery I usually go to in Chinatow...</td>\n",
       "      <td>2013-10-05 15:19:06</td>\n",
       "    </tr>\n",
       "    <tr>\n",
       "      <th>2</th>\n",
       "      <td>MTSW4McQd7CbVtyjqoe9mw</td>\n",
       "      <td>St Honore Pastries</td>\n",
       "      <td>935 Race St</td>\n",
       "      <td>Philadelphia</td>\n",
       "      <td>PA</td>\n",
       "      <td>19107</td>\n",
       "      <td>39.955505</td>\n",
       "      <td>-75.155564</td>\n",
       "      <td>4.0</td>\n",
       "      <td>80</td>\n",
       "      <td>Restaurants, Food, Bubble Tea, Coffee &amp; Tea, B...</td>\n",
       "      <td>a0vwPOqDXXZuJkbBW2356g</td>\n",
       "      <td>WqfKtI-aGMmvbA9pPUxNQQ</td>\n",
       "      <td>5</td>\n",
       "      <td>0</td>\n",
       "      <td>0</td>\n",
       "      <td>0</td>\n",
       "      <td>A delightful find in Chinatown! Very clean, an...</td>\n",
       "      <td>2013-10-25 01:34:57</td>\n",
       "    </tr>\n",
       "    <tr>\n",
       "      <th>3</th>\n",
       "      <td>MTSW4McQd7CbVtyjqoe9mw</td>\n",
       "      <td>St Honore Pastries</td>\n",
       "      <td>935 Race St</td>\n",
       "      <td>Philadelphia</td>\n",
       "      <td>PA</td>\n",
       "      <td>19107</td>\n",
       "      <td>39.955505</td>\n",
       "      <td>-75.155564</td>\n",
       "      <td>4.0</td>\n",
       "      <td>80</td>\n",
       "      <td>Restaurants, Food, Bubble Tea, Coffee &amp; Tea, B...</td>\n",
       "      <td>MKNp_CdR2k2202-c8GN5Dw</td>\n",
       "      <td>3-1va0IQfK-9tUMzfHWfTA</td>\n",
       "      <td>5</td>\n",
       "      <td>5</td>\n",
       "      <td>0</td>\n",
       "      <td>5</td>\n",
       "      <td>I ordered a graduation cake for my niece and i...</td>\n",
       "      <td>2018-05-20 17:58:57</td>\n",
       "    </tr>\n",
       "    <tr>\n",
       "      <th>4</th>\n",
       "      <td>MTSW4McQd7CbVtyjqoe9mw</td>\n",
       "      <td>St Honore Pastries</td>\n",
       "      <td>935 Race St</td>\n",
       "      <td>Philadelphia</td>\n",
       "      <td>PA</td>\n",
       "      <td>19107</td>\n",
       "      <td>39.955505</td>\n",
       "      <td>-75.155564</td>\n",
       "      <td>4.0</td>\n",
       "      <td>80</td>\n",
       "      <td>Restaurants, Food, Bubble Tea, Coffee &amp; Tea, B...</td>\n",
       "      <td>D1GisLDPe84Rrk_R4X2brQ</td>\n",
       "      <td>EouCKoDfzaVG0klEgdDvCQ</td>\n",
       "      <td>4</td>\n",
       "      <td>2</td>\n",
       "      <td>1</td>\n",
       "      <td>1</td>\n",
       "      <td>HK-STYLE MILK TEA:  FOUR STARS\\n\\nNot quite su...</td>\n",
       "      <td>2013-10-25 02:31:35</td>\n",
       "    </tr>\n",
       "  </tbody>\n",
       "</table>\n",
       "</div>"
      ],
      "text/plain": [
       "              business_id                name      address          city  \\\n",
       "0  MTSW4McQd7CbVtyjqoe9mw  St Honore Pastries  935 Race St  Philadelphia   \n",
       "1  MTSW4McQd7CbVtyjqoe9mw  St Honore Pastries  935 Race St  Philadelphia   \n",
       "2  MTSW4McQd7CbVtyjqoe9mw  St Honore Pastries  935 Race St  Philadelphia   \n",
       "3  MTSW4McQd7CbVtyjqoe9mw  St Honore Pastries  935 Race St  Philadelphia   \n",
       "4  MTSW4McQd7CbVtyjqoe9mw  St Honore Pastries  935 Race St  Philadelphia   \n",
       "\n",
       "  state postal_code   latitude  longitude  stars  review_count  \\\n",
       "0    PA       19107  39.955505 -75.155564    4.0            80   \n",
       "1    PA       19107  39.955505 -75.155564    4.0            80   \n",
       "2    PA       19107  39.955505 -75.155564    4.0            80   \n",
       "3    PA       19107  39.955505 -75.155564    4.0            80   \n",
       "4    PA       19107  39.955505 -75.155564    4.0            80   \n",
       "\n",
       "                                          categories               review_id  \\\n",
       "0  Restaurants, Food, Bubble Tea, Coffee & Tea, B...  BXQcBN0iAi1lAUxibGLFzA   \n",
       "1  Restaurants, Food, Bubble Tea, Coffee & Tea, B...  uduvUCvi9w3T2bSGivCfXg   \n",
       "2  Restaurants, Food, Bubble Tea, Coffee & Tea, B...  a0vwPOqDXXZuJkbBW2356g   \n",
       "3  Restaurants, Food, Bubble Tea, Coffee & Tea, B...  MKNp_CdR2k2202-c8GN5Dw   \n",
       "4  Restaurants, Food, Bubble Tea, Coffee & Tea, B...  D1GisLDPe84Rrk_R4X2brQ   \n",
       "\n",
       "                  user_id  yelp_review_stars  useful  funny  cool  \\\n",
       "0  6_SpY41LIHZuIaiDs5FMKA                  4       0      0     1   \n",
       "1  tCXElwhzekJEH6QJe3xs7Q                  4       3      1     2   \n",
       "2  WqfKtI-aGMmvbA9pPUxNQQ                  5       0      0     0   \n",
       "3  3-1va0IQfK-9tUMzfHWfTA                  5       5      0     5   \n",
       "4  EouCKoDfzaVG0klEgdDvCQ                  4       2      1     1   \n",
       "\n",
       "                                                text                 date  \n",
       "0  This is nice little Chinese bakery in the hear...  2014-05-26 01:09:53  \n",
       "1  This is the bakery I usually go to in Chinatow...  2013-10-05 15:19:06  \n",
       "2  A delightful find in Chinatown! Very clean, an...  2013-10-25 01:34:57  \n",
       "3  I ordered a graduation cake for my niece and i...  2018-05-20 17:58:57  \n",
       "4  HK-STYLE MILK TEA:  FOUR STARS\\n\\nNot quite su...  2013-10-25 02:31:35  "
      ]
     },
     "execution_count": 47,
     "metadata": {},
     "output_type": "execute_result"
    }
   ],
   "source": [
    "final_df.head()"
   ]
  },
  {
   "cell_type": "code",
   "execution_count": 48,
   "id": "0a630878",
   "metadata": {},
   "outputs": [
    {
     "data": {
      "text/plain": [
       "Index(['business_id', 'name', 'address', 'city', 'state', 'postal_code',\n",
       "       'latitude', 'longitude', 'stars', 'review_count', 'categories',\n",
       "       'review_id', 'user_id', 'yelp_review_stars', 'useful', 'funny', 'cool',\n",
       "       'text', 'date'],\n",
       "      dtype='object')"
      ]
     },
     "execution_count": 48,
     "metadata": {},
     "output_type": "execute_result"
    }
   ],
   "source": [
    "final_df.columns"
   ]
  },
  {
   "cell_type": "code",
   "execution_count": 49,
   "id": "2764f46d",
   "metadata": {},
   "outputs": [],
   "source": [
    "drop_columns = ['stars']\n",
    "cp2_philly_data = final_df.drop(drop_columns, axis=1)"
   ]
  },
  {
   "cell_type": "code",
   "execution_count": 50,
   "id": "5b5fd514",
   "metadata": {},
   "outputs": [
    {
     "data": {
      "text/plain": [
       "(511257, 18)"
      ]
     },
     "execution_count": 50,
     "metadata": {},
     "output_type": "execute_result"
    }
   ],
   "source": [
    "cp2_philly_data.shape"
   ]
  },
  {
   "cell_type": "code",
   "execution_count": 51,
   "id": "85c17338",
   "metadata": {},
   "outputs": [
    {
     "data": {
      "text/plain": [
       "Index(['business_id', 'name', 'address', 'city', 'state', 'postal_code',\n",
       "       'latitude', 'longitude', 'review_count', 'categories', 'review_id',\n",
       "       'user_id', 'yelp_review_stars', 'useful', 'funny', 'cool', 'text',\n",
       "       'date'],\n",
       "      dtype='object')"
      ]
     },
     "execution_count": 51,
     "metadata": {},
     "output_type": "execute_result"
    }
   ],
   "source": [
    "cp2_philly_data.columns"
   ]
  },
  {
   "cell_type": "code",
   "execution_count": 52,
   "id": "0fde47f2",
   "metadata": {},
   "outputs": [
    {
     "data": {
      "text/plain": [
       "Reading Terminal Market    5778\n",
       "Pat's King of Steaks       4293\n",
       "Geno's Steaks              3433\n",
       "El Vez                     3264\n",
       "Zahav                      3173\n",
       "                           ... \n",
       "Gourmay Diner                 5\n",
       "Liu's Garden                  5\n",
       "Golden China                  5\n",
       "Cozette Pizza                 5\n",
       "Smoked and Chopped            5\n",
       "Name: name, Length: 3043, dtype: int64"
      ]
     },
     "execution_count": 52,
     "metadata": {},
     "output_type": "execute_result"
    }
   ],
   "source": [
    "cp2_philly_data['name'].value_counts()"
   ]
  },
  {
   "cell_type": "code",
   "execution_count": 53,
   "id": "0971d1ad",
   "metadata": {},
   "outputs": [
    {
     "name": "stdout",
     "output_type": "stream",
     "text": [
      "['2014' '2013' '2018' '2012' '2017' '2011' '2010' '2016' '2008' '2009'\n",
      " '2015' '2020' '2019' '2021' '2022' '2006' '2007' '2005']\n"
     ]
    }
   ],
   "source": [
    "print(cp2_philly_data['date'].str.extract(r'(\\d{4})')[0].unique())"
   ]
  },
  {
   "cell_type": "code",
   "execution_count": 54,
   "id": "738c7aa1",
   "metadata": {},
   "outputs": [
    {
     "data": {
      "text/plain": [
       "business_id           object\n",
       "name                  object\n",
       "address               object\n",
       "city                  object\n",
       "state                 object\n",
       "postal_code           object\n",
       "latitude             float64\n",
       "longitude            float64\n",
       "review_count           int64\n",
       "categories            object\n",
       "review_id             object\n",
       "user_id               object\n",
       "yelp_review_stars      int32\n",
       "useful                 int32\n",
       "funny                  int32\n",
       "cool                   int32\n",
       "text                  object\n",
       "date                  object\n",
       "dtype: object"
      ]
     },
     "execution_count": 54,
     "metadata": {},
     "output_type": "execute_result"
    }
   ],
   "source": [
    "cp2_philly_data.dtypes"
   ]
  },
  {
   "cell_type": "markdown",
   "id": "693bfe33",
   "metadata": {},
   "source": [
    "### Changing the date column to date format"
   ]
  },
  {
   "cell_type": "code",
   "execution_count": 55,
   "id": "42654c30",
   "metadata": {},
   "outputs": [],
   "source": [
    "cp2_philly_data['date'] = pd.to_datetime(cp2_philly_data.date, format='%Y-%m-%d')"
   ]
  },
  {
   "cell_type": "code",
   "execution_count": 56,
   "id": "ac61bfe7",
   "metadata": {},
   "outputs": [
    {
     "data": {
      "text/plain": [
       "business_id                  object\n",
       "name                         object\n",
       "address                      object\n",
       "city                         object\n",
       "state                        object\n",
       "postal_code                  object\n",
       "latitude                    float64\n",
       "longitude                   float64\n",
       "review_count                  int64\n",
       "categories                   object\n",
       "review_id                    object\n",
       "user_id                      object\n",
       "yelp_review_stars             int32\n",
       "useful                        int32\n",
       "funny                         int32\n",
       "cool                          int32\n",
       "text                         object\n",
       "date                 datetime64[ns]\n",
       "dtype: object"
      ]
     },
     "execution_count": 56,
     "metadata": {},
     "output_type": "execute_result"
    }
   ],
   "source": [
    "cp2_philly_data.dtypes"
   ]
  },
  {
   "cell_type": "code",
   "execution_count": 58,
   "id": "a4b04e30",
   "metadata": {},
   "outputs": [],
   "source": [
    "\n",
    "cp2_philly_data['year'] = pd.DatetimeIndex(cp2_philly_data['date']).year"
   ]
  },
  {
   "cell_type": "code",
   "execution_count": 59,
   "id": "9161ed43",
   "metadata": {},
   "outputs": [
    {
     "data": {
      "text/plain": [
       "Index(['business_id', 'name', 'address', 'city', 'state', 'postal_code',\n",
       "       'latitude', 'longitude', 'review_count', 'categories', 'review_id',\n",
       "       'user_id', 'yelp_review_stars', 'useful', 'funny', 'cool', 'text',\n",
       "       'date', 'year'],\n",
       "      dtype='object')"
      ]
     },
     "execution_count": 59,
     "metadata": {},
     "output_type": "execute_result"
    }
   ],
   "source": [
    "\n",
    "cp2_philly_data.columns"
   ]
  },
  {
   "cell_type": "markdown",
   "id": "75954ba8",
   "metadata": {},
   "source": [
    "### Dataset Info for null values<a id='Dataset_info_for_null_values'></a>"
   ]
  },
  {
   "cell_type": "code",
   "execution_count": 60,
   "id": "9f9addc6",
   "metadata": {},
   "outputs": [
    {
     "name": "stdout",
     "output_type": "stream",
     "text": [
      "<class 'pandas.core.frame.DataFrame'>\n",
      "RangeIndex: 511257 entries, 0 to 511256\n",
      "Data columns (total 19 columns):\n",
      " #   Column             Non-Null Count   Dtype         \n",
      "---  ------             --------------   -----         \n",
      " 0   business_id        511257 non-null  object        \n",
      " 1   name               511257 non-null  object        \n",
      " 2   address            511257 non-null  object        \n",
      " 3   city               511257 non-null  object        \n",
      " 4   state              511257 non-null  object        \n",
      " 5   postal_code        511257 non-null  object        \n",
      " 6   latitude           511257 non-null  float64       \n",
      " 7   longitude          511257 non-null  float64       \n",
      " 8   review_count       511257 non-null  int64         \n",
      " 9   categories         511257 non-null  object        \n",
      " 10  review_id          511257 non-null  object        \n",
      " 11  user_id            511257 non-null  object        \n",
      " 12  yelp_review_stars  511257 non-null  int32         \n",
      " 13  useful             511257 non-null  int32         \n",
      " 14  funny              511257 non-null  int32         \n",
      " 15  cool               511257 non-null  int32         \n",
      " 16  text               511257 non-null  object        \n",
      " 17  date               511257 non-null  datetime64[ns]\n",
      " 18  year               511257 non-null  int64         \n",
      "dtypes: datetime64[ns](1), float64(2), int32(4), int64(2), object(10)\n",
      "memory usage: 66.3+ MB\n"
     ]
    }
   ],
   "source": [
    "cp2_philly_data.info()"
   ]
  },
  {
   "cell_type": "markdown",
   "id": "75b949f8",
   "metadata": {},
   "source": [
    "### Check for duplicated values<a id='Check_for_duplicated_values'></a>"
   ]
  },
  {
   "cell_type": "code",
   "execution_count": 63,
   "id": "31d21c9e",
   "metadata": {},
   "outputs": [
    {
     "data": {
      "text/plain": [
       "3         False\n",
       "5         False\n",
       "17        False\n",
       "24        False\n",
       "35        False\n",
       "          ...  \n",
       "511252    False\n",
       "511253    False\n",
       "511254    False\n",
       "511255    False\n",
       "511256    False\n",
       "Length: 192386, dtype: bool"
      ]
     },
     "execution_count": 63,
     "metadata": {},
     "output_type": "execute_result"
    }
   ],
   "source": [
    "cp2_philly_df.duplicated(subset=None, keep='first')"
   ]
  },
  {
   "cell_type": "markdown",
   "id": "b6c5cd2f",
   "metadata": {},
   "source": [
    "### Keeping the Five Years Data<a id= 'Keeping_the_Five_Years_Data'></a>"
   ]
  },
  {
   "cell_type": "code",
   "execution_count": 61,
   "id": "9ebf94f3",
   "metadata": {},
   "outputs": [],
   "source": [
    "# Since the data is huge after merging, I will keep only records from 2018-2022\n",
    "cp2_philly_df = cp2_philly_data[cp2_philly_data.year > 2017]"
   ]
  },
  {
   "cell_type": "code",
   "execution_count": 70,
   "id": "60f3f913",
   "metadata": {},
   "outputs": [
    {
     "data": {
      "text/plain": [
       "array([2018, 2020, 2019, 2021, 2022], dtype=int64)"
      ]
     },
     "execution_count": 70,
     "metadata": {},
     "output_type": "execute_result"
    }
   ],
   "source": [
    "cp2_philly_df.year.unique()"
   ]
  },
  {
   "cell_type": "code",
   "execution_count": 68,
   "id": "b857b627",
   "metadata": {},
   "outputs": [],
   "source": [
    "n_reviews = len(cp2_philly_df)\n",
    "n_businesses = cp2_philly_df.business_id.unique().size\n",
    "n_user_ids = cp2_philly_df.user_id.unique().size"
   ]
  },
  {
   "cell_type": "code",
   "execution_count": 69,
   "id": "2e385a1c",
   "metadata": {},
   "outputs": [
    {
     "name": "stdout",
     "output_type": "stream",
     "text": [
      "Number of reviews:  192386\n",
      "Number of Businesses:  3460\n",
      "Number of UserIds:  84238\n"
     ]
    }
   ],
   "source": [
    "print(\"Number of reviews: \",n_reviews)\n",
    "print(\"Number of Businesses: \",n_businesses)\n",
    "print(\"Number of UserIds: \",n_user_ids)\n"
   ]
  },
  {
   "cell_type": "markdown",
   "id": "f3dfd52d",
   "metadata": {},
   "source": [
    "### So, I will start exploring this philadelphia restaurant reviews data which has a total of 3,460 Restaurants, 84,238 Users, and 192,386 Restaurant Reviews  from 2018–2022."
   ]
  },
  {
   "cell_type": "code",
   "execution_count": 71,
   "id": "36f2a784",
   "metadata": {},
   "outputs": [
    {
     "data": {
      "text/html": [
       "<div>\n",
       "<style scoped>\n",
       "    .dataframe tbody tr th:only-of-type {\n",
       "        vertical-align: middle;\n",
       "    }\n",
       "\n",
       "    .dataframe tbody tr th {\n",
       "        vertical-align: top;\n",
       "    }\n",
       "\n",
       "    .dataframe thead th {\n",
       "        text-align: right;\n",
       "    }\n",
       "</style>\n",
       "<table border=\"1\" class=\"dataframe\">\n",
       "  <thead>\n",
       "    <tr style=\"text-align: right;\">\n",
       "      <th></th>\n",
       "      <th>business_id</th>\n",
       "      <th>name</th>\n",
       "      <th>address</th>\n",
       "      <th>city</th>\n",
       "      <th>state</th>\n",
       "      <th>postal_code</th>\n",
       "      <th>latitude</th>\n",
       "      <th>longitude</th>\n",
       "      <th>review_count</th>\n",
       "      <th>categories</th>\n",
       "      <th>review_id</th>\n",
       "      <th>user_id</th>\n",
       "      <th>yelp_review_stars</th>\n",
       "      <th>useful</th>\n",
       "      <th>funny</th>\n",
       "      <th>cool</th>\n",
       "      <th>text</th>\n",
       "      <th>date</th>\n",
       "      <th>year</th>\n",
       "    </tr>\n",
       "  </thead>\n",
       "  <tbody>\n",
       "    <tr>\n",
       "      <th>3</th>\n",
       "      <td>MTSW4McQd7CbVtyjqoe9mw</td>\n",
       "      <td>St Honore Pastries</td>\n",
       "      <td>935 Race St</td>\n",
       "      <td>Philadelphia</td>\n",
       "      <td>PA</td>\n",
       "      <td>19107</td>\n",
       "      <td>39.955505</td>\n",
       "      <td>-75.155564</td>\n",
       "      <td>80</td>\n",
       "      <td>Restaurants, Food, Bubble Tea, Coffee &amp; Tea, B...</td>\n",
       "      <td>MKNp_CdR2k2202-c8GN5Dw</td>\n",
       "      <td>3-1va0IQfK-9tUMzfHWfTA</td>\n",
       "      <td>5</td>\n",
       "      <td>5</td>\n",
       "      <td>0</td>\n",
       "      <td>5</td>\n",
       "      <td>I ordered a graduation cake for my niece and i...</td>\n",
       "      <td>2018-05-20 17:58:57</td>\n",
       "      <td>2018</td>\n",
       "    </tr>\n",
       "    <tr>\n",
       "      <th>5</th>\n",
       "      <td>MTSW4McQd7CbVtyjqoe9mw</td>\n",
       "      <td>St Honore Pastries</td>\n",
       "      <td>935 Race St</td>\n",
       "      <td>Philadelphia</td>\n",
       "      <td>PA</td>\n",
       "      <td>19107</td>\n",
       "      <td>39.955505</td>\n",
       "      <td>-75.155564</td>\n",
       "      <td>80</td>\n",
       "      <td>Restaurants, Food, Bubble Tea, Coffee &amp; Tea, B...</td>\n",
       "      <td>_hJu0u6nB-8LIeQJY4Vg4w</td>\n",
       "      <td>KQSRUu4Aapl0hG6eu2v8iw</td>\n",
       "      <td>4</td>\n",
       "      <td>1</td>\n",
       "      <td>0</td>\n",
       "      <td>0</td>\n",
       "      <td>This is my favorite bakery in Chinatown! I usu...</td>\n",
       "      <td>2018-03-17 23:47:25</td>\n",
       "      <td>2018</td>\n",
       "    </tr>\n",
       "    <tr>\n",
       "      <th>17</th>\n",
       "      <td>MTSW4McQd7CbVtyjqoe9mw</td>\n",
       "      <td>St Honore Pastries</td>\n",
       "      <td>935 Race St</td>\n",
       "      <td>Philadelphia</td>\n",
       "      <td>PA</td>\n",
       "      <td>19107</td>\n",
       "      <td>39.955505</td>\n",
       "      <td>-75.155564</td>\n",
       "      <td>80</td>\n",
       "      <td>Restaurants, Food, Bubble Tea, Coffee &amp; Tea, B...</td>\n",
       "      <td>3LNKer0gTFgknV-2CyPjAg</td>\n",
       "      <td>z-yvbUGwFn8PAijEHdU_RA</td>\n",
       "      <td>5</td>\n",
       "      <td>0</td>\n",
       "      <td>0</td>\n",
       "      <td>0</td>\n",
       "      <td>While I've never tried their bao (and usually ...</td>\n",
       "      <td>2018-03-25 12:35:42</td>\n",
       "      <td>2018</td>\n",
       "    </tr>\n",
       "    <tr>\n",
       "      <th>24</th>\n",
       "      <td>MTSW4McQd7CbVtyjqoe9mw</td>\n",
       "      <td>St Honore Pastries</td>\n",
       "      <td>935 Race St</td>\n",
       "      <td>Philadelphia</td>\n",
       "      <td>PA</td>\n",
       "      <td>19107</td>\n",
       "      <td>39.955505</td>\n",
       "      <td>-75.155564</td>\n",
       "      <td>80</td>\n",
       "      <td>Restaurants, Food, Bubble Tea, Coffee &amp; Tea, B...</td>\n",
       "      <td>ibUkH1a01VZgBD9ba6wocw</td>\n",
       "      <td>h-NFrVwhhCvxdle_3pBwiQ</td>\n",
       "      <td>5</td>\n",
       "      <td>1</td>\n",
       "      <td>0</td>\n",
       "      <td>0</td>\n",
       "      <td>Got my wedding cake here and it was the best d...</td>\n",
       "      <td>2018-04-12 20:59:21</td>\n",
       "      <td>2018</td>\n",
       "    </tr>\n",
       "    <tr>\n",
       "      <th>35</th>\n",
       "      <td>MTSW4McQd7CbVtyjqoe9mw</td>\n",
       "      <td>St Honore Pastries</td>\n",
       "      <td>935 Race St</td>\n",
       "      <td>Philadelphia</td>\n",
       "      <td>PA</td>\n",
       "      <td>19107</td>\n",
       "      <td>39.955505</td>\n",
       "      <td>-75.155564</td>\n",
       "      <td>80</td>\n",
       "      <td>Restaurants, Food, Bubble Tea, Coffee &amp; Tea, B...</td>\n",
       "      <td>L3Qk84zgSO4U3IsZoz3G4w</td>\n",
       "      <td>2Gp0gQNpIVmShIt3-gOebw</td>\n",
       "      <td>4</td>\n",
       "      <td>1</td>\n",
       "      <td>0</td>\n",
       "      <td>0</td>\n",
       "      <td>Just came from this bakery this afternoon and ...</td>\n",
       "      <td>2018-05-05 22:26:47</td>\n",
       "      <td>2018</td>\n",
       "    </tr>\n",
       "  </tbody>\n",
       "</table>\n",
       "</div>"
      ],
      "text/plain": [
       "               business_id                name      address          city  \\\n",
       "3   MTSW4McQd7CbVtyjqoe9mw  St Honore Pastries  935 Race St  Philadelphia   \n",
       "5   MTSW4McQd7CbVtyjqoe9mw  St Honore Pastries  935 Race St  Philadelphia   \n",
       "17  MTSW4McQd7CbVtyjqoe9mw  St Honore Pastries  935 Race St  Philadelphia   \n",
       "24  MTSW4McQd7CbVtyjqoe9mw  St Honore Pastries  935 Race St  Philadelphia   \n",
       "35  MTSW4McQd7CbVtyjqoe9mw  St Honore Pastries  935 Race St  Philadelphia   \n",
       "\n",
       "   state postal_code   latitude  longitude  review_count  \\\n",
       "3     PA       19107  39.955505 -75.155564            80   \n",
       "5     PA       19107  39.955505 -75.155564            80   \n",
       "17    PA       19107  39.955505 -75.155564            80   \n",
       "24    PA       19107  39.955505 -75.155564            80   \n",
       "35    PA       19107  39.955505 -75.155564            80   \n",
       "\n",
       "                                           categories               review_id  \\\n",
       "3   Restaurants, Food, Bubble Tea, Coffee & Tea, B...  MKNp_CdR2k2202-c8GN5Dw   \n",
       "5   Restaurants, Food, Bubble Tea, Coffee & Tea, B...  _hJu0u6nB-8LIeQJY4Vg4w   \n",
       "17  Restaurants, Food, Bubble Tea, Coffee & Tea, B...  3LNKer0gTFgknV-2CyPjAg   \n",
       "24  Restaurants, Food, Bubble Tea, Coffee & Tea, B...  ibUkH1a01VZgBD9ba6wocw   \n",
       "35  Restaurants, Food, Bubble Tea, Coffee & Tea, B...  L3Qk84zgSO4U3IsZoz3G4w   \n",
       "\n",
       "                   user_id  yelp_review_stars  useful  funny  cool  \\\n",
       "3   3-1va0IQfK-9tUMzfHWfTA                  5       5      0     5   \n",
       "5   KQSRUu4Aapl0hG6eu2v8iw                  4       1      0     0   \n",
       "17  z-yvbUGwFn8PAijEHdU_RA                  5       0      0     0   \n",
       "24  h-NFrVwhhCvxdle_3pBwiQ                  5       1      0     0   \n",
       "35  2Gp0gQNpIVmShIt3-gOebw                  4       1      0     0   \n",
       "\n",
       "                                                 text                date  \\\n",
       "3   I ordered a graduation cake for my niece and i... 2018-05-20 17:58:57   \n",
       "5   This is my favorite bakery in Chinatown! I usu... 2018-03-17 23:47:25   \n",
       "17  While I've never tried their bao (and usually ... 2018-03-25 12:35:42   \n",
       "24  Got my wedding cake here and it was the best d... 2018-04-12 20:59:21   \n",
       "35  Just came from this bakery this afternoon and ... 2018-05-05 22:26:47   \n",
       "\n",
       "    year  \n",
       "3   2018  \n",
       "5   2018  \n",
       "17  2018  \n",
       "24  2018  \n",
       "35  2018  "
      ]
     },
     "execution_count": 71,
     "metadata": {},
     "output_type": "execute_result"
    }
   ],
   "source": [
    "cp2_philly_df.head()"
   ]
  },
  {
   "cell_type": "code",
   "execution_count": 83,
   "id": "1b641bed",
   "metadata": {},
   "outputs": [
    {
     "data": {
      "text/html": [
       "<div>\n",
       "<style scoped>\n",
       "    .dataframe tbody tr th:only-of-type {\n",
       "        vertical-align: middle;\n",
       "    }\n",
       "\n",
       "    .dataframe tbody tr th {\n",
       "        vertical-align: top;\n",
       "    }\n",
       "\n",
       "    .dataframe thead th {\n",
       "        text-align: right;\n",
       "    }\n",
       "</style>\n",
       "<table border=\"1\" class=\"dataframe\">\n",
       "  <thead>\n",
       "    <tr style=\"text-align: right;\">\n",
       "      <th></th>\n",
       "      <th>latitude</th>\n",
       "      <th>longitude</th>\n",
       "      <th>review_count</th>\n",
       "      <th>yelp_review_stars</th>\n",
       "      <th>useful</th>\n",
       "      <th>funny</th>\n",
       "      <th>cool</th>\n",
       "      <th>year</th>\n",
       "    </tr>\n",
       "  </thead>\n",
       "  <tbody>\n",
       "    <tr>\n",
       "      <th>count</th>\n",
       "      <td>192386.000000</td>\n",
       "      <td>192386.000000</td>\n",
       "      <td>192386.000000</td>\n",
       "      <td>192386.000000</td>\n",
       "      <td>192386.000000</td>\n",
       "      <td>192386.000000</td>\n",
       "      <td>192386.000000</td>\n",
       "      <td>192386.000000</td>\n",
       "    </tr>\n",
       "    <tr>\n",
       "      <th>mean</th>\n",
       "      <td>39.964116</td>\n",
       "      <td>-75.158452</td>\n",
       "      <td>620.037643</td>\n",
       "      <td>3.907628</td>\n",
       "      <td>1.048564</td>\n",
       "      <td>0.280197</td>\n",
       "      <td>0.544982</td>\n",
       "      <td>2019.264635</td>\n",
       "    </tr>\n",
       "    <tr>\n",
       "      <th>std</th>\n",
       "      <td>0.038558</td>\n",
       "      <td>0.039540</td>\n",
       "      <td>885.630154</td>\n",
       "      <td>1.386792</td>\n",
       "      <td>2.916298</td>\n",
       "      <td>1.430737</td>\n",
       "      <td>2.306958</td>\n",
       "      <td>1.116675</td>\n",
       "    </tr>\n",
       "    <tr>\n",
       "      <th>min</th>\n",
       "      <td>39.865466</td>\n",
       "      <td>-75.363647</td>\n",
       "      <td>5.000000</td>\n",
       "      <td>1.000000</td>\n",
       "      <td>0.000000</td>\n",
       "      <td>0.000000</td>\n",
       "      <td>0.000000</td>\n",
       "      <td>2018.000000</td>\n",
       "    </tr>\n",
       "    <tr>\n",
       "      <th>25%</th>\n",
       "      <td>39.948013</td>\n",
       "      <td>-75.170899</td>\n",
       "      <td>117.000000</td>\n",
       "      <td>3.000000</td>\n",
       "      <td>0.000000</td>\n",
       "      <td>0.000000</td>\n",
       "      <td>0.000000</td>\n",
       "      <td>2018.000000</td>\n",
       "    </tr>\n",
       "    <tr>\n",
       "      <th>50%</th>\n",
       "      <td>39.951780</td>\n",
       "      <td>-75.161093</td>\n",
       "      <td>284.000000</td>\n",
       "      <td>4.000000</td>\n",
       "      <td>0.000000</td>\n",
       "      <td>0.000000</td>\n",
       "      <td>0.000000</td>\n",
       "      <td>2019.000000</td>\n",
       "    </tr>\n",
       "    <tr>\n",
       "      <th>75%</th>\n",
       "      <td>39.965399</td>\n",
       "      <td>-75.148727</td>\n",
       "      <td>691.000000</td>\n",
       "      <td>5.000000</td>\n",
       "      <td>1.000000</td>\n",
       "      <td>0.000000</td>\n",
       "      <td>0.000000</td>\n",
       "      <td>2020.000000</td>\n",
       "    </tr>\n",
       "    <tr>\n",
       "      <th>max</th>\n",
       "      <td>40.133248</td>\n",
       "      <td>-74.957990</td>\n",
       "      <td>5721.000000</td>\n",
       "      <td>5.000000</td>\n",
       "      <td>224.000000</td>\n",
       "      <td>135.000000</td>\n",
       "      <td>163.000000</td>\n",
       "      <td>2022.000000</td>\n",
       "    </tr>\n",
       "  </tbody>\n",
       "</table>\n",
       "</div>"
      ],
      "text/plain": [
       "            latitude      longitude   review_count  yelp_review_stars  \\\n",
       "count  192386.000000  192386.000000  192386.000000      192386.000000   \n",
       "mean       39.964116     -75.158452     620.037643           3.907628   \n",
       "std         0.038558       0.039540     885.630154           1.386792   \n",
       "min        39.865466     -75.363647       5.000000           1.000000   \n",
       "25%        39.948013     -75.170899     117.000000           3.000000   \n",
       "50%        39.951780     -75.161093     284.000000           4.000000   \n",
       "75%        39.965399     -75.148727     691.000000           5.000000   \n",
       "max        40.133248     -74.957990    5721.000000           5.000000   \n",
       "\n",
       "              useful          funny           cool           year  \n",
       "count  192386.000000  192386.000000  192386.000000  192386.000000  \n",
       "mean        1.048564       0.280197       0.544982    2019.264635  \n",
       "std         2.916298       1.430737       2.306958       1.116675  \n",
       "min         0.000000       0.000000       0.000000    2018.000000  \n",
       "25%         0.000000       0.000000       0.000000    2018.000000  \n",
       "50%         0.000000       0.000000       0.000000    2019.000000  \n",
       "75%         1.000000       0.000000       0.000000    2020.000000  \n",
       "max       224.000000     135.000000     163.000000    2022.000000  "
      ]
     },
     "execution_count": 83,
     "metadata": {},
     "output_type": "execute_result"
    }
   ],
   "source": [
    "cp2_philly_df.describe()"
   ]
  },
  {
   "cell_type": "markdown",
   "id": "f4631599",
   "metadata": {},
   "source": [
    "### Distribution of Stars and Reviews<a id='Distribution_of_stars_reviews'></a>"
   ]
  },
  {
   "cell_type": "code",
   "execution_count": 72,
   "id": "27d9a54f",
   "metadata": {},
   "outputs": [
    {
     "data": {
      "text/plain": [
       "array([5, 4, 1, 2, 3])"
      ]
     },
     "execution_count": 72,
     "metadata": {},
     "output_type": "execute_result"
    }
   ],
   "source": [
    "cp2_philly_df.yelp_review_stars.unique()"
   ]
  },
  {
   "cell_type": "code",
   "execution_count": 84,
   "id": "a65e6ae2",
   "metadata": {},
   "outputs": [
    {
     "name": "stdout",
     "output_type": "stream",
     "text": [
      "Int64Index([5, 4, 1, 3, 2], dtype='int64')\n"
     ]
    }
   ],
   "source": [
    "x_val=cp2_philly_df['yelp_review_stars'].value_counts().index\n",
    "print(x_val)"
   ]
  },
  {
   "cell_type": "code",
   "execution_count": 85,
   "id": "64bfa41c",
   "metadata": {},
   "outputs": [
    {
     "name": "stdout",
     "output_type": "stream",
     "text": [
      "5    95959\n",
      "4    41105\n",
      "1    22565\n",
      "3    19479\n",
      "2    13278\n",
      "Name: yelp_review_stars, dtype: int64\n"
     ]
    }
   ],
   "source": [
    "y_val=cp2_philly_df['yelp_review_stars'].value_counts()\n",
    "print(y_val)"
   ]
  },
  {
   "cell_type": "code",
   "execution_count": 103,
   "id": "092e60af",
   "metadata": {},
   "outputs": [
    {
     "data": {
      "text/html": [
       "<div>\n",
       "<style scoped>\n",
       "    .dataframe tbody tr th:only-of-type {\n",
       "        vertical-align: middle;\n",
       "    }\n",
       "\n",
       "    .dataframe tbody tr th {\n",
       "        vertical-align: top;\n",
       "    }\n",
       "\n",
       "    .dataframe thead th {\n",
       "        text-align: right;\n",
       "    }\n",
       "</style>\n",
       "<table border=\"1\" class=\"dataframe\">\n",
       "  <thead>\n",
       "    <tr style=\"text-align: right;\">\n",
       "      <th></th>\n",
       "      <th>Stars</th>\n",
       "      <th>Star_Count</th>\n",
       "    </tr>\n",
       "  </thead>\n",
       "  <tbody>\n",
       "    <tr>\n",
       "      <th>0</th>\n",
       "      <td>5</td>\n",
       "      <td>95959</td>\n",
       "    </tr>\n",
       "    <tr>\n",
       "      <th>1</th>\n",
       "      <td>4</td>\n",
       "      <td>41105</td>\n",
       "    </tr>\n",
       "    <tr>\n",
       "      <th>2</th>\n",
       "      <td>1</td>\n",
       "      <td>22565</td>\n",
       "    </tr>\n",
       "    <tr>\n",
       "      <th>3</th>\n",
       "      <td>3</td>\n",
       "      <td>19479</td>\n",
       "    </tr>\n",
       "    <tr>\n",
       "      <th>4</th>\n",
       "      <td>2</td>\n",
       "      <td>13278</td>\n",
       "    </tr>\n",
       "  </tbody>\n",
       "</table>\n",
       "</div>"
      ],
      "text/plain": [
       "   Stars  Star_Count\n",
       "0      5       95959\n",
       "1      4       41105\n",
       "2      1       22565\n",
       "3      3       19479\n",
       "4      2       13278"
      ]
     },
     "execution_count": 103,
     "metadata": {},
     "output_type": "execute_result"
    }
   ],
   "source": [
    "stars = [5,4,1,3,2]\n",
    "stars_count = [95959, 41105, 22565, 19479, 13278]\n",
    " \n",
    "# Create a pandas dataframe\n",
    "df = pd.DataFrame({\"Stars\": stars,\n",
    "                   \"Star_Count\": stars_count})\n",
    "df\n",
    " "
   ]
  },
  {
   "cell_type": "code",
   "execution_count": 106,
   "id": "8ddc89f3",
   "metadata": {},
   "outputs": [
    {
     "data": {
      "text/plain": [
       "Text(0.5, 1.0, 'Distribution of yelp review stars')"
      ]
     },
     "execution_count": 106,
     "metadata": {},
     "output_type": "execute_result"
    },
    {
     "data": {
      "image/png": "[encoded data removed]",
      "text/plain": [
       "<Figure size 432x288 with 1 Axes>"
      ]
     },
     "metadata": {
      "needs_background": "light"
     },
     "output_type": "display_data"
    }
   ],
   "source": [
    "ax = sns.barplot(x='Stars',\n",
    "            y=\"Star_Count\", data=df,errwidth=0,\n",
    "            order=df.sort_values('Star_Count').Stars)\n",
    " \n",
    "# now simply assign the bar values to\n",
    "# each bar by passing containers method\n",
    "# to bar_label function\n",
    "ax.bar_label(ax.containers[0])\n",
    "ax.set_title('Distribution of yelp review stars')"
   ]
  },
  {
   "cell_type": "code",
   "execution_count": 108,
   "id": "f07d2d6d",
   "metadata": {},
   "outputs": [
    {
     "data": {
      "text/plain": [
       "array([  5,   1,   0,   2,  35,   7,   6,   3,   4,  27,  32,  12,  11,\n",
       "        23,  15,  34,   9,   8,  17,  16,  36,  20,  26,  13,  48,  10,\n",
       "        22,  25,  18,  47,  60,  37,  40,  38,  14, 115,  19,  44,  33,\n",
       "       142,  31,  29,  21,  54,  24,  41,  28,  80,  53,  57,  30,  43,\n",
       "        69,  46,  73,  66,  96,  51,  39,  72,  78,  56,  45,  55,  52,\n",
       "        62,  42,  75,  49,  58,  50,  67,  63,  95,  98,  71, 164,  88,\n",
       "       111,  65,  64, 102,  77,  76, 134, 224,  81,  59])"
      ]
     },
     "execution_count": 108,
     "metadata": {},
     "output_type": "execute_result"
    }
   ],
   "source": [
    "cp2_philly_df.useful.unique()"
   ]
  },
  {
   "cell_type": "code",
   "execution_count": 109,
   "id": "c388ecfa",
   "metadata": {},
   "outputs": [
    {
     "data": {
      "text/plain": [
       "array([  0,  14,   1,   2,   3,  12,   6,   5,   7,   4,   8,  15,  23,\n",
       "        11,  13,  28,  10,  21,  26,   9,  74,  18, 113,  27,  29,  16,\n",
       "        19,  34,  17,  22,  25,  38,  20,  39,  48,  52,  54,  30,  45,\n",
       "        55,  35,  44,  40,  31,  24,  36,  75,  32,  72,  33,  67, 135,\n",
       "        66,  70,  82,  46,  57,  41,  49,  43])"
      ]
     },
     "execution_count": 109,
     "metadata": {},
     "output_type": "execute_result"
    }
   ],
   "source": [
    "cp2_philly_df.funny.unique()"
   ]
  },
  {
   "cell_type": "code",
   "execution_count": 110,
   "id": "ab6f81b4",
   "metadata": {},
   "outputs": [
    {
     "data": {
      "text/plain": [
       "array([  5,   0,   2,   1,   3,  26,  19,   4,  29,   7,  14,  24,   8,\n",
       "        10,   6,  11,  15,  16,  18,  21,  40,   9,  17,  22,  34,  12,\n",
       "        52,  13,  37,  27,  39,  28, 109,  36,  33, 142,  20,  41,  35,\n",
       "        23,  31,  30,  32,  75,  25,  48,  58,  49,  43,  63,  59,  86,\n",
       "        73,  64,  74,  51,  38,  47,  57,  45,  69,  42,  72,  50,  60,\n",
       "        56,  94,  44,  99,  46,  55,  91,  61, 163,  85,  96,  54,  53,\n",
       "       112,  65,  93,  68,  62,  92,  71])"
      ]
     },
     "execution_count": 110,
     "metadata": {},
     "output_type": "execute_result"
    }
   ],
   "source": [
    "cp2_philly_df.cool.unique()"
   ]
  },
  {
   "cell_type": "code",
   "execution_count": 107,
   "id": "e3f023ea",
   "metadata": {},
   "outputs": [
    {
     "name": "stdout",
     "output_type": "stream",
     "text": [
      "Total reviews: 192386\n",
      "Useful reviews: 81840 \n",
      "Funny reviews: 26348 \n",
      "Cool reviews: 43824  \n",
      "Total negative reviews: 35843  \n",
      "Total positive reviews: 156543 \n"
     ]
    }
   ],
   "source": [
    "useful_reviews = len(cp2_philly_df[cp2_philly_df[\"useful\"]>0])\n",
    "cool_reviews = len(cp2_philly_df[cp2_philly_df[\"cool\"]>0])\n",
    "funny_reviews = len(cp2_philly_df[cp2_philly_df[\"funny\"]>0])\n",
    "negative_reviews = len(cp2_philly_df[cp2_philly_df[\"yelp_review_stars\"] < 3])\n",
    "positive_reviews =len(cp2_philly_df[cp2_philly_df[\"yelp_review_stars\"] > 2])\n",
    "total_reviews = len(cp2_philly_df)\n",
    "\n",
    "print(\"Total reviews: {}\".format(total_reviews))\n",
    "print(\"Useful reviews: {} \".format(useful_reviews))\n",
    "print(\"Funny reviews: {} \".format(funny_reviews))\n",
    "print(\"Cool reviews: {}  \".format(cool_reviews))\n",
    "print(\"Total negative reviews: {}  \".format(negative_reviews))\n",
    "print(\"Total positive reviews: {} \".format(positive_reviews))\n",
    "\n"
   ]
  },
  {
   "cell_type": "code",
   "execution_count": 113,
   "id": "59e03b8e",
   "metadata": {},
   "outputs": [
    {
     "data": {
      "image/png": "[encoded data removed]",
      "text/plain": [
       "<Figure size 432x288 with 1 Axes>"
      ]
     },
     "metadata": {},
     "output_type": "display_data"
    }
   ],
   "source": [
    "\n",
    "# Pie chart, where the slices will be ordered and plotted counter-clockwise:\n",
    "labels = 'Useful', 'Funny', 'Cool', 'Negative', 'Positive'\n",
    "sizes = [42.54, 13.70, 22.78, 18.63, 81.37]\n",
    "explode = (0,0,0, 0.1, 0)  # only \"explode\" the 4th slice (i.e. 'Negative')\n",
    "\n",
    "fig1, ax1 = plt.subplots()\n",
    "ax1.pie(sizes, explode=explode, labels=labels,\n",
    "        autopct=lambda p:f'{p:.2f}%',\n",
    "        shadow=True, startangle=90)\n",
    "ax1.axis('equal')  # Equal aspect ratio ensures that pie is drawn as a circle.\n",
    "plt.title(\"Pie-Chart to depict all the reviews\")\n",
    "plt.show()"
   ]
  },
  {
   "cell_type": "markdown",
   "id": "66adfb53",
   "metadata": {},
   "source": [
    "### Save data<a id='Save_data'></a>"
   ]
  },
  {
   "cell_type": "code",
   "execution_count": 114,
   "id": "5c3dac7f",
   "metadata": {},
   "outputs": [],
   "source": [
    "#saving this file\n",
    "csv_name = \"clean_cp2_philly_data.csv\"\n",
    "cp2_philly_df.to_csv(csv_name, index=False)"
   ]
  },
  {
   "cell_type": "markdown",
   "id": "504409b3",
   "metadata": {},
   "source": [
    "### Summary<a id='summary'></a>"
   ]
  },
  {
   "cell_type": "markdown",
   "id": "317397ca",
   "metadata": {},
   "source": [
    "Loaded two json files from yelp and merged into one file. Chose city of choice to be Philadelphia as i found more number of restaurants associated with it and more number of reviews. Since data is huge, I had to narrow it one city, one category which is restaurants and to further reduce the size I had to take only 5 years of data. I did not find any duplicated records and no null values. Changed the data type of the date field to date timestamp. Observed the distribution of all stars and reviews.\n",
    "\n",
    "Regarding the objective questions I had in my mind: \n",
    "\n",
    "* Do I have the data to tackle the desired question? - Yes\n",
    "* what is the target value? - Positive (5,4, 3 star) and Negative (1 & 2 star) Reviews\n",
    "* Do I have the potentially useful features? - Yes. I can use latitude and longitude to see what restaurants are nearby and based on the reviews we can recommend those restaurants to the customer. \n",
    "* Do I have any fundamental issues with the data? - Distribution of stars might be a concern as it is leaning towards imbalanced classification. \n",
    "Star distribution in percentages:\n",
    "    * 5-star 49.88% \n",
    "    * 4-star 21.37% \n",
    "    * 3-star 10.12% \n",
    "    * 2-star 6.9% \n",
    "    * 1-star 11.73% "
   ]
  },
  {
   "cell_type": "code",
   "execution_count": null,
   "id": "f0825db0",
   "metadata": {},
   "outputs": [],
   "source": []
  }
 ],
 "metadata": {
  "kernelspec": {
   "display_name": "Python 3 (ipykernel)",
   "language": "python",
   "name": "python3"
  },
  "language_info": {
   "codemirror_mode": {
    "name": "ipython",
    "version": 3
   },
   "file_extension": ".py",
   "mimetype": "text/x-python",
   "name": "python",
   "nbconvert_exporter": "python",
   "pygments_lexer": "ipython3",
   "version": "3.9.12"
  }
 },
 "nbformat": 4,
 "nbformat_minor": 5
}
