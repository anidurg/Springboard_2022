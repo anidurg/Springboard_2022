{
 "cells": [
  {
   "cell_type": "markdown",
   "id": "2d04bd64",
   "metadata": {},
   "source": [
    "## Preprocessing and Training"
   ]
  },
  {
   "cell_type": "markdown",
   "id": "1b3538bf",
   "metadata": {},
   "source": [
    "### Table of Contents<a id='contents'>"
   ]
  },
  {
   "cell_type": "markdown",
   "id": "6af54457",
   "metadata": {},
   "source": [
    "* [Introduction](#introduction)\n",
    "* [Libraries that will be used](#libraries_used)\n",
    "* [Load the dataset](#load_the_dataset)\n",
    "* [Minimal EDA](#minimal_eda)\n",
    "    * [Proportion of target column classes Before Train test split](#target_column_before_ttsplit)\n",
    "    * [Columns for preprocessing](#columns_of_interest)\n",
    "    * [Train Test Split](#train_test_split)\n",
    "    * [Proportion of target column in train set After Train test split](#target_column_after_ttsplit)\n",
    "    * [Proportion of Target columns in test set After train_test_split](#target_testset_column_after_ttsplit)\n",
    "* [Three Class Classification](#multiclass_classification) \n",
    "    * [TF-IFD](#tf_ifd)\n",
    "        * [Define tokenize and stem function](#tokenize_stem_func)\n",
    "    * [Fitting LogisticRegression(multi-class-ovr)](#fitting_logistic_regression_ovr)\n",
    "      * [Three-Class Text Predictions for a given text](#3_class_text_predictions)\n",
    "    * [AUC-ROC for Multiclass classification](#aucroc_multi)\n",
    "        * [AUC-ROC Score for the multiclass problem](#auc_score_multiclass)\n",
    "* [Binary Classification](#binary_classification)\n",
    "    * [Binary Classification - Proportion of Target classes before train test split](#dist_bin_target_before)\n",
    "    * [Binary Classification- Proportion of Target classes after train_test_split](#bi_target_column_after_ttsplit)\n",
    "         * [Binary Classification Report for training set](#binary_class_report_training)\n",
    "         * [Binary Classification Report for test set](#binary_class_report_test)\n",
    "    * [AUC-ROC for Binary Classification](#aucroc_binary)\n",
    "        * [Area under ROC score for the Binary problem](#auc_score_binaryclass)\n",
    "* [SUMMARIZED CLASSIFICATION REPORTS(Multi-class and Binary class)](#summary_reports)\n",
    "* [Summary](#Summary)"
   ]
  },
  {
   "cell_type": "markdown",
   "id": "57dc3c58",
   "metadata": {},
   "source": [
    "### Introduction<a id='introduction'>\n",
    "    "
   ]
  },
  {
   "cell_type": "markdown",
   "id": "ee34fc3e",
   "metadata": {},
   "source": [
    "After having completed the data wrangling and elaborate EDA on Yelp reviews and yelp business dataset, I have cp2_sentiment_df which focusses only on philadelphia restaurants and are in top 20 most popularly reviewed. Goal is to analyse the reviews and eventaully build a model so it can recommend customers with restaurants among top 20 which are mostly located in central part of philadelphia and also model will help the lower ranked restaurants to improve their businesse based on these user's sentiments. "
   ]
  },
  {
   "cell_type": "code",
   "execution_count": 1,
   "id": "0492df4d",
   "metadata": {},
   "outputs": [
    {
     "name": "stdout",
     "output_type": "stream",
     "text": [
      "Loaded Libraries\n"
     ]
    }
   ],
   "source": [
    "%matplotlib inline\n",
    "#\n",
    "# data manipulation and math\n",
    "#\n",
    "import numpy as np\n",
    "import scipy as sp\n",
    "import pandas as pd\n",
    "#\n",
    "# plotting and visualization\n",
    "#\n",
    "import matplotlib as mpl\n",
    "import matplotlib.cm as cm\n",
    "from matplotlib.colors import ListedColormap\n",
    "import matplotlib.pyplot as plt\n",
    "#\n",
    "import seaborn as sns\n",
    "#\n",
    "# modeling\n",
    "#\n",
    "from sklearn.preprocessing import OneHotEncoder as OHE\n",
    "import sklearn.model_selection\n",
    "from sklearn.model_selection import train_test_split\n",
    "import nltk\n",
    "# Remove tokens that do not contain any letters from words_tokenized\n",
    "import re\n",
    "from nltk.stem.snowball import SnowballStemmer\n",
    "# Create an English language SnowballStemmer object\n",
    "stemmer = SnowballStemmer(\"english\")\n",
    "from sklearn.feature_extraction.text import TfidfVectorizer\n",
    "from sklearn.model_selection import KFold\n",
    "from sklearn.linear_model import LogisticRegression\n",
    "from sklearn.metrics import accuracy_score, f1_score\n",
    "from sklearn.metrics import classification_report\n",
    "from sklearn.metrics import confusion_matrix\n",
    "from sklearn.metrics import ConfusionMatrixDisplay\n",
    "# multi-class classification\n",
    "from sklearn.multiclass import OneVsRestClassifier\n",
    "from sklearn.metrics import roc_curve\n",
    "from sklearn.metrics import roc_auc_score\n",
    "\n",
    "#\n",
    "print(\"Loaded Libraries\")\n",
    "import warnings\n",
    "warnings.simplefilter(\"ignore\")"
   ]
  },
  {
   "cell_type": "markdown",
   "id": "07a3f404",
   "metadata": {},
   "source": [
    "#### set some options in Jupyter and for Matplotlib, Pandas and Seaborn"
   ]
  },
  {
   "cell_type": "code",
   "execution_count": 2,
   "id": "3946ed25",
   "metadata": {},
   "outputs": [],
   "source": [
    "pd.set_option('display.max_columns', None)\n",
    "pd.set_option('display.max_colwidth', None)\n",
    "#\n",
    "plt.rcParams['figure.figsize'] = (3, 3)\n",
    "plt.style.use('seaborn-pastel')\n",
    "plt.rcParams['figure.dpi'] = 150      \n",
    "#\n",
    "c0 = sns.color_palette()[0]\n",
    "c1 = sns.color_palette()[1]\n",
    "c2 = sns.color_palette()[2]\n",
    "#\n",
    "cmap_light = ListedColormap(['#FFAAAA', '#AAFFAA', '#AAAAFF'])\n",
    "cmap_bold = ListedColormap(['#FF0000', '#00FF00', '#0000FF'])\n",
    "cm = plt.cm.RdBu\n",
    "cm_bright = ListedColormap(['#FF0000', '#0000FF'])\n",
    "#"
   ]
  },
  {
   "cell_type": "markdown",
   "id": "56900df7",
   "metadata": {},
   "source": [
    "### Load the dataset<a id='load_the_dataset'>"
   ]
  },
  {
   "cell_type": "code",
   "execution_count": 3,
   "id": "84758e32",
   "metadata": {},
   "outputs": [],
   "source": [
    "dflog_main = pd.read_csv('cp2_sentiment_df.csv')"
   ]
  },
  {
   "cell_type": "code",
   "execution_count": 4,
   "id": "ed5083f4",
   "metadata": {},
   "outputs": [
    {
     "name": "stdout",
     "output_type": "stream",
     "text": [
      "The data has  19697  rows and  21  columns\n",
      "\n",
      "column names: \n",
      "\n",
      "business_id\n",
      "name\n",
      "address\n",
      "city\n",
      "state\n",
      "postal_code\n",
      "latitude\n",
      "longitude\n",
      "review_count\n",
      "categories\n",
      "review_id\n",
      "user_id\n",
      "yelp_review_stars\n",
      "useful\n",
      "funny\n",
      "cool\n",
      "text\n",
      "date\n",
      "year\n",
      "text_length\n",
      "target\n"
     ]
    }
   ],
   "source": [
    "print('The data has ', dflog_main.shape[0], ' rows and ', dflog_main.shape[1], ' columns\\n')\n",
    "print('column names: \\n')\n",
    "print('\\n'.join(list(dflog_main.columns)))"
   ]
  },
  {
   "cell_type": "markdown",
   "id": "2d6b0af8",
   "metadata": {},
   "source": [
    "### Minimal EDA<a id='minimal_eda'>"
   ]
  },
  {
   "cell_type": "code",
   "execution_count": 5,
   "id": "1f215956",
   "metadata": {},
   "outputs": [
    {
     "data": {
      "text/html": [
       "<div>\n",
       "<style scoped>\n",
       "    .dataframe tbody tr th:only-of-type {\n",
       "        vertical-align: middle;\n",
       "    }\n",
       "\n",
       "    .dataframe tbody tr th {\n",
       "        vertical-align: top;\n",
       "    }\n",
       "\n",
       "    .dataframe thead th {\n",
       "        text-align: right;\n",
       "    }\n",
       "</style>\n",
       "<table border=\"1\" class=\"dataframe\">\n",
       "  <thead>\n",
       "    <tr style=\"text-align: right;\">\n",
       "      <th></th>\n",
       "      <th>business_id</th>\n",
       "      <th>name</th>\n",
       "      <th>address</th>\n",
       "      <th>city</th>\n",
       "      <th>state</th>\n",
       "      <th>postal_code</th>\n",
       "      <th>latitude</th>\n",
       "      <th>longitude</th>\n",
       "      <th>review_count</th>\n",
       "      <th>categories</th>\n",
       "      <th>review_id</th>\n",
       "      <th>user_id</th>\n",
       "      <th>yelp_review_stars</th>\n",
       "      <th>useful</th>\n",
       "      <th>funny</th>\n",
       "      <th>cool</th>\n",
       "      <th>text</th>\n",
       "      <th>date</th>\n",
       "      <th>year</th>\n",
       "      <th>text_length</th>\n",
       "      <th>target</th>\n",
       "    </tr>\n",
       "  </thead>\n",
       "  <tbody>\n",
       "    <tr>\n",
       "      <th>0</th>\n",
       "      <td>vUrTGX_7HxqeoQ_6QCVz6g</td>\n",
       "      <td>Suraya</td>\n",
       "      <td>1528 Frankford Ave</td>\n",
       "      <td>Philadelphia</td>\n",
       "      <td>PA</td>\n",
       "      <td>19125</td>\n",
       "      <td>39.973687</td>\n",
       "      <td>-75.133956</td>\n",
       "      <td>1121</td>\n",
       "      <td>Active Life, Beer Gardens, Grocery, Middle Eastern, Specialty Food, American (New), Parks, Cafes, Food, Nightlife, Restaurants, Coffee &amp; Tea, Lebanese</td>\n",
       "      <td>WeTHLEdLdP3Y3AXWWCsx4g</td>\n",
       "      <td>UizCd11Qoo74BKARrZp7HA</td>\n",
       "      <td>5</td>\n",
       "      <td>0</td>\n",
       "      <td>0</td>\n",
       "      <td>1</td>\n",
       "      <td>We are visiting in Philadelphia from California.  My son took us here for our 28 year wedding anniversary. All the food was delicious and the service was great! Everyone that worked there seemed happy to be there and we're extremely friendly! The pita bread was baked to order and served directly from the oven to the table and was by far, the best I'd had. The hummus, tabbouleh and marinated veggies were all Amazing! The grilled mixed mushrooms and lamb sausage were so flavorful! We didn't have anything that wasn't delicious! If I ever come back to Philly,  I would definitely go back to this place! SO GOOD!!</td>\n",
       "      <td>2018-05-28 21:27:38</td>\n",
       "      <td>2018</td>\n",
       "      <td>614</td>\n",
       "      <td>0</td>\n",
       "    </tr>\n",
       "    <tr>\n",
       "      <th>1</th>\n",
       "      <td>vUrTGX_7HxqeoQ_6QCVz6g</td>\n",
       "      <td>Suraya</td>\n",
       "      <td>1528 Frankford Ave</td>\n",
       "      <td>Philadelphia</td>\n",
       "      <td>PA</td>\n",
       "      <td>19125</td>\n",
       "      <td>39.973687</td>\n",
       "      <td>-75.133956</td>\n",
       "      <td>1121</td>\n",
       "      <td>Active Life, Beer Gardens, Grocery, Middle Eastern, Specialty Food, American (New), Parks, Cafes, Food, Nightlife, Restaurants, Coffee &amp; Tea, Lebanese</td>\n",
       "      <td>MrWpfvjVA6Qtj3CDvFfPiA</td>\n",
       "      <td>49aswoS-d09tyWNJimzZ5A</td>\n",
       "      <td>5</td>\n",
       "      <td>1</td>\n",
       "      <td>0</td>\n",
       "      <td>0</td>\n",
       "      <td>Delicious food ! I personally loved it !!!\\n\\nI was surprised to see 3-star  reviews here but when I read it I understood the reason . Everyone loved the place, the food but the prices. Let me tell you something. If I don't want to spend $200 for dinner I don't go to Barkley Prime! If I want to get a good quality lunch I don't expect it to be less than $25. Unfortunately life is expensive here in Philadelphia, especially for people with good tastes.  And yes you have to pay $$$ for a good quality meals. So If you are aware of that I'm sure you will totally enjoy SURAYA</td>\n",
       "      <td>2018-02-01 19:28:41</td>\n",
       "      <td>2018</td>\n",
       "      <td>573</td>\n",
       "      <td>0</td>\n",
       "    </tr>\n",
       "    <tr>\n",
       "      <th>2</th>\n",
       "      <td>vUrTGX_7HxqeoQ_6QCVz6g</td>\n",
       "      <td>Suraya</td>\n",
       "      <td>1528 Frankford Ave</td>\n",
       "      <td>Philadelphia</td>\n",
       "      <td>PA</td>\n",
       "      <td>19125</td>\n",
       "      <td>39.973687</td>\n",
       "      <td>-75.133956</td>\n",
       "      <td>1121</td>\n",
       "      <td>Active Life, Beer Gardens, Grocery, Middle Eastern, Specialty Food, American (New), Parks, Cafes, Food, Nightlife, Restaurants, Coffee &amp; Tea, Lebanese</td>\n",
       "      <td>hll3PKZbMbu2W7uFbF8ezQ</td>\n",
       "      <td>CmLK8cjvcUIKyNVMp8ZyDA</td>\n",
       "      <td>2</td>\n",
       "      <td>0</td>\n",
       "      <td>0</td>\n",
       "      <td>0</td>\n",
       "      <td>Beautiful place. Excellent food. I only gave it a 2 because they gouge you on the drinks. My manhattan was $16. A very small glass of house wine was $11.50. There is no justification for that. We eat out often in good restaurants. This is the only place that gouges you on the drinks.\\nI got the halibut. It was delicious but quite small with nothing on the side.</td>\n",
       "      <td>2018-08-24 13:30:41</td>\n",
       "      <td>2018</td>\n",
       "      <td>362</td>\n",
       "      <td>1</td>\n",
       "    </tr>\n",
       "    <tr>\n",
       "      <th>3</th>\n",
       "      <td>vUrTGX_7HxqeoQ_6QCVz6g</td>\n",
       "      <td>Suraya</td>\n",
       "      <td>1528 Frankford Ave</td>\n",
       "      <td>Philadelphia</td>\n",
       "      <td>PA</td>\n",
       "      <td>19125</td>\n",
       "      <td>39.973687</td>\n",
       "      <td>-75.133956</td>\n",
       "      <td>1121</td>\n",
       "      <td>Active Life, Beer Gardens, Grocery, Middle Eastern, Specialty Food, American (New), Parks, Cafes, Food, Nightlife, Restaurants, Coffee &amp; Tea, Lebanese</td>\n",
       "      <td>Mi5lScAdCWuJZj0QO_4qxg</td>\n",
       "      <td>wG77jgwRg53rN1KVxo637w</td>\n",
       "      <td>2</td>\n",
       "      <td>0</td>\n",
       "      <td>0</td>\n",
       "      <td>0</td>\n",
       "      <td>It's extremely overpriced, and the sandwiches are a joke. I love Mediterranean cuisine but this is one of the worst i had. In a city with so many places to eat, i'd expect they would try harder.\\n\\nService is excellent, though. And the place is really nice</td>\n",
       "      <td>2018-02-11 18:04:01</td>\n",
       "      <td>2018</td>\n",
       "      <td>254</td>\n",
       "      <td>1</td>\n",
       "    </tr>\n",
       "    <tr>\n",
       "      <th>4</th>\n",
       "      <td>vUrTGX_7HxqeoQ_6QCVz6g</td>\n",
       "      <td>Suraya</td>\n",
       "      <td>1528 Frankford Ave</td>\n",
       "      <td>Philadelphia</td>\n",
       "      <td>PA</td>\n",
       "      <td>19125</td>\n",
       "      <td>39.973687</td>\n",
       "      <td>-75.133956</td>\n",
       "      <td>1121</td>\n",
       "      <td>Active Life, Beer Gardens, Grocery, Middle Eastern, Specialty Food, American (New), Parks, Cafes, Food, Nightlife, Restaurants, Coffee &amp; Tea, Lebanese</td>\n",
       "      <td>SSu94Tvc6L5UBC4FDDyAbw</td>\n",
       "      <td>5s0nTuLRm3ue4Qfrj9PHkQ</td>\n",
       "      <td>5</td>\n",
       "      <td>0</td>\n",
       "      <td>0</td>\n",
       "      <td>0</td>\n",
       "      <td>Instagram worthy and Claire is an amazing server! \\n\\nSuraya is super beautiful guys. Nice open space, ceramic tiles, and orange infused water. You enter straight into their bakery/cafe where you can order and sit or you can walk past a little and be seated in their restaurant. I recommend making a reservation because it can get pretty crowded. After a 10 min wait my party of 4 were seated straight away. Their booths are super comfy and bouncy! \\n\\nClaire came to us shortly after and was super knowledgeable about the menu and helped us navigate for one of our party members who has an allergy. I started with the chai tea latte- so delicious. Then got a kefta platter. Once the food came out I realized it was the kefta sandwich but Claire and the manager figured everything out straight away and fixed my order (thanks guys!). The kefta was super moist, the hummus was A1 and their fries were seasoned to the max. Though I think their tabouli could have more lemon- just my preference though. Afterwards I finished with a rose and pistachio cruller which was so light and airy. Y'all gotta try it. \\n\\nIf visiting philly again I would definitely come back to Suraya.</td>\n",
       "      <td>2018-05-28 23:07:50</td>\n",
       "      <td>2018</td>\n",
       "      <td>1167</td>\n",
       "      <td>0</td>\n",
       "    </tr>\n",
       "  </tbody>\n",
       "</table>\n",
       "</div>"
      ],
      "text/plain": [
       "              business_id    name             address          city state  \\\n",
       "0  vUrTGX_7HxqeoQ_6QCVz6g  Suraya  1528 Frankford Ave  Philadelphia    PA   \n",
       "1  vUrTGX_7HxqeoQ_6QCVz6g  Suraya  1528 Frankford Ave  Philadelphia    PA   \n",
       "2  vUrTGX_7HxqeoQ_6QCVz6g  Suraya  1528 Frankford Ave  Philadelphia    PA   \n",
       "3  vUrTGX_7HxqeoQ_6QCVz6g  Suraya  1528 Frankford Ave  Philadelphia    PA   \n",
       "4  vUrTGX_7HxqeoQ_6QCVz6g  Suraya  1528 Frankford Ave  Philadelphia    PA   \n",
       "\n",
       "   postal_code   latitude  longitude  review_count  \\\n",
       "0        19125  39.973687 -75.133956          1121   \n",
       "1        19125  39.973687 -75.133956          1121   \n",
       "2        19125  39.973687 -75.133956          1121   \n",
       "3        19125  39.973687 -75.133956          1121   \n",
       "4        19125  39.973687 -75.133956          1121   \n",
       "\n",
       "                                                                                                                                               categories  \\\n",
       "0  Active Life, Beer Gardens, Grocery, Middle Eastern, Specialty Food, American (New), Parks, Cafes, Food, Nightlife, Restaurants, Coffee & Tea, Lebanese   \n",
       "1  Active Life, Beer Gardens, Grocery, Middle Eastern, Specialty Food, American (New), Parks, Cafes, Food, Nightlife, Restaurants, Coffee & Tea, Lebanese   \n",
       "2  Active Life, Beer Gardens, Grocery, Middle Eastern, Specialty Food, American (New), Parks, Cafes, Food, Nightlife, Restaurants, Coffee & Tea, Lebanese   \n",
       "3  Active Life, Beer Gardens, Grocery, Middle Eastern, Specialty Food, American (New), Parks, Cafes, Food, Nightlife, Restaurants, Coffee & Tea, Lebanese   \n",
       "4  Active Life, Beer Gardens, Grocery, Middle Eastern, Specialty Food, American (New), Parks, Cafes, Food, Nightlife, Restaurants, Coffee & Tea, Lebanese   \n",
       "\n",
       "                review_id                 user_id  yelp_review_stars  useful  \\\n",
       "0  WeTHLEdLdP3Y3AXWWCsx4g  UizCd11Qoo74BKARrZp7HA                  5       0   \n",
       "1  MrWpfvjVA6Qtj3CDvFfPiA  49aswoS-d09tyWNJimzZ5A                  5       1   \n",
       "2  hll3PKZbMbu2W7uFbF8ezQ  CmLK8cjvcUIKyNVMp8ZyDA                  2       0   \n",
       "3  Mi5lScAdCWuJZj0QO_4qxg  wG77jgwRg53rN1KVxo637w                  2       0   \n",
       "4  SSu94Tvc6L5UBC4FDDyAbw  5s0nTuLRm3ue4Qfrj9PHkQ                  5       0   \n",
       "\n",
       "   funny  cool  \\\n",
       "0      0     1   \n",
       "1      0     0   \n",
       "2      0     0   \n",
       "3      0     0   \n",
       "4      0     0   \n",
       "\n",
       "                                                                                                                                                                                                                                                                                                                                                                                                                                                                                                                                                                                                                                                                                                                                                                                                                                                                                                                                                                                                                                                                                                                                                                                                                    text  \\\n",
       "0                                                                                                                                                                                                                                                                                                                                                                                                                                                                                                                                                                                 We are visiting in Philadelphia from California.  My son took us here for our 28 year wedding anniversary. All the food was delicious and the service was great! Everyone that worked there seemed happy to be there and we're extremely friendly! The pita bread was baked to order and served directly from the oven to the table and was by far, the best I'd had. The hummus, tabbouleh and marinated veggies were all Amazing! The grilled mixed mushrooms and lamb sausage were so flavorful! We didn't have anything that wasn't delicious! If I ever come back to Philly,  I would definitely go back to this place! SO GOOD!!   \n",
       "1                                                                                                                                                                                                                                                                                                                                                                                                                                                                                                                                                                                                                        Delicious food ! I personally loved it !!!\\n\\nI was surprised to see 3-star  reviews here but when I read it I understood the reason . Everyone loved the place, the food but the prices. Let me tell you something. If I don't want to spend $200 for dinner I don't go to Barkley Prime! If I want to get a good quality lunch I don't expect it to be less than $25. Unfortunately life is expensive here in Philadelphia, especially for people with good tastes.  And yes you have to pay $$$ for a good quality meals. So If you are aware of that I'm sure you will totally enjoy SURAYA   \n",
       "2                                                                                                                                                                                                                                                                                                                                                                                                                                                                                                                                                                                                                                                                                                                                                                                                                                            Beautiful place. Excellent food. I only gave it a 2 because they gouge you on the drinks. My manhattan was $16. A very small glass of house wine was $11.50. There is no justification for that. We eat out often in good restaurants. This is the only place that gouges you on the drinks.\\nI got the halibut. It was delicious but quite small with nothing on the side.   \n",
       "3                                                                                                                                                                                                                                                                                                                                                                                                                                                                                                                                                                                                                                                                                                                                                                                                                                                                                                                                                       It's extremely overpriced, and the sandwiches are a joke. I love Mediterranean cuisine but this is one of the worst i had. In a city with so many places to eat, i'd expect they would try harder.\\n\\nService is excellent, though. And the place is really nice   \n",
       "4  Instagram worthy and Claire is an amazing server! \\n\\nSuraya is super beautiful guys. Nice open space, ceramic tiles, and orange infused water. You enter straight into their bakery/cafe where you can order and sit or you can walk past a little and be seated in their restaurant. I recommend making a reservation because it can get pretty crowded. After a 10 min wait my party of 4 were seated straight away. Their booths are super comfy and bouncy! \\n\\nClaire came to us shortly after and was super knowledgeable about the menu and helped us navigate for one of our party members who has an allergy. I started with the chai tea latte- so delicious. Then got a kefta platter. Once the food came out I realized it was the kefta sandwich but Claire and the manager figured everything out straight away and fixed my order (thanks guys!). The kefta was super moist, the hummus was A1 and their fries were seasoned to the max. Though I think their tabouli could have more lemon- just my preference though. Afterwards I finished with a rose and pistachio cruller which was so light and airy. Y'all gotta try it. \\n\\nIf visiting philly again I would definitely come back to Suraya.   \n",
       "\n",
       "                  date  year  text_length  target  \n",
       "0  2018-05-28 21:27:38  2018          614       0  \n",
       "1  2018-02-01 19:28:41  2018          573       0  \n",
       "2  2018-08-24 13:30:41  2018          362       1  \n",
       "3  2018-02-11 18:04:01  2018          254       1  \n",
       "4  2018-05-28 23:07:50  2018         1167       0  "
      ]
     },
     "execution_count": 5,
     "metadata": {},
     "output_type": "execute_result"
    }
   ],
   "source": [
    "dflog_main.head()"
   ]
  },
  {
   "cell_type": "code",
   "execution_count": 6,
   "id": "c7cb3c74",
   "metadata": {},
   "outputs": [
    {
     "data": {
      "image/png": "[encoded data removed]",
      "text/plain": [
       "<Figure size 450x450 with 1 Axes>"
      ]
     },
     "metadata": {
      "needs_background": "light"
     },
     "output_type": "display_data"
    },
    {
     "data": {
      "image/png": "[encoded data removed]",
      "text/plain": [
       "<Figure size 450x450 with 1 Axes>"
      ]
     },
     "metadata": {
      "needs_background": "light"
     },
     "output_type": "display_data"
    },
    {
     "data": {
      "image/png": "[encoded data removed]",
      "text/plain": [
       "<Figure size 450x450 with 1 Axes>"
      ]
     },
     "metadata": {
      "needs_background": "light"
     },
     "output_type": "display_data"
    }
   ],
   "source": [
    "for col in list(dflog_main[['postal_code','year','target']]):\n",
    "    dflog_main[col].plot(kind = 'hist', title = col)\n",
    "    plt.show()"
   ]
  },
  {
   "cell_type": "markdown",
   "id": "4b0b3b08",
   "metadata": {},
   "source": [
    "### One Interesting observation that i noted is more distribution in 2018 and 2019 and less in 2020 and 2021 and very less in 2022. Less numbers in 2020 and 2021 could be because of <font color='red'>COVID pandemic</font>? 2022, not much of data available yet. "
   ]
  },
  {
   "cell_type": "code",
   "execution_count": 7,
   "id": "b3baa966",
   "metadata": {},
   "outputs": [
    {
     "data": {
      "text/plain": [
       "(19697, 21)"
      ]
     },
     "execution_count": 7,
     "metadata": {},
     "output_type": "execute_result"
    }
   ],
   "source": [
    "dflog_main.shape"
   ]
  },
  {
   "cell_type": "code",
   "execution_count": 8,
   "id": "f7571687",
   "metadata": {},
   "outputs": [
    {
     "data": {
      "text/plain": [
       "21"
      ]
     },
     "execution_count": 8,
     "metadata": {},
     "output_type": "execute_result"
    }
   ],
   "source": [
    "#no. columns\n",
    "dflog_main.shape[1]"
   ]
  },
  {
   "cell_type": "code",
   "execution_count": 9,
   "id": "50944929",
   "metadata": {},
   "outputs": [
    {
     "data": {
      "text/plain": [
       "19697"
      ]
     },
     "execution_count": 9,
     "metadata": {},
     "output_type": "execute_result"
    }
   ],
   "source": [
    "#number of records:\n",
    "dflog_main.shape[0]"
   ]
  },
  {
   "cell_type": "markdown",
   "id": "aabcd2ae",
   "metadata": {},
   "source": [
    "### Proportion of target column classes Before train_test_split<a id='target_column_before_ttsplit'>\n",
    "##### <p style=text-align:left>* [Back to Contents](#contents)</p>"
   ]
  },
  {
   "cell_type": "code",
   "execution_count": 10,
   "id": "db998cf6",
   "metadata": {},
   "outputs": [
    {
     "data": {
      "text/plain": [
       "0    15484\n",
       "1     2238\n",
       "2     1975\n",
       "Name: target, dtype: int64"
      ]
     },
     "execution_count": 10,
     "metadata": {},
     "output_type": "execute_result"
    }
   ],
   "source": [
    "class_counts = dflog_main['target'].value_counts()\n",
    "class_counts"
   ]
  },
  {
   "cell_type": "code",
   "execution_count": 11,
   "id": "a13c764f",
   "metadata": {},
   "outputs": [
    {
     "data": {
      "text/plain": [
       "pandas.core.series.Series"
      ]
     },
     "execution_count": 11,
     "metadata": {},
     "output_type": "execute_result"
    }
   ],
   "source": [
    "type(class_counts)"
   ]
  },
  {
   "cell_type": "code",
   "execution_count": 12,
   "id": "6943fbbd",
   "metadata": {},
   "outputs": [
    {
     "data": {
      "text/plain": [
       "0    78.610956\n",
       "1    11.362136\n",
       "2    10.026908\n",
       "dtype: float64"
      ]
     },
     "execution_count": 12,
     "metadata": {},
     "output_type": "execute_result"
    }
   ],
   "source": [
    "class_percentages = pd.Series([(x / dflog_main.shape[0]) * 100.00 for x in class_counts])\n",
    "class_percentages"
   ]
  },
  {
   "cell_type": "markdown",
   "id": "cc54c830",
   "metadata": {},
   "source": [
    "Now we can use the percentages as labels and plot the distribution of the three classes:"
   ]
  },
  {
   "cell_type": "code",
   "execution_count": 13,
   "id": "4ae91376",
   "metadata": {},
   "outputs": [
    {
     "data": {
      "image/png": "[encoded data removed]",
      "text/plain": [
       "<Figure size 450x450 with 1 Axes>"
      ]
     },
     "metadata": {
      "needs_background": "light"
     },
     "output_type": "display_data"
    }
   ],
   "source": [
    "fig, ax = plt.subplots()\n",
    "ax.bar(class_counts.index, class_counts)\n",
    "ax.set_xticks([0, 1, 2])\n",
    "ax.set_xticklabels(class_percentages.index.astype(str) + '\\n' + ' ' +\n",
    "                   class_percentages.round(0).astype(str) + '%')\n",
    "ax.set_ylabel('Count')\n",
    "ax.set_xlabel('Review Types')\n",
    "ax.set_title('Reviews class distribution\\nwhere 0 is positive, 1 is negative and 2 is neutral',\n",
    "              fontsize = 10)\n",
    "plt.show()"
   ]
  },
  {
   "cell_type": "markdown",
   "id": "af6566f4",
   "metadata": {},
   "source": [
    "Target column has three unique values 0,1,2.\n",
    "\n",
    "* 0 means positive - 4 star and 5 star\n",
    "* 1 means negative- 1 star and 2 star\n",
    "* 2 means neutral - 3 star"
   ]
  },
  {
   "cell_type": "markdown",
   "id": "65c4244e",
   "metadata": {},
   "source": [
    "### Columns for Preprocessing<a id='columns_of_interest'>"
   ]
  },
  {
   "cell_type": "code",
   "execution_count": 14,
   "id": "f06bff52",
   "metadata": {},
   "outputs": [],
   "source": [
    "# Picking the only text and target column\n",
    "df_final = dflog_main[['text','target']]"
   ]
  },
  {
   "cell_type": "code",
   "execution_count": 15,
   "id": "575e919d",
   "metadata": {},
   "outputs": [
    {
     "data": {
      "text/html": [
       "<div>\n",
       "<style scoped>\n",
       "    .dataframe tbody tr th:only-of-type {\n",
       "        vertical-align: middle;\n",
       "    }\n",
       "\n",
       "    .dataframe tbody tr th {\n",
       "        vertical-align: top;\n",
       "    }\n",
       "\n",
       "    .dataframe thead th {\n",
       "        text-align: right;\n",
       "    }\n",
       "</style>\n",
       "<table border=\"1\" class=\"dataframe\">\n",
       "  <thead>\n",
       "    <tr style=\"text-align: right;\">\n",
       "      <th></th>\n",
       "      <th>text</th>\n",
       "      <th>target</th>\n",
       "    </tr>\n",
       "  </thead>\n",
       "  <tbody>\n",
       "    <tr>\n",
       "      <th>0</th>\n",
       "      <td>We are visiting in Philadelphia from California.  My son took us here for our 28 year wedding anniversary. All the food was delicious and the service was great! Everyone that worked there seemed happy to be there and we're extremely friendly! The pita bread was baked to order and served directly from the oven to the table and was by far, the best I'd had. The hummus, tabbouleh and marinated veggies were all Amazing! The grilled mixed mushrooms and lamb sausage were so flavorful! We didn't have anything that wasn't delicious! If I ever come back to Philly,  I would definitely go back to this place! SO GOOD!!</td>\n",
       "      <td>0</td>\n",
       "    </tr>\n",
       "    <tr>\n",
       "      <th>1</th>\n",
       "      <td>Delicious food ! I personally loved it !!!\\n\\nI was surprised to see 3-star  reviews here but when I read it I understood the reason . Everyone loved the place, the food but the prices. Let me tell you something. If I don't want to spend $200 for dinner I don't go to Barkley Prime! If I want to get a good quality lunch I don't expect it to be less than $25. Unfortunately life is expensive here in Philadelphia, especially for people with good tastes.  And yes you have to pay $$$ for a good quality meals. So If you are aware of that I'm sure you will totally enjoy SURAYA</td>\n",
       "      <td>0</td>\n",
       "    </tr>\n",
       "    <tr>\n",
       "      <th>2</th>\n",
       "      <td>Beautiful place. Excellent food. I only gave it a 2 because they gouge you on the drinks. My manhattan was $16. A very small glass of house wine was $11.50. There is no justification for that. We eat out often in good restaurants. This is the only place that gouges you on the drinks.\\nI got the halibut. It was delicious but quite small with nothing on the side.</td>\n",
       "      <td>1</td>\n",
       "    </tr>\n",
       "  </tbody>\n",
       "</table>\n",
       "</div>"
      ],
      "text/plain": [
       "                                                                                                                                                                                                                                                                                                                                                                                                                                                                                                                                                                                                                                     text  \\\n",
       "0  We are visiting in Philadelphia from California.  My son took us here for our 28 year wedding anniversary. All the food was delicious and the service was great! Everyone that worked there seemed happy to be there and we're extremely friendly! The pita bread was baked to order and served directly from the oven to the table and was by far, the best I'd had. The hummus, tabbouleh and marinated veggies were all Amazing! The grilled mixed mushrooms and lamb sausage were so flavorful! We didn't have anything that wasn't delicious! If I ever come back to Philly,  I would definitely go back to this place! SO GOOD!!   \n",
       "1                                         Delicious food ! I personally loved it !!!\\n\\nI was surprised to see 3-star  reviews here but when I read it I understood the reason . Everyone loved the place, the food but the prices. Let me tell you something. If I don't want to spend $200 for dinner I don't go to Barkley Prime! If I want to get a good quality lunch I don't expect it to be less than $25. Unfortunately life is expensive here in Philadelphia, especially for people with good tastes.  And yes you have to pay $$$ for a good quality meals. So If you are aware of that I'm sure you will totally enjoy SURAYA   \n",
       "2                                                                                                                                                                                                                                                             Beautiful place. Excellent food. I only gave it a 2 because they gouge you on the drinks. My manhattan was $16. A very small glass of house wine was $11.50. There is no justification for that. We eat out often in good restaurants. This is the only place that gouges you on the drinks.\\nI got the halibut. It was delicious but quite small with nothing on the side.   \n",
       "\n",
       "   target  \n",
       "0       0  \n",
       "1       0  \n",
       "2       1  "
      ]
     },
     "execution_count": 15,
     "metadata": {},
     "output_type": "execute_result"
    }
   ],
   "source": [
    "df_final.head(3)"
   ]
  },
  {
   "cell_type": "markdown",
   "id": "ad67f886",
   "metadata": {},
   "source": [
    "### Clean up the text before train_test_split"
   ]
  },
  {
   "cell_type": "code",
   "execution_count": 16,
   "id": "79ba7889",
   "metadata": {},
   "outputs": [],
   "source": [
    "import re \n",
    "def function_clean(text):\n",
    "    text = re.sub(r\"http\\S+\", \"\", text) #removing the URL Http\n",
    "    # Removal of mentions\n",
    "    text = re.sub(\"@[^\\s]*\", \"\", text)\n",
    "    # Removal of hashtags\n",
    "    text = re.sub(\"#[^\\s]*\", \"\", text)\n",
    "    # Removal of numbers\n",
    "    text = re.sub('[0-9]*[+-:]*[0-9]+', '', text)\n",
    "    text = re.sub(\"(\\\\d|\\\\W)+\",\" \",text)\n",
    "    text = re.sub(\"'s\", \"\", text)   \n",
    "    return text"
   ]
  },
  {
   "cell_type": "code",
   "execution_count": 17,
   "id": "fb39e28b",
   "metadata": {},
   "outputs": [],
   "source": [
    "# applying the cleaning function to text column\n",
    "df_final['text'] = df_final['text'].apply(lambda text: function_clean(text))"
   ]
  },
  {
   "cell_type": "code",
   "execution_count": 18,
   "id": "d77b6965",
   "metadata": {},
   "outputs": [
    {
     "data": {
      "text/html": [
       "<div>\n",
       "<style scoped>\n",
       "    .dataframe tbody tr th:only-of-type {\n",
       "        vertical-align: middle;\n",
       "    }\n",
       "\n",
       "    .dataframe tbody tr th {\n",
       "        vertical-align: top;\n",
       "    }\n",
       "\n",
       "    .dataframe thead th {\n",
       "        text-align: right;\n",
       "    }\n",
       "</style>\n",
       "<table border=\"1\" class=\"dataframe\">\n",
       "  <thead>\n",
       "    <tr style=\"text-align: right;\">\n",
       "      <th></th>\n",
       "      <th>text</th>\n",
       "      <th>target</th>\n",
       "    </tr>\n",
       "  </thead>\n",
       "  <tbody>\n",
       "    <tr>\n",
       "      <th>0</th>\n",
       "      <td>We are visiting in Philadelphia from California My son took us here for our year wedding anniversary All the food was delicious and the service was great Everyone that worked there seemed happy to be there and we re extremely friendly The pita bread was baked to order and served directly from the oven to the table and was by far the best I d had The hummus tabbouleh and marinated veggies were all Amazing The grilled mixed mushrooms and lamb sausage were so flavorful We didn t have anything that wasn t delicious If I ever come back to Philly I would definitely go back to this place SO GOOD</td>\n",
       "      <td>0</td>\n",
       "    </tr>\n",
       "    <tr>\n",
       "      <th>1</th>\n",
       "      <td>Delicious food I personally loved it I was surprised to see star reviews here but when I read it I understood the reason Everyone loved the place the food but the prices Let me tell you something If I don t want to spend for dinner I don t go to Barkley Prime If I want to get a good quality lunch I don t expect it to be less than Unfortunately life is expensive here in Philadelphia especially for people with good tastes And yes you have to pay for a good quality meals So If you are aware of that I m sure you will totally enjoy SURAYA</td>\n",
       "      <td>0</td>\n",
       "    </tr>\n",
       "    <tr>\n",
       "      <th>2</th>\n",
       "      <td>Beautiful place Excellent food I only gave it a because they gouge you on the drinks My manhattan was A very small glass of house wine was There is no justification for that We eat out often in good restaurants This is the only place that gouges you on the drinks I got the halibut It was delicious but quite small with nothing on the side</td>\n",
       "      <td>1</td>\n",
       "    </tr>\n",
       "  </tbody>\n",
       "</table>\n",
       "</div>"
      ],
      "text/plain": [
       "                                                                                                                                                                                                                                                                                                                                                                                                                                                                                                                                                                                                                   text  \\\n",
       "0  We are visiting in Philadelphia from California My son took us here for our year wedding anniversary All the food was delicious and the service was great Everyone that worked there seemed happy to be there and we re extremely friendly The pita bread was baked to order and served directly from the oven to the table and was by far the best I d had The hummus tabbouleh and marinated veggies were all Amazing The grilled mixed mushrooms and lamb sausage were so flavorful We didn t have anything that wasn t delicious If I ever come back to Philly I would definitely go back to this place SO GOOD    \n",
       "1                                                           Delicious food I personally loved it I was surprised to see star reviews here but when I read it I understood the reason Everyone loved the place the food but the prices Let me tell you something If I don t want to spend for dinner I don t go to Barkley Prime If I want to get a good quality lunch I don t expect it to be less than Unfortunately life is expensive here in Philadelphia especially for people with good tastes And yes you have to pay for a good quality meals So If you are aware of that I m sure you will totally enjoy SURAYA   \n",
       "2                                                                                                                                                                                                                                                                  Beautiful place Excellent food I only gave it a because they gouge you on the drinks My manhattan was A very small glass of house wine was There is no justification for that We eat out often in good restaurants This is the only place that gouges you on the drinks I got the halibut It was delicious but quite small with nothing on the side    \n",
       "\n",
       "   target  \n",
       "0       0  \n",
       "1       0  \n",
       "2       1  "
      ]
     },
     "execution_count": 18,
     "metadata": {},
     "output_type": "execute_result"
    }
   ],
   "source": [
    "df_final.head(3)"
   ]
  },
  {
   "cell_type": "markdown",
   "id": "a894832f",
   "metadata": {},
   "source": [
    "The columns that we are really required for preprocessing are basically 'text' and 'target'.\n",
    "\n",
    "I will extract the dependent (Y) and independent(X) variables from this data which are basically df_final.target and df_final.text"
   ]
  },
  {
   "cell_type": "markdown",
   "id": "136ac42e",
   "metadata": {},
   "source": [
    "### Train Test Split<a id='train_test_split'>"
   ]
  },
  {
   "cell_type": "code",
   "execution_count": 20,
   "id": "13439734",
   "metadata": {},
   "outputs": [],
   "source": [
    "y=df_final['target']"
   ]
  },
  {
   "cell_type": "code",
   "execution_count": 21,
   "id": "383557d2",
   "metadata": {},
   "outputs": [],
   "source": [
    "X_train,X_test,y_train,y_test=train_test_split(df_final['text'], df_final['target'], random_state=2,test_size=0.2, stratify = df_final['target'])"
   ]
  },
  {
   "cell_type": "code",
   "execution_count": 22,
   "id": "eba2e53b",
   "metadata": {},
   "outputs": [
    {
     "data": {
      "text/plain": [
       "(pandas.core.series.Series,\n",
       " pandas.core.series.Series,\n",
       " pandas.core.series.Series,\n",
       " pandas.core.series.Series)"
      ]
     },
     "execution_count": 22,
     "metadata": {},
     "output_type": "execute_result"
    }
   ],
   "source": [
    "type(X_train),type(X_test), type(y_train),type(y_test)"
   ]
  },
  {
   "cell_type": "code",
   "execution_count": 23,
   "id": "e7c90fa7",
   "metadata": {
    "scrolled": true
   },
   "outputs": [
    {
     "name": "stdout",
     "output_type": "stream",
     "text": [
      "x_train shape : (15757,)\n",
      "x_test shape  : (3940,)\n",
      "y_train shape : (15757,)\n",
      "y_test shape  : (3940,)\n"
     ]
    }
   ],
   "source": [
    "print(\"x_train shape :\",X_train.shape)\n",
    "print(\"x_test shape  :\",X_test.shape)\n",
    "print(\"y_train shape :\",y_train.shape)\n",
    "print(\"y_test shape  :\",y_test.shape)"
   ]
  },
  {
   "cell_type": "markdown",
   "id": "dddf8c0f",
   "metadata": {},
   "source": [
    "### Proportion of Target columns in train set After train_test_split<a id='target_column_after_ttsplit'>\n",
    "##### <p style=text-align:left>* [Back to Contents](#contents)</p>"
   ]
  },
  {
   "cell_type": "code",
   "execution_count": 24,
   "id": "6e4c6e31",
   "metadata": {},
   "outputs": [
    {
     "data": {
      "text/plain": [
       "0    12387\n",
       "1     1790\n",
       "2     1580\n",
       "Name: target, dtype: int64"
      ]
     },
     "execution_count": 24,
     "metadata": {},
     "output_type": "execute_result"
    }
   ],
   "source": [
    "train_target_class_counts= y_train.value_counts()\n",
    "train_target_class_counts"
   ]
  },
  {
   "cell_type": "code",
   "execution_count": 25,
   "id": "9efefecb",
   "metadata": {},
   "outputs": [
    {
     "data": {
      "text/plain": [
       "pandas.core.series.Series"
      ]
     },
     "execution_count": 25,
     "metadata": {},
     "output_type": "execute_result"
    }
   ],
   "source": [
    "type(train_target_class_counts)"
   ]
  },
  {
   "cell_type": "code",
   "execution_count": 26,
   "id": "af49eb44",
   "metadata": {},
   "outputs": [
    {
     "data": {
      "text/plain": [
       "15757"
      ]
     },
     "execution_count": 26,
     "metadata": {},
     "output_type": "execute_result"
    }
   ],
   "source": [
    "y_train.shape[0]"
   ]
  },
  {
   "cell_type": "code",
   "execution_count": 27,
   "id": "16051b3d",
   "metadata": {},
   "outputs": [
    {
     "data": {
      "text/plain": [
       "0    78.612680\n",
       "1    11.360030\n",
       "2    10.027289\n",
       "dtype: float64"
      ]
     },
     "execution_count": 27,
     "metadata": {},
     "output_type": "execute_result"
    }
   ],
   "source": [
    "train_target_class_percentages = pd.Series([(x / y_train.shape[0]) * 100.00 for x in train_target_class_counts])\n",
    "train_target_class_percentages"
   ]
  },
  {
   "cell_type": "code",
   "execution_count": 28,
   "id": "ce121423",
   "metadata": {},
   "outputs": [
    {
     "data": {
      "image/png": "[encoded data removed]",
      "text/plain": [
       "<Figure size 450x450 with 1 Axes>"
      ]
     },
     "metadata": {
      "needs_background": "light"
     },
     "output_type": "display_data"
    }
   ],
   "source": [
    "fig, ax = plt.subplots()\n",
    "ax.bar(train_target_class_counts.index, train_target_class_counts)\n",
    "ax.set_xticks([0, 1, 2])\n",
    "ax.set_xticklabels(train_target_class_percentages.index.astype(str) + '\\n' + ' ' +\n",
    "                   train_target_class_percentages.round(0).astype(str) + '%')\n",
    "ax.set_ylabel('Count')\n",
    "ax.set_xlabel('Review Types')\n",
    "ax.set_title('Reviews target class distribution in train set \\nwhere 0 is positive, 1 is negative and 2 is neutral',\n",
    "              fontsize = 10)\n",
    "plt.show()"
   ]
  },
  {
   "cell_type": "markdown",
   "id": "fef8ec00",
   "metadata": {},
   "source": [
    "### Proportion of Target columns in test set After train_test_split<a id='target_testset_column_after_ttsplit'>\n",
    "##### <p style=text-align:left>* [Back to Contents](#contents)</p>"
   ]
  },
  {
   "cell_type": "code",
   "execution_count": 29,
   "id": "b6ce7c26",
   "metadata": {},
   "outputs": [
    {
     "data": {
      "text/plain": [
       "0    3097\n",
       "1     448\n",
       "2     395\n",
       "Name: target, dtype: int64"
      ]
     },
     "execution_count": 29,
     "metadata": {},
     "output_type": "execute_result"
    }
   ],
   "source": [
    "test_target_class_counts= y_test.value_counts()\n",
    "test_target_class_counts"
   ]
  },
  {
   "cell_type": "code",
   "execution_count": 30,
   "id": "598650d9",
   "metadata": {},
   "outputs": [
    {
     "data": {
      "text/plain": [
       "pandas.core.series.Series"
      ]
     },
     "execution_count": 30,
     "metadata": {},
     "output_type": "execute_result"
    }
   ],
   "source": [
    "type(test_target_class_counts)"
   ]
  },
  {
   "cell_type": "code",
   "execution_count": 31,
   "id": "d9005cda",
   "metadata": {},
   "outputs": [
    {
     "data": {
      "text/plain": [
       "3940"
      ]
     },
     "execution_count": 31,
     "metadata": {},
     "output_type": "execute_result"
    }
   ],
   "source": [
    "y_test.shape[0]"
   ]
  },
  {
   "cell_type": "code",
   "execution_count": 32,
   "id": "5b876de3",
   "metadata": {},
   "outputs": [
    {
     "data": {
      "text/plain": [
       "0    78.604061\n",
       "1    11.370558\n",
       "2    10.025381\n",
       "dtype: float64"
      ]
     },
     "execution_count": 32,
     "metadata": {},
     "output_type": "execute_result"
    }
   ],
   "source": [
    "test_target_class_percentages = pd.Series([(x / y_test.shape[0]) * 100.00 for x in test_target_class_counts])\n",
    "test_target_class_percentages"
   ]
  },
  {
   "cell_type": "code",
   "execution_count": 33,
   "id": "49adb741",
   "metadata": {},
   "outputs": [
    {
     "data": {
      "image/png": "[encoded data removed]",
      "text/plain": [
       "<Figure size 450x450 with 1 Axes>"
      ]
     },
     "metadata": {
      "needs_background": "light"
     },
     "output_type": "display_data"
    }
   ],
   "source": [
    "fig, ax = plt.subplots()\n",
    "ax.bar(test_target_class_counts.index, test_target_class_counts)\n",
    "ax.set_xticks([0, 1, 2])\n",
    "ax.set_xticklabels(test_target_class_percentages.index.astype(str) + '\\n' + ' ' +\n",
    "                   test_target_class_percentages.round(0).astype(str) + '%')\n",
    "ax.set_ylabel('Count')\n",
    "ax.set_xlabel('Review Types')\n",
    "ax.set_title('Reviews target class distribution in train set \\nwhere 0 is positive, 1 is negative and 2 is neutral',\n",
    "              fontsize = 10)\n",
    "plt.show()"
   ]
  },
  {
   "cell_type": "markdown",
   "id": "8cc07978",
   "metadata": {},
   "source": [
    "### Term Frequency-Inverse Document Frequency(TF-IFD)<a id='tf_ifd'>\n",
    "##### <p style=text-align:left>* [Back to Contents](#contents)</p>"
   ]
  },
  {
   "cell_type": "markdown",
   "id": "a715fb4a",
   "metadata": {},
   "source": [
    "Machine learning algorithms require inputs to be in numeric form and since our data has textual information and my goal is to build a classification model where the input will be a numeric representation of all the reviews and each review will have a label of either a 0,1,or 2. There are few vectorization techniques and I will use Term Frequency-Inverse Document Frequency (TF-IDF)  vectorization as this has the capability to capture better information than CountVecotorizer.  \n",
    "\n",
    "Consider the word 'the'. It appears quite frequently in almost all review texts and will have a high count in each case. But obviously, it isn't the comment of all the reviews! Term Frequency-Inverse Document Frequency (TF-IDF) is one method which overcomes the shortcomings of CountVectorizer. The Term Frequency of a word is the measure of how often it appears in a document, while the Inverse Document Frequency is the parameter which reduces the importance of a word if it frequently appears in several documents."
   ]
  },
  {
   "cell_type": "markdown",
   "id": "63a411cd",
   "metadata": {},
   "source": [
    "### Define tokenize and stem function<a id='tokenize_stem_func'>"
   ]
  },
  {
   "cell_type": "code",
   "execution_count": 34,
   "id": "0ed2b809",
   "metadata": {},
   "outputs": [
    {
     "name": "stdout",
     "output_type": "stream",
     "text": [
      "['delici', 'food', 'i', 'person', 'love', 'it', 'i', 'was', 'surpris', 'to', 'see', '3-star', 'review', 'here', 'but', 'when', 'i', 'read', 'it', 'i', 'understood', 'the', 'reason', 'everyon', 'love', 'the', 'place', 'the', 'food', 'but', 'the', 'price', 'let', 'me', 'tell', 'you', 'someth', 'if', 'i', 'do', \"n't\", 'want', 'to', 'spend', 'for', 'dinner', 'i', 'do', \"n't\", 'go', 'to', 'barkley', 'prime', 'if', 'i', 'want', 'to', 'get', 'a', 'good', 'qualiti', 'lunch', 'i', 'do', \"n't\", 'expect', 'it', 'to', 'be', 'less', 'than', 'unfortun', 'life', 'is', 'expens', 'here', 'in', 'philadelphia', 'especi', 'for', 'peopl', 'with', 'good', 'tast', 'and', 'yes', 'you', 'have', 'to', 'pay', 'for', 'a', 'good', 'qualiti', 'meal', 'so', 'if', 'you', 'are', 'awar', 'of', 'that', 'i', \"'m\", 'sure', 'you', 'will', 'total', 'enjoy', 'suraya']\n"
     ]
    }
   ],
   "source": [
    "# Define a function to perform both stemming and tokenization\n",
    "\n",
    "\n",
    "def tokenize_and_stem(text):\n",
    "\n",
    "    tokens = [y for x in nltk.sent_tokenize(text) for y in nltk.word_tokenize(x)]\n",
    "\n",
    "    filtered_tokens = [token for token in tokens if re.search('[a-zA-Z]',token)]\n",
    "\n",
    "    stems = [stemmer.stem(token) for token in filtered_tokens]\n",
    "\n",
    "    return stems\n",
    "\n",
    "words_stemmed = tokenize_and_stem(dflog_main['text'][1])\n",
    "print(words_stemmed)"
   ]
  },
  {
   "cell_type": "code",
   "execution_count": 35,
   "id": "2377e455",
   "metadata": {},
   "outputs": [],
   "source": [
    "# Instantiate TfidfVectorizer object with stopwords and tokenizer\n",
    "# parameters for efficient processing of text\n",
    "\n",
    "tfidf = TfidfVectorizer(stop_words='english',tokenizer=tokenize_and_stem,ngram_range=(1,1))"
   ]
  },
  {
   "cell_type": "code",
   "execution_count": 36,
   "id": "06b5e506",
   "metadata": {},
   "outputs": [],
   "source": [
    "X_train_transformed = tfidf.fit_transform(X_train)\n"
   ]
  },
  {
   "cell_type": "code",
   "execution_count": 37,
   "id": "eb9d97cc",
   "metadata": {},
   "outputs": [
    {
     "data": {
      "text/plain": [
       "scipy.sparse.csr.csr_matrix"
      ]
     },
     "execution_count": 37,
     "metadata": {},
     "output_type": "execute_result"
    }
   ],
   "source": [
    "type(X_train_transformed)"
   ]
  },
  {
   "cell_type": "code",
   "execution_count": 39,
   "id": "12157c60",
   "metadata": {},
   "outputs": [],
   "source": [
    "X_test_transformed = tfidf.transform(X_test)"
   ]
  },
  {
   "cell_type": "code",
   "execution_count": 41,
   "id": "c74bb57e",
   "metadata": {},
   "outputs": [
    {
     "data": {
      "text/plain": [
       "scipy.sparse.csr.csr_matrix"
      ]
     },
     "execution_count": 41,
     "metadata": {},
     "output_type": "execute_result"
    }
   ],
   "source": [
    "type(X_test_transformed)"
   ]
  },
  {
   "cell_type": "markdown",
   "id": "697a175e",
   "metadata": {},
   "source": [
    "### Fitting LogisticRegression With multi-class One versus Rest<a id='fitting_logistic_regression_ovr'>\n",
    "##### <p style=text-align:left>* [Back to Contents](#contents)</p>"
   ]
  },
  {
   "cell_type": "code",
   "execution_count": 45,
   "id": "467aaa69",
   "metadata": {},
   "outputs": [
    {
     "name": "stdout",
     "output_type": "stream",
     "text": [
      "Score on training set: 0.885955448372152\n",
      "Score on test set: 0.8634517766497461\n"
     ]
    }
   ],
   "source": [
    "# Fitting Logistic regression to the training set\n",
    "logreg = LogisticRegression(multi_class='ovr')\n",
    "logreg.fit(X_train_transformed, y_train)\n",
    "\n",
    "# Predicting the test set results\n",
    "y_pred_train_logreg = logreg.predict(X_train_transformed)\n",
    "y_pred_logreg = logreg.predict(X_test_transformed)\n",
    "\n",
    "# Training score\n",
    "print(f\"Score on training set: {logreg.score(X_train_transformed,y_train)}\")\n",
    "print(f\"Score on test set: {logreg.score(X_test_transformed,y_test)}\")"
   ]
  },
  {
   "cell_type": "code",
   "execution_count": 44,
   "id": "40bc7c6d",
   "metadata": {},
   "outputs": [
    {
     "data": {
      "text/plain": [
       "<sklearn.metrics._plot.confusion_matrix.ConfusionMatrixDisplay at 0x13f0449c0d0>"
      ]
     },
     "execution_count": 44,
     "metadata": {},
     "output_type": "execute_result"
    },
    {
     "data": {
      "image/png": "[encoded data removed]",
      "text/plain": [
       "<Figure size 450x450 with 2 Axes>"
      ]
     },
     "metadata": {
      "needs_background": "light"
     },
     "output_type": "display_data"
    }
   ],
   "source": [
    "cm = confusion_matrix(y_test, y_pred_logreg, labels = logreg.classes_)\n",
    "_, ax = plt.subplots()\n",
    "display_cm = ConfusionMatrixDisplay(confusion_matrix = cm, \n",
    "                                    display_labels = ['positive', 'negative','neutral'])\n",
    "ax.set_xticks([0, 1,2])\n",
    "ax.set_yticks([0, 1,2])\n",
    "ax.set_xticklabels(labels = ['positive', 'negative','neutral'], fontsize = 8)\n",
    "ax.set_yticklabels(labels = ['positive', 'negative','neutral'], fontsize = 8)\n",
    "display_cm.plot(ax = ax)"
   ]
  },
  {
   "cell_type": "code",
   "execution_count": 46,
   "id": "d8053411",
   "metadata": {},
   "outputs": [
    {
     "name": "stdout",
     "output_type": "stream",
     "text": [
      "              precision    recall  f1-score   support\n",
      "\n",
      "           0       0.89      0.99      0.94     12387\n",
      "           1       0.86      0.71      0.78      1790\n",
      "           2       0.76      0.25      0.38      1580\n",
      "\n",
      "    accuracy                           0.89     15757\n",
      "   macro avg       0.84      0.65      0.70     15757\n",
      "weighted avg       0.88      0.89      0.87     15757\n",
      "\n"
     ]
    }
   ],
   "source": [
    "print(classification_report(y_train, y_pred_train_logreg))"
   ]
  },
  {
   "cell_type": "code",
   "execution_count": 47,
   "id": "6679a9ea",
   "metadata": {},
   "outputs": [
    {
     "name": "stdout",
     "output_type": "stream",
     "text": [
      "              precision    recall  f1-score   support\n",
      "\n",
      "           0       0.88      0.99      0.93      3097\n",
      "           1       0.77      0.60      0.67       448\n",
      "           2       0.61      0.19      0.29       395\n",
      "\n",
      "    accuracy                           0.86      3940\n",
      "   macro avg       0.75      0.59      0.63      3940\n",
      "weighted avg       0.84      0.86      0.84      3940\n",
      "\n"
     ]
    }
   ],
   "source": [
    "print(classification_report(y_test, y_pred_logreg))"
   ]
  },
  {
   "cell_type": "markdown",
   "id": "d370d554",
   "metadata": {},
   "source": [
    "### Three Class Text Predictions<a id='3_class_text_predictions'>"
   ]
  },
  {
   "cell_type": "code",
   "execution_count": 48,
   "id": "bdbdeb08",
   "metadata": {},
   "outputs": [
    {
     "name": "stdout",
     "output_type": "stream",
     "text": [
      "[0]\n"
     ]
    }
   ],
   "source": [
    "print(logreg.predict(tfidf.transform(['Greek salad was so tasty,I loved it'])))"
   ]
  },
  {
   "cell_type": "code",
   "execution_count": 49,
   "id": "a0e563b9",
   "metadata": {},
   "outputs": [
    {
     "name": "stdout",
     "output_type": "stream",
     "text": [
      "[1]\n"
     ]
    }
   ],
   "source": [
    "print(logreg.predict(tfidf.transform(['Food was bad'])))"
   ]
  },
  {
   "cell_type": "code",
   "execution_count": 50,
   "id": "57ed14f0",
   "metadata": {},
   "outputs": [
    {
     "name": "stdout",
     "output_type": "stream",
     "text": [
      "[2]\n"
     ]
    }
   ],
   "source": [
    "print(logreg.predict(tfidf.transform(['Food was ok.'])))"
   ]
  },
  {
   "cell_type": "code",
   "execution_count": 51,
   "id": "aa6fd8c0",
   "metadata": {},
   "outputs": [
    {
     "name": "stdout",
     "output_type": "stream",
     "text": [
      "[0]\n"
     ]
    }
   ],
   "source": [
    "print(logreg.predict(tfidf.transform(['Ambience was too noisy and chaotic'])))"
   ]
  },
  {
   "cell_type": "markdown",
   "id": "bab565ec",
   "metadata": {},
   "source": [
    "### AUC-ROC for Multi-Class Classification<a id='aucroc_multi'>\n",
    "                         \n",
    "##### <p style=text-align:left>* [Back to Contents](#contents)</p>"
   ]
  },
  {
   "cell_type": "markdown",
   "id": "13b509e6",
   "metadata": {},
   "source": [
    "AUC-ROC for multiclass classification by using the One vs All technique.\n",
    "\n",
    "So, if we have three classes 0, 1, and 2, the ROC for class 0 will be generated as classifying 0 against not 0, i.e. 1 and 2. The ROC for class 1 will be generated as classifying 1 against not 1, and so on.\n",
    "\n",
    "The ROC curve for multi-class classification models can be determined as below:"
   ]
  },
  {
   "cell_type": "code",
   "execution_count": 52,
   "id": "0f25d51d",
   "metadata": {},
   "outputs": [
    {
     "data": {
      "image/png": "[encoded data removed]",
      "text/plain": [
       "<Figure size 450x450 with 1 Axes>"
      ]
     },
     "metadata": {
      "needs_background": "light"
     },
     "output_type": "display_data"
    }
   ],
   "source": [
    "# fit model\n",
    "clf1 = OneVsRestClassifier(LogisticRegression())\n",
    "clf1.fit(X_train_transformed,y_train) \n",
    "pred = clf1.predict(tfidf.transform(X_test))\n",
    "pred_prob = clf1.predict_proba(tfidf.transform(X_test))\n",
    "\n",
    "\n",
    "# roc curve for classes\n",
    "fpr = {}\n",
    "tpr = {}\n",
    "thresh ={}\n",
    "\n",
    "n_class = 3\n",
    "\n",
    "for i in range(n_class):    \n",
    "    fpr[i], tpr[i], thresh[i] = roc_curve(y_test, pred_prob[:,i], pos_label=i)\n",
    "    \n",
    "# plotting    \n",
    "plt.plot(fpr[0], tpr[0], linestyle='--',color='orange', label='0 vs Rest')\n",
    "plt.plot(fpr[1], tpr[1], linestyle='--',color='green', label='1 vs Rest')\n",
    "plt.plot(fpr[2], tpr[2], linestyle='--',color='blue', label='2 vs Rest')\n",
    "plt.title('Multiclass ROC curve')\n",
    "plt.xlabel('False Positive Rate')\n",
    "plt.ylabel('True Positive rate')\n",
    "plt.legend(loc='best')\n",
    "plt.savefig('Multiclass ROC',dpi=300);  "
   ]
  },
  {
   "cell_type": "markdown",
   "id": "faf31ec5",
   "metadata": {},
   "source": [
    "### Area under ROC score for the multiclass problem<a id='auc_score_multiclass'>"
   ]
  },
  {
   "cell_type": "code",
   "execution_count": 53,
   "id": "5ecdec17",
   "metadata": {},
   "outputs": [
    {
     "name": "stdout",
     "output_type": "stream",
     "text": [
      "One-vs-Rest ROC AUC scores:\n",
      "0.921643 (macro),\n",
      "0.939873 (weighted by prevalence)\n"
     ]
    }
   ],
   "source": [
    "macro_roc_auc_ovr = roc_auc_score(y_test, pred_prob, multi_class=\"ovr\", average=\"macro\")\n",
    "weighted_roc_auc_ovr = roc_auc_score(\n",
    "    y_test, pred_prob, multi_class=\"ovr\", average=\"weighted\"\n",
    ")\n",
    "\n",
    "print(\n",
    "    \"One-vs-Rest ROC AUC scores:\\n{:.6f} (macro),\\n{:.6f} \"\n",
    "    \"(weighted by prevalence)\".format(macro_roc_auc_ovr, weighted_roc_auc_ovr)\n",
    ")"
   ]
  },
  {
   "cell_type": "markdown",
   "id": "c1e49c56",
   "metadata": {},
   "source": [
    "## Binary Classification<a id='binary_classification'>                          \n",
    "##### <p style=text-align:left>* [Back to Contents](#contents)</p>"
   ]
  },
  {
   "cell_type": "markdown",
   "id": "002adaf7",
   "metadata": {},
   "source": [
    "#### We will have two classes: positive (with value of 0), and not positive( with value of 1)\n",
    "\n",
    "I will be converting the current target value of 2 which was neutral in the aboove three-class classification to positive class.\n"
   ]
  },
  {
   "cell_type": "markdown",
   "id": "2e323fac",
   "metadata": {},
   "source": [
    "### Load the original dataset so i can make two classes instead of three"
   ]
  },
  {
   "cell_type": "code",
   "execution_count": 54,
   "id": "1f931c0b",
   "metadata": {},
   "outputs": [],
   "source": [
    "dflog_2_main = pd.read_csv('cp2_ppt_2_sentiment_df.csv')"
   ]
  },
  {
   "cell_type": "code",
   "execution_count": 55,
   "id": "fdacd784",
   "metadata": {},
   "outputs": [
    {
     "name": "stdout",
     "output_type": "stream",
     "text": [
      "The data has  19697  rows and  20  columns\n",
      "\n",
      "column names: \n",
      "\n",
      "business_id\n",
      "name\n",
      "address\n",
      "city\n",
      "state\n",
      "postal_code\n",
      "latitude\n",
      "longitude\n",
      "review_count\n",
      "categories\n",
      "review_id\n",
      "user_id\n",
      "yelp_review_stars\n",
      "useful\n",
      "funny\n",
      "cool\n",
      "text\n",
      "date\n",
      "year\n",
      "text_length\n"
     ]
    }
   ],
   "source": [
    "print('The data has ', dflog_2_main.shape[0], ' rows and ', dflog_2_main.shape[1], ' columns\\n')\n",
    "print('column names: \\n')\n",
    "print('\\n'.join(list(dflog_2_main.columns)))"
   ]
  },
  {
   "cell_type": "code",
   "execution_count": 56,
   "id": "ce4d4707",
   "metadata": {},
   "outputs": [
    {
     "data": {
      "text/html": [
       "<div>\n",
       "<style scoped>\n",
       "    .dataframe tbody tr th:only-of-type {\n",
       "        vertical-align: middle;\n",
       "    }\n",
       "\n",
       "    .dataframe tbody tr th {\n",
       "        vertical-align: top;\n",
       "    }\n",
       "\n",
       "    .dataframe thead th {\n",
       "        text-align: right;\n",
       "    }\n",
       "</style>\n",
       "<table border=\"1\" class=\"dataframe\">\n",
       "  <thead>\n",
       "    <tr style=\"text-align: right;\">\n",
       "      <th></th>\n",
       "      <th>business_id</th>\n",
       "      <th>name</th>\n",
       "      <th>address</th>\n",
       "      <th>city</th>\n",
       "      <th>state</th>\n",
       "      <th>postal_code</th>\n",
       "      <th>latitude</th>\n",
       "      <th>longitude</th>\n",
       "      <th>review_count</th>\n",
       "      <th>categories</th>\n",
       "      <th>review_id</th>\n",
       "      <th>user_id</th>\n",
       "      <th>yelp_review_stars</th>\n",
       "      <th>useful</th>\n",
       "      <th>funny</th>\n",
       "      <th>cool</th>\n",
       "      <th>text</th>\n",
       "      <th>date</th>\n",
       "      <th>year</th>\n",
       "      <th>text_length</th>\n",
       "      <th>target</th>\n",
       "    </tr>\n",
       "  </thead>\n",
       "  <tbody>\n",
       "    <tr>\n",
       "      <th>0</th>\n",
       "      <td>vUrTGX_7HxqeoQ_6QCVz6g</td>\n",
       "      <td>Suraya</td>\n",
       "      <td>1528 Frankford Ave</td>\n",
       "      <td>Philadelphia</td>\n",
       "      <td>PA</td>\n",
       "      <td>19125</td>\n",
       "      <td>39.973687</td>\n",
       "      <td>-75.133956</td>\n",
       "      <td>1121</td>\n",
       "      <td>Active Life, Beer Gardens, Grocery, Middle Eastern, Specialty Food, American (New), Parks, Cafes, Food, Nightlife, Restaurants, Coffee &amp; Tea, Lebanese</td>\n",
       "      <td>WeTHLEdLdP3Y3AXWWCsx4g</td>\n",
       "      <td>UizCd11Qoo74BKARrZp7HA</td>\n",
       "      <td>5</td>\n",
       "      <td>0</td>\n",
       "      <td>0</td>\n",
       "      <td>1</td>\n",
       "      <td>We are visiting in Philadelphia from California.  My son took us here for our 28 year wedding anniversary. All the food was delicious and the service was great! Everyone that worked there seemed happy to be there and we're extremely friendly! The pita bread was baked to order and served directly from the oven to the table and was by far, the best I'd had. The hummus, tabbouleh and marinated veggies were all Amazing! The grilled mixed mushrooms and lamb sausage were so flavorful! We didn't have anything that wasn't delicious! If I ever come back to Philly,  I would definitely go back to this place! SO GOOD!!</td>\n",
       "      <td>2018-05-28 21:27:38</td>\n",
       "      <td>2018</td>\n",
       "      <td>614</td>\n",
       "      <td>0</td>\n",
       "    </tr>\n",
       "    <tr>\n",
       "      <th>1</th>\n",
       "      <td>vUrTGX_7HxqeoQ_6QCVz6g</td>\n",
       "      <td>Suraya</td>\n",
       "      <td>1528 Frankford Ave</td>\n",
       "      <td>Philadelphia</td>\n",
       "      <td>PA</td>\n",
       "      <td>19125</td>\n",
       "      <td>39.973687</td>\n",
       "      <td>-75.133956</td>\n",
       "      <td>1121</td>\n",
       "      <td>Active Life, Beer Gardens, Grocery, Middle Eastern, Specialty Food, American (New), Parks, Cafes, Food, Nightlife, Restaurants, Coffee &amp; Tea, Lebanese</td>\n",
       "      <td>MrWpfvjVA6Qtj3CDvFfPiA</td>\n",
       "      <td>49aswoS-d09tyWNJimzZ5A</td>\n",
       "      <td>5</td>\n",
       "      <td>1</td>\n",
       "      <td>0</td>\n",
       "      <td>0</td>\n",
       "      <td>Delicious food ! I personally loved it !!!\\n\\nI was surprised to see 3-star  reviews here but when I read it I understood the reason . Everyone loved the place, the food but the prices. Let me tell you something. If I don't want to spend $200 for dinner I don't go to Barkley Prime! If I want to get a good quality lunch I don't expect it to be less than $25. Unfortunately life is expensive here in Philadelphia, especially for people with good tastes.  And yes you have to pay $$$ for a good quality meals. So If you are aware of that I'm sure you will totally enjoy SURAYA</td>\n",
       "      <td>2018-02-01 19:28:41</td>\n",
       "      <td>2018</td>\n",
       "      <td>573</td>\n",
       "      <td>0</td>\n",
       "    </tr>\n",
       "    <tr>\n",
       "      <th>2</th>\n",
       "      <td>vUrTGX_7HxqeoQ_6QCVz6g</td>\n",
       "      <td>Suraya</td>\n",
       "      <td>1528 Frankford Ave</td>\n",
       "      <td>Philadelphia</td>\n",
       "      <td>PA</td>\n",
       "      <td>19125</td>\n",
       "      <td>39.973687</td>\n",
       "      <td>-75.133956</td>\n",
       "      <td>1121</td>\n",
       "      <td>Active Life, Beer Gardens, Grocery, Middle Eastern, Specialty Food, American (New), Parks, Cafes, Food, Nightlife, Restaurants, Coffee &amp; Tea, Lebanese</td>\n",
       "      <td>hll3PKZbMbu2W7uFbF8ezQ</td>\n",
       "      <td>CmLK8cjvcUIKyNVMp8ZyDA</td>\n",
       "      <td>2</td>\n",
       "      <td>0</td>\n",
       "      <td>0</td>\n",
       "      <td>0</td>\n",
       "      <td>Beautiful place. Excellent food. I only gave it a 2 because they gouge you on the drinks. My manhattan was $16. A very small glass of house wine was $11.50. There is no justification for that. We eat out often in good restaurants. This is the only place that gouges you on the drinks.\\nI got the halibut. It was delicious but quite small with nothing on the side.</td>\n",
       "      <td>2018-08-24 13:30:41</td>\n",
       "      <td>2018</td>\n",
       "      <td>362</td>\n",
       "      <td>1</td>\n",
       "    </tr>\n",
       "  </tbody>\n",
       "</table>\n",
       "</div>"
      ],
      "text/plain": [
       "              business_id    name             address          city state  \\\n",
       "0  vUrTGX_7HxqeoQ_6QCVz6g  Suraya  1528 Frankford Ave  Philadelphia    PA   \n",
       "1  vUrTGX_7HxqeoQ_6QCVz6g  Suraya  1528 Frankford Ave  Philadelphia    PA   \n",
       "2  vUrTGX_7HxqeoQ_6QCVz6g  Suraya  1528 Frankford Ave  Philadelphia    PA   \n",
       "\n",
       "   postal_code   latitude  longitude  review_count  \\\n",
       "0        19125  39.973687 -75.133956          1121   \n",
       "1        19125  39.973687 -75.133956          1121   \n",
       "2        19125  39.973687 -75.133956          1121   \n",
       "\n",
       "                                                                                                                                               categories  \\\n",
       "0  Active Life, Beer Gardens, Grocery, Middle Eastern, Specialty Food, American (New), Parks, Cafes, Food, Nightlife, Restaurants, Coffee & Tea, Lebanese   \n",
       "1  Active Life, Beer Gardens, Grocery, Middle Eastern, Specialty Food, American (New), Parks, Cafes, Food, Nightlife, Restaurants, Coffee & Tea, Lebanese   \n",
       "2  Active Life, Beer Gardens, Grocery, Middle Eastern, Specialty Food, American (New), Parks, Cafes, Food, Nightlife, Restaurants, Coffee & Tea, Lebanese   \n",
       "\n",
       "                review_id                 user_id  yelp_review_stars  useful  \\\n",
       "0  WeTHLEdLdP3Y3AXWWCsx4g  UizCd11Qoo74BKARrZp7HA                  5       0   \n",
       "1  MrWpfvjVA6Qtj3CDvFfPiA  49aswoS-d09tyWNJimzZ5A                  5       1   \n",
       "2  hll3PKZbMbu2W7uFbF8ezQ  CmLK8cjvcUIKyNVMp8ZyDA                  2       0   \n",
       "\n",
       "   funny  cool  \\\n",
       "0      0     1   \n",
       "1      0     0   \n",
       "2      0     0   \n",
       "\n",
       "                                                                                                                                                                                                                                                                                                                                                                                                                                                                                                                                                                                                                                     text  \\\n",
       "0  We are visiting in Philadelphia from California.  My son took us here for our 28 year wedding anniversary. All the food was delicious and the service was great! Everyone that worked there seemed happy to be there and we're extremely friendly! The pita bread was baked to order and served directly from the oven to the table and was by far, the best I'd had. The hummus, tabbouleh and marinated veggies were all Amazing! The grilled mixed mushrooms and lamb sausage were so flavorful! We didn't have anything that wasn't delicious! If I ever come back to Philly,  I would definitely go back to this place! SO GOOD!!   \n",
       "1                                         Delicious food ! I personally loved it !!!\\n\\nI was surprised to see 3-star  reviews here but when I read it I understood the reason . Everyone loved the place, the food but the prices. Let me tell you something. If I don't want to spend $200 for dinner I don't go to Barkley Prime! If I want to get a good quality lunch I don't expect it to be less than $25. Unfortunately life is expensive here in Philadelphia, especially for people with good tastes.  And yes you have to pay $$$ for a good quality meals. So If you are aware of that I'm sure you will totally enjoy SURAYA   \n",
       "2                                                                                                                                                                                                                                                             Beautiful place. Excellent food. I only gave it a 2 because they gouge you on the drinks. My manhattan was $16. A very small glass of house wine was $11.50. There is no justification for that. We eat out often in good restaurants. This is the only place that gouges you on the drinks.\\nI got the halibut. It was delicious but quite small with nothing on the side.   \n",
       "\n",
       "                  date  year  text_length  target  \n",
       "0  2018-05-28 21:27:38  2018          614       0  \n",
       "1  2018-02-01 19:28:41  2018          573       0  \n",
       "2  2018-08-24 13:30:41  2018          362       1  "
      ]
     },
     "execution_count": 56,
     "metadata": {},
     "output_type": "execute_result"
    }
   ],
   "source": [
    "# Create new column \"Target\" that stored 0's or 1's. 0 being Positive, 1 being Non-Positive\n",
    "dflog_2_main[\"target\"] = np.where(dflog_2_main[\"yelp_review_stars\"] >= 3, 0, 1)\n",
    "dflog_2_main.head(3)"
   ]
  },
  {
   "cell_type": "code",
   "execution_count": 61,
   "id": "fbcc344e",
   "metadata": {},
   "outputs": [
    {
     "data": {
      "text/plain": [
       "19697"
      ]
     },
     "execution_count": 61,
     "metadata": {},
     "output_type": "execute_result"
    }
   ],
   "source": [
    "dflog_2_main.shape[0]"
   ]
  },
  {
   "cell_type": "markdown",
   "id": "1efe0f03",
   "metadata": {},
   "source": [
    "### Proportion of Binary Target before Train test split<a id='dist_bin_target_before'>"
   ]
  },
  {
   "cell_type": "code",
   "execution_count": 58,
   "id": "c1612ebb",
   "metadata": {},
   "outputs": [
    {
     "data": {
      "text/plain": [
       "0    17459\n",
       "1     2238\n",
       "Name: target, dtype: int64"
      ]
     },
     "execution_count": 58,
     "metadata": {},
     "output_type": "execute_result"
    }
   ],
   "source": [
    "binary_class_counts = dflog_2_main['target'].value_counts()\n",
    "binary_class_counts"
   ]
  },
  {
   "cell_type": "code",
   "execution_count": 59,
   "id": "d5ac9698",
   "metadata": {},
   "outputs": [
    {
     "data": {
      "text/plain": [
       "pandas.core.series.Series"
      ]
     },
     "execution_count": 59,
     "metadata": {},
     "output_type": "execute_result"
    }
   ],
   "source": [
    "type(binary_class_counts) "
   ]
  },
  {
   "cell_type": "code",
   "execution_count": 63,
   "id": "92d4807f",
   "metadata": {},
   "outputs": [
    {
     "data": {
      "text/plain": [
       "0    88.637864\n",
       "1    11.362136\n",
       "dtype: float64"
      ]
     },
     "execution_count": 63,
     "metadata": {},
     "output_type": "execute_result"
    }
   ],
   "source": [
    "binary_class_count_percentage = pd.Series([(x/dflog_2_main.shape[0]) * 100.0 for x in binary_class_counts])\n",
    "binary_class_count_percentage"
   ]
  },
  {
   "cell_type": "code",
   "execution_count": 66,
   "id": "59a4ae06",
   "metadata": {},
   "outputs": [
    {
     "data": {
      "image/png": "[encoded data removed]",
      "text/plain": [
       "<Figure size 450x450 with 1 Axes>"
      ]
     },
     "metadata": {
      "needs_background": "light"
     },
     "output_type": "display_data"
    }
   ],
   "source": [
    "fig, ax = plt.subplots()\n",
    "ax.bar(binary_class_counts.index, binary_class_counts)\n",
    "ax.set_xticks([0, 1])\n",
    "ax.set_xticklabels(binary_class_count_percentage.index.astype(str) + '\\n' + ' ' +\n",
    "                   binary_class_count_percentage.round(0).astype(str) + '%')\n",
    "ax.set_ylabel('Count')\n",
    "ax.set_xlabel('Review Types')\n",
    "ax.set_title('Reviews class distribution\\nwhere 0 is positive, 1 is non-positive',\n",
    "              fontsize = 10)\n",
    "plt.show()"
   ]
  },
  {
   "cell_type": "markdown",
   "id": "d9eb7e9c",
   "metadata": {},
   "source": [
    "#### Binary Classification- Columns for Preprocessing and Training "
   ]
  },
  {
   "cell_type": "code",
   "execution_count": 67,
   "id": "25aa73bd",
   "metadata": {},
   "outputs": [],
   "source": [
    "# Picking the only text and target column\n",
    "df_bi_final = dflog_2_main[['text','target']]"
   ]
  },
  {
   "cell_type": "code",
   "execution_count": 68,
   "id": "5e8a1261",
   "metadata": {},
   "outputs": [
    {
     "data": {
      "text/html": [
       "<div>\n",
       "<style scoped>\n",
       "    .dataframe tbody tr th:only-of-type {\n",
       "        vertical-align: middle;\n",
       "    }\n",
       "\n",
       "    .dataframe tbody tr th {\n",
       "        vertical-align: top;\n",
       "    }\n",
       "\n",
       "    .dataframe thead th {\n",
       "        text-align: right;\n",
       "    }\n",
       "</style>\n",
       "<table border=\"1\" class=\"dataframe\">\n",
       "  <thead>\n",
       "    <tr style=\"text-align: right;\">\n",
       "      <th></th>\n",
       "      <th>text</th>\n",
       "      <th>target</th>\n",
       "    </tr>\n",
       "  </thead>\n",
       "  <tbody>\n",
       "    <tr>\n",
       "      <th>0</th>\n",
       "      <td>We are visiting in Philadelphia from California.  My son took us here for our 28 year wedding anniversary. All the food was delicious and the service was great! Everyone that worked there seemed happy to be there and we're extremely friendly! The pita bread was baked to order and served directly from the oven to the table and was by far, the best I'd had. The hummus, tabbouleh and marinated veggies were all Amazing! The grilled mixed mushrooms and lamb sausage were so flavorful! We didn't have anything that wasn't delicious! If I ever come back to Philly,  I would definitely go back to this place! SO GOOD!!</td>\n",
       "      <td>0</td>\n",
       "    </tr>\n",
       "    <tr>\n",
       "      <th>1</th>\n",
       "      <td>Delicious food ! I personally loved it !!!\\n\\nI was surprised to see 3-star  reviews here but when I read it I understood the reason . Everyone loved the place, the food but the prices. Let me tell you something. If I don't want to spend $200 for dinner I don't go to Barkley Prime! If I want to get a good quality lunch I don't expect it to be less than $25. Unfortunately life is expensive here in Philadelphia, especially for people with good tastes.  And yes you have to pay $$$ for a good quality meals. So If you are aware of that I'm sure you will totally enjoy SURAYA</td>\n",
       "      <td>0</td>\n",
       "    </tr>\n",
       "    <tr>\n",
       "      <th>2</th>\n",
       "      <td>Beautiful place. Excellent food. I only gave it a 2 because they gouge you on the drinks. My manhattan was $16. A very small glass of house wine was $11.50. There is no justification for that. We eat out often in good restaurants. This is the only place that gouges you on the drinks.\\nI got the halibut. It was delicious but quite small with nothing on the side.</td>\n",
       "      <td>1</td>\n",
       "    </tr>\n",
       "    <tr>\n",
       "      <th>3</th>\n",
       "      <td>It's extremely overpriced, and the sandwiches are a joke. I love Mediterranean cuisine but this is one of the worst i had. In a city with so many places to eat, i'd expect they would try harder.\\n\\nService is excellent, though. And the place is really nice</td>\n",
       "      <td>1</td>\n",
       "    </tr>\n",
       "    <tr>\n",
       "      <th>4</th>\n",
       "      <td>Instagram worthy and Claire is an amazing server! \\n\\nSuraya is super beautiful guys. Nice open space, ceramic tiles, and orange infused water. You enter straight into their bakery/cafe where you can order and sit or you can walk past a little and be seated in their restaurant. I recommend making a reservation because it can get pretty crowded. After a 10 min wait my party of 4 were seated straight away. Their booths are super comfy and bouncy! \\n\\nClaire came to us shortly after and was super knowledgeable about the menu and helped us navigate for one of our party members who has an allergy. I started with the chai tea latte- so delicious. Then got a kefta platter. Once the food came out I realized it was the kefta sandwich but Claire and the manager figured everything out straight away and fixed my order (thanks guys!). The kefta was super moist, the hummus was A1 and their fries were seasoned to the max. Though I think their tabouli could have more lemon- just my preference though. Afterwards I finished with a rose and pistachio cruller which was so light and airy. Y'all gotta try it. \\n\\nIf visiting philly again I would definitely come back to Suraya.</td>\n",
       "      <td>0</td>\n",
       "    </tr>\n",
       "  </tbody>\n",
       "</table>\n",
       "</div>"
      ],
      "text/plain": [
       "                                                                                                                                                                                                                                                                                                                                                                                                                                                                                                                                                                                                                                                                                                                                                                                                                                                                                                                                                                                                                                                                                                                                                                                                                    text  \\\n",
       "0                                                                                                                                                                                                                                                                                                                                                                                                                                                                                                                                                                                 We are visiting in Philadelphia from California.  My son took us here for our 28 year wedding anniversary. All the food was delicious and the service was great! Everyone that worked there seemed happy to be there and we're extremely friendly! The pita bread was baked to order and served directly from the oven to the table and was by far, the best I'd had. The hummus, tabbouleh and marinated veggies were all Amazing! The grilled mixed mushrooms and lamb sausage were so flavorful! We didn't have anything that wasn't delicious! If I ever come back to Philly,  I would definitely go back to this place! SO GOOD!!   \n",
       "1                                                                                                                                                                                                                                                                                                                                                                                                                                                                                                                                                                                                                        Delicious food ! I personally loved it !!!\\n\\nI was surprised to see 3-star  reviews here but when I read it I understood the reason . Everyone loved the place, the food but the prices. Let me tell you something. If I don't want to spend $200 for dinner I don't go to Barkley Prime! If I want to get a good quality lunch I don't expect it to be less than $25. Unfortunately life is expensive here in Philadelphia, especially for people with good tastes.  And yes you have to pay $$$ for a good quality meals. So If you are aware of that I'm sure you will totally enjoy SURAYA   \n",
       "2                                                                                                                                                                                                                                                                                                                                                                                                                                                                                                                                                                                                                                                                                                                                                                                                                                            Beautiful place. Excellent food. I only gave it a 2 because they gouge you on the drinks. My manhattan was $16. A very small glass of house wine was $11.50. There is no justification for that. We eat out often in good restaurants. This is the only place that gouges you on the drinks.\\nI got the halibut. It was delicious but quite small with nothing on the side.   \n",
       "3                                                                                                                                                                                                                                                                                                                                                                                                                                                                                                                                                                                                                                                                                                                                                                                                                                                                                                                                                       It's extremely overpriced, and the sandwiches are a joke. I love Mediterranean cuisine but this is one of the worst i had. In a city with so many places to eat, i'd expect they would try harder.\\n\\nService is excellent, though. And the place is really nice   \n",
       "4  Instagram worthy and Claire is an amazing server! \\n\\nSuraya is super beautiful guys. Nice open space, ceramic tiles, and orange infused water. You enter straight into their bakery/cafe where you can order and sit or you can walk past a little and be seated in their restaurant. I recommend making a reservation because it can get pretty crowded. After a 10 min wait my party of 4 were seated straight away. Their booths are super comfy and bouncy! \\n\\nClaire came to us shortly after and was super knowledgeable about the menu and helped us navigate for one of our party members who has an allergy. I started with the chai tea latte- so delicious. Then got a kefta platter. Once the food came out I realized it was the kefta sandwich but Claire and the manager figured everything out straight away and fixed my order (thanks guys!). The kefta was super moist, the hummus was A1 and their fries were seasoned to the max. Though I think their tabouli could have more lemon- just my preference though. Afterwards I finished with a rose and pistachio cruller which was so light and airy. Y'all gotta try it. \\n\\nIf visiting philly again I would definitely come back to Suraya.   \n",
       "\n",
       "   target  \n",
       "0       0  \n",
       "1       0  \n",
       "2       1  \n",
       "3       1  \n",
       "4       0  "
      ]
     },
     "execution_count": 68,
     "metadata": {},
     "output_type": "execute_result"
    }
   ],
   "source": [
    "df_bi_final.head()"
   ]
  },
  {
   "cell_type": "code",
   "execution_count": 69,
   "id": "aa0a72fb",
   "metadata": {},
   "outputs": [],
   "source": [
    "# applying the cleaning function to text column\n",
    "df_bi_final['text'] = df_bi_final['text'].apply(lambda text: function_clean(text))"
   ]
  },
  {
   "cell_type": "code",
   "execution_count": 70,
   "id": "88eea57b",
   "metadata": {},
   "outputs": [
    {
     "data": {
      "text/html": [
       "<div>\n",
       "<style scoped>\n",
       "    .dataframe tbody tr th:only-of-type {\n",
       "        vertical-align: middle;\n",
       "    }\n",
       "\n",
       "    .dataframe tbody tr th {\n",
       "        vertical-align: top;\n",
       "    }\n",
       "\n",
       "    .dataframe thead th {\n",
       "        text-align: right;\n",
       "    }\n",
       "</style>\n",
       "<table border=\"1\" class=\"dataframe\">\n",
       "  <thead>\n",
       "    <tr style=\"text-align: right;\">\n",
       "      <th></th>\n",
       "      <th>text</th>\n",
       "      <th>target</th>\n",
       "    </tr>\n",
       "  </thead>\n",
       "  <tbody>\n",
       "    <tr>\n",
       "      <th>0</th>\n",
       "      <td>We are visiting in Philadelphia from California My son took us here for our year wedding anniversary All the food was delicious and the service was great Everyone that worked there seemed happy to be there and we re extremely friendly The pita bread was baked to order and served directly from the oven to the table and was by far the best I d had The hummus tabbouleh and marinated veggies were all Amazing The grilled mixed mushrooms and lamb sausage were so flavorful We didn t have anything that wasn t delicious If I ever come back to Philly I would definitely go back to this place SO GOOD</td>\n",
       "      <td>0</td>\n",
       "    </tr>\n",
       "    <tr>\n",
       "      <th>1</th>\n",
       "      <td>Delicious food I personally loved it I was surprised to see star reviews here but when I read it I understood the reason Everyone loved the place the food but the prices Let me tell you something If I don t want to spend for dinner I don t go to Barkley Prime If I want to get a good quality lunch I don t expect it to be less than Unfortunately life is expensive here in Philadelphia especially for people with good tastes And yes you have to pay for a good quality meals So If you are aware of that I m sure you will totally enjoy SURAYA</td>\n",
       "      <td>0</td>\n",
       "    </tr>\n",
       "    <tr>\n",
       "      <th>2</th>\n",
       "      <td>Beautiful place Excellent food I only gave it a because they gouge you on the drinks My manhattan was A very small glass of house wine was There is no justification for that We eat out often in good restaurants This is the only place that gouges you on the drinks I got the halibut It was delicious but quite small with nothing on the side</td>\n",
       "      <td>1</td>\n",
       "    </tr>\n",
       "  </tbody>\n",
       "</table>\n",
       "</div>"
      ],
      "text/plain": [
       "                                                                                                                                                                                                                                                                                                                                                                                                                                                                                                                                                                                                                   text  \\\n",
       "0  We are visiting in Philadelphia from California My son took us here for our year wedding anniversary All the food was delicious and the service was great Everyone that worked there seemed happy to be there and we re extremely friendly The pita bread was baked to order and served directly from the oven to the table and was by far the best I d had The hummus tabbouleh and marinated veggies were all Amazing The grilled mixed mushrooms and lamb sausage were so flavorful We didn t have anything that wasn t delicious If I ever come back to Philly I would definitely go back to this place SO GOOD    \n",
       "1                                                           Delicious food I personally loved it I was surprised to see star reviews here but when I read it I understood the reason Everyone loved the place the food but the prices Let me tell you something If I don t want to spend for dinner I don t go to Barkley Prime If I want to get a good quality lunch I don t expect it to be less than Unfortunately life is expensive here in Philadelphia especially for people with good tastes And yes you have to pay for a good quality meals So If you are aware of that I m sure you will totally enjoy SURAYA   \n",
       "2                                                                                                                                                                                                                                                                  Beautiful place Excellent food I only gave it a because they gouge you on the drinks My manhattan was A very small glass of house wine was There is no justification for that We eat out often in good restaurants This is the only place that gouges you on the drinks I got the halibut It was delicious but quite small with nothing on the side    \n",
       "\n",
       "   target  \n",
       "0       0  \n",
       "1       0  \n",
       "2       1  "
      ]
     },
     "execution_count": 70,
     "metadata": {},
     "output_type": "execute_result"
    }
   ],
   "source": [
    "df_bi_final.head(3)"
   ]
  },
  {
   "cell_type": "markdown",
   "id": "0a356834",
   "metadata": {},
   "source": [
    "### Train Test Split for binary classification<a id='ttsplit_for_binary'>"
   ]
  },
  {
   "cell_type": "code",
   "execution_count": 71,
   "id": "85998e15",
   "metadata": {},
   "outputs": [],
   "source": [
    "X_train_2,X_test_2,y_train_2,y_test_2=train_test_split(df_bi_final['text'], df_bi_final['target'], random_state=2,test_size=0.2, stratify = df_bi_final['target'])"
   ]
  },
  {
   "cell_type": "code",
   "execution_count": 73,
   "id": "e09df086",
   "metadata": {},
   "outputs": [
    {
     "data": {
      "text/plain": [
       "(pandas.core.series.Series,\n",
       " pandas.core.series.Series,\n",
       " pandas.core.series.Series,\n",
       " pandas.core.series.Series)"
      ]
     },
     "execution_count": 73,
     "metadata": {},
     "output_type": "execute_result"
    }
   ],
   "source": [
    "type(X_train_2),type(X_test_2), type(y_train_2),type(y_test_2)"
   ]
  },
  {
   "cell_type": "code",
   "execution_count": 87,
   "id": "32a64796",
   "metadata": {},
   "outputs": [
    {
     "name": "stdout",
     "output_type": "stream",
     "text": [
      "X_train_2 shape : (15757,)\n",
      "X_test_2 shape  : (3940,)\n",
      "y_train_2 shape : (15757,)\n",
      "y_test_2 shape  : (3940,)\n"
     ]
    }
   ],
   "source": [
    "print(\"X_train_2 shape :\",X_train_2.shape)\n",
    "print(\"X_test_2 shape  :\",X_test_2.shape)\n",
    "print(\"y_train_2 shape :\",y_train_2.shape)\n",
    "print(\"y_test_2 shape  :\",y_test_2.shape)"
   ]
  },
  {
   "cell_type": "markdown",
   "id": "2032bd95",
   "metadata": {},
   "source": [
    "### Binary Classification- Proportion of Target column After train_test_split<a id='bi_target_column_after_ttsplit'>\n",
    "##### <p style=text-align:left>* [Back to Contents](#contents)</p>"
   ]
  },
  {
   "cell_type": "code",
   "execution_count": 74,
   "id": "be64f19d",
   "metadata": {},
   "outputs": [
    {
     "data": {
      "text/plain": [
       "0    13967\n",
       "1     1790\n",
       "Name: target, dtype: int64"
      ]
     },
     "execution_count": 74,
     "metadata": {},
     "output_type": "execute_result"
    }
   ],
   "source": [
    "binary_train_class_counts = y_train_2.value_counts()\n",
    "binary_train_class_counts"
   ]
  },
  {
   "cell_type": "code",
   "execution_count": 76,
   "id": "fe3e9221",
   "metadata": {},
   "outputs": [
    {
     "data": {
      "text/plain": [
       "(15757,)"
      ]
     },
     "execution_count": 76,
     "metadata": {},
     "output_type": "execute_result"
    }
   ],
   "source": [
    "y_train_2.shape"
   ]
  },
  {
   "cell_type": "code",
   "execution_count": 77,
   "id": "7f721dcb",
   "metadata": {},
   "outputs": [
    {
     "data": {
      "text/plain": [
       "0    88.63997\n",
       "1    11.36003\n",
       "dtype: float64"
      ]
     },
     "execution_count": 77,
     "metadata": {},
     "output_type": "execute_result"
    }
   ],
   "source": [
    "binary_train_class_count_percentages = pd.Series([(x/y_train_2.shape[0])*100.0 for x in binary_train_class_counts])\n",
    "binary_train_class_count_percentages"
   ]
  },
  {
   "cell_type": "code",
   "execution_count": 81,
   "id": "143a294b",
   "metadata": {},
   "outputs": [
    {
     "data": {
      "image/png": "[encoded data removed]",
      "text/plain": [
       "<Figure size 450x450 with 1 Axes>"
      ]
     },
     "metadata": {
      "needs_background": "light"
     },
     "output_type": "display_data"
    }
   ],
   "source": [
    "fig, ax = plt.subplots()\n",
    "ax.bar(binary_train_class_counts.index, binary_train_class_counts)\n",
    "ax.set_xticks([0, 1])\n",
    "ax.set_xticklabels(binary_train_class_count_percentages.index.astype(str) + '\\n' + ' ' +\n",
    "                   binary_train_class_count_percentages.round(0).astype(str) + '%')\n",
    "ax.set_ylabel('Count')\n",
    "ax.set_xlabel('Review Types')\n",
    "ax.set_title('Binary class proportion for train set labels\\nwhere 0 is positive, 1 is non-positive',\n",
    "              fontsize = 10)\n",
    "plt.show()"
   ]
  },
  {
   "cell_type": "code",
   "execution_count": 75,
   "id": "836dfdd3",
   "metadata": {},
   "outputs": [
    {
     "data": {
      "text/plain": [
       "0    3492\n",
       "1     448\n",
       "Name: target, dtype: int64"
      ]
     },
     "execution_count": 75,
     "metadata": {},
     "output_type": "execute_result"
    }
   ],
   "source": [
    "binary_test_class_counts = y_test_2.value_counts()\n",
    "binary_test_class_counts"
   ]
  },
  {
   "cell_type": "code",
   "execution_count": 79,
   "id": "02165c42",
   "metadata": {},
   "outputs": [
    {
     "data": {
      "text/plain": [
       "3940"
      ]
     },
     "execution_count": 79,
     "metadata": {},
     "output_type": "execute_result"
    }
   ],
   "source": [
    "y_test_2.shape[0]"
   ]
  },
  {
   "cell_type": "code",
   "execution_count": 84,
   "id": "1d0aea6d",
   "metadata": {},
   "outputs": [
    {
     "data": {
      "text/plain": [
       "0    88.629442\n",
       "1    11.370558\n",
       "dtype: float64"
      ]
     },
     "execution_count": 84,
     "metadata": {},
     "output_type": "execute_result"
    }
   ],
   "source": [
    "binary_test_class_count_percentages = pd.Series([(x/y_test_2.shape[0])*100.0 for x in binary_test_class_counts])\n",
    "binary_test_class_count_percentages"
   ]
  },
  {
   "cell_type": "code",
   "execution_count": 85,
   "id": "722d9f47",
   "metadata": {},
   "outputs": [
    {
     "data": {
      "image/png": "[encoded data removed]",
      "text/plain": [
       "<Figure size 450x450 with 1 Axes>"
      ]
     },
     "metadata": {
      "needs_background": "light"
     },
     "output_type": "display_data"
    }
   ],
   "source": [
    "fig, ax = plt.subplots()\n",
    "ax.bar(binary_test_class_counts.index, binary_test_class_counts)\n",
    "ax.set_xticks([0, 1])\n",
    "ax.set_xticklabels(binary_test_class_count_percentages.index.astype(str) + '\\n' + ' ' +\n",
    "                   binary_test_class_count_percentages.round(0).astype(str) + '%')\n",
    "ax.set_ylabel('Count')\n",
    "ax.set_xlabel('Review Types')\n",
    "ax.set_title('Binary class proportion for Test set \\nwhere 0 is positive, 1 is non-positive',\n",
    "              fontsize = 10)\n",
    "plt.show()\n"
   ]
  },
  {
   "cell_type": "code",
   "execution_count": null,
   "id": "176219ac",
   "metadata": {},
   "outputs": [],
   "source": [
    "# call tokenize_and_stem function to perform both stemming and tokenization\n",
    "\n",
    "\n",
    "words_stemmed_2 = tokenize_and_stem(dflog_2_main['text'][1])\n",
    "print(words_stemmed_2)"
   ]
  },
  {
   "cell_type": "code",
   "execution_count": 86,
   "id": "56ef9697",
   "metadata": {},
   "outputs": [],
   "source": [
    "# Instantiate TfidfVectorizer object with stopwords and tokenizer\n",
    "# parameters for efficient processing of text\n",
    "\n",
    "tfidf_2 = TfidfVectorizer(stop_words='english',tokenizer=tokenize_and_stem,ngram_range=(1,1))"
   ]
  },
  {
   "cell_type": "code",
   "execution_count": 88,
   "id": "bab6ae13",
   "metadata": {},
   "outputs": [],
   "source": [
    "X_train_2_transformed = tfidf_2.fit_transform(X_train_2)"
   ]
  },
  {
   "cell_type": "code",
   "execution_count": 89,
   "id": "c7378a36",
   "metadata": {},
   "outputs": [
    {
     "data": {
      "text/plain": [
       "scipy.sparse.csr.csr_matrix"
      ]
     },
     "execution_count": 89,
     "metadata": {},
     "output_type": "execute_result"
    }
   ],
   "source": [
    "type(X_train_2_transformed)\n"
   ]
  },
  {
   "cell_type": "code",
   "execution_count": 90,
   "id": "e4a55d1f",
   "metadata": {},
   "outputs": [],
   "source": [
    "X_test_2_transformed = tfidf_2.transform(X_test_2)"
   ]
  },
  {
   "cell_type": "code",
   "execution_count": 91,
   "id": "2c92e1ed",
   "metadata": {},
   "outputs": [
    {
     "data": {
      "text/plain": [
       "scipy.sparse.csr.csr_matrix"
      ]
     },
     "execution_count": 91,
     "metadata": {},
     "output_type": "execute_result"
    }
   ],
   "source": [
    "type(X_test_2_transformed)"
   ]
  },
  {
   "cell_type": "markdown",
   "id": "6ac9d5d7",
   "metadata": {},
   "source": [
    "I want to apply logisticRegression classification algorithm before tackling the imbalance to understand the classification report and the results"
   ]
  },
  {
   "cell_type": "code",
   "execution_count": 92,
   "id": "deea5c83",
   "metadata": {},
   "outputs": [
    {
     "name": "stdout",
     "output_type": "stream",
     "text": [
      "Score on training set for binary classes: 0.9424382813987434\n",
      "Score on test set for binary classes: 0.9263959390862944\n"
     ]
    }
   ],
   "source": [
    "# Fitting Logistic regression to the training set\n",
    "logreg_2 = LogisticRegression()\n",
    "logreg_2.fit(X_train_2_transformed, y_train_2)\n",
    "\n",
    "# Predicting the test set results\n",
    "y_pred_train_2_logreg = logreg_2.predict(X_train_2_transformed)\n",
    "y_pred_2_logreg = logreg_2.predict(X_test_2_transformed)\n",
    "\n",
    "# Training score\n",
    "print(f\"Score on training set for binary classes: {logreg_2.score(X_train_2_transformed,y_train_2)}\")\n",
    "print(f\"Score on test set for binary classes: {logreg_2.score(X_test_2_transformed,y_test_2)}\")\n"
   ]
  },
  {
   "cell_type": "code",
   "execution_count": 93,
   "id": "79822531",
   "metadata": {},
   "outputs": [
    {
     "data": {
      "text/plain": [
       "<sklearn.metrics._plot.confusion_matrix.ConfusionMatrixDisplay at 0x13f092a2850>"
      ]
     },
     "execution_count": 93,
     "metadata": {},
     "output_type": "execute_result"
    },
    {
     "data": {
      "image/png": "[encoded data removed]",
      "text/plain": [
       "<Figure size 450x450 with 2 Axes>"
      ]
     },
     "metadata": {
      "needs_background": "light"
     },
     "output_type": "display_data"
    }
   ],
   "source": [
    "cm_2 = confusion_matrix(y_test_2, y_pred_2_logreg, labels = logreg_2.classes_)\n",
    "_, ax = plt.subplots()\n",
    "display_cm_2 = ConfusionMatrixDisplay(confusion_matrix = cm_2, \n",
    "                                    display_labels = ['positive review', 'non-positive review'])\n",
    "ax.set_xticks([0, 1])\n",
    "ax.set_yticks([0, 1])\n",
    "ax.set_xticklabels(labels = ['positive review', 'non-positive review'], fontsize = 8)\n",
    "ax.set_yticklabels(labels = ['positive review', 'non-positive review'], fontsize = 8)\n",
    "display_cm_2.plot(ax = ax)"
   ]
  },
  {
   "cell_type": "markdown",
   "id": "ff9ab03b",
   "metadata": {},
   "source": [
    "### Binary Classification Report for training set <a id='binary_class_report_training'>"
   ]
  },
  {
   "cell_type": "code",
   "execution_count": 94,
   "id": "e2087451",
   "metadata": {},
   "outputs": [
    {
     "name": "stdout",
     "output_type": "stream",
     "text": [
      "              precision    recall  f1-score   support\n",
      "\n",
      "           0       0.95      0.99      0.97     13967\n",
      "           1       0.91      0.55      0.68      1790\n",
      "\n",
      "    accuracy                           0.94     15757\n",
      "   macro avg       0.93      0.77      0.83     15757\n",
      "weighted avg       0.94      0.94      0.94     15757\n",
      "\n"
     ]
    }
   ],
   "source": [
    "print(classification_report(y_train_2, y_pred_train_2_logreg))"
   ]
  },
  {
   "cell_type": "markdown",
   "id": "95aac05a",
   "metadata": {},
   "source": [
    "### Binary Classification Report for test set <a id='binary_class_report_test'>"
   ]
  },
  {
   "cell_type": "code",
   "execution_count": 95,
   "id": "3ae8abda",
   "metadata": {},
   "outputs": [
    {
     "name": "stdout",
     "output_type": "stream",
     "text": [
      "              precision    recall  f1-score   support\n",
      "\n",
      "           0       0.93      0.99      0.96      3492\n",
      "           1       0.81      0.46      0.59       448\n",
      "\n",
      "    accuracy                           0.93      3940\n",
      "   macro avg       0.87      0.72      0.77      3940\n",
      "weighted avg       0.92      0.93      0.92      3940\n",
      "\n"
     ]
    }
   ],
   "source": [
    "print(classification_report(y_test_2, y_pred_2_logreg))"
   ]
  },
  {
   "cell_type": "code",
   "execution_count": 96,
   "id": "eadd0244",
   "metadata": {},
   "outputs": [
    {
     "name": "stdout",
     "output_type": "stream",
     "text": [
      "[0]\n"
     ]
    }
   ],
   "source": [
    "print(logreg_2.predict(tfidf_2.transform(['Greek salad was so tasty,I loved it'])))"
   ]
  },
  {
   "cell_type": "code",
   "execution_count": 102,
   "id": "4d4b95fe",
   "metadata": {},
   "outputs": [
    {
     "name": "stdout",
     "output_type": "stream",
     "text": [
      "[1]\n"
     ]
    }
   ],
   "source": [
    "print(logreg_2.predict(tfidf_2.transform(['bad'])))"
   ]
  },
  {
   "cell_type": "code",
   "execution_count": 106,
   "id": "c79dcb87",
   "metadata": {},
   "outputs": [
    {
     "name": "stdout",
     "output_type": "stream",
     "text": [
      "[0]\n"
     ]
    }
   ],
   "source": [
    "print(logreg_2.predict(tfidf_2.transform(['food was ok'])))"
   ]
  },
  {
   "cell_type": "code",
   "execution_count": 107,
   "id": "a9934b42",
   "metadata": {},
   "outputs": [
    {
     "name": "stdout",
     "output_type": "stream",
     "text": [
      "[1]\n"
     ]
    }
   ],
   "source": [
    "print(logreg_2.predict(tfidf_2.transform(['Ambience is horrible and chaotic'])))"
   ]
  },
  {
   "cell_type": "markdown",
   "id": "d822e7c0",
   "metadata": {},
   "source": [
    "### AUC-ROC for Binary Classification<a id='aucroc_binary'>\n",
    "                         \n",
    "##### <p style=text-align:left>* [Back to Contents](#contents)</p>"
   ]
  },
  {
   "cell_type": "code",
   "execution_count": 108,
   "id": "2a1e55af",
   "metadata": {},
   "outputs": [
    {
     "data": {
      "image/png": "[encoded data removed]",
      "text/plain": [
       "<Figure size 450x450 with 1 Axes>"
      ]
     },
     "metadata": {
      "needs_background": "light"
     },
     "output_type": "display_data"
    }
   ],
   "source": [
    "# fit model\n",
    "clf_b = LogisticRegression()\n",
    "clf_b.fit(X_train_2_transformed,y_train_2)  \n",
    "pred_b = clf_b.predict(X_test_2_transformed)\n",
    "pred_prob_b = clf_b.predict_proba(X_test_2_transformed)\n",
    "\n",
    "\n",
    "# roc curve for classes\n",
    "fpr = {}\n",
    "tpr = {}\n",
    "thresh ={}\n",
    "\n",
    "n_class = 2\n",
    "\n",
    "for i in range(n_class):    \n",
    "    fpr[i], tpr[i], thresh[i] = roc_curve(y_test_2, pred_prob_b[:,i], pos_label=i)\n",
    "    \n",
    "# plotting    \n",
    "plt.plot(fpr[0], tpr[0], linestyle='--',color='orange', label='0')\n",
    "plt.plot(fpr[1], tpr[1], linestyle='--',color='blue', label='1')\n",
    "\n",
    "plt.title('Binaryclass ROC curve')\n",
    "plt.xlabel('False Positive Rate')\n",
    "plt.ylabel('True Positive rate')\n",
    "plt.legend(loc='best')\n",
    "plt.savefig('Binary Class ROC',dpi=300); "
   ]
  },
  {
   "cell_type": "markdown",
   "id": "222cfafc",
   "metadata": {},
   "source": [
    "### Area under ROC score for the Binary problem<a id='auc_score_binaryclass'>\n",
    "                         \n",
    "##### <p style=text-align:left>* [Back to Contents](#contents)</p>"
   ]
  },
  {
   "cell_type": "code",
   "execution_count": 109,
   "id": "7f2f0dca",
   "metadata": {},
   "outputs": [
    {
     "data": {
      "text/plain": [
       "0.9573444659221076"
      ]
     },
     "execution_count": 109,
     "metadata": {},
     "output_type": "execute_result"
    }
   ],
   "source": [
    "\n",
    "roc_auc_score(y_test_2,  clf_b.predict_proba(X_test_2_transformed)[:, 1])\n",
    "\n"
   ]
  },
  {
   "cell_type": "markdown",
   "id": "a5379e79",
   "metadata": {},
   "source": [
    "### SUMMARIZED CLASSIFICATION REPORTS(Multi-class and Binary class)<a id='summary_reports'>"
   ]
  },
  {
   "cell_type": "markdown",
   "id": "0841676e",
   "metadata": {},
   "source": [
    "<table style=\"background-color: #D6EEEE\">\n",
    "    <tr><th>Model</th><th>classes</th><th>Precision</th><th>Recall</th><th>f1-score</th><th>support</th></tr>\n",
    "    <tr><td rowspan=\"3\">MultiClass LogReg Training</td><td>0</td><td>0.89</td><td>0.99</td><td>0.94</td><td>12387</td></tr>\n",
    "    <tr><td>1</td><td>0.86</td><td>0.71</td><td>0.78</td><td>1790</td></tr>\n",
    "    <tr><td>2</td><td>0.76</td><td>0.25</td><td>0.38</td><td>1580</td></tr>\n",
    "    <tr><th>accuracy</th><th colspan=\"4\">0.89</th><th>15757</th></tr>\n",
    "    <tr><td rowspan=\"3\">MultiClass LogReg Test Set</td><td>0</td><td>0.88</td><td>0.99</td><td>0.93</td><td>3097</td></tr>\n",
    "    <tr><td>1</td><td>0.77</td><td>0.60</td><td>0.67</td><td>448</td></tr>\n",
    "    <tr><td>2</td><td>0.61</td><td>0.19</td><td>0.29</td><td>395</td></tr>\n",
    "    <tr><th>accuracy</th><th colspan=\"4\">0.86</th><th>3940</th></tr>\n",
    "    <tr><td rowspan=\"2\">Binary LogReg Training</td><td>0</td><td>0.95</td><td>0.99</td><td>0.97</td><td>13967</td></tr>\n",
    "    <tr><td>1</td><td>0.91</td><td>0.55</td><td>0.68</td><td>1790</td></tr>\n",
    "    <tr><th>accuracy</th><th colspan=\"4\">0.94</th><th>15757</th></tr>\n",
    "    <tr><td rowspan=\"2\">Binary LogReg Test Set</td><td>0</td><td>0.93</td><td>0.99</td><td>0.96</td><td>3492</td></tr>\n",
    "    <tr><td>1</td><td>0.81</td><td>0.46</td><td>0.59</td><td>448</td></tr>\n",
    "    <tr><th>accuracy</th><th colspan=\"4\">0.93</th><th>3940</th></tr>\n",
    "    </table>"
   ]
  },
  {
   "cell_type": "markdown",
   "id": "63d48367",
   "metadata": {},
   "source": [
    "### Summary<a id='summary'>\n",
    "##### <p style=text-align:left>* [Back to Contents](#contents)</p>"
   ]
  },
  {
   "cell_type": "markdown",
   "id": "4da90115",
   "metadata": {},
   "source": [
    " <b>Logistic Regression</b> is considered as one of the fundamental Machine Learning algorithms associated with classification problems and used as a baseline model. I worked on both the multiclass as well as binary class. Will take this further to apply on other classification models and compare their reports. Will experiment with more hypertuning the parametrs in the next step. "
   ]
  },
  {
   "cell_type": "code",
   "execution_count": null,
   "id": "c3f03aef",
   "metadata": {},
   "outputs": [],
   "source": []
  }
 ],
 "metadata": {
  "kernelspec": {
   "display_name": "Python 3 (ipykernel)",
   "language": "python",
   "name": "python3"
  },
  "language_info": {
   "codemirror_mode": {
    "name": "ipython",
    "version": 3
   },
   "file_extension": ".py",
   "mimetype": "text/x-python",
   "name": "python",
   "nbconvert_exporter": "python",
   "pygments_lexer": "ipython3",
   "version": "3.9.12"
  }
 },
 "nbformat": 4,
 "nbformat_minor": 5
}
