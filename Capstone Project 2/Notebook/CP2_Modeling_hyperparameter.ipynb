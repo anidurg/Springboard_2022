{
 "cells": [
  {
   "cell_type": "markdown",
   "id": "7b11c7e7",
   "metadata": {},
   "source": [
    "## Modeling<a id='Modeling'>"
   ]
  },
  {
   "cell_type": "markdown",
   "id": "b9a6e1c0",
   "metadata": {},
   "source": [
    "## Contents<a id='Contents'></a>\n",
    "* [Modeling](#Modeling)\n",
    "  * [Contents](#Contents)\n",
    "  * [Introduction](#Introduction)\n",
    "  * [Imports](#Imports)\n",
    "  * [Summary of baseline logisticRegression model](#summarized_results)\n",
    "  * [Load Data](#Load_Data)\n",
    "  * [LogisticRegression algorithm](#logistic_regression)\n",
    "  * [roc_auc_score and ROC Curve](#roc_related)\n",
    "* [SMOTE](#smote)\n",
    "     * [Fitting Logistic Regression after SMOTE](#logreg_smote)\n",
    "     * [Fitting RandomForest classifier after SMOTE](#rfc_smote)\n",
    "     * [Fitting AdaBoost classifier after SMOTE](#adaboost_smote)\n",
    "* [Undersampling](#undersampling) \n",
    "    * [Fitting LogisticRegression with undersampling](#logreg_undersample)\n",
    "    * [Fitting RandomForest Classifier with undersampling](#rfc_undersampling)\n",
    "    * [Fitting AdaBoost Classifier with undersampling](#abc_undersampling)\n",
    "* [Summarized classification reports for 3 algorithms](#summary_charts_all)\n",
    "* [Applying StratifiedKFold cross-validator](#stratifiedkfold_cv)\n",
    "    * [Cross_validate LogisticRegression model](#cv_logreg)\n",
    "    * [Cross_validate RandomForestClassifier Model](#cv_rfc)\n",
    "    * [Best Parameters for RandomForestClassifier](#best_params_rfc)\n",
    "    * [Finding parameters for AdaBoost Classifier Model](#best_params_ada)\n",
    "    * [Cross_validate with AdaBoost Classifier](#cv_ada)\n",
    "* [ Final Recall scores for test set after hyperparameter tuning](#final_recalls_all)"
   ]
  },
  {
   "cell_type": "markdown",
   "id": "4bfe6773",
   "metadata": {},
   "source": [
    "### Introduction<a id='Introduction'>"
   ]
  },
  {
   "cell_type": "markdown",
   "id": "8b18a1c3",
   "metadata": {},
   "source": [
    "* In the first round of\n",
    "the modeling notebook use the probability output and\n",
    "a threshold other than 0.5, which is the default.\n",
    "* I am choosing binary model first.<br/>\n",
    "<b>We will follow the same pattern we used before, only this time we are explicitly defining two objects ``X`` and ``y``, which were defined implicitly when we built the first model</b>. \n",
    "\n",
    "    \n",
    "Thus, pattern defined above can be expanded as follows:\n",
    "\n",
    "> (a) Define ``X`` and ``y``  \n",
    "\n",
    "> (b) Perform train/test split on ``(X, y)``  \n",
    "\n",
    "> (c) Create an object of the class associated with the algorithm to be used--in this case ``LogisticRegression``  \n",
    "\n",
    "> (d) Build an actual model using the``fit`` method from the class associated with the algorithm \n",
    "to be used (using the training set)  \n",
    "\n",
    "> (e) Predict with the built model using the``predict`` method from the class (training set and test set)  \n",
    "\n",
    "> (f) Compute performance metrics (in this case, accuracy) for the training and test predictions. The metrics to be used and their interpretation will depend on the application at hand  \n",
    "\n",
    "> (g) Determine if the model can be improved--repeat as needed with additional algorithms and/or by applying hyper-parameter tuning  \n",
    "\n",
    "> (h) Compare and Combine all best models as needed"
   ]
  },
  {
   "cell_type": "markdown",
   "id": "00d2e280",
   "metadata": {},
   "source": [
    "### Imports<a id='Imports'>"
   ]
  },
  {
   "cell_type": "code",
   "execution_count": 63,
   "id": "87d59602",
   "metadata": {},
   "outputs": [
    {
     "name": "stdout",
     "output_type": "stream",
     "text": [
      "Loaded Libraries\n"
     ]
    }
   ],
   "source": [
    "import pandas as pd\n",
    "import numpy as np\n",
    "import os\n",
    "import pickle\n",
    "import matplotlib.pyplot as plt\n",
    "import seaborn as sns\n",
    "from sklearn import __version__ as sklearn_version\n",
    "from sklearn.model_selection import cross_validate\n",
    "from library.sb_utils import save_file\n",
    "\n",
    "import matplotlib as mpl\n",
    "import matplotlib.cm as cm\n",
    "from matplotlib.colors import ListedColormap\n",
    "from sklearn.preprocessing import OneHotEncoder as OHE\n",
    "import sklearn.model_selection\n",
    "from sklearn.model_selection import train_test_split\n",
    "import nltk\n",
    "# Remove tokens that do not contain any letters from words_tokenized\n",
    "import re\n",
    "from nltk.stem.snowball import SnowballStemmer\n",
    "# Create an English language SnowballStemmer object\n",
    "stemmer = SnowballStemmer(\"english\")\n",
    "from sklearn.feature_extraction.text import TfidfVectorizer\n",
    "from sklearn.model_selection import KFold\n",
    "from sklearn.linear_model import LogisticRegression\n",
    "from sklearn.metrics import accuracy_score, f1_score\n",
    "from sklearn.metrics import classification_report\n",
    "from sklearn.metrics import confusion_matrix\n",
    "from sklearn.metrics import ConfusionMatrixDisplay\n",
    "# multi-class classification\n",
    "from sklearn.multiclass import OneVsRestClassifier\n",
    "from sklearn.metrics import roc_curve\n",
    "from sklearn.metrics import roc_auc_score\n",
    "# Random Forest\n",
    "from sklearn.ensemble import RandomForestClassifier\n",
    "from numpy import arange\n",
    "from numpy import argmax\n",
    "from collections import Counter\n",
    "#reasampling\n",
    "from imblearn.over_sampling import SMOTE\n",
    "from imblearn.under_sampling import RandomUnderSampler\n",
    "\n",
    "#one more method of train test split\n",
    "from sklearn.model_selection import StratifiedKFold\n",
    "from sklearn.metrics import precision_score\n",
    "from sklearn.metrics import recall_score\n",
    "from sklearn.model_selection import GridSearchCV\n",
    "from sklearn.model_selection import cross_val_score\n",
    "from sklearn.metrics import  make_scorer\n",
    "from sklearn.pipeline import make_pipeline\n",
    "#\n",
    "print(\"Loaded Libraries\")\n",
    "import warnings\n",
    "warnings.simplefilter(\"ignore\")"
   ]
  },
  {
   "cell_type": "markdown",
   "id": "270c0e4b",
   "metadata": {},
   "source": [
    "## Summary of baseline logisticRegression model<a id='summarized_results'>"
   ]
  },
  {
   "cell_type": "markdown",
   "id": "099cef64",
   "metadata": {},
   "source": [
    "<table style=\"background-color: #D6EEEE\">\n",
    "    <tr><th>Model</th><th>classes</th><th>Precision</th><th>Recall</th><th>f1-score</th><th>support</th></tr>\n",
    "    <tr><td rowspan=\"3\">MultiClass LogReg Training</td><td>0</td><td>0.89</td><td>0.99</td><td>0.94</td><td>12387</td></tr>\n",
    "    <tr><td>1</td><td>0.86</td><td>0.71</td><td>0.78</td><td>1790</td></tr>\n",
    "    <tr><td>2</td><td>0.76</td><td>0.25</td><td>0.38</td><td>1580</td></tr>\n",
    "    <tr><th>accuracy</th><th colspan=\"4\">0.89</th><th>15757</th></tr>\n",
    "    <tr><td rowspan=\"3\">MultiClass LogReg Test Set</td><td>0</td><td>0.88</td><td>0.99</td><td>0.93</td><td>3097</td></tr>\n",
    "    <tr><td>1</td><td>0.77</td><td>0.60</td><td>0.67</td><td>448</td></tr>\n",
    "    <tr><td>2</td><td>0.61</td><td>0.19</td><td>0.29</td><td>395</td></tr>\n",
    "    <tr><th>accuracy</th><th colspan=\"4\">0.86</th><th>3940</th></tr>\n",
    "    <tr><td rowspan=\"2\">Binary LogReg Training</td><td>0</td><td>0.95</td><td>0.99</td><td>0.97</td><td>13967</td></tr>\n",
    "    <tr><td>1</td><td>0.91</td><td>0.55</td><td>0.68</td><td>1790</td></tr>\n",
    "    <tr><th>accuracy</th><th colspan=\"4\">0.94</th><th>15757</th></tr>\n",
    "    <tr><td rowspan=\"2\">Binary LogReg Test Set</td><td>0</td><td>0.93</td><td>0.99</td><td>0.96</td><td>3492</td></tr>\n",
    "    <tr><td>1</td><td>0.81</td><td>0.46</td><td>0.59</td><td>448</td></tr>\n",
    "    <tr><th>accuracy</th><th colspan=\"4\">0.93</th><th>3940</th></tr>\n",
    "    </table>"
   ]
  },
  {
   "cell_type": "markdown",
   "id": "fcf6f850",
   "metadata": {},
   "source": [
    "Note: if we observe the summary chart, we can see that recall score is low for the minority class. One possible reason is calsses are hihgly imbalanced. TO take care of that, I will apply sampling method(one undersampling and one oversampling method) for three models that I choose. The three models i am choosing will be Logistic Regression, random Forest and AdaBoost Classifier. And I will be considering only binary classification instead of multiclass classification. "
   ]
  },
  {
   "cell_type": "markdown",
   "id": "991c867e",
   "metadata": {},
   "source": [
    "### Load Data<a id='Load_Data'>"
   ]
  },
  {
   "cell_type": "code",
   "execution_count": 3,
   "id": "6a775d1f",
   "metadata": {},
   "outputs": [],
   "source": [
    "df_main = pd.read_csv('cp2_ppt_2_sentiment_df.csv')"
   ]
  },
  {
   "cell_type": "code",
   "execution_count": 4,
   "id": "19eb1d74",
   "metadata": {},
   "outputs": [
    {
     "data": {
      "text/html": [
       "<div>\n",
       "<style scoped>\n",
       "    .dataframe tbody tr th:only-of-type {\n",
       "        vertical-align: middle;\n",
       "    }\n",
       "\n",
       "    .dataframe tbody tr th {\n",
       "        vertical-align: top;\n",
       "    }\n",
       "\n",
       "    .dataframe thead th {\n",
       "        text-align: right;\n",
       "    }\n",
       "</style>\n",
       "<table border=\"1\" class=\"dataframe\">\n",
       "  <thead>\n",
       "    <tr style=\"text-align: right;\">\n",
       "      <th></th>\n",
       "      <th>business_id</th>\n",
       "      <th>name</th>\n",
       "      <th>address</th>\n",
       "      <th>city</th>\n",
       "      <th>state</th>\n",
       "      <th>postal_code</th>\n",
       "      <th>latitude</th>\n",
       "      <th>longitude</th>\n",
       "      <th>review_count</th>\n",
       "      <th>categories</th>\n",
       "      <th>review_id</th>\n",
       "      <th>user_id</th>\n",
       "      <th>yelp_review_stars</th>\n",
       "      <th>useful</th>\n",
       "      <th>funny</th>\n",
       "      <th>cool</th>\n",
       "      <th>text</th>\n",
       "      <th>date</th>\n",
       "      <th>year</th>\n",
       "      <th>text_length</th>\n",
       "    </tr>\n",
       "  </thead>\n",
       "  <tbody>\n",
       "    <tr>\n",
       "      <th>0</th>\n",
       "      <td>vUrTGX_7HxqeoQ_6QCVz6g</td>\n",
       "      <td>Suraya</td>\n",
       "      <td>1528 Frankford Ave</td>\n",
       "      <td>Philadelphia</td>\n",
       "      <td>PA</td>\n",
       "      <td>19125</td>\n",
       "      <td>39.973687</td>\n",
       "      <td>-75.133956</td>\n",
       "      <td>1121</td>\n",
       "      <td>Active Life, Beer Gardens, Grocery, Middle Eas...</td>\n",
       "      <td>WeTHLEdLdP3Y3AXWWCsx4g</td>\n",
       "      <td>UizCd11Qoo74BKARrZp7HA</td>\n",
       "      <td>5</td>\n",
       "      <td>0</td>\n",
       "      <td>0</td>\n",
       "      <td>1</td>\n",
       "      <td>We are visiting in Philadelphia from Californi...</td>\n",
       "      <td>2018-05-28 21:27:38</td>\n",
       "      <td>2018</td>\n",
       "      <td>614</td>\n",
       "    </tr>\n",
       "    <tr>\n",
       "      <th>1</th>\n",
       "      <td>vUrTGX_7HxqeoQ_6QCVz6g</td>\n",
       "      <td>Suraya</td>\n",
       "      <td>1528 Frankford Ave</td>\n",
       "      <td>Philadelphia</td>\n",
       "      <td>PA</td>\n",
       "      <td>19125</td>\n",
       "      <td>39.973687</td>\n",
       "      <td>-75.133956</td>\n",
       "      <td>1121</td>\n",
       "      <td>Active Life, Beer Gardens, Grocery, Middle Eas...</td>\n",
       "      <td>MrWpfvjVA6Qtj3CDvFfPiA</td>\n",
       "      <td>49aswoS-d09tyWNJimzZ5A</td>\n",
       "      <td>5</td>\n",
       "      <td>1</td>\n",
       "      <td>0</td>\n",
       "      <td>0</td>\n",
       "      <td>Delicious food ! I personally loved it !!!\\n\\n...</td>\n",
       "      <td>2018-02-01 19:28:41</td>\n",
       "      <td>2018</td>\n",
       "      <td>573</td>\n",
       "    </tr>\n",
       "    <tr>\n",
       "      <th>2</th>\n",
       "      <td>vUrTGX_7HxqeoQ_6QCVz6g</td>\n",
       "      <td>Suraya</td>\n",
       "      <td>1528 Frankford Ave</td>\n",
       "      <td>Philadelphia</td>\n",
       "      <td>PA</td>\n",
       "      <td>19125</td>\n",
       "      <td>39.973687</td>\n",
       "      <td>-75.133956</td>\n",
       "      <td>1121</td>\n",
       "      <td>Active Life, Beer Gardens, Grocery, Middle Eas...</td>\n",
       "      <td>hll3PKZbMbu2W7uFbF8ezQ</td>\n",
       "      <td>CmLK8cjvcUIKyNVMp8ZyDA</td>\n",
       "      <td>2</td>\n",
       "      <td>0</td>\n",
       "      <td>0</td>\n",
       "      <td>0</td>\n",
       "      <td>Beautiful place. Excellent food. I only gave i...</td>\n",
       "      <td>2018-08-24 13:30:41</td>\n",
       "      <td>2018</td>\n",
       "      <td>362</td>\n",
       "    </tr>\n",
       "    <tr>\n",
       "      <th>3</th>\n",
       "      <td>vUrTGX_7HxqeoQ_6QCVz6g</td>\n",
       "      <td>Suraya</td>\n",
       "      <td>1528 Frankford Ave</td>\n",
       "      <td>Philadelphia</td>\n",
       "      <td>PA</td>\n",
       "      <td>19125</td>\n",
       "      <td>39.973687</td>\n",
       "      <td>-75.133956</td>\n",
       "      <td>1121</td>\n",
       "      <td>Active Life, Beer Gardens, Grocery, Middle Eas...</td>\n",
       "      <td>Mi5lScAdCWuJZj0QO_4qxg</td>\n",
       "      <td>wG77jgwRg53rN1KVxo637w</td>\n",
       "      <td>2</td>\n",
       "      <td>0</td>\n",
       "      <td>0</td>\n",
       "      <td>0</td>\n",
       "      <td>It's extremely overpriced, and the sandwiches ...</td>\n",
       "      <td>2018-02-11 18:04:01</td>\n",
       "      <td>2018</td>\n",
       "      <td>254</td>\n",
       "    </tr>\n",
       "    <tr>\n",
       "      <th>4</th>\n",
       "      <td>vUrTGX_7HxqeoQ_6QCVz6g</td>\n",
       "      <td>Suraya</td>\n",
       "      <td>1528 Frankford Ave</td>\n",
       "      <td>Philadelphia</td>\n",
       "      <td>PA</td>\n",
       "      <td>19125</td>\n",
       "      <td>39.973687</td>\n",
       "      <td>-75.133956</td>\n",
       "      <td>1121</td>\n",
       "      <td>Active Life, Beer Gardens, Grocery, Middle Eas...</td>\n",
       "      <td>SSu94Tvc6L5UBC4FDDyAbw</td>\n",
       "      <td>5s0nTuLRm3ue4Qfrj9PHkQ</td>\n",
       "      <td>5</td>\n",
       "      <td>0</td>\n",
       "      <td>0</td>\n",
       "      <td>0</td>\n",
       "      <td>Instagram worthy and Claire is an amazing serv...</td>\n",
       "      <td>2018-05-28 23:07:50</td>\n",
       "      <td>2018</td>\n",
       "      <td>1167</td>\n",
       "    </tr>\n",
       "  </tbody>\n",
       "</table>\n",
       "</div>"
      ],
      "text/plain": [
       "              business_id    name             address          city state  \\\n",
       "0  vUrTGX_7HxqeoQ_6QCVz6g  Suraya  1528 Frankford Ave  Philadelphia    PA   \n",
       "1  vUrTGX_7HxqeoQ_6QCVz6g  Suraya  1528 Frankford Ave  Philadelphia    PA   \n",
       "2  vUrTGX_7HxqeoQ_6QCVz6g  Suraya  1528 Frankford Ave  Philadelphia    PA   \n",
       "3  vUrTGX_7HxqeoQ_6QCVz6g  Suraya  1528 Frankford Ave  Philadelphia    PA   \n",
       "4  vUrTGX_7HxqeoQ_6QCVz6g  Suraya  1528 Frankford Ave  Philadelphia    PA   \n",
       "\n",
       "   postal_code   latitude  longitude  review_count  \\\n",
       "0        19125  39.973687 -75.133956          1121   \n",
       "1        19125  39.973687 -75.133956          1121   \n",
       "2        19125  39.973687 -75.133956          1121   \n",
       "3        19125  39.973687 -75.133956          1121   \n",
       "4        19125  39.973687 -75.133956          1121   \n",
       "\n",
       "                                          categories               review_id  \\\n",
       "0  Active Life, Beer Gardens, Grocery, Middle Eas...  WeTHLEdLdP3Y3AXWWCsx4g   \n",
       "1  Active Life, Beer Gardens, Grocery, Middle Eas...  MrWpfvjVA6Qtj3CDvFfPiA   \n",
       "2  Active Life, Beer Gardens, Grocery, Middle Eas...  hll3PKZbMbu2W7uFbF8ezQ   \n",
       "3  Active Life, Beer Gardens, Grocery, Middle Eas...  Mi5lScAdCWuJZj0QO_4qxg   \n",
       "4  Active Life, Beer Gardens, Grocery, Middle Eas...  SSu94Tvc6L5UBC4FDDyAbw   \n",
       "\n",
       "                  user_id  yelp_review_stars  useful  funny  cool  \\\n",
       "0  UizCd11Qoo74BKARrZp7HA                  5       0      0     1   \n",
       "1  49aswoS-d09tyWNJimzZ5A                  5       1      0     0   \n",
       "2  CmLK8cjvcUIKyNVMp8ZyDA                  2       0      0     0   \n",
       "3  wG77jgwRg53rN1KVxo637w                  2       0      0     0   \n",
       "4  5s0nTuLRm3ue4Qfrj9PHkQ                  5       0      0     0   \n",
       "\n",
       "                                                text                 date  \\\n",
       "0  We are visiting in Philadelphia from Californi...  2018-05-28 21:27:38   \n",
       "1  Delicious food ! I personally loved it !!!\\n\\n...  2018-02-01 19:28:41   \n",
       "2  Beautiful place. Excellent food. I only gave i...  2018-08-24 13:30:41   \n",
       "3  It's extremely overpriced, and the sandwiches ...  2018-02-11 18:04:01   \n",
       "4  Instagram worthy and Claire is an amazing serv...  2018-05-28 23:07:50   \n",
       "\n",
       "   year  text_length  \n",
       "0  2018          614  \n",
       "1  2018          573  \n",
       "2  2018          362  \n",
       "3  2018          254  \n",
       "4  2018         1167  "
      ]
     },
     "execution_count": 4,
     "metadata": {},
     "output_type": "execute_result"
    }
   ],
   "source": [
    "df_main.head()"
   ]
  },
  {
   "cell_type": "code",
   "execution_count": 5,
   "id": "a5c65368",
   "metadata": {},
   "outputs": [
    {
     "data": {
      "text/html": [
       "<div>\n",
       "<style scoped>\n",
       "    .dataframe tbody tr th:only-of-type {\n",
       "        vertical-align: middle;\n",
       "    }\n",
       "\n",
       "    .dataframe tbody tr th {\n",
       "        vertical-align: top;\n",
       "    }\n",
       "\n",
       "    .dataframe thead th {\n",
       "        text-align: right;\n",
       "    }\n",
       "</style>\n",
       "<table border=\"1\" class=\"dataframe\">\n",
       "  <thead>\n",
       "    <tr style=\"text-align: right;\">\n",
       "      <th></th>\n",
       "      <th>business_id</th>\n",
       "      <th>name</th>\n",
       "      <th>address</th>\n",
       "      <th>city</th>\n",
       "      <th>state</th>\n",
       "      <th>postal_code</th>\n",
       "      <th>latitude</th>\n",
       "      <th>longitude</th>\n",
       "      <th>review_count</th>\n",
       "      <th>categories</th>\n",
       "      <th>...</th>\n",
       "      <th>user_id</th>\n",
       "      <th>yelp_review_stars</th>\n",
       "      <th>useful</th>\n",
       "      <th>funny</th>\n",
       "      <th>cool</th>\n",
       "      <th>text</th>\n",
       "      <th>date</th>\n",
       "      <th>year</th>\n",
       "      <th>text_length</th>\n",
       "      <th>target_binary</th>\n",
       "    </tr>\n",
       "  </thead>\n",
       "  <tbody>\n",
       "    <tr>\n",
       "      <th>0</th>\n",
       "      <td>vUrTGX_7HxqeoQ_6QCVz6g</td>\n",
       "      <td>Suraya</td>\n",
       "      <td>1528 Frankford Ave</td>\n",
       "      <td>Philadelphia</td>\n",
       "      <td>PA</td>\n",
       "      <td>19125</td>\n",
       "      <td>39.973687</td>\n",
       "      <td>-75.133956</td>\n",
       "      <td>1121</td>\n",
       "      <td>Active Life, Beer Gardens, Grocery, Middle Eas...</td>\n",
       "      <td>...</td>\n",
       "      <td>UizCd11Qoo74BKARrZp7HA</td>\n",
       "      <td>5</td>\n",
       "      <td>0</td>\n",
       "      <td>0</td>\n",
       "      <td>1</td>\n",
       "      <td>We are visiting in Philadelphia from Californi...</td>\n",
       "      <td>2018-05-28 21:27:38</td>\n",
       "      <td>2018</td>\n",
       "      <td>614</td>\n",
       "      <td>0</td>\n",
       "    </tr>\n",
       "    <tr>\n",
       "      <th>1</th>\n",
       "      <td>vUrTGX_7HxqeoQ_6QCVz6g</td>\n",
       "      <td>Suraya</td>\n",
       "      <td>1528 Frankford Ave</td>\n",
       "      <td>Philadelphia</td>\n",
       "      <td>PA</td>\n",
       "      <td>19125</td>\n",
       "      <td>39.973687</td>\n",
       "      <td>-75.133956</td>\n",
       "      <td>1121</td>\n",
       "      <td>Active Life, Beer Gardens, Grocery, Middle Eas...</td>\n",
       "      <td>...</td>\n",
       "      <td>49aswoS-d09tyWNJimzZ5A</td>\n",
       "      <td>5</td>\n",
       "      <td>1</td>\n",
       "      <td>0</td>\n",
       "      <td>0</td>\n",
       "      <td>Delicious food ! I personally loved it !!!\\n\\n...</td>\n",
       "      <td>2018-02-01 19:28:41</td>\n",
       "      <td>2018</td>\n",
       "      <td>573</td>\n",
       "      <td>0</td>\n",
       "    </tr>\n",
       "    <tr>\n",
       "      <th>2</th>\n",
       "      <td>vUrTGX_7HxqeoQ_6QCVz6g</td>\n",
       "      <td>Suraya</td>\n",
       "      <td>1528 Frankford Ave</td>\n",
       "      <td>Philadelphia</td>\n",
       "      <td>PA</td>\n",
       "      <td>19125</td>\n",
       "      <td>39.973687</td>\n",
       "      <td>-75.133956</td>\n",
       "      <td>1121</td>\n",
       "      <td>Active Life, Beer Gardens, Grocery, Middle Eas...</td>\n",
       "      <td>...</td>\n",
       "      <td>CmLK8cjvcUIKyNVMp8ZyDA</td>\n",
       "      <td>2</td>\n",
       "      <td>0</td>\n",
       "      <td>0</td>\n",
       "      <td>0</td>\n",
       "      <td>Beautiful place. Excellent food. I only gave i...</td>\n",
       "      <td>2018-08-24 13:30:41</td>\n",
       "      <td>2018</td>\n",
       "      <td>362</td>\n",
       "      <td>1</td>\n",
       "    </tr>\n",
       "  </tbody>\n",
       "</table>\n",
       "<p>3 rows × 21 columns</p>\n",
       "</div>"
      ],
      "text/plain": [
       "              business_id    name             address          city state  \\\n",
       "0  vUrTGX_7HxqeoQ_6QCVz6g  Suraya  1528 Frankford Ave  Philadelphia    PA   \n",
       "1  vUrTGX_7HxqeoQ_6QCVz6g  Suraya  1528 Frankford Ave  Philadelphia    PA   \n",
       "2  vUrTGX_7HxqeoQ_6QCVz6g  Suraya  1528 Frankford Ave  Philadelphia    PA   \n",
       "\n",
       "   postal_code   latitude  longitude  review_count  \\\n",
       "0        19125  39.973687 -75.133956          1121   \n",
       "1        19125  39.973687 -75.133956          1121   \n",
       "2        19125  39.973687 -75.133956          1121   \n",
       "\n",
       "                                          categories  ...  \\\n",
       "0  Active Life, Beer Gardens, Grocery, Middle Eas...  ...   \n",
       "1  Active Life, Beer Gardens, Grocery, Middle Eas...  ...   \n",
       "2  Active Life, Beer Gardens, Grocery, Middle Eas...  ...   \n",
       "\n",
       "                  user_id yelp_review_stars  useful  funny  cool  \\\n",
       "0  UizCd11Qoo74BKARrZp7HA                 5       0      0     1   \n",
       "1  49aswoS-d09tyWNJimzZ5A                 5       1      0     0   \n",
       "2  CmLK8cjvcUIKyNVMp8ZyDA                 2       0      0     0   \n",
       "\n",
       "                                                text                 date  \\\n",
       "0  We are visiting in Philadelphia from Californi...  2018-05-28 21:27:38   \n",
       "1  Delicious food ! I personally loved it !!!\\n\\n...  2018-02-01 19:28:41   \n",
       "2  Beautiful place. Excellent food. I only gave i...  2018-08-24 13:30:41   \n",
       "\n",
       "   year  text_length  target_binary  \n",
       "0  2018          614              0  \n",
       "1  2018          573              0  \n",
       "2  2018          362              1  \n",
       "\n",
       "[3 rows x 21 columns]"
      ]
     },
     "execution_count": 5,
     "metadata": {},
     "output_type": "execute_result"
    }
   ],
   "source": [
    "# Create new column \"target_binary\" that stored 0's or 1's. 0 being Positive, 1 being Non-Positive\n",
    "df_main[\"target_binary\"] = np.where(df_main[\"yelp_review_stars\"] >= 3, 0, 1)\n",
    "df_main.head(3)"
   ]
  },
  {
   "cell_type": "code",
   "execution_count": 6,
   "id": "48fe5379",
   "metadata": {},
   "outputs": [],
   "source": [
    "# Picking the only text and target column\n",
    "df_bi_final = df_main[['text','target_binary']]"
   ]
  },
  {
   "cell_type": "code",
   "execution_count": 7,
   "id": "10e05b50",
   "metadata": {},
   "outputs": [
    {
     "data": {
      "text/html": [
       "<div>\n",
       "<style scoped>\n",
       "    .dataframe tbody tr th:only-of-type {\n",
       "        vertical-align: middle;\n",
       "    }\n",
       "\n",
       "    .dataframe tbody tr th {\n",
       "        vertical-align: top;\n",
       "    }\n",
       "\n",
       "    .dataframe thead th {\n",
       "        text-align: right;\n",
       "    }\n",
       "</style>\n",
       "<table border=\"1\" class=\"dataframe\">\n",
       "  <thead>\n",
       "    <tr style=\"text-align: right;\">\n",
       "      <th></th>\n",
       "      <th>text</th>\n",
       "      <th>target_binary</th>\n",
       "    </tr>\n",
       "  </thead>\n",
       "  <tbody>\n",
       "    <tr>\n",
       "      <th>0</th>\n",
       "      <td>We are visiting in Philadelphia from Californi...</td>\n",
       "      <td>0</td>\n",
       "    </tr>\n",
       "    <tr>\n",
       "      <th>1</th>\n",
       "      <td>Delicious food ! I personally loved it !!!\\n\\n...</td>\n",
       "      <td>0</td>\n",
       "    </tr>\n",
       "    <tr>\n",
       "      <th>2</th>\n",
       "      <td>Beautiful place. Excellent food. I only gave i...</td>\n",
       "      <td>1</td>\n",
       "    </tr>\n",
       "    <tr>\n",
       "      <th>3</th>\n",
       "      <td>It's extremely overpriced, and the sandwiches ...</td>\n",
       "      <td>1</td>\n",
       "    </tr>\n",
       "    <tr>\n",
       "      <th>4</th>\n",
       "      <td>Instagram worthy and Claire is an amazing serv...</td>\n",
       "      <td>0</td>\n",
       "    </tr>\n",
       "  </tbody>\n",
       "</table>\n",
       "</div>"
      ],
      "text/plain": [
       "                                                text  target_binary\n",
       "0  We are visiting in Philadelphia from Californi...              0\n",
       "1  Delicious food ! I personally loved it !!!\\n\\n...              0\n",
       "2  Beautiful place. Excellent food. I only gave i...              1\n",
       "3  It's extremely overpriced, and the sandwiches ...              1\n",
       "4  Instagram worthy and Claire is an amazing serv...              0"
      ]
     },
     "execution_count": 7,
     "metadata": {},
     "output_type": "execute_result"
    }
   ],
   "source": [
    "df_bi_final.head()"
   ]
  },
  {
   "cell_type": "code",
   "execution_count": 8,
   "id": "21ce4b7d",
   "metadata": {},
   "outputs": [],
   "source": [
    "import re \n",
    "def function_clean(text):\n",
    "    text = re.sub(r\"http\\S+\", \"\", text) #removing the URL Http\n",
    "    # Removal of mentions\n",
    "    text = re.sub(\"@[^\\s]*\", \"\", text)\n",
    "    # Removal of hashtags\n",
    "    text = re.sub(\"#[^\\s]*\", \"\", text)\n",
    "    # Removal of numbers\n",
    "    text = re.sub('[0-9]*[+-:]*[0-9]+', '', text)\n",
    "    text = re.sub(\"(\\\\d|\\\\W)+\",\" \",text)\n",
    "    text = re.sub(\"'s\", \"\", text)   \n",
    "    return text"
   ]
  },
  {
   "cell_type": "code",
   "execution_count": 9,
   "id": "b64a250d",
   "metadata": {},
   "outputs": [],
   "source": [
    "# Define a function to perform both stemming and tokenization\n",
    "\n",
    "\n",
    "def tokenize_and_stem(text):\n",
    "\n",
    "    tokens = [y for x in nltk.sent_tokenize(text) for y in nltk.word_tokenize(x)]\n",
    "\n",
    "    filtered_tokens = [token for token in tokens if re.search('[a-zA-Z]',token)]\n",
    "\n",
    "    stems = [stemmer.stem(token) for token in filtered_tokens]\n",
    "\n",
    "    return stems"
   ]
  },
  {
   "cell_type": "code",
   "execution_count": 10,
   "id": "b696ee3d",
   "metadata": {},
   "outputs": [],
   "source": [
    "# applying the cleaning function to text column\n",
    "df_bi_final['text'] = df_bi_final['text'].apply(lambda text: function_clean(text))"
   ]
  },
  {
   "cell_type": "code",
   "execution_count": 11,
   "id": "c8907232",
   "metadata": {},
   "outputs": [
    {
     "data": {
      "text/html": [
       "<div>\n",
       "<style scoped>\n",
       "    .dataframe tbody tr th:only-of-type {\n",
       "        vertical-align: middle;\n",
       "    }\n",
       "\n",
       "    .dataframe tbody tr th {\n",
       "        vertical-align: top;\n",
       "    }\n",
       "\n",
       "    .dataframe thead th {\n",
       "        text-align: right;\n",
       "    }\n",
       "</style>\n",
       "<table border=\"1\" class=\"dataframe\">\n",
       "  <thead>\n",
       "    <tr style=\"text-align: right;\">\n",
       "      <th></th>\n",
       "      <th>text</th>\n",
       "      <th>target_binary</th>\n",
       "    </tr>\n",
       "  </thead>\n",
       "  <tbody>\n",
       "    <tr>\n",
       "      <th>0</th>\n",
       "      <td>We are visiting in Philadelphia from Californi...</td>\n",
       "      <td>0</td>\n",
       "    </tr>\n",
       "    <tr>\n",
       "      <th>1</th>\n",
       "      <td>Delicious food I personally loved it I was sur...</td>\n",
       "      <td>0</td>\n",
       "    </tr>\n",
       "    <tr>\n",
       "      <th>2</th>\n",
       "      <td>Beautiful place Excellent food I only gave it ...</td>\n",
       "      <td>1</td>\n",
       "    </tr>\n",
       "    <tr>\n",
       "      <th>3</th>\n",
       "      <td>It s extremely overpriced and the sandwiches a...</td>\n",
       "      <td>1</td>\n",
       "    </tr>\n",
       "    <tr>\n",
       "      <th>4</th>\n",
       "      <td>Instagram worthy and Claire is an amazing serv...</td>\n",
       "      <td>0</td>\n",
       "    </tr>\n",
       "  </tbody>\n",
       "</table>\n",
       "</div>"
      ],
      "text/plain": [
       "                                                text  target_binary\n",
       "0  We are visiting in Philadelphia from Californi...              0\n",
       "1  Delicious food I personally loved it I was sur...              0\n",
       "2  Beautiful place Excellent food I only gave it ...              1\n",
       "3  It s extremely overpriced and the sandwiches a...              1\n",
       "4  Instagram worthy and Claire is an amazing serv...              0"
      ]
     },
     "execution_count": 11,
     "metadata": {},
     "output_type": "execute_result"
    }
   ],
   "source": [
    "df_bi_final.head()"
   ]
  },
  {
   "cell_type": "code",
   "execution_count": 58,
   "id": "5a63a7f3",
   "metadata": {},
   "outputs": [
    {
     "name": "stdout",
     "output_type": "stream",
     "text": [
      "Original dataset shape Counter({0: 17459, 1: 2238})\n"
     ]
    }
   ],
   "source": [
    "X = df_bi_final['text']\n",
    "y = df_bi_final['target_binary']\n",
    "print('Original dataset shape %s' % Counter(y))"
   ]
  },
  {
   "cell_type": "code",
   "execution_count": 12,
   "id": "5fa4fa1a",
   "metadata": {},
   "outputs": [],
   "source": [
    "X_train,X_test,y_train,y_test = train_test_split(df_bi_final['text'], df_bi_final['target_binary'], random_state=2, test_size=0.2, stratify = df_bi_final['target_binary'])"
   ]
  },
  {
   "cell_type": "code",
   "execution_count": 13,
   "id": "6195784c",
   "metadata": {},
   "outputs": [
    {
     "data": {
      "text/plain": [
       "((15757,), (3940,), (15757,), (3940,))"
      ]
     },
     "execution_count": 13,
     "metadata": {},
     "output_type": "execute_result"
    }
   ],
   "source": [
    "X_train.shape,X_test.shape,y_train.shape,y_test.shape"
   ]
  },
  {
   "cell_type": "code",
   "execution_count": 14,
   "id": "b468fad8",
   "metadata": {},
   "outputs": [],
   "source": [
    "# Instantiate TfidfVectorizer object with stopwords and tokenizer\n",
    "# parameters for efficient processing of text\n",
    "\n",
    "tfidf = TfidfVectorizer(stop_words='english',tokenizer=tokenize_and_stem,ngram_range=(1,1))"
   ]
  },
  {
   "cell_type": "code",
   "execution_count": 15,
   "id": "224d0991",
   "metadata": {},
   "outputs": [],
   "source": [
    "X_train_transformed = tfidf.fit_transform(X_train)"
   ]
  },
  {
   "cell_type": "code",
   "execution_count": 16,
   "id": "06bcc2a3",
   "metadata": {},
   "outputs": [
    {
     "data": {
      "text/plain": [
       "scipy.sparse.csr.csr_matrix"
      ]
     },
     "execution_count": 16,
     "metadata": {},
     "output_type": "execute_result"
    }
   ],
   "source": [
    "type(X_train_transformed)"
   ]
  },
  {
   "cell_type": "code",
   "execution_count": 17,
   "id": "2939e9bf",
   "metadata": {},
   "outputs": [],
   "source": [
    "X_test_transformed = tfidf.transform(X_test)"
   ]
  },
  {
   "cell_type": "code",
   "execution_count": 18,
   "id": "f4d79962",
   "metadata": {},
   "outputs": [
    {
     "data": {
      "text/plain": [
       "scipy.sparse.csr.csr_matrix"
      ]
     },
     "execution_count": 18,
     "metadata": {},
     "output_type": "execute_result"
    }
   ],
   "source": [
    "type(X_test_transformed)"
   ]
  },
  {
   "cell_type": "code",
   "execution_count": 19,
   "id": "e97d6aba",
   "metadata": {},
   "outputs": [
    {
     "data": {
      "text/plain": [
       "0    13967\n",
       "1     1790\n",
       "Name: target_binary, dtype: int64"
      ]
     },
     "execution_count": 19,
     "metadata": {},
     "output_type": "execute_result"
    }
   ],
   "source": [
    "y_train.value_counts()"
   ]
  },
  {
   "cell_type": "code",
   "execution_count": 20,
   "id": "5ec07459",
   "metadata": {},
   "outputs": [
    {
     "data": {
      "text/plain": [
       "0    3492\n",
       "1     448\n",
       "Name: target_binary, dtype: int64"
      ]
     },
     "execution_count": 20,
     "metadata": {},
     "output_type": "execute_result"
    }
   ],
   "source": [
    "y_test.value_counts()"
   ]
  },
  {
   "cell_type": "markdown",
   "id": "d7388124",
   "metadata": {},
   "source": [
    "## LogisticRegression algorithm<a id='logistic_regression'>\n",
    "    \n",
    "Logistic Regression algorithm is ussed to build models that are simple and yet effecive--in some cases. This algorithm can be used to build useful baseline models for classification problems that can be easily interpreted. For these reasons, Logistic Regression is considered as one of the fundamental Machine Learning algorithms associated with classification problems."
   ]
  },
  {
   "cell_type": "code",
   "execution_count": 22,
   "id": "9f4c5e59",
   "metadata": {},
   "outputs": [],
   "source": [
    "# fit a model\n",
    "clf = LogisticRegression()\n",
    "clf.fit(X_train_transformed, y_train)\n",
    "# predict labels\n",
    "y_pred = clf.predict(X_test_transformed)\n"
   ]
  },
  {
   "cell_type": "code",
   "execution_count": 23,
   "id": "ce4ead80",
   "metadata": {},
   "outputs": [
    {
     "data": {
      "text/plain": [
       "<sklearn.metrics._plot.confusion_matrix.ConfusionMatrixDisplay at 0x2323fe1a7c0>"
      ]
     },
     "execution_count": 23,
     "metadata": {},
     "output_type": "execute_result"
    },
    {
     "data": {
      "image/png": "[encoded data removed]",
      "text/plain": [
       "<Figure size 432x288 with 2 Axes>"
      ]
     },
     "metadata": {
      "needs_background": "light"
     },
     "output_type": "display_data"
    }
   ],
   "source": [
    "cm = confusion_matrix(y_test, y_pred, labels = clf.classes_)\n",
    "_, ax = plt.subplots()\n",
    "display_cm = ConfusionMatrixDisplay(confusion_matrix = cm, \n",
    "                                    display_labels = ['positive review', 'non-positive review'])\n",
    "ax.set_xticks([0, 1])\n",
    "ax.set_yticks([0, 1])\n",
    "ax.set_xticklabels(labels = ['positive review', 'non-positive review'], fontsize = 8)\n",
    "ax.set_yticklabels(labels = ['positive review', 'non-positive review'], fontsize = 8)\n",
    "display_cm.plot(ax = ax)"
   ]
  },
  {
   "cell_type": "code",
   "execution_count": 24,
   "id": "03ceab1b",
   "metadata": {},
   "outputs": [
    {
     "name": "stdout",
     "output_type": "stream",
     "text": [
      "              precision    recall  f1-score   support\n",
      "\n",
      "           0       0.93      0.99      0.96      3492\n",
      "           1       0.81      0.46      0.59       448\n",
      "\n",
      "    accuracy                           0.93      3940\n",
      "   macro avg       0.87      0.72      0.77      3940\n",
      "weighted avg       0.92      0.93      0.92      3940\n",
      "\n"
     ]
    }
   ],
   "source": [
    "print(classification_report(y_test, y_pred))"
   ]
  },
  {
   "cell_type": "markdown",
   "id": "21b71a14",
   "metadata": {},
   "source": [
    "Based on the above classification report we observe that we are predicting more false positive results. Thus our goal is build a model which will increase the recall score above  0.46 for class 1 which is the minority class. if we predict class 1 correctly then the business can get a chance to improve.  "
   ]
  },
  {
   "cell_type": "markdown",
   "id": "c492b3b1",
   "metadata": {},
   "source": [
    "## roc_auc_score and ROC Curve<a id='roc_related'>"
   ]
  },
  {
   "cell_type": "markdown",
   "id": "0d58004f",
   "metadata": {},
   "source": [
    "Another common metric is AUC, area under the receiver operating characteristic (ROC) curve. The Reciever operating characteristic curve plots the true positive (TP) rate versus the false positive (FP) rate at different classification thresholds. The thresholds are different probability cutoffs that separate the two classes in binary classification. It uses probability to tell us how well a model separates the classes."
   ]
  },
  {
   "cell_type": "code",
   "execution_count": 28,
   "id": "2b3fe324",
   "metadata": {},
   "outputs": [
    {
     "data": {
      "image/png": "[encoded data removed]",
      "text/plain": [
       "<Figure size 432x288 with 1 Axes>"
      ]
     },
     "metadata": {
      "needs_background": "light"
     },
     "output_type": "display_data"
    }
   ],
   "source": [
    "y_pred_proba = clf.predict_proba(X_test_transformed)\n",
    "# roc curve for classes\n",
    "fpr = {}\n",
    "tpr = {}\n",
    "thresh ={}\n",
    "\n",
    "n_class = 2\n",
    "\n",
    "for i in range(n_class):    \n",
    "    fpr[i], tpr[i], thresh[i] = roc_curve(y_test, y_pred_proba[:,i], pos_label=i)\n",
    "    \n",
    "    \n",
    "# plotting    \n",
    "plt.plot(fpr[0], tpr[0], linestyle='--',color='orange', label='0')\n",
    "plt.plot(fpr[1], tpr[1], linestyle='--',color='blue', label='1')\n",
    "\n",
    "plt.title('Binaryclass ROC curve')\n",
    "plt.xlabel('False Positive Rate')\n",
    "plt.ylabel('True Positive rate')\n",
    "plt.legend(loc='best')\n",
    "plt.savefig('Binary Class ROC',dpi=300); "
   ]
  },
  {
   "cell_type": "code",
   "execution_count": 29,
   "id": "8fdb1073",
   "metadata": {},
   "outputs": [
    {
     "data": {
      "text/plain": [
       "0.9573444659221076"
      ]
     },
     "execution_count": 29,
     "metadata": {},
     "output_type": "execute_result"
    }
   ],
   "source": [
    "roc_auc_score(y_test, clf.predict_proba(X_test_transformed)[:, 1])"
   ]
  },
  {
   "cell_type": "code",
   "execution_count": 30,
   "id": "b69f2cf8",
   "metadata": {},
   "outputs": [
    {
     "data": {
      "text/plain": [
       "0.9818124965751274"
      ]
     },
     "execution_count": 30,
     "metadata": {},
     "output_type": "execute_result"
    }
   ],
   "source": [
    "roc_auc_score(y_train, clf.predict_proba(X_train_transformed)[:, 1])"
   ]
  },
  {
   "cell_type": "markdown",
   "id": "2194ced6",
   "metadata": {},
   "source": [
    "Before applying resampling method, I will try to fit two more models namels RandomForestClassifier and AdaBoost"
   ]
  },
  {
   "cell_type": "markdown",
   "id": "cb135e00",
   "metadata": {},
   "source": [
    "## Applying two algorithms before sampling<a id='apply_before sampling'>"
   ]
  },
  {
   "cell_type": "markdown",
   "id": "4ad1b90b",
   "metadata": {},
   "source": [
    "## RandomForest Classifier Algorithm<a id='random_algorithm_before_sampling'>\n",
    "    \n",
    "   Follows Bootstrap Aggregation method - Bagging"
   ]
  },
  {
   "cell_type": "code",
   "execution_count": 31,
   "id": "eabd2c52",
   "metadata": {},
   "outputs": [],
   "source": [
    "rfc_model = RandomForestClassifier()\n",
    "rfc_model.fit(X_train_transformed,y_train)\n",
    "y_pred_rfc = rfc_model.predict(X_test_transformed)\n"
   ]
  },
  {
   "cell_type": "code",
   "execution_count": 32,
   "id": "c486c42b",
   "metadata": {},
   "outputs": [
    {
     "data": {
      "text/plain": [
       "<sklearn.metrics._plot.confusion_matrix.ConfusionMatrixDisplay at 0x2323ff84340>"
      ]
     },
     "execution_count": 32,
     "metadata": {},
     "output_type": "execute_result"
    },
    {
     "data": {
      "image/png": "[encoded data removed]",
      "text/plain": [
       "<Figure size 432x288 with 2 Axes>"
      ]
     },
     "metadata": {
      "needs_background": "light"
     },
     "output_type": "display_data"
    }
   ],
   "source": [
    "cm_rfc = confusion_matrix(y_test, y_pred_rfc, labels = rfc_model.classes_)\n",
    "_, ax = plt.subplots()\n",
    "display_cm_rfc = ConfusionMatrixDisplay(confusion_matrix = cm_rfc, \n",
    "                                    display_labels = ['positive review', 'non-positive review'])\n",
    "ax.set_xticks([0, 1])\n",
    "ax.set_yticks([0, 1])\n",
    "ax.set_xticklabels(labels = ['positive review', 'non-positive review'], fontsize = 8)\n",
    "ax.set_yticklabels(labels = ['positive review', 'non-positive review'], fontsize = 8)\n",
    "display_cm_rfc.plot(ax = ax)"
   ]
  },
  {
   "cell_type": "code",
   "execution_count": 33,
   "id": "33b7f906",
   "metadata": {},
   "outputs": [
    {
     "name": "stdout",
     "output_type": "stream",
     "text": [
      "              precision    recall  f1-score   support\n",
      "\n",
      "           0       0.90      1.00      0.95      3492\n",
      "           1       0.89      0.17      0.29       448\n",
      "\n",
      "    accuracy                           0.90      3940\n",
      "   macro avg       0.90      0.59      0.62      3940\n",
      "weighted avg       0.90      0.90      0.87      3940\n",
      "\n"
     ]
    }
   ],
   "source": [
    "print(classification_report(y_test, y_pred_rfc))"
   ]
  },
  {
   "cell_type": "markdown",
   "id": "eed781d3",
   "metadata": {},
   "source": [
    "## AdaBoost Classifier Algorithm<a id='adaboost_algorithm_before_sampling'>\n",
    "     Boosting Method\n",
    "    AdaBoost - Adaptive Boosting ALgorithm"
   ]
  },
  {
   "cell_type": "code",
   "execution_count": 34,
   "id": "ef903d05",
   "metadata": {},
   "outputs": [],
   "source": [
    "from sklearn.ensemble import AdaBoostClassifier"
   ]
  },
  {
   "cell_type": "code",
   "execution_count": 35,
   "id": "9410b217",
   "metadata": {},
   "outputs": [],
   "source": [
    "# Create adaboost classifer object\n",
    "abc_model = AdaBoostClassifier(n_estimators=50, learning_rate=1, random_state=0)\n",
    "# Train Adaboost Classifer\n",
    "abc_model.fit(X_train_transformed, y_train)\n",
    "\n",
    "#Predict the response for test dataset\n",
    "y_pred_abc = abc_model.predict(X_test_transformed)"
   ]
  },
  {
   "cell_type": "code",
   "execution_count": 37,
   "id": "cc22a07d",
   "metadata": {},
   "outputs": [
    {
     "data": {
      "text/plain": [
       "<sklearn.metrics._plot.confusion_matrix.ConfusionMatrixDisplay at 0x23241ecbee0>"
      ]
     },
     "execution_count": 37,
     "metadata": {},
     "output_type": "execute_result"
    },
    {
     "data": {
      "image/png": "[encoded data removed]",
      "text/plain": [
       "<Figure size 432x288 with 2 Axes>"
      ]
     },
     "metadata": {
      "needs_background": "light"
     },
     "output_type": "display_data"
    }
   ],
   "source": [
    "cm_abc = confusion_matrix(y_test, y_pred_abc, labels = abc_model.classes_)\n",
    "_, ax = plt.subplots()\n",
    "display_cm_abc = ConfusionMatrixDisplay(confusion_matrix = cm_abc, \n",
    "                                    display_labels = ['positive review', 'non-positive review'])\n",
    "ax.set_xticks([0, 1])\n",
    "ax.set_yticks([0, 1])\n",
    "ax.set_xticklabels(labels = ['positive review', 'non-positive review'], fontsize = 8)\n",
    "ax.set_yticklabels(labels = ['positive review', 'non-positive review'], fontsize = 8)\n",
    "display_cm_abc.plot(ax = ax)"
   ]
  },
  {
   "cell_type": "code",
   "execution_count": 38,
   "id": "8f27ca8c",
   "metadata": {},
   "outputs": [
    {
     "name": "stdout",
     "output_type": "stream",
     "text": [
      "              precision    recall  f1-score   support\n",
      "\n",
      "           0       0.94      0.97      0.96      3492\n",
      "           1       0.71      0.50      0.59       448\n",
      "\n",
      "    accuracy                           0.92      3940\n",
      "   macro avg       0.82      0.74      0.77      3940\n",
      "weighted avg       0.91      0.92      0.91      3940\n",
      "\n"
     ]
    }
   ],
   "source": [
    "print(classification_report(y_test, y_pred_abc))"
   ]
  },
  {
   "cell_type": "markdown",
   "id": "54323e71",
   "metadata": {},
   "source": [
    "### Summary of three models - before any sampling techniques"
   ]
  },
  {
   "cell_type": "markdown",
   "id": "4ff0a633",
   "metadata": {},
   "source": [
    "<table>\n",
    "    <tr><th>Model</th><th>classes</th><th>Precision</th><th>Recall</th><th>f1-score</th><th>support</th></tr>\n",
    "   <tr><td rowspan=\"2\">Before sampling - LogisticRegression</td><td>0</td><td>0.93</td><td>0.99</td><td>0.96</td><td>3492</td></tr>\n",
    "   \n",
    "   <tr><td>1</td><td>0.81</td><td>0.46</td><td>0.59</td><td>448</td></tr>\n",
    "    <tr><th>accuracy</th><th colspan=\"4\">0.93</th><th>3940</th></tr>\n",
    "    <tr><td rowspan=\"2\">Before sampling - RandomForest</td><td>0</td><td>0.90</td><td>1.00</td><td>0.95</td><td>3492</td></tr>\n",
    "    <tr><td>1</td><td>0.92</td><td>0.17</td><td>0.31</td><td>448</td></tr>\n",
    "    <tr><th>accuracy</th><th colspan=\"4\">0.90</th><th>3940</th></tr>\n",
    "    <tr><td rowspan=\"2\">Before sampling - AdaBoost</td><td>0</td><td>0.94</td><td>0.97</td><td>0.96</td><td>3492</td></tr>\n",
    "    <tr><td>1</td><td>0.71</td><td>0.50</td><td>0.59</td><td>448</td></tr>\n",
    "    <tr><th>accuracy</th><th colspan=\"4\">0.92</th><th>3940</th></tr>  \n",
    "</table>"
   ]
  },
  {
   "cell_type": "markdown",
   "id": "169e3d88",
   "metadata": {},
   "source": [
    "WE have to increase the Recall score. For that, we need to balance our target classes. We have a high target imbalance in target classification where positive classes(class 0) is 89% and negative classes (class 1) is 11%. I will apply one undersampling and one oversampling technique and test it for each model and then compare their recall scores and overall predcition score."
   ]
  },
  {
   "cell_type": "markdown",
   "id": "0119b147",
   "metadata": {},
   "source": [
    "Let us apply oversampling method first. I wil use SMOTE."
   ]
  },
  {
   "cell_type": "markdown",
   "id": "62064c6b",
   "metadata": {},
   "source": [
    "## SMOTE<a id='smote'>"
   ]
  },
  {
   "cell_type": "code",
   "execution_count": 39,
   "id": "5f94b469",
   "metadata": {},
   "outputs": [],
   "source": [
    "#Binary SMOTE the training data\n",
    "sm = SMOTE(random_state=1)\n",
    "X_2_bal, y_2_bal = sm.fit_resample(X_train_transformed, y_train)"
   ]
  },
  {
   "cell_type": "code",
   "execution_count": 61,
   "id": "a242ea3f",
   "metadata": {},
   "outputs": [
    {
     "name": "stdout",
     "output_type": "stream",
     "text": [
      "y_train before SMOTE  Counter({0: 13967, 1: 1790})\n"
     ]
    }
   ],
   "source": [
    "print('y_train before SMOTE  %s' % Counter(y_train))"
   ]
  },
  {
   "cell_type": "code",
   "execution_count": 62,
   "id": "b15c1415",
   "metadata": {},
   "outputs": [
    {
     "name": "stdout",
     "output_type": "stream",
     "text": [
      "y_train AFTER SMOTE  Counter({0: 13967, 1: 13967})\n"
     ]
    }
   ],
   "source": [
    "print('y_train AFTER SMOTE  %s' % Counter(y_2_bal))"
   ]
  },
  {
   "cell_type": "code",
   "execution_count": 41,
   "id": "0da4ca7e",
   "metadata": {},
   "outputs": [
    {
     "data": {
      "image/png": "[encoded data removed]",
      "text/plain": [
       "<Figure size 432x288 with 1 Axes>"
      ]
     },
     "metadata": {
      "needs_background": "light"
     },
     "output_type": "display_data"
    }
   ],
   "source": [
    "ax=y_2_bal.hist(grid=False)\n",
    "ax.set_xlabel('Target classes')\n",
    "ax.set_ylabel('Frequency')\n",
    "ax.set_title('Distribution of binary Target classes After SMOTE')\n",
    "plt.show()"
   ]
  },
  {
   "cell_type": "markdown",
   "id": "4ad1876f",
   "metadata": {},
   "source": [
    "## Fitting Logistic Regression with SMOTE<a id='logreg_smote'>"
   ]
  },
  {
   "cell_type": "code",
   "execution_count": 42,
   "id": "da2cca46",
   "metadata": {},
   "outputs": [
    {
     "name": "stdout",
     "output_type": "stream",
     "text": [
      "Score on test set: 0.9027918781725889\n"
     ]
    }
   ],
   "source": [
    "# Fitting Logistic regression to the training set\n",
    "logreg_sm = LogisticRegression(solver='lbfgs',random_state=1)\n",
    "logreg_sm.fit(X_2_bal, y_2_bal)\n",
    "\n",
    "#predict test set\n",
    "\n",
    "#pred_labels_sm_train_logit = logreg_sm.predict(X_2_bal)\n",
    "pred_labels_sm_logit = logreg_sm.predict(X_test_transformed)\n",
    "\n",
    "# test score\n",
    "#print(f\"Score on training set: {logreg_sm.score(X_train_transformed,y_train)}\")\n",
    "print(f\"Score on test set: {logreg_sm.score(X_test_transformed,y_test)}\")"
   ]
  },
  {
   "cell_type": "code",
   "execution_count": 43,
   "id": "fe7ab86e",
   "metadata": {},
   "outputs": [
    {
     "data": {
      "text/plain": [
       "<sklearn.metrics._plot.confusion_matrix.ConfusionMatrixDisplay at 0x2323ff97fd0>"
      ]
     },
     "execution_count": 43,
     "metadata": {},
     "output_type": "execute_result"
    },
    {
     "data": {
      "image/png": "[encoded data removed]",
      "text/plain": [
       "<Figure size 432x288 with 2 Axes>"
      ]
     },
     "metadata": {
      "needs_background": "light"
     },
     "output_type": "display_data"
    }
   ],
   "source": [
    "cm_sm = confusion_matrix(y_test, pred_labels_sm_logit, labels = logreg_sm.classes_)\n",
    "_, ax = plt.subplots()\n",
    "display_cm_sm = ConfusionMatrixDisplay(confusion_matrix = cm_sm, \n",
    "                                    display_labels = ['positive review', 'non-positive review'])\n",
    "ax.set_xticks([0, 1])\n",
    "ax.set_yticks([0, 1])\n",
    "ax.set_xticklabels(labels = ['positive review', 'non-positive review'], fontsize = 8)\n",
    "ax.set_yticklabels(labels = ['positive review', 'non-positive review'], fontsize = 8)\n",
    "display_cm_sm.plot(ax = ax)"
   ]
  },
  {
   "cell_type": "code",
   "execution_count": 44,
   "id": "9357836d",
   "metadata": {},
   "outputs": [
    {
     "name": "stdout",
     "output_type": "stream",
     "text": [
      "              precision    recall  f1-score   support\n",
      "\n",
      "           0       0.98      0.91      0.94      3492\n",
      "           1       0.55      0.82      0.66       448\n",
      "\n",
      "    accuracy                           0.90      3940\n",
      "   macro avg       0.76      0.87      0.80      3940\n",
      "weighted avg       0.93      0.90      0.91      3940\n",
      "\n"
     ]
    }
   ],
   "source": [
    "print(classification_report(y_test, pred_labels_sm_logit))"
   ]
  },
  {
   "cell_type": "markdown",
   "id": "f67083a3",
   "metadata": {},
   "source": [
    "Based on the above results, I can say that the recall score on the test set improved by 2x from 0.46 to 0.82. Accuracy did drop a bit."
   ]
  },
  {
   "cell_type": "markdown",
   "id": "7182741e",
   "metadata": {},
   "source": [
    "## Fitting RandomForest classifier with SMOTE<a id='rfc_smote'>"
   ]
  },
  {
   "cell_type": "code",
   "execution_count": 45,
   "id": "d5b31e5e",
   "metadata": {},
   "outputs": [
    {
     "name": "stdout",
     "output_type": "stream",
     "text": [
      "Score on training set: 0.9996826807133338\n",
      "Score on test set: 0.915989847715736\n"
     ]
    }
   ],
   "source": [
    "rfc_sm_model = RandomForestClassifier()\n",
    "rfc_sm_model.fit(X_2_bal,y_2_bal)\n",
    "y_pred_sm_rfc = rfc_sm_model.predict(X_test_transformed)\n",
    "\n",
    "# Training score\n",
    "print(f\"Score on training set: {rfc_sm_model.score(X_train_transformed,y_train)}\")\n",
    "print(f\"Score on test set: {rfc_sm_model.score(X_test_transformed,y_test)}\")"
   ]
  },
  {
   "cell_type": "code",
   "execution_count": 46,
   "id": "3fb837c2",
   "metadata": {},
   "outputs": [
    {
     "name": "stdout",
     "output_type": "stream",
     "text": [
      "              precision    recall  f1-score   support\n",
      "\n",
      "           0       0.93      0.97      0.95      3492\n",
      "           1       0.70      0.46      0.55       448\n",
      "\n",
      "    accuracy                           0.92      3940\n",
      "   macro avg       0.82      0.72      0.75      3940\n",
      "weighted avg       0.91      0.92      0.91      3940\n",
      "\n"
     ]
    }
   ],
   "source": [
    "print(classification_report(y_test, y_pred_sm_rfc))"
   ]
  },
  {
   "cell_type": "markdown",
   "id": "d64ee82d",
   "metadata": {},
   "source": [
    "### Random Forest Classifier performed better with SMOTE. Recall imporved a lot from 0.17 to 0.46 and accuracy also increased by 0.01."
   ]
  },
  {
   "cell_type": "markdown",
   "id": "17976987",
   "metadata": {},
   "source": [
    "## Fitting AdaBoost classifier with SMOTE<a id='adaboost_smote'>"
   ]
  },
  {
   "cell_type": "code",
   "execution_count": 47,
   "id": "3efb4b61",
   "metadata": {},
   "outputs": [
    {
     "name": "stdout",
     "output_type": "stream",
     "text": [
      "Score on training set: 0.8817668337881577\n",
      "Score on test set: 0.8758883248730964\n"
     ]
    }
   ],
   "source": [
    "abc_sm_model = AdaBoostClassifier(n_estimators=50, learning_rate=1, random_state=0)\n",
    "abc_sm_model.fit(X_2_bal,y_2_bal)\n",
    "y_pred_abc_sm_rfc = abc_sm_model.predict(X_test_transformed)\n",
    "\n",
    "# Training score\n",
    "print(f\"Score on training set: {abc_sm_model.score(X_train_transformed,y_train)}\")\n",
    "print(f\"Score on test set: {abc_sm_model.score(X_test_transformed,y_test)}\")"
   ]
  },
  {
   "cell_type": "code",
   "execution_count": 48,
   "id": "2a543b83",
   "metadata": {},
   "outputs": [
    {
     "name": "stdout",
     "output_type": "stream",
     "text": [
      "              precision    recall  f1-score   support\n",
      "\n",
      "           0       0.96      0.89      0.93      3492\n",
      "           1       0.47      0.74      0.58       448\n",
      "\n",
      "    accuracy                           0.88      3940\n",
      "   macro avg       0.72      0.82      0.75      3940\n",
      "weighted avg       0.91      0.88      0.89      3940\n",
      "\n"
     ]
    }
   ],
   "source": [
    "print(classification_report(y_test, y_pred_abc_sm_rfc))"
   ]
  },
  {
   "cell_type": "markdown",
   "id": "f9a40886",
   "metadata": {},
   "source": [
    "Recall certainly improved from 0.5 to 0.74. However, accuracy dropped down by 0.04 points. "
   ]
  },
  {
   "cell_type": "markdown",
   "id": "c18b27e0",
   "metadata": {},
   "source": [
    "## Undersampling<a id='undersampling'>"
   ]
  },
  {
   "cell_type": "code",
   "execution_count": 67,
   "id": "728417db",
   "metadata": {},
   "outputs": [],
   "source": [
    "\n",
    "rus = RandomUnderSampler(random_state=42)\n",
    "X_res, y_res = rus.fit_resample(X_train_transformed, y_train)"
   ]
  },
  {
   "cell_type": "code",
   "execution_count": 68,
   "id": "48e5e71b",
   "metadata": {},
   "outputs": [
    {
     "data": {
      "text/plain": [
       "0    1790\n",
       "1    1790\n",
       "Name: target_binary, dtype: int64"
      ]
     },
     "execution_count": 68,
     "metadata": {},
     "output_type": "execute_result"
    }
   ],
   "source": [
    "y_res.value_counts()"
   ]
  },
  {
   "cell_type": "code",
   "execution_count": 69,
   "id": "6aed3783",
   "metadata": {},
   "outputs": [
    {
     "data": {
      "image/png": "[encoded data removed]",
      "text/plain": [
       "<Figure size 432x288 with 1 Axes>"
      ]
     },
     "metadata": {
      "needs_background": "light"
     },
     "output_type": "display_data"
    }
   ],
   "source": [
    "ax=y_res.hist(grid=False)\n",
    "ax.set_xlabel('Target classes')\n",
    "ax.set_ylabel('Frequency')\n",
    "ax.set_title('Distribution of binary Target classes After Undersampling')\n",
    "plt.show()"
   ]
  },
  {
   "cell_type": "markdown",
   "id": "951d2170",
   "metadata": {},
   "source": [
    "## Fitting Logistic Regression with Undersampling<a id='logreg_undersample'>"
   ]
  },
  {
   "cell_type": "code",
   "execution_count": 70,
   "id": "07cc45f6",
   "metadata": {},
   "outputs": [
    {
     "name": "stdout",
     "output_type": "stream",
     "text": [
      "Score on test set: 0.8763959390862944\n"
     ]
    }
   ],
   "source": [
    "# Fitting Logistic regression to the training set\n",
    "logreg_us = LogisticRegression(solver='lbfgs',random_state=1)\n",
    "logreg_us.fit(X_res, y_res)\n",
    "\n",
    "#predict test set\n",
    "\n",
    "#pred_labels_us_train_logit = logreg_us.predict(X_res)\n",
    "pred_labels_us_logit = logreg_us.predict(X_test_transformed)\n",
    "\n",
    "# Test score\n",
    "#print(f\"Score on training set: {logreg_us.score(X_train_transformed,y_train)}\")\n",
    "print(f\"Score on test set: {logreg_us.score(X_test_transformed,y_test)}\")"
   ]
  },
  {
   "cell_type": "code",
   "execution_count": 71,
   "id": "321bbe71",
   "metadata": {},
   "outputs": [
    {
     "data": {
      "text/plain": [
       "<sklearn.metrics._plot.confusion_matrix.ConfusionMatrixDisplay at 0x2324236ca30>"
      ]
     },
     "execution_count": 71,
     "metadata": {},
     "output_type": "execute_result"
    },
    {
     "data": {
      "image/png": "[encoded data removed]",
      "text/plain": [
       "<Figure size 432x288 with 2 Axes>"
      ]
     },
     "metadata": {
      "needs_background": "light"
     },
     "output_type": "display_data"
    }
   ],
   "source": [
    "cm_us = confusion_matrix(y_test, pred_labels_us_logit, labels = logreg_us.classes_)\n",
    "_, ax = plt.subplots()\n",
    "display_cm_us = ConfusionMatrixDisplay(confusion_matrix = cm_us, \n",
    "                                    display_labels = ['positive review', 'non-positive review'])\n",
    "ax.set_xticks([0, 1])\n",
    "ax.set_yticks([0, 1])\n",
    "ax.set_xticklabels(labels = ['positive review', 'non-positive review'], fontsize = 8)\n",
    "ax.set_yticklabels(labels = ['positive review', 'non-positive review'], fontsize = 8)\n",
    "display_cm_us.plot(ax = ax)"
   ]
  },
  {
   "cell_type": "code",
   "execution_count": 72,
   "id": "0c7434d9",
   "metadata": {},
   "outputs": [
    {
     "name": "stdout",
     "output_type": "stream",
     "text": [
      "              precision    recall  f1-score   support\n",
      "\n",
      "           0       0.98      0.88      0.93      3492\n",
      "           1       0.48      0.88      0.62       448\n",
      "\n",
      "    accuracy                           0.88      3940\n",
      "   macro avg       0.73      0.88      0.77      3940\n",
      "weighted avg       0.93      0.88      0.89      3940\n",
      "\n"
     ]
    }
   ],
   "source": [
    "print(classification_report(y_test, pred_labels_us_logit))"
   ]
  },
  {
   "cell_type": "markdown",
   "id": "f3e2b091",
   "metadata": {},
   "source": [
    "## Fitting RandomForest Classifier with undersampling<a id='rfc_undersampling'>"
   ]
  },
  {
   "cell_type": "code",
   "execution_count": 73,
   "id": "314cabce",
   "metadata": {},
   "outputs": [
    {
     "name": "stdout",
     "output_type": "stream",
     "text": [
      "Score on test set: 0.8451776649746193\n"
     ]
    }
   ],
   "source": [
    "rfc_us_model = RandomForestClassifier()\n",
    "rfc_us_model.fit(X_res,y_res)\n",
    "y_pred_us_rfc = rfc_us_model.predict(X_test_transformed)\n",
    "\n",
    "# Test score\n",
    "#print(f\"Score on training set: {rfc_us_model.score(X_train_transformed,y_train)}\")\n",
    "print(f\"Score on test set: {rfc_us_model.score(X_test_transformed,y_test)}\")"
   ]
  },
  {
   "cell_type": "code",
   "execution_count": 74,
   "id": "3e7c689d",
   "metadata": {},
   "outputs": [
    {
     "name": "stdout",
     "output_type": "stream",
     "text": [
      "              precision    recall  f1-score   support\n",
      "\n",
      "           0       0.98      0.84      0.91      3492\n",
      "           1       0.41      0.88      0.56       448\n",
      "\n",
      "    accuracy                           0.85      3940\n",
      "   macro avg       0.70      0.86      0.74      3940\n",
      "weighted avg       0.92      0.85      0.87      3940\n",
      "\n"
     ]
    }
   ],
   "source": [
    "print(classification_report(y_test, y_pred_us_rfc))"
   ]
  },
  {
   "cell_type": "markdown",
   "id": "85a059e5",
   "metadata": {},
   "source": [
    "## Fitting AdaBoost Classifier with undersampling<a id='abc_undersampling'>"
   ]
  },
  {
   "cell_type": "code",
   "execution_count": 75,
   "id": "d344d90d",
   "metadata": {},
   "outputs": [
    {
     "name": "stdout",
     "output_type": "stream",
     "text": [
      "Score on test set: 0.8309644670050761\n"
     ]
    }
   ],
   "source": [
    "abc_us_model = AdaBoostClassifier(n_estimators=50, learning_rate=1, random_state=0)\n",
    "abc_us_model.fit(X_res,y_res)\n",
    "y_pred_abc_us_rfc = abc_us_model.predict(X_test_transformed)\n",
    "\n",
    "# Test score\n",
    "#print(f\"Score on training set: {abc_us_model.score(X_train_transformed,y_train)}\")\n",
    "print(f\"Score on test set: {abc_us_model.score(X_test_transformed,y_test)}\")"
   ]
  },
  {
   "cell_type": "code",
   "execution_count": 76,
   "id": "a3046392",
   "metadata": {},
   "outputs": [
    {
     "name": "stdout",
     "output_type": "stream",
     "text": [
      "              precision    recall  f1-score   support\n",
      "\n",
      "           0       0.97      0.83      0.90      3492\n",
      "           1       0.39      0.83      0.53       448\n",
      "\n",
      "    accuracy                           0.83      3940\n",
      "   macro avg       0.68      0.83      0.71      3940\n",
      "weighted avg       0.91      0.83      0.86      3940\n",
      "\n"
     ]
    }
   ],
   "source": [
    "print(classification_report(y_test, y_pred_abc_us_rfc))"
   ]
  },
  {
   "cell_type": "code",
   "execution_count": 77,
   "id": "a72d1229",
   "metadata": {},
   "outputs": [
    {
     "name": "stdout",
     "output_type": "stream",
     "text": [
      "              precision    recall  f1-score   support\n",
      "\n",
      "    NEGATIVE       0.39      0.83      0.53       448\n",
      "\n",
      "   micro avg       0.39      0.83      0.53       448\n",
      "   macro avg       0.39      0.83      0.53       448\n",
      "weighted avg       0.39      0.83      0.53       448\n",
      "\n"
     ]
    }
   ],
   "source": [
    "#trying out different attributes for classification_report\n",
    "print(classification_report(y_test, y_pred_abc_us_rfc,labels=[1],target_names=[ 'NEGATIVE']))"
   ]
  },
  {
   "cell_type": "markdown",
   "id": "e780c08c",
   "metadata": {},
   "source": [
    "## Summarized classification reports for 3 algorithms<a id='summary_charts_all'>\n",
    "    \n",
    "**NOTE: I am considering only class1 here to display as we want to see and compare for class 1 and see if recall score got improved with any of these three algorithms"
   ]
  },
  {
   "cell_type": "markdown",
   "id": "ca42c278",
   "metadata": {},
   "source": [
    "<table>\n",
    "<tr><th>Model</th><th>Sampling Technique</th><th>classes</th><th>Precision</th><th>Recall</th><th>f1-score</th><th>support</th></tr>\n",
    "    <tr><td rowspan=\"3\">LogisticRegression</td><td>No technique(imbalanced)</td><td>1</td><td>0.81</td><td><b>0.46</b></td><td>0.59</td><td>448</td></tr>\n",
    "    <tr><td>SMOTE</td><td>1</td><td>0.55</td><td><b>0.82</b></td><td>0.66</td><td>448</td></tr>\n",
    "    <tr><td>Undersampling</td><td>1</td><td>0.48</td><td><b>0.88</b></td><td>0.62</td><td>448</td></tr>\n",
    "<tr><th>accuracy before</th><td colspan=\"5\">0.93</td><td>3940</td></tr>\n",
    "<tr><th>accuracy After SMOTE</th><td colspan=\"5\">0.90</td><td>3940</td></tr>\n",
    "<tr><th>accuracy After Undersampling</th><td colspan=\"5\">0.88</td><td>3940</td></tr>\n",
    "    <tr><td rowspan=\"3\">RandomForest</td><td>No technique(imbalanced)</td><td>1</td><td>0.92</td><td><b>0.18</b></td><td>0.31</td><td>448</td></tr>\n",
    "<tr><td>SMOTE</td><td>1</td><td>0.71</td><th>0.46</th><td>0.59</td><td>448</td></tr>\n",
    "<tr><td>Undersampling</td><td>1</td><td>0.43</td><th>0.88</th><td>0.58</td><td>448</td></tr>\n",
    "<tr><th>accuracy before</th><td colspan=\"5\">0.91</td><td>3940</td></tr>\n",
    "<tr><th>accuracy After SMOTE</th><td colspan=\"5\">0.92</td><td>3940</td></tr>\n",
    "<tr><th>accuracy After Undersampling</th><td colspan=\"5\">0.86</td><td>3940</td></tr>\n",
    "    <tr><td rowspan=\"3\">AdaBoost</td><td>No technique(imbalanced)</td><td>1</td><td>0.71</td><th>0.50</th><td>0.59</td><td>448</td></tr>\n",
    "    <tr><td>SMOTE</td><td>1</td><td>0.47</td><th>0.74</th><td>0.58</td><td>448</td></tr>\n",
    "<tr><td>Undersampling</td><td>1</td><td>0.39</td><th>0.83</th><td>0.53</td><td>448</td></tr>\n",
    "<tr><th>accuracy before</th><td colspan=\"5\">0.92</td><td>3940</td></tr> \n",
    "<tr><th>accuracy After SMOTE</th><td colspan=\"5\">0.88</td><td>3940</td></tr>\n",
    "<tr><th>accuracy After Undersampling</th><td colspan=\"5\">0.83</td><td>3940</td></tr>\n",
    "\n",
    "\n",
    "</table>"
   ]
  },
  {
   "cell_type": "markdown",
   "id": "63b119ce",
   "metadata": {},
   "source": [
    "Based on the above observations, Undersampling  seems to be a better choice for resampling. Regarding Models, RandomForest and LogisticRegression are performing well in their recall score. "
   ]
  },
  {
   "cell_type": "markdown",
   "id": "2f2bd5cc",
   "metadata": {},
   "source": [
    "## StratifiedKFold cross-validator<a id='stratifiedkfold_cv'>"
   ]
  },
  {
   "cell_type": "code",
   "execution_count": 78,
   "id": "0a29735f",
   "metadata": {},
   "outputs": [
    {
     "data": {
      "text/plain": [
       "<15757x14100 sparse matrix of type '<class 'numpy.float64'>'\n",
       "\twith 619024 stored elements in Compressed Sparse Row format>"
      ]
     },
     "execution_count": 78,
     "metadata": {},
     "output_type": "execute_result"
    }
   ],
   "source": [
    "X_train_transformed"
   ]
  },
  {
   "cell_type": "code",
   "execution_count": 79,
   "id": "3fab2d8a",
   "metadata": {},
   "outputs": [
    {
     "data": {
      "text/plain": [
       "<3580x14100 sparse matrix of type '<class 'numpy.float64'>'\n",
       "\twith 144252 stored elements in Compressed Sparse Row format>"
      ]
     },
     "execution_count": 79,
     "metadata": {},
     "output_type": "execute_result"
    }
   ],
   "source": [
    "X_res"
   ]
  },
  {
   "cell_type": "code",
   "execution_count": 80,
   "id": "1cf0b01d",
   "metadata": {},
   "outputs": [
    {
     "data": {
      "text/plain": [
       "(15757, 14100)"
      ]
     },
     "execution_count": 80,
     "metadata": {},
     "output_type": "execute_result"
    }
   ],
   "source": [
    "X_train_transformed.shape"
   ]
  },
  {
   "cell_type": "code",
   "execution_count": 81,
   "id": "54193ce4",
   "metadata": {},
   "outputs": [
    {
     "data": {
      "text/plain": [
       "(3580, 14100)"
      ]
     },
     "execution_count": 81,
     "metadata": {},
     "output_type": "execute_result"
    }
   ],
   "source": [
    "X_res.shape"
   ]
  },
  {
   "cell_type": "code",
   "execution_count": 82,
   "id": "659c0cd7",
   "metadata": {},
   "outputs": [
    {
     "data": {
      "text/plain": [
       "(27934, 14100)"
      ]
     },
     "execution_count": 82,
     "metadata": {},
     "output_type": "execute_result"
    }
   ],
   "source": [
    "X_2_bal.shape"
   ]
  },
  {
   "cell_type": "code",
   "execution_count": 83,
   "id": "e9a99008",
   "metadata": {},
   "outputs": [
    {
     "data": {
      "text/plain": [
       "(27934,)"
      ]
     },
     "execution_count": 83,
     "metadata": {},
     "output_type": "execute_result"
    }
   ],
   "source": [
    "y_2_bal.shape"
   ]
  },
  {
   "cell_type": "code",
   "execution_count": 84,
   "id": "40369639",
   "metadata": {},
   "outputs": [
    {
     "name": "stdout",
     "output_type": "stream",
     "text": [
      " X has 15757 rows, and 14100 columns\n"
     ]
    }
   ],
   "source": [
    "X_n_rows, X_n_cols = X_train_transformed.shape[0], X_train_transformed.shape[1]\n",
    "print(' X has ' + str(X_n_rows) + ' rows, and ' + str(X_n_cols) + ' columns')"
   ]
  },
  {
   "cell_type": "code",
   "execution_count": 85,
   "id": "17eab4b0",
   "metadata": {},
   "outputs": [
    {
     "data": {
      "text/plain": [
       "(15757,)"
      ]
     },
     "execution_count": 85,
     "metadata": {},
     "output_type": "execute_result"
    }
   ],
   "source": [
    "y_train.shape"
   ]
  },
  {
   "cell_type": "code",
   "execution_count": 86,
   "id": "3c2739b9",
   "metadata": {},
   "outputs": [
    {
     "data": {
      "text/plain": [
       "(3580,)"
      ]
     },
     "execution_count": 86,
     "metadata": {},
     "output_type": "execute_result"
    }
   ],
   "source": [
    "y_res.shape"
   ]
  },
  {
   "cell_type": "code",
   "execution_count": 87,
   "id": "4a766730",
   "metadata": {},
   "outputs": [
    {
     "name": "stdout",
     "output_type": "stream",
     "text": [
      " y has 15757 rows and one column\n"
     ]
    }
   ],
   "source": [
    "print(' y has ' + str(y_train.shape[0]) + ' rows and one column')"
   ]
  },
  {
   "cell_type": "markdown",
   "id": "465d6dde",
   "metadata": {},
   "source": [
    "## Cross_validate LogisticRegression model<a id='cv_logreg'>"
   ]
  },
  {
   "cell_type": "code",
   "execution_count": 89,
   "id": "a2c534ae",
   "metadata": {},
   "outputs": [
    {
     "name": "stdout",
     "output_type": "stream",
     "text": [
      "Best: 0.613408 using {'C': 100, 'penalty': 'l2', 'solver': 'newton-cg'}\n",
      "0.613408 (0.021170) with: {'C': 100, 'penalty': 'l2', 'solver': 'newton-cg'}\n",
      "0.611732 (0.021346) with: {'C': 100, 'penalty': 'l2', 'solver': 'lbfgs'}\n",
      "0.613408 (0.021170) with: {'C': 100, 'penalty': 'l2', 'solver': 'liblinear'}\n",
      "0.597207 (0.012163) with: {'C': 10, 'penalty': 'l2', 'solver': 'newton-cg'}\n",
      "0.596648 (0.011665) with: {'C': 10, 'penalty': 'l2', 'solver': 'lbfgs'}\n",
      "0.596648 (0.011665) with: {'C': 10, 'penalty': 'l2', 'solver': 'liblinear'}\n",
      "0.421229 (0.011367) with: {'C': 1.0, 'penalty': 'l2', 'solver': 'newton-cg'}\n",
      "0.421229 (0.011367) with: {'C': 1.0, 'penalty': 'l2', 'solver': 'lbfgs'}\n",
      "0.421788 (0.011173) with: {'C': 1.0, 'penalty': 'l2', 'solver': 'liblinear'}\n",
      "0.004469 (0.003789) with: {'C': 0.1, 'penalty': 'l2', 'solver': 'newton-cg'}\n",
      "0.004469 (0.003789) with: {'C': 0.1, 'penalty': 'l2', 'solver': 'lbfgs'}\n",
      "0.005028 (0.003706) with: {'C': 0.1, 'penalty': 'l2', 'solver': 'liblinear'}\n",
      "0.000000 (0.000000) with: {'C': 0.01, 'penalty': 'l2', 'solver': 'newton-cg'}\n",
      "0.000000 (0.000000) with: {'C': 0.01, 'penalty': 'l2', 'solver': 'lbfgs'}\n",
      "0.000000 (0.000000) with: {'C': 0.01, 'penalty': 'l2', 'solver': 'liblinear'}\n"
     ]
    }
   ],
   "source": [
    "# define models and parameters\n",
    "modelG = LogisticRegression()\n",
    "solvers = ['newton-cg', 'lbfgs', 'liblinear']\n",
    "penalty = ['l2']\n",
    "c_values = [100, 10, 1.0, 0.1, 0.01]\n",
    "# define grid search\n",
    "grid = dict(solver=solvers,penalty=penalty,C=c_values)\n",
    "cv = StratifiedKFold(n_splits=5, random_state=None, shuffle=False)\n",
    "grid_search = GridSearchCV(estimator=modelG, param_grid=grid, n_jobs=-1, cv=cv, scoring='recall',error_score=0)\n",
    "grid_result = grid_search.fit(X_train_transformed, y_train)\n",
    "# summarize results\n",
    "print(\"Best: %f using %s\" % (grid_result.best_score_, grid_result.best_params_))\n",
    "means = grid_result.cv_results_['mean_test_score']\n",
    "stds = grid_result.cv_results_['std_test_score']\n",
    "params = grid_result.cv_results_['params']\n",
    "for mean, stdev, param in zip(means, stds, params):\n",
    "    print(\"%f (%f) with: %r\" % (mean, stdev, param))"
   ]
  },
  {
   "cell_type": "code",
   "execution_count": 88,
   "id": "1d1d89d9",
   "metadata": {},
   "outputs": [],
   "source": [
    "from imblearn.pipeline import Pipeline"
   ]
  },
  {
   "cell_type": "markdown",
   "id": "559e275f",
   "metadata": {},
   "source": [
    "##  Pipeline and cross_validation using StratifiedKFold\n",
    "Here I using combination of SMOTE and RandomUndersampling and using the best parameters from above"
   ]
  },
  {
   "cell_type": "code",
   "execution_count": 93,
   "id": "ff13da97",
   "metadata": {},
   "outputs": [
    {
     "name": "stdout",
     "output_type": "stream",
     "text": [
      "[0.7122905  0.73463687 0.74022346 0.73184358 0.63687151]\n"
     ]
    }
   ],
   "source": [
    "\n",
    "# define pipeline\n",
    "over = SMOTE(random_state=42)\n",
    "under = RandomUnderSampler(random_state=42)\n",
    "\n",
    "# define evaluation procedure\n",
    "skf = StratifiedKFold(n_splits=5, random_state=None, shuffle=False)\n",
    "clf_cv = LogisticRegression(solver = 'newton-cg', penalty='l2', max_iter = 3000, C=100)\n",
    "steps = [('o', over), ('u', under), ('m', clf_cv)]\n",
    "pipeline = Pipeline(steps=steps)\n",
    "clf_scores = cross_val_score(pipeline, X_train_transformed, y_train, cv=skf, scoring=make_scorer(recall_score, average='weighted', labels=[1]))\n",
    "print(f'{clf_scores}')"
   ]
  },
  {
   "cell_type": "code",
   "execution_count": 95,
   "id": "9a4b3e76",
   "metadata": {},
   "outputs": [
    {
     "data": {
      "text/plain": [
       "0.7111731843575418"
      ]
     },
     "execution_count": 95,
     "metadata": {},
     "output_type": "execute_result"
    }
   ],
   "source": [
    "np.mean(clf_scores)"
   ]
  },
  {
   "cell_type": "markdown",
   "id": "a6740d69",
   "metadata": {},
   "source": [
    "## LogisticRegression test prediction results"
   ]
  },
  {
   "cell_type": "code",
   "execution_count": 108,
   "id": "908fbef8",
   "metadata": {},
   "outputs": [
    {
     "data": {
      "text/plain": [
       "(True, True)"
      ]
     },
     "execution_count": 108,
     "metadata": {},
     "output_type": "execute_result"
    }
   ],
   "source": [
    "hasattr(pipeline, 'fit'), hasattr(pipeline, 'predict')"
   ]
  },
  {
   "cell_type": "code",
   "execution_count": 112,
   "id": "a38e2626",
   "metadata": {},
   "outputs": [],
   "source": [
    "clf_cv = LogisticRegression(solver = 'newton-cg', penalty='l2', max_iter = 3000, C=100)\n",
    "steps = [('o', over), ('u', under), ('m', clf_cv)]\n",
    "pipeline = Pipeline(steps=steps)"
   ]
  },
  {
   "cell_type": "code",
   "execution_count": 114,
   "id": "a8204a45",
   "metadata": {},
   "outputs": [
    {
     "data": {
      "text/plain": [
       "imblearn.pipeline.Pipeline"
      ]
     },
     "execution_count": 114,
     "metadata": {},
     "output_type": "execute_result"
    }
   ],
   "source": [
    "type(pipeline)"
   ]
  },
  {
   "cell_type": "code",
   "execution_count": 113,
   "id": "06fde24f",
   "metadata": {},
   "outputs": [
    {
     "data": {
      "text/plain": [
       "Pipeline(steps=[('o', SMOTE(random_state=42)),\n",
       "                ('u', RandomUnderSampler(random_state=42)),\n",
       "                ('m',\n",
       "                 LogisticRegression(C=100, max_iter=3000, solver='newton-cg'))])"
      ]
     },
     "execution_count": 113,
     "metadata": {},
     "output_type": "execute_result"
    }
   ],
   "source": [
    "pipeline.fit(X_train_transformed, y_train)"
   ]
  },
  {
   "cell_type": "code",
   "execution_count": 115,
   "id": "7307f756",
   "metadata": {},
   "outputs": [],
   "source": [
    "y_te_pred = pipeline.predict(X_test_transformed)"
   ]
  },
  {
   "cell_type": "code",
   "execution_count": 116,
   "id": "d8235363",
   "metadata": {},
   "outputs": [
    {
     "name": "stdout",
     "output_type": "stream",
     "text": [
      "              precision    recall  f1-score   support\n",
      "\n",
      "           0       0.96      0.94      0.95      3492\n",
      "           1       0.58      0.70      0.64       448\n",
      "\n",
      "    accuracy                           0.91      3940\n",
      "   macro avg       0.77      0.82      0.79      3940\n",
      "weighted avg       0.92      0.91      0.91      3940\n",
      "\n"
     ]
    }
   ],
   "source": [
    "print(classification_report(y_test, y_te_pred))"
   ]
  },
  {
   "cell_type": "code",
   "execution_count": 117,
   "id": "27b7d6cd",
   "metadata": {},
   "outputs": [
    {
     "data": {
      "text/plain": [
       "dict_keys(['memory', 'steps', 'verbose', 'o', 'u', 'm', 'o__k_neighbors', 'o__n_jobs', 'o__random_state', 'o__sampling_strategy', 'u__random_state', 'u__replacement', 'u__sampling_strategy', 'm__C', 'm__class_weight', 'm__dual', 'm__fit_intercept', 'm__intercept_scaling', 'm__l1_ratio', 'm__max_iter', 'm__multi_class', 'm__n_jobs', 'm__penalty', 'm__random_state', 'm__solver', 'm__tol', 'm__verbose', 'm__warm_start'])"
      ]
     },
     "execution_count": 117,
     "metadata": {},
     "output_type": "execute_result"
    }
   ],
   "source": [
    "pipeline.get_params().keys()"
   ]
  },
  {
   "cell_type": "markdown",
   "id": "fc23444e",
   "metadata": {},
   "source": [
    "# Above results infer that for C=100, the recall score  is  approxiately 0.71. Definitely it is a good improvement from 0.46. "
   ]
  },
  {
   "cell_type": "markdown",
   "id": "716affe4",
   "metadata": {},
   "source": [
    "## Best Parameters for Logistic Regression<a id='best_params_logreg'>"
   ]
  },
  {
   "cell_type": "markdown",
   "id": "5ce97eb2",
   "metadata": {},
   "source": [
    "## Cross_validate RandomForestClassifier Model<a id='cv_rfc'>"
   ]
  },
  {
   "cell_type": "code",
   "execution_count": 384,
   "id": "c49b668e",
   "metadata": {},
   "outputs": [
    {
     "data": {
      "text/plain": [
       "array([0.20670391, 0.17318436, 0.17877095, 0.17877095, 0.18435754,\n",
       "       0.23463687, 0.17877095, 0.16759777, 0.1396648 , 0.16201117])"
      ]
     },
     "execution_count": 384,
     "metadata": {},
     "output_type": "execute_result"
    }
   ],
   "source": [
    "rf_cv_scores = rf_default_cv_results['test_score']\n",
    "rf_cv_scores"
   ]
  },
  {
   "cell_type": "code",
   "execution_count": 385,
   "id": "dab961a4",
   "metadata": {},
   "outputs": [
    {
     "data": {
      "text/plain": [
       "0.18044692737430168"
      ]
     },
     "execution_count": 385,
     "metadata": {},
     "output_type": "execute_result"
    }
   ],
   "source": [
    "np.mean(rf_cv_scores)"
   ]
  },
  {
   "cell_type": "markdown",
   "id": "bd7fd8ad",
   "metadata": {},
   "source": [
    "## Best Parameters for RandomForestClassifier<a id='best_params_rfc'>"
   ]
  },
  {
   "cell_type": "code",
   "execution_count": 96,
   "id": "b817c566",
   "metadata": {},
   "outputs": [
    {
     "name": "stdout",
     "output_type": "stream",
     "text": [
      "Best: 0.174302 using {'max_features': 'sqrt', 'n_estimators': 1000}\n"
     ]
    }
   ],
   "source": [
    "modelR = RandomForestClassifier()\n",
    "n_estimators = [100,200,300,1000]\n",
    "max_features = ['sqrt', 'log2']\n",
    "# define grid search\n",
    "grid = dict(n_estimators=n_estimators,max_features=max_features)\n",
    "cvR = StratifiedKFold(n_splits=5, random_state=None, shuffle=False)\n",
    "grid_search = GridSearchCV(estimator=modelR, param_grid=grid, n_jobs=-1, cv=cvR, scoring='recall',error_score=0)\n",
    "grid_result = grid_search.fit(X_train_transformed, y_train)\n",
    "# summarize results\n",
    "print(\"Best: %f using %s\" % (grid_result.best_score_, grid_result.best_params_))\n"
   ]
  },
  {
   "cell_type": "code",
   "execution_count": 97,
   "id": "37fce6e5",
   "metadata": {},
   "outputs": [
    {
     "name": "stdout",
     "output_type": "stream",
     "text": [
      "[0.47765363 0.47486034 0.5027933  0.51955307 0.47486034]\n"
     ]
    }
   ],
   "source": [
    "# define pipeline\n",
    "over = SMOTE(random_state=42)\n",
    "under = RandomUnderSampler(random_state=42)\n",
    "\n",
    "# define evaluation procedure\n",
    "skf = StratifiedKFold(n_splits=5, random_state=None, shuffle=False)\n",
    "rfc_cv = RandomForestClassifier(n_estimators=1000, max_depth=None, random_state=0,max_features='sqrt' )\n",
    "steps = [('o', over), ('u', under), ('m', rfc_cv)]\n",
    "pipeline = Pipeline(steps=steps)\n",
    "rfc_scores = cross_val_score(pipeline, X_train_transformed, y_train, cv=skf, scoring=make_scorer(recall_score, average='weighted', labels=[1]))\n",
    "print(f'{rfc_scores}')"
   ]
  },
  {
   "cell_type": "code",
   "execution_count": 98,
   "id": "226f38dc",
   "metadata": {},
   "outputs": [
    {
     "data": {
      "text/plain": [
       "0.4899441340782123"
      ]
     },
     "execution_count": 98,
     "metadata": {},
     "output_type": "execute_result"
    }
   ],
   "source": [
    "np.mean(rfc_scores)"
   ]
  },
  {
   "cell_type": "code",
   "execution_count": 118,
   "id": "7d1adede",
   "metadata": {},
   "outputs": [],
   "source": [
    "rfc_model = RandomForestClassifier(n_estimators=1000, max_depth=None, random_state=0,max_features='sqrt' )"
   ]
  },
  {
   "cell_type": "code",
   "execution_count": 119,
   "id": "2f5620f5",
   "metadata": {},
   "outputs": [],
   "source": [
    "steps = [('o', over), ('u', under), ('m', rfc_model)]\n",
    "rfc_pipeline = Pipeline(steps=steps)\n"
   ]
  },
  {
   "cell_type": "code",
   "execution_count": 120,
   "id": "b5d4707a",
   "metadata": {
    "scrolled": true
   },
   "outputs": [
    {
     "data": {
      "text/plain": [
       "dict_keys(['memory', 'steps', 'verbose', 'o', 'u', 'm', 'o__k_neighbors', 'o__n_jobs', 'o__random_state', 'o__sampling_strategy', 'u__random_state', 'u__replacement', 'u__sampling_strategy', 'm__bootstrap', 'm__ccp_alpha', 'm__class_weight', 'm__criterion', 'm__max_depth', 'm__max_features', 'm__max_leaf_nodes', 'm__max_samples', 'm__min_impurity_decrease', 'm__min_samples_leaf', 'm__min_samples_split', 'm__min_weight_fraction_leaf', 'm__n_estimators', 'm__n_jobs', 'm__oob_score', 'm__random_state', 'm__verbose', 'm__warm_start'])"
      ]
     },
     "execution_count": 120,
     "metadata": {},
     "output_type": "execute_result"
    }
   ],
   "source": [
    "rfc_pipeline.get_params().keys()"
   ]
  },
  {
   "cell_type": "code",
   "execution_count": 121,
   "id": "e44bdfe3",
   "metadata": {},
   "outputs": [
    {
     "data": {
      "text/plain": [
       "Pipeline(steps=[('o', SMOTE(random_state=42)),\n",
       "                ('u', RandomUnderSampler(random_state=42)),\n",
       "                ('m',\n",
       "                 RandomForestClassifier(max_features='sqrt', n_estimators=1000,\n",
       "                                        random_state=0))])"
      ]
     },
     "execution_count": 121,
     "metadata": {},
     "output_type": "execute_result"
    }
   ],
   "source": [
    "\n",
    "rfc_pipeline.fit(X_train_transformed, y_train)"
   ]
  },
  {
   "cell_type": "code",
   "execution_count": 122,
   "id": "e63f562b",
   "metadata": {},
   "outputs": [],
   "source": [
    "y_te_pred = rfc_pipeline.predict(X_test_transformed)"
   ]
  },
  {
   "cell_type": "code",
   "execution_count": 123,
   "id": "5f7835d2",
   "metadata": {},
   "outputs": [
    {
     "name": "stdout",
     "output_type": "stream",
     "text": [
      "              precision    recall  f1-score   support\n",
      "\n",
      "           0       0.94      0.98      0.96      3492\n",
      "           1       0.72      0.49      0.58       448\n",
      "\n",
      "    accuracy                           0.92      3940\n",
      "   macro avg       0.83      0.73      0.77      3940\n",
      "weighted avg       0.91      0.92      0.91      3940\n",
      "\n"
     ]
    }
   ],
   "source": [
    "print(classification_report(y_test, y_te_pred))"
   ]
  },
  {
   "cell_type": "markdown",
   "id": "fb8bdeb5",
   "metadata": {},
   "source": [
    "## Finding parameters for AdaBoost Classifier Model <a id='best_params_ada'>"
   ]
  },
  {
   "cell_type": "code",
   "execution_count": null,
   "id": "b6961d40",
   "metadata": {},
   "outputs": [],
   "source": []
  },
  {
   "cell_type": "code",
   "execution_count": 405,
   "id": "6f9b647c",
   "metadata": {},
   "outputs": [
    {
     "data": {
      "text/plain": [
       "[<matplotlib.lines.Line2D at 0x2071d772280>]"
      ]
     },
     "execution_count": 405,
     "metadata": {},
     "output_type": "execute_result"
    },
    {
     "data": {
      "image/png": "[encoded data removed]",
      "text/plain": [
       "<Figure size 450x450 with 1 Axes>"
      ]
     },
     "metadata": {},
     "output_type": "display_data"
    }
   ],
   "source": [
    "x = list(range(2, 102, 2))\n",
    "y = []\n",
    "\n",
    "for i in x:\n",
    "  adaclf = AdaBoostClassifier(n_estimators=i,\n",
    "                              learning_rate=0.5,\n",
    "                              algorithm='SAMME.R',\n",
    "                              random_state=1)\n",
    "  \n",
    "  adaclf.fit(X_train_transformed, y_train)\n",
    "  adaclf_test_sc = accuracy_score(y_test, adaclf.predict(X_test_transformed))\n",
    "  y.append(adaclf_test_sc)\n",
    "\n",
    "plt.style.use('ggplot')\n",
    "\n",
    "plt.title(\"Effect of n_estimators\", pad=20)\n",
    "plt.xlabel(\"Number of base estimators\")\n",
    "plt.ylabel(\"Test accuracy of AdaBoost\")\n",
    "plt.plot(x, y)"
   ]
  },
  {
   "cell_type": "code",
   "execution_count": 411,
   "id": "bcdc3ff8",
   "metadata": {},
   "outputs": [
    {
     "data": {
      "text/plain": [
       "[<matplotlib.lines.Line2D at 0x2071da6a880>]"
      ]
     },
     "execution_count": 411,
     "metadata": {},
     "output_type": "execute_result"
    },
    {
     "data": {
      "image/png": "[encoded data removed]",
      "text/plain": [
       "<Figure size 450x450 with 1 Axes>"
      ]
     },
     "metadata": {},
     "output_type": "display_data"
    }
   ],
   "source": [
    "x = [0.1, 0.2, 0.3, 0.4, 0.5, 0.6, 0.7, 0.8, 0.9, 1]\n",
    "y = []\n",
    "\n",
    "for i in x:\n",
    "  adaclf = AdaBoostClassifier(n_estimators=88,\n",
    "                              learning_rate=i,\n",
    "                              algorithm='SAMME.R',\n",
    "                              random_state=1)\n",
    "  \n",
    "  adaclf.fit(X_train_transformed, y_train)\n",
    "  adaclf_test_sc = accuracy_score(y_test, adaclf.predict(X_test_transformed))\n",
    "  y.append(adaclf_test_sc)\n",
    "\n",
    "plt.title(\"Effect of learning_rate\", pad=20)\n",
    "plt.xlabel(\"Learning rate\")\n",
    "plt.ylabel(\"Test accuracy of AdaBoost\")\n",
    "plt.plot(x, y)"
   ]
  },
  {
   "cell_type": "markdown",
   "id": "b03d94ab",
   "metadata": {},
   "source": [
    "### Based on the above, the Best Parameters for AdaBoost Classifier are: learning_rate:0.8 and n_estimator = approximately 88"
   ]
  },
  {
   "cell_type": "markdown",
   "id": "8ccd9c07",
   "metadata": {},
   "source": [
    "## Cross_validate with AdaBoost Classifier<a id='cv_ada'>"
   ]
  },
  {
   "cell_type": "code",
   "execution_count": 99,
   "id": "f9b59f1a",
   "metadata": {},
   "outputs": [
    {
     "name": "stdout",
     "output_type": "stream",
     "text": [
      "[0.7150838  0.72346369 0.7122905  0.74301676 0.70670391]\n"
     ]
    }
   ],
   "source": [
    "# define pipeline\n",
    "over = SMOTE(random_state=42)\n",
    "under = RandomUnderSampler(random_state=42)\n",
    "\n",
    "# define evaluation procedure\n",
    "skf = StratifiedKFold(n_splits=5, random_state=None, shuffle=False)\n",
    "ada_cv = AdaBoostClassifier(algorithm='SAMME.R',n_estimators=88, learning_rate=0.8)\n",
    "steps = [('o', over), ('u', under), ('m', ada_cv)]\n",
    "pipeline = Pipeline(steps=steps)\n",
    "ada_scores = cross_val_score(pipeline, X_train_transformed, y_train, cv=skf, scoring=make_scorer(recall_score, average='weighted', labels=[1]))\n",
    "print(f'{ada_scores}')"
   ]
  },
  {
   "cell_type": "code",
   "execution_count": 100,
   "id": "93fe20c4",
   "metadata": {},
   "outputs": [
    {
     "data": {
      "text/plain": [
       "0.7201117318435755"
      ]
     },
     "execution_count": 100,
     "metadata": {},
     "output_type": "execute_result"
    }
   ],
   "source": [
    "np.mean(ada_scores)"
   ]
  },
  {
   "cell_type": "code",
   "execution_count": 124,
   "id": "cc2db208",
   "metadata": {},
   "outputs": [],
   "source": [
    "ada_model = AdaBoostClassifier(algorithm='SAMME.R',n_estimators=88, learning_rate=0.8)"
   ]
  },
  {
   "cell_type": "code",
   "execution_count": 125,
   "id": "2803d378",
   "metadata": {},
   "outputs": [],
   "source": [
    "steps = [('o', over), ('u', under), ('m', ada_model)]\n",
    "ada_pipeline = Pipeline(steps=steps)\n"
   ]
  },
  {
   "cell_type": "code",
   "execution_count": 126,
   "id": "f82427ea",
   "metadata": {},
   "outputs": [
    {
     "data": {
      "text/plain": [
       "dict_keys(['memory', 'steps', 'verbose', 'o', 'u', 'm', 'o__k_neighbors', 'o__n_jobs', 'o__random_state', 'o__sampling_strategy', 'u__random_state', 'u__replacement', 'u__sampling_strategy', 'm__algorithm', 'm__base_estimator', 'm__learning_rate', 'm__n_estimators', 'm__random_state'])"
      ]
     },
     "execution_count": 126,
     "metadata": {},
     "output_type": "execute_result"
    }
   ],
   "source": [
    "ada_pipeline.get_params().keys()"
   ]
  },
  {
   "cell_type": "code",
   "execution_count": 127,
   "id": "f3a5dee9",
   "metadata": {},
   "outputs": [
    {
     "data": {
      "text/plain": [
       "Pipeline(steps=[('o', SMOTE(random_state=42)),\n",
       "                ('u', RandomUnderSampler(random_state=42)),\n",
       "                ('m', AdaBoostClassifier(learning_rate=0.8, n_estimators=88))])"
      ]
     },
     "execution_count": 127,
     "metadata": {},
     "output_type": "execute_result"
    }
   ],
   "source": [
    "ada_pipeline.fit(X_train_transformed, y_train)"
   ]
  },
  {
   "cell_type": "code",
   "execution_count": 130,
   "id": "1c2e39e1",
   "metadata": {},
   "outputs": [],
   "source": [
    "\n",
    "y_te_pred = ada_pipeline.predict(X_test_transformed)"
   ]
  },
  {
   "cell_type": "code",
   "execution_count": 131,
   "id": "668e2d08",
   "metadata": {},
   "outputs": [
    {
     "name": "stdout",
     "output_type": "stream",
     "text": [
      "              precision    recall  f1-score   support\n",
      "\n",
      "           0       0.97      0.90      0.93      3492\n",
      "           1       0.50      0.78      0.61       448\n",
      "\n",
      "    accuracy                           0.89      3940\n",
      "   macro avg       0.73      0.84      0.77      3940\n",
      "weighted avg       0.92      0.89      0.90      3940\n",
      "\n"
     ]
    }
   ],
   "source": [
    "print(classification_report(y_test, y_te_pred))"
   ]
  },
  {
   "cell_type": "markdown",
   "id": "3271df05",
   "metadata": {},
   "source": [
    "## Final Recall scores for test set after hyperparameter tuning<a id='final_recalls_all'>"
   ]
  },
  {
   "cell_type": "markdown",
   "id": "f29280ae",
   "metadata": {},
   "source": [
    "<table>\n",
    "    <tr>\n",
    "    <th>Models</th><th>Recall Score(basemodels)</th><th>Recall(hypertuned)</th><th>Pipeline Steps</th><th>Best Parameters</th>\n",
    "    </tr>\n",
    "    <tr>\n",
    "        <td>LogisticRegression</td><td>0.46</td><td>0.70</td><td nowrap>Pipeline(steps=[('o', SMOTE(random_state=42)),\n",
    "                ('u', RandomUnderSampler(random_state=42)),\n",
    "                ('m',\n",
    "                 LogisticRegression(C=100, max_iter=3000, solver='newton-cg'))])\n",
    "</td><td nowrap>{'C': 100, 'penalty': 'l2', 'solver': 'newton-cg'}</td>\n",
    "    </tr>\n",
    "    <tr>\n",
    "        <td>RandomForestClassifier</td><td>0.18</td><td>0.49</td><td nowrap>Pipeline(steps=[('o', SMOTE(random_state=42)),\n",
    "                ('u', RandomUnderSampler(random_state=42)),\n",
    "                ('m',\n",
    "                 RandomForestClassifier(max_features='sqrt', n_estimators=1000,\n",
    "                                        random_state=0))])\n",
    "</td><td nowrap>{'max_features': 'sqrt', 'n_estimators': 1000}</td>\n",
    "    </tr>\n",
    "    <tr>\n",
    "        <td>AdaBoostClassifier</td><td>0.50</td><td>0.78</td><td nowrap>Pipeline(steps=[('o', SMOTE(random_state=42)),\n",
    "                ('u', RandomUnderSampler(random_state=42)),\n",
    "                ('m', AdaBoostClassifier(learning_rate=0.8, n_estimators=88))])</td>\n",
    "<td nowrap>{‘n_estimators': 88, 'learning_rate': 0.8}</td>\n",
    "    </tr>\n",
    "</table>"
   ]
  },
  {
   "cell_type": "markdown",
   "id": "4b4beb41",
   "metadata": {},
   "source": [
    "## Summary<a id='summary_final'>"
   ]
  },
  {
   "cell_type": "markdown",
   "id": "2ede0a78",
   "metadata": {},
   "source": [
    "Used three algorithms to increae the performance of the predictions for the minority class. After hyperparameter tuning, the AdaBoost Classifier did the best. "
   ]
  },
  {
   "cell_type": "code",
   "execution_count": null,
   "id": "50c8a01b",
   "metadata": {},
   "outputs": [],
   "source": []
  }
 ],
 "metadata": {
  "kernelspec": {
   "display_name": "Python 3 (ipykernel)",
   "language": "python",
   "name": "python3"
  },
  "language_info": {
   "codemirror_mode": {
    "name": "ipython",
    "version": 3
   },
   "file_extension": ".py",
   "mimetype": "text/x-python",
   "name": "python",
   "nbconvert_exporter": "python",
   "pygments_lexer": "ipython3",
   "version": "3.9.12"
  }
 },
 "nbformat": 4,
 "nbformat_minor": 5
}
