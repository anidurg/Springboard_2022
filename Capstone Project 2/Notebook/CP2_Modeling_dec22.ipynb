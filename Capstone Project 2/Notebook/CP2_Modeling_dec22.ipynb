{
 "cells": [
  {
   "cell_type": "markdown",
   "id": "7b11c7e7",
   "metadata": {},
   "source": [
    "## Modeling<a id='Modeling'>"
   ]
  },
  {
   "cell_type": "markdown",
   "id": "b9a6e1c0",
   "metadata": {},
   "source": [
    "## Contents<a id='Contents'></a>\n",
    "* [Modeling](#Modeling)\n",
    "  * [Contents](#Contents)\n",
    "  * [Introduction](#Introduction)\n",
    "  * [Imports](#Imports)\n",
    "  * [Summary of baseline logisticRegression model](#summarized_results)\n",
    "  * [Load Data](#Load_Data)\n",
    "  * [LogisticRegression algorithm](#logistic_regression)\n",
    "  * [roc_auc_score and ROC Curve](#roc_related)\n",
    "* [SMOTE](#smote)\n",
    "     * [Fitting Logistic Regression after SMOTE](#logreg_smote)\n",
    "     * [Fitting RandomForest classifier after SMOTE](#rfc_smote)\n",
    "     * [Fitting AdaBoost classifier after SMOTE](#adaboost_smote)\n",
    "* [Undersampling](#undersampling) \n",
    "    * [Fitting LogisticRegression with undersampling](#logreg_undersample)\n",
    "    * [Fitting RandomForest Classifier with undersampling](#rfc_undersampling)\n",
    "    * [Fitting AdaBoost Classifier with undersampling](#abc_undersampling)\n",
    "* [Summarized classification reports for 3 algorithms](#summary_charts_all)"
   ]
  },
  {
   "cell_type": "markdown",
   "id": "4bfe6773",
   "metadata": {},
   "source": [
    "### Introduction<a id='Introduction'>"
   ]
  },
  {
   "cell_type": "markdown",
   "id": "8b18a1c3",
   "metadata": {},
   "source": [
    "* In the first round of\n",
    "the modeling notebook use the probability output and\n",
    "a threshold other than 0.5, which is the default.\n",
    "* I am choosing binary model first.<br/>\n",
    "<b>We will follow the same pattern we used before, only this time we are explicitly defining two objects ``X`` and ``y``, which were defined implicitly when we built the first model</b>. \n",
    "\n",
    "    \n",
    "Thus, pattern defined above can be expanded as follows:\n",
    "\n",
    "> (a) Define ``X`` and ``y``  \n",
    "\n",
    "> (b) Perform train/test split on ``(X, y)``  \n",
    "\n",
    "> (c) Create an object of the class associated with the algorithm to be used--in this case ``LogisticRegression``  \n",
    "\n",
    "> (d) Build an actual model using the``fit`` method from the class associated with the algorithm \n",
    "to be used (using the training set)  \n",
    "\n",
    "> (e) Predict with the built model using the``predict`` method from the class (training set and test set)  \n",
    "\n",
    "> (f) Compute performance metrics (in this case, accuracy) for the training and test predictions. The metrics to be used and their interpretation will depend on the application at hand  \n",
    "\n",
    "> (g) Determine if the model can be improved--repeat as needed with additional algorithms and/or by applying hyper-parameter tuning  \n",
    "\n",
    "> (h) Compare and Combine all best models as needed"
   ]
  },
  {
   "cell_type": "markdown",
   "id": "00d2e280",
   "metadata": {},
   "source": [
    "### Imports<a id='Imports'>"
   ]
  },
  {
   "cell_type": "code",
   "execution_count": 138,
   "id": "87d59602",
   "metadata": {},
   "outputs": [
    {
     "name": "stdout",
     "output_type": "stream",
     "text": [
      "Loaded Libraries\n"
     ]
    }
   ],
   "source": [
    "import pandas as pd\n",
    "import numpy as np\n",
    "import os\n",
    "import pickle\n",
    "import matplotlib.pyplot as plt\n",
    "import seaborn as sns\n",
    "from sklearn import __version__ as sklearn_version\n",
    "from sklearn.model_selection import cross_validate\n",
    "from library.sb_utils import save_file\n",
    "\n",
    "import matplotlib as mpl\n",
    "import matplotlib.cm as cm\n",
    "from matplotlib.colors import ListedColormap\n",
    "from sklearn.preprocessing import OneHotEncoder as OHE\n",
    "import sklearn.model_selection\n",
    "from sklearn.model_selection import train_test_split\n",
    "import nltk\n",
    "# Remove tokens that do not contain any letters from words_tokenized\n",
    "import re\n",
    "from nltk.stem.snowball import SnowballStemmer\n",
    "# Create an English language SnowballStemmer object\n",
    "stemmer = SnowballStemmer(\"english\")\n",
    "from sklearn.feature_extraction.text import TfidfVectorizer\n",
    "from sklearn.model_selection import KFold\n",
    "from sklearn.linear_model import LogisticRegression\n",
    "from sklearn.metrics import accuracy_score, f1_score\n",
    "from sklearn.metrics import classification_report\n",
    "from sklearn.metrics import confusion_matrix\n",
    "from sklearn.metrics import ConfusionMatrixDisplay\n",
    "# multi-class classification\n",
    "from sklearn.multiclass import OneVsRestClassifier\n",
    "from sklearn.metrics import roc_curve\n",
    "from sklearn.metrics import roc_auc_score\n",
    "# Random Forest\n",
    "from sklearn.ensemble import RandomForestClassifier\n",
    "from numpy import arange\n",
    "from numpy import argmax\n",
    "#reasampling\n",
    "from imblearn.over_sampling import SMOTE\n",
    "from imblearn.under_sampling import RandomUnderSampler\n",
    "#\n",
    "print(\"Loaded Libraries\")\n",
    "import warnings\n",
    "warnings.simplefilter(\"ignore\")"
   ]
  },
  {
   "cell_type": "markdown",
   "id": "270c0e4b",
   "metadata": {},
   "source": [
    "## Summary of baseline logisticRegression model<a id='summarized_results'>"
   ]
  },
  {
   "cell_type": "markdown",
   "id": "099cef64",
   "metadata": {},
   "source": [
    "<table style=\"background-color: #D6EEEE\">\n",
    "    <tr><th>Model</th><th>classes</th><th>Precision</th><th>Recall</th><th>f1-score</th><th>support</th></tr>\n",
    "    <tr><td rowspan=\"3\">MultiClass LogReg Training</td><td>0</td><td>0.89</td><td>0.99</td><td>0.94</td><td>12387</td></tr>\n",
    "    <tr><td>1</td><td>0.86</td><td>0.71</td><td>0.78</td><td>1790</td></tr>\n",
    "    <tr><td>2</td><td>0.76</td><td>0.25</td><td>0.38</td><td>1580</td></tr>\n",
    "    <tr><th>accuracy</th><th colspan=\"4\">0.89</th><th>15757</th></tr>\n",
    "    <tr><td rowspan=\"3\">MultiClass LogReg Test Set</td><td>0</td><td>0.88</td><td>0.99</td><td>0.93</td><td>3097</td></tr>\n",
    "    <tr><td>1</td><td>0.77</td><td>0.60</td><td>0.67</td><td>448</td></tr>\n",
    "    <tr><td>2</td><td>0.61</td><td>0.19</td><td>0.29</td><td>395</td></tr>\n",
    "    <tr><th>accuracy</th><th colspan=\"4\">0.86</th><th>3940</th></tr>\n",
    "    <tr><td rowspan=\"2\">Binary LogReg Training</td><td>0</td><td>0.95</td><td>0.99</td><td>0.97</td><td>13967</td></tr>\n",
    "    <tr><td>1</td><td>0.91</td><td>0.55</td><td>0.68</td><td>1790</td></tr>\n",
    "    <tr><th>accuracy</th><th colspan=\"4\">0.94</th><th>15757</th></tr>\n",
    "    <tr><td rowspan=\"2\">Binary LogReg Test Set</td><td>0</td><td>0.93</td><td>0.99</td><td>0.96</td><td>3492</td></tr>\n",
    "    <tr><td>1</td><td>0.81</td><td>0.46</td><td>0.59</td><td>448</td></tr>\n",
    "    <tr><th>accuracy</th><th colspan=\"4\">0.93</th><th>3940</th></tr>\n",
    "    </table>"
   ]
  },
  {
   "cell_type": "markdown",
   "id": "fcf6f850",
   "metadata": {},
   "source": [
    "Note: if we observe the summary chart, we can see that recall score is low for the minority class. One possible reason is calsses are hihgly imbalanced. TO take care of that, I will apply sampling method(one undersampling and one oversampling method) for two models that I choose. "
   ]
  },
  {
   "cell_type": "markdown",
   "id": "991c867e",
   "metadata": {},
   "source": [
    "### Load Data<a id='Load_Data'>"
   ]
  },
  {
   "cell_type": "code",
   "execution_count": 8,
   "id": "6a775d1f",
   "metadata": {},
   "outputs": [],
   "source": [
    "df_main = pd.read_csv('cp2_ppt_2_sentiment_df.csv')"
   ]
  },
  {
   "cell_type": "code",
   "execution_count": 9,
   "id": "19eb1d74",
   "metadata": {},
   "outputs": [
    {
     "data": {
      "text/html": [
       "<div>\n",
       "<style scoped>\n",
       "    .dataframe tbody tr th:only-of-type {\n",
       "        vertical-align: middle;\n",
       "    }\n",
       "\n",
       "    .dataframe tbody tr th {\n",
       "        vertical-align: top;\n",
       "    }\n",
       "\n",
       "    .dataframe thead th {\n",
       "        text-align: right;\n",
       "    }\n",
       "</style>\n",
       "<table border=\"1\" class=\"dataframe\">\n",
       "  <thead>\n",
       "    <tr style=\"text-align: right;\">\n",
       "      <th></th>\n",
       "      <th>business_id</th>\n",
       "      <th>name</th>\n",
       "      <th>address</th>\n",
       "      <th>city</th>\n",
       "      <th>state</th>\n",
       "      <th>postal_code</th>\n",
       "      <th>latitude</th>\n",
       "      <th>longitude</th>\n",
       "      <th>review_count</th>\n",
       "      <th>categories</th>\n",
       "      <th>review_id</th>\n",
       "      <th>user_id</th>\n",
       "      <th>yelp_review_stars</th>\n",
       "      <th>useful</th>\n",
       "      <th>funny</th>\n",
       "      <th>cool</th>\n",
       "      <th>text</th>\n",
       "      <th>date</th>\n",
       "      <th>year</th>\n",
       "      <th>text_length</th>\n",
       "    </tr>\n",
       "  </thead>\n",
       "  <tbody>\n",
       "    <tr>\n",
       "      <th>0</th>\n",
       "      <td>vUrTGX_7HxqeoQ_6QCVz6g</td>\n",
       "      <td>Suraya</td>\n",
       "      <td>1528 Frankford Ave</td>\n",
       "      <td>Philadelphia</td>\n",
       "      <td>PA</td>\n",
       "      <td>19125</td>\n",
       "      <td>39.973687</td>\n",
       "      <td>-75.133956</td>\n",
       "      <td>1121</td>\n",
       "      <td>Active Life, Beer Gardens, Grocery, Middle Eas...</td>\n",
       "      <td>WeTHLEdLdP3Y3AXWWCsx4g</td>\n",
       "      <td>UizCd11Qoo74BKARrZp7HA</td>\n",
       "      <td>5</td>\n",
       "      <td>0</td>\n",
       "      <td>0</td>\n",
       "      <td>1</td>\n",
       "      <td>We are visiting in Philadelphia from Californi...</td>\n",
       "      <td>2018-05-28 21:27:38</td>\n",
       "      <td>2018</td>\n",
       "      <td>614</td>\n",
       "    </tr>\n",
       "    <tr>\n",
       "      <th>1</th>\n",
       "      <td>vUrTGX_7HxqeoQ_6QCVz6g</td>\n",
       "      <td>Suraya</td>\n",
       "      <td>1528 Frankford Ave</td>\n",
       "      <td>Philadelphia</td>\n",
       "      <td>PA</td>\n",
       "      <td>19125</td>\n",
       "      <td>39.973687</td>\n",
       "      <td>-75.133956</td>\n",
       "      <td>1121</td>\n",
       "      <td>Active Life, Beer Gardens, Grocery, Middle Eas...</td>\n",
       "      <td>MrWpfvjVA6Qtj3CDvFfPiA</td>\n",
       "      <td>49aswoS-d09tyWNJimzZ5A</td>\n",
       "      <td>5</td>\n",
       "      <td>1</td>\n",
       "      <td>0</td>\n",
       "      <td>0</td>\n",
       "      <td>Delicious food ! I personally loved it !!!\\n\\n...</td>\n",
       "      <td>2018-02-01 19:28:41</td>\n",
       "      <td>2018</td>\n",
       "      <td>573</td>\n",
       "    </tr>\n",
       "    <tr>\n",
       "      <th>2</th>\n",
       "      <td>vUrTGX_7HxqeoQ_6QCVz6g</td>\n",
       "      <td>Suraya</td>\n",
       "      <td>1528 Frankford Ave</td>\n",
       "      <td>Philadelphia</td>\n",
       "      <td>PA</td>\n",
       "      <td>19125</td>\n",
       "      <td>39.973687</td>\n",
       "      <td>-75.133956</td>\n",
       "      <td>1121</td>\n",
       "      <td>Active Life, Beer Gardens, Grocery, Middle Eas...</td>\n",
       "      <td>hll3PKZbMbu2W7uFbF8ezQ</td>\n",
       "      <td>CmLK8cjvcUIKyNVMp8ZyDA</td>\n",
       "      <td>2</td>\n",
       "      <td>0</td>\n",
       "      <td>0</td>\n",
       "      <td>0</td>\n",
       "      <td>Beautiful place. Excellent food. I only gave i...</td>\n",
       "      <td>2018-08-24 13:30:41</td>\n",
       "      <td>2018</td>\n",
       "      <td>362</td>\n",
       "    </tr>\n",
       "    <tr>\n",
       "      <th>3</th>\n",
       "      <td>vUrTGX_7HxqeoQ_6QCVz6g</td>\n",
       "      <td>Suraya</td>\n",
       "      <td>1528 Frankford Ave</td>\n",
       "      <td>Philadelphia</td>\n",
       "      <td>PA</td>\n",
       "      <td>19125</td>\n",
       "      <td>39.973687</td>\n",
       "      <td>-75.133956</td>\n",
       "      <td>1121</td>\n",
       "      <td>Active Life, Beer Gardens, Grocery, Middle Eas...</td>\n",
       "      <td>Mi5lScAdCWuJZj0QO_4qxg</td>\n",
       "      <td>wG77jgwRg53rN1KVxo637w</td>\n",
       "      <td>2</td>\n",
       "      <td>0</td>\n",
       "      <td>0</td>\n",
       "      <td>0</td>\n",
       "      <td>It's extremely overpriced, and the sandwiches ...</td>\n",
       "      <td>2018-02-11 18:04:01</td>\n",
       "      <td>2018</td>\n",
       "      <td>254</td>\n",
       "    </tr>\n",
       "    <tr>\n",
       "      <th>4</th>\n",
       "      <td>vUrTGX_7HxqeoQ_6QCVz6g</td>\n",
       "      <td>Suraya</td>\n",
       "      <td>1528 Frankford Ave</td>\n",
       "      <td>Philadelphia</td>\n",
       "      <td>PA</td>\n",
       "      <td>19125</td>\n",
       "      <td>39.973687</td>\n",
       "      <td>-75.133956</td>\n",
       "      <td>1121</td>\n",
       "      <td>Active Life, Beer Gardens, Grocery, Middle Eas...</td>\n",
       "      <td>SSu94Tvc6L5UBC4FDDyAbw</td>\n",
       "      <td>5s0nTuLRm3ue4Qfrj9PHkQ</td>\n",
       "      <td>5</td>\n",
       "      <td>0</td>\n",
       "      <td>0</td>\n",
       "      <td>0</td>\n",
       "      <td>Instagram worthy and Claire is an amazing serv...</td>\n",
       "      <td>2018-05-28 23:07:50</td>\n",
       "      <td>2018</td>\n",
       "      <td>1167</td>\n",
       "    </tr>\n",
       "  </tbody>\n",
       "</table>\n",
       "</div>"
      ],
      "text/plain": [
       "              business_id    name             address          city state  \\\n",
       "0  vUrTGX_7HxqeoQ_6QCVz6g  Suraya  1528 Frankford Ave  Philadelphia    PA   \n",
       "1  vUrTGX_7HxqeoQ_6QCVz6g  Suraya  1528 Frankford Ave  Philadelphia    PA   \n",
       "2  vUrTGX_7HxqeoQ_6QCVz6g  Suraya  1528 Frankford Ave  Philadelphia    PA   \n",
       "3  vUrTGX_7HxqeoQ_6QCVz6g  Suraya  1528 Frankford Ave  Philadelphia    PA   \n",
       "4  vUrTGX_7HxqeoQ_6QCVz6g  Suraya  1528 Frankford Ave  Philadelphia    PA   \n",
       "\n",
       "   postal_code   latitude  longitude  review_count  \\\n",
       "0        19125  39.973687 -75.133956          1121   \n",
       "1        19125  39.973687 -75.133956          1121   \n",
       "2        19125  39.973687 -75.133956          1121   \n",
       "3        19125  39.973687 -75.133956          1121   \n",
       "4        19125  39.973687 -75.133956          1121   \n",
       "\n",
       "                                          categories               review_id  \\\n",
       "0  Active Life, Beer Gardens, Grocery, Middle Eas...  WeTHLEdLdP3Y3AXWWCsx4g   \n",
       "1  Active Life, Beer Gardens, Grocery, Middle Eas...  MrWpfvjVA6Qtj3CDvFfPiA   \n",
       "2  Active Life, Beer Gardens, Grocery, Middle Eas...  hll3PKZbMbu2W7uFbF8ezQ   \n",
       "3  Active Life, Beer Gardens, Grocery, Middle Eas...  Mi5lScAdCWuJZj0QO_4qxg   \n",
       "4  Active Life, Beer Gardens, Grocery, Middle Eas...  SSu94Tvc6L5UBC4FDDyAbw   \n",
       "\n",
       "                  user_id  yelp_review_stars  useful  funny  cool  \\\n",
       "0  UizCd11Qoo74BKARrZp7HA                  5       0      0     1   \n",
       "1  49aswoS-d09tyWNJimzZ5A                  5       1      0     0   \n",
       "2  CmLK8cjvcUIKyNVMp8ZyDA                  2       0      0     0   \n",
       "3  wG77jgwRg53rN1KVxo637w                  2       0      0     0   \n",
       "4  5s0nTuLRm3ue4Qfrj9PHkQ                  5       0      0     0   \n",
       "\n",
       "                                                text                 date  \\\n",
       "0  We are visiting in Philadelphia from Californi...  2018-05-28 21:27:38   \n",
       "1  Delicious food ! I personally loved it !!!\\n\\n...  2018-02-01 19:28:41   \n",
       "2  Beautiful place. Excellent food. I only gave i...  2018-08-24 13:30:41   \n",
       "3  It's extremely overpriced, and the sandwiches ...  2018-02-11 18:04:01   \n",
       "4  Instagram worthy and Claire is an amazing serv...  2018-05-28 23:07:50   \n",
       "\n",
       "   year  text_length  \n",
       "0  2018          614  \n",
       "1  2018          573  \n",
       "2  2018          362  \n",
       "3  2018          254  \n",
       "4  2018         1167  "
      ]
     },
     "execution_count": 9,
     "metadata": {},
     "output_type": "execute_result"
    }
   ],
   "source": [
    "df_main.head()"
   ]
  },
  {
   "cell_type": "code",
   "execution_count": 10,
   "id": "a5c65368",
   "metadata": {},
   "outputs": [
    {
     "data": {
      "text/html": [
       "<div>\n",
       "<style scoped>\n",
       "    .dataframe tbody tr th:only-of-type {\n",
       "        vertical-align: middle;\n",
       "    }\n",
       "\n",
       "    .dataframe tbody tr th {\n",
       "        vertical-align: top;\n",
       "    }\n",
       "\n",
       "    .dataframe thead th {\n",
       "        text-align: right;\n",
       "    }\n",
       "</style>\n",
       "<table border=\"1\" class=\"dataframe\">\n",
       "  <thead>\n",
       "    <tr style=\"text-align: right;\">\n",
       "      <th></th>\n",
       "      <th>business_id</th>\n",
       "      <th>name</th>\n",
       "      <th>address</th>\n",
       "      <th>city</th>\n",
       "      <th>state</th>\n",
       "      <th>postal_code</th>\n",
       "      <th>latitude</th>\n",
       "      <th>longitude</th>\n",
       "      <th>review_count</th>\n",
       "      <th>categories</th>\n",
       "      <th>...</th>\n",
       "      <th>user_id</th>\n",
       "      <th>yelp_review_stars</th>\n",
       "      <th>useful</th>\n",
       "      <th>funny</th>\n",
       "      <th>cool</th>\n",
       "      <th>text</th>\n",
       "      <th>date</th>\n",
       "      <th>year</th>\n",
       "      <th>text_length</th>\n",
       "      <th>target_binary</th>\n",
       "    </tr>\n",
       "  </thead>\n",
       "  <tbody>\n",
       "    <tr>\n",
       "      <th>0</th>\n",
       "      <td>vUrTGX_7HxqeoQ_6QCVz6g</td>\n",
       "      <td>Suraya</td>\n",
       "      <td>1528 Frankford Ave</td>\n",
       "      <td>Philadelphia</td>\n",
       "      <td>PA</td>\n",
       "      <td>19125</td>\n",
       "      <td>39.973687</td>\n",
       "      <td>-75.133956</td>\n",
       "      <td>1121</td>\n",
       "      <td>Active Life, Beer Gardens, Grocery, Middle Eas...</td>\n",
       "      <td>...</td>\n",
       "      <td>UizCd11Qoo74BKARrZp7HA</td>\n",
       "      <td>5</td>\n",
       "      <td>0</td>\n",
       "      <td>0</td>\n",
       "      <td>1</td>\n",
       "      <td>We are visiting in Philadelphia from Californi...</td>\n",
       "      <td>2018-05-28 21:27:38</td>\n",
       "      <td>2018</td>\n",
       "      <td>614</td>\n",
       "      <td>0</td>\n",
       "    </tr>\n",
       "    <tr>\n",
       "      <th>1</th>\n",
       "      <td>vUrTGX_7HxqeoQ_6QCVz6g</td>\n",
       "      <td>Suraya</td>\n",
       "      <td>1528 Frankford Ave</td>\n",
       "      <td>Philadelphia</td>\n",
       "      <td>PA</td>\n",
       "      <td>19125</td>\n",
       "      <td>39.973687</td>\n",
       "      <td>-75.133956</td>\n",
       "      <td>1121</td>\n",
       "      <td>Active Life, Beer Gardens, Grocery, Middle Eas...</td>\n",
       "      <td>...</td>\n",
       "      <td>49aswoS-d09tyWNJimzZ5A</td>\n",
       "      <td>5</td>\n",
       "      <td>1</td>\n",
       "      <td>0</td>\n",
       "      <td>0</td>\n",
       "      <td>Delicious food ! I personally loved it !!!\\n\\n...</td>\n",
       "      <td>2018-02-01 19:28:41</td>\n",
       "      <td>2018</td>\n",
       "      <td>573</td>\n",
       "      <td>0</td>\n",
       "    </tr>\n",
       "    <tr>\n",
       "      <th>2</th>\n",
       "      <td>vUrTGX_7HxqeoQ_6QCVz6g</td>\n",
       "      <td>Suraya</td>\n",
       "      <td>1528 Frankford Ave</td>\n",
       "      <td>Philadelphia</td>\n",
       "      <td>PA</td>\n",
       "      <td>19125</td>\n",
       "      <td>39.973687</td>\n",
       "      <td>-75.133956</td>\n",
       "      <td>1121</td>\n",
       "      <td>Active Life, Beer Gardens, Grocery, Middle Eas...</td>\n",
       "      <td>...</td>\n",
       "      <td>CmLK8cjvcUIKyNVMp8ZyDA</td>\n",
       "      <td>2</td>\n",
       "      <td>0</td>\n",
       "      <td>0</td>\n",
       "      <td>0</td>\n",
       "      <td>Beautiful place. Excellent food. I only gave i...</td>\n",
       "      <td>2018-08-24 13:30:41</td>\n",
       "      <td>2018</td>\n",
       "      <td>362</td>\n",
       "      <td>1</td>\n",
       "    </tr>\n",
       "  </tbody>\n",
       "</table>\n",
       "<p>3 rows × 21 columns</p>\n",
       "</div>"
      ],
      "text/plain": [
       "              business_id    name             address          city state  \\\n",
       "0  vUrTGX_7HxqeoQ_6QCVz6g  Suraya  1528 Frankford Ave  Philadelphia    PA   \n",
       "1  vUrTGX_7HxqeoQ_6QCVz6g  Suraya  1528 Frankford Ave  Philadelphia    PA   \n",
       "2  vUrTGX_7HxqeoQ_6QCVz6g  Suraya  1528 Frankford Ave  Philadelphia    PA   \n",
       "\n",
       "   postal_code   latitude  longitude  review_count  \\\n",
       "0        19125  39.973687 -75.133956          1121   \n",
       "1        19125  39.973687 -75.133956          1121   \n",
       "2        19125  39.973687 -75.133956          1121   \n",
       "\n",
       "                                          categories  ...  \\\n",
       "0  Active Life, Beer Gardens, Grocery, Middle Eas...  ...   \n",
       "1  Active Life, Beer Gardens, Grocery, Middle Eas...  ...   \n",
       "2  Active Life, Beer Gardens, Grocery, Middle Eas...  ...   \n",
       "\n",
       "                  user_id yelp_review_stars  useful  funny  cool  \\\n",
       "0  UizCd11Qoo74BKARrZp7HA                 5       0      0     1   \n",
       "1  49aswoS-d09tyWNJimzZ5A                 5       1      0     0   \n",
       "2  CmLK8cjvcUIKyNVMp8ZyDA                 2       0      0     0   \n",
       "\n",
       "                                                text                 date  \\\n",
       "0  We are visiting in Philadelphia from Californi...  2018-05-28 21:27:38   \n",
       "1  Delicious food ! I personally loved it !!!\\n\\n...  2018-02-01 19:28:41   \n",
       "2  Beautiful place. Excellent food. I only gave i...  2018-08-24 13:30:41   \n",
       "\n",
       "   year  text_length  target_binary  \n",
       "0  2018          614              0  \n",
       "1  2018          573              0  \n",
       "2  2018          362              1  \n",
       "\n",
       "[3 rows x 21 columns]"
      ]
     },
     "execution_count": 10,
     "metadata": {},
     "output_type": "execute_result"
    }
   ],
   "source": [
    "# Create new column \"target_binary\" that stored 0's or 1's. 0 being Positive, 1 being Non-Positive\n",
    "df_main[\"target_binary\"] = np.where(df_main[\"yelp_review_stars\"] >= 3, 0, 1)\n",
    "df_main.head(3)"
   ]
  },
  {
   "cell_type": "code",
   "execution_count": 16,
   "id": "48fe5379",
   "metadata": {},
   "outputs": [],
   "source": [
    "# Picking the only text and target column\n",
    "df_bi_final = df_main[['text','target_binary']]"
   ]
  },
  {
   "cell_type": "code",
   "execution_count": 17,
   "id": "10e05b50",
   "metadata": {},
   "outputs": [
    {
     "data": {
      "text/html": [
       "<div>\n",
       "<style scoped>\n",
       "    .dataframe tbody tr th:only-of-type {\n",
       "        vertical-align: middle;\n",
       "    }\n",
       "\n",
       "    .dataframe tbody tr th {\n",
       "        vertical-align: top;\n",
       "    }\n",
       "\n",
       "    .dataframe thead th {\n",
       "        text-align: right;\n",
       "    }\n",
       "</style>\n",
       "<table border=\"1\" class=\"dataframe\">\n",
       "  <thead>\n",
       "    <tr style=\"text-align: right;\">\n",
       "      <th></th>\n",
       "      <th>text</th>\n",
       "      <th>target_binary</th>\n",
       "    </tr>\n",
       "  </thead>\n",
       "  <tbody>\n",
       "    <tr>\n",
       "      <th>0</th>\n",
       "      <td>We are visiting in Philadelphia from Californi...</td>\n",
       "      <td>0</td>\n",
       "    </tr>\n",
       "    <tr>\n",
       "      <th>1</th>\n",
       "      <td>Delicious food ! I personally loved it !!!\\n\\n...</td>\n",
       "      <td>0</td>\n",
       "    </tr>\n",
       "    <tr>\n",
       "      <th>2</th>\n",
       "      <td>Beautiful place. Excellent food. I only gave i...</td>\n",
       "      <td>1</td>\n",
       "    </tr>\n",
       "    <tr>\n",
       "      <th>3</th>\n",
       "      <td>It's extremely overpriced, and the sandwiches ...</td>\n",
       "      <td>1</td>\n",
       "    </tr>\n",
       "    <tr>\n",
       "      <th>4</th>\n",
       "      <td>Instagram worthy and Claire is an amazing serv...</td>\n",
       "      <td>0</td>\n",
       "    </tr>\n",
       "  </tbody>\n",
       "</table>\n",
       "</div>"
      ],
      "text/plain": [
       "                                                text  target_binary\n",
       "0  We are visiting in Philadelphia from Californi...              0\n",
       "1  Delicious food ! I personally loved it !!!\\n\\n...              0\n",
       "2  Beautiful place. Excellent food. I only gave i...              1\n",
       "3  It's extremely overpriced, and the sandwiches ...              1\n",
       "4  Instagram worthy and Claire is an amazing serv...              0"
      ]
     },
     "execution_count": 17,
     "metadata": {},
     "output_type": "execute_result"
    }
   ],
   "source": [
    "df_bi_final.head()"
   ]
  },
  {
   "cell_type": "code",
   "execution_count": 18,
   "id": "21ce4b7d",
   "metadata": {},
   "outputs": [],
   "source": [
    "import re \n",
    "def function_clean(text):\n",
    "    text = re.sub(r\"http\\S+\", \"\", text) #removing the URL Http\n",
    "    # Removal of mentions\n",
    "    text = re.sub(\"@[^\\s]*\", \"\", text)\n",
    "    # Removal of hashtags\n",
    "    text = re.sub(\"#[^\\s]*\", \"\", text)\n",
    "    # Removal of numbers\n",
    "    text = re.sub('[0-9]*[+-:]*[0-9]+', '', text)\n",
    "    text = re.sub(\"(\\\\d|\\\\W)+\",\" \",text)\n",
    "    text = re.sub(\"'s\", \"\", text)   \n",
    "    return text"
   ]
  },
  {
   "cell_type": "code",
   "execution_count": 23,
   "id": "b64a250d",
   "metadata": {},
   "outputs": [],
   "source": [
    "# Define a function to perform both stemming and tokenization\n",
    "\n",
    "\n",
    "def tokenize_and_stem(text):\n",
    "\n",
    "    tokens = [y for x in nltk.sent_tokenize(text) for y in nltk.word_tokenize(x)]\n",
    "\n",
    "    filtered_tokens = [token for token in tokens if re.search('[a-zA-Z]',token)]\n",
    "\n",
    "    stems = [stemmer.stem(token) for token in filtered_tokens]\n",
    "\n",
    "    return stems"
   ]
  },
  {
   "cell_type": "code",
   "execution_count": 19,
   "id": "b696ee3d",
   "metadata": {},
   "outputs": [],
   "source": [
    "# applying the cleaning function to text column\n",
    "df_bi_final['text'] = df_bi_final['text'].apply(lambda text: function_clean(text))"
   ]
  },
  {
   "cell_type": "code",
   "execution_count": 20,
   "id": "c8907232",
   "metadata": {},
   "outputs": [
    {
     "data": {
      "text/html": [
       "<div>\n",
       "<style scoped>\n",
       "    .dataframe tbody tr th:only-of-type {\n",
       "        vertical-align: middle;\n",
       "    }\n",
       "\n",
       "    .dataframe tbody tr th {\n",
       "        vertical-align: top;\n",
       "    }\n",
       "\n",
       "    .dataframe thead th {\n",
       "        text-align: right;\n",
       "    }\n",
       "</style>\n",
       "<table border=\"1\" class=\"dataframe\">\n",
       "  <thead>\n",
       "    <tr style=\"text-align: right;\">\n",
       "      <th></th>\n",
       "      <th>text</th>\n",
       "      <th>target_binary</th>\n",
       "    </tr>\n",
       "  </thead>\n",
       "  <tbody>\n",
       "    <tr>\n",
       "      <th>0</th>\n",
       "      <td>We are visiting in Philadelphia from Californi...</td>\n",
       "      <td>0</td>\n",
       "    </tr>\n",
       "    <tr>\n",
       "      <th>1</th>\n",
       "      <td>Delicious food I personally loved it I was sur...</td>\n",
       "      <td>0</td>\n",
       "    </tr>\n",
       "    <tr>\n",
       "      <th>2</th>\n",
       "      <td>Beautiful place Excellent food I only gave it ...</td>\n",
       "      <td>1</td>\n",
       "    </tr>\n",
       "    <tr>\n",
       "      <th>3</th>\n",
       "      <td>It s extremely overpriced and the sandwiches a...</td>\n",
       "      <td>1</td>\n",
       "    </tr>\n",
       "    <tr>\n",
       "      <th>4</th>\n",
       "      <td>Instagram worthy and Claire is an amazing serv...</td>\n",
       "      <td>0</td>\n",
       "    </tr>\n",
       "  </tbody>\n",
       "</table>\n",
       "</div>"
      ],
      "text/plain": [
       "                                                text  target_binary\n",
       "0  We are visiting in Philadelphia from Californi...              0\n",
       "1  Delicious food I personally loved it I was sur...              0\n",
       "2  Beautiful place Excellent food I only gave it ...              1\n",
       "3  It s extremely overpriced and the sandwiches a...              1\n",
       "4  Instagram worthy and Claire is an amazing serv...              0"
      ]
     },
     "execution_count": 20,
     "metadata": {},
     "output_type": "execute_result"
    }
   ],
   "source": [
    "df_bi_final.head()"
   ]
  },
  {
   "cell_type": "code",
   "execution_count": 21,
   "id": "5fa4fa1a",
   "metadata": {},
   "outputs": [],
   "source": [
    "X_train,X_test,y_train,y_test = train_test_split(df_bi_final['text'], df_bi_final['target_binary'], random_state=2, test_size=0.2, stratify = df_bi_final['target_binary'])"
   ]
  },
  {
   "cell_type": "code",
   "execution_count": 22,
   "id": "6195784c",
   "metadata": {},
   "outputs": [
    {
     "data": {
      "text/plain": [
       "((15757,), (3940,), (15757,), (3940,))"
      ]
     },
     "execution_count": 22,
     "metadata": {},
     "output_type": "execute_result"
    }
   ],
   "source": [
    "X_train.shape,X_test.shape,y_train.shape,y_test.shape"
   ]
  },
  {
   "cell_type": "code",
   "execution_count": 24,
   "id": "b468fad8",
   "metadata": {},
   "outputs": [],
   "source": [
    "# Instantiate TfidfVectorizer object with stopwords and tokenizer\n",
    "# parameters for efficient processing of text\n",
    "\n",
    "tfidf = TfidfVectorizer(stop_words='english',tokenizer=tokenize_and_stem,ngram_range=(1,1))"
   ]
  },
  {
   "cell_type": "code",
   "execution_count": 25,
   "id": "224d0991",
   "metadata": {},
   "outputs": [],
   "source": [
    "X_train_transformed = tfidf.fit_transform(X_train)"
   ]
  },
  {
   "cell_type": "code",
   "execution_count": 26,
   "id": "06bcc2a3",
   "metadata": {},
   "outputs": [
    {
     "data": {
      "text/plain": [
       "scipy.sparse.csr.csr_matrix"
      ]
     },
     "execution_count": 26,
     "metadata": {},
     "output_type": "execute_result"
    }
   ],
   "source": [
    "type(X_train_transformed)"
   ]
  },
  {
   "cell_type": "code",
   "execution_count": 29,
   "id": "2939e9bf",
   "metadata": {},
   "outputs": [],
   "source": [
    "X_test_transformed = tfidf.transform(X_test)"
   ]
  },
  {
   "cell_type": "code",
   "execution_count": 30,
   "id": "f4d79962",
   "metadata": {},
   "outputs": [
    {
     "data": {
      "text/plain": [
       "scipy.sparse.csr.csr_matrix"
      ]
     },
     "execution_count": 30,
     "metadata": {},
     "output_type": "execute_result"
    }
   ],
   "source": [
    "type(X_test_transformed)"
   ]
  },
  {
   "cell_type": "markdown",
   "id": "d7388124",
   "metadata": {},
   "source": [
    "## LogisticRegression algorithm<a id='logistic_regression'>\n",
    "    \n",
    "Logistic Regression algorithm is ussed to build models that are simple and yet effecive--in some cases. This algorithm can be used to build useful baseline models for classification problems that can be easily interpreted. For these reasons, Logistic Regression is considered as one of the fundamental Machine Learning algorithms associated with classification problems."
   ]
  },
  {
   "cell_type": "code",
   "execution_count": 36,
   "id": "9f4c5e59",
   "metadata": {},
   "outputs": [],
   "source": [
    "# fit a model\n",
    "clf = LogisticRegression()\n",
    "clf.fit(X_train_transformed, y_train)\n",
    "# predict labels\n",
    "y_pred = model.predict(X_test_transformed)\n"
   ]
  },
  {
   "cell_type": "code",
   "execution_count": 38,
   "id": "ce4ead80",
   "metadata": {},
   "outputs": [
    {
     "data": {
      "text/plain": [
       "<sklearn.metrics._plot.confusion_matrix.ConfusionMatrixDisplay at 0x20703f9fc40>"
      ]
     },
     "execution_count": 38,
     "metadata": {},
     "output_type": "execute_result"
    },
    {
     "data": {
      "image/png": "[encoded data removed]",
      "text/plain": [
       "<Figure size 432x288 with 2 Axes>"
      ]
     },
     "metadata": {
      "needs_background": "light"
     },
     "output_type": "display_data"
    }
   ],
   "source": [
    "cm = confusion_matrix(y_test, y_pred, labels = clf.classes_)\n",
    "_, ax = plt.subplots()\n",
    "display_cm = ConfusionMatrixDisplay(confusion_matrix = cm, \n",
    "                                    display_labels = ['positive review', 'non-positive review'])\n",
    "ax.set_xticks([0, 1])\n",
    "ax.set_yticks([0, 1])\n",
    "ax.set_xticklabels(labels = ['positive review', 'non-positive review'], fontsize = 8)\n",
    "ax.set_yticklabels(labels = ['positive review', 'non-positive review'], fontsize = 8)\n",
    "display_cm.plot(ax = ax)"
   ]
  },
  {
   "cell_type": "code",
   "execution_count": 37,
   "id": "03ceab1b",
   "metadata": {},
   "outputs": [
    {
     "name": "stdout",
     "output_type": "stream",
     "text": [
      "              precision    recall  f1-score   support\n",
      "\n",
      "           0       0.93      0.99      0.96      3492\n",
      "           1       0.81      0.46      0.59       448\n",
      "\n",
      "    accuracy                           0.93      3940\n",
      "   macro avg       0.87      0.72      0.77      3940\n",
      "weighted avg       0.92      0.93      0.92      3940\n",
      "\n"
     ]
    }
   ],
   "source": [
    "print(classification_report(y_test, y_pred))"
   ]
  },
  {
   "cell_type": "markdown",
   "id": "c492b3b1",
   "metadata": {},
   "source": [
    "## roc_auc_score and ROC Curve<a id='roc_related'>"
   ]
  },
  {
   "cell_type": "markdown",
   "id": "0d58004f",
   "metadata": {},
   "source": [
    "Another common metric is AUC, area under the receiver operating characteristic (ROC) curve. The Reciever operating characteristic curve plots the true positive (TP) rate versus the false positive (FP) rate at different classification thresholds. The thresholds are different probability cutoffs that separate the two classes in binary classification. It uses probability to tell us how well a model separates the classes."
   ]
  },
  {
   "cell_type": "code",
   "execution_count": 105,
   "id": "2b3fe324",
   "metadata": {},
   "outputs": [
    {
     "data": {
      "image/png": "[encoded data removed]",
      "text/plain": [
       "<Figure size 450x450 with 1 Axes>"
      ]
     },
     "metadata": {
      "needs_background": "light"
     },
     "output_type": "display_data"
    }
   ],
   "source": [
    "\n",
    "# roc curve for classes\n",
    "fpr = {}\n",
    "tpr = {}\n",
    "thresh ={}\n",
    "\n",
    "n_class = 2\n",
    "\n",
    "for i in range(n_class):    \n",
    "    fpr[i], tpr[i], thresh[i] = roc_curve(y_test, y_pred_proba[:,i], pos_label=i)\n",
    "    \n",
    "    \n",
    "# plotting    \n",
    "plt.plot(fpr[0], tpr[0], linestyle='--',color='orange', label='0')\n",
    "plt.plot(fpr[1], tpr[1], linestyle='--',color='blue', label='1')\n",
    "\n",
    "plt.title('Binaryclass ROC curve')\n",
    "plt.xlabel('False Positive Rate')\n",
    "plt.ylabel('True Positive rate')\n",
    "plt.legend(loc='best')\n",
    "plt.savefig('Binary Class ROC',dpi=300); "
   ]
  },
  {
   "cell_type": "code",
   "execution_count": 118,
   "id": "8fdb1073",
   "metadata": {},
   "outputs": [
    {
     "data": {
      "text/plain": [
       "0.9573444659221076"
      ]
     },
     "execution_count": 118,
     "metadata": {},
     "output_type": "execute_result"
    }
   ],
   "source": [
    "roc_auc_score(y_test, clf.predict_proba(X_test_transformed)[:, 1])"
   ]
  },
  {
   "cell_type": "code",
   "execution_count": 122,
   "id": "b69f2cf8",
   "metadata": {},
   "outputs": [
    {
     "data": {
      "text/plain": [
       "0.9818124965751274"
      ]
     },
     "execution_count": 122,
     "metadata": {},
     "output_type": "execute_result"
    }
   ],
   "source": [
    "roc_auc_score(y_train, clf.predict_proba(X_train_transformed)[:, 1])"
   ]
  },
  {
   "cell_type": "markdown",
   "id": "2194ced6",
   "metadata": {},
   "source": [
    "Before applying resampling method, I will try to fit two more models namels RandomForestClassifier and AdaBoost"
   ]
  },
  {
   "cell_type": "markdown",
   "id": "cb135e00",
   "metadata": {},
   "source": [
    "## Applying two algorithm before sampling<a id='apply_before sampling'>"
   ]
  },
  {
   "cell_type": "markdown",
   "id": "4ad1b90b",
   "metadata": {},
   "source": [
    "## RandomForest Classifier Algorithm<a id='random_algorithm_before_sampling'>\n",
    "    \n",
    "   Follows Bootstrap Aggregation method - Bagging"
   ]
  },
  {
   "cell_type": "code",
   "execution_count": 127,
   "id": "eabd2c52",
   "metadata": {},
   "outputs": [],
   "source": [
    "rfc_model = RandomForestClassifier()\n",
    "rfc_model.fit(X_train_transformed,y_train)\n",
    "y_pred_rfc = rfc_model.predict(X_test_transformed)\n"
   ]
  },
  {
   "cell_type": "code",
   "execution_count": 128,
   "id": "c486c42b",
   "metadata": {},
   "outputs": [
    {
     "data": {
      "text/plain": [
       "<sklearn.metrics._plot.confusion_matrix.ConfusionMatrixDisplay at 0x207053f9b50>"
      ]
     },
     "execution_count": 128,
     "metadata": {},
     "output_type": "execute_result"
    },
    {
     "data": {
      "image/png": "[encoded data removed]",
      "text/plain": [
       "<Figure size 450x450 with 2 Axes>"
      ]
     },
     "metadata": {
      "needs_background": "light"
     },
     "output_type": "display_data"
    }
   ],
   "source": [
    "cm_rfc = confusion_matrix(y_test, y_pred_rfc, labels = rfc_model.classes_)\n",
    "_, ax = plt.subplots()\n",
    "display_cm_rfc = ConfusionMatrixDisplay(confusion_matrix = cm_rfc, \n",
    "                                    display_labels = ['positive review', 'non-positive review'])\n",
    "ax.set_xticks([0, 1])\n",
    "ax.set_yticks([0, 1])\n",
    "ax.set_xticklabels(labels = ['positive review', 'non-positive review'], fontsize = 8)\n",
    "ax.set_yticklabels(labels = ['positive review', 'non-positive review'], fontsize = 8)\n",
    "display_cm_rfc.plot(ax = ax)"
   ]
  },
  {
   "cell_type": "code",
   "execution_count": 129,
   "id": "33b7f906",
   "metadata": {},
   "outputs": [
    {
     "name": "stdout",
     "output_type": "stream",
     "text": [
      "              precision    recall  f1-score   support\n",
      "\n",
      "           0       0.90      1.00      0.95      3492\n",
      "           1       0.92      0.18      0.31       448\n",
      "\n",
      "    accuracy                           0.91      3940\n",
      "   macro avg       0.91      0.59      0.63      3940\n",
      "weighted avg       0.91      0.91      0.88      3940\n",
      "\n"
     ]
    }
   ],
   "source": [
    "print(classification_report(y_test, y_pred_rfc))"
   ]
  },
  {
   "cell_type": "markdown",
   "id": "eed781d3",
   "metadata": {},
   "source": [
    "## AdaBoost Classifier Algorithm<a id='adaboost_algorithm_before_sampling'>\n",
    "     Boosting Method\n",
    "    AdaBoost - Adaptive Boosting ALgorithm"
   ]
  },
  {
   "cell_type": "code",
   "execution_count": 130,
   "id": "ef903d05",
   "metadata": {},
   "outputs": [],
   "source": [
    "from sklearn.ensemble import AdaBoostClassifier"
   ]
  },
  {
   "cell_type": "code",
   "execution_count": 134,
   "id": "9410b217",
   "metadata": {},
   "outputs": [],
   "source": [
    "# Create adaboost classifer object\n",
    "abc_model = AdaBoostClassifier(n_estimators=50, learning_rate=1, random_state=0)\n",
    "# Train Adaboost Classifer\n",
    "abc_model.fit(X_train_transformed, y_train)\n",
    "\n",
    "#Predict the response for test dataset\n",
    "y_pred_abc = abc_model.predict(X_test_transformed)"
   ]
  },
  {
   "cell_type": "code",
   "execution_count": 135,
   "id": "cc22a07d",
   "metadata": {},
   "outputs": [
    {
     "data": {
      "text/plain": [
       "<sklearn.metrics._plot.confusion_matrix.ConfusionMatrixDisplay at 0x207069d2550>"
      ]
     },
     "execution_count": 135,
     "metadata": {},
     "output_type": "execute_result"
    },
    {
     "data": {
      "image/png": "[encoded data removed]",
      "text/plain": [
       "<Figure size 450x450 with 2 Axes>"
      ]
     },
     "metadata": {
      "needs_background": "light"
     },
     "output_type": "display_data"
    }
   ],
   "source": [
    "cm_abc = confusion_matrix(y_test, y_pred_abc, labels = abc_model.classes_)\n",
    "_, ax = plt.subplots()\n",
    "display_cm_abc = ConfusionMatrixDisplay(confusion_matrix = cm_abc, \n",
    "                                    display_labels = ['positive review', 'non-positive review'])\n",
    "ax.set_xticks([0, 1])\n",
    "ax.set_yticks([0, 1])\n",
    "ax.set_xticklabels(labels = ['positive review', 'non-positive review'], fontsize = 8)\n",
    "ax.set_yticklabels(labels = ['positive review', 'non-positive review'], fontsize = 8)\n",
    "display_cm_abc.plot(ax = ax)"
   ]
  },
  {
   "cell_type": "code",
   "execution_count": 136,
   "id": "8f27ca8c",
   "metadata": {},
   "outputs": [
    {
     "name": "stdout",
     "output_type": "stream",
     "text": [
      "              precision    recall  f1-score   support\n",
      "\n",
      "           0       0.94      0.97      0.96      3492\n",
      "           1       0.71      0.50      0.59       448\n",
      "\n",
      "    accuracy                           0.92      3940\n",
      "   macro avg       0.82      0.74      0.77      3940\n",
      "weighted avg       0.91      0.92      0.91      3940\n",
      "\n"
     ]
    }
   ],
   "source": [
    "print(classification_report(y_test, y_pred_abc))"
   ]
  },
  {
   "cell_type": "markdown",
   "id": "54323e71",
   "metadata": {},
   "source": [
    "### Summary of three models - before any sampling techniques"
   ]
  },
  {
   "cell_type": "markdown",
   "id": "4ff0a633",
   "metadata": {},
   "source": [
    "<table>\n",
    "    <tr><th>Model</th><th>classes</th><th>Precision</th><th>Recall</th><th>f1-score</th><th>support</th></tr>\n",
    "   <tr><td rowspan=\"2\">Before sampling - LogisticRegression</td><td>0</td><td>0.93</td><td>0.99</td><td>0.96</td><td>3492</td></tr>\n",
    "   \n",
    "   <tr><td>1</td><td>0.81</td><td>0.46</td><td>0.59</td><td>448</td></tr>\n",
    "    <tr><th>accuracy</th><th colspan=\"4\">0.93</th><th>3940</th></tr>\n",
    "    <tr><td rowspan=\"2\">Before sampling - RandomForest</td><td>0</td><td>0.90</td><td>1.00</td><td>0.95</td><td>3492</td></tr>\n",
    "    <tr><td>1</td><td>0.92</td><td>0.18</td><td>0.31</td><td>448</td></tr>\n",
    "    <tr><th>accuracy</th><th colspan=\"4\">0.91</th><th>3940</th></tr>\n",
    "    <tr><td rowspan=\"2\">Before sampling - AdaBoost</td><td>0</td><td>0.94</td><td>0.97</td><td>0.96</td><td>3492</td></tr>\n",
    "    <tr><td>1</td><td>0.71</td><td>0.50</td><td>0.59</td><td>448</td></tr>\n",
    "    <tr><th>accuracy</th><th colspan=\"4\">0.92</th><th>3940</th></tr>  \n",
    "</table>"
   ]
  },
  {
   "cell_type": "markdown",
   "id": "169e3d88",
   "metadata": {},
   "source": [
    "WE have to increase the Recall score. For that, we need to balance our target classes. We have a hunge target imbalance where positie classes(class 0) is 89% and negative classes (class 1) is 11%. I will apply one undersampling and one oversampling technique and test it for each model and then compare their recall scores and overall predcition score."
   ]
  },
  {
   "cell_type": "markdown",
   "id": "0119b147",
   "metadata": {},
   "source": [
    "Let us apply oversampling method first. I wil use SMOTE."
   ]
  },
  {
   "cell_type": "markdown",
   "id": "62064c6b",
   "metadata": {},
   "source": [
    "## SMOTE<a id='smote'>"
   ]
  },
  {
   "cell_type": "code",
   "execution_count": 139,
   "id": "5f94b469",
   "metadata": {},
   "outputs": [],
   "source": [
    "#Binary SMOTE the training data\n",
    "sm = SMOTE(random_state=1)\n",
    "X_2_bal, y_2_bal = sm.fit_resample(X_train_transformed, y_train)"
   ]
  },
  {
   "cell_type": "code",
   "execution_count": 140,
   "id": "c2dd110e",
   "metadata": {},
   "outputs": [
    {
     "data": {
      "text/plain": [
       "0    13967\n",
       "1    13967\n",
       "Name: target_binary, dtype: int64"
      ]
     },
     "execution_count": 140,
     "metadata": {},
     "output_type": "execute_result"
    }
   ],
   "source": [
    "y_2_bal.value_counts()"
   ]
  },
  {
   "cell_type": "code",
   "execution_count": 141,
   "id": "0da4ca7e",
   "metadata": {},
   "outputs": [
    {
     "data": {
      "image/png": "[encoded data removed]",
      "text/plain": [
       "<Figure size 450x450 with 1 Axes>"
      ]
     },
     "metadata": {
      "needs_background": "light"
     },
     "output_type": "display_data"
    }
   ],
   "source": [
    "ax=y_2_bal.hist(grid=False)\n",
    "ax.set_xlabel('Target classes')\n",
    "ax.set_ylabel('Frequency')\n",
    "ax.set_title('Distribution of binary Target classes After SMOTE')\n",
    "plt.show()"
   ]
  },
  {
   "cell_type": "markdown",
   "id": "4ad1876f",
   "metadata": {},
   "source": [
    "## Fitting Logistic Regression with SMOTE<a id='logreg_smote'>"
   ]
  },
  {
   "cell_type": "code",
   "execution_count": 143,
   "id": "da2cca46",
   "metadata": {},
   "outputs": [
    {
     "name": "stdout",
     "output_type": "stream",
     "text": [
      "Score on training set: 0.9393920162467475\n",
      "Score on test set: 0.9027918781725889\n"
     ]
    }
   ],
   "source": [
    "# Fitting Logistic regression to the training set\n",
    "logreg_sm = LogisticRegression(solver='lbfgs',random_state=1)\n",
    "logreg_sm.fit(X_2_bal, y_2_bal)\n",
    "\n",
    "#predict train and test set\n",
    "\n",
    "pred_labels_sm_train_logit = logreg_sm.predict(X_2_bal)\n",
    "pred_labels_sm_logit = logreg_sm.predict(X_test_transformed)\n",
    "\n",
    "# Training score\n",
    "print(f\"Score on training set: {logreg_sm.score(X_train_transformed,y_train)}\")\n",
    "print(f\"Score on test set: {logreg_sm.score(X_test_transformed,y_test)}\")"
   ]
  },
  {
   "cell_type": "code",
   "execution_count": 144,
   "id": "fe7ab86e",
   "metadata": {},
   "outputs": [
    {
     "data": {
      "text/plain": [
       "<sklearn.metrics._plot.confusion_matrix.ConfusionMatrixDisplay at 0x20706d41040>"
      ]
     },
     "execution_count": 144,
     "metadata": {},
     "output_type": "execute_result"
    },
    {
     "data": {
      "image/png": "[encoded data removed]",
      "text/plain": [
       "<Figure size 450x450 with 2 Axes>"
      ]
     },
     "metadata": {
      "needs_background": "light"
     },
     "output_type": "display_data"
    }
   ],
   "source": [
    "cm_sm = confusion_matrix(y_test, pred_labels_sm_logit, labels = logreg_sm.classes_)\n",
    "_, ax = plt.subplots()\n",
    "display_cm_sm = ConfusionMatrixDisplay(confusion_matrix = cm_sm, \n",
    "                                    display_labels = ['positive review', 'non-positive review'])\n",
    "ax.set_xticks([0, 1])\n",
    "ax.set_yticks([0, 1])\n",
    "ax.set_xticklabels(labels = ['positive review', 'non-positive review'], fontsize = 8)\n",
    "ax.set_yticklabels(labels = ['positive review', 'non-positive review'], fontsize = 8)\n",
    "display_cm_sm.plot(ax = ax)"
   ]
  },
  {
   "cell_type": "code",
   "execution_count": 147,
   "id": "9357836d",
   "metadata": {},
   "outputs": [
    {
     "name": "stdout",
     "output_type": "stream",
     "text": [
      "              precision    recall  f1-score   support\n",
      "\n",
      "           0       0.98      0.91      0.94      3492\n",
      "           1       0.55      0.82      0.66       448\n",
      "\n",
      "    accuracy                           0.90      3940\n",
      "   macro avg       0.76      0.87      0.80      3940\n",
      "weighted avg       0.93      0.90      0.91      3940\n",
      "\n"
     ]
    }
   ],
   "source": [
    "print(classification_report(y_test, pred_labels_sm_logit))"
   ]
  },
  {
   "cell_type": "markdown",
   "id": "f67083a3",
   "metadata": {},
   "source": [
    "Based on the above results, I can say that the recall score on the test set improved by 2x from 0.46 to 0.82. Accuracy did drop a bit."
   ]
  },
  {
   "cell_type": "markdown",
   "id": "7182741e",
   "metadata": {},
   "source": [
    "## Fitting RandomForest classifier with SMOTE<a id='rfc_smote'>"
   ]
  },
  {
   "cell_type": "code",
   "execution_count": 148,
   "id": "d5b31e5e",
   "metadata": {},
   "outputs": [
    {
     "name": "stdout",
     "output_type": "stream",
     "text": [
      "Score on training set: 0.9996826807133338\n",
      "Score on test set: 0.9197969543147209\n"
     ]
    }
   ],
   "source": [
    "rfc_sm_model = RandomForestClassifier()\n",
    "rfc_sm_model.fit(X_2_bal,y_2_bal)\n",
    "y_pred_sm_rfc = rfc_sm_model.predict(X_test_transformed)\n",
    "\n",
    "# Training score\n",
    "print(f\"Score on training set: {rfc_sm_model.score(X_train_transformed,y_train)}\")\n",
    "print(f\"Score on test set: {rfc_sm_model.score(X_test_transformed,y_test)}\")"
   ]
  },
  {
   "cell_type": "code",
   "execution_count": 149,
   "id": "3fb837c2",
   "metadata": {},
   "outputs": [
    {
     "name": "stdout",
     "output_type": "stream",
     "text": [
      "              precision    recall  f1-score   support\n",
      "\n",
      "           0       0.94      0.97      0.96      3492\n",
      "           1       0.71      0.50      0.59       448\n",
      "\n",
      "    accuracy                           0.92      3940\n",
      "   macro avg       0.82      0.74      0.77      3940\n",
      "weighted avg       0.91      0.92      0.91      3940\n",
      "\n"
     ]
    }
   ],
   "source": [
    "print(classification_report(y_test, y_pred_sm_rfc))"
   ]
  },
  {
   "cell_type": "markdown",
   "id": "d64ee82d",
   "metadata": {},
   "source": [
    "Random Foret Classifier performed very good with SMOTE. Recall imporved a lot from 0.18 to 0.5 and accuracy also increased by 0.01."
   ]
  },
  {
   "cell_type": "markdown",
   "id": "17976987",
   "metadata": {},
   "source": [
    "## Fitting AdaBoost classifier with SMOTE<a id='adaboost_smote'>"
   ]
  },
  {
   "cell_type": "code",
   "execution_count": 150,
   "id": "3efb4b61",
   "metadata": {},
   "outputs": [
    {
     "name": "stdout",
     "output_type": "stream",
     "text": [
      "Score on training set: 0.8817668337881577\n",
      "Score on test set: 0.8758883248730964\n"
     ]
    }
   ],
   "source": [
    "abc_sm_model = AdaBoostClassifier(n_estimators=50, learning_rate=1, random_state=0)\n",
    "abc_sm_model.fit(X_2_bal,y_2_bal)\n",
    "y_pred_abc_sm_rfc = abc_sm_model.predict(X_test_transformed)\n",
    "\n",
    "# Training score\n",
    "print(f\"Score on training set: {abc_sm_model.score(X_train_transformed,y_train)}\")\n",
    "print(f\"Score on test set: {abc_sm_model.score(X_test_transformed,y_test)}\")"
   ]
  },
  {
   "cell_type": "code",
   "execution_count": 151,
   "id": "2a543b83",
   "metadata": {},
   "outputs": [
    {
     "name": "stdout",
     "output_type": "stream",
     "text": [
      "              precision    recall  f1-score   support\n",
      "\n",
      "           0       0.96      0.89      0.93      3492\n",
      "           1       0.47      0.74      0.58       448\n",
      "\n",
      "    accuracy                           0.88      3940\n",
      "   macro avg       0.72      0.82      0.75      3940\n",
      "weighted avg       0.91      0.88      0.89      3940\n",
      "\n"
     ]
    }
   ],
   "source": [
    "print(classification_report(y_test, y_pred_abc_sm_rfc))"
   ]
  },
  {
   "cell_type": "markdown",
   "id": "f9a40886",
   "metadata": {},
   "source": [
    "Recall certainly improved from 0.5 to 0.74. However, accuracy dropped down by 0.04 points. "
   ]
  },
  {
   "cell_type": "markdown",
   "id": "c18b27e0",
   "metadata": {},
   "source": [
    "## Undersampling<a id='undersampling'>"
   ]
  },
  {
   "cell_type": "code",
   "execution_count": 152,
   "id": "728417db",
   "metadata": {},
   "outputs": [],
   "source": [
    "\n",
    "rus = RandomUnderSampler(random_state=42)\n",
    "X_res, y_res = rus.fit_resample(X_train_transformed, y_train)"
   ]
  },
  {
   "cell_type": "code",
   "execution_count": 153,
   "id": "48e5e71b",
   "metadata": {},
   "outputs": [
    {
     "data": {
      "text/plain": [
       "0    1790\n",
       "1    1790\n",
       "Name: target_binary, dtype: int64"
      ]
     },
     "execution_count": 153,
     "metadata": {},
     "output_type": "execute_result"
    }
   ],
   "source": [
    "y_res.value_counts()"
   ]
  },
  {
   "cell_type": "code",
   "execution_count": 154,
   "id": "6aed3783",
   "metadata": {},
   "outputs": [
    {
     "data": {
      "image/png": "[encoded data removed]",
      "text/plain": [
       "<Figure size 450x450 with 1 Axes>"
      ]
     },
     "metadata": {
      "needs_background": "light"
     },
     "output_type": "display_data"
    }
   ],
   "source": [
    "ax=y_res.hist(grid=False)\n",
    "ax.set_xlabel('Target classes')\n",
    "ax.set_ylabel('Frequency')\n",
    "ax.set_title('Distribution of binary Target classes After Undersampling')\n",
    "plt.show()"
   ]
  },
  {
   "cell_type": "markdown",
   "id": "951d2170",
   "metadata": {},
   "source": [
    "## Fitting Logistic Regression with Undersampling<a id='logreg_undersample'>"
   ]
  },
  {
   "cell_type": "code",
   "execution_count": 157,
   "id": "07cc45f6",
   "metadata": {},
   "outputs": [
    {
     "name": "stdout",
     "output_type": "stream",
     "text": [
      "Score on training set: 0.8951577076854731\n",
      "Score on test set: 0.8763959390862944\n"
     ]
    }
   ],
   "source": [
    "# Fitting Logistic regression to the training set\n",
    "logreg_us = LogisticRegression(solver='lbfgs',random_state=1)\n",
    "logreg_us.fit(X_res, y_res)\n",
    "\n",
    "#predict train and test set\n",
    "\n",
    "pred_labels_us_train_logit = logreg_us.predict(X_res)\n",
    "pred_labels_us_logit = logreg_us.predict(X_test_transformed)\n",
    "\n",
    "# Training score\n",
    "print(f\"Score on training set: {logreg_us.score(X_train_transformed,y_train)}\")\n",
    "print(f\"Score on test set: {logreg_us.score(X_test_transformed,y_test)}\")"
   ]
  },
  {
   "cell_type": "code",
   "execution_count": 159,
   "id": "321bbe71",
   "metadata": {},
   "outputs": [
    {
     "data": {
      "text/plain": [
       "<sklearn.metrics._plot.confusion_matrix.ConfusionMatrixDisplay at 0x20707059b50>"
      ]
     },
     "execution_count": 159,
     "metadata": {},
     "output_type": "execute_result"
    },
    {
     "data": {
      "image/png": "[encoded data removed]",
      "text/plain": [
       "<Figure size 450x450 with 2 Axes>"
      ]
     },
     "metadata": {
      "needs_background": "light"
     },
     "output_type": "display_data"
    }
   ],
   "source": [
    "cm_us = confusion_matrix(y_test, pred_labels_us_logit, labels = logreg_us.classes_)\n",
    "_, ax = plt.subplots()\n",
    "display_cm_us = ConfusionMatrixDisplay(confusion_matrix = cm_us, \n",
    "                                    display_labels = ['positive review', 'non-positive review'])\n",
    "ax.set_xticks([0, 1])\n",
    "ax.set_yticks([0, 1])\n",
    "ax.set_xticklabels(labels = ['positive review', 'non-positive review'], fontsize = 8)\n",
    "ax.set_yticklabels(labels = ['positive review', 'non-positive review'], fontsize = 8)\n",
    "display_cm_us.plot(ax = ax)"
   ]
  },
  {
   "cell_type": "code",
   "execution_count": 158,
   "id": "0c7434d9",
   "metadata": {},
   "outputs": [
    {
     "name": "stdout",
     "output_type": "stream",
     "text": [
      "              precision    recall  f1-score   support\n",
      "\n",
      "           0       0.98      0.88      0.93      3492\n",
      "           1       0.48      0.88      0.62       448\n",
      "\n",
      "    accuracy                           0.88      3940\n",
      "   macro avg       0.73      0.88      0.77      3940\n",
      "weighted avg       0.93      0.88      0.89      3940\n",
      "\n"
     ]
    }
   ],
   "source": [
    "print(classification_report(y_test, pred_labels_us_logit))"
   ]
  },
  {
   "cell_type": "markdown",
   "id": "f3e2b091",
   "metadata": {},
   "source": [
    "## Fitting RandomForest Classifier with undersampling<a id='rfc_undersampling'>"
   ]
  },
  {
   "cell_type": "code",
   "execution_count": 160,
   "id": "314cabce",
   "metadata": {},
   "outputs": [
    {
     "name": "stdout",
     "output_type": "stream",
     "text": [
      "Score on training set: 0.8855112013708193\n",
      "Score on test set: 0.8555837563451777\n"
     ]
    }
   ],
   "source": [
    "rfc_us_model = RandomForestClassifier()\n",
    "rfc_us_model.fit(X_res,y_res)\n",
    "y_pred_us_rfc = rfc_us_model.predict(X_test_transformed)\n",
    "\n",
    "# Training score\n",
    "print(f\"Score on training set: {rfc_us_model.score(X_train_transformed,y_train)}\")\n",
    "print(f\"Score on test set: {rfc_us_model.score(X_test_transformed,y_test)}\")"
   ]
  },
  {
   "cell_type": "code",
   "execution_count": 161,
   "id": "3e7c689d",
   "metadata": {},
   "outputs": [
    {
     "name": "stdout",
     "output_type": "stream",
     "text": [
      "              precision    recall  f1-score   support\n",
      "\n",
      "           0       0.98      0.85      0.91      3492\n",
      "           1       0.43      0.88      0.58       448\n",
      "\n",
      "    accuracy                           0.86      3940\n",
      "   macro avg       0.71      0.87      0.75      3940\n",
      "weighted avg       0.92      0.86      0.88      3940\n",
      "\n"
     ]
    }
   ],
   "source": [
    "print(classification_report(y_test, y_pred_us_rfc))"
   ]
  },
  {
   "cell_type": "markdown",
   "id": "85a059e5",
   "metadata": {},
   "source": [
    "## Fitting AdaBoost Classifier with undersampling<a id='abc_undersampling'>"
   ]
  },
  {
   "cell_type": "code",
   "execution_count": 162,
   "id": "d344d90d",
   "metadata": {},
   "outputs": [
    {
     "name": "stdout",
     "output_type": "stream",
     "text": [
      "Score on training set: 0.839246049374881\n",
      "Score on test set: 0.8309644670050761\n"
     ]
    }
   ],
   "source": [
    "abc_us_model = AdaBoostClassifier(n_estimators=50, learning_rate=1, random_state=0)\n",
    "abc_us_model.fit(X_res,y_res)\n",
    "y_pred_abc_us_rfc = abc_us_model.predict(X_test_transformed)\n",
    "\n",
    "# Training score\n",
    "print(f\"Score on training set: {abc_us_model.score(X_train_transformed,y_train)}\")\n",
    "print(f\"Score on test set: {abc_us_model.score(X_test_transformed,y_test)}\")"
   ]
  },
  {
   "cell_type": "code",
   "execution_count": 163,
   "id": "a3046392",
   "metadata": {},
   "outputs": [
    {
     "name": "stdout",
     "output_type": "stream",
     "text": [
      "              precision    recall  f1-score   support\n",
      "\n",
      "           0       0.97      0.83      0.90      3492\n",
      "           1       0.39      0.83      0.53       448\n",
      "\n",
      "    accuracy                           0.83      3940\n",
      "   macro avg       0.68      0.83      0.71      3940\n",
      "weighted avg       0.91      0.83      0.86      3940\n",
      "\n"
     ]
    }
   ],
   "source": [
    "print(classification_report(y_test, y_pred_abc_us_rfc))"
   ]
  },
  {
   "cell_type": "markdown",
   "id": "e780c08c",
   "metadata": {},
   "source": [
    "## Summarized classification reports for 3 algorithms<a id='summary_charts_all'>"
   ]
  },
  {
   "cell_type": "markdown",
   "id": "39196349",
   "metadata": {},
   "source": [
    "<table>\n",
    "<tr><th>Model</th><th>Sampling Technique</th><th>classes</th><th>Precision</th><th>Recall</th><th>f1-score</th><th>support</th></tr>\n",
    "    <tr><td rowspan=\"3\">LogisticRegression</td><td>No technique(imbalanced)</td><td>1</td><td>0.81</td><td>0.46</td><td>0.59</td><td>448</td></tr>\n",
    "    <tr><td>SMOTE</td><td>1</td><td>0.55</td><td>0.82</td><td>0.66</td><td>448</td></tr>\n",
    "<tr><td>Undersampling</td><td>1</td><td>0.48</td><td>0.88</td><td>0.62</td><td>448</td></tr>\n",
    "<tr><th>accuracy before</th><th colspan=\"5\">0.93</th><th>3940</th></tr>\n",
    "<tr><th>accuracy After SMOTE</th><th colspan=\"5\">0.90</th><th>3940</th></tr>\n",
    "<tr><th>accuracy After Undersampling</th><th colspan=\"5\">0.88</th><th>3940</th></tr>\n",
    "    <tr><td rowspan=\"3\">RandomForest</td><td>No technique(imbalanced)</td><td>1</td><td>0.92</td><td>0.18</td><td>0.31</td><td>448</td></tr>\n",
    "<tr><td>SMOTE</td><td>1</td><td>0.71</td><td>0.50</td><td>0.59</td><td>448</td></tr>\n",
    "<tr><td>Undersampling</td><td>1</td><td>0.43</td><td>0.88</td><td>0.58</td><td>448</td></tr>\n",
    "<tr><th>accuracy before</th><th colspan=\"5\">0.91</th><th>3940</th></tr>\n",
    "<tr><th>accuracy After SMOTE</th><th colspan=\"5\">0.92</th><th>3940</th></tr>\n",
    "<tr><th>accuracy After Undersampling</th><th colspan=\"5\">0.86</th><th>3940</th></tr>\n",
    "    <tr><td rowspan=\"3\">AdaBoost</td><td>No technique(imbalanced)</td><td>1</td><td>0.71</td><td>0.50</td><td>0.59</td><td>448</td></tr>\n",
    "    <tr><td>SMOTE</td><td>1</td><td>0.47</td><td>0.74</td><td>0.58</td><td>448</td></tr>\n",
    "<tr><td>Undersampling</td><td>1</td><td>0.39</td><td>0.83</td><td>0.53</td><td>448</td></tr>\n",
    "<tr><th>accuracy before</th><th colspan=\"5\">0.92</th><th>3940</th></tr> \n",
    "<tr><th>accuracy After SMOTE</th><th colspan=\"5\">0.88</th><th>3940</th></tr>\n",
    "<tr><th>accuracy After Undersampling</th><th colspan=\"5\">0.83</th><th>3940</th></tr>\n",
    "\n",
    "\n",
    "</table>"
   ]
  },
  {
   "cell_type": "markdown",
   "id": "e596f85a",
   "metadata": {},
   "source": [
    "Based on the above observations, SMOTE seems to be a better choice for resampling. Regarding Model, RandomForest and LogisticRegression are performing well in their accuracy score. "
   ]
  },
  {
   "cell_type": "code",
   "execution_count": null,
   "id": "36a8bdb0",
   "metadata": {},
   "outputs": [],
   "source": []
  }
 ],
 "metadata": {
  "kernelspec": {
   "display_name": "Python 3 (ipykernel)",
   "language": "python",
   "name": "python3"
  },
  "language_info": {
   "codemirror_mode": {
    "name": "ipython",
    "version": 3
   },
   "file_extension": ".py",
   "mimetype": "text/x-python",
   "name": "python",
   "nbconvert_exporter": "python",
   "pygments_lexer": "ipython3",
   "version": "3.9.12"
  }
 },
 "nbformat": 4,
 "nbformat_minor": 5
}
